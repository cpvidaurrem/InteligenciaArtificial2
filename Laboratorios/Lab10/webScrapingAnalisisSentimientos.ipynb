{
 "cells": [
  {
   "cell_type": "code",
   "execution_count": null,
   "metadata": {},
   "outputs": [],
   "source": [
    "import requests # libreria para hacer peticiones http\n",
    "from bs4 import BeautifulSoup # libreria para hacer web scraping"
   ]
  },
  {
   "cell_type": "code",
   "execution_count": null,
   "metadata": {},
   "outputs": [],
   "source": [
    "# URL del sitio web\n",
    "url = \"http://quotes.toscrape.com/\" # URL de la página web que se analizara\n",
    "\n",
    "response = requests.get(url) # Realizar la solicitud HTTP a la URL\n",
    "\n",
    "# Analizar el HTML de la página\n",
    "soup = BeautifulSoup(response.text, 'html.parser') "
   ]
  },
  {
   "cell_type": "code",
   "execution_count": null,
   "metadata": {},
   "outputs": [
    {
     "name": "stdout",
     "output_type": "stream",
     "text": [
      "Cita: “The world as we have created it is a process of our thinking. It cannot be changed without changing our thinking.”\n",
      "Autor: Albert Einstein\n",
      "\n",
      "Cita: “It is our choices, Harry, that show what we truly are, far more than our abilities.”\n",
      "Autor: J.K. Rowling\n",
      "\n",
      "Cita: “There are only two ways to live your life. One is as though nothing is a miracle. The other is as though everything is a miracle.”\n",
      "Autor: Albert Einstein\n",
      "\n",
      "Cita: “The person, be it gentleman or lady, who has not pleasure in a good novel, must be intolerably stupid.”\n",
      "Autor: Jane Austen\n",
      "\n",
      "Cita: “Imperfection is beauty, madness is genius and it's better to be absolutely ridiculous than absolutely boring.”\n",
      "Autor: Marilyn Monroe\n",
      "\n",
      "Cita: “Try not to become a man of success. Rather become a man of value.”\n",
      "Autor: Albert Einstein\n",
      "\n",
      "Cita: “It is better to be hated for what you are than to be loved for what you are not.”\n",
      "Autor: André Gide\n",
      "\n",
      "Cita: “I have not failed. I've just found 10,000 ways that won't work.”\n",
      "Autor: Thomas A. Edison\n",
      "\n",
      "Cita: “A woman is like a tea bag; you never know how strong it is until it's in hot water.”\n",
      "Autor: Eleanor Roosevelt\n",
      "\n",
      "Cita: “A day without sunshine is like, you know, night.”\n",
      "Autor: Steve Martin\n",
      "\n"
     ]
    }
   ],
   "source": [
    "# Encontrar las citas y sus autores\n",
    "citas = soup.find_all('span', class_='text')  # Etiqueta que contiene la cita\n",
    "autores = soup.find_all('small', class_='author')  # Etiqueta que contiene el autor\n",
    "\n",
    "texto_citas = [cita.get_text(strip=True) for cita in citas] # extrae el texto de las citas y lo guarda en una lista\n",
    "autores_citas = [autor.get_text(strip=True) for autor in autores] # extrae el texto de los autores y lo guarda en una lista\n",
    "\n",
    "# Mostrar resultados\n",
    "for cita, autor in zip(texto_citas, autores_citas):\n",
    "    print(f\"Cita: {cita}\\nAutor: {autor}\\n\")"
   ]
  },
  {
   "cell_type": "code",
   "execution_count": null,
   "metadata": {},
   "outputs": [
    {
     "name": "stderr",
     "output_type": "stream",
     "text": [
      "[nltk_data] Downloading package punkt to\n",
      "[nltk_data]     C:\\Users\\CHRISTIAN\\AppData\\Roaming\\nltk_data...\n",
      "[nltk_data]   Unzipping tokenizers\\punkt.zip.\n"
     ]
    },
    {
     "data": {
      "text/plain": [
       "True"
      ]
     },
     "execution_count": 4,
     "metadata": {},
     "output_type": "execute_result"
    }
   ],
   "source": [
    "import nltk # libreria para procesamiento de lenguaje natural\n",
    "nltk.download('punkt') # Descargar el tokenizador de oraciones"
   ]
  },
  {
   "cell_type": "code",
   "execution_count": null,
   "metadata": {},
   "outputs": [
    {
     "name": "stdout",
     "output_type": "stream",
     "text": [
      "Cita: “The world as we have created it is a process of our thinking. It cannot be changed without changing our thinking.”\n",
      "Sentimiento: Neutral\n",
      "\n",
      "Cita: “It is our choices, Harry, that show what we truly are, far more than our abilities.”\n",
      "Sentimiento: Positivo\n",
      "\n",
      "Cita: “There are only two ways to live your life. One is as though nothing is a miracle. The other is as though everything is a miracle.”\n",
      "Sentimiento: Positivo\n",
      "\n",
      "Cita: “The person, be it gentleman or lady, who has not pleasure in a good novel, must be intolerably stupid.”\n",
      "Sentimiento: Negativo\n",
      "\n",
      "Cita: “Imperfection is beauty, madness is genius and it's better to be absolutely ridiculous than absolutely boring.”\n",
      "Sentimiento: Negativo\n",
      "\n",
      "Cita: “Try not to become a man of success. Rather become a man of value.”\n",
      "Sentimiento: Positivo\n",
      "\n",
      "Cita: “It is better to be hated for what you are than to be loved for what you are not.”\n",
      "Sentimiento: Positivo\n",
      "\n",
      "Cita: “I have not failed. I've just found 10,000 ways that won't work.”\n",
      "Sentimiento: Positivo\n",
      "\n",
      "Cita: “A woman is like a tea bag; you never know how strong it is until it's in hot water.”\n",
      "Sentimiento: Positivo\n",
      "\n",
      "Cita: “A day without sunshine is like, you know, night.”\n",
      "Sentimiento: Neutral\n",
      "\n"
     ]
    }
   ],
   "source": [
    "from textblob import TextBlob # libreria para procesar texto en lenguaje natural (NLP)\n",
    "\n",
    "def analizar_sentimiento(texto): # Función para analizar el sentimiento de un texto\n",
    "    blob = TextBlob(texto) # Crear un objeto TextBlob con el texto de la cita \n",
    "    sentimiento = blob.sentiment.polarity  # Valor entre -1 (negativo) y 1 (positivo)\n",
    "    return \"Positivo\" if sentimiento > 0 else \"Negativo\" if sentimiento < 0 else \"Neutral\"\n",
    "\n",
    "# Analizar los sentimientos de cada cita\n",
    "sentimientos = [analizar_sentimiento(cita) for cita in texto_citas]\n",
    "\n",
    "# Mostrar resultados\n",
    "for cita, sentimiento in zip(texto_citas, sentimientos):\n",
    "    print(f\"Cita: {cita}\\nSentimiento: {sentimiento}\\n\")"
   ]
  }
 ],
 "metadata": {
  "kernelspec": {
   "display_name": "entorno_Pytorch",
   "language": "python",
   "name": "python3"
  },
  "language_info": {
   "codemirror_mode": {
    "name": "ipython",
    "version": 3
   },
   "file_extension": ".py",
   "mimetype": "text/x-python",
   "name": "python",
   "nbconvert_exporter": "python",
   "pygments_lexer": "ipython3",
   "version": "3.10.11"
  }
 },
 "nbformat": 4,
 "nbformat_minor": 2
}
