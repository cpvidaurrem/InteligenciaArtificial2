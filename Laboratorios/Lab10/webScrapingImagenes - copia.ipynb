{
 "cells": [
  {
   "cell_type": "markdown",
   "metadata": {},
   "source": [
    "WEB SCRAPING PARA RECOLECTAR IMAGENES"
   ]
  },
  {
   "cell_type": "code",
   "execution_count": null,
   "metadata": {},
   "outputs": [],
   "source": [
    "from googlesearch import search # libreria para hacer busquedas en google\n",
    "import os # libreria para interactuar con el sistema operativo\n",
    "import requests # libreria para hacer peticiones http\n",
    "from bs4 import BeautifulSoup # libreria para hacer web scraping\n",
    "from tqdm import tqdm # libreria para mostrar barras de progreso\n",
    "from sklearn.model_selection import train_test_split # libreria para dividir los datos en entrenamiento y prueba\n",
    "from concurrent.futures import ThreadPoolExecutor # libreria para hacer peticiones http de manera concurrente\n",
    "from PIL import Image # libreria para trabajar con imagenes\n",
    "from io import BytesIO # libreria para trabajar con bytes \n",
    "import random # libreria para generar numeros aleatorios\n",
    "import shutil # libreria para trabajar con archivos y directorios\n",
    "import time # libreria para trabajar con el tiempo"
   ]
  },
  {
   "cell_type": "code",
   "execution_count": null,
   "metadata": {},
   "outputs": [],
   "source": [
    "# Define los nombres de las clases\n",
    "clases = [\"cactus\", \"cilantro\", \"eucalipto\", \"girasol\", \"hierbabuena\", \"manzanilla\", \"rosa\"]"
   ]
  },
  {
   "cell_type": "code",
   "execution_count": 3,
   "metadata": {},
   "outputs": [],
   "source": [
    "# Directorio base del dataset\n",
    "DATASET_DIR = r\"C:\\NC\\Universidad\\6° Semestre\\SIS421 (INTELIGENCIA ARTIFICIAL II)\\Notebooks\\medicinal_plants_project\\notebooks\\WebScraping\\datasetImagenes\"\n",
    "TRAIN_DIR = os.path.join(DATASET_DIR, \"train\")\n",
    "VAL_DIR = os.path.join(DATASET_DIR, \"val\")\n",
    "\n",
    "IMAGENES_POR_CLASE = 50  # Número máximo de imágenes por clase"
   ]
  },
  {
   "cell_type": "code",
   "execution_count": 4,
   "metadata": {},
   "outputs": [],
   "source": [
    "# Crear estructura de directorios\n",
    "def crear_estructura_directorios(base_dir, clases):\n",
    "    for split in [\"train\", \"val\"]:\n",
    "        split_dir = os.path.join(base_dir, split)\n",
    "        os.makedirs(split_dir, exist_ok=True)\n",
    "        for clase in clases:\n",
    "            os.makedirs(os.path.join(split_dir, clase), exist_ok=True)\n",
    "\n",
    "crear_estructura_directorios(DATASET_DIR, clases)"
   ]
  },
  {
   "cell_type": "code",
   "execution_count": null,
   "metadata": {},
   "outputs": [],
   "source": [
    "# Obtener URLs de Google para cada clase\n",
    "def obtener_urls_google(clase, num_paginas=3):\n",
    "    \"\"\"\n",
    "    Busca URLs de páginas relacionadas con una clase usando Google Search.\n",
    "    \"\"\"\n",
    "    query = f\"{clase} planta imagen\"  # Consulta de búsqueda\n",
    "    urls = []\n",
    "\n",
    "    for url in search(query, num_results=num_paginas * 10, lang=\"es\"): # Buscar en Google y obtener los primeros 10 resultados\n",
    "        urls.append(url) # Agregar URL a la lista\n",
    "        \n",
    "        # Agregar un retraso entre las solicitudes para evitar bloqueo por parte de Google\n",
    "        time.sleep(3)  # 3 segundos de retraso, puedes ajustar según sea necesario\n",
    "\n",
    "    return urls"
   ]
  },
  {
   "cell_type": "code",
   "execution_count": null,
   "metadata": {},
   "outputs": [],
   "source": [
    "# Descargar imágenes desde URLs específicas\n",
    "def descargar_imagen(url, clase, carpeta_destino):\n",
    "    \"\"\"\n",
    "    Descarga y guarda una imagen si cumple con los requisitos.\n",
    "    \"\"\"\n",
    "    try:\n",
    "        #headers = {\"User-Agent\": \"Mozilla/5.0\"}\n",
    "        headers = {\"User-Agent\": \"Mozilla/5.0 (Windows NT 10.0; Win64; x64) AppleWebKit/537.36 (KHTML, like Gecko) Chrome/91.0.4472.124 Safari/537.36\" }\n",
    "        #web scraping\n",
    "        response = requests.get(url, headers=headers, timeout=10) # Realizar petición GET\n",
    "        if response.status_code == 200:\n",
    "            img = Image.open(BytesIO(response.content)) # Abrir la imagen desde los bytes de la respuesta\n",
    "            if img.format in [\"JPEG\", \"PNG\"] and min(img.size) > 200:  # Filtrar imágenes pequeñas\n",
    "                ruta_destino = os.path.join(carpeta_destino, f\"{clase}_{random.randint(10000, 99999)}.jpg\")\n",
    "                img.save(ruta_destino)\n",
    "                return ruta_destino\n",
    "    except Exception as e:\n",
    "        print(f\"Error al descargar {url}: {e}\")\n",
    "    return None"
   ]
  },
  {
   "cell_type": "code",
   "execution_count": null,
   "metadata": {},
   "outputs": [],
   "source": [
    "# Extraer imágenes desde múltiples URLs\n",
    "def extraer_imagenes(urls, clase, carpeta_destino, max_imagenes):\n",
    "    \"\"\"\n",
    "    Extrae imágenes de una lista de URLs hasta alcanzar el número máximo especificado.\n",
    "    \"\"\"\n",
    "    headers = {\"User-Agent\": \"Mozilla/5.0\"}\n",
    "    rutas_guardadas = []\n",
    "    with ThreadPoolExecutor(max_workers=10) as executor: # Crear un grupo de subprocesos\n",
    "        for url in urls:\n",
    "            try:\n",
    "                #web scraping\n",
    "                response = requests.get(url, headers=headers, timeout=10)\n",
    "                soup = BeautifulSoup(response.content, \"html.parser\")\n",
    "                imagenes = soup.find_all(\"img\")\n",
    "                tareas = [\n",
    "                    executor.submit(descargar_imagen, img.get(\"src\"), clase, carpeta_destino)\n",
    "                    for img in imagenes if img.get(\"src\")\n",
    "                ]\n",
    "                for tarea in tqdm(tareas, desc=f\"Procesando imágenes de {url}\"):\n",
    "                    resultado = tarea.result()\n",
    "                    if resultado:\n",
    "                        rutas_guardadas.append(resultado)\n",
    "                        if len(rutas_guardadas) >= max_imagenes:\n",
    "                            break\n",
    "                if len(rutas_guardadas) >= max_imagenes:\n",
    "                    break\n",
    "            except Exception as e:\n",
    "                print(f\"Error procesando {url}: {e}\")\n",
    "    return rutas_guardadas"
   ]
  },
  {
   "cell_type": "code",
   "execution_count": null,
   "metadata": {},
   "outputs": [],
   "source": [
    "# Dividir datos en entrenamiento y validación, y organizarlos\n",
    "def dividir_y_organizar_datos(clases, max_imagenes):\n",
    "    \"\"\"\n",
    "    Descarga imágenes para cada clase, las divide en conjuntos de entrenamiento\n",
    "    y validación, y las organiza en carpetas correspondientes.\n",
    "    \"\"\"\n",
    "    for clase in clases:\n",
    "        print(f\"Buscando imágenes para la clase: {clase}\")\n",
    "        urls = obtener_urls_google(clase) # Obtener URLs de Google\n",
    "        carpeta_temp = f\"{clase}_temp\" \n",
    "        os.makedirs(carpeta_temp, exist_ok=True)\n",
    "\n",
    "        # Descargar imágenes hasta alcanzar el límite\n",
    "        imagenes_descargadas = extraer_imagenes(urls, clase, carpeta_temp, max_imagenes=max_imagenes)\n",
    "\n",
    "        # Verificar si se descargaron imágenes\n",
    "        if not imagenes_descargadas:\n",
    "            print(f\"Advertencia: No se encontraron imágenes para la clase '{clase}'.\")\n",
    "            shutil.rmtree(carpeta_temp)\n",
    "            continue  # Saltar a la siguiente clase\n",
    "\n",
    "        # Dividir en train y val\n",
    "        train_imgs, val_imgs = train_test_split(imagenes_descargadas, test_size=0.2, random_state=42)\n",
    "\n",
    "        # Mover imágenes a carpetas finales\n",
    "        train_clase_dir = os.path.join(TRAIN_DIR, clase)\n",
    "        val_clase_dir = os.path.join(VAL_DIR, clase)\n",
    "        for img_path in train_imgs:\n",
    "            os.rename(img_path, os.path.join(train_clase_dir, os.path.basename(img_path)))\n",
    "        for img_path in val_imgs:\n",
    "            os.rename(img_path, os.path.join(val_clase_dir, os.path.basename(img_path)))\n",
    "\n",
    "        # Eliminar carpeta temporal de manera recursiva\n",
    "        shutil.rmtree(carpeta_temp)\n",
    "        print(f\"Clase '{clase}' completada: {len(train_imgs)} para entrenamiento, {len(val_imgs)} para validación.\")"
   ]
  },
  {
   "cell_type": "code",
   "execution_count": 9,
   "metadata": {},
   "outputs": [
    {
     "name": "stdout",
     "output_type": "stream",
     "text": [
      "Buscando imágenes para la clase: cactus\n",
      "Error procesando https://depositphotos.com/es/photos/cactus.html: HTTPSConnectionPool(host='depositphotos.com', port=443): Max retries exceeded with url: /es/photos/cactus.html (Caused by ConnectTimeoutError(<urllib3.connection.HTTPSConnection object at 0x0000022030FCC760>, 'Connection to depositphotos.com timed out. (connect timeout=10)'))\n",
      "Error procesando https://es.123rf.com/imagenes-de-archivo/cactus.html: HTTPSConnectionPool(host='es.123rf.com', port=443): Read timed out. (read timeout=10)\n",
      "Error al descargar data:image/png;base64,iVBORw0KGgoAAAANSUhEUgAAAAEAAAABCAQAAAC1HAwCAAAAC0lEQVQYV2NgYAAAAAMAAWgmWQ0AAAAASUVORK5CYII=: No connection adapters were found for 'data:image/png;base64,iVBORw0KGgoAAAANSUhEUgAAAAEAAAABCAQAAAC1HAwCAAAAC0lEQVQYV2NgYAAAAAMAAWgmWQ0AAAAASUVORK5CYII='Error al descargar data:image/png;base64,iVBORw0KGgoAAAANSUhEUgAAAAEAAAABCAQAAAC1HAwCAAAAC0lEQVQYV2NgYAAAAAMAAWgmWQ0AAAAASUVORK5CYII=: No connection adapters were found for 'data:image/png;base64,iVBORw0KGgoAAAANSUhEUgAAAAEAAAABCAQAAAC1HAwCAAAAC0lEQVQYV2NgYAAAAAMAAWgmWQ0AAAAASUVORK5CYII='\n",
      "\n",
      "Error al descargar data:image/png;base64,iVBORw0KGgoAAAANSUhEUgAAAAEAAAABCAQAAAC1HAwCAAAAC0lEQVQYV2NgYAAAAAMAAWgmWQ0AAAAASUVORK5CYII=: No connection adapters were found for 'data:image/png;base64,iVBORw0KGgoAAAANSUhEUgAAAAEAAAABCAQAAAC1HAwCAAAAC0lEQVQYV2NgYAAAAAMAAWgmWQ0AAAAASUVORK5CYII='\n",
      "Error al descargar data:image/png;base64,iVBORw0KGgoAAAANSUhEUgAAAAEAAAABCAQAAAC1HAwCAAAAC0lEQVQYV2NgYAAAAAMAAWgmWQ0AAAAASUVORK5CYII=: No connection adapters were found for 'data:image/png;base64,iVBORw0KGgoAAAANSUhEUgAAAAEAAAABCAQAAAC1HAwCAAAAC0lEQVQYV2NgYAAAAAMAAWgmWQ0AAAAASUVORK5CYII='\n",
      "Error al descargar data:image/png;base64,iVBORw0KGgoAAAANSUhEUgAAAAEAAAABCAQAAAC1HAwCAAAAC0lEQVQYV2NgYAAAAAMAAWgmWQ0AAAAASUVORK5CYII=: No connection adapters were found for 'data:image/png;base64,iVBORw0KGgoAAAANSUhEUgAAAAEAAAABCAQAAAC1HAwCAAAAC0lEQVQYV2NgYAAAAAMAAWgmWQ0AAAAASUVORK5CYII='\n",
      "Error al descargar data:image/png;base64,iVBORw0KGgoAAAANSUhEUgAAAAEAAAABCAQAAAC1HAwCAAAAC0lEQVQYV2NgYAAAAAMAAWgmWQ0AAAAASUVORK5CYII=: No connection adapters were found for 'data:image/png;base64,iVBORw0KGgoAAAANSUhEUgAAAAEAAAABCAQAAAC1HAwCAAAAC0lEQVQYV2NgYAAAAAMAAWgmWQ0AAAAASUVORK5CYII='\n",
      "Error al descargar data:image/png;base64,iVBORw0KGgoAAAANSUhEUgAAAAEAAAABCAQAAAC1HAwCAAAAC0lEQVQYV2NgYAAAAAMAAWgmWQ0AAAAASUVORK5CYII=: No connection adapters were found for 'data:image/png;base64,iVBORw0KGgoAAAANSUhEUgAAAAEAAAABCAQAAAC1HAwCAAAAC0lEQVQYV2NgYAAAAAMAAWgmWQ0AAAAASUVORK5CYII='\n",
      "Error al descargar data:image/png;base64,iVBORw0KGgoAAAANSUhEUgAAAAEAAAABCAQAAAC1HAwCAAAAC0lEQVQYV2NgYAAAAAMAAWgmWQ0AAAAASUVORK5CYII=: No connection adapters were found for 'data:image/png;base64,iVBORw0KGgoAAAANSUhEUgAAAAEAAAABCAQAAAC1HAwCAAAAC0lEQVQYV2NgYAAAAAMAAWgmWQ0AAAAASUVORK5CYII='\n",
      "Error al descargar data:image/png;base64,iVBORw0KGgoAAAANSUhEUgAAAAEAAAABCAQAAAC1HAwCAAAAC0lEQVQYV2NgYAAAAAMAAWgmWQ0AAAAASUVORK5CYII=: No connection adapters were found for 'data:image/png;base64,iVBORw0KGgoAAAANSUhEUgAAAAEAAAABCAQAAAC1HAwCAAAAC0lEQVQYV2NgYAAAAAMAAWgmWQ0AAAAASUVORK5CYII='\n",
      "Error al descargar data:image/png;base64,iVBORw0KGgoAAAANSUhEUgAAAAEAAAABCAQAAAC1HAwCAAAAC0lEQVQYV2NgYAAAAAMAAWgmWQ0AAAAASUVORK5CYII=: No connection adapters were found for 'data:image/png;base64,iVBORw0KGgoAAAANSUhEUgAAAAEAAAABCAQAAAC1HAwCAAAAC0lEQVQYV2NgYAAAAAMAAWgmWQ0AAAAASUVORK5CYII='\n",
      "Error al descargar data:image/png;base64,iVBORw0KGgoAAAANSUhEUgAAAAEAAAABCAQAAAC1HAwCAAAAC0lEQVQYV2NgYAAAAAMAAWgmWQ0AAAAASUVORK5CYII=: No connection adapters were found for 'data:image/png;base64,iVBORw0KGgoAAAANSUhEUgAAAAEAAAABCAQAAAC1HAwCAAAAC0lEQVQYV2NgYAAAAAMAAWgmWQ0AAAAASUVORK5CYII='\n",
      "Error al descargar data:image/png;base64,iVBORw0KGgoAAAANSUhEUgAAAAEAAAABCAQAAAC1HAwCAAAAC0lEQVQYV2NgYAAAAAMAAWgmWQ0AAAAASUVORK5CYII=: No connection adapters were found for 'data:image/png;base64,iVBORw0KGgoAAAANSUhEUgAAAAEAAAABCAQAAAC1HAwCAAAAC0lEQVQYV2NgYAAAAAMAAWgmWQ0AAAAASUVORK5CYII='\n",
      "Error al descargar data:image/png;base64,iVBORw0KGgoAAAANSUhEUgAAAAEAAAABCAQAAAC1HAwCAAAAC0lEQVQYV2NgYAAAAAMAAWgmWQ0AAAAASUVORK5CYII=: No connection adapters were found for 'data:image/png;base64,iVBORw0KGgoAAAANSUhEUgAAAAEAAAABCAQAAAC1HAwCAAAAC0lEQVQYV2NgYAAAAAMAAWgmWQ0AAAAASUVORK5CYII='\n",
      "Error al descargar data:image/png;base64,iVBORw0KGgoAAAANSUhEUgAAAAEAAAABCAQAAAC1HAwCAAAAC0lEQVQYV2NgYAAAAAMAAWgmWQ0AAAAASUVORK5CYII=: No connection adapters were found for 'data:image/png;base64,iVBORw0KGgoAAAANSUhEUgAAAAEAAAABCAQAAAC1HAwCAAAAC0lEQVQYV2NgYAAAAAMAAWgmWQ0AAAAASUVORK5CYII='\n",
      "Error al descargar data:image/png;base64,iVBORw0KGgoAAAANSUhEUgAAAAEAAAABCAQAAAC1HAwCAAAAC0lEQVQYV2NgYAAAAAMAAWgmWQ0AAAAASUVORK5CYII=: No connection adapters were found for 'data:image/png;base64,iVBORw0KGgoAAAANSUhEUgAAAAEAAAABCAQAAAC1HAwCAAAAC0lEQVQYV2NgYAAAAAMAAWgmWQ0AAAAASUVORK5CYII='\n",
      "Error al descargar data:image/png;base64,iVBORw0KGgoAAAANSUhEUgAAAAEAAAABCAQAAAC1HAwCAAAAC0lEQVQYV2NgYAAAAAMAAWgmWQ0AAAAASUVORK5CYII=: No connection adapters were found for 'data:image/png;base64,iVBORw0KGgoAAAANSUhEUgAAAAEAAAABCAQAAAC1HAwCAAAAC0lEQVQYV2NgYAAAAAMAAWgmWQ0AAAAASUVORK5CYII='\n",
      "Error al descargar data:image/png;base64,iVBORw0KGgoAAAANSUhEUgAAAAEAAAABCAQAAAC1HAwCAAAAC0lEQVQYV2NgYAAAAAMAAWgmWQ0AAAAASUVORK5CYII=: No connection adapters were found for 'data:image/png;base64,iVBORw0KGgoAAAANSUhEUgAAAAEAAAABCAQAAAC1HAwCAAAAC0lEQVQYV2NgYAAAAAMAAWgmWQ0AAAAASUVORK5CYII='\n",
      "Error al descargar data:image/png;base64,iVBORw0KGgoAAAANSUhEUgAAAAEAAAABCAQAAAC1HAwCAAAAC0lEQVQYV2NgYAAAAAMAAWgmWQ0AAAAASUVORK5CYII=: No connection adapters were found for 'data:image/png;base64,iVBORw0KGgoAAAANSUhEUgAAAAEAAAABCAQAAAC1HAwCAAAAC0lEQVQYV2NgYAAAAAMAAWgmWQ0AAAAASUVORK5CYII='\n",
      "Error al descargar data:image/png;base64,iVBORw0KGgoAAAANSUhEUgAAAAEAAAABCAQAAAC1HAwCAAAAC0lEQVQYV2NgYAAAAAMAAWgmWQ0AAAAASUVORK5CYII=: No connection adapters were found for 'data:image/png;base64,iVBORw0KGgoAAAANSUhEUgAAAAEAAAABCAQAAAC1HAwCAAAAC0lEQVQYV2NgYAAAAAMAAWgmWQ0AAAAASUVORK5CYII='\n",
      "Error al descargar data:image/png;base64,iVBORw0KGgoAAAANSUhEUgAAAAEAAAABCAQAAAC1HAwCAAAAC0lEQVQYV2NgYAAAAAMAAWgmWQ0AAAAASUVORK5CYII=: No connection adapters were found for 'data:image/png;base64,iVBORw0KGgoAAAANSUhEUgAAAAEAAAABCAQAAAC1HAwCAAAAC0lEQVQYV2NgYAAAAAMAAWgmWQ0AAAAASUVORK5CYII='\n",
      "Error al descargar data:image/png;base64,iVBORw0KGgoAAAANSUhEUgAAAAEAAAABCAQAAAC1HAwCAAAAC0lEQVQYV2NgYAAAAAMAAWgmWQ0AAAAASUVORK5CYII=: No connection adapters were found for 'data:image/png;base64,iVBORw0KGgoAAAANSUhEUgAAAAEAAAABCAQAAAC1HAwCAAAAC0lEQVQYV2NgYAAAAAMAAWgmWQ0AAAAASUVORK5CYII='\n",
      "Error al descargar data:image/png;base64,iVBORw0KGgoAAAANSUhEUgAAAAEAAAABCAQAAAC1HAwCAAAAC0lEQVQYV2NgYAAAAAMAAWgmWQ0AAAAASUVORK5CYII=: No connection adapters were found for 'data:image/png;base64,iVBORw0KGgoAAAANSUhEUgAAAAEAAAABCAQAAAC1HAwCAAAAC0lEQVQYV2NgYAAAAAMAAWgmWQ0AAAAASUVORK5CYII='\n",
      "Error al descargar data:image/png;base64,iVBORw0KGgoAAAANSUhEUgAAAAEAAAABCAQAAAC1HAwCAAAAC0lEQVQYV2NgYAAAAAMAAWgmWQ0AAAAASUVORK5CYII=: No connection adapters were found for 'data:image/png;base64,iVBORw0KGgoAAAANSUhEUgAAAAEAAAABCAQAAAC1HAwCAAAAC0lEQVQYV2NgYAAAAAMAAWgmWQ0AAAAASUVORK5CYII='\n",
      "Error al descargar data:image/png;base64,iVBORw0KGgoAAAANSUhEUgAAAAEAAAABCAQAAAC1HAwCAAAAC0lEQVQYV2NgYAAAAAMAAWgmWQ0AAAAASUVORK5CYII=: No connection adapters were found for 'data:image/png;base64,iVBORw0KGgoAAAANSUhEUgAAAAEAAAABCAQAAAC1HAwCAAAAC0lEQVQYV2NgYAAAAAMAAWgmWQ0AAAAASUVORK5CYII='\n",
      "Error al descargar data:image/png;base64,iVBORw0KGgoAAAANSUhEUgAAAAEAAAABCAQAAAC1HAwCAAAAC0lEQVQYV2NgYAAAAAMAAWgmWQ0AAAAASUVORK5CYII=: No connection adapters were found for 'data:image/png;base64,iVBORw0KGgoAAAANSUhEUgAAAAEAAAABCAQAAAC1HAwCAAAAC0lEQVQYV2NgYAAAAAMAAWgmWQ0AAAAASUVORK5CYII='\n",
      "Error al descargar data:image/png;base64,iVBORw0KGgoAAAANSUhEUgAAAAEAAAABCAQAAAC1HAwCAAAAC0lEQVQYV2NgYAAAAAMAAWgmWQ0AAAAASUVORK5CYII=: No connection adapters were found for 'data:image/png;base64,iVBORw0KGgoAAAANSUhEUgAAAAEAAAABCAQAAAC1HAwCAAAAC0lEQVQYV2NgYAAAAAMAAWgmWQ0AAAAASUVORK5CYII='\n",
      "Error al descargar data:image/png;base64,iVBORw0KGgoAAAANSUhEUgAAAAEAAAABCAQAAAC1HAwCAAAAC0lEQVQYV2NgYAAAAAMAAWgmWQ0AAAAASUVORK5CYII=: No connection adapters were found for 'data:image/png;base64,iVBORw0KGgoAAAANSUhEUgAAAAEAAAABCAQAAAC1HAwCAAAAC0lEQVQYV2NgYAAAAAMAAWgmWQ0AAAAASUVORK5CYII='\n",
      "Error al descargar data:image/png;base64,iVBORw0KGgoAAAANSUhEUgAAAAEAAAABCAQAAAC1HAwCAAAAC0lEQVQYV2NgYAAAAAMAAWgmWQ0AAAAASUVORK5CYII=: No connection adapters were found for 'data:image/png;base64,iVBORw0KGgoAAAANSUhEUgAAAAEAAAABCAQAAAC1HAwCAAAAC0lEQVQYV2NgYAAAAAMAAWgmWQ0AAAAASUVORK5CYII='\n",
      "Error al descargar data:image/png;base64,iVBORw0KGgoAAAANSUhEUgAAAAEAAAABCAQAAAC1HAwCAAAAC0lEQVQYV2NgYAAAAAMAAWgmWQ0AAAAASUVORK5CYII=: No connection adapters were found for 'data:image/png;base64,iVBORw0KGgoAAAANSUhEUgAAAAEAAAABCAQAAAC1HAwCAAAAC0lEQVQYV2NgYAAAAAMAAWgmWQ0AAAAASUVORK5CYII='\n",
      "Error al descargar data:image/png;base64,iVBORw0KGgoAAAANSUhEUgAAAAEAAAABCAQAAAC1HAwCAAAAC0lEQVQYV2NgYAAAAAMAAWgmWQ0AAAAASUVORK5CYII=: No connection adapters were found for 'data:image/png;base64,iVBORw0KGgoAAAANSUhEUgAAAAEAAAABCAQAAAC1HAwCAAAAC0lEQVQYV2NgYAAAAAMAAWgmWQ0AAAAASUVORK5CYII='\n",
      "Error al descargar data:image/png;base64,iVBORw0KGgoAAAANSUhEUgAAAAEAAAABCAQAAAC1HAwCAAAAC0lEQVQYV2NgYAAAAAMAAWgmWQ0AAAAASUVORK5CYII=: No connection adapters were found for 'data:image/png;base64,iVBORw0KGgoAAAANSUhEUgAAAAEAAAABCAQAAAC1HAwCAAAAC0lEQVQYV2NgYAAAAAMAAWgmWQ0AAAAASUVORK5CYII='\n",
      "Error al descargar data:image/png;base64,iVBORw0KGgoAAAANSUhEUgAAAAEAAAABCAQAAAC1HAwCAAAAC0lEQVQYV2NgYAAAAAMAAWgmWQ0AAAAASUVORK5CYII=: No connection adapters were found for 'data:image/png;base64,iVBORw0KGgoAAAANSUhEUgAAAAEAAAABCAQAAAC1HAwCAAAAC0lEQVQYV2NgYAAAAAMAAWgmWQ0AAAAASUVORK5CYII='\n",
      "Error al descargar data:image/png;base64,iVBORw0KGgoAAAANSUhEUgAAAAEAAAABCAQAAAC1HAwCAAAAC0lEQVQYV2NgYAAAAAMAAWgmWQ0AAAAASUVORK5CYII=: No connection adapters were found for 'data:image/png;base64,iVBORw0KGgoAAAANSUhEUgAAAAEAAAABCAQAAAC1HAwCAAAAC0lEQVQYV2NgYAAAAAMAAWgmWQ0AAAAASUVORK5CYII='\n",
      "Error al descargar data:image/png;base64,iVBORw0KGgoAAAANSUhEUgAAAAEAAAABCAQAAAC1HAwCAAAAC0lEQVQYV2NgYAAAAAMAAWgmWQ0AAAAASUVORK5CYII=: No connection adapters were found for 'data:image/png;base64,iVBORw0KGgoAAAANSUhEUgAAAAEAAAABCAQAAAC1HAwCAAAAC0lEQVQYV2NgYAAAAAMAAWgmWQ0AAAAASUVORK5CYII='\n",
      "Error al descargar data:image/png;base64,iVBORw0KGgoAAAANSUhEUgAAAAEAAAABCAQAAAC1HAwCAAAAC0lEQVQYV2NgYAAAAAMAAWgmWQ0AAAAASUVORK5CYII=: No connection adapters were found for 'data:image/png;base64,iVBORw0KGgoAAAANSUhEUgAAAAEAAAABCAQAAAC1HAwCAAAAC0lEQVQYV2NgYAAAAAMAAWgmWQ0AAAAASUVORK5CYII='\n",
      "Error al descargar data:image/png;base64,iVBORw0KGgoAAAANSUhEUgAAAAEAAAABCAQAAAC1HAwCAAAAC0lEQVQYV2NgYAAAAAMAAWgmWQ0AAAAASUVORK5CYII=: No connection adapters were found for 'data:image/png;base64,iVBORw0KGgoAAAANSUhEUgAAAAEAAAABCAQAAAC1HAwCAAAAC0lEQVQYV2NgYAAAAAMAAWgmWQ0AAAAASUVORK5CYII='\n",
      "Error al descargar data:image/png;base64,iVBORw0KGgoAAAANSUhEUgAAAAEAAAABCAQAAAC1HAwCAAAAC0lEQVQYV2NgYAAAAAMAAWgmWQ0AAAAASUVORK5CYII=: No connection adapters were found for 'data:image/png;base64,iVBORw0KGgoAAAANSUhEUgAAAAEAAAABCAQAAAC1HAwCAAAAC0lEQVQYV2NgYAAAAAMAAWgmWQ0AAAAASUVORK5CYII='\n",
      "Error al descargar data:image/png;base64,iVBORw0KGgoAAAANSUhEUgAAAAEAAAABCAQAAAC1HAwCAAAAC0lEQVQYV2NgYAAAAAMAAWgmWQ0AAAAASUVORK5CYII=: No connection adapters were found for 'data:image/png;base64,iVBORw0KGgoAAAANSUhEUgAAAAEAAAABCAQAAAC1HAwCAAAAC0lEQVQYV2NgYAAAAAMAAWgmWQ0AAAAASUVORK5CYII='\n",
      "Error al descargar data:image/png;base64,iVBORw0KGgoAAAANSUhEUgAAAAEAAAABCAQAAAC1HAwCAAAAC0lEQVQYV2NgYAAAAAMAAWgmWQ0AAAAASUVORK5CYII=: No connection adapters were found for 'data:image/png;base64,iVBORw0KGgoAAAANSUhEUgAAAAEAAAABCAQAAAC1HAwCAAAAC0lEQVQYV2NgYAAAAAMAAWgmWQ0AAAAASUVORK5CYII='\n",
      "Error al descargar data:image/png;base64,iVBORw0KGgoAAAANSUhEUgAAAAEAAAABCAQAAAC1HAwCAAAAC0lEQVQYV2NgYAAAAAMAAWgmWQ0AAAAASUVORK5CYII=: No connection adapters were found for 'data:image/png;base64,iVBORw0KGgoAAAANSUhEUgAAAAEAAAABCAQAAAC1HAwCAAAAC0lEQVQYV2NgYAAAAAMAAWgmWQ0AAAAASUVORK5CYII='\n",
      "Error al descargar data:image/png;base64,iVBORw0KGgoAAAANSUhEUgAAAAEAAAABCAQAAAC1HAwCAAAAC0lEQVQYV2NgYAAAAAMAAWgmWQ0AAAAASUVORK5CYII=: No connection adapters were found for 'data:image/png;base64,iVBORw0KGgoAAAANSUhEUgAAAAEAAAABCAQAAAC1HAwCAAAAC0lEQVQYV2NgYAAAAAMAAWgmWQ0AAAAASUVORK5CYII='\n",
      "Error al descargar data:image/png;base64,iVBORw0KGgoAAAANSUhEUgAAAAEAAAABCAQAAAC1HAwCAAAAC0lEQVQYV2NgYAAAAAMAAWgmWQ0AAAAASUVORK5CYII=: No connection adapters were found for 'data:image/png;base64,iVBORw0KGgoAAAANSUhEUgAAAAEAAAABCAQAAAC1HAwCAAAAC0lEQVQYV2NgYAAAAAMAAWgmWQ0AAAAASUVORK5CYII='\n",
      "Error al descargar data:image/png;base64,iVBORw0KGgoAAAANSUhEUgAAAAEAAAABCAQAAAC1HAwCAAAAC0lEQVQYV2NgYAAAAAMAAWgmWQ0AAAAASUVORK5CYII=: No connection adapters were found for 'data:image/png;base64,iVBORw0KGgoAAAANSUhEUgAAAAEAAAABCAQAAAC1HAwCAAAAC0lEQVQYV2NgYAAAAAMAAWgmWQ0AAAAASUVORK5CYII='\n",
      "Error al descargar data:image/png;base64,iVBORw0KGgoAAAANSUhEUgAAAAEAAAABCAQAAAC1HAwCAAAAC0lEQVQYV2NgYAAAAAMAAWgmWQ0AAAAASUVORK5CYII=: No connection adapters were found for 'data:image/png;base64,iVBORw0KGgoAAAANSUhEUgAAAAEAAAABCAQAAAC1HAwCAAAAC0lEQVQYV2NgYAAAAAMAAWgmWQ0AAAAASUVORK5CYII='\n",
      "Error al descargar data:image/png;base64,iVBORw0KGgoAAAANSUhEUgAAAAEAAAABCAQAAAC1HAwCAAAAC0lEQVQYV2NgYAAAAAMAAWgmWQ0AAAAASUVORK5CYII=: No connection adapters were found for 'data:image/png;base64,iVBORw0KGgoAAAANSUhEUgAAAAEAAAABCAQAAAC1HAwCAAAAC0lEQVQYV2NgYAAAAAMAAWgmWQ0AAAAASUVORK5CYII='\n",
      "Error al descargar data:image/png;base64,iVBORw0KGgoAAAANSUhEUgAAAAEAAAABCAQAAAC1HAwCAAAAC0lEQVQYV2NgYAAAAAMAAWgmWQ0AAAAASUVORK5CYII=: No connection adapters were found for 'data:image/png;base64,iVBORw0KGgoAAAANSUhEUgAAAAEAAAABCAQAAAC1HAwCAAAAC0lEQVQYV2NgYAAAAAMAAWgmWQ0AAAAASUVORK5CYII='\n",
      "Error al descargar data:image/png;base64,iVBORw0KGgoAAAANSUhEUgAAAAEAAAABCAQAAAC1HAwCAAAAC0lEQVQYV2NgYAAAAAMAAWgmWQ0AAAAASUVORK5CYII=: No connection adapters were found for 'data:image/png;base64,iVBORw0KGgoAAAANSUhEUgAAAAEAAAABCAQAAAC1HAwCAAAAC0lEQVQYV2NgYAAAAAMAAWgmWQ0AAAAASUVORK5CYII='\n",
      "Error al descargar data:image/png;base64,iVBORw0KGgoAAAANSUhEUgAAAAEAAAABCAQAAAC1HAwCAAAAC0lEQVQYV2NgYAAAAAMAAWgmWQ0AAAAASUVORK5CYII=: No connection adapters were found for 'data:image/png;base64,iVBORw0KGgoAAAANSUhEUgAAAAEAAAABCAQAAAC1HAwCAAAAC0lEQVQYV2NgYAAAAAMAAWgmWQ0AAAAASUVORK5CYII='\n",
      "Error al descargar data:image/png;base64,iVBORw0KGgoAAAANSUhEUgAAAAEAAAABCAQAAAC1HAwCAAAAC0lEQVQYV2NgYAAAAAMAAWgmWQ0AAAAASUVORK5CYII=: No connection adapters were found for 'data:image/png;base64,iVBORw0KGgoAAAANSUhEUgAAAAEAAAABCAQAAAC1HAwCAAAAC0lEQVQYV2NgYAAAAAMAAWgmWQ0AAAAASUVORK5CYII='\n",
      "Error al descargar data:image/png;base64,iVBORw0KGgoAAAANSUhEUgAAAAEAAAABCAQAAAC1HAwCAAAAC0lEQVQYV2NgYAAAAAMAAWgmWQ0AAAAASUVORK5CYII=: No connection adapters were found for 'data:image/png;base64,iVBORw0KGgoAAAANSUhEUgAAAAEAAAABCAQAAAC1HAwCAAAAC0lEQVQYV2NgYAAAAAMAAWgmWQ0AAAAASUVORK5CYII='\n",
      "Error al descargar data:image/png;base64,iVBORw0KGgoAAAANSUhEUgAAAAEAAAABCAQAAAC1HAwCAAAAC0lEQVQYV2NgYAAAAAMAAWgmWQ0AAAAASUVORK5CYII=: No connection adapters were found for 'data:image/png;base64,iVBORw0KGgoAAAANSUhEUgAAAAEAAAABCAQAAAC1HAwCAAAAC0lEQVQYV2NgYAAAAAMAAWgmWQ0AAAAASUVORK5CYII='\n",
      "Error al descargar data:image/png;base64,iVBORw0KGgoAAAANSUhEUgAAAAEAAAABCAQAAAC1HAwCAAAAC0lEQVQYV2NgYAAAAAMAAWgmWQ0AAAAASUVORK5CYII=: No connection adapters were found for 'data:image/png;base64,iVBORw0KGgoAAAANSUhEUgAAAAEAAAABCAQAAAC1HAwCAAAAC0lEQVQYV2NgYAAAAAMAAWgmWQ0AAAAASUVORK5CYII='\n",
      "Error al descargar data:image/png;base64,iVBORw0KGgoAAAANSUhEUgAAAAEAAAABCAQAAAC1HAwCAAAAC0lEQVQYV2NgYAAAAAMAAWgmWQ0AAAAASUVORK5CYII=: No connection adapters were found for 'data:image/png;base64,iVBORw0KGgoAAAANSUhEUgAAAAEAAAABCAQAAAC1HAwCAAAAC0lEQVQYV2NgYAAAAAMAAWgmWQ0AAAAASUVORK5CYII='\n",
      "Error al descargar data:image/png;base64,iVBORw0KGgoAAAANSUhEUgAAAAEAAAABCAQAAAC1HAwCAAAAC0lEQVQYV2NgYAAAAAMAAWgmWQ0AAAAASUVORK5CYII=: No connection adapters were found for 'data:image/png;base64,iVBORw0KGgoAAAANSUhEUgAAAAEAAAABCAQAAAC1HAwCAAAAC0lEQVQYV2NgYAAAAAMAAWgmWQ0AAAAASUVORK5CYII='\n",
      "Error al descargar data:image/png;base64,iVBORw0KGgoAAAANSUhEUgAAAAEAAAABCAQAAAC1HAwCAAAAC0lEQVQYV2NgYAAAAAMAAWgmWQ0AAAAASUVORK5CYII=: No connection adapters were found for 'data:image/png;base64,iVBORw0KGgoAAAANSUhEUgAAAAEAAAABCAQAAAC1HAwCAAAAC0lEQVQYV2NgYAAAAAMAAWgmWQ0AAAAASUVORK5CYII='\n",
      "Error al descargar data:image/png;base64,iVBORw0KGgoAAAANSUhEUgAAAAEAAAABCAQAAAC1HAwCAAAAC0lEQVQYV2NgYAAAAAMAAWgmWQ0AAAAASUVORK5CYII=: No connection adapters were found for 'data:image/png;base64,iVBORw0KGgoAAAANSUhEUgAAAAEAAAABCAQAAAC1HAwCAAAAC0lEQVQYV2NgYAAAAAMAAWgmWQ0AAAAASUVORK5CYII='\n"
     ]
    },
    {
     "name": "stderr",
     "output_type": "stream",
     "text": [
      "Procesando imágenes de https://www.pngwing.com/es/search?q=cactus:   0%|          | 0/61 [00:00<?, ?it/s]"
     ]
    },
    {
     "name": "stdout",
     "output_type": "stream",
     "text": [
      "Error al descargar data:image/png;base64,iVBORw0KGgoAAAANSUhEUgAAAAEAAAABCAQAAAC1HAwCAAAAC0lEQVQYV2NgYAAAAAMAAWgmWQ0AAAAASUVORK5CYII=: No connection adapters were found for 'data:image/png;base64,iVBORw0KGgoAAAANSUhEUgAAAAEAAAABCAQAAAC1HAwCAAAAC0lEQVQYV2NgYAAAAAMAAWgmWQ0AAAAASUVORK5CYII='\n",
      "Error al descargar data:image/png;base64,iVBORw0KGgoAAAANSUhEUgAAAAEAAAABCAQAAAC1HAwCAAAAC0lEQVQYV2NgYAAAAAMAAWgmWQ0AAAAASUVORK5CYII=: No connection adapters were found for 'data:image/png;base64,iVBORw0KGgoAAAANSUhEUgAAAAEAAAABCAQAAAC1HAwCAAAAC0lEQVQYV2NgYAAAAAMAAWgmWQ0AAAAASUVORK5CYII='\n",
      "Error al descargar data:image/png;base64,iVBORw0KGgoAAAANSUhEUgAAAAEAAAABCAQAAAC1HAwCAAAAC0lEQVQYV2NgYAAAAAMAAWgmWQ0AAAAASUVORK5CYII=: No connection adapters were found for 'data:image/png;base64,iVBORw0KGgoAAAANSUhEUgAAAAEAAAABCAQAAAC1HAwCAAAAC0lEQVQYV2NgYAAAAAMAAWgmWQ0AAAAASUVORK5CYII='\n",
      "Error al descargar data:image/png;base64,iVBORw0KGgoAAAANSUhEUgAAAAEAAAABCAQAAAC1HAwCAAAAC0lEQVQYV2NgYAAAAAMAAWgmWQ0AAAAASUVORK5CYII=: No connection adapters were found for 'data:image/png;base64,iVBORw0KGgoAAAANSUhEUgAAAAEAAAABCAQAAAC1HAwCAAAAC0lEQVQYV2NgYAAAAAMAAWgmWQ0AAAAASUVORK5CYII='\n"
     ]
    },
    {
     "name": "stderr",
     "output_type": "stream",
     "text": [
      "Procesando imágenes de https://www.pngwing.com/es/search?q=cactus: 100%|██████████| 61/61 [00:00<00:00, 154.99it/s]"
     ]
    },
    {
     "name": "stdout",
     "output_type": "stream",
     "text": [
      "Error al descargar https://www.pngwing.com/public/css/pngwing.svg: cannot identify image file <_io.BytesIO object at 0x0000022030AA04A0>\n"
     ]
    },
    {
     "name": "stderr",
     "output_type": "stream",
     "text": [
      "\n",
      "Procesando imágenes de https://www.etsy.com/mx/listing/759631500/cacti-succulent-clipart-set-cactus: 0it [00:00, ?it/s]\n"
     ]
    },
    {
     "name": "stdout",
     "output_type": "stream",
     "text": [
      "Error procesando https://depositphotos.com/es/photos/tunas-de-cactus.html: HTTPSConnectionPool(host='depositphotos.com', port=443): Max retries exceeded with url: /es/photos/tunas-de-cactus.html (Caused by ConnectTimeoutError(<urllib3.connection.HTTPSConnection object at 0x0000022030C5CD00>, 'Connection to depositphotos.com timed out. (connect timeout=10)'))\n"
     ]
    },
    {
     "name": "stderr",
     "output_type": "stream",
     "text": [
      "Procesando imágenes de https://es.123rf.com/imagenes-de-archivo/cactus_flor.html:   4%|▎         | 11/294 [00:00<00:10, 26.34it/s]"
     ]
    },
    {
     "name": "stdout",
     "output_type": "stream",
     "text": [
      "Error al descargar https://assets-cdn.123rf.com/ui-components/assets/svg/ai-face-swap.svg: cannot identify image file <_io.BytesIO object at 0x00000220310236F0>Error al descargar https://assets-cdn.123rf.com/ui-components/assets/svg/ai-img-upscaler.svg: cannot identify image file <_io.BytesIO object at 0x000002207EE93880>\n",
      "Error al descargar https://assets-cdn.123rf.com/ui-components/assets/svg/ai-img-generator.svg: cannot identify image file <_io.BytesIO object at 0x0000022031023240>\n",
      "\n",
      "Error al descargar https://assets-cdn.123rf.com/ui-components/assets/svg/ai-sketch.svg: cannot identify image file <_io.BytesIO object at 0x0000022031023D80>\n",
      "Error al descargar https://assets-cdn.123rf.com/ui-components/assets/svg/chevron-down.svg: cannot identify image file <_io.BytesIO object at 0x0000022030C43010>\n",
      "Error al descargar https://assets-cdn.123rf.com/ui-components/assets/svg/gradient/123rf-logo-gradient.svg: cannot identify image file <_io.BytesIO object at 0x0000022030C424D0>\n",
      "Error al descargar https://assets-cdn.123rf.com/ui-components/assets/svg/ai-generative-fill.svg: cannot identify image file <_io.BytesIO object at 0x0000022030C42660>\n"
     ]
    },
    {
     "name": "stderr",
     "output_type": "stream",
     "text": [
      "Procesando imágenes de https://es.123rf.com/imagenes-de-archivo/cactus_flor.html:   7%|▋         | 21/294 [00:00<00:07, 35.64it/s]"
     ]
    },
    {
     "name": "stdout",
     "output_type": "stream",
     "text": [
      "Error al descargar https://assets-cdn.123rf.com/ui-components/assets/svg/ai-bg-blur.svg: cannot identify image file <_io.BytesIO object at 0x0000022031022C50>\n",
      "Error al descargar https://assets-cdn.123rf.com/ui-components/assets/svg/ai-img-extender.svg: cannot identify image file <_io.BytesIO object at 0x00000220316E3D30>\n",
      "Error al descargar https://assets-cdn.123rf.com/ui-components/assets/svg/ai-writer.svg: cannot identify image file <_io.BytesIO object at 0x0000022030C40040>\n",
      "Error al descargar https://assets-cdn.123rf.com/ui-components/assets/svg/ai-bg-remix.svg: cannot identify image file <_io.BytesIO object at 0x0000022030C64360>\n",
      "Error al descargar https://assets-cdn.123rf.com/ui-components/assets/svg/ai-bg-removal.svg: cannot identify image file <_io.BytesIO object at 0x0000022030AC4400>\n"
     ]
    },
    {
     "name": "stderr",
     "output_type": "stream",
     "text": [
      "Procesando imágenes de https://es.123rf.com/imagenes-de-archivo/cactus_flor.html:   9%|▉         | 26/294 [00:00<00:07, 34.84it/s]"
     ]
    },
    {
     "name": "stdout",
     "output_type": "stream",
     "text": [
      "Error al descargar https://assets-cdn.123rf.com/ui-components/assets/svg/chevron-down.svg: cannot identify image file <_io.BytesIO object at 0x000002207EEB7790>\n",
      "Error al descargar https://assets-cdn.123rf.com/ui-components/assets/svg/tick.svg: cannot identify image file <_io.BytesIO object at 0x000002207EE93880>\n",
      "Error al descargar https://assets-cdn.123rf.com/ui-components/assets/svg/tick.svg: cannot identify image file <_io.BytesIO object at 0x0000022030C5BE20>\n",
      "Error al descargar https://assets-cdn.123rf.com/ui-components/assets/svg/chevron-down.svg: cannot identify image file <_io.BytesIO object at 0x0000022031706430>\n",
      "Error al descargar https://assets-cdn.123rf.com/ui-components/assets/svg/tick.svg: cannot identify image file <_io.BytesIO object at 0x00000220316E3D30>\n",
      "Error al descargar https://assets-cdn.123rf.com/ui-components/assets/images/plus-upsell-ai-v3.png: cannot write mode P as JPEG\n",
      "Error al descargar https://assets-cdn.123rf.com/ui-components/assets/svg/tick.svg: cannot identify image file <_io.BytesIO object at 0x0000022031023240>\n",
      "Error al descargar https://assets-cdn.123rf.com/ui-components/assets/svg/tick.svg: cannot identify image file <_io.BytesIO object at 0x0000022030C40F90>\n"
     ]
    },
    {
     "name": "stderr",
     "output_type": "stream",
     "text": [
      "Procesando imágenes de https://es.123rf.com/imagenes-de-archivo/cactus_flor.html:  12%|█▏        | 35/294 [00:01<00:09, 27.54it/s]"
     ]
    },
    {
     "name": "stdout",
     "output_type": "stream",
     "text": [
      "Error al descargar https://assets-cdn.123rf.com/ui-components/assets/svg/tick.svg: cannot identify image file <_io.BytesIO object at 0x0000022031023E20>\n",
      "Error al descargar https://assets-cdn.123rf.com/ui-components/assets/svg/tick.svg: cannot identify image file <_io.BytesIO object at 0x0000022031023150>\n",
      "Error al descargar https://assets-cdn.123rf.com/ui-components/assets/svg/tick.svg: cannot identify image file <_io.BytesIO object at 0x0000022030C42660>\n",
      "Error al descargar https://assets-cdn.123rf.com/ui-components/assets/svg/tick.svg: cannot identify image file <_io.BytesIO object at 0x0000022030C424D0>\n",
      "Error al descargar https://assets-cdn.123rf.com/ui-components/assets/svg/tick.svg: cannot identify image file <_io.BytesIO object at 0x0000022030C5BE20>\n",
      "Error al descargar https://assets-cdn.123rf.com/ui-components/assets/svg/tick.svg: cannot identify image file <_io.BytesIO object at 0x0000022031022C50>\n",
      "Error al descargar https://assets-cdn.123rf.com/ui-components/assets/svg/tick.svg: cannot identify image file <_io.BytesIO object at 0x0000022030C40040>\n",
      "Error al descargar https://assets-cdn.123rf.com/ui-components/assets/svg/tick.svg: cannot identify image file <_io.BytesIO object at 0x0000022030C43010>\n",
      "Error al descargar https://assets-cdn.123rf.com/ui-components/assets/svg/tick.svg: cannot identify image file <_io.BytesIO object at 0x0000022030C40F90>\n"
     ]
    },
    {
     "name": "stderr",
     "output_type": "stream",
     "text": [
      "Procesando imágenes de https://es.123rf.com/imagenes-de-archivo/cactus_flor.html:  15%|█▌        | 45/294 [00:01<00:07, 32.21it/s]"
     ]
    },
    {
     "name": "stdout",
     "output_type": "stream",
     "text": [
      "Error al descargar https://assets-cdn.123rf.com/ui-components/assets/svg/tick.svg: cannot identify image file <_io.BytesIO object at 0x0000022030C64360>\n",
      "Error al descargar https://assets-cdn.123rf.com/ui-components/assets/svg/menu.svg: cannot identify image file <_io.BytesIO object at 0x00000220316E28E0>\n",
      "Error al descargar https://assets-cdn.123rf.com/ui-components/assets/svg/upload.svg: cannot identify image file <_io.BytesIO object at 0x000002202F974A90>\n",
      "Error al descargar https://assets-cdn.123rf.com/ui-components/assets/svg/close.svg: cannot identify image file <_io.BytesIO object at 0x0000022030C42660>\n",
      "Error al descargar https://assets-cdn.123rf.com/ui-components/assets/svg/camera.svg: cannot identify image file <_io.BytesIO object at 0x0000022030AC43B0>\n",
      "Error al descargar https://assets-cdn.123rf.com/ui-components/assets/svg/all-images.svg: cannot identify image file <_io.BytesIO object at 0x000002207EE93880>\n",
      "Error al descargar https://assets-cdn.123rf.com/ui-components/assets/svg/chevron-down.svg: cannot identify image file <_io.BytesIO object at 0x0000022031022C50>\n",
      "Error al descargar https://assets-cdn.123rf.com/ui-components/assets/svg/close.svg: cannot identify image file <_io.BytesIO object at 0x00000220316E3740>\n"
     ]
    },
    {
     "name": "stderr",
     "output_type": "stream",
     "text": [
      "Procesando imágenes de https://es.123rf.com/imagenes-de-archivo/cactus_flor.html:  17%|█▋        | 51/294 [00:01<00:07, 33.78it/s]"
     ]
    },
    {
     "name": "stdout",
     "output_type": "stream",
     "text": [
      "Error al descargar https://assets-cdn.123rf.com/ui-components/assets/svg/camera.svg: cannot identify image file <_io.BytesIO object at 0x00000220316E3AB0>\n",
      "Error al descargar https://assets-cdn.123rf.com/ui-components/assets/svg/premium.svg: cannot identify image file <_io.BytesIO object at 0x0000022030C40F90>\n",
      "Error al descargar https://assets-cdn.123rf.com/ui-components/assets/svg/all-images.svg: cannot identify image file <_io.BytesIO object at 0x0000022031023240>\n",
      "Error al descargar https://assets-cdn.123rf.com/ui-components/assets/svg/photos.svg: cannot identify image file <_io.BytesIO object at 0x0000022031023E20>\n",
      "Error al descargar https://assets-cdn.123rf.com/ui-components/assets/svg/vector.svg: cannot identify image file <_io.BytesIO object at 0x0000022030C424D0>\n",
      "Error al descargar https://assets-cdn.123rf.com/ui-components/assets/svg/ai-img-generator.svg: cannot identify image file <_io.BytesIO object at 0x0000022031022C50>\n",
      "Error al descargar https://assets-cdn.123rf.com/ui-components/assets/svg/footage.svg: cannot identify image file <_io.BytesIO object at 0x0000022030C42660>\n"
     ]
    },
    {
     "name": "stderr",
     "output_type": "stream",
     "text": [
      "Procesando imágenes de https://es.123rf.com/imagenes-de-archivo/cactus_flor.html:  20%|██        | 60/294 [00:02<00:07, 32.27it/s]"
     ]
    },
    {
     "name": "stdout",
     "output_type": "stream",
     "text": [
      "Error al descargar https://assets-cdn.123rf.com/ui-components/assets/svg/audio.svg: cannot identify image file <_io.BytesIO object at 0x00000220316E3830>\n",
      "Error al descargar https://assets-cdn.123rf.com/ui-components/assets/svg/plus.svg: cannot identify image file <_io.BytesIO object at 0x0000022030C40040>\n",
      "Error al descargar https://assets-cdn.123rf.com/ui-components/assets/svg/font-v2.svg: cannot identify image file <_io.BytesIO object at 0x00000220310236F0>\n",
      "Error al descargar https://assets-cdn.123rf.com/ui-components/assets/svg/free.svg: cannot identify image file <_io.BytesIO object at 0x00000220316E26B0>\n",
      "Error al descargar https://assets-cdn.123rf.com/ui-components/assets/svg/search.svg: cannot identify image file <_io.BytesIO object at 0x0000022030C40F90>\n",
      "Error al descargar https://assets-cdn.123rf.com/ui-components/assets/svg/gradient/premium-crown-gradient2.svg: cannot identify image file <_io.BytesIO object at 0x0000022031707BA0>\n",
      "Error al descargar https://assets-cdn.123rf.com/ui-components/assets/svg/collection.svg: cannot identify image file <_io.BytesIO object at 0x000002202F974A90>\n",
      "Error al descargar https://assets-cdn.123rf.com/ui-components/assets/svg/collection.svg: cannot identify image file <_io.BytesIO object at 0x0000022030C43010>\n",
      "Error al descargar https://assets-cdn.123rf.com/ui-components/assets/svg/collection.svg: cannot identify image file <_io.BytesIO object at 0x0000022030C40950>\n",
      "Error al descargar https://assets-cdn.123rf.com/ui-components/assets/svg/collection.svg: cannot identify image file <_io.BytesIO object at 0x000002202F6C18A0>\n",
      "Error al descargar https://assets-cdn.123rf.com/ui-components/assets/svg/collection.svg: cannot identify image file <_io.BytesIO object at 0x0000022031023240>\n",
      "Error al descargar https://assets-cdn.123rf.com/ui-components/assets/svg/collection.svg: cannot identify image file <_io.BytesIO object at 0x0000022030C424D0>\n",
      "Error al descargar https://assets-cdn.123rf.com/ui-components/assets/svg/collection.svg: cannot identify image file <_io.BytesIO object at 0x0000022030AC43B0>\n",
      "Error al descargar https://assets-cdn.123rf.com/ui-components/assets/svg/collection.svg: cannot identify image file <_io.BytesIO object at 0x0000022030AC4400>\n"
     ]
    },
    {
     "name": "stderr",
     "output_type": "stream",
     "text": [
      "Procesando imágenes de https://es.123rf.com/imagenes-de-archivo/cactus_flor.html:  22%|██▏       | 64/294 [00:02<00:16, 14.07it/s]"
     ]
    },
    {
     "name": "stdout",
     "output_type": "stream",
     "text": [
      "Error al descargar https://assets-cdn.123rf.com/ui-components/assets/svg/collection.svg: cannot identify image file <_io.BytesIO object at 0x000002202F974A90>\n",
      "Error al descargar https://assets-cdn.123rf.com/ui-components/assets/svg/collection.svg: cannot identify image file <_io.BytesIO object at 0x0000022031023150>\n"
     ]
    },
    {
     "name": "stderr",
     "output_type": "stream",
     "text": [
      "Procesando imágenes de https://es.123rf.com/imagenes-de-archivo/cactus_flor.html:  23%|██▎       | 69/294 [00:03<00:16, 13.93it/s]"
     ]
    },
    {
     "name": "stdout",
     "output_type": "stream",
     "text": [
      "Error al descargar https://assets-cdn.123rf.com/ui-components/assets/svg/collection.svg: cannot identify image file <_io.BytesIO object at 0x0000022030AC4400>\n",
      "Error al descargar https://assets-cdn.123rf.com/ui-components/assets/svg/gradient/premium-crown-gradient2.svg: cannot identify image file <_io.BytesIO object at 0x0000022030C5BE20>\n"
     ]
    },
    {
     "name": "stderr",
     "output_type": "stream",
     "text": [
      "Procesando imágenes de https://es.123rf.com/imagenes-de-archivo/cactus_flor.html:  27%|██▋       | 79/294 [00:03<00:09, 21.90it/s]"
     ]
    },
    {
     "name": "stdout",
     "output_type": "stream",
     "text": [
      "Error al descargar https://assets-cdn.123rf.com/ui-components/assets/svg/collection.svg: cannot identify image file <_io.BytesIO object at 0x000002202F6C18A0>\n",
      "Error al descargar https://assets-cdn.123rf.com/ui-components/assets/svg/gradient/premium-crown-gradient2.svg: cannot identify image file <_io.BytesIO object at 0x0000022030C41A80>\n",
      "Error al descargar https://assets-cdn.123rf.com/ui-components/assets/svg/collection.svg: cannot identify image file <_io.BytesIO object at 0x000002207EE93880>\n",
      "Error al descargar https://assets-cdn.123rf.com/ui-components/assets/svg/gradient/premium-crown-gradient2.svg: cannot identify image file <_io.BytesIO object at 0x000002202FABBE70>\n"
     ]
    },
    {
     "name": "stderr",
     "output_type": "stream",
     "text": [
      "Procesando imágenes de https://es.123rf.com/imagenes-de-archivo/cactus_flor.html:  28%|██▊       | 83/294 [00:03<00:11, 17.97it/s]"
     ]
    },
    {
     "name": "stdout",
     "output_type": "stream",
     "text": [
      "Error al descargar https://assets-cdn.123rf.com/ui-components/assets/svg/collection.svg: cannot identify image file <_io.BytesIO object at 0x0000022031023240>\n",
      "Error al descargar https://assets-cdn.123rf.com/ui-components/assets/svg/collection.svg: cannot identify image file <_io.BytesIO object at 0x0000022031023150>\n",
      "Error al descargar https://assets-cdn.123rf.com/ui-components/assets/svg/collection.svg: cannot identify image file <_io.BytesIO object at 0x0000022030AC43B0>\n",
      "Error al descargar https://assets-cdn.123rf.com/ui-components/assets/svg/gradient/premium-crown-gradient2.svg: cannot identify image file <_io.BytesIO object at 0x0000022030C43240>\n",
      "Error al descargar https://assets-cdn.123rf.com/ui-components/assets/svg/collection.svg: cannot identify image file <_io.BytesIO object at 0x0000022030C41A80>\n"
     ]
    },
    {
     "name": "stderr",
     "output_type": "stream",
     "text": [
      "Procesando imágenes de https://es.123rf.com/imagenes-de-archivo/cactus_flor.html:  29%|██▉       | 86/294 [00:04<00:14, 14.84it/s]"
     ]
    },
    {
     "name": "stdout",
     "output_type": "stream",
     "text": [
      "Error al descargar https://assets-cdn.123rf.com/ui-components/assets/svg/collection.svg: cannot identify image file <_io.BytesIO object at 0x000002202F974A90>\n",
      "Error al descargar https://assets-cdn.123rf.com/ui-components/assets/svg/collection.svg: cannot identify image file <_io.BytesIO object at 0x0000022031023240>\n"
     ]
    },
    {
     "name": "stderr",
     "output_type": "stream",
     "text": [
      "Procesando imágenes de https://es.123rf.com/imagenes-de-archivo/cactus_flor.html:  33%|███▎      | 97/294 [00:04<00:09, 20.98it/s]"
     ]
    },
    {
     "name": "stdout",
     "output_type": "stream",
     "text": [
      "Error al descargar https://assets-cdn.123rf.com/ui-components/assets/svg/collection.svg: cannot identify image file <_io.BytesIO object at 0x0000022030AC43B0>\n",
      "Error al descargar https://assets-cdn.123rf.com/ui-components/assets/svg/collection.svg: cannot identify image file <_io.BytesIO object at 0x0000022030C424D0>\n",
      "Error al descargar https://assets-cdn.123rf.com/ui-components/assets/svg/collection.svg: cannot identify image file <_io.BytesIO object at 0x0000022031023E20>\n"
     ]
    },
    {
     "name": "stderr",
     "output_type": "stream",
     "text": [
      "Procesando imágenes de https://es.123rf.com/imagenes-de-archivo/cactus_flor.html:  35%|███▌      | 104/294 [00:04<00:08, 21.69it/s]"
     ]
    },
    {
     "name": "stdout",
     "output_type": "stream",
     "text": [
      "Error al descargar https://assets-cdn.123rf.com/ui-components/assets/svg/collection.svg: cannot identify image file <_io.BytesIO object at 0x0000022030C40950>\n",
      "Error al descargar https://assets-cdn.123rf.com/ui-components/assets/svg/gradient/premium-crown-gradient2.svg: cannot identify image file <_io.BytesIO object at 0x000002202F974A90>\n",
      "Error al descargar https://assets-cdn.123rf.com/ui-components/assets/svg/collection.svg: cannot identify image file <_io.BytesIO object at 0x0000022031023E20>\n"
     ]
    },
    {
     "name": "stderr",
     "output_type": "stream",
     "text": [
      "Procesando imágenes de https://es.123rf.com/imagenes-de-archivo/cactus_flor.html:  36%|███▋      | 107/294 [00:04<00:09, 19.37it/s]"
     ]
    },
    {
     "name": "stdout",
     "output_type": "stream",
     "text": [
      "Error al descargar https://assets-cdn.123rf.com/ui-components/assets/svg/collection.svg: cannot identify image file <_io.BytesIO object at 0x0000022030AC43B0>\n",
      "Error al descargar https://assets-cdn.123rf.com/ui-components/assets/svg/collection.svg: cannot identify image file <_io.BytesIO object at 0x0000022031022C50>\n",
      "Error al descargar https://assets-cdn.123rf.com/ui-components/assets/svg/collection.svg: cannot identify image file <_io.BytesIO object at 0x0000022030AC4400>\n"
     ]
    },
    {
     "name": "stderr",
     "output_type": "stream",
     "text": [
      "Procesando imágenes de https://es.123rf.com/imagenes-de-archivo/cactus_flor.html:  38%|███▊      | 113/294 [00:05<00:08, 20.51it/s]"
     ]
    },
    {
     "name": "stdout",
     "output_type": "stream",
     "text": [
      "Error al descargar https://assets-cdn.123rf.com/ui-components/assets/svg/collection.svg: cannot identify image file <_io.BytesIO object at 0x0000022031022C50>\n",
      "Error al descargar https://assets-cdn.123rf.com/ui-components/assets/svg/gradient/premium-crown-gradient2.svg: cannot identify image file <_io.BytesIO object at 0x0000022031023240>\n",
      "Error al descargar https://assets-cdn.123rf.com/ui-components/assets/svg/collection.svg: cannot identify image file <_io.BytesIO object at 0x000002202FABB830>\n"
     ]
    },
    {
     "name": "stderr",
     "output_type": "stream",
     "text": [
      "Procesando imágenes de https://es.123rf.com/imagenes-de-archivo/cactus_flor.html:  39%|███▉      | 116/294 [00:05<00:11, 15.94it/s]"
     ]
    },
    {
     "name": "stdout",
     "output_type": "stream",
     "text": [
      "Error al descargar https://assets-cdn.123rf.com/ui-components/assets/svg/collection.svg: cannot identify image file <_io.BytesIO object at 0x0000022030AC43B0>\n",
      "Error al descargar https://assets-cdn.123rf.com/ui-components/assets/svg/collection.svg: cannot identify image file <_io.BytesIO object at 0x0000022030C43240>\n",
      "Error al descargar https://assets-cdn.123rf.com/ui-components/assets/svg/gradient/premium-crown-gradient2.svg: cannot identify image file <_io.BytesIO object at 0x0000022030C40040>\n",
      "Error al descargar https://assets-cdn.123rf.com/ui-components/assets/svg/collection.svg: cannot identify image file <_io.BytesIO object at 0x0000022030C40F90>\n"
     ]
    },
    {
     "name": "stderr",
     "output_type": "stream",
     "text": [
      "Procesando imágenes de https://es.123rf.com/imagenes-de-archivo/cactus_flor.html:  41%|████▏     | 122/294 [00:05<00:09, 17.59it/s]"
     ]
    },
    {
     "name": "stdout",
     "output_type": "stream",
     "text": [
      "Error al descargar https://assets-cdn.123rf.com/ui-components/assets/svg/collection.svg: cannot identify image file <_io.BytesIO object at 0x0000022031023240>\n",
      "Error al descargar https://assets-cdn.123rf.com/ui-components/assets/svg/collection.svg: cannot identify image file <_io.BytesIO object at 0x0000022030C40040>\n",
      "Error al descargar https://assets-cdn.123rf.com/ui-components/assets/svg/collection.svg: cannot identify image file <_io.BytesIO object at 0x000002202FABBE70>\n"
     ]
    },
    {
     "name": "stderr",
     "output_type": "stream",
     "text": [
      "Procesando imágenes de https://es.123rf.com/imagenes-de-archivo/cactus_flor.html:  44%|████▍     | 129/294 [00:06<00:09, 17.07it/s]"
     ]
    },
    {
     "name": "stdout",
     "output_type": "stream",
     "text": [
      "Error al descargar https://assets-cdn.123rf.com/ui-components/assets/svg/collection.svg: cannot identify image file <_io.BytesIO object at 0x0000022030C40040>\n",
      "Error al descargar https://assets-cdn.123rf.com/ui-components/assets/svg/gradient/premium-crown-gradient2.svg: cannot identify image file <_io.BytesIO object at 0x000002202FABBE70>\n",
      "Error al descargar https://assets-cdn.123rf.com/ui-components/assets/svg/collection.svg: cannot identify image file <_io.BytesIO object at 0x00000220310236F0>\n"
     ]
    },
    {
     "name": "stderr",
     "output_type": "stream",
     "text": [
      "Procesando imágenes de https://es.123rf.com/imagenes-de-archivo/cactus_flor.html:  45%|████▍     | 132/294 [00:06<00:08, 18.61it/s]"
     ]
    },
    {
     "name": "stdout",
     "output_type": "stream",
     "text": [
      "Error al descargar https://assets-cdn.123rf.com/ui-components/assets/svg/collection.svg: cannot identify image file <_io.BytesIO object at 0x000002207EEB7420>\n",
      "Error al descargar https://assets-cdn.123rf.com/ui-components/assets/svg/gradient/premium-crown-gradient2.svg: cannot identify image file <_io.BytesIO object at 0x0000022030C41C10>\n",
      "Error al descargar https://assets-cdn.123rf.com/ui-components/assets/svg/collection.svg: cannot identify image file <_io.BytesIO object at 0x0000022030C5BE20>\n"
     ]
    },
    {
     "name": "stderr",
     "output_type": "stream",
     "text": [
      "Procesando imágenes de https://es.123rf.com/imagenes-de-archivo/cactus_flor.html:  47%|████▋     | 138/294 [00:06<00:09, 16.67it/s]"
     ]
    },
    {
     "name": "stdout",
     "output_type": "stream",
     "text": [
      "Error al descargar https://assets-cdn.123rf.com/ui-components/assets/svg/collection.svg: cannot identify image file <_io.BytesIO object at 0x0000022030C40950>\n",
      "Error al descargar https://assets-cdn.123rf.com/ui-components/assets/svg/collection.svg: cannot identify image file <_io.BytesIO object at 0x0000022031023E20>\n",
      "Error al descargar https://assets-cdn.123rf.com/ui-components/assets/svg/collection.svg: cannot identify image file <_io.BytesIO object at 0x000002202F6C18A0>\n",
      "Error al descargar https://assets-cdn.123rf.com/ui-components/assets/svg/collection.svg: cannot identify image file <_io.BytesIO object at 0x000002202FABB830>\n",
      "Error al descargar https://assets-cdn.123rf.com/ui-components/assets/svg/gradient/premium-crown-gradient2.svg: cannot identify image file <_io.BytesIO object at 0x0000022030C5BE20>\n",
      "Error al descargar https://assets-cdn.123rf.com/ui-components/assets/svg/collection.svg: cannot identify image file <_io.BytesIO object at 0x00000220316E2840>\n"
     ]
    },
    {
     "name": "stderr",
     "output_type": "stream",
     "text": [
      "Procesando imágenes de https://es.123rf.com/imagenes-de-archivo/cactus_flor.html:  52%|█████▏    | 152/294 [00:07<00:06, 21.67it/s]"
     ]
    },
    {
     "name": "stdout",
     "output_type": "stream",
     "text": [
      "Error al descargar https://assets-cdn.123rf.com/ui-components/assets/svg/collection.svg: cannot identify image file <_io.BytesIO object at 0x0000022030C5BE20>\n",
      "Error al descargar https://assets-cdn.123rf.com/ui-components/assets/svg/collection.svg: cannot identify image file <_io.BytesIO object at 0x00000220316E2CF0>\n",
      "Error al descargar https://assets-cdn.123rf.com/ui-components/assets/svg/gradient/premium-crown-gradient2.svg: cannot identify image file <_io.BytesIO object at 0x0000022030C40900>\n",
      "Error al descargar https://assets-cdn.123rf.com/ui-components/assets/svg/collection.svg: cannot identify image file <_io.BytesIO object at 0x00000220316E2A20>\n"
     ]
    },
    {
     "name": "stderr",
     "output_type": "stream",
     "text": [
      "Procesando imágenes de https://es.123rf.com/imagenes-de-archivo/cactus_flor.html:  54%|█████▍    | 159/294 [00:07<00:06, 22.07it/s]"
     ]
    },
    {
     "name": "stdout",
     "output_type": "stream",
     "text": [
      "Error al descargar https://assets-cdn.123rf.com/ui-components/assets/svg/gradient/premium-crown-gradient2.svg: cannot identify image file <_io.BytesIO object at 0x000002202F984810>\n",
      "Error al descargar https://assets-cdn.123rf.com/ui-components/assets/svg/collection.svg: cannot identify image file <_io.BytesIO object at 0x00000220310236F0>\n",
      "Error al descargar https://assets-cdn.123rf.com/ui-components/assets/svg/collection.svg: cannot identify image file <_io.BytesIO object at 0x000002202F9622A0>\n"
     ]
    },
    {
     "name": "stderr",
     "output_type": "stream",
     "text": [
      "Procesando imágenes de https://es.123rf.com/imagenes-de-archivo/cactus_flor.html:  55%|█████▌    | 162/294 [00:07<00:07, 18.68it/s]"
     ]
    },
    {
     "name": "stdout",
     "output_type": "stream",
     "text": [
      "Error al descargar https://assets-cdn.123rf.com/ui-components/assets/svg/collection.svg: cannot identify image file <_io.BytesIO object at 0x000002202FABBE70>\n",
      "Error al descargar https://assets-cdn.123rf.com/ui-components/assets/svg/collection.svg: cannot identify image file <_io.BytesIO object at 0x0000022031707CE0>\n",
      "Error al descargar https://assets-cdn.123rf.com/ui-components/assets/svg/collection.svg: cannot identify image file <_io.BytesIO object at 0x000002207EEB7420>\n"
     ]
    },
    {
     "name": "stderr",
     "output_type": "stream",
     "text": [
      "Procesando imágenes de https://es.123rf.com/imagenes-de-archivo/cactus_flor.html:  56%|█████▋    | 166/294 [00:08<00:07, 16.94it/s]"
     ]
    },
    {
     "name": "stdout",
     "output_type": "stream",
     "text": [
      "Error al descargar https://assets-cdn.123rf.com/ui-components/assets/svg/gradient/premium-crown-gradient2.svg: cannot identify image file <_io.BytesIO object at 0x00000220316E3CE0>\n",
      "Error al descargar https://assets-cdn.123rf.com/ui-components/assets/svg/collection.svg: cannot identify image file <_io.BytesIO object at 0x0000022031704770>\n",
      "Error al descargar https://assets-cdn.123rf.com/ui-components/assets/svg/collection.svg: cannot identify image file <_io.BytesIO object at 0x000002207EEB7420>\n"
     ]
    },
    {
     "name": "stderr",
     "output_type": "stream",
     "text": [
      "Procesando imágenes de https://es.123rf.com/imagenes-de-archivo/cactus_flor.html:  58%|█████▊    | 170/294 [00:08<00:06, 19.77it/s]\n"
     ]
    },
    {
     "name": "stdout",
     "output_type": "stream",
     "text": [
      "Error al descargar https://assets-cdn.123rf.com/ui-components/assets/svg/collection.svg: cannot identify image file <_io.BytesIO object at 0x00000220316E3B00>\n",
      "Error al descargar https://assets-cdn.123rf.com/ui-components/assets/svg/collection.svg: cannot identify image file <_io.BytesIO object at 0x000002202F9622A0>\n",
      "Error al descargar https://assets-cdn.123rf.com/ui-components/assets/svg/collection.svg: cannot identify image file <_io.BytesIO object at 0x0000022031023E20>\n",
      "Error al descargar https://assets-cdn.123rf.com/ui-components/assets/svg/collection.svg: cannot identify image file <_io.BytesIO object at 0x0000022031705620>\n",
      "Error al descargar https://assets-cdn.123rf.com/ui-components/assets/svg/collection.svg: cannot identify image file <_io.BytesIO object at 0x0000022031707F10>\n",
      "Error al descargar https://assets-cdn.123rf.com/ui-components/assets/svg/collection.svg: cannot identify image file <_io.BytesIO object at 0x000002202FA60C70>\n",
      "Error al descargar https://assets-cdn.123rf.com/ui-components/assets/svg/gradient/premium-crown-gradient2.svg: cannot identify image file <_io.BytesIO object at 0x00000220316E3B00>\n",
      "Error al descargar https://assets-cdn.123rf.com/ui-components/assets/svg/collection.svg: cannot identify image file <_io.BytesIO object at 0x00000220316E2A20>\n",
      "Error al descargar https://assets-cdn.123rf.com/ui-components/assets/svg/collection.svg: cannot identify image file <_io.BytesIO object at 0x0000022030C41530>\n",
      "Error al descargar https://assets-cdn.123rf.com/ui-components/assets/svg/collection.svg: cannot identify image file <_io.BytesIO object at 0x00000220317056C0>\n",
      "Error al descargar https://assets-cdn.123rf.com/ui-components/assets/svg/collection.svg: cannot identify image file <_io.BytesIO object at 0x00000220317042C0>\n",
      "Error al descargar https://assets-cdn.123rf.com/ui-components/assets/svg/collection.svg: cannot identify image file <_io.BytesIO object at 0x0000022030AA0810>\n",
      "Error al descargar https://assets-cdn.123rf.com/ui-components/assets/svg/gradient/premium-crown-gradient2.svg: cannot identify image file <_io.BytesIO object at 0x00000220316E2A20>\n",
      "Error al descargar https://assets-cdn.123rf.com/ui-components/assets/svg/collection.svg: cannot identify image file <_io.BytesIO object at 0x000002202FA60C70>\n",
      "Error al descargar https://assets-cdn.123rf.com/ui-components/assets/svg/collection.svg: cannot identify image file <_io.BytesIO object at 0x00000220316E2340>\n",
      "Error al descargar https://assets-cdn.123rf.com/ui-components/assets/svg/collection.svg: cannot identify image file <_io.BytesIO object at 0x00000220316E2A20>\n",
      "Error al descargar https://assets-cdn.123rf.com/ui-components/assets/svg/gradient/premium-crown-gradient2.svg: cannot identify image file <_io.BytesIO object at 0x00000220317056C0>\n",
      "Error al descargar https://assets-cdn.123rf.com/ui-components/assets/svg/collection.svg: cannot identify image file <_io.BytesIO object at 0x00000220316E2E30>\n",
      "Error al descargar https://assets-cdn.123rf.com/ui-components/assets/svg/collection.svg: cannot identify image file <_io.BytesIO object at 0x000002207EEB7420>\n",
      "Error al descargar https://assets-cdn.123rf.com/ui-components/assets/svg/collection.svg: cannot identify image file <_io.BytesIO object at 0x00000220316E34C0>\n",
      "Error al descargar https://assets-cdn.123rf.com/ui-components/assets/svg/collection.svg: cannot identify image file <_io.BytesIO object at 0x000002202F9622A0>\n",
      "Error al descargar https://assets-cdn.123rf.com/ui-components/assets/svg/gradient/premium-crown-gradient2.svg: cannot identify image file <_io.BytesIO object at 0x0000022030C424D0>\n",
      "Error al descargar https://assets-cdn.123rf.com/ui-components/assets/svg/gradient/premium-crown-gradient2.svg: cannot identify image file <_io.BytesIO object at 0x000002202F984810>\n",
      "Error al descargar https://assets-cdn.123rf.com/ui-components/assets/svg/collection.svg: cannot identify image file <_io.BytesIO object at 0x000002207EEB7420>\n",
      "Error al descargar https://assets-cdn.123rf.com/ui-components/assets/svg/collection.svg: cannot identify image file <_io.BytesIO object at 0x0000022030AA1A80>\n",
      "Error al descargar https://assets-cdn.123rf.com/ui-components/assets/svg/collection.svg: cannot identify image file <_io.BytesIO object at 0x000002202FA60C70>\n",
      "Error al descargar https://assets-cdn.123rf.com/ui-components/assets/svg/collection.svg: cannot identify image file <_io.BytesIO object at 0x0000022030AA0810>\n",
      "Error al descargar https://assets-cdn.123rf.com/ui-components/assets/svg/collection.svg: cannot identify image file <_io.BytesIO object at 0x000002202F9622A0>\n",
      "Error al descargar https://assets-cdn.123rf.com/ui-components/assets/svg/gradient/premium-crown-gradient2.svg: cannot identify image file <_io.BytesIO object at 0x00000220316E29D0>\n",
      "Error al descargar https://assets-cdn.123rf.com/ui-components/assets/svg/collection.svg: cannot identify image file <_io.BytesIO object at 0x00000220316E3C90>\n",
      "Error al descargar https://assets-cdn.123rf.com/ui-components/assets/svg/collection.svg: cannot identify image file <_io.BytesIO object at 0x00000220316E3880>\n",
      "Error al descargar https://assets-cdn.123rf.com/ui-components/assets/svg/gradient/premium-crown-gradient2.svg: cannot identify image file <_io.BytesIO object at 0x000002202FA60C70>\n",
      "Error al descargar https://assets-cdn.123rf.com/ui-components/assets/svg/collection.svg: cannot identify image file <_io.BytesIO object at 0x0000022030C41530>\n",
      "Error al descargar https://assets-cdn.123rf.com/ui-components/assets/svg/collection.svg: cannot identify image file <_io.BytesIO object at 0x0000022030C424D0>\n",
      "Error al descargar https://assets-cdn.123rf.com/ui-components/assets/svg/collection.svg: cannot identify image file <_io.BytesIO object at 0x00000220316E2A20>\n",
      "Error al descargar https://assets-cdn.123rf.com/ui-components/assets/svg/collection.svg: cannot identify image file <_io.BytesIO object at 0x00000220316E2E30>\n",
      "Error al descargar https://assets-cdn.123rf.com/ui-components/assets/svg/collection.svg: cannot identify image file <_io.BytesIO object at 0x000002202FA60C70>\n",
      "Error al descargar https://assets-cdn.123rf.com/ui-components/assets/svg/collection.svg: cannot identify image file <_io.BytesIO object at 0x00000220316E34C0>\n",
      "Error al descargar https://assets-cdn.123rf.com/ui-components/assets/svg/collection.svg: cannot identify image file <_io.BytesIO object at 0x0000022031023240>\n",
      "Error al descargar https://assets-cdn.123rf.com/ui-components/assets/svg/collection.svg: cannot identify image file <_io.BytesIO object at 0x00000220316E29D0>\n",
      "Error al descargar https://assets-cdn.123rf.com/ui-components/assets/svg/gradient/premium-crown-gradient2.svg: cannot identify image file <_io.BytesIO object at 0x00000220316E2CA0>\n",
      "Error al descargar https://assets-cdn.123rf.com/ui-components/assets/svg/gradient/premium-crown-gradient2.svg: cannot identify image file <_io.BytesIO object at 0x0000022031023240>\n",
      "Error al descargar https://assets-cdn.123rf.com/ui-components/assets/svg/collection.svg: cannot identify image file <_io.BytesIO object at 0x0000022030AA1A80>\n",
      "Error al descargar https://assets-cdn.123rf.com/ui-components/assets/svg/gradient/premium-crown-gradient2.svg: cannot identify image file <_io.BytesIO object at 0x000002202FABB830>\n",
      "Error al descargar https://assets-cdn.123rf.com/ui-components/assets/svg/collection.svg: cannot identify image file <_io.BytesIO object at 0x00000220316E3B00>\n",
      "Error al descargar https://assets-cdn.123rf.com/ui-components/assets/svg/collection.svg: cannot identify image file <_io.BytesIO object at 0x00000220316E2840>\n",
      "Error al descargar https://assets-cdn.123rf.com/ui-components/assets/svg/gradient/premium-crown-gradient2.svg: cannot identify image file <_io.BytesIO object at 0x00000220316E3420>\n",
      "Error al descargar https://assets-cdn.123rf.com/ui-components/assets/svg/collection.svg: cannot identify image file <_io.BytesIO object at 0x000002202F974A90>\n",
      "Error al descargar https://assets-cdn.123rf.com/ui-components/assets/svg/collection.svg: cannot identify image file <_io.BytesIO object at 0x0000022030C41530>\n",
      "Error al descargar https://assets-cdn.123rf.com/ui-components/assets/svg/collection.svg: cannot identify image file <_io.BytesIO object at 0x0000022030C424D0>\n",
      "Error al descargar https://assets-cdn.123rf.com/ui-components/assets/svg/collection.svg: cannot identify image file <_io.BytesIO object at 0x00000220316E2660>\n",
      "Error al descargar https://assets-cdn.123rf.com/ui-components/assets/svg/collection.svg: cannot identify image file <_io.BytesIO object at 0x0000022030C41530>\n",
      "Error al descargar https://assets-cdn.123rf.com/ui-components/assets/svg/collection.svg: cannot identify image file <_io.BytesIO object at 0x00000220316E3420>\n",
      "Error al descargar https://assets-cdn.123rf.com/ui-components/assets/svg/gradient/premium-crown-gradient2.svg: cannot identify image file <_io.BytesIO object at 0x000002202F984810>\n",
      "Error al descargar https://assets-cdn.123rf.com/ui-components/assets/svg/collection.svg: cannot identify image file <_io.BytesIO object at 0x00000220316E3880>\n",
      "Error al descargar https://assets-cdn.123rf.com/ui-components/assets/svg/collection.svg: cannot identify image file <_io.BytesIO object at 0x000002202FA60C70>\n",
      "Error al descargar https://assets-cdn.123rf.com/ui-components/assets/svg/collection.svg: cannot identify image file <_io.BytesIO object at 0x0000022030AC4400>\n",
      "Error al descargar https://assets-cdn.123rf.com/ui-components/assets/svg/chevron-down.svg: cannot identify image file <_io.BytesIO object at 0x0000022031023240>\n",
      "Error al descargar https://assets-cdn.123rf.com/ui-components/assets/svg/chevron-down.svg: cannot identify image file <_io.BytesIO object at 0x00000220317047C0>\n",
      "Error al descargar https://assets-cdn.123rf.com/ui-components/assets/svg/chevron-down.svg: cannot identify image file <_io.BytesIO object at 0x000002207EEB6A70>\n",
      "Error al descargar https://assets-cdn.123rf.com/ui-components/assets/svg/facebook.svg: cannot identify image file <_io.BytesIO object at 0x00000220316E34C0>\n",
      "Error al descargar https://assets-cdn.123rf.com/ui-components/assets/svg/gradient/premium-crown-gradient2.svg: cannot identify image file <_io.BytesIO object at 0x0000022030AA1A80>Error al descargar https://assets-cdn.123rf.com/ui-components/assets/svg/twitter-v2.svg: cannot identify image file <_io.BytesIO object at 0x000002202FABBE70>\n",
      "\n",
      "Error al descargar https://assets-cdn.123rf.com/ui-components/assets/svg/instagram-v2.svg: cannot identify image file <_io.BytesIO object at 0x0000022030C41530>\n",
      "Error al descargar https://assets-cdn.123rf.com/ui-components/assets/svg/pinterest.svg: cannot identify image file <_io.BytesIO object at 0x000002202F984810>\n",
      "Error al descargar https://assets-cdn.123rf.com/ui-components/assets/svg/whatsapp-v3.svg: cannot identify image file <_io.BytesIO object at 0x000002207EEB6A70>\n",
      "Error al descargar https://assets-cdn.123rf.com/ui-components/assets/svg/chevron-down.svg: cannot identify image file <_io.BytesIO object at 0x0000022030AC4400>\n",
      "Error al descargar https://assets-cdn.123rf.com/ui-components/assets/svg/chevron-down.svg: cannot identify image file <_io.BytesIO object at 0x000002202F99A6B0>\n",
      "Clase 'cactus' completada: 40 para entrenamiento, 10 para validación.\n",
      "Buscando imágenes para la clase: cilantro\n",
      "Error procesando https://depositphotos.com/es/photos/cilantro.html: HTTPSConnectionPool(host='depositphotos.com', port=443): Max retries exceeded with url: /es/photos/cilantro.html (Caused by ConnectTimeoutError(<urllib3.connection.HTTPSConnection object at 0x0000022031CEBAF0>, 'Connection to depositphotos.com timed out. (connect timeout=10)'))\n",
      "Error procesando https://depositphotos.com/es/photos/culantro-o-cilantro.html: HTTPSConnectionPool(host='depositphotos.com', port=443): Max retries exceeded with url: /es/photos/culantro-o-cilantro.html (Caused by ConnectTimeoutError(<urllib3.connection.HTTPSConnection object at 0x0000022031CA75E0>, 'Connection to depositphotos.com timed out. (connect timeout=10)'))\n"
     ]
    },
    {
     "name": "stderr",
     "output_type": "stream",
     "text": [
      "Procesando imágenes de https://es.123rf.com/imagenes-de-archivo/planta_de_cilantro.html:   0%|          | 1/296 [00:00<01:19,  3.73it/s]"
     ]
    },
    {
     "name": "stdout",
     "output_type": "stream",
     "text": [
      "Error al descargar https://assets-cdn.123rf.com/ui-components/assets/svg/chevron-down.svg: cannot identify image file <_io.BytesIO object at 0x000002203237BA60>\n",
      "Error al descargar https://assets-cdn.123rf.com/ui-components/assets/svg/ai-face-swap.svg: cannot identify image file <_io.BytesIO object at 0x00000220323C4B80>\n",
      "Error al descargar https://assets-cdn.123rf.com/ui-components/assets/svg/ai-img-upscaler.svg: cannot identify image file <_io.BytesIO object at 0x0000022032433DD0>\n",
      "Error al descargar https://assets-cdn.123rf.com/ui-components/assets/svg/gradient/123rf-logo-gradient.svg: cannot identify image file <_io.BytesIO object at 0x000002203237B420>\n",
      "Error al descargar https://assets-cdn.123rf.com/ui-components/assets/svg/ai-img-generator.svg: cannot identify image file <_io.BytesIO object at 0x00000220323A4B80>\n",
      "Error al descargar https://assets-cdn.123rf.com/ui-components/assets/svg/ai-sketch.svg: cannot identify image file <_io.BytesIO object at 0x00000220323A67F0>\n",
      "Error al descargar https://assets-cdn.123rf.com/ui-components/assets/svg/ai-bg-blur.svg: cannot identify image file <_io.BytesIO object at 0x00000220323A7560>\n",
      "Error al descargar https://assets-cdn.123rf.com/ui-components/assets/svg/ai-generative-fill.svg: cannot identify image file <_io.BytesIO object at 0x00000220323C42C0>\n"
     ]
    },
    {
     "name": "stderr",
     "output_type": "stream",
     "text": [
      "Procesando imágenes de https://es.123rf.com/imagenes-de-archivo/planta_de_cilantro.html:   7%|▋         | 22/296 [00:00<00:06, 45.48it/s]"
     ]
    },
    {
     "name": "stdout",
     "output_type": "stream",
     "text": [
      "Error al descargar https://assets-cdn.123rf.com/ui-components/assets/svg/ai-img-extender.svg: cannot identify image file <_io.BytesIO object at 0x00000220324327A0>\n",
      "Error al descargar https://assets-cdn.123rf.com/ui-components/assets/svg/ai-bg-remix.svg: cannot identify image file <_io.BytesIO object at 0x00000220323A7BF0>\n",
      "Error al descargar https://assets-cdn.123rf.com/ui-components/assets/svg/ai-writer.svg: cannot identify image file <_io.BytesIO object at 0x000002207F1CA6B0>\n",
      "Error al descargar https://assets-cdn.123rf.com/ui-components/assets/svg/ai-bg-removal.svg: cannot identify image file <_io.BytesIO object at 0x0000022031C0F290>\n",
      "Error al descargar https://assets-cdn.123rf.com/ui-components/assets/svg/chevron-down.svg: cannot identify image file <_io.BytesIO object at 0x00000220323A4090>\n"
     ]
    },
    {
     "name": "stderr",
     "output_type": "stream",
     "text": [
      "Procesando imágenes de https://es.123rf.com/imagenes-de-archivo/planta_de_cilantro.html:   9%|▉         | 28/296 [00:00<00:06, 42.92it/s]"
     ]
    },
    {
     "name": "stdout",
     "output_type": "stream",
     "text": [
      "Error al descargar https://assets-cdn.123rf.com/ui-components/assets/svg/tick.svg: cannot identify image file <_io.BytesIO object at 0x00000220323A59E0>\n",
      "Error al descargar https://assets-cdn.123rf.com/ui-components/assets/svg/tick.svg: cannot identify image file <_io.BytesIO object at 0x000002203237B380>\n",
      "Error al descargar https://assets-cdn.123rf.com/ui-components/assets/images/plus-upsell-ai-v3.png: cannot write mode P as JPEG\n",
      "Error al descargar https://assets-cdn.123rf.com/ui-components/assets/svg/tick.svg: cannot identify image file <_io.BytesIO object at 0x00000220316E2E30>\n",
      "Error al descargar https://assets-cdn.123rf.com/ui-components/assets/svg/chevron-down.svg: cannot identify image file <_io.BytesIO object at 0x000002203171CF90>\n",
      "Error al descargar https://assets-cdn.123rf.com/ui-components/assets/svg/tick.svg: cannot identify image file <_io.BytesIO object at 0x00000220323A5120>\n",
      "Error al descargar https://assets-cdn.123rf.com/ui-components/assets/svg/tick.svg: cannot identify image file <_io.BytesIO object at 0x00000220323C43B0>\n",
      "Error al descargar https://assets-cdn.123rf.com/ui-components/assets/svg/tick.svg: cannot identify image file <_io.BytesIO object at 0x000002203237B470>\n",
      "Error al descargar https://assets-cdn.123rf.com/ui-components/assets/svg/tick.svg: cannot identify image file <_io.BytesIO object at 0x0000022031C0F290>\n"
     ]
    },
    {
     "name": "stderr",
     "output_type": "stream",
     "text": [
      "Procesando imágenes de https://es.123rf.com/imagenes-de-archivo/planta_de_cilantro.html:  14%|█▎        | 40/296 [00:01<00:05, 42.68it/s]"
     ]
    },
    {
     "name": "stdout",
     "output_type": "stream",
     "text": [
      "Error al descargar https://assets-cdn.123rf.com/ui-components/assets/svg/tick.svg: cannot identify image file <_io.BytesIO object at 0x00000220323C4CC0>\n",
      "Error al descargar https://assets-cdn.123rf.com/ui-components/assets/svg/tick.svg: cannot identify image file <_io.BytesIO object at 0x000002203237BFB0>\n",
      "Error al descargar https://assets-cdn.123rf.com/ui-components/assets/svg/tick.svg: cannot identify image file <_io.BytesIO object at 0x000002203237B3D0>\n",
      "Error al descargar https://assets-cdn.123rf.com/ui-components/assets/svg/tick.svg: cannot identify image file <_io.BytesIO object at 0x0000022032432B60>\n",
      "Error al descargar https://assets-cdn.123rf.com/ui-components/assets/svg/tick.svg: cannot identify image file <_io.BytesIO object at 0x00000220323C4360>\n",
      "Error al descargar https://assets-cdn.123rf.com/ui-components/assets/svg/tick.svg: cannot identify image file <_io.BytesIO object at 0x000002202F959990>\n",
      "Error al descargar https://assets-cdn.123rf.com/ui-components/assets/svg/tick.svg: cannot identify image file <_io.BytesIO object at 0x000002202FABBA10>\n",
      "Error al descargar https://assets-cdn.123rf.com/ui-components/assets/svg/menu.svg: cannot identify image file <_io.BytesIO object at 0x000002207F1CA6B0>\n",
      "Error al descargar https://assets-cdn.123rf.com/ui-components/assets/svg/tick.svg: cannot identify image file <_io.BytesIO object at 0x000002203237BB00>\n",
      "Error al descargar https://assets-cdn.123rf.com/ui-components/assets/svg/camera.svg: cannot identify image file <_io.BytesIO object at 0x00000220323C4A90>\n"
     ]
    },
    {
     "name": "stderr",
     "output_type": "stream",
     "text": [
      "Procesando imágenes de https://es.123rf.com/imagenes-de-archivo/planta_de_cilantro.html:  15%|█▌        | 45/296 [00:01<00:07, 34.59it/s]"
     ]
    },
    {
     "name": "stdout",
     "output_type": "stream",
     "text": [
      "Error al descargar https://assets-cdn.123rf.com/ui-components/assets/svg/close.svg: cannot identify image file <_io.BytesIO object at 0x00000220323C4CC0>\n",
      "Error al descargar https://assets-cdn.123rf.com/ui-components/assets/svg/upload.svg: cannot identify image file <_io.BytesIO object at 0x000002203237BFB0>\n",
      "Error al descargar https://assets-cdn.123rf.com/ui-components/assets/svg/chevron-down.svg: cannot identify image file <_io.BytesIO object at 0x00000220323C4D60>\n",
      "Error al descargar https://assets-cdn.123rf.com/ui-components/assets/svg/camera.svg: cannot identify image file <_io.BytesIO object at 0x000002207EEB7650>\n",
      "Error al descargar https://assets-cdn.123rf.com/ui-components/assets/svg/close.svg: cannot identify image file <_io.BytesIO object at 0x000002203171CF90>\n",
      "Error al descargar https://assets-cdn.123rf.com/ui-components/assets/svg/premium.svg: cannot identify image file <_io.BytesIO object at 0x00000220323C4EA0>\n",
      "Error al descargar https://assets-cdn.123rf.com/ui-components/assets/svg/all-images.svg: cannot identify image file <_io.BytesIO object at 0x000002203237B380>\n",
      "Error al descargar https://assets-cdn.123rf.com/ui-components/assets/svg/all-images.svg: cannot identify image file <_io.BytesIO object at 0x000002203237B470>\n"
     ]
    },
    {
     "name": "stderr",
     "output_type": "stream",
     "text": [
      "Procesando imágenes de https://es.123rf.com/imagenes-de-archivo/planta_de_cilantro.html:  19%|█▉        | 57/296 [00:01<00:06, 38.97it/s]"
     ]
    },
    {
     "name": "stdout",
     "output_type": "stream",
     "text": [
      "Error al descargar https://assets-cdn.123rf.com/ui-components/assets/svg/vector.svg: cannot identify image file <_io.BytesIO object at 0x00000220323C4900>\n",
      "Error al descargar https://assets-cdn.123rf.com/ui-components/assets/svg/photos.svg: cannot identify image file <_io.BytesIO object at 0x000002203237BA10>\n",
      "Error al descargar https://assets-cdn.123rf.com/ui-components/assets/svg/footage.svg: cannot identify image file <_io.BytesIO object at 0x00000220323C48B0>\n",
      "Error al descargar https://assets-cdn.123rf.com/ui-components/assets/svg/audio.svg: cannot identify image file <_io.BytesIO object at 0x000002203237BFB0>\n",
      "Error al descargar https://assets-cdn.123rf.com/ui-components/assets/svg/font-v2.svg: cannot identify image file <_io.BytesIO object at 0x00000220323C49F0>\n",
      "Error al descargar https://assets-cdn.123rf.com/ui-components/assets/svg/free.svg: cannot identify image file <_io.BytesIO object at 0x00000220323C41D0>\n",
      "Error al descargar https://assets-cdn.123rf.com/ui-components/assets/svg/ai-img-generator.svg: cannot identify image file <_io.BytesIO object at 0x000002207F1CA6B0>\n",
      "Error al descargar https://assets-cdn.123rf.com/ui-components/assets/svg/search.svg: cannot identify image file <_io.BytesIO object at 0x000002203237B3D0>\n",
      "Error al descargar https://assets-cdn.123rf.com/ui-components/assets/svg/plus.svg: cannot identify image file <_io.BytesIO object at 0x000002202F9624D0>\n",
      "Error al descargar https://assets-cdn.123rf.com/ui-components/assets/svg/collection.svg: cannot identify image file <_io.BytesIO object at 0x000002203237B9C0>\n",
      "Error al descargar https://assets-cdn.123rf.com/ui-components/assets/svg/collection.svg: cannot identify image file <_io.BytesIO object at 0x000002203237BAB0>\n",
      "Error al descargar https://assets-cdn.123rf.com/ui-components/assets/svg/collection.svg: cannot identify image file <_io.BytesIO object at 0x00000220323A7060>\n",
      "Error al descargar https://assets-cdn.123rf.com/ui-components/assets/svg/collection.svg: cannot identify image file <_io.BytesIO object at 0x0000022032433DD0>\n",
      "Error al descargar https://assets-cdn.123rf.com/ui-components/assets/svg/collection.svg: cannot identify image file <_io.BytesIO object at 0x000002203171CF90>\n",
      "Error al descargar https://assets-cdn.123rf.com/ui-components/assets/svg/collection.svg: cannot identify image file <_io.BytesIO object at 0x000002203237BAB0>\n",
      "Error al descargar https://assets-cdn.123rf.com/ui-components/assets/svg/collection.svg: cannot identify image file <_io.BytesIO object at 0x00000220323C4D10>\n"
     ]
    },
    {
     "name": "stderr",
     "output_type": "stream",
     "text": [
      "Procesando imágenes de https://es.123rf.com/imagenes-de-archivo/planta_de_cilantro.html:  21%|██        | 62/296 [00:02<00:13, 17.42it/s]"
     ]
    },
    {
     "name": "stdout",
     "output_type": "stream",
     "text": [
      "Error al descargar https://assets-cdn.123rf.com/ui-components/assets/svg/collection.svg: cannot identify image file <_io.BytesIO object at 0x000002207EEB6FC0>\n",
      "Error al descargar https://assets-cdn.123rf.com/ui-components/assets/svg/collection.svg: cannot identify image file <_io.BytesIO object at 0x000002203237BAB0>\n",
      "Error al descargar https://assets-cdn.123rf.com/ui-components/assets/svg/collection.svg: cannot identify image file <_io.BytesIO object at 0x000002203237BB00>\n"
     ]
    },
    {
     "name": "stderr",
     "output_type": "stream",
     "text": [
      "Procesando imágenes de https://es.123rf.com/imagenes-de-archivo/planta_de_cilantro.html:  22%|██▏       | 66/296 [00:02<00:15, 14.84it/s]"
     ]
    },
    {
     "name": "stdout",
     "output_type": "stream",
     "text": [
      "Error al descargar https://assets-cdn.123rf.com/ui-components/assets/svg/gradient/premium-crown-gradient2.svg: cannot identify image file <_io.BytesIO object at 0x000002207EEB6FC0>\n",
      "Error al descargar https://assets-cdn.123rf.com/ui-components/assets/svg/collection.svg: cannot identify image file <_io.BytesIO object at 0x00000220323C4900>\n"
     ]
    },
    {
     "name": "stderr",
     "output_type": "stream",
     "text": [
      "Procesando imágenes de https://es.123rf.com/imagenes-de-archivo/planta_de_cilantro.html:  26%|██▌       | 76/296 [00:02<00:09, 22.30it/s]"
     ]
    },
    {
     "name": "stdout",
     "output_type": "stream",
     "text": [
      "Error al descargar https://assets-cdn.123rf.com/ui-components/assets/svg/gradient/premium-crown-gradient2.svg: cannot identify image file <_io.BytesIO object at 0x000002203237BAB0>\n",
      "Error al descargar https://assets-cdn.123rf.com/ui-components/assets/svg/collection.svg: cannot identify image file <_io.BytesIO object at 0x00000220323C4C70>\n",
      "Error al descargar https://assets-cdn.123rf.com/ui-components/assets/svg/collection.svg: cannot identify image file <_io.BytesIO object at 0x000002203237B330>\n",
      "Error al descargar https://assets-cdn.123rf.com/ui-components/assets/svg/collection.svg: cannot identify image file <_io.BytesIO object at 0x00000220323C4E00>\n"
     ]
    },
    {
     "name": "stderr",
     "output_type": "stream",
     "text": [
      "Procesando imágenes de https://es.123rf.com/imagenes-de-archivo/planta_de_cilantro.html:  27%|██▋       | 80/296 [00:03<00:11, 18.50it/s]"
     ]
    },
    {
     "name": "stdout",
     "output_type": "stream",
     "text": [
      "Error al descargar https://assets-cdn.123rf.com/ui-components/assets/svg/collection.svg: cannot identify image file <_io.BytesIO object at 0x00000220323C4180>\n",
      "Error al descargar https://assets-cdn.123rf.com/ui-components/assets/svg/collection.svg: cannot identify image file <_io.BytesIO object at 0x00000220323C44A0>\n"
     ]
    },
    {
     "name": "stderr",
     "output_type": "stream",
     "text": [
      "Procesando imágenes de https://es.123rf.com/imagenes-de-archivo/planta_de_cilantro.html:  28%|██▊       | 83/296 [00:03<00:11, 17.84it/s]"
     ]
    },
    {
     "name": "stdout",
     "output_type": "stream",
     "text": [
      "Error al descargar https://assets-cdn.123rf.com/ui-components/assets/svg/collection.svg: cannot identify image file <_io.BytesIO object at 0x00000220323C4D60>\n",
      "Error al descargar https://assets-cdn.123rf.com/ui-components/assets/svg/collection.svg: cannot identify image file <_io.BytesIO object at 0x000002203237B970>\n",
      "Error al descargar https://assets-cdn.123rf.com/ui-components/assets/svg/collection.svg: cannot identify image file <_io.BytesIO object at 0x00000220323C4180>\n",
      "Error al descargar https://assets-cdn.123rf.com/ui-components/assets/svg/collection.svg: cannot identify image file <_io.BytesIO object at 0x000002202F99A520>\n"
     ]
    },
    {
     "name": "stderr",
     "output_type": "stream",
     "text": [
      "Procesando imágenes de https://es.123rf.com/imagenes-de-archivo/planta_de_cilantro.html:  29%|██▉       | 86/296 [00:03<00:14, 14.12it/s]"
     ]
    },
    {
     "name": "stdout",
     "output_type": "stream",
     "text": [
      "Error al descargar https://assets-cdn.123rf.com/ui-components/assets/svg/collection.svg: cannot identify image file <_io.BytesIO object at 0x00000220323C4D60>\n",
      "Error al descargar https://assets-cdn.123rf.com/ui-components/assets/svg/collection.svg: cannot identify image file <_io.BytesIO object at 0x00000220323C44A0>\n"
     ]
    },
    {
     "name": "stderr",
     "output_type": "stream",
     "text": [
      "Procesando imágenes de https://es.123rf.com/imagenes-de-archivo/planta_de_cilantro.html:  32%|███▏      | 96/296 [00:04<00:10, 18.26it/s]"
     ]
    },
    {
     "name": "stdout",
     "output_type": "stream",
     "text": [
      "Error al descargar https://assets-cdn.123rf.com/ui-components/assets/svg/collection.svg: cannot identify image file <_io.BytesIO object at 0x00000220323C4180>\n",
      "Error al descargar https://assets-cdn.123rf.com/ui-components/assets/svg/collection.svg: cannot identify image file <_io.BytesIO object at 0x00000220316E2E30>\n",
      "Error al descargar https://assets-cdn.123rf.com/ui-components/assets/svg/collection.svg: cannot identify image file <_io.BytesIO object at 0x000002203237BA60>\n",
      "Error al descargar https://assets-cdn.123rf.com/ui-components/assets/svg/gradient/premium-crown-gradient2.svg: cannot identify image file <_io.BytesIO object at 0x000002202F959990>\n"
     ]
    },
    {
     "name": "stderr",
     "output_type": "stream",
     "text": [
      "Procesando imágenes de https://es.123rf.com/imagenes-de-archivo/planta_de_cilantro.html:  36%|███▌      | 106/296 [00:04<00:09, 19.97it/s]"
     ]
    },
    {
     "name": "stdout",
     "output_type": "stream",
     "text": [
      "Error al descargar https://assets-cdn.123rf.com/ui-components/assets/svg/collection.svg: cannot identify image file <_io.BytesIO object at 0x000002203237BA60>\n",
      "Error al descargar https://assets-cdn.123rf.com/ui-components/assets/svg/gradient/premium-crown-gradient2.svg: cannot identify image file <_io.BytesIO object at 0x000002202F959990>\n",
      "Error al descargar https://assets-cdn.123rf.com/ui-components/assets/svg/collection.svg: cannot identify image file <_io.BytesIO object at 0x000002203237BB00>\n",
      "Error al descargar https://assets-cdn.123rf.com/ui-components/assets/svg/gradient/premium-crown-gradient2.svg: cannot identify image file <_io.BytesIO object at 0x000002203237BA60>\n"
     ]
    },
    {
     "name": "stderr",
     "output_type": "stream",
     "text": [
      "Procesando imágenes de https://es.123rf.com/imagenes-de-archivo/planta_de_cilantro.html:  37%|███▋      | 110/296 [00:04<00:08, 20.93it/s]"
     ]
    },
    {
     "name": "stdout",
     "output_type": "stream",
     "text": [
      "Error al descargar https://assets-cdn.123rf.com/ui-components/assets/svg/collection.svg: cannot identify image file <_io.BytesIO object at 0x000002207F1CA700>\n",
      "Error al descargar https://assets-cdn.123rf.com/ui-components/assets/svg/collection.svg: cannot identify image file <_io.BytesIO object at 0x00000220323C4EF0>\n",
      "Error al descargar https://assets-cdn.123rf.com/ui-components/assets/svg/collection.svg: cannot identify image file <_io.BytesIO object at 0x000002203237BA60>\n",
      "Error al descargar https://assets-cdn.123rf.com/ui-components/assets/svg/gradient/premium-crown-gradient2.svg: cannot identify image file <_io.BytesIO object at 0x000002207F1CA700>\n",
      "Error al descargar https://assets-cdn.123rf.com/ui-components/assets/svg/gradient/premium-crown-gradient2.svg: cannot identify image file <_io.BytesIO object at 0x000002203237BA60>\n",
      "Error al descargar https://assets-cdn.123rf.com/ui-components/assets/svg/collection.svg: cannot identify image file <_io.BytesIO object at 0x00000220316E2E30>\n",
      "Error al descargar https://assets-cdn.123rf.com/ui-components/assets/svg/collection.svg: cannot identify image file <_io.BytesIO object at 0x00000220323C4EF0>\n",
      "Error al descargar https://assets-cdn.123rf.com/ui-components/assets/svg/collection.svg: cannot identify image file <_io.BytesIO object at 0x000002203237BA60>\n",
      "Error al descargar https://assets-cdn.123rf.com/ui-components/assets/svg/collection.svg: cannot identify image file <_io.BytesIO object at 0x00000220323C43B0>\n",
      "Error al descargar https://assets-cdn.123rf.com/ui-components/assets/svg/gradient/premium-crown-gradient2.svg: cannot identify image file <_io.BytesIO object at 0x0000022031C0F100>\n",
      "Error al descargar https://assets-cdn.123rf.com/ui-components/assets/svg/collection.svg: cannot identify image file <_io.BytesIO object at 0x00000220323C4E50>\n",
      "Error al descargar https://assets-cdn.123rf.com/ui-components/assets/svg/collection.svg: cannot identify image file <_io.BytesIO object at 0x00000220323C41D0>\n",
      "Error al descargar https://assets-cdn.123rf.com/ui-components/assets/svg/collection.svg: cannot identify image file <_io.BytesIO object at 0x0000022032433D80>\n",
      "Error al descargar https://assets-cdn.123rf.com/ui-components/assets/svg/collection.svg: cannot identify image file <_io.BytesIO object at 0x00000220323A7C40>\n",
      "Error al descargar https://assets-cdn.123rf.com/ui-components/assets/svg/collection.svg: cannot identify image file <_io.BytesIO object at 0x00000220323C43B0>\n",
      "Error al descargar https://assets-cdn.123rf.com/ui-components/assets/svg/collection.svg: cannot identify image file <_io.BytesIO object at 0x000002203237B3D0>\n",
      "Error al descargar https://assets-cdn.123rf.com/ui-components/assets/svg/gradient/premium-crown-gradient2.svg: cannot identify image file <_io.BytesIO object at 0x00000220323C43B0>\n",
      "Error al descargar https://assets-cdn.123rf.com/ui-components/assets/svg/collection.svg: cannot identify image file <_io.BytesIO object at 0x0000022032432B10>\n",
      "Error al descargar https://assets-cdn.123rf.com/ui-components/assets/svg/gradient/premium-crown-gradient2.svg: cannot identify image file <_io.BytesIO object at 0x0000022032433510>\n",
      "Error al descargar https://assets-cdn.123rf.com/ui-components/assets/svg/collection.svg: cannot identify image file <_io.BytesIO object at 0x00000220323C43B0>\n",
      "Error al descargar https://assets-cdn.123rf.com/ui-components/assets/svg/collection.svg: cannot identify image file <_io.BytesIO object at 0x000002203237B8D0>\n",
      "Error al descargar https://assets-cdn.123rf.com/ui-components/assets/svg/collection.svg: cannot identify image file <_io.BytesIO object at 0x00000220323C43B0>\n",
      "Error al descargar https://assets-cdn.123rf.com/ui-components/assets/svg/gradient/premium-crown-gradient2.svg: cannot identify image file <_io.BytesIO object at 0x0000022030C42110>\n",
      "Error al descargar https://assets-cdn.123rf.com/ui-components/assets/svg/collection.svg: cannot identify image file <_io.BytesIO object at 0x0000022031C0F100>\n",
      "Error al descargar https://assets-cdn.123rf.com/ui-components/assets/svg/collection.svg: cannot identify image file <_io.BytesIO object at 0x000002203237B8D0>\n",
      "Error al descargar https://assets-cdn.123rf.com/ui-components/assets/svg/collection.svg: cannot identify image file <_io.BytesIO object at 0x000002203237BAB0>\n"
     ]
    },
    {
     "name": "stderr",
     "output_type": "stream",
     "text": [
      "Procesando imágenes de https://es.123rf.com/imagenes-de-archivo/planta_de_cilantro.html:  38%|███▊      | 113/296 [00:07<00:41,  4.38it/s]"
     ]
    },
    {
     "name": "stdout",
     "output_type": "stream",
     "text": [
      "Error al descargar https://assets-cdn.123rf.com/ui-components/assets/svg/gradient/premium-crown-gradient2.svg: cannot identify image file <_io.BytesIO object at 0x0000022031C0F100>\n",
      "Error al descargar https://assets-cdn.123rf.com/ui-components/assets/svg/collection.svg: cannot identify image file <_io.BytesIO object at 0x0000022032433AB0>\n",
      "Error al descargar https://assets-cdn.123rf.com/ui-components/assets/svg/gradient/premium-crown-gradient2.svg: cannot identify image file <_io.BytesIO object at 0x00000220323C4D60>\n"
     ]
    },
    {
     "name": "stderr",
     "output_type": "stream",
     "text": [
      "Procesando imágenes de https://es.123rf.com/imagenes-de-archivo/planta_de_cilantro.html:  55%|█████▍    | 162/296 [00:07<00:05, 23.35it/s]"
     ]
    },
    {
     "name": "stdout",
     "output_type": "stream",
     "text": [
      "Error al descargar https://assets-cdn.123rf.com/ui-components/assets/svg/gradient/premium-crown-gradient2.svg: cannot identify image file <_io.BytesIO object at 0x0000022032433830>\n",
      "Error al descargar https://assets-cdn.123rf.com/ui-components/assets/svg/collection.svg: cannot identify image file <_io.BytesIO object at 0x000002203237B8D0>\n",
      "Error al descargar https://assets-cdn.123rf.com/ui-components/assets/svg/gradient/premium-crown-gradient2.svg: cannot identify image file <_io.BytesIO object at 0x00000220323C4270>\n",
      "Error al descargar https://assets-cdn.123rf.com/ui-components/assets/svg/collection.svg: cannot identify image file <_io.BytesIO object at 0x00000220323A4D10>\n",
      "Error al descargar https://assets-cdn.123rf.com/ui-components/assets/svg/gradient/premium-crown-gradient2.svg: cannot identify image file <_io.BytesIO object at 0x000002203237B970>\n",
      "Error al descargar https://assets-cdn.123rf.com/ui-components/assets/svg/collection.svg: cannot identify image file <_io.BytesIO object at 0x000002203237B920>\n",
      "Error al descargar https://assets-cdn.123rf.com/ui-components/assets/svg/collection.svg: cannot identify image file <_io.BytesIO object at 0x0000022032433290>\n",
      "Error al descargar https://assets-cdn.123rf.com/ui-components/assets/svg/collection.svg: cannot identify image file <_io.BytesIO object at 0x00000220323C49F0>\n",
      "Error al descargar https://assets-cdn.123rf.com/ui-components/assets/svg/collection.svg: cannot identify image file <_io.BytesIO object at 0x0000022031C0F1A0>\n",
      "Error al descargar https://assets-cdn.123rf.com/ui-components/assets/svg/gradient/premium-crown-gradient2.svg: cannot identify image file <_io.BytesIO object at 0x00000220323C4D60>\n",
      "Error al descargar https://assets-cdn.123rf.com/ui-components/assets/svg/collection.svg: cannot identify image file <_io.BytesIO object at 0x00000220323C41D0>\n"
     ]
    },
    {
     "name": "stderr",
     "output_type": "stream",
     "text": [
      "Procesando imágenes de https://es.123rf.com/imagenes-de-archivo/planta_de_cilantro.html:  58%|█████▊    | 171/296 [00:08<00:06, 20.33it/s]\n"
     ]
    },
    {
     "name": "stdout",
     "output_type": "stream",
     "text": [
      "Error al descargar https://assets-cdn.123rf.com/ui-components/assets/svg/gradient/premium-crown-gradient2.svg: cannot identify image file <_io.BytesIO object at 0x000002203237B920>\n",
      "Error al descargar https://assets-cdn.123rf.com/ui-components/assets/svg/collection.svg: cannot identify image file <_io.BytesIO object at 0x00000220323C49F0>\n",
      "Error al descargar https://assets-cdn.123rf.com/ui-components/assets/svg/collection.svg: cannot identify image file <_io.BytesIO object at 0x00000220324334C0>\n",
      "Error al descargar https://assets-cdn.123rf.com/ui-components/assets/svg/collection.svg: cannot identify image file <_io.BytesIO object at 0x000002203237B8D0>\n",
      "Error al descargar https://assets-cdn.123rf.com/ui-components/assets/svg/collection.svg: cannot identify image file <_io.BytesIO object at 0x00000220323C4D60>\n",
      "Error al descargar https://assets-cdn.123rf.com/ui-components/assets/svg/gradient/premium-crown-gradient2.svg: cannot identify image file <_io.BytesIO object at 0x00000220323C4DB0>\n",
      "Error al descargar https://assets-cdn.123rf.com/ui-components/assets/svg/collection.svg: cannot identify image file <_io.BytesIO object at 0x00000220323C49F0>\n",
      "Error al descargar https://assets-cdn.123rf.com/ui-components/assets/svg/gradient/premium-crown-gradient2.svg: cannot identify image file <_io.BytesIO object at 0x0000022032433290>\n",
      "Error al descargar https://assets-cdn.123rf.com/ui-components/assets/svg/collection.svg: cannot identify image file <_io.BytesIO object at 0x00000220324338D0>\n",
      "Error al descargar https://assets-cdn.123rf.com/ui-components/assets/svg/gradient/premium-crown-gradient2.svg: cannot identify image file <_io.BytesIO object at 0x0000022032433830>\n",
      "Error al descargar https://assets-cdn.123rf.com/ui-components/assets/svg/collection.svg: cannot identify image file <_io.BytesIO object at 0x0000022032433290>\n",
      "Error al descargar https://assets-cdn.123rf.com/ui-components/assets/svg/collection.svg: cannot identify image file <_io.BytesIO object at 0x00000220323C4F90>\n",
      "Error al descargar https://assets-cdn.123rf.com/ui-components/assets/svg/collection.svg: cannot identify image file <_io.BytesIO object at 0x0000022031C0F1A0>\n",
      "Error al descargar https://assets-cdn.123rf.com/ui-components/assets/svg/collection.svg: cannot identify image file <_io.BytesIO object at 0x0000022032433290>\n",
      "Error al descargar https://assets-cdn.123rf.com/ui-components/assets/svg/collection.svg: cannot identify image file <_io.BytesIO object at 0x0000022032432E30>\n",
      "Error al descargar https://assets-cdn.123rf.com/ui-components/assets/svg/collection.svg: cannot identify image file <_io.BytesIO object at 0x000002203237B3D0>\n",
      "Error al descargar https://assets-cdn.123rf.com/ui-components/assets/svg/gradient/premium-crown-gradient2.svg: cannot identify image file <_io.BytesIO object at 0x0000022032432980>\n",
      "Error al descargar https://assets-cdn.123rf.com/ui-components/assets/svg/collection.svg: cannot identify image file <_io.BytesIO object at 0x000002203237B380>\n",
      "Error al descargar https://assets-cdn.123rf.com/ui-components/assets/svg/collection.svg: cannot identify image file <_io.BytesIO object at 0x0000022032433EC0>\n",
      "Error al descargar https://assets-cdn.123rf.com/ui-components/assets/svg/collection.svg: cannot identify image file <_io.BytesIO object at 0x0000022031C0F1A0>\n",
      "Error al descargar https://assets-cdn.123rf.com/ui-components/assets/svg/collection.svg: cannot identify image file <_io.BytesIO object at 0x00000220324338D0>\n",
      "Error al descargar https://assets-cdn.123rf.com/ui-components/assets/svg/collection.svg: cannot identify image file <_io.BytesIO object at 0x0000022032433CE0>\n",
      "Error al descargar https://assets-cdn.123rf.com/ui-components/assets/svg/collection.svg: cannot identify image file <_io.BytesIO object at 0x0000022032433D30>\n",
      "Error al descargar https://assets-cdn.123rf.com/ui-components/assets/svg/collection.svg: cannot identify image file <_io.BytesIO object at 0x00000220324338D0>\n",
      "Error al descargar https://assets-cdn.123rf.com/ui-components/assets/svg/gradient/premium-crown-gradient2.svg: cannot identify image file <_io.BytesIO object at 0x0000022032433380>\n",
      "Error al descargar https://assets-cdn.123rf.com/ui-components/assets/svg/collection.svg: cannot identify image file <_io.BytesIO object at 0x0000022032433740>\n",
      "Error al descargar https://assets-cdn.123rf.com/ui-components/assets/svg/gradient/premium-crown-gradient2.svg: cannot identify image file <_io.BytesIO object at 0x00000220324333D0>\n",
      "Error al descargar https://assets-cdn.123rf.com/ui-components/assets/svg/collection.svg: cannot identify image file <_io.BytesIO object at 0x0000022032432E80>\n",
      "Error al descargar https://assets-cdn.123rf.com/ui-components/assets/svg/collection.svg: cannot identify image file <_io.BytesIO object at 0x0000022032432B10>\n",
      "Error al descargar https://assets-cdn.123rf.com/ui-components/assets/svg/collection.svg: cannot identify image file <_io.BytesIO object at 0x0000022032433BF0>\n",
      "Error al descargar https://assets-cdn.123rf.com/ui-components/assets/svg/collection.svg: cannot identify image file <_io.BytesIO object at 0x00000220324337E0>\n",
      "Error al descargar https://assets-cdn.123rf.com/ui-components/assets/svg/collection.svg: cannot identify image file <_io.BytesIO object at 0x0000022032433EC0>\n",
      "Error al descargar https://assets-cdn.123rf.com/ui-components/assets/svg/collection.svg: cannot identify image file <_io.BytesIO object at 0x0000022032433880>\n",
      "Error al descargar https://assets-cdn.123rf.com/ui-components/assets/svg/collection.svg: cannot identify image file <_io.BytesIO object at 0x00000220323C4270>\n",
      "Error al descargar https://assets-cdn.123rf.com/ui-components/assets/svg/collection.svg: cannot identify image file <_io.BytesIO object at 0x00000220324337E0>\n",
      "Error al descargar https://assets-cdn.123rf.com/ui-components/assets/svg/gradient/premium-crown-gradient2.svg: cannot identify image file <_io.BytesIO object at 0x00000220323A7600>\n",
      "Error al descargar https://assets-cdn.123rf.com/ui-components/assets/svg/collection.svg: cannot identify image file <_io.BytesIO object at 0x00000220323C41D0>\n",
      "Error al descargar https://assets-cdn.123rf.com/ui-components/assets/svg/collection.svg: cannot identify image file <_io.BytesIO object at 0x00000220324337E0>\n",
      "Error al descargar https://assets-cdn.123rf.com/ui-components/assets/svg/gradient/premium-crown-gradient2.svg: cannot identify image file <_io.BytesIO object at 0x0000022032433AB0>\n",
      "Error al descargar https://assets-cdn.123rf.com/ui-components/assets/svg/collection.svg: cannot identify image file <_io.BytesIO object at 0x00000220323C4270>\n",
      "Error al descargar https://assets-cdn.123rf.com/ui-components/assets/svg/collection.svg: cannot identify image file <_io.BytesIO object at 0x0000022032432E80>\n",
      "Error al descargar https://assets-cdn.123rf.com/ui-components/assets/svg/gradient/premium-crown-gradient2.svg: cannot identify image file <_io.BytesIO object at 0x00000220324325C0>\n",
      "Error al descargar https://assets-cdn.123rf.com/ui-components/assets/svg/collection.svg: cannot identify image file <_io.BytesIO object at 0x00000220323C41D0>\n",
      "Error al descargar https://assets-cdn.123rf.com/ui-components/assets/svg/collection.svg: cannot identify image file <_io.BytesIO object at 0x00000220323C49A0>\n",
      "Error al descargar https://assets-cdn.123rf.com/ui-components/assets/svg/collection.svg: cannot identify image file <_io.BytesIO object at 0x00000220323C4270>\n",
      "Error al descargar https://assets-cdn.123rf.com/ui-components/assets/svg/gradient/premium-crown-gradient2.svg: cannot identify image file <_io.BytesIO object at 0x000002202F9749F0>\n",
      "Error al descargar https://assets-cdn.123rf.com/ui-components/assets/svg/collection.svg: cannot identify image file <_io.BytesIO object at 0x00000220323C41D0>\n",
      "Error al descargar https://assets-cdn.123rf.com/ui-components/assets/svg/collection.svg: cannot identify image file <_io.BytesIO object at 0x0000022031C0F1A0>\n",
      "Error al descargar https://assets-cdn.123rf.com/ui-components/assets/svg/collection.svg: cannot identify image file <_io.BytesIO object at 0x00000220323A6840>\n",
      "Error al descargar https://assets-cdn.123rf.com/ui-components/assets/svg/gradient/premium-crown-gradient2.svg: cannot identify image file <_io.BytesIO object at 0x0000022031C0F1A0>\n",
      "Error al descargar https://assets-cdn.123rf.com/ui-components/assets/svg/collection.svg: cannot identify image file <_io.BytesIO object at 0x0000022032433E70>\n",
      "Error al descargar https://assets-cdn.123rf.com/ui-components/assets/svg/collection.svg: cannot identify image file <_io.BytesIO object at 0x0000022032433CE0>\n",
      "Error al descargar https://assets-cdn.123rf.com/ui-components/assets/svg/collection.svg: cannot identify image file <_io.BytesIO object at 0x00000220323C49F0>\n",
      "Error al descargar https://assets-cdn.123rf.com/ui-components/assets/svg/collection.svg: cannot identify image file <_io.BytesIO object at 0x0000022032432A70>\n",
      "Error al descargar https://assets-cdn.123rf.com/ui-components/assets/svg/collection.svg: cannot identify image file <_io.BytesIO object at 0x0000022032432E80>\n",
      "Error al descargar https://assets-cdn.123rf.com/ui-components/assets/svg/collection.svg: cannot identify image file <_io.BytesIO object at 0x0000022032433650>\n",
      "Error al descargar https://assets-cdn.123rf.com/ui-components/assets/svg/chevron-down.svg: cannot identify image file <_io.BytesIO object at 0x00000220323A6020>\n",
      "Error al descargar https://assets-cdn.123rf.com/ui-components/assets/svg/chevron-down.svg: cannot identify image file <_io.BytesIO object at 0x0000022032433BF0>\n",
      "Error al descargar https://assets-cdn.123rf.com/ui-components/assets/svg/chevron-down.svg: cannot identify image file <_io.BytesIO object at 0x00000220323C49A0>\n",
      "Error al descargar https://assets-cdn.123rf.com/ui-components/assets/svg/chevron-down.svg: cannot identify image file <_io.BytesIO object at 0x00000220323C41D0>\n",
      "Error al descargar https://assets-cdn.123rf.com/ui-components/assets/svg/chevron-down.svg: cannot identify image file <_io.BytesIO object at 0x0000022032432A70>\n",
      "Error al descargar https://assets-cdn.123rf.com/ui-components/assets/svg/facebook.svg: cannot identify image file <_io.BytesIO object at 0x0000022032433560>\n",
      "Error al descargar https://assets-cdn.123rf.com/ui-components/assets/svg/twitter-v2.svg: cannot identify image file <_io.BytesIO object at 0x00000220324336F0>\n",
      "Error al descargar https://assets-cdn.123rf.com/ui-components/assets/svg/instagram-v2.svg: cannot identify image file <_io.BytesIO object at 0x0000022032432FC0>\n",
      "Error al descargar https://assets-cdn.123rf.com/ui-components/assets/svg/pinterest.svg: cannot identify image file <_io.BytesIO object at 0x00000220323C41D0>\n",
      "Error al descargar https://assets-cdn.123rf.com/ui-components/assets/svg/whatsapp-v3.svg: cannot identify image file <_io.BytesIO object at 0x000002203237B9C0>\n",
      "Clase 'cilantro' completada: 40 para entrenamiento, 10 para validación.\n",
      "Buscando imágenes para la clase: eucalipto\n",
      "Error procesando https://depositphotos.com/es/photos/eucalipto.html: HTTPSConnectionPool(host='depositphotos.com', port=443): Max retries exceeded with url: /es/photos/eucalipto.html (Caused by ConnectTimeoutError(<urllib3.connection.HTTPSConnection object at 0x0000022031DB4B50>, 'Connection to depositphotos.com timed out. (connect timeout=10)'))\n"
     ]
    },
    {
     "name": "stderr",
     "output_type": "stream",
     "text": [
      "Procesando imágenes de https://es.123rf.com/imagenes-de-archivo/eucalipto.html:   4%|▎         | 11/312 [00:00<00:09, 30.11it/s]"
     ]
    },
    {
     "name": "stdout",
     "output_type": "stream",
     "text": [
      "Error al descargar https://assets-cdn.123rf.com/ui-components/assets/svg/gradient/123rf-logo-gradient.svg: cannot identify image file <_io.BytesIO object at 0x0000022030E66700>\n",
      "Error al descargar https://assets-cdn.123rf.com/ui-components/assets/svg/ai-face-swap.svg: cannot identify image file <_io.BytesIO object at 0x0000022030E56CF0>\n",
      "Error al descargar https://assets-cdn.123rf.com/ui-components/assets/svg/chevron-down.svg: cannot identify image file <_io.BytesIO object at 0x0000022030E66D40>\n",
      "Error al descargar https://assets-cdn.123rf.com/ui-components/assets/svg/ai-img-upscaler.svg: cannot identify image file <_io.BytesIO object at 0x0000022030E2C270>\n",
      "Error al descargar https://assets-cdn.123rf.com/ui-components/assets/svg/ai-img-generator.svg: cannot identify image file <_io.BytesIO object at 0x0000022030E67EC0>\n",
      "Error al descargar https://assets-cdn.123rf.com/ui-components/assets/svg/ai-sketch.svg: cannot identify image file <_io.BytesIO object at 0x000002203114EFC0>\n"
     ]
    },
    {
     "name": "stderr",
     "output_type": "stream",
     "text": [
      "Procesando imágenes de https://es.123rf.com/imagenes-de-archivo/eucalipto.html:   5%|▌         | 16/312 [00:00<00:08, 33.40it/s]"
     ]
    },
    {
     "name": "stdout",
     "output_type": "stream",
     "text": [
      "Error al descargar https://assets-cdn.123rf.com/ui-components/assets/svg/ai-generative-fill.svg: cannot identify image file <_io.BytesIO object at 0x0000022030DA3DD0>\n",
      "Error al descargar https://assets-cdn.123rf.com/ui-components/assets/svg/ai-bg-blur.svg: cannot identify image file <_io.BytesIO object at 0x0000022030DA3EC0>\n",
      "Error al descargar https://assets-cdn.123rf.com/ui-components/assets/svg/ai-img-extender.svg: cannot identify image file <_io.BytesIO object at 0x0000022030E67E70>\n",
      "Error al descargar https://assets-cdn.123rf.com/ui-components/assets/svg/ai-bg-remix.svg: cannot identify image file <_io.BytesIO object at 0x0000022030E2C0E0>\n",
      "Error al descargar https://assets-cdn.123rf.com/ui-components/assets/svg/ai-writer.svg: cannot identify image file <_io.BytesIO object at 0x0000022030E66F20>\n"
     ]
    },
    {
     "name": "stderr",
     "output_type": "stream",
     "text": [
      "Procesando imágenes de https://es.123rf.com/imagenes-de-archivo/eucalipto.html:  10%|▉         | 30/312 [00:00<00:06, 46.83it/s]"
     ]
    },
    {
     "name": "stdout",
     "output_type": "stream",
     "text": [
      "Error al descargar https://assets-cdn.123rf.com/ui-components/assets/svg/ai-bg-removal.svg: cannot identify image file <_io.BytesIO object at 0x000002203114EC00>\n",
      "Error al descargar https://assets-cdn.123rf.com/ui-components/assets/svg/chevron-down.svg: cannot identify image file <_io.BytesIO object at 0x0000022030DA3FB0>\n",
      "Error al descargar https://assets-cdn.123rf.com/ui-components/assets/svg/chevron-down.svg: cannot identify image file <_io.BytesIO object at 0x0000022030E2C270>\n",
      "Error al descargar https://assets-cdn.123rf.com/ui-components/assets/svg/tick.svg: cannot identify image file <_io.BytesIO object at 0x0000022030E67F10>\n",
      "Error al descargar https://assets-cdn.123rf.com/ui-components/assets/svg/tick.svg: cannot identify image file <_io.BytesIO object at 0x0000022030DA3F60>\n",
      "Error al descargar https://assets-cdn.123rf.com/ui-components/assets/images/plus-upsell-ai-v3.png: cannot write mode P as JPEG\n",
      "Error al descargar https://assets-cdn.123rf.com/ui-components/assets/svg/tick.svg: cannot identify image file <_io.BytesIO object at 0x0000022030E2C220>\n",
      "Error al descargar https://assets-cdn.123rf.com/ui-components/assets/svg/tick.svg: cannot identify image file <_io.BytesIO object at 0x0000022030E2C0E0>\n",
      "Error al descargar https://assets-cdn.123rf.com/ui-components/assets/svg/tick.svg: cannot identify image file <_io.BytesIO object at 0x000002203114EFC0>\n",
      "Error al descargar https://assets-cdn.123rf.com/ui-components/assets/svg/tick.svg: cannot identify image file <_io.BytesIO object at 0x00000220323A5490>\n"
     ]
    },
    {
     "name": "stderr",
     "output_type": "stream",
     "text": [
      "Procesando imágenes de https://es.123rf.com/imagenes-de-archivo/eucalipto.html:  12%|█▏        | 36/312 [00:00<00:06, 43.53it/s]"
     ]
    },
    {
     "name": "stdout",
     "output_type": "stream",
     "text": [
      "Error al descargar https://assets-cdn.123rf.com/ui-components/assets/svg/tick.svg: cannot identify image file <_io.BytesIO object at 0x000002203114EC00>\n",
      "Error al descargar https://assets-cdn.123rf.com/ui-components/assets/svg/tick.svg: cannot identify image file <_io.BytesIO object at 0x0000022030E2C270>\n",
      "Error al descargar https://assets-cdn.123rf.com/ui-components/assets/svg/tick.svg: cannot identify image file <_io.BytesIO object at 0x0000022030DA3FB0>\n",
      "Error al descargar https://assets-cdn.123rf.com/ui-components/assets/svg/tick.svg: cannot identify image file <_io.BytesIO object at 0x0000022030E67F10>\n",
      "Error al descargar https://assets-cdn.123rf.com/ui-components/assets/svg/tick.svg: cannot identify image file <_io.BytesIO object at 0x0000022030E2C1D0>\n",
      "Error al descargar https://assets-cdn.123rf.com/ui-components/assets/svg/tick.svg: cannot identify image file <_io.BytesIO object at 0x0000022030E66C00>\n",
      "Error al descargar https://assets-cdn.123rf.com/ui-components/assets/svg/tick.svg: cannot identify image file <_io.BytesIO object at 0x0000022030E2C220>\n",
      "Error al descargar https://assets-cdn.123rf.com/ui-components/assets/svg/tick.svg: cannot identify image file <_io.BytesIO object at 0x0000022030E67CE0>\n",
      "Error al descargar https://assets-cdn.123rf.com/ui-components/assets/svg/tick.svg: cannot identify image file <_io.BytesIO object at 0x000002203114EFC0>\n",
      "Error al descargar https://assets-cdn.123rf.com/ui-components/assets/svg/menu.svg: cannot identify image file <_io.BytesIO object at 0x00000220323A5490>\n"
     ]
    },
    {
     "name": "stderr",
     "output_type": "stream",
     "text": [
      "Procesando imágenes de https://es.123rf.com/imagenes-de-archivo/eucalipto.html:  16%|█▌        | 49/312 [00:01<00:05, 44.95it/s]"
     ]
    },
    {
     "name": "stdout",
     "output_type": "stream",
     "text": [
      "Error al descargar https://assets-cdn.123rf.com/ui-components/assets/svg/camera.svg: cannot identify image file <_io.BytesIO object at 0x00000220323A7B00>\n",
      "Error al descargar https://assets-cdn.123rf.com/ui-components/assets/svg/close.svg: cannot identify image file <_io.BytesIO object at 0x0000022030E2C270>\n",
      "Error al descargar https://assets-cdn.123rf.com/ui-components/assets/svg/all-images.svg: cannot identify image file <_io.BytesIO object at 0x0000022030E672E0>\n",
      "Error al descargar https://assets-cdn.123rf.com/ui-components/assets/svg/upload.svg: cannot identify image file <_io.BytesIO object at 0x0000022030E66CF0>\n",
      "Error al descargar https://assets-cdn.123rf.com/ui-components/assets/svg/chevron-down.svg: cannot identify image file <_io.BytesIO object at 0x0000022030E2C0E0>\n",
      "Error al descargar https://assets-cdn.123rf.com/ui-components/assets/svg/close.svg: cannot identify image file <_io.BytesIO object at 0x000002207EFCA9D0>\n",
      "Error al descargar https://assets-cdn.123rf.com/ui-components/assets/svg/camera.svg: cannot identify image file <_io.BytesIO object at 0x0000022030E2C220>\n",
      "Error al descargar https://assets-cdn.123rf.com/ui-components/assets/svg/premium.svg: cannot identify image file <_io.BytesIO object at 0x0000022030E576F0>\n",
      "Error al descargar https://assets-cdn.123rf.com/ui-components/assets/svg/all-images.svg: cannot identify image file <_io.BytesIO object at 0x0000022030E66750>\n",
      "Error al descargar https://assets-cdn.123rf.com/ui-components/assets/svg/photos.svg: cannot identify image file <_io.BytesIO object at 0x000002203114E6B0>\n"
     ]
    },
    {
     "name": "stderr",
     "output_type": "stream",
     "text": [
      "Procesando imágenes de https://es.123rf.com/imagenes-de-archivo/eucalipto.html:  20%|█▉        | 61/312 [00:01<00:05, 47.59it/s]"
     ]
    },
    {
     "name": "stdout",
     "output_type": "stream",
     "text": [
      "Error al descargar https://assets-cdn.123rf.com/ui-components/assets/svg/footage.svg: cannot identify image file <_io.BytesIO object at 0x0000022030C42B60>\n",
      "Error al descargar https://assets-cdn.123rf.com/ui-components/assets/svg/vector.svg: cannot identify image file <_io.BytesIO object at 0x00000220323A5B70>\n",
      "Error al descargar https://assets-cdn.123rf.com/ui-components/assets/svg/audio.svg: cannot identify image file <_io.BytesIO object at 0x0000022030E67F10>\n",
      "Error al descargar https://assets-cdn.123rf.com/ui-components/assets/svg/font-v2.svg: cannot identify image file <_io.BytesIO object at 0x0000022030E66CF0>\n",
      "Error al descargar https://assets-cdn.123rf.com/ui-components/assets/svg/ai-img-generator.svg: cannot identify image file <_io.BytesIO object at 0x0000022030E57920>\n",
      "Error al descargar https://assets-cdn.123rf.com/ui-components/assets/svg/plus.svg: cannot identify image file <_io.BytesIO object at 0x0000022030DA3E20>\n",
      "Error al descargar https://assets-cdn.123rf.com/ui-components/assets/svg/free.svg: cannot identify image file <_io.BytesIO object at 0x0000022030E2C220>\n",
      "Error al descargar https://assets-cdn.123rf.com/ui-components/assets/svg/search.svg: cannot identify image file <_io.BytesIO object at 0x0000022030E54C20>\n",
      "Error al descargar https://assets-cdn.123rf.com/ui-components/assets/svg/gradient/premium-crown-gradient2.svg: cannot identify image file <_io.BytesIO object at 0x00000220323A4540>\n"
     ]
    },
    {
     "name": "stderr",
     "output_type": "stream",
     "text": [
      "Procesando imágenes de https://es.123rf.com/imagenes-de-archivo/eucalipto.html:  21%|██▏       | 67/312 [00:01<00:05, 41.54it/s]"
     ]
    },
    {
     "name": "stdout",
     "output_type": "stream",
     "text": [
      "Error al descargar https://assets-cdn.123rf.com/ui-components/assets/svg/collection.svg: cannot identify image file <_io.BytesIO object at 0x000002203114E2F0>\n",
      "Error al descargar https://assets-cdn.123rf.com/ui-components/assets/svg/gradient/premium-crown-gradient2.svg: cannot identify image file <_io.BytesIO object at 0x0000022030DA3D80>\n",
      "Error al descargar https://assets-cdn.123rf.com/ui-components/assets/svg/collection.svg: cannot identify image file <_io.BytesIO object at 0x0000022030E2C2C0>\n",
      "Error al descargar https://assets-cdn.123rf.com/ui-components/assets/svg/collection.svg: cannot identify image file <_io.BytesIO object at 0x0000022030E2C220>\n",
      "Error al descargar https://assets-cdn.123rf.com/ui-components/assets/svg/gradient/premium-crown-gradient2.svg: cannot identify image file <_io.BytesIO object at 0x000002207EFCA9D0>\n",
      "Error al descargar https://assets-cdn.123rf.com/ui-components/assets/svg/gradient/premium-crown-gradient2.svg: cannot identify image file <_io.BytesIO object at 0x0000022030E66750>\n",
      "Error al descargar https://assets-cdn.123rf.com/ui-components/assets/svg/collection.svg: cannot identify image file <_io.BytesIO object at 0x000002207E94AE80>\n"
     ]
    },
    {
     "name": "stderr",
     "output_type": "stream",
     "text": [
      "Procesando imágenes de https://es.123rf.com/imagenes-de-archivo/eucalipto.html:  26%|██▌       | 81/312 [00:01<00:04, 49.38it/s]"
     ]
    },
    {
     "name": "stdout",
     "output_type": "stream",
     "text": [
      "Error al descargar https://assets-cdn.123rf.com/ui-components/assets/svg/collection.svg: cannot identify image file <_io.BytesIO object at 0x0000022030E67C40>\n",
      "Error al descargar https://assets-cdn.123rf.com/ui-components/assets/svg/gradient/premium-crown-gradient2.svg: cannot identify image file <_io.BytesIO object at 0x0000022030E54950>\n",
      "Error al descargar https://assets-cdn.123rf.com/ui-components/assets/svg/collection.svg: cannot identify image file <_io.BytesIO object at 0x0000022031C0E020>\n",
      "Error al descargar https://assets-cdn.123rf.com/ui-components/assets/svg/collection.svg: cannot identify image file <_io.BytesIO object at 0x0000022030E2C360>\n",
      "Error al descargar https://assets-cdn.123rf.com/ui-components/assets/svg/gradient/premium-crown-gradient2.svg: cannot identify image file <_io.BytesIO object at 0x0000022030DA3E20>\n",
      "Error al descargar https://assets-cdn.123rf.com/ui-components/assets/svg/gradient/premium-crown-gradient2.svg: cannot identify image file <_io.BytesIO object at 0x0000022030DA3CE0>\n",
      "Error al descargar https://assets-cdn.123rf.com/ui-components/assets/svg/collection.svg: cannot identify image file <_io.BytesIO object at 0x000002203114E6B0>\n"
     ]
    },
    {
     "name": "stderr",
     "output_type": "stream",
     "text": [
      "Procesando imágenes de https://es.123rf.com/imagenes-de-archivo/eucalipto.html:  30%|██▉       | 93/312 [00:02<00:05, 42.65it/s]"
     ]
    },
    {
     "name": "stdout",
     "output_type": "stream",
     "text": [
      "Error al descargar https://assets-cdn.123rf.com/ui-components/assets/svg/collection.svg: cannot identify image file <_io.BytesIO object at 0x0000022030E67C40>\n",
      "Error al descargar https://assets-cdn.123rf.com/ui-components/assets/svg/collection.svg: cannot identify image file <_io.BytesIO object at 0x0000022030E2C2C0>\n",
      "Error al descargar https://assets-cdn.123rf.com/ui-components/assets/svg/gradient/premium-crown-gradient2.svg: cannot identify image file <_io.BytesIO object at 0x0000022030DA3D80>\n",
      "Error al descargar https://assets-cdn.123rf.com/ui-components/assets/svg/collection.svg: cannot identify image file <_io.BytesIO object at 0x0000022030DA3E70>\n",
      "Error al descargar https://assets-cdn.123rf.com/ui-components/assets/svg/collection.svg: cannot identify image file <_io.BytesIO object at 0x0000022030E2C360>\n",
      "Error al descargar https://assets-cdn.123rf.com/ui-components/assets/svg/collection.svg: cannot identify image file <_io.BytesIO object at 0x0000022030DA3DD0>\n"
     ]
    },
    {
     "name": "stderr",
     "output_type": "stream",
     "text": [
      "Procesando imágenes de https://es.123rf.com/imagenes-de-archivo/eucalipto.html:  32%|███▏      | 100/312 [00:02<00:05, 41.94it/s]"
     ]
    },
    {
     "name": "stdout",
     "output_type": "stream",
     "text": [
      "Error al descargar https://assets-cdn.123rf.com/ui-components/assets/svg/collection.svg: cannot identify image file <_io.BytesIO object at 0x0000022030C40680>\n",
      "Error al descargar https://assets-cdn.123rf.com/ui-components/assets/svg/collection.svg: cannot identify image file <_io.BytesIO object at 0x0000022031C0F1A0>\n",
      "Error al descargar https://assets-cdn.123rf.com/ui-components/assets/svg/gradient/premium-crown-gradient2.svg: cannot identify image file <_io.BytesIO object at 0x0000022030E67330>\n",
      "Error al descargar https://assets-cdn.123rf.com/ui-components/assets/svg/collection.svg: cannot identify image file <_io.BytesIO object at 0x0000022030DA3E20>\n",
      "Error al descargar https://assets-cdn.123rf.com/ui-components/assets/svg/collection.svg: cannot identify image file <_io.BytesIO object at 0x0000022030E66C50>\n",
      "Error al descargar https://assets-cdn.123rf.com/ui-components/assets/svg/collection.svg: cannot identify image file <_io.BytesIO object at 0x0000022030E67AB0>\n",
      "Error al descargar https://assets-cdn.123rf.com/ui-components/assets/svg/gradient/premium-crown-gradient2.svg: cannot identify image file <_io.BytesIO object at 0x0000022030E66CF0>\n"
     ]
    },
    {
     "name": "stderr",
     "output_type": "stream",
     "text": [
      "Procesando imágenes de https://es.123rf.com/imagenes-de-archivo/eucalipto.html:  36%|███▌      | 113/312 [00:02<00:04, 47.74it/s]"
     ]
    },
    {
     "name": "stdout",
     "output_type": "stream",
     "text": [
      "Error al descargar https://assets-cdn.123rf.com/ui-components/assets/svg/gradient/premium-crown-gradient2.svg: cannot identify image file <_io.BytesIO object at 0x000002203114E2F0>\n",
      "Error al descargar https://assets-cdn.123rf.com/ui-components/assets/svg/collection.svg: cannot identify image file <_io.BytesIO object at 0x0000022031C0F1A0>\n",
      "Error al descargar https://assets-cdn.123rf.com/ui-components/assets/svg/gradient/premium-crown-gradient2.svg: cannot identify image file <_io.BytesIO object at 0x000002203114EC00>\n",
      "Error al descargar https://assets-cdn.123rf.com/ui-components/assets/svg/collection.svg: cannot identify image file <_io.BytesIO object at 0x000002203114EFC0>\n",
      "Error al descargar https://assets-cdn.123rf.com/ui-components/assets/svg/collection.svg: cannot identify image file <_io.BytesIO object at 0x000002207E94AE80>\n",
      "Error al descargar https://assets-cdn.123rf.com/ui-components/assets/svg/collection.svg: cannot identify image file <_io.BytesIO object at 0x0000022030E67AB0>\n"
     ]
    },
    {
     "name": "stderr",
     "output_type": "stream",
     "text": [
      "Procesando imágenes de https://es.123rf.com/imagenes-de-archivo/eucalipto.html:  39%|███▉      | 123/312 [00:02<00:04, 46.66it/s]"
     ]
    },
    {
     "name": "stdout",
     "output_type": "stream",
     "text": [
      "Error al descargar https://assets-cdn.123rf.com/ui-components/assets/svg/collection.svg: cannot identify image file <_io.BytesIO object at 0x0000022031C0F6A0>\n",
      "Error al descargar https://assets-cdn.123rf.com/ui-components/assets/svg/collection.svg: cannot identify image file <_io.BytesIO object at 0x0000022030E2C220>\n",
      "Error al descargar https://assets-cdn.123rf.com/ui-components/assets/svg/gradient/premium-crown-gradient2.svg: cannot identify image file <_io.BytesIO object at 0x000002203114EC00>\n",
      "Error al descargar https://assets-cdn.123rf.com/ui-components/assets/svg/collection.svg: cannot identify image file <_io.BytesIO object at 0x0000022030DA3D80>\n",
      "Error al descargar https://assets-cdn.123rf.com/ui-components/assets/svg/collection.svg: cannot identify image file <_io.BytesIO object at 0x000002203114E6B0>\n"
     ]
    },
    {
     "name": "stderr",
     "output_type": "stream",
     "text": [
      "Procesando imágenes de https://es.123rf.com/imagenes-de-archivo/eucalipto.html:  43%|████▎     | 134/312 [00:03<00:03, 47.50it/s]"
     ]
    },
    {
     "name": "stdout",
     "output_type": "stream",
     "text": [
      "Error al descargar https://assets-cdn.123rf.com/ui-components/assets/svg/collection.svg: cannot identify image file <_io.BytesIO object at 0x0000022030E66BB0>\n",
      "Error al descargar https://assets-cdn.123rf.com/ui-components/assets/svg/gradient/premium-crown-gradient2.svg: cannot identify image file <_io.BytesIO object at 0x0000022030E2C1D0>\n",
      "Error al descargar https://assets-cdn.123rf.com/ui-components/assets/svg/collection.svg: cannot identify image file <_io.BytesIO object at 0x0000022031C0F6A0>\n",
      "Error al descargar https://assets-cdn.123rf.com/ui-components/assets/svg/gradient/premium-crown-gradient2.svg: cannot identify image file <_io.BytesIO object at 0x0000022030E66F20>\n",
      "Error al descargar https://assets-cdn.123rf.com/ui-components/assets/svg/collection.svg: cannot identify image file <_io.BytesIO object at 0x0000022030E57380>\n",
      "Error al descargar https://assets-cdn.123rf.com/ui-components/assets/svg/gradient/premium-crown-gradient2.svg: cannot identify image file <_io.BytesIO object at 0x0000022031D28590>\n",
      "Error al descargar https://assets-cdn.123rf.com/ui-components/assets/svg/collection.svg: cannot identify image file <_io.BytesIO object at 0x00000220323A5490>\n"
     ]
    },
    {
     "name": "stderr",
     "output_type": "stream",
     "text": [
      "Procesando imágenes de https://es.123rf.com/imagenes-de-archivo/eucalipto.html:  46%|████▌     | 144/312 [00:03<00:03, 46.33it/s]"
     ]
    },
    {
     "name": "stdout",
     "output_type": "stream",
     "text": [
      "Error al descargar https://assets-cdn.123rf.com/ui-components/assets/svg/collection.svg: cannot identify image file <_io.BytesIO object at 0x0000022031C0F1A0>\n",
      "Error al descargar https://assets-cdn.123rf.com/ui-components/assets/svg/collection.svg: cannot identify image file <_io.BytesIO object at 0x0000022030DA3F10>\n",
      "Error al descargar https://assets-cdn.123rf.com/ui-components/assets/svg/gradient/premium-crown-gradient2.svg: cannot identify image file <_io.BytesIO object at 0x0000022030E2C180>\n",
      "Error al descargar https://assets-cdn.123rf.com/ui-components/assets/svg/collection.svg: cannot identify image file <_io.BytesIO object at 0x0000022030E67970>\n",
      "Error al descargar https://assets-cdn.123rf.com/ui-components/assets/svg/collection.svg: cannot identify image file <_io.BytesIO object at 0x0000022030E2C2C0>\n"
     ]
    },
    {
     "name": "stderr",
     "output_type": "stream",
     "text": [
      "Procesando imágenes de https://es.123rf.com/imagenes-de-archivo/eucalipto.html:  48%|████▊     | 151/312 [00:03<00:03, 45.61it/s]"
     ]
    },
    {
     "name": "stdout",
     "output_type": "stream",
     "text": [
      "Error al descargar https://assets-cdn.123rf.com/ui-components/assets/svg/collection.svg: cannot identify image file <_io.BytesIO object at 0x0000022030DA3F60>\n",
      "Error al descargar https://assets-cdn.123rf.com/ui-components/assets/svg/gradient/premium-crown-gradient2.svg: cannot identify image file <_io.BytesIO object at 0x0000022031C0F1A0>\n",
      "Error al descargar https://assets-cdn.123rf.com/ui-components/assets/svg/collection.svg: cannot identify image file <_io.BytesIO object at 0x0000022030E2C220>\n",
      "Error al descargar https://assets-cdn.123rf.com/ui-components/assets/svg/collection.svg: cannot identify image file <_io.BytesIO object at 0x0000022030DA3CE0>\n",
      "Error al descargar https://assets-cdn.123rf.com/ui-components/assets/svg/collection.svg: cannot identify image file <_io.BytesIO object at 0x0000022030E67BA0>\n",
      "Error al descargar https://assets-cdn.123rf.com/ui-components/assets/svg/collection.svg: cannot identify image file <_io.BytesIO object at 0x000002203114EFC0>\n"
     ]
    },
    {
     "name": "stderr",
     "output_type": "stream",
     "text": [
      "Procesando imágenes de https://es.123rf.com/imagenes-de-archivo/eucalipto.html:  52%|█████▏    | 162/312 [00:03<00:03, 45.84it/s]"
     ]
    },
    {
     "name": "stdout",
     "output_type": "stream",
     "text": [
      "Error al descargar https://assets-cdn.123rf.com/ui-components/assets/svg/collection.svg: cannot identify image file <_io.BytesIO object at 0x0000022030E560C0>\n",
      "Error al descargar https://assets-cdn.123rf.com/ui-components/assets/svg/gradient/premium-crown-gradient2.svg: cannot identify image file <_io.BytesIO object at 0x0000022030E2C360>\n",
      "Error al descargar https://assets-cdn.123rf.com/ui-components/assets/svg/collection.svg: cannot identify image file <_io.BytesIO object at 0x0000022030DA3FB0>\n",
      "Error al descargar https://assets-cdn.123rf.com/ui-components/assets/svg/collection.svg: cannot identify image file <_io.BytesIO object at 0x000002203114E6B0>\n",
      "Error al descargar https://assets-cdn.123rf.com/ui-components/assets/svg/collection.svg: cannot identify image file <_io.BytesIO object at 0x0000022031C0F6A0>\n",
      "Error al descargar https://assets-cdn.123rf.com/ui-components/assets/svg/gradient/premium-crown-gradient2.svg: cannot identify image file <_io.BytesIO object at 0x0000022030E67C90>\n",
      "Error al descargar https://assets-cdn.123rf.com/ui-components/assets/svg/collection.svg: cannot identify image file <_io.BytesIO object at 0x0000022031D28590>\n"
     ]
    },
    {
     "name": "stderr",
     "output_type": "stream",
     "text": [
      "Procesando imágenes de https://es.123rf.com/imagenes-de-archivo/eucalipto.html:  56%|█████▌    | 174/312 [00:04<00:02, 46.19it/s]"
     ]
    },
    {
     "name": "stdout",
     "output_type": "stream",
     "text": [
      "Error al descargar https://assets-cdn.123rf.com/ui-components/assets/svg/collection.svg: cannot identify image file <_io.BytesIO object at 0x0000022030E67C40>\n",
      "Error al descargar https://assets-cdn.123rf.com/ui-components/assets/svg/collection.svg: cannot identify image file <_io.BytesIO object at 0x0000022030E2C180>\n",
      "Error al descargar https://assets-cdn.123rf.com/ui-components/assets/svg/gradient/premium-crown-gradient2.svg: cannot identify image file <_io.BytesIO object at 0x0000022030E67970>\n",
      "Error al descargar https://assets-cdn.123rf.com/ui-components/assets/svg/collection.svg: cannot identify image file <_io.BytesIO object at 0x0000022030E66BB0>\n",
      "Error al descargar https://assets-cdn.123rf.com/ui-components/assets/svg/gradient/premium-crown-gradient2.svg: cannot identify image file <_io.BytesIO object at 0x0000022031C0F1A0>\n",
      "Error al descargar https://assets-cdn.123rf.com/ui-components/assets/svg/collection.svg: cannot identify image file <_io.BytesIO object at 0x0000022030AA20C0>\n",
      "Error al descargar https://assets-cdn.123rf.com/ui-components/assets/svg/gradient/premium-crown-gradient2.svg: cannot identify image file <_io.BytesIO object at 0x0000022030E2C360>\n"
     ]
    },
    {
     "name": "stderr",
     "output_type": "stream",
     "text": [
      "Procesando imágenes de https://es.123rf.com/imagenes-de-archivo/eucalipto.html:  60%|█████▉    | 187/312 [00:04<00:02, 46.48it/s]"
     ]
    },
    {
     "name": "stdout",
     "output_type": "stream",
     "text": [
      "Error al descargar https://assets-cdn.123rf.com/ui-components/assets/svg/collection.svg: cannot identify image file <_io.BytesIO object at 0x0000022030C42B60>\n",
      "Error al descargar https://assets-cdn.123rf.com/ui-components/assets/svg/gradient/premium-crown-gradient2.svg: cannot identify image file <_io.BytesIO object at 0x0000022030DA3FB0>\n",
      "Error al descargar https://assets-cdn.123rf.com/ui-components/assets/svg/collection.svg: cannot identify image file <_io.BytesIO object at 0x000002207EEB48B0>\n",
      "Error al descargar https://assets-cdn.123rf.com/ui-components/assets/svg/collection.svg: cannot identify image file <_io.BytesIO object at 0x000002203114EFC0>\n",
      "Error al descargar https://assets-cdn.123rf.com/ui-components/assets/svg/collection.svg: cannot identify image file <_io.BytesIO object at 0x0000022031C0F6A0>\n"
     ]
    },
    {
     "name": "stderr",
     "output_type": "stream",
     "text": [
      "Procesando imágenes de https://es.123rf.com/imagenes-de-archivo/eucalipto.html:  62%|██████▏   | 193/312 [00:04<00:02, 45.35it/s]"
     ]
    },
    {
     "name": "stdout",
     "output_type": "stream",
     "text": [
      "Error al descargar https://assets-cdn.123rf.com/ui-components/assets/svg/collection.svg: cannot identify image file <_io.BytesIO object at 0x0000022030E67AB0>\n",
      "Error al descargar https://assets-cdn.123rf.com/ui-components/assets/svg/collection.svg: cannot identify image file <_io.BytesIO object at 0x0000022030DA3E20>\n",
      "Error al descargar https://assets-cdn.123rf.com/ui-components/assets/svg/gradient/premium-crown-gradient2.svg: cannot identify image file <_io.BytesIO object at 0x000002203114E2F0>\n",
      "Error al descargar https://assets-cdn.123rf.com/ui-components/assets/svg/collection.svg: cannot identify image file <_io.BytesIO object at 0x0000022030C40680>\n",
      "Error al descargar https://assets-cdn.123rf.com/ui-components/assets/svg/gradient/premium-crown-gradient2.svg: cannot identify image file <_io.BytesIO object at 0x0000022030E66F20>\n",
      "Error al descargar https://assets-cdn.123rf.com/ui-components/assets/svg/collection.svg: cannot identify image file <_io.BytesIO object at 0x0000022031D28590>\n"
     ]
    },
    {
     "name": "stderr",
     "output_type": "stream",
     "text": [
      "Procesando imágenes de https://es.123rf.com/imagenes-de-archivo/eucalipto.html:  64%|██████▍   | 200/312 [00:04<00:02, 43.57it/s]"
     ]
    },
    {
     "name": "stdout",
     "output_type": "stream",
     "text": [
      "Error al descargar https://assets-cdn.123rf.com/ui-components/assets/svg/collection.svg: cannot identify image file <_io.BytesIO object at 0x000002203114E6B0>\n",
      "Error al descargar https://assets-cdn.123rf.com/ui-components/assets/svg/collection.svg: cannot identify image file <_io.BytesIO object at 0x0000022030C42B60>\n"
     ]
    },
    {
     "name": "stderr",
     "output_type": "stream",
     "text": [
      "Procesando imágenes de https://es.123rf.com/imagenes-de-archivo/eucalipto.html:  67%|██████▋   | 210/312 [00:04<00:02, 43.37it/s]"
     ]
    },
    {
     "name": "stdout",
     "output_type": "stream",
     "text": [
      "Error al descargar https://assets-cdn.123rf.com/ui-components/assets/svg/collection.svg: cannot identify image file <_io.BytesIO object at 0x0000022030AA20C0>\n",
      "Error al descargar https://assets-cdn.123rf.com/ui-components/assets/svg/gradient/premium-crown-gradient2.svg: cannot identify image file <_io.BytesIO object at 0x0000022030E2C090>\n",
      "Error al descargar https://assets-cdn.123rf.com/ui-components/assets/svg/collection.svg: cannot identify image file <_io.BytesIO object at 0x0000022030DA3CE0>\n",
      "Error al descargar https://assets-cdn.123rf.com/ui-components/assets/svg/collection.svg: cannot identify image file <_io.BytesIO object at 0x0000022030E2C360>\n",
      "Error al descargar https://assets-cdn.123rf.com/ui-components/assets/svg/collection.svg: cannot identify image file <_io.BytesIO object at 0x00000220323A4540>\n",
      "Error al descargar https://assets-cdn.123rf.com/ui-components/assets/svg/gradient/premium-crown-gradient2.svg: cannot identify image file <_io.BytesIO object at 0x000002203114EFC0>\n"
     ]
    },
    {
     "name": "stderr",
     "output_type": "stream",
     "text": [
      "Procesando imágenes de https://es.123rf.com/imagenes-de-archivo/eucalipto.html:  72%|███████▏  | 224/312 [00:05<00:01, 44.61it/s]"
     ]
    },
    {
     "name": "stdout",
     "output_type": "stream",
     "text": [
      "Error al descargar https://assets-cdn.123rf.com/ui-components/assets/svg/collection.svg: cannot identify image file <_io.BytesIO object at 0x000002203114E6B0>\n",
      "Error al descargar https://assets-cdn.123rf.com/ui-components/assets/svg/collection.svg: cannot identify image file <_io.BytesIO object at 0x0000022030DA3F60>\n",
      "Error al descargar https://assets-cdn.123rf.com/ui-components/assets/svg/gradient/premium-crown-gradient2.svg: cannot identify image file <_io.BytesIO object at 0x0000022030E2C360>\n",
      "Error al descargar https://assets-cdn.123rf.com/ui-components/assets/svg/collection.svg: cannot identify image file <_io.BytesIO object at 0x0000022031B20540>\n",
      "Error al descargar https://assets-cdn.123rf.com/ui-components/assets/svg/collection.svg: cannot identify image file <_io.BytesIO object at 0x0000022030DA3EC0>\n",
      "Error al descargar https://assets-cdn.123rf.com/ui-components/assets/svg/collection.svg: cannot identify image file <_io.BytesIO object at 0x0000022030DA3D30>\n",
      "Error al descargar https://assets-cdn.123rf.com/ui-components/assets/svg/gradient/premium-crown-gradient2.svg: cannot identify image file <_io.BytesIO object at 0x000002203114EFC0>\n",
      "Error al descargar https://assets-cdn.123rf.com/ui-components/assets/svg/collection.svg: cannot identify image file <_io.BytesIO object at 0x0000022030E66F20>\n"
     ]
    },
    {
     "name": "stderr",
     "output_type": "stream",
     "text": [
      "Procesando imágenes de https://es.123rf.com/imagenes-de-archivo/eucalipto.html:  74%|███████▍  | 232/312 [00:05<00:01, 45.78it/s]"
     ]
    },
    {
     "name": "stdout",
     "output_type": "stream",
     "text": [
      "Error al descargar https://assets-cdn.123rf.com/ui-components/assets/svg/collection.svg: cannot identify image file <_io.BytesIO object at 0x0000022030E56C00>\n",
      "Error al descargar https://assets-cdn.123rf.com/ui-components/assets/svg/gradient/premium-crown-gradient2.svg: cannot identify image file <_io.BytesIO object at 0x0000022030DA3F60>\n",
      "Error al descargar https://assets-cdn.123rf.com/ui-components/assets/svg/collection.svg: cannot identify image file <_io.BytesIO object at 0x000002203114EC00>\n",
      "Error al descargar https://assets-cdn.123rf.com/ui-components/assets/svg/collection.svg: cannot identify image file <_io.BytesIO object at 0x0000022030E66BB0>\n",
      "Error al descargar https://assets-cdn.123rf.com/ui-components/assets/svg/gradient/premium-crown-gradient2.svg: cannot identify image file <_io.BytesIO object at 0x0000022030E2C180>\n",
      "Error al descargar https://assets-cdn.123rf.com/ui-components/assets/svg/collection.svg: cannot identify image file <_io.BytesIO object at 0x0000022031D28590>\n",
      "Error al descargar https://assets-cdn.123rf.com/ui-components/assets/svg/gradient/premium-crown-gradient2.svg: cannot identify image file <_io.BytesIO object at 0x000002207EEB48B0>\n"
     ]
    },
    {
     "name": "stderr",
     "output_type": "stream",
     "text": [
      "Procesando imágenes de https://es.123rf.com/imagenes-de-archivo/eucalipto.html:  78%|███████▊  | 243/312 [00:05<00:01, 44.64it/s]"
     ]
    },
    {
     "name": "stdout",
     "output_type": "stream",
     "text": [
      "Error al descargar https://assets-cdn.123rf.com/ui-components/assets/svg/collection.svg: cannot identify image file <_io.BytesIO object at 0x0000022030DA3EC0>\n",
      "Error al descargar https://assets-cdn.123rf.com/ui-components/assets/svg/collection.svg: cannot identify image file <_io.BytesIO object at 0x0000022030E67DD0>\n",
      "Error al descargar https://assets-cdn.123rf.com/ui-components/assets/svg/collection.svg: cannot identify image file <_io.BytesIO object at 0x0000022030E66F20>\n",
      "Error al descargar https://assets-cdn.123rf.com/ui-components/assets/svg/collection.svg: cannot identify image file <_io.BytesIO object at 0x0000022030E2C2C0>\n"
     ]
    },
    {
     "name": "stderr",
     "output_type": "stream",
     "text": [
      "Procesando imágenes de https://es.123rf.com/imagenes-de-archivo/eucalipto.html:  81%|████████▏ | 254/312 [00:05<00:01, 44.82it/s]"
     ]
    },
    {
     "name": "stdout",
     "output_type": "stream",
     "text": [
      "Error al descargar https://assets-cdn.123rf.com/ui-components/assets/svg/collection.svg: cannot identify image file <_io.BytesIO object at 0x0000022031B20540>\n",
      "Error al descargar https://assets-cdn.123rf.com/ui-components/assets/svg/collection.svg: cannot identify image file <_io.BytesIO object at 0x0000022030E67C90>\n",
      "Error al descargar https://assets-cdn.123rf.com/ui-components/assets/svg/collection.svg: cannot identify image file <_io.BytesIO object at 0x0000022030E2C360>\n",
      "Error al descargar https://assets-cdn.123rf.com/ui-components/assets/svg/collection.svg: cannot identify image file <_io.BytesIO object at 0x0000022030E2C0E0>\n",
      "Error al descargar https://assets-cdn.123rf.com/ui-components/assets/svg/collection.svg: cannot identify image file <_io.BytesIO object at 0x0000022031C0F6A0>\n",
      "Error al descargar https://assets-cdn.123rf.com/ui-components/assets/svg/collection.svg: cannot identify image file <_io.BytesIO object at 0x0000022031D28590>\n"
     ]
    },
    {
     "name": "stderr",
     "output_type": "stream",
     "text": [
      "Procesando imágenes de https://es.123rf.com/imagenes-de-archivo/eucalipto.html:  86%|████████▌ | 267/312 [00:06<00:00, 49.36it/s]"
     ]
    },
    {
     "name": "stdout",
     "output_type": "stream",
     "text": [
      "Error al descargar https://assets-cdn.123rf.com/ui-components/assets/svg/gradient/premium-crown-gradient2.svg: cannot identify image file <_io.BytesIO object at 0x0000022031B20540>\n",
      "Error al descargar https://assets-cdn.123rf.com/ui-components/assets/svg/collection.svg: cannot identify image file <_io.BytesIO object at 0x0000022030E67DD0>\n",
      "Error al descargar https://assets-cdn.123rf.com/ui-components/assets/svg/collection.svg: cannot identify image file <_io.BytesIO object at 0x0000022030C42B60>\n",
      "Error al descargar https://assets-cdn.123rf.com/ui-components/assets/svg/collection.svg: cannot identify image file <_io.BytesIO object at 0x0000022030DA3E20>\n",
      "Error al descargar https://assets-cdn.123rf.com/ui-components/assets/svg/gradient/premium-crown-gradient2.svg: cannot identify image file <_io.BytesIO object at 0x0000022030E66CA0>\n",
      "Error al descargar https://assets-cdn.123rf.com/ui-components/assets/svg/gradient/premium-crown-gradient2.svg: cannot identify image file <_io.BytesIO object at 0x00000220323A5B70>\n",
      "Error al descargar https://assets-cdn.123rf.com/ui-components/assets/svg/collection.svg: cannot identify image file <_io.BytesIO object at 0x0000022030E67CE0>\n"
     ]
    },
    {
     "name": "stderr",
     "output_type": "stream",
     "text": [
      "Procesando imágenes de https://es.123rf.com/imagenes-de-archivo/eucalipto.html:  89%|████████▉ | 279/312 [00:06<00:00, 50.12it/s]"
     ]
    },
    {
     "name": "stdout",
     "output_type": "stream",
     "text": [
      "Error al descargar https://assets-cdn.123rf.com/ui-components/assets/svg/collection.svg: cannot identify image file <_io.BytesIO object at 0x00000220323A4540>\n",
      "Error al descargar https://assets-cdn.123rf.com/ui-components/assets/svg/gradient/premium-crown-gradient2.svg: cannot identify image file <_io.BytesIO object at 0x0000022030E2C360>\n",
      "Error al descargar https://assets-cdn.123rf.com/ui-components/assets/svg/collection.svg: cannot identify image file <_io.BytesIO object at 0x00000220323A7B00>\n",
      "Error al descargar https://assets-cdn.123rf.com/ui-components/assets/svg/collection.svg: cannot identify image file <_io.BytesIO object at 0x000002203114EC00>\n",
      "Error al descargar https://assets-cdn.123rf.com/ui-components/assets/svg/collection.svg: cannot identify image file <_io.BytesIO object at 0x0000022030DA3F10>\n",
      "Error al descargar https://assets-cdn.123rf.com/ui-components/assets/svg/collection.svg: cannot identify image file <_io.BytesIO object at 0x0000022030E67B00>\n",
      "Error al descargar https://assets-cdn.123rf.com/ui-components/assets/svg/gradient/premium-crown-gradient2.svg: cannot identify image file <_io.BytesIO object at 0x000002203114E6B0>\n"
     ]
    },
    {
     "name": "stderr",
     "output_type": "stream",
     "text": [
      "Procesando imágenes de https://es.123rf.com/imagenes-de-archivo/eucalipto.html:  93%|█████████▎| 290/312 [00:06<00:00, 45.66it/s]"
     ]
    },
    {
     "name": "stdout",
     "output_type": "stream",
     "text": [
      "Error al descargar https://assets-cdn.123rf.com/ui-components/assets/svg/collection.svg: cannot identify image file <_io.BytesIO object at 0x0000022030E67BA0>\n",
      "Error al descargar https://assets-cdn.123rf.com/ui-components/assets/svg/collection.svg: cannot identify image file <_io.BytesIO object at 0x0000022030E2C2C0>\n",
      "Error al descargar https://assets-cdn.123rf.com/ui-components/assets/svg/collection.svg: cannot identify image file <_io.BytesIO object at 0x00000220323A5B70>\n",
      "Error al descargar https://assets-cdn.123rf.com/ui-components/assets/svg/gradient/premium-crown-gradient2.svg: cannot identify image file <_io.BytesIO object at 0x0000022030E2C220>\n",
      "Error al descargar https://assets-cdn.123rf.com/ui-components/assets/svg/collection.svg: cannot identify image file <_io.BytesIO object at 0x0000022030E66D40>\n",
      "Error al descargar https://assets-cdn.123rf.com/ui-components/assets/svg/collection.svg: cannot identify image file <_io.BytesIO object at 0x0000022030DA3EC0>\n"
     ]
    },
    {
     "name": "stderr",
     "output_type": "stream",
     "text": [
      "Procesando imágenes de https://es.123rf.com/imagenes-de-archivo/eucalipto.html:  95%|█████████▍| 296/312 [00:06<00:00, 40.59it/s]"
     ]
    },
    {
     "name": "stdout",
     "output_type": "stream",
     "text": [
      "Error al descargar https://assets-cdn.123rf.com/ui-components/assets/svg/gradient/premium-crown-gradient2.svg: cannot identify image file <_io.BytesIO object at 0x000002207E94AE80>\n",
      "Error al descargar https://assets-cdn.123rf.com/ui-components/assets/svg/collection.svg: cannot identify image file <_io.BytesIO object at 0x0000022030E67AB0>\n",
      "Error al descargar https://assets-cdn.123rf.com/ui-components/assets/svg/gradient/premium-crown-gradient2.svg: cannot identify image file <_io.BytesIO object at 0x0000022030AA20C0>\n",
      "Error al descargar https://assets-cdn.123rf.com/ui-components/assets/svg/collection.svg: cannot identify image file <_io.BytesIO object at 0x0000022031C0F6A0>\n",
      "Error al descargar https://assets-cdn.123rf.com/ui-components/assets/svg/gradient/premium-crown-gradient2.svg: cannot identify image file <_io.BytesIO object at 0x000002203114EFC0>\n",
      "Error al descargar https://assets-cdn.123rf.com/ui-components/assets/svg/collection.svg: cannot identify image file <_io.BytesIO object at 0x000002207EEB48B0>\n",
      "Error al descargar https://assets-cdn.123rf.com/ui-components/assets/svg/gradient/premium-crown-gradient2.svg: cannot identify image file <_io.BytesIO object at 0x0000022030C42B60>\n"
     ]
    },
    {
     "name": "stderr",
     "output_type": "stream",
     "text": [
      "Procesando imágenes de https://es.123rf.com/imagenes-de-archivo/eucalipto.html:  98%|█████████▊| 307/312 [00:07<00:00, 41.14it/s]"
     ]
    },
    {
     "name": "stdout",
     "output_type": "stream",
     "text": [
      "Error al descargar https://assets-cdn.123rf.com/ui-components/assets/svg/chevron-down.svg: cannot identify image file <_io.BytesIO object at 0x000002207E94AE80>\n",
      "Error al descargar https://assets-cdn.123rf.com/ui-components/assets/svg/chevron-down.svg: cannot identify image file <_io.BytesIO object at 0x00000220323A7B00>\n",
      "Error al descargar https://assets-cdn.123rf.com/ui-components/assets/svg/collection.svg: cannot identify image file <_io.BytesIO object at 0x0000022030E2C2C0>\n",
      "Error al descargar https://assets-cdn.123rf.com/ui-components/assets/svg/chevron-down.svg: cannot identify image file <_io.BytesIO object at 0x0000022030E67B50>\n",
      "Error al descargar https://assets-cdn.123rf.com/ui-components/assets/svg/chevron-down.svg: cannot identify image file <_io.BytesIO object at 0x0000022030E2C220>\n",
      "Error al descargar https://assets-cdn.123rf.com/ui-components/assets/svg/facebook.svg: cannot identify image file <_io.BytesIO object at 0x0000022030DA3F10>\n",
      "Error al descargar https://assets-cdn.123rf.com/ui-components/assets/svg/twitter-v2.svg: cannot identify image file <_io.BytesIO object at 0x000002203114E6B0>\n",
      "Error al descargar https://assets-cdn.123rf.com/ui-components/assets/svg/chevron-down.svg: cannot identify image file <_io.BytesIO object at 0x00000220323A5B70>\n",
      "Error al descargar https://assets-cdn.123rf.com/ui-components/assets/svg/pinterest.svg: cannot identify image file <_io.BytesIO object at 0x0000022030E2C2C0>\n",
      "Error al descargar https://assets-cdn.123rf.com/ui-components/assets/svg/instagram-v2.svg: cannot identify image file <_io.BytesIO object at 0x00000220316E0090>\n"
     ]
    },
    {
     "name": "stderr",
     "output_type": "stream",
     "text": [
      "Procesando imágenes de https://es.123rf.com/imagenes-de-archivo/eucalipto.html: 100%|██████████| 312/312 [00:07<00:00, 43.87it/s]\n"
     ]
    },
    {
     "name": "stdout",
     "output_type": "stream",
     "text": [
      "Error al descargar https://assets-cdn.123rf.com/ui-components/assets/svg/whatsapp-v3.svg: cannot identify image file <_io.BytesIO object at 0x0000022030C40680>\n"
     ]
    },
    {
     "name": "stderr",
     "output_type": "stream",
     "text": [
      "Procesando imágenes de https://mexico.inaturalist.org/taxa/162748-Eucalyptus-cinerea/browse_photos:  14%|█▍        | 1/7 [00:00<00:03,  1.75it/s]"
     ]
    },
    {
     "name": "stdout",
     "output_type": "stream",
     "text": [
      "Error al descargar https://static.inaturalist.org/sites/2-logo.svg?1708623494: cannot identify image file <_io.BytesIO object at 0x0000022030E67290>\n",
      "Error al descargar https://static.inaturalist.org/sites/2-logo.svg?1708623494: cannot identify image file <_io.BytesIO object at 0x00000220323A4540>\n",
      "Error al descargar https://transformacionarteyeducacion.mx/media/46/LOGO-TAE.png: cannot write mode RGBA as JPEG\n"
     ]
    },
    {
     "name": "stderr",
     "output_type": "stream",
     "text": [
      "Procesando imágenes de https://mexico.inaturalist.org/taxa/162748-Eucalyptus-cinerea/browse_photos: 100%|██████████| 7/7 [00:00<00:00,  8.51it/s]"
     ]
    },
    {
     "name": "stdout",
     "output_type": "stream",
     "text": [
      "Error al descargar https://somosnaturalistas.mx/media/58/SomosNaturalistas2024_web_1_2.png: cannot write mode RGBA as JPEG\n",
      "Error al descargar https://mexico.inaturalist.org/assets/facebook-f-logo-white-326a0af3f327083d4632b4c26aaeaecd9ec859070097069179d90a689d189c05.svg: cannot identify image file <_io.BytesIO object at 0x00000220323A4540>\n"
     ]
    },
    {
     "name": "stderr",
     "output_type": "stream",
     "text": [
      "\n",
      "Procesando imágenes de https://es.pngtree.com/so/eucalipto: 0it [00:00, ?it/s]\n"
     ]
    },
    {
     "name": "stdout",
     "output_type": "stream",
     "text": [
      "Error procesando https://depositphotos.com/es/photos/hojas-de-eucalipto.html: HTTPSConnectionPool(host='depositphotos.com', port=443): Max retries exceeded with url: /es/photos/hojas-de-eucalipto.html (Caused by ConnectTimeoutError(<urllib3.connection.HTTPSConnection object at 0x0000022030DFB430>, 'Connection to depositphotos.com timed out. (connect timeout=10)'))\n",
      "Error al descargar data:image/png;base64,iVBORw0KGgoAAAANSUhEUgAAAAEAAAABCAQAAAC1HAwCAAAAC0lEQVQYV2NgYAAAAAMAAWgmWQ0AAAAASUVORK5CYII=: No connection adapters were found for 'data:image/png;base64,iVBORw0KGgoAAAANSUhEUgAAAAEAAAABCAQAAAC1HAwCAAAAC0lEQVQYV2NgYAAAAAMAAWgmWQ0AAAAASUVORK5CYII='\n"
     ]
    },
    {
     "name": "stderr",
     "output_type": "stream",
     "text": [
      "Procesando imágenes de https://www.pngwing.com/es/search?q=eucalipto:   0%|          | 0/61 [00:00<?, ?it/s]"
     ]
    },
    {
     "name": "stdout",
     "output_type": "stream",
     "text": [
      "Error al descargar data:image/png;base64,iVBORw0KGgoAAAANSUhEUgAAAAEAAAABCAQAAAC1HAwCAAAAC0lEQVQYV2NgYAAAAAMAAWgmWQ0AAAAASUVORK5CYII=: No connection adapters were found for 'data:image/png;base64,iVBORw0KGgoAAAANSUhEUgAAAAEAAAABCAQAAAC1HAwCAAAAC0lEQVQYV2NgYAAAAAMAAWgmWQ0AAAAASUVORK5CYII='\n",
      "Error al descargar data:image/png;base64,iVBORw0KGgoAAAANSUhEUgAAAAEAAAABCAQAAAC1HAwCAAAAC0lEQVQYV2NgYAAAAAMAAWgmWQ0AAAAASUVORK5CYII=: No connection adapters were found for 'data:image/png;base64,iVBORw0KGgoAAAANSUhEUgAAAAEAAAABCAQAAAC1HAwCAAAAC0lEQVQYV2NgYAAAAAMAAWgmWQ0AAAAASUVORK5CYII='\n",
      "Error al descargar data:image/png;base64,iVBORw0KGgoAAAANSUhEUgAAAAEAAAABCAQAAAC1HAwCAAAAC0lEQVQYV2NgYAAAAAMAAWgmWQ0AAAAASUVORK5CYII=: No connection adapters were found for 'data:image/png;base64,iVBORw0KGgoAAAANSUhEUgAAAAEAAAABCAQAAAC1HAwCAAAAC0lEQVQYV2NgYAAAAAMAAWgmWQ0AAAAASUVORK5CYII='\n",
      "Error al descargar data:image/png;base64,iVBORw0KGgoAAAANSUhEUgAAAAEAAAABCAQAAAC1HAwCAAAAC0lEQVQYV2NgYAAAAAMAAWgmWQ0AAAAASUVORK5CYII=: No connection adapters were found for 'data:image/png;base64,iVBORw0KGgoAAAANSUhEUgAAAAEAAAABCAQAAAC1HAwCAAAAC0lEQVQYV2NgYAAAAAMAAWgmWQ0AAAAASUVORK5CYII='\n",
      "Error al descargar data:image/png;base64,iVBORw0KGgoAAAANSUhEUgAAAAEAAAABCAQAAAC1HAwCAAAAC0lEQVQYV2NgYAAAAAMAAWgmWQ0AAAAASUVORK5CYII=: No connection adapters were found for 'data:image/png;base64,iVBORw0KGgoAAAANSUhEUgAAAAEAAAABCAQAAAC1HAwCAAAAC0lEQVQYV2NgYAAAAAMAAWgmWQ0AAAAASUVORK5CYII='\n",
      "Error al descargar data:image/png;base64,iVBORw0KGgoAAAANSUhEUgAAAAEAAAABCAQAAAC1HAwCAAAAC0lEQVQYV2NgYAAAAAMAAWgmWQ0AAAAASUVORK5CYII=: No connection adapters were found for 'data:image/png;base64,iVBORw0KGgoAAAANSUhEUgAAAAEAAAABCAQAAAC1HAwCAAAAC0lEQVQYV2NgYAAAAAMAAWgmWQ0AAAAASUVORK5CYII='\n",
      "Error al descargar data:image/png;base64,iVBORw0KGgoAAAANSUhEUgAAAAEAAAABCAQAAAC1HAwCAAAAC0lEQVQYV2NgYAAAAAMAAWgmWQ0AAAAASUVORK5CYII=: No connection adapters were found for 'data:image/png;base64,iVBORw0KGgoAAAANSUhEUgAAAAEAAAABCAQAAAC1HAwCAAAAC0lEQVQYV2NgYAAAAAMAAWgmWQ0AAAAASUVORK5CYII='\n",
      "Error al descargar data:image/png;base64,iVBORw0KGgoAAAANSUhEUgAAAAEAAAABCAQAAAC1HAwCAAAAC0lEQVQYV2NgYAAAAAMAAWgmWQ0AAAAASUVORK5CYII=: No connection adapters were found for 'data:image/png;base64,iVBORw0KGgoAAAANSUhEUgAAAAEAAAABCAQAAAC1HAwCAAAAC0lEQVQYV2NgYAAAAAMAAWgmWQ0AAAAASUVORK5CYII='\n",
      "Error al descargar data:image/png;base64,iVBORw0KGgoAAAANSUhEUgAAAAEAAAABCAQAAAC1HAwCAAAAC0lEQVQYV2NgYAAAAAMAAWgmWQ0AAAAASUVORK5CYII=: No connection adapters were found for 'data:image/png;base64,iVBORw0KGgoAAAANSUhEUgAAAAEAAAABCAQAAAC1HAwCAAAAC0lEQVQYV2NgYAAAAAMAAWgmWQ0AAAAASUVORK5CYII='\n",
      "Error al descargar data:image/png;base64,iVBORw0KGgoAAAANSUhEUgAAAAEAAAABCAQAAAC1HAwCAAAAC0lEQVQYV2NgYAAAAAMAAWgmWQ0AAAAASUVORK5CYII=: No connection adapters were found for 'data:image/png;base64,iVBORw0KGgoAAAANSUhEUgAAAAEAAAABCAQAAAC1HAwCAAAAC0lEQVQYV2NgYAAAAAMAAWgmWQ0AAAAASUVORK5CYII='\n",
      "Error al descargar data:image/png;base64,iVBORw0KGgoAAAANSUhEUgAAAAEAAAABCAQAAAC1HAwCAAAAC0lEQVQYV2NgYAAAAAMAAWgmWQ0AAAAASUVORK5CYII=: No connection adapters were found for 'data:image/png;base64,iVBORw0KGgoAAAANSUhEUgAAAAEAAAABCAQAAAC1HAwCAAAAC0lEQVQYV2NgYAAAAAMAAWgmWQ0AAAAASUVORK5CYII='\n",
      "Error al descargar data:image/png;base64,iVBORw0KGgoAAAANSUhEUgAAAAEAAAABCAQAAAC1HAwCAAAAC0lEQVQYV2NgYAAAAAMAAWgmWQ0AAAAASUVORK5CYII=: No connection adapters were found for 'data:image/png;base64,iVBORw0KGgoAAAANSUhEUgAAAAEAAAABCAQAAAC1HAwCAAAAC0lEQVQYV2NgYAAAAAMAAWgmWQ0AAAAASUVORK5CYII='\n",
      "Error al descargar data:image/png;base64,iVBORw0KGgoAAAANSUhEUgAAAAEAAAABCAQAAAC1HAwCAAAAC0lEQVQYV2NgYAAAAAMAAWgmWQ0AAAAASUVORK5CYII=: No connection adapters were found for 'data:image/png;base64,iVBORw0KGgoAAAANSUhEUgAAAAEAAAABCAQAAAC1HAwCAAAAC0lEQVQYV2NgYAAAAAMAAWgmWQ0AAAAASUVORK5CYII='\n",
      "Error al descargar data:image/png;base64,iVBORw0KGgoAAAANSUhEUgAAAAEAAAABCAQAAAC1HAwCAAAAC0lEQVQYV2NgYAAAAAMAAWgmWQ0AAAAASUVORK5CYII=: No connection adapters were found for 'data:image/png;base64,iVBORw0KGgoAAAANSUhEUgAAAAEAAAABCAQAAAC1HAwCAAAAC0lEQVQYV2NgYAAAAAMAAWgmWQ0AAAAASUVORK5CYII='\n",
      "Error al descargar data:image/png;base64,iVBORw0KGgoAAAANSUhEUgAAAAEAAAABCAQAAAC1HAwCAAAAC0lEQVQYV2NgYAAAAAMAAWgmWQ0AAAAASUVORK5CYII=: No connection adapters were found for 'data:image/png;base64,iVBORw0KGgoAAAANSUhEUgAAAAEAAAABCAQAAAC1HAwCAAAAC0lEQVQYV2NgYAAAAAMAAWgmWQ0AAAAASUVORK5CYII='\n",
      "Error al descargar data:image/png;base64,iVBORw0KGgoAAAANSUhEUgAAAAEAAAABCAQAAAC1HAwCAAAAC0lEQVQYV2NgYAAAAAMAAWgmWQ0AAAAASUVORK5CYII=: No connection adapters were found for 'data:image/png;base64,iVBORw0KGgoAAAANSUhEUgAAAAEAAAABCAQAAAC1HAwCAAAAC0lEQVQYV2NgYAAAAAMAAWgmWQ0AAAAASUVORK5CYII='\n",
      "Error al descargar data:image/png;base64,iVBORw0KGgoAAAANSUhEUgAAAAEAAAABCAQAAAC1HAwCAAAAC0lEQVQYV2NgYAAAAAMAAWgmWQ0AAAAASUVORK5CYII=: No connection adapters were found for 'data:image/png;base64,iVBORw0KGgoAAAANSUhEUgAAAAEAAAABCAQAAAC1HAwCAAAAC0lEQVQYV2NgYAAAAAMAAWgmWQ0AAAAASUVORK5CYII='\n",
      "Error al descargar data:image/png;base64,iVBORw0KGgoAAAANSUhEUgAAAAEAAAABCAQAAAC1HAwCAAAAC0lEQVQYV2NgYAAAAAMAAWgmWQ0AAAAASUVORK5CYII=: No connection adapters were found for 'data:image/png;base64,iVBORw0KGgoAAAANSUhEUgAAAAEAAAABCAQAAAC1HAwCAAAAC0lEQVQYV2NgYAAAAAMAAWgmWQ0AAAAASUVORK5CYII='\n",
      "Error al descargar data:image/png;base64,iVBORw0KGgoAAAANSUhEUgAAAAEAAAABCAQAAAC1HAwCAAAAC0lEQVQYV2NgYAAAAAMAAWgmWQ0AAAAASUVORK5CYII=: No connection adapters were found for 'data:image/png;base64,iVBORw0KGgoAAAANSUhEUgAAAAEAAAABCAQAAAC1HAwCAAAAC0lEQVQYV2NgYAAAAAMAAWgmWQ0AAAAASUVORK5CYII='\n",
      "Error al descargar data:image/png;base64,iVBORw0KGgoAAAANSUhEUgAAAAEAAAABCAQAAAC1HAwCAAAAC0lEQVQYV2NgYAAAAAMAAWgmWQ0AAAAASUVORK5CYII=: No connection adapters were found for 'data:image/png;base64,iVBORw0KGgoAAAANSUhEUgAAAAEAAAABCAQAAAC1HAwCAAAAC0lEQVQYV2NgYAAAAAMAAWgmWQ0AAAAASUVORK5CYII='\n",
      "Error al descargar data:image/png;base64,iVBORw0KGgoAAAANSUhEUgAAAAEAAAABCAQAAAC1HAwCAAAAC0lEQVQYV2NgYAAAAAMAAWgmWQ0AAAAASUVORK5CYII=: No connection adapters were found for 'data:image/png;base64,iVBORw0KGgoAAAANSUhEUgAAAAEAAAABCAQAAAC1HAwCAAAAC0lEQVQYV2NgYAAAAAMAAWgmWQ0AAAAASUVORK5CYII='\n",
      "Error al descargar data:image/png;base64,iVBORw0KGgoAAAANSUhEUgAAAAEAAAABCAQAAAC1HAwCAAAAC0lEQVQYV2NgYAAAAAMAAWgmWQ0AAAAASUVORK5CYII=: No connection adapters were found for 'data:image/png;base64,iVBORw0KGgoAAAANSUhEUgAAAAEAAAABCAQAAAC1HAwCAAAAC0lEQVQYV2NgYAAAAAMAAWgmWQ0AAAAASUVORK5CYII='\n",
      "Error al descargar data:image/png;base64,iVBORw0KGgoAAAANSUhEUgAAAAEAAAABCAQAAAC1HAwCAAAAC0lEQVQYV2NgYAAAAAMAAWgmWQ0AAAAASUVORK5CYII=: No connection adapters were found for 'data:image/png;base64,iVBORw0KGgoAAAANSUhEUgAAAAEAAAABCAQAAAC1HAwCAAAAC0lEQVQYV2NgYAAAAAMAAWgmWQ0AAAAASUVORK5CYII='\n",
      "Error al descargar data:image/png;base64,iVBORw0KGgoAAAANSUhEUgAAAAEAAAABCAQAAAC1HAwCAAAAC0lEQVQYV2NgYAAAAAMAAWgmWQ0AAAAASUVORK5CYII=: No connection adapters were found for 'data:image/png;base64,iVBORw0KGgoAAAANSUhEUgAAAAEAAAABCAQAAAC1HAwCAAAAC0lEQVQYV2NgYAAAAAMAAWgmWQ0AAAAASUVORK5CYII='\n",
      "Error al descargar data:image/png;base64,iVBORw0KGgoAAAANSUhEUgAAAAEAAAABCAQAAAC1HAwCAAAAC0lEQVQYV2NgYAAAAAMAAWgmWQ0AAAAASUVORK5CYII=: No connection adapters were found for 'data:image/png;base64,iVBORw0KGgoAAAANSUhEUgAAAAEAAAABCAQAAAC1HAwCAAAAC0lEQVQYV2NgYAAAAAMAAWgmWQ0AAAAASUVORK5CYII='\n",
      "Error al descargar data:image/png;base64,iVBORw0KGgoAAAANSUhEUgAAAAEAAAABCAQAAAC1HAwCAAAAC0lEQVQYV2NgYAAAAAMAAWgmWQ0AAAAASUVORK5CYII=: No connection adapters were found for 'data:image/png;base64,iVBORw0KGgoAAAANSUhEUgAAAAEAAAABCAQAAAC1HAwCAAAAC0lEQVQYV2NgYAAAAAMAAWgmWQ0AAAAASUVORK5CYII='\n",
      "Error al descargar data:image/png;base64,iVBORw0KGgoAAAANSUhEUgAAAAEAAAABCAQAAAC1HAwCAAAAC0lEQVQYV2NgYAAAAAMAAWgmWQ0AAAAASUVORK5CYII=: No connection adapters were found for 'data:image/png;base64,iVBORw0KGgoAAAANSUhEUgAAAAEAAAABCAQAAAC1HAwCAAAAC0lEQVQYV2NgYAAAAAMAAWgmWQ0AAAAASUVORK5CYII='\n",
      "Error al descargar data:image/png;base64,iVBORw0KGgoAAAANSUhEUgAAAAEAAAABCAQAAAC1HAwCAAAAC0lEQVQYV2NgYAAAAAMAAWgmWQ0AAAAASUVORK5CYII=: No connection adapters were found for 'data:image/png;base64,iVBORw0KGgoAAAANSUhEUgAAAAEAAAABCAQAAAC1HAwCAAAAC0lEQVQYV2NgYAAAAAMAAWgmWQ0AAAAASUVORK5CYII='\n",
      "Error al descargar data:image/png;base64,iVBORw0KGgoAAAANSUhEUgAAAAEAAAABCAQAAAC1HAwCAAAAC0lEQVQYV2NgYAAAAAMAAWgmWQ0AAAAASUVORK5CYII=: No connection adapters were found for 'data:image/png;base64,iVBORw0KGgoAAAANSUhEUgAAAAEAAAABCAQAAAC1HAwCAAAAC0lEQVQYV2NgYAAAAAMAAWgmWQ0AAAAASUVORK5CYII='\n",
      "Error al descargar data:image/png;base64,iVBORw0KGgoAAAANSUhEUgAAAAEAAAABCAQAAAC1HAwCAAAAC0lEQVQYV2NgYAAAAAMAAWgmWQ0AAAAASUVORK5CYII=: No connection adapters were found for 'data:image/png;base64,iVBORw0KGgoAAAANSUhEUgAAAAEAAAABCAQAAAC1HAwCAAAAC0lEQVQYV2NgYAAAAAMAAWgmWQ0AAAAASUVORK5CYII='\n",
      "Error al descargar data:image/png;base64,iVBORw0KGgoAAAANSUhEUgAAAAEAAAABCAQAAAC1HAwCAAAAC0lEQVQYV2NgYAAAAAMAAWgmWQ0AAAAASUVORK5CYII=: No connection adapters were found for 'data:image/png;base64,iVBORw0KGgoAAAANSUhEUgAAAAEAAAABCAQAAAC1HAwCAAAAC0lEQVQYV2NgYAAAAAMAAWgmWQ0AAAAASUVORK5CYII='\n",
      "Error al descargar data:image/png;base64,iVBORw0KGgoAAAANSUhEUgAAAAEAAAABCAQAAAC1HAwCAAAAC0lEQVQYV2NgYAAAAAMAAWgmWQ0AAAAASUVORK5CYII=: No connection adapters were found for 'data:image/png;base64,iVBORw0KGgoAAAANSUhEUgAAAAEAAAABCAQAAAC1HAwCAAAAC0lEQVQYV2NgYAAAAAMAAWgmWQ0AAAAASUVORK5CYII='\n",
      "Error al descargar data:image/png;base64,iVBORw0KGgoAAAANSUhEUgAAAAEAAAABCAQAAAC1HAwCAAAAC0lEQVQYV2NgYAAAAAMAAWgmWQ0AAAAASUVORK5CYII=: No connection adapters were found for 'data:image/png;base64,iVBORw0KGgoAAAANSUhEUgAAAAEAAAABCAQAAAC1HAwCAAAAC0lEQVQYV2NgYAAAAAMAAWgmWQ0AAAAASUVORK5CYII='\n",
      "Error al descargar data:image/png;base64,iVBORw0KGgoAAAANSUhEUgAAAAEAAAABCAQAAAC1HAwCAAAAC0lEQVQYV2NgYAAAAAMAAWgmWQ0AAAAASUVORK5CYII=: No connection adapters were found for 'data:image/png;base64,iVBORw0KGgoAAAANSUhEUgAAAAEAAAABCAQAAAC1HAwCAAAAC0lEQVQYV2NgYAAAAAMAAWgmWQ0AAAAASUVORK5CYII='\n",
      "Error al descargar data:image/png;base64,iVBORw0KGgoAAAANSUhEUgAAAAEAAAABCAQAAAC1HAwCAAAAC0lEQVQYV2NgYAAAAAMAAWgmWQ0AAAAASUVORK5CYII=: No connection adapters were found for 'data:image/png;base64,iVBORw0KGgoAAAANSUhEUgAAAAEAAAABCAQAAAC1HAwCAAAAC0lEQVQYV2NgYAAAAAMAAWgmWQ0AAAAASUVORK5CYII='\n",
      "Error al descargar data:image/png;base64,iVBORw0KGgoAAAANSUhEUgAAAAEAAAABCAQAAAC1HAwCAAAAC0lEQVQYV2NgYAAAAAMAAWgmWQ0AAAAASUVORK5CYII=: No connection adapters were found for 'data:image/png;base64,iVBORw0KGgoAAAANSUhEUgAAAAEAAAABCAQAAAC1HAwCAAAAC0lEQVQYV2NgYAAAAAMAAWgmWQ0AAAAASUVORK5CYII='\n",
      "Error al descargar data:image/png;base64,iVBORw0KGgoAAAANSUhEUgAAAAEAAAABCAQAAAC1HAwCAAAAC0lEQVQYV2NgYAAAAAMAAWgmWQ0AAAAASUVORK5CYII=: No connection adapters were found for 'data:image/png;base64,iVBORw0KGgoAAAANSUhEUgAAAAEAAAABCAQAAAC1HAwCAAAAC0lEQVQYV2NgYAAAAAMAAWgmWQ0AAAAASUVORK5CYII='\n",
      "Error al descargar data:image/png;base64,iVBORw0KGgoAAAANSUhEUgAAAAEAAAABCAQAAAC1HAwCAAAAC0lEQVQYV2NgYAAAAAMAAWgmWQ0AAAAASUVORK5CYII=: No connection adapters were found for 'data:image/png;base64,iVBORw0KGgoAAAANSUhEUgAAAAEAAAABCAQAAAC1HAwCAAAAC0lEQVQYV2NgYAAAAAMAAWgmWQ0AAAAASUVORK5CYII='\n",
      "Error al descargar data:image/png;base64,iVBORw0KGgoAAAANSUhEUgAAAAEAAAABCAQAAAC1HAwCAAAAC0lEQVQYV2NgYAAAAAMAAWgmWQ0AAAAASUVORK5CYII=: No connection adapters were found for 'data:image/png;base64,iVBORw0KGgoAAAANSUhEUgAAAAEAAAABCAQAAAC1HAwCAAAAC0lEQVQYV2NgYAAAAAMAAWgmWQ0AAAAASUVORK5CYII='\n",
      "Error al descargar data:image/png;base64,iVBORw0KGgoAAAANSUhEUgAAAAEAAAABCAQAAAC1HAwCAAAAC0lEQVQYV2NgYAAAAAMAAWgmWQ0AAAAASUVORK5CYII=: No connection adapters were found for 'data:image/png;base64,iVBORw0KGgoAAAANSUhEUgAAAAEAAAABCAQAAAC1HAwCAAAAC0lEQVQYV2NgYAAAAAMAAWgmWQ0AAAAASUVORK5CYII='\n",
      "Error al descargar data:image/png;base64,iVBORw0KGgoAAAANSUhEUgAAAAEAAAABCAQAAAC1HAwCAAAAC0lEQVQYV2NgYAAAAAMAAWgmWQ0AAAAASUVORK5CYII=: No connection adapters were found for 'data:image/png;base64,iVBORw0KGgoAAAANSUhEUgAAAAEAAAABCAQAAAC1HAwCAAAAC0lEQVQYV2NgYAAAAAMAAWgmWQ0AAAAASUVORK5CYII='\n",
      "Error al descargar data:image/png;base64,iVBORw0KGgoAAAANSUhEUgAAAAEAAAABCAQAAAC1HAwCAAAAC0lEQVQYV2NgYAAAAAMAAWgmWQ0AAAAASUVORK5CYII=: No connection adapters were found for 'data:image/png;base64,iVBORw0KGgoAAAANSUhEUgAAAAEAAAABCAQAAAC1HAwCAAAAC0lEQVQYV2NgYAAAAAMAAWgmWQ0AAAAASUVORK5CYII='\n",
      "Error al descargar data:image/png;base64,iVBORw0KGgoAAAANSUhEUgAAAAEAAAABCAQAAAC1HAwCAAAAC0lEQVQYV2NgYAAAAAMAAWgmWQ0AAAAASUVORK5CYII=: No connection adapters were found for 'data:image/png;base64,iVBORw0KGgoAAAANSUhEUgAAAAEAAAABCAQAAAC1HAwCAAAAC0lEQVQYV2NgYAAAAAMAAWgmWQ0AAAAASUVORK5CYII='\n",
      "Error al descargar data:image/png;base64,iVBORw0KGgoAAAANSUhEUgAAAAEAAAABCAQAAAC1HAwCAAAAC0lEQVQYV2NgYAAAAAMAAWgmWQ0AAAAASUVORK5CYII=: No connection adapters were found for 'data:image/png;base64,iVBORw0KGgoAAAANSUhEUgAAAAEAAAABCAQAAAC1HAwCAAAAC0lEQVQYV2NgYAAAAAMAAWgmWQ0AAAAASUVORK5CYII='\n",
      "Error al descargar data:image/png;base64,iVBORw0KGgoAAAANSUhEUgAAAAEAAAABCAQAAAC1HAwCAAAAC0lEQVQYV2NgYAAAAAMAAWgmWQ0AAAAASUVORK5CYII=: No connection adapters were found for 'data:image/png;base64,iVBORw0KGgoAAAANSUhEUgAAAAEAAAABCAQAAAC1HAwCAAAAC0lEQVQYV2NgYAAAAAMAAWgmWQ0AAAAASUVORK5CYII='\n",
      "Error al descargar data:image/png;base64,iVBORw0KGgoAAAANSUhEUgAAAAEAAAABCAQAAAC1HAwCAAAAC0lEQVQYV2NgYAAAAAMAAWgmWQ0AAAAASUVORK5CYII=: No connection adapters were found for 'data:image/png;base64,iVBORw0KGgoAAAANSUhEUgAAAAEAAAABCAQAAAC1HAwCAAAAC0lEQVQYV2NgYAAAAAMAAWgmWQ0AAAAASUVORK5CYII='\n",
      "Error al descargar data:image/png;base64,iVBORw0KGgoAAAANSUhEUgAAAAEAAAABCAQAAAC1HAwCAAAAC0lEQVQYV2NgYAAAAAMAAWgmWQ0AAAAASUVORK5CYII=: No connection adapters were found for 'data:image/png;base64,iVBORw0KGgoAAAANSUhEUgAAAAEAAAABCAQAAAC1HAwCAAAAC0lEQVQYV2NgYAAAAAMAAWgmWQ0AAAAASUVORK5CYII='\n",
      "Error al descargar data:image/png;base64,iVBORw0KGgoAAAANSUhEUgAAAAEAAAABCAQAAAC1HAwCAAAAC0lEQVQYV2NgYAAAAAMAAWgmWQ0AAAAASUVORK5CYII=: No connection adapters were found for 'data:image/png;base64,iVBORw0KGgoAAAANSUhEUgAAAAEAAAABCAQAAAC1HAwCAAAAC0lEQVQYV2NgYAAAAAMAAWgmWQ0AAAAASUVORK5CYII='\n",
      "Error al descargar data:image/png;base64,iVBORw0KGgoAAAANSUhEUgAAAAEAAAABCAQAAAC1HAwCAAAAC0lEQVQYV2NgYAAAAAMAAWgmWQ0AAAAASUVORK5CYII=: No connection adapters were found for 'data:image/png;base64,iVBORw0KGgoAAAANSUhEUgAAAAEAAAABCAQAAAC1HAwCAAAAC0lEQVQYV2NgYAAAAAMAAWgmWQ0AAAAASUVORK5CYII='\n",
      "Error al descargar data:image/png;base64,iVBORw0KGgoAAAANSUhEUgAAAAEAAAABCAQAAAC1HAwCAAAAC0lEQVQYV2NgYAAAAAMAAWgmWQ0AAAAASUVORK5CYII=: No connection adapters were found for 'data:image/png;base64,iVBORw0KGgoAAAANSUhEUgAAAAEAAAABCAQAAAC1HAwCAAAAC0lEQVQYV2NgYAAAAAMAAWgmWQ0AAAAASUVORK5CYII='\n",
      "Error al descargar data:image/png;base64,iVBORw0KGgoAAAANSUhEUgAAAAEAAAABCAQAAAC1HAwCAAAAC0lEQVQYV2NgYAAAAAMAAWgmWQ0AAAAASUVORK5CYII=: No connection adapters were found for 'data:image/png;base64,iVBORw0KGgoAAAANSUhEUgAAAAEAAAABCAQAAAC1HAwCAAAAC0lEQVQYV2NgYAAAAAMAAWgmWQ0AAAAASUVORK5CYII='\n",
      "Error al descargar data:image/png;base64,iVBORw0KGgoAAAANSUhEUgAAAAEAAAABCAQAAAC1HAwCAAAAC0lEQVQYV2NgYAAAAAMAAWgmWQ0AAAAASUVORK5CYII=: No connection adapters were found for 'data:image/png;base64,iVBORw0KGgoAAAANSUhEUgAAAAEAAAABCAQAAAC1HAwCAAAAC0lEQVQYV2NgYAAAAAMAAWgmWQ0AAAAASUVORK5CYII='\n",
      "Error al descargar data:image/png;base64,iVBORw0KGgoAAAANSUhEUgAAAAEAAAABCAQAAAC1HAwCAAAAC0lEQVQYV2NgYAAAAAMAAWgmWQ0AAAAASUVORK5CYII=: No connection adapters were found for 'data:image/png;base64,iVBORw0KGgoAAAANSUhEUgAAAAEAAAABCAQAAAC1HAwCAAAAC0lEQVQYV2NgYAAAAAMAAWgmWQ0AAAAASUVORK5CYII='\n",
      "Error al descargar data:image/png;base64,iVBORw0KGgoAAAANSUhEUgAAAAEAAAABCAQAAAC1HAwCAAAAC0lEQVQYV2NgYAAAAAMAAWgmWQ0AAAAASUVORK5CYII=: No connection adapters were found for 'data:image/png;base64,iVBORw0KGgoAAAANSUhEUgAAAAEAAAABCAQAAAC1HAwCAAAAC0lEQVQYV2NgYAAAAAMAAWgmWQ0AAAAASUVORK5CYII='\n",
      "Error al descargar data:image/png;base64,iVBORw0KGgoAAAANSUhEUgAAAAEAAAABCAQAAAC1HAwCAAAAC0lEQVQYV2NgYAAAAAMAAWgmWQ0AAAAASUVORK5CYII=: No connection adapters were found for 'data:image/png;base64,iVBORw0KGgoAAAANSUhEUgAAAAEAAAABCAQAAAC1HAwCAAAAC0lEQVQYV2NgYAAAAAMAAWgmWQ0AAAAASUVORK5CYII='\n",
      "Error al descargar data:image/png;base64,iVBORw0KGgoAAAANSUhEUgAAAAEAAAABCAQAAAC1HAwCAAAAC0lEQVQYV2NgYAAAAAMAAWgmWQ0AAAAASUVORK5CYII=: No connection adapters were found for 'data:image/png;base64,iVBORw0KGgoAAAANSUhEUgAAAAEAAAABCAQAAAC1HAwCAAAAC0lEQVQYV2NgYAAAAAMAAWgmWQ0AAAAASUVORK5CYII='\n",
      "Error al descargar data:image/png;base64,iVBORw0KGgoAAAANSUhEUgAAAAEAAAABCAQAAAC1HAwCAAAAC0lEQVQYV2NgYAAAAAMAAWgmWQ0AAAAASUVORK5CYII=: No connection adapters were found for 'data:image/png;base64,iVBORw0KGgoAAAANSUhEUgAAAAEAAAABCAQAAAC1HAwCAAAAC0lEQVQYV2NgYAAAAAMAAWgmWQ0AAAAASUVORK5CYII='\n",
      "Error al descargar data:image/png;base64,iVBORw0KGgoAAAANSUhEUgAAAAEAAAABCAQAAAC1HAwCAAAAC0lEQVQYV2NgYAAAAAMAAWgmWQ0AAAAASUVORK5CYII=: No connection adapters were found for 'data:image/png;base64,iVBORw0KGgoAAAANSUhEUgAAAAEAAAABCAQAAAC1HAwCAAAAC0lEQVQYV2NgYAAAAAMAAWgmWQ0AAAAASUVORK5CYII='\n",
      "Error al descargar data:image/png;base64,iVBORw0KGgoAAAANSUhEUgAAAAEAAAABCAQAAAC1HAwCAAAAC0lEQVQYV2NgYAAAAAMAAWgmWQ0AAAAASUVORK5CYII=: No connection adapters were found for 'data:image/png;base64,iVBORw0KGgoAAAANSUhEUgAAAAEAAAABCAQAAAC1HAwCAAAAC0lEQVQYV2NgYAAAAAMAAWgmWQ0AAAAASUVORK5CYII='\n"
     ]
    },
    {
     "name": "stderr",
     "output_type": "stream",
     "text": [
      "Procesando imágenes de https://www.pngwing.com/es/search?q=eucalipto: 100%|██████████| 61/61 [00:00<00:00, 252.36it/s]"
     ]
    },
    {
     "name": "stdout",
     "output_type": "stream",
     "text": [
      "Error al descargar https://www.pngwing.com/public/css/pngwing.svg: cannot identify image file <_io.BytesIO object at 0x0000022031D28590>\n"
     ]
    },
    {
     "name": "stderr",
     "output_type": "stream",
     "text": [
      "\n",
      "Procesando imágenes de https://es.123rf.com/imagenes-de-archivo/eucalipto_planta.html:   4%|▍         | 12/317 [00:00<00:08, 35.38it/s]"
     ]
    },
    {
     "name": "stdout",
     "output_type": "stream",
     "text": [
      "Error al descargar https://assets-cdn.123rf.com/ui-components/assets/svg/ai-img-generator.svg: cannot identify image file <_io.BytesIO object at 0x000002207EEB48B0>\n",
      "Error al descargar https://assets-cdn.123rf.com/ui-components/assets/svg/ai-face-swap.svg: cannot identify image file <_io.BytesIO object at 0x0000022031C0F1A0>\n",
      "Error al descargar https://assets-cdn.123rf.com/ui-components/assets/svg/chevron-down.svg: cannot identify image file <_io.BytesIO object at 0x0000022031C0E020>\n",
      "Error al descargar https://assets-cdn.123rf.com/ui-components/assets/svg/gradient/123rf-logo-gradient.svg: cannot identify image file <_io.BytesIO object at 0x0000022030E549A0>\n",
      "Error al descargar https://assets-cdn.123rf.com/ui-components/assets/svg/ai-img-upscaler.svg: cannot identify image file <_io.BytesIO object at 0x0000022030E66BB0>\n",
      "Error al descargar https://assets-cdn.123rf.com/ui-components/assets/svg/ai-sketch.svg: cannot identify image file <_io.BytesIO object at 0x0000022031C0F6F0>\n",
      "Error al descargar https://assets-cdn.123rf.com/ui-components/assets/svg/ai-generative-fill.svg: cannot identify image file <_io.BytesIO object at 0x0000022031C0F6A0>\n",
      "Error al descargar https://assets-cdn.123rf.com/ui-components/assets/svg/ai-bg-blur.svg: cannot identify image file <_io.BytesIO object at 0x0000022030C42B60>\n"
     ]
    },
    {
     "name": "stderr",
     "output_type": "stream",
     "text": [
      "Procesando imágenes de https://es.123rf.com/imagenes-de-archivo/eucalipto_planta.html:   7%|▋         | 21/317 [00:00<00:05, 51.70it/s]"
     ]
    },
    {
     "name": "stdout",
     "output_type": "stream",
     "text": [
      "Error al descargar https://assets-cdn.123rf.com/ui-components/assets/svg/ai-img-extender.svg: cannot identify image file <_io.BytesIO object at 0x0000022030E549A0>\n",
      "Error al descargar https://assets-cdn.123rf.com/ui-components/assets/svg/ai-bg-remix.svg: cannot identify image file <_io.BytesIO object at 0x0000022030E55D50>\n",
      "Error al descargar https://assets-cdn.123rf.com/ui-components/assets/svg/ai-writer.svg: cannot identify image file <_io.BytesIO object at 0x0000022030C40680>\n",
      "Error al descargar https://assets-cdn.123rf.com/ui-components/assets/svg/ai-bg-removal.svg: cannot identify image file <_io.BytesIO object at 0x0000022030E67560>\n",
      "Error al descargar https://assets-cdn.123rf.com/ui-components/assets/svg/chevron-down.svg: cannot identify image file <_io.BytesIO object at 0x0000022030E555D0>\n",
      "Error al descargar https://assets-cdn.123rf.com/ui-components/assets/svg/chevron-down.svg: cannot identify image file <_io.BytesIO object at 0x000002207EEB48B0>\n",
      "Error al descargar https://assets-cdn.123rf.com/ui-components/assets/svg/tick.svg: cannot identify image file <_io.BytesIO object at 0x0000022030E67740>\n",
      "Error al descargar https://assets-cdn.123rf.com/ui-components/assets/svg/tick.svg: cannot identify image file <_io.BytesIO object at 0x0000022030E66BB0>\n"
     ]
    },
    {
     "name": "stderr",
     "output_type": "stream",
     "text": [
      "Procesando imágenes de https://es.123rf.com/imagenes-de-archivo/eucalipto_planta.html:  11%|█         | 34/317 [00:00<00:06, 42.50it/s]"
     ]
    },
    {
     "name": "stdout",
     "output_type": "stream",
     "text": [
      "Error al descargar https://assets-cdn.123rf.com/ui-components/assets/images/plus-upsell-ai-v3.png: cannot write mode P as JPEG\n",
      "Error al descargar https://assets-cdn.123rf.com/ui-components/assets/svg/tick.svg: cannot identify image file <_io.BytesIO object at 0x0000022031C0E020>\n",
      "Error al descargar https://assets-cdn.123rf.com/ui-components/assets/svg/tick.svg: cannot identify image file <_io.BytesIO object at 0x0000022030E67AB0>\n",
      "Error al descargar https://assets-cdn.123rf.com/ui-components/assets/svg/tick.svg: cannot identify image file <_io.BytesIO object at 0x0000022030C40680>\n",
      "Error al descargar https://assets-cdn.123rf.com/ui-components/assets/svg/tick.svg: cannot identify image file <_io.BytesIO object at 0x0000022030E2D670>\n",
      "Error al descargar https://assets-cdn.123rf.com/ui-components/assets/svg/tick.svg: cannot identify image file <_io.BytesIO object at 0x0000022030E55490>\n",
      "Error al descargar https://assets-cdn.123rf.com/ui-components/assets/svg/tick.svg: cannot identify image file <_io.BytesIO object at 0x0000022031C0F6A0>\n",
      "Error al descargar https://assets-cdn.123rf.com/ui-components/assets/svg/tick.svg: cannot identify image file <_io.BytesIO object at 0x0000022030E56DE0>\n"
     ]
    },
    {
     "name": "stderr",
     "output_type": "stream",
     "text": [
      "Procesando imágenes de https://es.123rf.com/imagenes-de-archivo/eucalipto_planta.html:  13%|█▎        | 40/317 [00:01<00:06, 42.65it/s]"
     ]
    },
    {
     "name": "stdout",
     "output_type": "stream",
     "text": [
      "Error al descargar https://assets-cdn.123rf.com/ui-components/assets/svg/tick.svg: cannot identify image file <_io.BytesIO object at 0x0000022030C42B60>\n",
      "Error al descargar https://assets-cdn.123rf.com/ui-components/assets/svg/tick.svg: cannot identify image file <_io.BytesIO object at 0x0000022031C0F6F0>\n",
      "Error al descargar https://assets-cdn.123rf.com/ui-components/assets/svg/tick.svg: cannot identify image file <_io.BytesIO object at 0x0000022030E2DE90>\n",
      "Error al descargar https://assets-cdn.123rf.com/ui-components/assets/svg/tick.svg: cannot identify image file <_io.BytesIO object at 0x0000022031C0F1A0>\n",
      "Error al descargar https://assets-cdn.123rf.com/ui-components/assets/svg/tick.svg: cannot identify image file <_io.BytesIO object at 0x0000022030E67AB0>\n",
      "Error al descargar https://assets-cdn.123rf.com/ui-components/assets/svg/menu.svg: cannot identify image file <_io.BytesIO object at 0x0000022030E2FCE0>\n",
      "Error al descargar https://assets-cdn.123rf.com/ui-components/assets/svg/tick.svg: cannot identify image file <_io.BytesIO object at 0x0000022030C40680>\n",
      "Error al descargar https://assets-cdn.123rf.com/ui-components/assets/svg/camera.svg: cannot identify image file <_io.BytesIO object at 0x0000022030E67560>\n",
      "Error al descargar https://assets-cdn.123rf.com/ui-components/assets/svg/close.svg: cannot identify image file <_io.BytesIO object at 0x0000022030E555D0>\n"
     ]
    },
    {
     "name": "stderr",
     "output_type": "stream",
     "text": [
      "Procesando imágenes de https://es.123rf.com/imagenes-de-archivo/eucalipto_planta.html:  16%|█▌        | 51/317 [00:01<00:06, 44.01it/s]"
     ]
    },
    {
     "name": "stdout",
     "output_type": "stream",
     "text": [
      "Error al descargar https://assets-cdn.123rf.com/ui-components/assets/svg/upload.svg: cannot identify image file <_io.BytesIO object at 0x0000022030E56DE0>\n",
      "Error al descargar https://assets-cdn.123rf.com/ui-components/assets/svg/all-images.svg: cannot identify image file <_io.BytesIO object at 0x0000022030E67740>\n",
      "Error al descargar https://assets-cdn.123rf.com/ui-components/assets/svg/chevron-down.svg: cannot identify image file <_io.BytesIO object at 0x0000022030E66BB0>\n",
      "Error al descargar https://assets-cdn.123rf.com/ui-components/assets/svg/camera.svg: cannot identify image file <_io.BytesIO object at 0x0000022031C0E020>\n",
      "Error al descargar https://assets-cdn.123rf.com/ui-components/assets/svg/close.svg: cannot identify image file <_io.BytesIO object at 0x0000022030E2DFD0>\n",
      "Error al descargar https://assets-cdn.123rf.com/ui-components/assets/svg/premium.svg: cannot identify image file <_io.BytesIO object at 0x00000220323A4540>\n",
      "Error al descargar https://assets-cdn.123rf.com/ui-components/assets/svg/all-images.svg: cannot identify image file <_io.BytesIO object at 0x0000022030E2C810>\n",
      "Error al descargar https://assets-cdn.123rf.com/ui-components/assets/svg/photos.svg: cannot identify image file <_io.BytesIO object at 0x0000022030C40680>\n",
      "Error al descargar https://assets-cdn.123rf.com/ui-components/assets/svg/vector.svg: cannot identify image file <_io.BytesIO object at 0x0000022030E55490>\n",
      "Error al descargar https://assets-cdn.123rf.com/ui-components/assets/svg/footage.svg: cannot identify image file <_io.BytesIO object at 0x0000022031C0F6A0>\n"
     ]
    },
    {
     "name": "stderr",
     "output_type": "stream",
     "text": [
      "Procesando imágenes de https://es.123rf.com/imagenes-de-archivo/eucalipto_planta.html:  19%|█▉        | 61/317 [00:01<00:05, 43.13it/s]"
     ]
    },
    {
     "name": "stdout",
     "output_type": "stream",
     "text": [
      "Error al descargar https://assets-cdn.123rf.com/ui-components/assets/svg/audio.svg: cannot identify image file <_io.BytesIO object at 0x0000022030E56700>\n",
      "Error al descargar https://assets-cdn.123rf.com/ui-components/assets/svg/font-v2.svg: cannot identify image file <_io.BytesIO object at 0x0000022030C42B60>\n",
      "Error al descargar https://assets-cdn.123rf.com/ui-components/assets/svg/ai-img-generator.svg: cannot identify image file <_io.BytesIO object at 0x0000022031C0F6F0>\n",
      "Error al descargar https://assets-cdn.123rf.com/ui-components/assets/svg/plus.svg: cannot identify image file <_io.BytesIO object at 0x0000022031C0F1A0>\n",
      "Error al descargar https://assets-cdn.123rf.com/ui-components/assets/svg/free.svg: cannot identify image file <_io.BytesIO object at 0x0000022030E2DE90>\n",
      "Error al descargar https://assets-cdn.123rf.com/ui-components/assets/svg/search.svg: cannot identify image file <_io.BytesIO object at 0x0000022030E67AB0>\n",
      "Error al descargar https://assets-cdn.123rf.com/ui-components/assets/svg/gradient/premium-crown-gradient2.svg: cannot identify image file <_io.BytesIO object at 0x0000022030C40680>\n",
      "Error al descargar https://assets-cdn.123rf.com/ui-components/assets/svg/collection.svg: cannot identify image file <_io.BytesIO object at 0x000002202FABBF10>\n"
     ]
    },
    {
     "name": "stderr",
     "output_type": "stream",
     "text": [
      "Procesando imágenes de https://es.123rf.com/imagenes-de-archivo/eucalipto_planta.html:  22%|██▏       | 71/317 [00:01<00:06, 40.57it/s]"
     ]
    },
    {
     "name": "stdout",
     "output_type": "stream",
     "text": [
      "Error al descargar https://assets-cdn.123rf.com/ui-components/assets/svg/collection.svg: cannot identify image file <_io.BytesIO object at 0x0000022030E67740>\n",
      "Error al descargar https://assets-cdn.123rf.com/ui-components/assets/svg/gradient/premium-crown-gradient2.svg: cannot identify image file <_io.BytesIO object at 0x0000022030E56DE0>\n",
      "Error al descargar https://assets-cdn.123rf.com/ui-components/assets/svg/gradient/premium-crown-gradient2.svg: cannot identify image file <_io.BytesIO object at 0x0000022030E2F970>\n",
      "Error al descargar https://assets-cdn.123rf.com/ui-components/assets/svg/gradient/premium-crown-gradient2.svg: cannot identify image file <_io.BytesIO object at 0x00000220323A4540>\n",
      "Error al descargar https://assets-cdn.123rf.com/ui-components/assets/svg/collection.svg: cannot identify image file <_io.BytesIO object at 0x0000022031C0E020>\n",
      "Error al descargar https://assets-cdn.123rf.com/ui-components/assets/svg/collection.svg: cannot identify image file <_io.BytesIO object at 0x0000022030C40680>\n",
      "Error al descargar https://assets-cdn.123rf.com/ui-components/assets/svg/gradient/premium-crown-gradient2.svg: cannot identify image file <_io.BytesIO object at 0x0000022030E55490>\n"
     ]
    },
    {
     "name": "stderr",
     "output_type": "stream",
     "text": [
      "Procesando imágenes de https://es.123rf.com/imagenes-de-archivo/eucalipto_planta.html:  26%|██▌       | 82/317 [00:02<00:05, 41.89it/s]"
     ]
    },
    {
     "name": "stdout",
     "output_type": "stream",
     "text": [
      "Error al descargar https://assets-cdn.123rf.com/ui-components/assets/svg/gradient/premium-crown-gradient2.svg: cannot identify image file <_io.BytesIO object at 0x000002207EEB48B0>\n",
      "Error al descargar https://assets-cdn.123rf.com/ui-components/assets/svg/collection.svg: cannot identify image file <_io.BytesIO object at 0x0000022030E67330>\n",
      "Error al descargar https://assets-cdn.123rf.com/ui-components/assets/svg/collection.svg: cannot identify image file <_io.BytesIO object at 0x0000022031C0F6F0>\n",
      "Error al descargar https://assets-cdn.123rf.com/ui-components/assets/svg/collection.svg: cannot identify image file <_io.BytesIO object at 0x0000022030E67AB0>\n",
      "Error al descargar https://assets-cdn.123rf.com/ui-components/assets/svg/gradient/premium-crown-gradient2.svg: cannot identify image file <_io.BytesIO object at 0x0000022030E555D0>\n",
      "Error al descargar https://assets-cdn.123rf.com/ui-components/assets/svg/collection.svg: cannot identify image file <_io.BytesIO object at 0x0000022030C40680>\n",
      "Error al descargar https://assets-cdn.123rf.com/ui-components/assets/svg/collection.svg: cannot identify image file <_io.BytesIO object at 0x0000022030E67740>\n"
     ]
    },
    {
     "name": "stderr",
     "output_type": "stream",
     "text": [
      "Procesando imágenes de https://es.123rf.com/imagenes-de-archivo/eucalipto_planta.html:  30%|██▉       | 94/317 [00:02<00:04, 47.12it/s]"
     ]
    },
    {
     "name": "stdout",
     "output_type": "stream",
     "text": [
      "Error al descargar https://assets-cdn.123rf.com/ui-components/assets/svg/gradient/premium-crown-gradient2.svg: cannot identify image file <_io.BytesIO object at 0x0000022030E67330>\n",
      "Error al descargar https://assets-cdn.123rf.com/ui-components/assets/svg/collection.svg: cannot identify image file <_io.BytesIO object at 0x0000022030E2D3A0>\n",
      "Error al descargar https://assets-cdn.123rf.com/ui-components/assets/svg/gradient/premium-crown-gradient2.svg: cannot identify image file <_io.BytesIO object at 0x0000022030E66BB0>\n",
      "Error al descargar https://assets-cdn.123rf.com/ui-components/assets/svg/collection.svg: cannot identify image file <_io.BytesIO object at 0x00000220323A4540>\n",
      "Error al descargar https://assets-cdn.123rf.com/ui-components/assets/svg/collection.svg: cannot identify image file <_io.BytesIO object at 0x0000022030E55490>\n",
      "Error al descargar https://assets-cdn.123rf.com/ui-components/assets/svg/gradient/premium-crown-gradient2.svg: cannot identify image file <_io.BytesIO object at 0x000002207EEB48B0>\n",
      "Error al descargar https://assets-cdn.123rf.com/ui-components/assets/svg/collection.svg: cannot identify image file <_io.BytesIO object at 0x0000022030E2D260>\n"
     ]
    },
    {
     "name": "stderr",
     "output_type": "stream",
     "text": [
      "Procesando imágenes de https://es.123rf.com/imagenes-de-archivo/eucalipto_planta.html:  33%|███▎      | 104/317 [00:02<00:04, 43.83it/s]"
     ]
    },
    {
     "name": "stdout",
     "output_type": "stream",
     "text": [
      "Error al descargar https://assets-cdn.123rf.com/ui-components/assets/svg/gradient/premium-crown-gradient2.svg: cannot identify image file <_io.BytesIO object at 0x0000022030E67330>\n",
      "Error al descargar https://assets-cdn.123rf.com/ui-components/assets/svg/collection.svg: cannot identify image file <_io.BytesIO object at 0x0000022030E2CE50>\n",
      "Error al descargar https://assets-cdn.123rf.com/ui-components/assets/svg/collection.svg: cannot identify image file <_io.BytesIO object at 0x00000220316E3790>\n",
      "Error al descargar https://assets-cdn.123rf.com/ui-components/assets/svg/collection.svg: cannot identify image file <_io.BytesIO object at 0x0000022030E67AB0>\n",
      "Error al descargar https://assets-cdn.123rf.com/ui-components/assets/svg/collection.svg: cannot identify image file <_io.BytesIO object at 0x0000022030E56DE0>\n",
      "Error al descargar https://assets-cdn.123rf.com/ui-components/assets/svg/gradient/premium-crown-gradient2.svg: cannot identify image file <_io.BytesIO object at 0x0000022030E2C590>\n",
      "Error al descargar https://assets-cdn.123rf.com/ui-components/assets/svg/collection.svg: cannot identify image file <_io.BytesIO object at 0x0000022031C0F6A0>\n"
     ]
    },
    {
     "name": "stderr",
     "output_type": "stream",
     "text": [
      "Procesando imágenes de https://es.123rf.com/imagenes-de-archivo/eucalipto_planta.html:  36%|███▋      | 115/317 [00:02<00:04, 43.22it/s]"
     ]
    },
    {
     "name": "stdout",
     "output_type": "stream",
     "text": [
      "Error al descargar https://assets-cdn.123rf.com/ui-components/assets/svg/gradient/premium-crown-gradient2.svg: cannot identify image file <_io.BytesIO object at 0x0000022030E2DF80>\n",
      "Error al descargar https://assets-cdn.123rf.com/ui-components/assets/svg/collection.svg: cannot identify image file <_io.BytesIO object at 0x0000022030E2FDD0>\n",
      "Error al descargar https://assets-cdn.123rf.com/ui-components/assets/svg/gradient/premium-crown-gradient2.svg: cannot identify image file <_io.BytesIO object at 0x0000022030E66BB0>\n",
      "Error al descargar https://assets-cdn.123rf.com/ui-components/assets/svg/collection.svg: cannot identify image file <_io.BytesIO object at 0x0000022030E55D50>\n",
      "Error al descargar https://assets-cdn.123rf.com/ui-components/assets/svg/collection.svg: cannot identify image file <_io.BytesIO object at 0x000002207EEB48B0>\n",
      "Error al descargar https://assets-cdn.123rf.com/ui-components/assets/svg/gradient/premium-crown-gradient2.svg: cannot identify image file <_io.BytesIO object at 0x0000022030E56DE0>\n",
      "Error al descargar https://assets-cdn.123rf.com/ui-components/assets/svg/gradient/premium-crown-gradient2.svg: cannot identify image file <_io.BytesIO object at 0x0000022030E555D0>\n"
     ]
    },
    {
     "name": "stderr",
     "output_type": "stream",
     "text": [
      "Procesando imágenes de https://es.123rf.com/imagenes-de-archivo/eucalipto_planta.html:  41%|████      | 129/317 [00:03<00:04, 46.63it/s]"
     ]
    },
    {
     "name": "stdout",
     "output_type": "stream",
     "text": [
      "Error al descargar https://assets-cdn.123rf.com/ui-components/assets/svg/collection.svg: cannot identify image file <_io.BytesIO object at 0x0000022030E67740>\n",
      "Error al descargar https://assets-cdn.123rf.com/ui-components/assets/svg/collection.svg: cannot identify image file <_io.BytesIO object at 0x0000022031C0E020>\n",
      "Error al descargar https://assets-cdn.123rf.com/ui-components/assets/svg/collection.svg: cannot identify image file <_io.BytesIO object at 0x00000220316E3790>\n",
      "Error al descargar https://assets-cdn.123rf.com/ui-components/assets/svg/collection.svg: cannot identify image file <_io.BytesIO object at 0x0000022030E67330>\n",
      "Error al descargar https://assets-cdn.123rf.com/ui-components/assets/svg/collection.svg: cannot identify image file <_io.BytesIO object at 0x0000022030E56DE0>\n",
      "Error al descargar https://assets-cdn.123rf.com/ui-components/assets/svg/collection.svg: cannot identify image file <_io.BytesIO object at 0x0000022030C40680>\n",
      "Error al descargar https://assets-cdn.123rf.com/ui-components/assets/svg/gradient/premium-crown-gradient2.svg: cannot identify image file <_io.BytesIO object at 0x0000022030E2C360>\n"
     ]
    },
    {
     "name": "stderr",
     "output_type": "stream",
     "text": [
      "Procesando imágenes de https://es.123rf.com/imagenes-de-archivo/eucalipto_planta.html:  45%|████▍     | 142/317 [00:03<00:03, 49.42it/s]"
     ]
    },
    {
     "name": "stdout",
     "output_type": "stream",
     "text": [
      "Error al descargar https://assets-cdn.123rf.com/ui-components/assets/svg/collection.svg: cannot identify image file <_io.BytesIO object at 0x0000022030C42B60>\n",
      "Error al descargar https://assets-cdn.123rf.com/ui-components/assets/svg/collection.svg: cannot identify image file <_io.BytesIO object at 0x0000022030E67560>\n",
      "Error al descargar https://assets-cdn.123rf.com/ui-components/assets/svg/collection.svg: cannot identify image file <_io.BytesIO object at 0x0000022030E56F20>\n",
      "Error al descargar https://assets-cdn.123rf.com/ui-components/assets/svg/collection.svg: cannot identify image file <_io.BytesIO object at 0x0000022030E67740>\n",
      "Error al descargar https://assets-cdn.123rf.com/ui-components/assets/svg/collection.svg: cannot identify image file <_io.BytesIO object at 0x0000022030E67AB0>\n",
      "Error al descargar https://assets-cdn.123rf.com/ui-components/assets/svg/gradient/premium-crown-gradient2.svg: cannot identify image file <_io.BytesIO object at 0x00000220316E3790>\n"
     ]
    },
    {
     "name": "stderr",
     "output_type": "stream",
     "text": [
      "Procesando imágenes de https://es.123rf.com/imagenes-de-archivo/eucalipto_planta.html:  47%|████▋     | 148/317 [00:03<00:03, 49.19it/s]"
     ]
    },
    {
     "name": "stdout",
     "output_type": "stream",
     "text": [
      "Error al descargar https://assets-cdn.123rf.com/ui-components/assets/svg/collection.svg: cannot identify image file <_io.BytesIO object at 0x0000022030E55940>\n",
      "Error al descargar https://assets-cdn.123rf.com/ui-components/assets/svg/collection.svg: cannot identify image file <_io.BytesIO object at 0x0000022030E55D50>\n",
      "Error al descargar https://assets-cdn.123rf.com/ui-components/assets/svg/gradient/premium-crown-gradient2.svg: cannot identify image file <_io.BytesIO object at 0x0000022030E542C0>\n",
      "Error al descargar https://assets-cdn.123rf.com/ui-components/assets/svg/collection.svg: cannot identify image file <_io.BytesIO object at 0x0000022030E2E6B0>\n",
      "Error al descargar https://assets-cdn.123rf.com/ui-components/assets/svg/gradient/premium-crown-gradient2.svg: cannot identify image file <_io.BytesIO object at 0x0000022030E55490>\n",
      "Error al descargar https://assets-cdn.123rf.com/ui-components/assets/svg/collection.svg: cannot identify image file <_io.BytesIO object at 0x0000022030E549A0>\n"
     ]
    },
    {
     "name": "stderr",
     "output_type": "stream",
     "text": [
      "Procesando imágenes de https://es.123rf.com/imagenes-de-archivo/eucalipto_planta.html:  50%|█████     | 160/317 [00:03<00:03, 46.31it/s]"
     ]
    },
    {
     "name": "stdout",
     "output_type": "stream",
     "text": [
      "Error al descargar https://assets-cdn.123rf.com/ui-components/assets/svg/gradient/premium-crown-gradient2.svg: cannot identify image file <_io.BytesIO object at 0x0000022030E66BB0>\n",
      "Error al descargar https://assets-cdn.123rf.com/ui-components/assets/svg/collection.svg: cannot identify image file <_io.BytesIO object at 0x000002207EEB48B0>\n",
      "Error al descargar https://assets-cdn.123rf.com/ui-components/assets/svg/collection.svg: cannot identify image file <_io.BytesIO object at 0x00000220323A4540>\n",
      "Error al descargar https://assets-cdn.123rf.com/ui-components/assets/svg/collection.svg: cannot identify image file <_io.BytesIO object at 0x0000022030E2EC50>\n",
      "Error al descargar https://assets-cdn.123rf.com/ui-components/assets/svg/gradient/premium-crown-gradient2.svg: cannot identify image file <_io.BytesIO object at 0x0000022030C42B60>\n",
      "Error al descargar https://assets-cdn.123rf.com/ui-components/assets/svg/collection.svg: cannot identify image file <_io.BytesIO object at 0x0000022031C0F6A0>\n",
      "Error al descargar https://assets-cdn.123rf.com/ui-components/assets/svg/collection.svg: cannot identify image file <_io.BytesIO object at 0x0000022030E542C0>\n",
      "Error al descargar https://assets-cdn.123rf.com/ui-components/assets/svg/gradient/premium-crown-gradient2.svg: cannot identify image file <_io.BytesIO object at 0x0000022030E555D0>\n",
      "Error al descargar https://assets-cdn.123rf.com/ui-components/assets/svg/collection.svg: cannot identify image file <_io.BytesIO object at 0x0000022030E67560>\n",
      "Error al descargar https://assets-cdn.123rf.com/ui-components/assets/svg/collection.svg: cannot identify image file <_io.BytesIO object at 0x0000022030E67AB0>\n",
      "Error al descargar https://assets-cdn.123rf.com/ui-components/assets/svg/gradient/premium-crown-gradient2.svg: cannot identify image file <_io.BytesIO object at 0x000002207EE92250>\n",
      "Error al descargar https://assets-cdn.123rf.com/ui-components/assets/svg/collection.svg: cannot identify image file <_io.BytesIO object at 0x0000022030E542C0>\n",
      "Error al descargar https://assets-cdn.123rf.com/ui-components/assets/svg/collection.svg: cannot identify image file <_io.BytesIO object at 0x000002207EEB48B0>\n",
      "Error al descargar https://assets-cdn.123rf.com/ui-components/assets/svg/collection.svg: cannot identify image file <_io.BytesIO object at 0x0000022030E2D120>\n",
      "Error al descargar https://assets-cdn.123rf.com/ui-components/assets/svg/gradient/premium-crown-gradient2.svg: cannot identify image file <_io.BytesIO object at 0x0000022030E66BB0>\n",
      "Error al descargar https://assets-cdn.123rf.com/ui-components/assets/svg/collection.svg: cannot identify image file <_io.BytesIO object at 0x0000022030E549A0>\n",
      "Error al descargar https://assets-cdn.123rf.com/ui-components/assets/svg/collection.svg: cannot identify image file <_io.BytesIO object at 0x0000022031C0E020>\n",
      "Error al descargar https://assets-cdn.123rf.com/ui-components/assets/svg/collection.svg: cannot identify image file <_io.BytesIO object at 0x0000022030E542C0>\n",
      "Error al descargar https://assets-cdn.123rf.com/ui-components/assets/svg/collection.svg: cannot identify image file <_io.BytesIO object at 0x00000220323A4540>\n",
      "Error al descargar https://assets-cdn.123rf.com/ui-components/assets/svg/gradient/premium-crown-gradient2.svg: cannot identify image file <_io.BytesIO object at 0x0000022030E67330>\n",
      "Error al descargar https://assets-cdn.123rf.com/ui-components/assets/svg/collection.svg: cannot identify image file <_io.BytesIO object at 0x00000220316E3790>\n",
      "Error al descargar https://assets-cdn.123rf.com/ui-components/assets/svg/collection.svg: cannot identify image file <_io.BytesIO object at 0x000002207EEB48B0>\n",
      "Error al descargar https://assets-cdn.123rf.com/ui-components/assets/svg/collection.svg: cannot identify image file <_io.BytesIO object at 0x0000022030C40680>\n",
      "Error al descargar https://assets-cdn.123rf.com/ui-components/assets/svg/gradient/premium-crown-gradient2.svg: cannot identify image file <_io.BytesIO object at 0x0000022030E2D260>\n",
      "Error al descargar https://assets-cdn.123rf.com/ui-components/assets/svg/collection.svg: cannot identify image file <_io.BytesIO object at 0x0000022030E67560>\n",
      "Error al descargar https://assets-cdn.123rf.com/ui-components/assets/svg/collection.svg: cannot identify image file <_io.BytesIO object at 0x0000022030E2F7E0>\n",
      "Error al descargar https://assets-cdn.123rf.com/ui-components/assets/svg/gradient/premium-crown-gradient2.svg: cannot identify image file <_io.BytesIO object at 0x0000022031C0E020>\n",
      "Error al descargar https://assets-cdn.123rf.com/ui-components/assets/svg/collection.svg: cannot identify image file <_io.BytesIO object at 0x0000022030E67AB0>\n",
      "Error al descargar https://assets-cdn.123rf.com/ui-components/assets/svg/collection.svg: cannot identify image file <_io.BytesIO object at 0x0000022030E55D50>\n",
      "Error al descargar https://assets-cdn.123rf.com/ui-components/assets/svg/collection.svg: cannot identify image file <_io.BytesIO object at 0x0000022030E542C0>\n",
      "Error al descargar https://assets-cdn.123rf.com/ui-components/assets/svg/collection.svg: cannot identify image file <_io.BytesIO object at 0x0000022030E66BB0>\n",
      "Error al descargar https://assets-cdn.123rf.com/ui-components/assets/svg/collection.svg: cannot identify image file <_io.BytesIO object at 0x0000022030E2D3F0>\n",
      "Error al descargar https://assets-cdn.123rf.com/ui-components/assets/svg/gradient/premium-crown-gradient2.svg: cannot identify image file <_io.BytesIO object at 0x0000022030C40680>\n",
      "Error al descargar https://assets-cdn.123rf.com/ui-components/assets/svg/collection.svg: cannot identify image file <_io.BytesIO object at 0x0000022030E2C9F0>\n",
      "Error al descargar https://assets-cdn.123rf.com/ui-components/assets/svg/gradient/premium-crown-gradient2.svg: cannot identify image file <_io.BytesIO object at 0x0000022030E67560>\n",
      "Error al descargar https://assets-cdn.123rf.com/ui-components/assets/svg/collection.svg: cannot identify image file <_io.BytesIO object at 0x0000022030E555D0>\n",
      "Error al descargar https://assets-cdn.123rf.com/ui-components/assets/svg/gradient/premium-crown-gradient2.svg: cannot identify image file <_io.BytesIO object at 0x0000022030E55940>\n",
      "Error al descargar https://assets-cdn.123rf.com/ui-components/assets/svg/collection.svg: cannot identify image file <_io.BytesIO object at 0x000002207EE92250>\n",
      "Error al descargar https://assets-cdn.123rf.com/ui-components/assets/svg/collection.svg: cannot identify image file <_io.BytesIO object at 0x0000022030E67AB0>\n",
      "Error al descargar https://assets-cdn.123rf.com/ui-components/assets/svg/collection.svg: cannot identify image file <_io.BytesIO object at 0x0000022030E542C0>\n",
      "Error al descargar https://assets-cdn.123rf.com/ui-components/assets/svg/gradient/premium-crown-gradient2.svg: cannot identify image file <_io.BytesIO object at 0x0000022030E55D50>\n",
      "Error al descargar https://assets-cdn.123rf.com/ui-components/assets/svg/collection.svg: cannot identify image file <_io.BytesIO object at 0x0000022030E555D0>\n",
      "Error al descargar https://assets-cdn.123rf.com/ui-components/assets/svg/collection.svg: cannot identify image file <_io.BytesIO object at 0x000002207EEB48B0>\n",
      "Error al descargar https://assets-cdn.123rf.com/ui-components/assets/svg/gradient/premium-crown-gradient2.svg: cannot identify image file <_io.BytesIO object at 0x0000022030E67330>\n",
      "Error al descargar https://assets-cdn.123rf.com/ui-components/assets/svg/gradient/premium-crown-gradient2.svg: cannot identify image file <_io.BytesIO object at 0x0000022030E542C0>\n",
      "Error al descargar https://assets-cdn.123rf.com/ui-components/assets/svg/collection.svg: cannot identify image file <_io.BytesIO object at 0x0000022030E549A0>\n",
      "Error al descargar https://assets-cdn.123rf.com/ui-components/assets/svg/collection.svg: cannot identify image file <_io.BytesIO object at 0x0000022030E2C0E0>\n",
      "Error al descargar https://assets-cdn.123rf.com/ui-components/assets/svg/gradient/premium-crown-gradient2.svg: cannot identify image file <_io.BytesIO object at 0x0000022030E67560>\n",
      "Error al descargar https://assets-cdn.123rf.com/ui-components/assets/svg/collection.svg: cannot identify image file <_io.BytesIO object at 0x0000022030E555D0>\n",
      "Error al descargar https://assets-cdn.123rf.com/ui-components/assets/svg/gradient/premium-crown-gradient2.svg: cannot identify image file <_io.BytesIO object at 0x000002202F90CFE0>\n",
      "Error al descargar https://assets-cdn.123rf.com/ui-components/assets/svg/collection.svg: cannot identify image file <_io.BytesIO object at 0x0000022030C42B60>\n",
      "Error al descargar https://assets-cdn.123rf.com/ui-components/assets/svg/collection.svg: cannot identify image file <_io.BytesIO object at 0x0000022031C0E0C0>\n",
      "Error al descargar https://assets-cdn.123rf.com/ui-components/assets/svg/gradient/premium-crown-gradient2.svg: cannot identify image file <_io.BytesIO object at 0x0000022030E2EB60>\n",
      "Error al descargar https://assets-cdn.123rf.com/ui-components/assets/svg/gradient/premium-crown-gradient2.svg: cannot identify image file <_io.BytesIO object at 0x000002207EEB48B0>\n",
      "Error al descargar https://assets-cdn.123rf.com/ui-components/assets/svg/collection.svg: cannot identify image file <_io.BytesIO object at 0x0000022030E55D50>\n",
      "Error al descargar https://assets-cdn.123rf.com/ui-components/assets/svg/collection.svg: cannot identify image file <_io.BytesIO object at 0x00000220316E3790>\n",
      "Error al descargar https://assets-cdn.123rf.com/ui-components/assets/svg/collection.svg: cannot identify image file <_io.BytesIO object at 0x0000022031C0F6A0>\n",
      "Error al descargar https://assets-cdn.123rf.com/ui-components/assets/svg/gradient/premium-crown-gradient2.svg: cannot identify image file <_io.BytesIO object at 0x0000022030E542C0>\n",
      "Error al descargar https://assets-cdn.123rf.com/ui-components/assets/svg/collection.svg: cannot identify image file <_io.BytesIO object at 0x0000022030E2D4E0>\n",
      "Error al descargar https://assets-cdn.123rf.com/ui-components/assets/svg/collection.svg: cannot identify image file <_io.BytesIO object at 0x0000022030E57CE0>\n",
      "Error al descargar https://assets-cdn.123rf.com/ui-components/assets/svg/gradient/premium-crown-gradient2.svg: cannot identify image file <_io.BytesIO object at 0x0000022030E67560>\n",
      "Error al descargar https://assets-cdn.123rf.com/ui-components/assets/svg/collection.svg: cannot identify image file <_io.BytesIO object at 0x00000220323A4540>\n",
      "Error al descargar https://assets-cdn.123rf.com/ui-components/assets/svg/collection.svg: cannot identify image file <_io.BytesIO object at 0x0000022030C40680>\n",
      "Error al descargar https://assets-cdn.123rf.com/ui-components/assets/svg/gradient/premium-crown-gradient2.svg: cannot identify image file <_io.BytesIO object at 0x0000022030E542C0>\n",
      "Error al descargar https://assets-cdn.123rf.com/ui-components/assets/svg/collection.svg: cannot identify image file <_io.BytesIO object at 0x0000022030E2D850>\n",
      "Error al descargar https://assets-cdn.123rf.com/ui-components/assets/svg/collection.svg: cannot identify image file <_io.BytesIO object at 0x0000022031C0E070>\n",
      "Error al descargar https://assets-cdn.123rf.com/ui-components/assets/svg/gradient/premium-crown-gradient2.svg: cannot identify image file <_io.BytesIO object at 0x000002207EEB48B0>\n",
      "Error al descargar https://assets-cdn.123rf.com/ui-components/assets/svg/collection.svg: cannot identify image file <_io.BytesIO object at 0x0000022030E66BB0>\n",
      "Error al descargar https://assets-cdn.123rf.com/ui-components/assets/svg/collection.svg: cannot identify image file <_io.BytesIO object at 0x0000022031C0E0C0>\n",
      "Error al descargar https://assets-cdn.123rf.com/ui-components/assets/svg/collection.svg: cannot identify image file <_io.BytesIO object at 0x0000022030E542C0>\n",
      "Error al descargar https://assets-cdn.123rf.com/ui-components/assets/svg/collection.svg: cannot identify image file <_io.BytesIO object at 0x0000022030E57CE0>\n",
      "Error al descargar https://assets-cdn.123rf.com/ui-components/assets/svg/collection.svg: cannot identify image file <_io.BytesIO object at 0x0000022030E2E480>\n",
      "Error al descargar https://assets-cdn.123rf.com/ui-components/assets/svg/gradient/premium-crown-gradient2.svg: cannot identify image file <_io.BytesIO object at 0x00000220316E3790>\n",
      "Error al descargar https://assets-cdn.123rf.com/ui-components/assets/svg/collection.svg: cannot identify image file <_io.BytesIO object at 0x0000022030E55940>\n",
      "Error al descargar https://assets-cdn.123rf.com/ui-components/assets/svg/collection.svg: cannot identify image file <_io.BytesIO object at 0x0000022030E555D0>\n",
      "Error al descargar https://assets-cdn.123rf.com/ui-components/assets/svg/gradient/premium-crown-gradient2.svg: cannot identify image file <_io.BytesIO object at 0x000002203171E340>\n",
      "Error al descargar https://assets-cdn.123rf.com/ui-components/assets/svg/collection.svg: cannot identify image file <_io.BytesIO object at 0x0000022030E67560>\n",
      "Error al descargar https://assets-cdn.123rf.com/ui-components/assets/svg/gradient/premium-crown-gradient2.svg: cannot identify image file <_io.BytesIO object at 0x0000022030E2CE50>\n",
      "Error al descargar https://assets-cdn.123rf.com/ui-components/assets/svg/collection.svg: cannot identify image file <_io.BytesIO object at 0x0000022031C0E0C0>\n",
      "Error al descargar https://assets-cdn.123rf.com/ui-components/assets/svg/collection.svg: cannot identify image file <_io.BytesIO object at 0x0000022030E55940>\n",
      "Error al descargar https://assets-cdn.123rf.com/ui-components/assets/svg/gradient/premium-crown-gradient2.svg: cannot identify image file <_io.BytesIO object at 0x00000220323A4540>\n",
      "Error al descargar https://assets-cdn.123rf.com/ui-components/assets/svg/collection.svg: cannot identify image file <_io.BytesIO object at 0x0000022030E57CE0>\n",
      "Error al descargar https://assets-cdn.123rf.com/ui-components/assets/svg/collection.svg: cannot identify image file <_io.BytesIO object at 0x0000022030E67560>\n",
      "Error al descargar https://assets-cdn.123rf.com/ui-components/assets/svg/gradient/premium-crown-gradient2.svg: cannot identify image file <_io.BytesIO object at 0x0000022031C0E070>\n",
      "Error al descargar https://assets-cdn.123rf.com/ui-components/assets/svg/collection.svg: cannot identify image file <_io.BytesIO object at 0x0000022030C40680>\n",
      "Error al descargar https://assets-cdn.123rf.com/ui-components/assets/svg/gradient/premium-crown-gradient2.svg: cannot identify image file <_io.BytesIO object at 0x0000022030E67AB0>\n",
      "Error al descargar https://assets-cdn.123rf.com/ui-components/assets/svg/collection.svg: cannot identify image file <_io.BytesIO object at 0x0000022030E55940>\n",
      "Error al descargar https://assets-cdn.123rf.com/ui-components/assets/svg/collection.svg: cannot identify image file <_io.BytesIO object at 0x000002207EEB48B0>\n"
     ]
    },
    {
     "name": "stderr",
     "output_type": "stream",
     "text": [
      "Procesando imágenes de https://es.123rf.com/imagenes-de-archivo/eucalipto_planta.html:  98%|█████████▊| 310/317 [00:07<00:00, 57.12it/s]"
     ]
    },
    {
     "name": "stdout",
     "output_type": "stream",
     "text": [
      "Error al descargar https://assets-cdn.123rf.com/ui-components/assets/svg/collection.svg: cannot identify image file <_io.BytesIO object at 0x000002202FABB7E0>\n",
      "Error al descargar https://assets-cdn.123rf.com/ui-components/assets/svg/collection.svg: cannot identify image file <_io.BytesIO object at 0x0000022031C0E020>\n",
      "Error al descargar https://assets-cdn.123rf.com/ui-components/assets/svg/collection.svg: cannot identify image file <_io.BytesIO object at 0x0000022030E55490>\n",
      "Error al descargar https://assets-cdn.123rf.com/ui-components/assets/svg/collection.svg: cannot identify image file <_io.BytesIO object at 0x00000220316E3790>\n",
      "Error al descargar https://assets-cdn.123rf.com/ui-components/assets/svg/chevron-down.svg: cannot identify image file <_io.BytesIO object at 0x000002203171E340>\n",
      "Error al descargar https://assets-cdn.123rf.com/ui-components/assets/svg/chevron-down.svg: cannot identify image file <_io.BytesIO object at 0x0000022030E67560>\n",
      "Error al descargar https://assets-cdn.123rf.com/ui-components/assets/svg/chevron-down.svg: cannot identify image file <_io.BytesIO object at 0x0000022030E55940>\n"
     ]
    },
    {
     "name": "stderr",
     "output_type": "stream",
     "text": [
      "Procesando imágenes de https://es.123rf.com/imagenes-de-archivo/eucalipto_planta.html: 100%|██████████| 317/317 [00:07<00:00, 42.69it/s]\n"
     ]
    },
    {
     "name": "stdout",
     "output_type": "stream",
     "text": [
      "Error al descargar https://assets-cdn.123rf.com/ui-components/assets/svg/chevron-down.svg: cannot identify image file <_io.BytesIO object at 0x0000022030E57CE0>\n",
      "Error al descargar https://assets-cdn.123rf.com/ui-components/assets/svg/chevron-down.svg: cannot identify image file <_io.BytesIO object at 0x0000022030E66BB0>\n",
      "Error al descargar https://assets-cdn.123rf.com/ui-components/assets/svg/facebook.svg: cannot identify image file <_io.BytesIO object at 0x000002202FABB7E0>\n",
      "Error al descargar https://assets-cdn.123rf.com/ui-components/assets/svg/twitter-v2.svg: cannot identify image file <_io.BytesIO object at 0x0000022031C0E070>\n",
      "Error al descargar https://assets-cdn.123rf.com/ui-components/assets/svg/pinterest.svg: cannot identify image file <_io.BytesIO object at 0x0000022030E55490>\n",
      "Error al descargar https://assets-cdn.123rf.com/ui-components/assets/svg/instagram-v2.svg: cannot identify image file <_io.BytesIO object at 0x0000022030E549A0>\n",
      "Error al descargar https://assets-cdn.123rf.com/ui-components/assets/svg/whatsapp-v3.svg: cannot identify image file <_io.BytesIO object at 0x00000220323A4540>\n"
     ]
    },
    {
     "name": "stderr",
     "output_type": "stream",
     "text": [
      "Procesando imágenes de https://es.123rf.com/imagenes-de-archivo/eucalipto.html:   0%|          | 1/312 [00:00<01:15,  4.10it/s]"
     ]
    },
    {
     "name": "stdout",
     "output_type": "stream",
     "text": [
      "Error al descargar https://assets-cdn.123rf.com/ui-components/assets/svg/gradient/123rf-logo-gradient.svg: cannot identify image file <_io.BytesIO object at 0x000002203119FB50>\n",
      "Error al descargar https://assets-cdn.123rf.com/ui-components/assets/svg/chevron-down.svg: cannot identify image file <_io.BytesIO object at 0x000002207EE92250>\n",
      "Error al descargar https://assets-cdn.123rf.com/ui-components/assets/svg/ai-img-generator.svg: cannot identify image file <_io.BytesIO object at 0x0000022030EEC4A0>\n",
      "Error al descargar https://assets-cdn.123rf.com/ui-components/assets/svg/ai-img-upscaler.svg: cannot identify image file <_io.BytesIO object at 0x0000022031705440>\n",
      "Error al descargar https://assets-cdn.123rf.com/ui-components/assets/svg/ai-sketch.svg: cannot identify image file <_io.BytesIO object at 0x0000022030EECAE0>\n",
      "Error al descargar https://assets-cdn.123rf.com/ui-components/assets/svg/ai-bg-blur.svg: cannot identify image file <_io.BytesIO object at 0x0000022030C42B60>\n",
      "Error al descargar https://assets-cdn.123rf.com/ui-components/assets/svg/ai-generative-fill.svg: cannot identify image file <_io.BytesIO object at 0x0000022030E66CF0>\n",
      "Error al descargar https://assets-cdn.123rf.com/ui-components/assets/svg/ai-bg-remix.svg: cannot identify image file <_io.BytesIO object at 0x0000022030EEC270>\n",
      "Error al descargar https://assets-cdn.123rf.com/ui-components/assets/svg/ai-img-extender.svg: cannot identify image file <_io.BytesIO object at 0x0000022031646980>\n",
      "Error al descargar https://assets-cdn.123rf.com/ui-components/assets/svg/ai-writer.svg: cannot identify image file <_io.BytesIO object at 0x000002202FABBF10>\n",
      "Error al descargar https://assets-cdn.123rf.com/ui-components/assets/svg/ai-bg-removal.svg: cannot identify image file <_io.BytesIO object at 0x0000022030DA2F20>\n",
      "Error al descargar https://assets-cdn.123rf.com/ui-components/assets/svg/tick.svg: cannot identify image file <_io.BytesIO object at 0x000002202FABB7E0>Error al descargar https://assets-cdn.123rf.com/ui-components/assets/svg/chevron-down.svg: cannot identify image file <_io.BytesIO object at 0x0000022030C40680>\n",
      "\n",
      "Error al descargar https://assets-cdn.123rf.com/ui-components/assets/svg/chevron-down.svg: cannot identify image file <_io.BytesIO object at 0x0000022030EECAE0>\n",
      "Error al descargar https://assets-cdn.123rf.com/ui-components/assets/svg/tick.svg: cannot identify image file <_io.BytesIO object at 0x000002207EE92250>\n",
      "Error al descargar https://assets-cdn.123rf.com/ui-components/assets/svg/tick.svg: cannot identify image file <_io.BytesIO object at 0x0000022031645C60>\n",
      "Error al descargar https://assets-cdn.123rf.com/ui-components/assets/images/plus-upsell-ai-v3.png: cannot write mode P as JPEG\n",
      "Error al descargar https://assets-cdn.123rf.com/ui-components/assets/svg/tick.svg: cannot identify image file <_io.BytesIO object at 0x0000022030E67560>\n",
      "Error al descargar https://assets-cdn.123rf.com/ui-components/assets/svg/tick.svg: cannot identify image file <_io.BytesIO object at 0x000002202FABBF10>\n",
      "Error al descargar https://assets-cdn.123rf.com/ui-components/assets/svg/tick.svg: cannot identify image file <_io.BytesIO object at 0x0000022030EECA40>\n",
      "Error al descargar https://assets-cdn.123rf.com/ui-components/assets/svg/tick.svg: cannot identify image file <_io.BytesIO object at 0x000002203119FCE0>\n",
      "Error al descargar https://assets-cdn.123rf.com/ui-components/assets/svg/tick.svg: cannot identify image file <_io.BytesIO object at 0x0000022030EEC590>\n",
      "Error al descargar https://assets-cdn.123rf.com/ui-components/assets/svg/tick.svg: cannot identify image file <_io.BytesIO object at 0x0000022030E66CF0>\n",
      "Error al descargar https://assets-cdn.123rf.com/ui-components/assets/svg/tick.svg: cannot identify image file <_io.BytesIO object at 0x000002207EE92250>\n",
      "Error al descargar https://assets-cdn.123rf.com/ui-components/assets/svg/tick.svg: cannot identify image file <_io.BytesIO object at 0x0000022030C42B60>\n",
      "Error al descargar https://assets-cdn.123rf.com/ui-components/assets/svg/tick.svg: cannot identify image file <_io.BytesIO object at 0x000002203119FB00>\n",
      "Error al descargar https://assets-cdn.123rf.com/ui-components/assets/svg/tick.svg: cannot identify image file <_io.BytesIO object at 0x000002203119FD30>\n",
      "Error al descargar https://assets-cdn.123rf.com/ui-components/assets/svg/tick.svg: cannot identify image file <_io.BytesIO object at 0x0000022030EEC7C0>\n",
      "Error al descargar https://assets-cdn.123rf.com/ui-components/assets/svg/tick.svg: cannot identify image file <_io.BytesIO object at 0x0000022030EECA40>\n",
      "Error al descargar https://assets-cdn.123rf.com/ui-components/assets/svg/close.svg: cannot identify image file <_io.BytesIO object at 0x0000022030C40680>\n",
      "Error al descargar https://assets-cdn.123rf.com/ui-components/assets/svg/camera.svg: cannot identify image file <_io.BytesIO object at 0x0000022030E66CF0>\n",
      "Error al descargar https://assets-cdn.123rf.com/ui-components/assets/svg/menu.svg: cannot identify image file <_io.BytesIO object at 0x000002203119FCE0>\n",
      "Error al descargar https://assets-cdn.123rf.com/ui-components/assets/svg/upload.svg: cannot identify image file <_io.BytesIO object at 0x000002207EE92250>\n",
      "Error al descargar https://assets-cdn.123rf.com/ui-components/assets/svg/all-images.svg: cannot identify image file <_io.BytesIO object at 0x000002203119F420>\n",
      "Error al descargar https://assets-cdn.123rf.com/ui-components/assets/svg/chevron-down.svg: cannot identify image file <_io.BytesIO object at 0x0000022030EEC5E0>\n",
      "Error al descargar https://assets-cdn.123rf.com/ui-components/assets/svg/close.svg: cannot identify image file <_io.BytesIO object at 0x0000022030E67560>\n",
      "Error al descargar https://assets-cdn.123rf.com/ui-components/assets/svg/camera.svg: cannot identify image file <_io.BytesIO object at 0x000002203119FBA0>\n",
      "Error al descargar https://assets-cdn.123rf.com/ui-components/assets/svg/premium.svg: cannot identify image file <_io.BytesIO object at 0x0000022030DA2F20>\n",
      "Error al descargar https://assets-cdn.123rf.com/ui-components/assets/svg/all-images.svg: cannot identify image file <_io.BytesIO object at 0x0000022030C40680>\n",
      "Error al descargar https://assets-cdn.123rf.com/ui-components/assets/svg/vector.svg: cannot identify image file <_io.BytesIO object at 0x0000022030EEC4F0>\n",
      "Error al descargar https://assets-cdn.123rf.com/ui-components/assets/svg/photos.svg: cannot identify image file <_io.BytesIO object at 0x0000022030E66CF0>\n",
      "Error al descargar https://assets-cdn.123rf.com/ui-components/assets/svg/footage.svg: cannot identify image file <_io.BytesIO object at 0x000002207EE92250>\n",
      "Error al descargar https://assets-cdn.123rf.com/ui-components/assets/svg/font-v2.svg: cannot identify image file <_io.BytesIO object at 0x0000022030E2D620>\n",
      "Error al descargar https://assets-cdn.123rf.com/ui-components/assets/svg/ai-img-generator.svg: cannot identify image file <_io.BytesIO object at 0x0000022030E67560>\n",
      "Error al descargar https://assets-cdn.123rf.com/ui-components/assets/svg/audio.svg: cannot identify image file <_io.BytesIO object at 0x000002202FABBF10>\n",
      "Error al descargar https://assets-cdn.123rf.com/ui-components/assets/svg/plus.svg: cannot identify image file <_io.BytesIO object at 0x0000022030EEC680>\n",
      "Error al descargar https://assets-cdn.123rf.com/ui-components/assets/svg/free.svg: cannot identify image file <_io.BytesIO object at 0x000002202FABB7E0>\n",
      "Error al descargar https://assets-cdn.123rf.com/ui-components/assets/svg/search.svg: cannot identify image file <_io.BytesIO object at 0x0000022030EECAE0>\n",
      "Error al descargar https://assets-cdn.123rf.com/ui-components/assets/svg/gradient/premium-crown-gradient2.svg: cannot identify image file <_io.BytesIO object at 0x000002203119FCE0>\n",
      "Error al descargar https://assets-cdn.123rf.com/ui-components/assets/svg/collection.svg: cannot identify image file <_io.BytesIO object at 0x0000022030EEC3B0>\n",
      "Error al descargar https://assets-cdn.123rf.com/ui-components/assets/svg/gradient/premium-crown-gradient2.svg: cannot identify image file <_io.BytesIO object at 0x0000022031645B70>\n",
      "Error al descargar https://assets-cdn.123rf.com/ui-components/assets/svg/collection.svg: cannot identify image file <_io.BytesIO object at 0x0000022030C42B60>\n",
      "Error al descargar https://assets-cdn.123rf.com/ui-components/assets/svg/gradient/premium-crown-gradient2.svg: cannot identify image file <_io.BytesIO object at 0x0000022030EEC4F0>\n",
      "Error al descargar https://assets-cdn.123rf.com/ui-components/assets/svg/collection.svg: cannot identify image file <_io.BytesIO object at 0x0000022030DA2F20>\n",
      "Error al descargar https://assets-cdn.123rf.com/ui-components/assets/svg/gradient/premium-crown-gradient2.svg: cannot identify image file <_io.BytesIO object at 0x0000022030E2CD10>\n",
      "Error al descargar https://assets-cdn.123rf.com/ui-components/assets/svg/collection.svg: cannot identify image file <_io.BytesIO object at 0x0000022030E66CF0>\n",
      "Error al descargar https://assets-cdn.123rf.com/ui-components/assets/svg/collection.svg: cannot identify image file <_io.BytesIO object at 0x0000022030E67560>\n",
      "Error al descargar https://assets-cdn.123rf.com/ui-components/assets/svg/gradient/premium-crown-gradient2.svg: cannot identify image file <_io.BytesIO object at 0x000002203119FB00>\n",
      "Error al descargar https://assets-cdn.123rf.com/ui-components/assets/svg/collection.svg: cannot identify image file <_io.BytesIO object at 0x0000022030E2D620>\n",
      "Error al descargar https://assets-cdn.123rf.com/ui-components/assets/svg/collection.svg: cannot identify image file <_io.BytesIO object at 0x0000022030EEC3B0>\n",
      "Error al descargar https://assets-cdn.123rf.com/ui-components/assets/svg/gradient/premium-crown-gradient2.svg: cannot identify image file <_io.BytesIO object at 0x000002202FABB7E0>\n",
      "Error al descargar https://assets-cdn.123rf.com/ui-components/assets/svg/collection.svg: cannot identify image file <_io.BytesIO object at 0x0000022030E66CF0>\n",
      "Error al descargar https://assets-cdn.123rf.com/ui-components/assets/svg/gradient/premium-crown-gradient2.svg: cannot identify image file <_io.BytesIO object at 0x0000022030E2C1D0>\n",
      "Error al descargar https://assets-cdn.123rf.com/ui-components/assets/svg/collection.svg: cannot identify image file <_io.BytesIO object at 0x000002202FABBF10>\n",
      "Error al descargar https://assets-cdn.123rf.com/ui-components/assets/svg/gradient/premium-crown-gradient2.svg: cannot identify image file <_io.BytesIO object at 0x0000022030C40680>\n",
      "Error al descargar https://assets-cdn.123rf.com/ui-components/assets/svg/collection.svg: cannot identify image file <_io.BytesIO object at 0x000002203119F920>\n",
      "Error al descargar https://assets-cdn.123rf.com/ui-components/assets/svg/collection.svg: cannot identify image file <_io.BytesIO object at 0x0000022030DA2F20>\n",
      "Error al descargar https://assets-cdn.123rf.com/ui-components/assets/svg/collection.svg: cannot identify image file <_io.BytesIO object at 0x000002203119FCE0>\n",
      "Error al descargar https://assets-cdn.123rf.com/ui-components/assets/svg/collection.svg: cannot identify image file <_io.BytesIO object at 0x0000022030EEC4F0>\n",
      "Error al descargar https://assets-cdn.123rf.com/ui-components/assets/svg/collection.svg: cannot identify image file <_io.BytesIO object at 0x000002207EE92250>\n",
      "Error al descargar https://assets-cdn.123rf.com/ui-components/assets/svg/gradient/premium-crown-gradient2.svg: cannot identify image file <_io.BytesIO object at 0x000002203119FFB0>\n",
      "Error al descargar https://assets-cdn.123rf.com/ui-components/assets/svg/collection.svg: cannot identify image file <_io.BytesIO object at 0x000002203119F920>\n",
      "Error al descargar https://assets-cdn.123rf.com/ui-components/assets/svg/collection.svg: cannot identify image file <_io.BytesIO object at 0x000002202FABB7E0>\n",
      "Error al descargar https://assets-cdn.123rf.com/ui-components/assets/svg/collection.svg: cannot identify image file <_io.BytesIO object at 0x000002203119F9C0>\n",
      "Error al descargar https://assets-cdn.123rf.com/ui-components/assets/svg/gradient/premium-crown-gradient2.svg: cannot identify image file <_io.BytesIO object at 0x0000022030EEC3B0>\n",
      "Error al descargar https://assets-cdn.123rf.com/ui-components/assets/svg/collection.svg: cannot identify image file <_io.BytesIO object at 0x0000022030C40680>\n",
      "Error al descargar https://assets-cdn.123rf.com/ui-components/assets/svg/collection.svg: cannot identify image file <_io.BytesIO object at 0x0000022030E2CD10>\n",
      "Error al descargar https://assets-cdn.123rf.com/ui-components/assets/svg/gradient/premium-crown-gradient2.svg: cannot identify image file <_io.BytesIO object at 0x0000022030E2DFD0>\n",
      "Error al descargar https://assets-cdn.123rf.com/ui-components/assets/svg/collection.svg: cannot identify image file <_io.BytesIO object at 0x000002203119FDD0>\n",
      "Error al descargar https://assets-cdn.123rf.com/ui-components/assets/svg/gradient/premium-crown-gradient2.svg: cannot identify image file <_io.BytesIO object at 0x0000022030EEC860>\n",
      "Error al descargar https://assets-cdn.123rf.com/ui-components/assets/svg/collection.svg: cannot identify image file <_io.BytesIO object at 0x000002207EE92250>\n",
      "Error al descargar https://assets-cdn.123rf.com/ui-components/assets/svg/collection.svg: cannot identify image file <_io.BytesIO object at 0x000002202FABB7E0>\n",
      "Error al descargar https://assets-cdn.123rf.com/ui-components/assets/svg/collection.svg: cannot identify image file <_io.BytesIO object at 0x0000022030E66CF0>\n",
      "Error al descargar https://assets-cdn.123rf.com/ui-components/assets/svg/gradient/premium-crown-gradient2.svg: cannot identify image file <_io.BytesIO object at 0x0000022030E2D3F0>\n",
      "Error al descargar https://assets-cdn.123rf.com/ui-components/assets/svg/collection.svg: cannot identify image file <_io.BytesIO object at 0x000002203119FD30>\n",
      "Error al descargar https://assets-cdn.123rf.com/ui-components/assets/svg/collection.svg: cannot identify image file <_io.BytesIO object at 0x000002203119F970>\n",
      "Error al descargar https://assets-cdn.123rf.com/ui-components/assets/svg/collection.svg: cannot identify image file <_io.BytesIO object at 0x0000022030EEC630>\n",
      "Error al descargar https://assets-cdn.123rf.com/ui-components/assets/svg/gradient/premium-crown-gradient2.svg: cannot identify image file <_io.BytesIO object at 0x000002203119FE20>\n",
      "Error al descargar https://assets-cdn.123rf.com/ui-components/assets/svg/collection.svg: cannot identify image file <_io.BytesIO object at 0x000002203119FF60>\n",
      "Error al descargar https://assets-cdn.123rf.com/ui-components/assets/svg/collection.svg: cannot identify image file <_io.BytesIO object at 0x000002203119FB00>\n",
      "Error al descargar https://assets-cdn.123rf.com/ui-components/assets/svg/gradient/premium-crown-gradient2.svg: cannot identify image file <_io.BytesIO object at 0x0000022030C40680>\n",
      "Error al descargar https://assets-cdn.123rf.com/ui-components/assets/svg/collection.svg: cannot identify image file <_io.BytesIO object at 0x0000022030E67560>\n",
      "Error al descargar https://assets-cdn.123rf.com/ui-components/assets/svg/gradient/premium-crown-gradient2.svg: cannot identify image file <_io.BytesIO object at 0x0000022030EEC400>\n",
      "Error al descargar https://assets-cdn.123rf.com/ui-components/assets/svg/collection.svg: cannot identify image file <_io.BytesIO object at 0x0000022030DA2F20>\n",
      "Error al descargar https://assets-cdn.123rf.com/ui-components/assets/svg/collection.svg: cannot identify image file <_io.BytesIO object at 0x000002203119FDD0>\n"
     ]
    },
    {
     "name": "stderr",
     "output_type": "stream",
     "text": [
      "Procesando imágenes de https://es.123rf.com/imagenes-de-archivo/eucalipto.html:   3%|▎         | 8/312 [00:03<02:23,  2.12it/s]"
     ]
    },
    {
     "name": "stdout",
     "output_type": "stream",
     "text": [
      "Error al descargar https://assets-cdn.123rf.com/ui-components/assets/svg/collection.svg: cannot identify image file <_io.BytesIO object at 0x000002202FABBF10>\n",
      "Error al descargar https://assets-cdn.123rf.com/ui-components/assets/svg/collection.svg: cannot identify image file <_io.BytesIO object at 0x0000022030E67560>\n",
      "Error al descargar https://assets-cdn.123rf.com/ui-components/assets/svg/gradient/premium-crown-gradient2.svg: cannot identify image file <_io.BytesIO object at 0x000002203119FA60>\n",
      "Error al descargar https://assets-cdn.123rf.com/ui-components/assets/svg/ai-face-swap.svg: cannot identify image file <_io.BytesIO object at 0x000002207E94BB00>\n",
      "Error al descargar https://assets-cdn.123rf.com/ui-components/assets/svg/collection.svg: cannot identify image file <_io.BytesIO object at 0x0000022030EEC4A0>\n"
     ]
    },
    {
     "name": "stderr",
     "output_type": "stream",
     "text": [
      "Procesando imágenes de https://es.123rf.com/imagenes-de-archivo/eucalipto.html:  47%|████▋     | 146/312 [00:03<00:03, 54.01it/s]"
     ]
    },
    {
     "name": "stdout",
     "output_type": "stream",
     "text": [
      "Error al descargar https://assets-cdn.123rf.com/ui-components/assets/svg/collection.svg: cannot identify image file <_io.BytesIO object at 0x000002203119FE20>\n",
      "Error al descargar https://assets-cdn.123rf.com/ui-components/assets/svg/gradient/premium-crown-gradient2.svg: cannot identify image file <_io.BytesIO object at 0x000002203119FF10>\n",
      "Error al descargar https://assets-cdn.123rf.com/ui-components/assets/svg/collection.svg: cannot identify image file <_io.BytesIO object at 0x0000022030C42B60>\n",
      "Error al descargar https://assets-cdn.123rf.com/ui-components/assets/svg/collection.svg: cannot identify image file <_io.BytesIO object at 0x0000022030EEC5E0>\n",
      "Error al descargar https://assets-cdn.123rf.com/ui-components/assets/svg/collection.svg: cannot identify image file <_io.BytesIO object at 0x0000022030EEC7C0>\n",
      "Error al descargar https://assets-cdn.123rf.com/ui-components/assets/svg/collection.svg: cannot identify image file <_io.BytesIO object at 0x0000022030EEC680>\n",
      "Error al descargar https://assets-cdn.123rf.com/ui-components/assets/svg/collection.svg: cannot identify image file <_io.BytesIO object at 0x0000022030E67560>\n",
      "Error al descargar https://assets-cdn.123rf.com/ui-components/assets/svg/collection.svg: cannot identify image file <_io.BytesIO object at 0x000002203119FF10>\n",
      "Error al descargar https://assets-cdn.123rf.com/ui-components/assets/svg/gradient/premium-crown-gradient2.svg: cannot identify image file <_io.BytesIO object at 0x0000022030EEC400>\n",
      "Error al descargar https://assets-cdn.123rf.com/ui-components/assets/svg/collection.svg: cannot identify image file <_io.BytesIO object at 0x0000022030E2DD50>\n",
      "Error al descargar https://assets-cdn.123rf.com/ui-components/assets/svg/gradient/premium-crown-gradient2.svg: cannot identify image file <_io.BytesIO object at 0x0000022030DA2F20>\n",
      "Error al descargar https://assets-cdn.123rf.com/ui-components/assets/svg/collection.svg: cannot identify image file <_io.BytesIO object at 0x000002203119FA60>\n",
      "Error al descargar https://assets-cdn.123rf.com/ui-components/assets/svg/collection.svg: cannot identify image file <_io.BytesIO object at 0x000002203119FE20>\n",
      "Error al descargar https://assets-cdn.123rf.com/ui-components/assets/svg/collection.svg: cannot identify image file <_io.BytesIO object at 0x000002207E94BB00>\n",
      "Error al descargar https://assets-cdn.123rf.com/ui-components/assets/svg/collection.svg: cannot identify image file <_io.BytesIO object at 0x000002203119FCE0>\n",
      "Error al descargar https://assets-cdn.123rf.com/ui-components/assets/svg/gradient/premium-crown-gradient2.svg: cannot identify image file <_io.BytesIO object at 0x000002202F9622A0>\n",
      "Error al descargar https://assets-cdn.123rf.com/ui-components/assets/svg/collection.svg: cannot identify image file <_io.BytesIO object at 0x000002203119FB50>\n",
      "Error al descargar https://assets-cdn.123rf.com/ui-components/assets/svg/gradient/premium-crown-gradient2.svg: cannot identify image file <_io.BytesIO object at 0x000002203119FEC0>\n",
      "Error al descargar https://assets-cdn.123rf.com/ui-components/assets/svg/collection.svg: cannot identify image file <_io.BytesIO object at 0x000002202FABBF10>\n",
      "Error al descargar https://assets-cdn.123rf.com/ui-components/assets/svg/gradient/premium-crown-gradient2.svg: cannot identify image file <_io.BytesIO object at 0x0000022030EEC770>\n",
      "Error al descargar https://assets-cdn.123rf.com/ui-components/assets/svg/collection.svg: cannot identify image file <_io.BytesIO object at 0x0000022030EEC400>\n",
      "Error al descargar https://assets-cdn.123rf.com/ui-components/assets/svg/gradient/premium-crown-gradient2.svg: cannot identify image file <_io.BytesIO object at 0x0000022030E66CF0>\n",
      "Error al descargar https://assets-cdn.123rf.com/ui-components/assets/svg/collection.svg: cannot identify image file <_io.BytesIO object at 0x0000022030EEC180>\n",
      "Error al descargar https://assets-cdn.123rf.com/ui-components/assets/svg/collection.svg: cannot identify image file <_io.BytesIO object at 0x000002203119FFB0>\n",
      "Error al descargar https://assets-cdn.123rf.com/ui-components/assets/svg/collection.svg: cannot identify image file <_io.BytesIO object at 0x000002203119F420>\n",
      "Error al descargar https://assets-cdn.123rf.com/ui-components/assets/svg/collection.svg: cannot identify image file <_io.BytesIO object at 0x0000022030EEC3B0>\n",
      "Error al descargar https://assets-cdn.123rf.com/ui-components/assets/svg/collection.svg: cannot identify image file <_io.BytesIO object at 0x0000022030E67560>\n",
      "Error al descargar https://assets-cdn.123rf.com/ui-components/assets/svg/gradient/premium-crown-gradient2.svg: cannot identify image file <_io.BytesIO object at 0x000002203119FF10>\n",
      "Error al descargar https://assets-cdn.123rf.com/ui-components/assets/svg/gradient/premium-crown-gradient2.svg: cannot identify image file <_io.BytesIO object at 0x000002202F9622A0>\n",
      "Error al descargar https://assets-cdn.123rf.com/ui-components/assets/svg/collection.svg: cannot identify image file <_io.BytesIO object at 0x000002202FABB7E0>\n",
      "Error al descargar https://assets-cdn.123rf.com/ui-components/assets/svg/collection.svg: cannot identify image file <_io.BytesIO object at 0x000002203119FE20>\n",
      "Error al descargar https://assets-cdn.123rf.com/ui-components/assets/svg/collection.svg: cannot identify image file <_io.BytesIO object at 0x0000022030EEC860>\n",
      "Error al descargar https://assets-cdn.123rf.com/ui-components/assets/svg/gradient/premium-crown-gradient2.svg: cannot identify image file <_io.BytesIO object at 0x0000022030EECB30>\n"
     ]
    },
    {
     "name": "stderr",
     "output_type": "stream",
     "text": [
      "Procesando imágenes de https://es.123rf.com/imagenes-de-archivo/eucalipto.html:  65%|██████▌   | 203/312 [00:05<00:02, 49.21it/s]"
     ]
    },
    {
     "name": "stdout",
     "output_type": "stream",
     "text": [
      "Error al descargar https://assets-cdn.123rf.com/ui-components/assets/svg/collection.svg: cannot identify image file <_io.BytesIO object at 0x0000022030E2D620>\n",
      "Error al descargar https://assets-cdn.123rf.com/ui-components/assets/svg/collection.svg: cannot identify image file <_io.BytesIO object at 0x000002207E94BB00>\n",
      "Error al descargar https://assets-cdn.123rf.com/ui-components/assets/svg/collection.svg: cannot identify image file <_io.BytesIO object at 0x000002203119FFB0>\n",
      "Error al descargar https://assets-cdn.123rf.com/ui-components/assets/svg/collection.svg: cannot identify image file <_io.BytesIO object at 0x000002203119FB00>\n",
      "Error al descargar https://assets-cdn.123rf.com/ui-components/assets/svg/collection.svg: cannot identify image file <_io.BytesIO object at 0x0000022030EEC0E0>\n",
      "Error al descargar https://assets-cdn.123rf.com/ui-components/assets/svg/collection.svg: cannot identify image file <_io.BytesIO object at 0x0000022030C42B60>\n",
      "Error al descargar https://assets-cdn.123rf.com/ui-components/assets/svg/gradient/premium-crown-gradient2.svg: cannot identify image file <_io.BytesIO object at 0x000002202FABB7E0>\n",
      "Error al descargar https://assets-cdn.123rf.com/ui-components/assets/svg/collection.svg: cannot identify image file <_io.BytesIO object at 0x0000022030DA2F20>\n",
      "Error al descargar https://assets-cdn.123rf.com/ui-components/assets/svg/collection.svg: cannot identify image file <_io.BytesIO object at 0x0000022030E66CF0>\n",
      "Error al descargar https://assets-cdn.123rf.com/ui-components/assets/svg/collection.svg: cannot identify image file <_io.BytesIO object at 0x000002203119FA60>\n",
      "Error al descargar https://assets-cdn.123rf.com/ui-components/assets/svg/gradient/premium-crown-gradient2.svg: cannot identify image file <_io.BytesIO object at 0x0000022030EEC450>\n",
      "Error al descargar https://assets-cdn.123rf.com/ui-components/assets/svg/collection.svg: cannot identify image file <_io.BytesIO object at 0x0000022030C40680>\n",
      "Error al descargar https://assets-cdn.123rf.com/ui-components/assets/svg/gradient/premium-crown-gradient2.svg: cannot identify image file <_io.BytesIO object at 0x0000022030E2DFD0>\n",
      "Error al descargar https://assets-cdn.123rf.com/ui-components/assets/svg/collection.svg: cannot identify image file <_io.BytesIO object at 0x000002202FABB7E0>\n",
      "Error al descargar https://assets-cdn.123rf.com/ui-components/assets/svg/gradient/premium-crown-gradient2.svg: cannot identify image file <_io.BytesIO object at 0x0000022030EEC180>\n",
      "Error al descargar https://assets-cdn.123rf.com/ui-components/assets/svg/collection.svg: cannot identify image file <_io.BytesIO object at 0x0000022030EEC540>\n",
      "Error al descargar https://assets-cdn.123rf.com/ui-components/assets/svg/collection.svg: cannot identify image file <_io.BytesIO object at 0x0000022030E2D620>\n",
      "Error al descargar https://assets-cdn.123rf.com/ui-components/assets/svg/gradient/premium-crown-gradient2.svg: cannot identify image file <_io.BytesIO object at 0x000002207EE92250>\n",
      "Error al descargar https://assets-cdn.123rf.com/ui-components/assets/svg/collection.svg: cannot identify image file <_io.BytesIO object at 0x000002203119FC40>\n",
      "Error al descargar https://assets-cdn.123rf.com/ui-components/assets/svg/collection.svg: cannot identify image file <_io.BytesIO object at 0x000002202FABBF10>\n"
     ]
    },
    {
     "name": "stderr",
     "output_type": "stream",
     "text": [
      "Procesando imágenes de https://es.123rf.com/imagenes-de-archivo/eucalipto.html:  77%|███████▋  | 240/312 [00:05<00:01, 49.80it/s]"
     ]
    },
    {
     "name": "stdout",
     "output_type": "stream",
     "text": [
      "Error al descargar https://assets-cdn.123rf.com/ui-components/assets/svg/gradient/premium-crown-gradient2.svg: cannot identify image file <_io.BytesIO object at 0x0000022030EEC3B0>\n",
      "Error al descargar https://assets-cdn.123rf.com/ui-components/assets/svg/collection.svg: cannot identify image file <_io.BytesIO object at 0x0000022030E67AB0>\n",
      "Error al descargar https://assets-cdn.123rf.com/ui-components/assets/svg/collection.svg: cannot identify image file <_io.BytesIO object at 0x000002203119FCE0>\n",
      "Error al descargar https://assets-cdn.123rf.com/ui-components/assets/svg/collection.svg: cannot identify image file <_io.BytesIO object at 0x000002207EE92250>\n",
      "Error al descargar https://assets-cdn.123rf.com/ui-components/assets/svg/collection.svg: cannot identify image file <_io.BytesIO object at 0x000002202FABB7E0>\n",
      "Error al descargar https://assets-cdn.123rf.com/ui-components/assets/svg/collection.svg: cannot identify image file <_io.BytesIO object at 0x0000022030EECB30>\n",
      "Error al descargar https://assets-cdn.123rf.com/ui-components/assets/svg/collection.svg: cannot identify image file <_io.BytesIO object at 0x0000022030EEC630>\n",
      "Error al descargar https://assets-cdn.123rf.com/ui-components/assets/svg/collection.svg: cannot identify image file <_io.BytesIO object at 0x0000022030E2C900>\n",
      "Error al descargar https://assets-cdn.123rf.com/ui-components/assets/svg/collection.svg: cannot identify image file <_io.BytesIO object at 0x000002203119FFB0>\n",
      "Error al descargar https://assets-cdn.123rf.com/ui-components/assets/svg/collection.svg: cannot identify image file <_io.BytesIO object at 0x000002207EE92250>\n",
      "Error al descargar https://assets-cdn.123rf.com/ui-components/assets/svg/collection.svg: cannot identify image file <_io.BytesIO object at 0x0000022030C42B60>\n",
      "Error al descargar https://assets-cdn.123rf.com/ui-components/assets/svg/gradient/premium-crown-gradient2.svg: cannot identify image file <_io.BytesIO object at 0x0000022030EEC810>\n",
      "Error al descargar https://assets-cdn.123rf.com/ui-components/assets/svg/collection.svg: cannot identify image file <_io.BytesIO object at 0x000002203119F420>\n"
     ]
    },
    {
     "name": "stderr",
     "output_type": "stream",
     "text": [
      "Procesando imágenes de https://es.123rf.com/imagenes-de-archivo/eucalipto.html:  85%|████████▍ | 265/312 [00:06<00:00, 49.90it/s]"
     ]
    },
    {
     "name": "stdout",
     "output_type": "stream",
     "text": [
      "Error al descargar https://assets-cdn.123rf.com/ui-components/assets/svg/collection.svg: cannot identify image file <_io.BytesIO object at 0x0000022030E67AB0>\n",
      "Error al descargar https://assets-cdn.123rf.com/ui-components/assets/svg/gradient/premium-crown-gradient2.svg: cannot identify image file <_io.BytesIO object at 0x0000022030E67560>\n",
      "Error al descargar https://assets-cdn.123rf.com/ui-components/assets/svg/collection.svg: cannot identify image file <_io.BytesIO object at 0x000002202FABB7E0>\n",
      "Error al descargar https://assets-cdn.123rf.com/ui-components/assets/svg/gradient/premium-crown-gradient2.svg: cannot identify image file <_io.BytesIO object at 0x0000022030EEC6D0>\n",
      "Error al descargar https://assets-cdn.123rf.com/ui-components/assets/svg/collection.svg: cannot identify image file <_io.BytesIO object at 0x000002202FABBF10>\n",
      "Error al descargar https://assets-cdn.123rf.com/ui-components/assets/svg/collection.svg: cannot identify image file <_io.BytesIO object at 0x0000022030E2CD10>\n",
      "Error al descargar https://assets-cdn.123rf.com/ui-components/assets/svg/gradient/premium-crown-gradient2.svg: cannot identify image file <_io.BytesIO object at 0x00000220316462A0>\n",
      "Error al descargar https://assets-cdn.123rf.com/ui-components/assets/svg/collection.svg: cannot identify image file <_io.BytesIO object at 0x0000022030DA2F20>\n",
      "Error al descargar https://assets-cdn.123rf.com/ui-components/assets/svg/collection.svg: cannot identify image file <_io.BytesIO object at 0x0000022030EEC6D0>\n",
      "Error al descargar https://assets-cdn.123rf.com/ui-components/assets/svg/collection.svg: cannot identify image file <_io.BytesIO object at 0x000002203119FCE0>\n"
     ]
    },
    {
     "name": "stderr",
     "output_type": "stream",
     "text": [
      "Procesando imágenes de https://es.123rf.com/imagenes-de-archivo/eucalipto.html:  91%|█████████ | 284/312 [00:06<00:00, 46.69it/s]"
     ]
    },
    {
     "name": "stdout",
     "output_type": "stream",
     "text": [
      "Error al descargar https://assets-cdn.123rf.com/ui-components/assets/svg/gradient/premium-crown-gradient2.svg: cannot identify image file <_io.BytesIO object at 0x0000022030C40680>\n",
      "Error al descargar https://assets-cdn.123rf.com/ui-components/assets/svg/collection.svg: cannot identify image file <_io.BytesIO object at 0x000002203119FF60>\n",
      "Error al descargar https://assets-cdn.123rf.com/ui-components/assets/svg/collection.svg: cannot identify image file <_io.BytesIO object at 0x000002202FABB7E0>\n",
      "Error al descargar https://assets-cdn.123rf.com/ui-components/assets/svg/collection.svg: cannot identify image file <_io.BytesIO object at 0x0000022030EEC4A0>\n",
      "Error al descargar https://assets-cdn.123rf.com/ui-components/assets/svg/collection.svg: cannot identify image file <_io.BytesIO object at 0x000002207EE92250>\n",
      "Error al descargar https://assets-cdn.123rf.com/ui-components/assets/svg/gradient/premium-crown-gradient2.svg: cannot identify image file <_io.BytesIO object at 0x0000022030EEC810>\n",
      "Error al descargar https://assets-cdn.123rf.com/ui-components/assets/svg/collection.svg: cannot identify image file <_io.BytesIO object at 0x000002203119F9C0>\n"
     ]
    },
    {
     "name": "stderr",
     "output_type": "stream",
     "text": [
      "Procesando imágenes de https://es.123rf.com/imagenes-de-archivo/eucalipto.html:  96%|█████████▌| 298/312 [00:07<00:00, 46.46it/s]"
     ]
    },
    {
     "name": "stdout",
     "output_type": "stream",
     "text": [
      "Error al descargar https://assets-cdn.123rf.com/ui-components/assets/svg/collection.svg: cannot identify image file <_io.BytesIO object at 0x0000022030EEC7C0>\n",
      "Error al descargar https://assets-cdn.123rf.com/ui-components/assets/svg/gradient/premium-crown-gradient2.svg: cannot identify image file <_io.BytesIO object at 0x000002203119F420>\n",
      "Error al descargar https://assets-cdn.123rf.com/ui-components/assets/svg/collection.svg: cannot identify image file <_io.BytesIO object at 0x0000022030E2F380>\n",
      "Error al descargar https://assets-cdn.123rf.com/ui-components/assets/svg/gradient/premium-crown-gradient2.svg: cannot identify image file <_io.BytesIO object at 0x0000022030EEC4A0>\n",
      "Error al descargar https://assets-cdn.123rf.com/ui-components/assets/svg/collection.svg: cannot identify image file <_io.BytesIO object at 0x000002207EE92250>\n",
      "Error al descargar https://assets-cdn.123rf.com/ui-components/assets/svg/gradient/premium-crown-gradient2.svg: cannot identify image file <_io.BytesIO object at 0x0000022030EEC720>\n",
      "Error al descargar https://assets-cdn.123rf.com/ui-components/assets/svg/collection.svg: cannot identify image file <_io.BytesIO object at 0x000002207E94BB00>\n",
      "Error al descargar https://assets-cdn.123rf.com/ui-components/assets/svg/gradient/premium-crown-gradient2.svg: cannot identify image file <_io.BytesIO object at 0x0000022030E67560>\n"
     ]
    },
    {
     "name": "stderr",
     "output_type": "stream",
     "text": [
      "Procesando imágenes de https://es.123rf.com/imagenes-de-archivo/eucalipto.html:  99%|█████████▉| 309/312 [00:07<00:00, 46.07it/s]"
     ]
    },
    {
     "name": "stdout",
     "output_type": "stream",
     "text": [
      "Error al descargar https://assets-cdn.123rf.com/ui-components/assets/svg/chevron-down.svg: cannot identify image file <_io.BytesIO object at 0x0000022030DA2F20>\n",
      "Error al descargar https://assets-cdn.123rf.com/ui-components/assets/svg/collection.svg: cannot identify image file <_io.BytesIO object at 0x0000022030EEC630>\n",
      "Error al descargar https://assets-cdn.123rf.com/ui-components/assets/svg/chevron-down.svg: cannot identify image file <_io.BytesIO object at 0x000002202FABB7E0>\n",
      "Error al descargar https://assets-cdn.123rf.com/ui-components/assets/svg/chevron-down.svg: cannot identify image file <_io.BytesIO object at 0x0000022030E2DD50>\n",
      "Error al descargar https://assets-cdn.123rf.com/ui-components/assets/svg/chevron-down.svg: cannot identify image file <_io.BytesIO object at 0x0000022030C40680>\n",
      "Error al descargar https://assets-cdn.123rf.com/ui-components/assets/svg/chevron-down.svg: cannot identify image file <_io.BytesIO object at 0x000002207EE92250>\n",
      "Error al descargar https://assets-cdn.123rf.com/ui-components/assets/svg/facebook.svg: cannot identify image file <_io.BytesIO object at 0x0000022030E67AB0>\n",
      "Error al descargar https://assets-cdn.123rf.com/ui-components/assets/svg/twitter-v2.svg: cannot identify image file <_io.BytesIO object at 0x000002202F9622A0>\n",
      "Error al descargar https://assets-cdn.123rf.com/ui-components/assets/svg/pinterest.svg: cannot identify image file <_io.BytesIO object at 0x0000022030E67560>\n",
      "Error al descargar https://assets-cdn.123rf.com/ui-components/assets/svg/instagram-v2.svg: cannot identify image file <_io.BytesIO object at 0x000002207E94BB00>\n"
     ]
    },
    {
     "name": "stderr",
     "output_type": "stream",
     "text": [
      "Procesando imágenes de https://es.123rf.com/imagenes-de-archivo/eucalipto.html: 100%|██████████| 312/312 [00:07<00:00, 41.31it/s]\n"
     ]
    },
    {
     "name": "stdout",
     "output_type": "stream",
     "text": [
      "Error al descargar https://assets-cdn.123rf.com/ui-components/assets/svg/whatsapp-v3.svg: cannot identify image file <_io.BytesIO object at 0x0000022030E66CF0>\n"
     ]
    },
    {
     "name": "stderr",
     "output_type": "stream",
     "text": [
      "Procesando imágenes de https://mexico.inaturalist.org/taxa/162748-Eucalyptus-cinerea/browse_photos:  14%|█▍        | 1/7 [00:00<00:02,  2.94it/s]"
     ]
    },
    {
     "name": "stdout",
     "output_type": "stream",
     "text": [
      "Error al descargar https://static.inaturalist.org/sites/2-logo.svg?1708623494: cannot identify image file <_io.BytesIO object at 0x0000022030EEC770>\n",
      "Error al descargar https://static.inaturalist.org/sites/2-logo.svg?1708623494: cannot identify image file <_io.BytesIO object at 0x0000022030E2DD50>\n"
     ]
    },
    {
     "name": "stderr",
     "output_type": "stream",
     "text": [
      "Procesando imágenes de https://mexico.inaturalist.org/taxa/162748-Eucalyptus-cinerea/browse_photos: 100%|██████████| 7/7 [00:00<00:00,  8.36it/s]"
     ]
    },
    {
     "name": "stdout",
     "output_type": "stream",
     "text": [
      "Error al descargar https://transformacionarteyeducacion.mx/media/46/LOGO-TAE.png: cannot write mode RGBA as JPEG\n",
      "Error al descargar https://somosnaturalistas.mx/media/58/SomosNaturalistas2024_web_1_2.png: cannot write mode RGBA as JPEG\n",
      "Error al descargar https://mexico.inaturalist.org/assets/facebook-f-logo-white-326a0af3f327083d4632b4c26aaeaecd9ec859070097069179d90a689d189c05.svg: cannot identify image file <_io.BytesIO object at 0x0000022030E2F380>\n"
     ]
    },
    {
     "name": "stderr",
     "output_type": "stream",
     "text": [
      "\n",
      "Procesando imágenes de https://es.pngtree.com/so/eucalipto: 0it [00:00, ?it/s]\n"
     ]
    },
    {
     "name": "stdout",
     "output_type": "stream",
     "text": [
      "Error procesando https://depositphotos.com/es/photos/hojas-de-eucalipto.html: HTTPSConnectionPool(host='depositphotos.com', port=443): Max retries exceeded with url: /es/photos/hojas-de-eucalipto.html (Caused by ConnectTimeoutError(<urllib3.connection.HTTPSConnection object at 0x0000022030DC2890>, 'Connection to depositphotos.com timed out. (connect timeout=10)'))\n"
     ]
    },
    {
     "name": "stderr",
     "output_type": "stream",
     "text": [
      "Procesando imágenes de https://www.pngwing.com/es/search?q=eucalipto:   0%|          | 0/61 [00:00<?, ?it/s]"
     ]
    },
    {
     "name": "stdout",
     "output_type": "stream",
     "text": [
      "Error al descargar data:image/png;base64,iVBORw0KGgoAAAANSUhEUgAAAAEAAAABCAQAAAC1HAwCAAAAC0lEQVQYV2NgYAAAAAMAAWgmWQ0AAAAASUVORK5CYII=: No connection adapters were found for 'data:image/png;base64,iVBORw0KGgoAAAANSUhEUgAAAAEAAAABCAQAAAC1HAwCAAAAC0lEQVQYV2NgYAAAAAMAAWgmWQ0AAAAASUVORK5CYII='Error al descargar data:image/png;base64,iVBORw0KGgoAAAANSUhEUgAAAAEAAAABCAQAAAC1HAwCAAAAC0lEQVQYV2NgYAAAAAMAAWgmWQ0AAAAASUVORK5CYII=: No connection adapters were found for 'data:image/png;base64,iVBORw0KGgoAAAANSUhEUgAAAAEAAAABCAQAAAC1HAwCAAAAC0lEQVQYV2NgYAAAAAMAAWgmWQ0AAAAASUVORK5CYII='\n",
      "\n",
      "Error al descargar data:image/png;base64,iVBORw0KGgoAAAANSUhEUgAAAAEAAAABCAQAAAC1HAwCAAAAC0lEQVQYV2NgYAAAAAMAAWgmWQ0AAAAASUVORK5CYII=: No connection adapters were found for 'data:image/png;base64,iVBORw0KGgoAAAANSUhEUgAAAAEAAAABCAQAAAC1HAwCAAAAC0lEQVQYV2NgYAAAAAMAAWgmWQ0AAAAASUVORK5CYII='\n",
      "Error al descargar data:image/png;base64,iVBORw0KGgoAAAANSUhEUgAAAAEAAAABCAQAAAC1HAwCAAAAC0lEQVQYV2NgYAAAAAMAAWgmWQ0AAAAASUVORK5CYII=: No connection adapters were found for 'data:image/png;base64,iVBORw0KGgoAAAANSUhEUgAAAAEAAAABCAQAAAC1HAwCAAAAC0lEQVQYV2NgYAAAAAMAAWgmWQ0AAAAASUVORK5CYII='\n",
      "Error al descargar data:image/png;base64,iVBORw0KGgoAAAANSUhEUgAAAAEAAAABCAQAAAC1HAwCAAAAC0lEQVQYV2NgYAAAAAMAAWgmWQ0AAAAASUVORK5CYII=: No connection adapters were found for 'data:image/png;base64,iVBORw0KGgoAAAANSUhEUgAAAAEAAAABCAQAAAC1HAwCAAAAC0lEQVQYV2NgYAAAAAMAAWgmWQ0AAAAASUVORK5CYII='\n",
      "Error al descargar data:image/png;base64,iVBORw0KGgoAAAANSUhEUgAAAAEAAAABCAQAAAC1HAwCAAAAC0lEQVQYV2NgYAAAAAMAAWgmWQ0AAAAASUVORK5CYII=: No connection adapters were found for 'data:image/png;base64,iVBORw0KGgoAAAANSUhEUgAAAAEAAAABCAQAAAC1HAwCAAAAC0lEQVQYV2NgYAAAAAMAAWgmWQ0AAAAASUVORK5CYII='\n",
      "Error al descargar data:image/png;base64,iVBORw0KGgoAAAANSUhEUgAAAAEAAAABCAQAAAC1HAwCAAAAC0lEQVQYV2NgYAAAAAMAAWgmWQ0AAAAASUVORK5CYII=: No connection adapters were found for 'data:image/png;base64,iVBORw0KGgoAAAANSUhEUgAAAAEAAAABCAQAAAC1HAwCAAAAC0lEQVQYV2NgYAAAAAMAAWgmWQ0AAAAASUVORK5CYII='\n",
      "Error al descargar data:image/png;base64,iVBORw0KGgoAAAANSUhEUgAAAAEAAAABCAQAAAC1HAwCAAAAC0lEQVQYV2NgYAAAAAMAAWgmWQ0AAAAASUVORK5CYII=: No connection adapters were found for 'data:image/png;base64,iVBORw0KGgoAAAANSUhEUgAAAAEAAAABCAQAAAC1HAwCAAAAC0lEQVQYV2NgYAAAAAMAAWgmWQ0AAAAASUVORK5CYII='\n",
      "Error al descargar data:image/png;base64,iVBORw0KGgoAAAANSUhEUgAAAAEAAAABCAQAAAC1HAwCAAAAC0lEQVQYV2NgYAAAAAMAAWgmWQ0AAAAASUVORK5CYII=: No connection adapters were found for 'data:image/png;base64,iVBORw0KGgoAAAANSUhEUgAAAAEAAAABCAQAAAC1HAwCAAAAC0lEQVQYV2NgYAAAAAMAAWgmWQ0AAAAASUVORK5CYII='\n",
      "Error al descargar data:image/png;base64,iVBORw0KGgoAAAANSUhEUgAAAAEAAAABCAQAAAC1HAwCAAAAC0lEQVQYV2NgYAAAAAMAAWgmWQ0AAAAASUVORK5CYII=: No connection adapters were found for 'data:image/png;base64,iVBORw0KGgoAAAANSUhEUgAAAAEAAAABCAQAAAC1HAwCAAAAC0lEQVQYV2NgYAAAAAMAAWgmWQ0AAAAASUVORK5CYII='\n",
      "Error al descargar data:image/png;base64,iVBORw0KGgoAAAANSUhEUgAAAAEAAAABCAQAAAC1HAwCAAAAC0lEQVQYV2NgYAAAAAMAAWgmWQ0AAAAASUVORK5CYII=: No connection adapters were found for 'data:image/png;base64,iVBORw0KGgoAAAANSUhEUgAAAAEAAAABCAQAAAC1HAwCAAAAC0lEQVQYV2NgYAAAAAMAAWgmWQ0AAAAASUVORK5CYII='\n",
      "Error al descargar data:image/png;base64,iVBORw0KGgoAAAANSUhEUgAAAAEAAAABCAQAAAC1HAwCAAAAC0lEQVQYV2NgYAAAAAMAAWgmWQ0AAAAASUVORK5CYII=: No connection adapters were found for 'data:image/png;base64,iVBORw0KGgoAAAANSUhEUgAAAAEAAAABCAQAAAC1HAwCAAAAC0lEQVQYV2NgYAAAAAMAAWgmWQ0AAAAASUVORK5CYII='\n",
      "Error al descargar data:image/png;base64,iVBORw0KGgoAAAANSUhEUgAAAAEAAAABCAQAAAC1HAwCAAAAC0lEQVQYV2NgYAAAAAMAAWgmWQ0AAAAASUVORK5CYII=: No connection adapters were found for 'data:image/png;base64,iVBORw0KGgoAAAANSUhEUgAAAAEAAAABCAQAAAC1HAwCAAAAC0lEQVQYV2NgYAAAAAMAAWgmWQ0AAAAASUVORK5CYII='\n",
      "Error al descargar data:image/png;base64,iVBORw0KGgoAAAANSUhEUgAAAAEAAAABCAQAAAC1HAwCAAAAC0lEQVQYV2NgYAAAAAMAAWgmWQ0AAAAASUVORK5CYII=: No connection adapters were found for 'data:image/png;base64,iVBORw0KGgoAAAANSUhEUgAAAAEAAAABCAQAAAC1HAwCAAAAC0lEQVQYV2NgYAAAAAMAAWgmWQ0AAAAASUVORK5CYII='\n",
      "Error al descargar data:image/png;base64,iVBORw0KGgoAAAANSUhEUgAAAAEAAAABCAQAAAC1HAwCAAAAC0lEQVQYV2NgYAAAAAMAAWgmWQ0AAAAASUVORK5CYII=: No connection adapters were found for 'data:image/png;base64,iVBORw0KGgoAAAANSUhEUgAAAAEAAAABCAQAAAC1HAwCAAAAC0lEQVQYV2NgYAAAAAMAAWgmWQ0AAAAASUVORK5CYII='\n",
      "Error al descargar data:image/png;base64,iVBORw0KGgoAAAANSUhEUgAAAAEAAAABCAQAAAC1HAwCAAAAC0lEQVQYV2NgYAAAAAMAAWgmWQ0AAAAASUVORK5CYII=: No connection adapters were found for 'data:image/png;base64,iVBORw0KGgoAAAANSUhEUgAAAAEAAAABCAQAAAC1HAwCAAAAC0lEQVQYV2NgYAAAAAMAAWgmWQ0AAAAASUVORK5CYII='\n",
      "Error al descargar data:image/png;base64,iVBORw0KGgoAAAANSUhEUgAAAAEAAAABCAQAAAC1HAwCAAAAC0lEQVQYV2NgYAAAAAMAAWgmWQ0AAAAASUVORK5CYII=: No connection adapters were found for 'data:image/png;base64,iVBORw0KGgoAAAANSUhEUgAAAAEAAAABCAQAAAC1HAwCAAAAC0lEQVQYV2NgYAAAAAMAAWgmWQ0AAAAASUVORK5CYII='\n",
      "Error al descargar data:image/png;base64,iVBORw0KGgoAAAANSUhEUgAAAAEAAAABCAQAAAC1HAwCAAAAC0lEQVQYV2NgYAAAAAMAAWgmWQ0AAAAASUVORK5CYII=: No connection adapters were found for 'data:image/png;base64,iVBORw0KGgoAAAANSUhEUgAAAAEAAAABCAQAAAC1HAwCAAAAC0lEQVQYV2NgYAAAAAMAAWgmWQ0AAAAASUVORK5CYII='\n",
      "Error al descargar data:image/png;base64,iVBORw0KGgoAAAANSUhEUgAAAAEAAAABCAQAAAC1HAwCAAAAC0lEQVQYV2NgYAAAAAMAAWgmWQ0AAAAASUVORK5CYII=: No connection adapters were found for 'data:image/png;base64,iVBORw0KGgoAAAANSUhEUgAAAAEAAAABCAQAAAC1HAwCAAAAC0lEQVQYV2NgYAAAAAMAAWgmWQ0AAAAASUVORK5CYII='\n",
      "Error al descargar data:image/png;base64,iVBORw0KGgoAAAANSUhEUgAAAAEAAAABCAQAAAC1HAwCAAAAC0lEQVQYV2NgYAAAAAMAAWgmWQ0AAAAASUVORK5CYII=: No connection adapters were found for 'data:image/png;base64,iVBORw0KGgoAAAANSUhEUgAAAAEAAAABCAQAAAC1HAwCAAAAC0lEQVQYV2NgYAAAAAMAAWgmWQ0AAAAASUVORK5CYII='\n",
      "Error al descargar data:image/png;base64,iVBORw0KGgoAAAANSUhEUgAAAAEAAAABCAQAAAC1HAwCAAAAC0lEQVQYV2NgYAAAAAMAAWgmWQ0AAAAASUVORK5CYII=: No connection adapters were found for 'data:image/png;base64,iVBORw0KGgoAAAANSUhEUgAAAAEAAAABCAQAAAC1HAwCAAAAC0lEQVQYV2NgYAAAAAMAAWgmWQ0AAAAASUVORK5CYII='\n",
      "Error al descargar data:image/png;base64,iVBORw0KGgoAAAANSUhEUgAAAAEAAAABCAQAAAC1HAwCAAAAC0lEQVQYV2NgYAAAAAMAAWgmWQ0AAAAASUVORK5CYII=: No connection adapters were found for 'data:image/png;base64,iVBORw0KGgoAAAANSUhEUgAAAAEAAAABCAQAAAC1HAwCAAAAC0lEQVQYV2NgYAAAAAMAAWgmWQ0AAAAASUVORK5CYII='\n",
      "Error al descargar data:image/png;base64,iVBORw0KGgoAAAANSUhEUgAAAAEAAAABCAQAAAC1HAwCAAAAC0lEQVQYV2NgYAAAAAMAAWgmWQ0AAAAASUVORK5CYII=: No connection adapters were found for 'data:image/png;base64,iVBORw0KGgoAAAANSUhEUgAAAAEAAAABCAQAAAC1HAwCAAAAC0lEQVQYV2NgYAAAAAMAAWgmWQ0AAAAASUVORK5CYII='\n",
      "Error al descargar data:image/png;base64,iVBORw0KGgoAAAANSUhEUgAAAAEAAAABCAQAAAC1HAwCAAAAC0lEQVQYV2NgYAAAAAMAAWgmWQ0AAAAASUVORK5CYII=: No connection adapters were found for 'data:image/png;base64,iVBORw0KGgoAAAANSUhEUgAAAAEAAAABCAQAAAC1HAwCAAAAC0lEQVQYV2NgYAAAAAMAAWgmWQ0AAAAASUVORK5CYII='\n",
      "Error al descargar data:image/png;base64,iVBORw0KGgoAAAANSUhEUgAAAAEAAAABCAQAAAC1HAwCAAAAC0lEQVQYV2NgYAAAAAMAAWgmWQ0AAAAASUVORK5CYII=: No connection adapters were found for 'data:image/png;base64,iVBORw0KGgoAAAANSUhEUgAAAAEAAAABCAQAAAC1HAwCAAAAC0lEQVQYV2NgYAAAAAMAAWgmWQ0AAAAASUVORK5CYII='\n",
      "Error al descargar data:image/png;base64,iVBORw0KGgoAAAANSUhEUgAAAAEAAAABCAQAAAC1HAwCAAAAC0lEQVQYV2NgYAAAAAMAAWgmWQ0AAAAASUVORK5CYII=: No connection adapters were found for 'data:image/png;base64,iVBORw0KGgoAAAANSUhEUgAAAAEAAAABCAQAAAC1HAwCAAAAC0lEQVQYV2NgYAAAAAMAAWgmWQ0AAAAASUVORK5CYII='\n",
      "Error al descargar data:image/png;base64,iVBORw0KGgoAAAANSUhEUgAAAAEAAAABCAQAAAC1HAwCAAAAC0lEQVQYV2NgYAAAAAMAAWgmWQ0AAAAASUVORK5CYII=: No connection adapters were found for 'data:image/png;base64,iVBORw0KGgoAAAANSUhEUgAAAAEAAAABCAQAAAC1HAwCAAAAC0lEQVQYV2NgYAAAAAMAAWgmWQ0AAAAASUVORK5CYII='\n",
      "Error al descargar data:image/png;base64,iVBORw0KGgoAAAANSUhEUgAAAAEAAAABCAQAAAC1HAwCAAAAC0lEQVQYV2NgYAAAAAMAAWgmWQ0AAAAASUVORK5CYII=: No connection adapters were found for 'data:image/png;base64,iVBORw0KGgoAAAANSUhEUgAAAAEAAAABCAQAAAC1HAwCAAAAC0lEQVQYV2NgYAAAAAMAAWgmWQ0AAAAASUVORK5CYII='\n",
      "Error al descargar data:image/png;base64,iVBORw0KGgoAAAANSUhEUgAAAAEAAAABCAQAAAC1HAwCAAAAC0lEQVQYV2NgYAAAAAMAAWgmWQ0AAAAASUVORK5CYII=: No connection adapters were found for 'data:image/png;base64,iVBORw0KGgoAAAANSUhEUgAAAAEAAAABCAQAAAC1HAwCAAAAC0lEQVQYV2NgYAAAAAMAAWgmWQ0AAAAASUVORK5CYII='\n",
      "Error al descargar data:image/png;base64,iVBORw0KGgoAAAANSUhEUgAAAAEAAAABCAQAAAC1HAwCAAAAC0lEQVQYV2NgYAAAAAMAAWgmWQ0AAAAASUVORK5CYII=: No connection adapters were found for 'data:image/png;base64,iVBORw0KGgoAAAANSUhEUgAAAAEAAAABCAQAAAC1HAwCAAAAC0lEQVQYV2NgYAAAAAMAAWgmWQ0AAAAASUVORK5CYII='\n",
      "Error al descargar data:image/png;base64,iVBORw0KGgoAAAANSUhEUgAAAAEAAAABCAQAAAC1HAwCAAAAC0lEQVQYV2NgYAAAAAMAAWgmWQ0AAAAASUVORK5CYII=: No connection adapters were found for 'data:image/png;base64,iVBORw0KGgoAAAANSUhEUgAAAAEAAAABCAQAAAC1HAwCAAAAC0lEQVQYV2NgYAAAAAMAAWgmWQ0AAAAASUVORK5CYII='\n",
      "Error al descargar data:image/png;base64,iVBORw0KGgoAAAANSUhEUgAAAAEAAAABCAQAAAC1HAwCAAAAC0lEQVQYV2NgYAAAAAMAAWgmWQ0AAAAASUVORK5CYII=: No connection adapters were found for 'data:image/png;base64,iVBORw0KGgoAAAANSUhEUgAAAAEAAAABCAQAAAC1HAwCAAAAC0lEQVQYV2NgYAAAAAMAAWgmWQ0AAAAASUVORK5CYII='\n",
      "Error al descargar data:image/png;base64,iVBORw0KGgoAAAANSUhEUgAAAAEAAAABCAQAAAC1HAwCAAAAC0lEQVQYV2NgYAAAAAMAAWgmWQ0AAAAASUVORK5CYII=: No connection adapters were found for 'data:image/png;base64,iVBORw0KGgoAAAANSUhEUgAAAAEAAAABCAQAAAC1HAwCAAAAC0lEQVQYV2NgYAAAAAMAAWgmWQ0AAAAASUVORK5CYII='\n",
      "Error al descargar data:image/png;base64,iVBORw0KGgoAAAANSUhEUgAAAAEAAAABCAQAAAC1HAwCAAAAC0lEQVQYV2NgYAAAAAMAAWgmWQ0AAAAASUVORK5CYII=: No connection adapters were found for 'data:image/png;base64,iVBORw0KGgoAAAANSUhEUgAAAAEAAAABCAQAAAC1HAwCAAAAC0lEQVQYV2NgYAAAAAMAAWgmWQ0AAAAASUVORK5CYII='\n",
      "Error al descargar data:image/png;base64,iVBORw0KGgoAAAANSUhEUgAAAAEAAAABCAQAAAC1HAwCAAAAC0lEQVQYV2NgYAAAAAMAAWgmWQ0AAAAASUVORK5CYII=: No connection adapters were found for 'data:image/png;base64,iVBORw0KGgoAAAANSUhEUgAAAAEAAAABCAQAAAC1HAwCAAAAC0lEQVQYV2NgYAAAAAMAAWgmWQ0AAAAASUVORK5CYII='\n",
      "Error al descargar data:image/png;base64,iVBORw0KGgoAAAANSUhEUgAAAAEAAAABCAQAAAC1HAwCAAAAC0lEQVQYV2NgYAAAAAMAAWgmWQ0AAAAASUVORK5CYII=: No connection adapters were found for 'data:image/png;base64,iVBORw0KGgoAAAANSUhEUgAAAAEAAAABCAQAAAC1HAwCAAAAC0lEQVQYV2NgYAAAAAMAAWgmWQ0AAAAASUVORK5CYII='\n",
      "Error al descargar data:image/png;base64,iVBORw0KGgoAAAANSUhEUgAAAAEAAAABCAQAAAC1HAwCAAAAC0lEQVQYV2NgYAAAAAMAAWgmWQ0AAAAASUVORK5CYII=: No connection adapters were found for 'data:image/png;base64,iVBORw0KGgoAAAANSUhEUgAAAAEAAAABCAQAAAC1HAwCAAAAC0lEQVQYV2NgYAAAAAMAAWgmWQ0AAAAASUVORK5CYII='\n",
      "Error al descargar data:image/png;base64,iVBORw0KGgoAAAANSUhEUgAAAAEAAAABCAQAAAC1HAwCAAAAC0lEQVQYV2NgYAAAAAMAAWgmWQ0AAAAASUVORK5CYII=: No connection adapters were found for 'data:image/png;base64,iVBORw0KGgoAAAANSUhEUgAAAAEAAAABCAQAAAC1HAwCAAAAC0lEQVQYV2NgYAAAAAMAAWgmWQ0AAAAASUVORK5CYII='\n",
      "Error al descargar data:image/png;base64,iVBORw0KGgoAAAANSUhEUgAAAAEAAAABCAQAAAC1HAwCAAAAC0lEQVQYV2NgYAAAAAMAAWgmWQ0AAAAASUVORK5CYII=: No connection adapters were found for 'data:image/png;base64,iVBORw0KGgoAAAANSUhEUgAAAAEAAAABCAQAAAC1HAwCAAAAC0lEQVQYV2NgYAAAAAMAAWgmWQ0AAAAASUVORK5CYII='\n",
      "Error al descargar data:image/png;base64,iVBORw0KGgoAAAANSUhEUgAAAAEAAAABCAQAAAC1HAwCAAAAC0lEQVQYV2NgYAAAAAMAAWgmWQ0AAAAASUVORK5CYII=: No connection adapters were found for 'data:image/png;base64,iVBORw0KGgoAAAANSUhEUgAAAAEAAAABCAQAAAC1HAwCAAAAC0lEQVQYV2NgYAAAAAMAAWgmWQ0AAAAASUVORK5CYII='\n",
      "Error al descargar data:image/png;base64,iVBORw0KGgoAAAANSUhEUgAAAAEAAAABCAQAAAC1HAwCAAAAC0lEQVQYV2NgYAAAAAMAAWgmWQ0AAAAASUVORK5CYII=: No connection adapters were found for 'data:image/png;base64,iVBORw0KGgoAAAANSUhEUgAAAAEAAAABCAQAAAC1HAwCAAAAC0lEQVQYV2NgYAAAAAMAAWgmWQ0AAAAASUVORK5CYII='\n",
      "Error al descargar data:image/png;base64,iVBORw0KGgoAAAANSUhEUgAAAAEAAAABCAQAAAC1HAwCAAAAC0lEQVQYV2NgYAAAAAMAAWgmWQ0AAAAASUVORK5CYII=: No connection adapters were found for 'data:image/png;base64,iVBORw0KGgoAAAANSUhEUgAAAAEAAAABCAQAAAC1HAwCAAAAC0lEQVQYV2NgYAAAAAMAAWgmWQ0AAAAASUVORK5CYII='\n",
      "Error al descargar data:image/png;base64,iVBORw0KGgoAAAANSUhEUgAAAAEAAAABCAQAAAC1HAwCAAAAC0lEQVQYV2NgYAAAAAMAAWgmWQ0AAAAASUVORK5CYII=: No connection adapters were found for 'data:image/png;base64,iVBORw0KGgoAAAANSUhEUgAAAAEAAAABCAQAAAC1HAwCAAAAC0lEQVQYV2NgYAAAAAMAAWgmWQ0AAAAASUVORK5CYII='\n",
      "Error al descargar data:image/png;base64,iVBORw0KGgoAAAANSUhEUgAAAAEAAAABCAQAAAC1HAwCAAAAC0lEQVQYV2NgYAAAAAMAAWgmWQ0AAAAASUVORK5CYII=: No connection adapters were found for 'data:image/png;base64,iVBORw0KGgoAAAANSUhEUgAAAAEAAAABCAQAAAC1HAwCAAAAC0lEQVQYV2NgYAAAAAMAAWgmWQ0AAAAASUVORK5CYII='\n",
      "Error al descargar data:image/png;base64,iVBORw0KGgoAAAANSUhEUgAAAAEAAAABCAQAAAC1HAwCAAAAC0lEQVQYV2NgYAAAAAMAAWgmWQ0AAAAASUVORK5CYII=: No connection adapters were found for 'data:image/png;base64,iVBORw0KGgoAAAANSUhEUgAAAAEAAAABCAQAAAC1HAwCAAAAC0lEQVQYV2NgYAAAAAMAAWgmWQ0AAAAASUVORK5CYII='\n",
      "Error al descargar data:image/png;base64,iVBORw0KGgoAAAANSUhEUgAAAAEAAAABCAQAAAC1HAwCAAAAC0lEQVQYV2NgYAAAAAMAAWgmWQ0AAAAASUVORK5CYII=: No connection adapters were found for 'data:image/png;base64,iVBORw0KGgoAAAANSUhEUgAAAAEAAAABCAQAAAC1HAwCAAAAC0lEQVQYV2NgYAAAAAMAAWgmWQ0AAAAASUVORK5CYII='\n",
      "Error al descargar data:image/png;base64,iVBORw0KGgoAAAANSUhEUgAAAAEAAAABCAQAAAC1HAwCAAAAC0lEQVQYV2NgYAAAAAMAAWgmWQ0AAAAASUVORK5CYII=: No connection adapters were found for 'data:image/png;base64,iVBORw0KGgoAAAANSUhEUgAAAAEAAAABCAQAAAC1HAwCAAAAC0lEQVQYV2NgYAAAAAMAAWgmWQ0AAAAASUVORK5CYII='\n",
      "Error al descargar data:image/png;base64,iVBORw0KGgoAAAANSUhEUgAAAAEAAAABCAQAAAC1HAwCAAAAC0lEQVQYV2NgYAAAAAMAAWgmWQ0AAAAASUVORK5CYII=: No connection adapters were found for 'data:image/png;base64,iVBORw0KGgoAAAANSUhEUgAAAAEAAAABCAQAAAC1HAwCAAAAC0lEQVQYV2NgYAAAAAMAAWgmWQ0AAAAASUVORK5CYII='\n",
      "Error al descargar data:image/png;base64,iVBORw0KGgoAAAANSUhEUgAAAAEAAAABCAQAAAC1HAwCAAAAC0lEQVQYV2NgYAAAAAMAAWgmWQ0AAAAASUVORK5CYII=: No connection adapters were found for 'data:image/png;base64,iVBORw0KGgoAAAANSUhEUgAAAAEAAAABCAQAAAC1HAwCAAAAC0lEQVQYV2NgYAAAAAMAAWgmWQ0AAAAASUVORK5CYII='\n",
      "Error al descargar data:image/png;base64,iVBORw0KGgoAAAANSUhEUgAAAAEAAAABCAQAAAC1HAwCAAAAC0lEQVQYV2NgYAAAAAMAAWgmWQ0AAAAASUVORK5CYII=: No connection adapters were found for 'data:image/png;base64,iVBORw0KGgoAAAANSUhEUgAAAAEAAAABCAQAAAC1HAwCAAAAC0lEQVQYV2NgYAAAAAMAAWgmWQ0AAAAASUVORK5CYII='\n",
      "Error al descargar data:image/png;base64,iVBORw0KGgoAAAANSUhEUgAAAAEAAAABCAQAAAC1HAwCAAAAC0lEQVQYV2NgYAAAAAMAAWgmWQ0AAAAASUVORK5CYII=: No connection adapters were found for 'data:image/png;base64,iVBORw0KGgoAAAANSUhEUgAAAAEAAAABCAQAAAC1HAwCAAAAC0lEQVQYV2NgYAAAAAMAAWgmWQ0AAAAASUVORK5CYII='\n",
      "Error al descargar data:image/png;base64,iVBORw0KGgoAAAANSUhEUgAAAAEAAAABCAQAAAC1HAwCAAAAC0lEQVQYV2NgYAAAAAMAAWgmWQ0AAAAASUVORK5CYII=: No connection adapters were found for 'data:image/png;base64,iVBORw0KGgoAAAANSUhEUgAAAAEAAAABCAQAAAC1HAwCAAAAC0lEQVQYV2NgYAAAAAMAAWgmWQ0AAAAASUVORK5CYII='\n",
      "Error al descargar data:image/png;base64,iVBORw0KGgoAAAANSUhEUgAAAAEAAAABCAQAAAC1HAwCAAAAC0lEQVQYV2NgYAAAAAMAAWgmWQ0AAAAASUVORK5CYII=: No connection adapters were found for 'data:image/png;base64,iVBORw0KGgoAAAANSUhEUgAAAAEAAAABCAQAAAC1HAwCAAAAC0lEQVQYV2NgYAAAAAMAAWgmWQ0AAAAASUVORK5CYII='\n",
      "Error al descargar data:image/png;base64,iVBORw0KGgoAAAANSUhEUgAAAAEAAAABCAQAAAC1HAwCAAAAC0lEQVQYV2NgYAAAAAMAAWgmWQ0AAAAASUVORK5CYII=: No connection adapters were found for 'data:image/png;base64,iVBORw0KGgoAAAANSUhEUgAAAAEAAAABCAQAAAC1HAwCAAAAC0lEQVQYV2NgYAAAAAMAAWgmWQ0AAAAASUVORK5CYII='\n",
      "Error al descargar data:image/png;base64,iVBORw0KGgoAAAANSUhEUgAAAAEAAAABCAQAAAC1HAwCAAAAC0lEQVQYV2NgYAAAAAMAAWgmWQ0AAAAASUVORK5CYII=: No connection adapters were found for 'data:image/png;base64,iVBORw0KGgoAAAANSUhEUgAAAAEAAAABCAQAAAC1HAwCAAAAC0lEQVQYV2NgYAAAAAMAAWgmWQ0AAAAASUVORK5CYII='\n",
      "Error al descargar data:image/png;base64,iVBORw0KGgoAAAANSUhEUgAAAAEAAAABCAQAAAC1HAwCAAAAC0lEQVQYV2NgYAAAAAMAAWgmWQ0AAAAASUVORK5CYII=: No connection adapters were found for 'data:image/png;base64,iVBORw0KGgoAAAANSUhEUgAAAAEAAAABCAQAAAC1HAwCAAAAC0lEQVQYV2NgYAAAAAMAAWgmWQ0AAAAASUVORK5CYII='\n",
      "Error al descargar data:image/png;base64,iVBORw0KGgoAAAANSUhEUgAAAAEAAAABCAQAAAC1HAwCAAAAC0lEQVQYV2NgYAAAAAMAAWgmWQ0AAAAASUVORK5CYII=: No connection adapters were found for 'data:image/png;base64,iVBORw0KGgoAAAANSUhEUgAAAAEAAAABCAQAAAC1HAwCAAAAC0lEQVQYV2NgYAAAAAMAAWgmWQ0AAAAASUVORK5CYII='\n",
      "Error al descargar data:image/png;base64,iVBORw0KGgoAAAANSUhEUgAAAAEAAAABCAQAAAC1HAwCAAAAC0lEQVQYV2NgYAAAAAMAAWgmWQ0AAAAASUVORK5CYII=: No connection adapters were found for 'data:image/png;base64,iVBORw0KGgoAAAANSUhEUgAAAAEAAAABCAQAAAC1HAwCAAAAC0lEQVQYV2NgYAAAAAMAAWgmWQ0AAAAASUVORK5CYII='\n",
      "Error al descargar data:image/png;base64,iVBORw0KGgoAAAANSUhEUgAAAAEAAAABCAQAAAC1HAwCAAAAC0lEQVQYV2NgYAAAAAMAAWgmWQ0AAAAASUVORK5CYII=: No connection adapters were found for 'data:image/png;base64,iVBORw0KGgoAAAANSUhEUgAAAAEAAAABCAQAAAC1HAwCAAAAC0lEQVQYV2NgYAAAAAMAAWgmWQ0AAAAASUVORK5CYII='\n",
      "Error al descargar data:image/png;base64,iVBORw0KGgoAAAANSUhEUgAAAAEAAAABCAQAAAC1HAwCAAAAC0lEQVQYV2NgYAAAAAMAAWgmWQ0AAAAASUVORK5CYII=: No connection adapters were found for 'data:image/png;base64,iVBORw0KGgoAAAANSUhEUgAAAAEAAAABCAQAAAC1HAwCAAAAC0lEQVQYV2NgYAAAAAMAAWgmWQ0AAAAASUVORK5CYII='\n"
     ]
    },
    {
     "name": "stderr",
     "output_type": "stream",
     "text": [
      "Procesando imágenes de https://www.pngwing.com/es/search?q=eucalipto: 100%|██████████| 61/61 [00:00<00:00, 254.60it/s]"
     ]
    },
    {
     "name": "stdout",
     "output_type": "stream",
     "text": [
      "Error al descargar https://www.pngwing.com/public/css/pngwing.svg: cannot identify image file <_io.BytesIO object at 0x00000220320E0D10>\n"
     ]
    },
    {
     "name": "stderr",
     "output_type": "stream",
     "text": [
      "\n",
      "Procesando imágenes de https://es.123rf.com/imagenes-de-archivo/eucalipto_planta.html:   4%|▍         | 12/317 [00:00<00:09, 33.15it/s]"
     ]
    },
    {
     "name": "stdout",
     "output_type": "stream",
     "text": [
      "Error al descargar https://assets-cdn.123rf.com/ui-components/assets/svg/ai-face-swap.svg: cannot identify image file <_io.BytesIO object at 0x000002202F9622A0>Error al descargar https://assets-cdn.123rf.com/ui-components/assets/svg/chevron-down.svg: cannot identify image file <_io.BytesIO object at 0x0000022030E2DD50>\n",
      "\n",
      "Error al descargar https://assets-cdn.123rf.com/ui-components/assets/svg/ai-img-upscaler.svg: cannot identify image file <_io.BytesIO object at 0x0000022030EEC130>\n",
      "Error al descargar https://assets-cdn.123rf.com/ui-components/assets/svg/ai-img-generator.svg: cannot identify image file <_io.BytesIO object at 0x0000022030E66930>\n",
      "Error al descargar https://assets-cdn.123rf.com/ui-components/assets/svg/ai-sketch.svg: cannot identify image file <_io.BytesIO object at 0x000002203119F420>\n",
      "Error al descargar https://assets-cdn.123rf.com/ui-components/assets/svg/gradient/123rf-logo-gradient.svg: cannot identify image file <_io.BytesIO object at 0x000002207EE92250>\n",
      "Error al descargar https://assets-cdn.123rf.com/ui-components/assets/svg/ai-generative-fill.svg: cannot identify image file <_io.BytesIO object at 0x0000022030EEC450>\n"
     ]
    },
    {
     "name": "stderr",
     "output_type": "stream",
     "text": [
      "Procesando imágenes de https://es.123rf.com/imagenes-de-archivo/eucalipto_planta.html:   7%|▋         | 22/317 [00:00<00:07, 41.24it/s]"
     ]
    },
    {
     "name": "stdout",
     "output_type": "stream",
     "text": [
      "Error al descargar https://assets-cdn.123rf.com/ui-components/assets/svg/ai-bg-blur.svg: cannot identify image file <_io.BytesIO object at 0x0000022030EEC770>\n",
      "Error al descargar https://assets-cdn.123rf.com/ui-components/assets/svg/ai-bg-remix.svg: cannot identify image file <_io.BytesIO object at 0x00000220320E0400>\n",
      "Error al descargar https://assets-cdn.123rf.com/ui-components/assets/svg/ai-writer.svg: cannot identify image file <_io.BytesIO object at 0x00000220320E1120>\n",
      "Error al descargar https://assets-cdn.123rf.com/ui-components/assets/svg/ai-img-extender.svg: cannot identify image file <_io.BytesIO object at 0x0000022030EEC540>\n",
      "Error al descargar https://assets-cdn.123rf.com/ui-components/assets/svg/ai-bg-removal.svg: cannot identify image file <_io.BytesIO object at 0x00000220320E1760>\n"
     ]
    },
    {
     "name": "stderr",
     "output_type": "stream",
     "text": [
      "Procesando imágenes de https://es.123rf.com/imagenes-de-archivo/eucalipto_planta.html:  10%|█         | 32/317 [00:00<00:06, 41.05it/s]"
     ]
    },
    {
     "name": "stdout",
     "output_type": "stream",
     "text": [
      "Error al descargar https://assets-cdn.123rf.com/ui-components/assets/svg/chevron-down.svg: cannot identify image file <_io.BytesIO object at 0x0000022030E67BA0>\n",
      "Error al descargar https://assets-cdn.123rf.com/ui-components/assets/svg/tick.svg: cannot identify image file <_io.BytesIO object at 0x00000220320E0040>\n",
      "Error al descargar https://assets-cdn.123rf.com/ui-components/assets/svg/chevron-down.svg: cannot identify image file <_io.BytesIO object at 0x0000022030E64860>\n",
      "Error al descargar https://assets-cdn.123rf.com/ui-components/assets/svg/tick.svg: cannot identify image file <_io.BytesIO object at 0x00000220320E0C70>\n",
      "Error al descargar https://assets-cdn.123rf.com/ui-components/assets/svg/tick.svg: cannot identify image file <_io.BytesIO object at 0x00000220320E04F0>\n",
      "Error al descargar https://assets-cdn.123rf.com/ui-components/assets/images/plus-upsell-ai-v3.png: cannot write mode P as JPEG\n",
      "Error al descargar https://assets-cdn.123rf.com/ui-components/assets/svg/tick.svg: cannot identify image file <_io.BytesIO object at 0x000002207EE92250>\n",
      "Error al descargar https://assets-cdn.123rf.com/ui-components/assets/svg/tick.svg: cannot identify image file <_io.BytesIO object at 0x00000220320E1120>\n",
      "Error al descargar https://assets-cdn.123rf.com/ui-components/assets/svg/tick.svg: cannot identify image file <_io.BytesIO object at 0x0000022030DA2F20>\n",
      "Error al descargar https://assets-cdn.123rf.com/ui-components/assets/svg/tick.svg: cannot identify image file <_io.BytesIO object at 0x00000220320E07C0>\n"
     ]
    },
    {
     "name": "stderr",
     "output_type": "stream",
     "text": [
      "Procesando imágenes de https://es.123rf.com/imagenes-de-archivo/eucalipto_planta.html:  12%|█▏        | 38/317 [00:00<00:06, 45.78it/s]"
     ]
    },
    {
     "name": "stdout",
     "output_type": "stream",
     "text": [
      "Error al descargar https://assets-cdn.123rf.com/ui-components/assets/svg/tick.svg: cannot identify image file <_io.BytesIO object at 0x0000022030EEC770>\n",
      "Error al descargar https://assets-cdn.123rf.com/ui-components/assets/svg/tick.svg: cannot identify image file <_io.BytesIO object at 0x0000022030EECA40>\n",
      "Error al descargar https://assets-cdn.123rf.com/ui-components/assets/svg/tick.svg: cannot identify image file <_io.BytesIO object at 0x00000220320E0EA0>\n",
      "Error al descargar https://assets-cdn.123rf.com/ui-components/assets/svg/tick.svg: cannot identify image file <_io.BytesIO object at 0x00000220316469D0>\n",
      "Error al descargar https://assets-cdn.123rf.com/ui-components/assets/svg/tick.svg: cannot identify image file <_io.BytesIO object at 0x00000220320E1260>\n",
      "Error al descargar https://assets-cdn.123rf.com/ui-components/assets/svg/tick.svg: cannot identify image file <_io.BytesIO object at 0x000002202F9622A0>\n",
      "Error al descargar https://assets-cdn.123rf.com/ui-components/assets/svg/tick.svg: cannot identify image file <_io.BytesIO object at 0x00000220320E3A10>\n",
      "Error al descargar https://assets-cdn.123rf.com/ui-components/assets/svg/menu.svg: cannot identify image file <_io.BytesIO object at 0x0000022030DA2F20>\n",
      "Error al descargar https://assets-cdn.123rf.com/ui-components/assets/svg/tick.svg: cannot identify image file <_io.BytesIO object at 0x0000022030EEC540>\n",
      "Error al descargar https://assets-cdn.123rf.com/ui-components/assets/svg/camera.svg: cannot identify image file <_io.BytesIO object at 0x0000022030E2C1D0>\n"
     ]
    },
    {
     "name": "stderr",
     "output_type": "stream",
     "text": [
      "Procesando imágenes de https://es.123rf.com/imagenes-de-archivo/eucalipto_planta.html:  16%|█▋        | 52/317 [00:01<00:06, 42.40it/s]"
     ]
    },
    {
     "name": "stdout",
     "output_type": "stream",
     "text": [
      "Error al descargar https://assets-cdn.123rf.com/ui-components/assets/svg/upload.svg: cannot identify image file <_io.BytesIO object at 0x0000022030EEC130>\n",
      "Error al descargar https://assets-cdn.123rf.com/ui-components/assets/svg/close.svg: cannot identify image file <_io.BytesIO object at 0x000002203119F420>\n",
      "Error al descargar https://assets-cdn.123rf.com/ui-components/assets/svg/chevron-down.svg: cannot identify image file <_io.BytesIO object at 0x0000022030E2DFD0>\n",
      "Error al descargar https://assets-cdn.123rf.com/ui-components/assets/svg/all-images.svg: cannot identify image file <_io.BytesIO object at 0x00000220320E0EA0>\n",
      "Error al descargar https://assets-cdn.123rf.com/ui-components/assets/svg/close.svg: cannot identify image file <_io.BytesIO object at 0x00000220320E1030>\n",
      "Error al descargar https://assets-cdn.123rf.com/ui-components/assets/svg/camera.svg: cannot identify image file <_io.BytesIO object at 0x000002202F9622A0>\n",
      "Error al descargar https://assets-cdn.123rf.com/ui-components/assets/svg/premium.svg: cannot identify image file <_io.BytesIO object at 0x00000220320E1170>\n",
      "Error al descargar https://assets-cdn.123rf.com/ui-components/assets/svg/photos.svg: cannot identify image file <_io.BytesIO object at 0x0000022030EEC540>\n",
      "Error al descargar https://assets-cdn.123rf.com/ui-components/assets/svg/all-images.svg: cannot identify image file <_io.BytesIO object at 0x000002207EE92250>\n",
      "Error al descargar https://assets-cdn.123rf.com/ui-components/assets/svg/vector.svg: cannot identify image file <_io.BytesIO object at 0x0000022030E66930>\n"
     ]
    },
    {
     "name": "stderr",
     "output_type": "stream",
     "text": [
      "Procesando imágenes de https://es.123rf.com/imagenes-de-archivo/eucalipto_planta.html:  18%|█▊        | 57/317 [00:01<00:05, 43.85it/s]"
     ]
    },
    {
     "name": "stdout",
     "output_type": "stream",
     "text": [
      "Error al descargar https://assets-cdn.123rf.com/ui-components/assets/svg/footage.svg: cannot identify image file <_io.BytesIO object at 0x0000022030E2D620>\n",
      "Error al descargar https://assets-cdn.123rf.com/ui-components/assets/svg/audio.svg: cannot identify image file <_io.BytesIO object at 0x0000022030E2DD50>\n",
      "Error al descargar https://assets-cdn.123rf.com/ui-components/assets/svg/ai-img-generator.svg: cannot identify image file <_io.BytesIO object at 0x00000220316469D0>\n",
      "Error al descargar https://assets-cdn.123rf.com/ui-components/assets/svg/font-v2.svg: cannot identify image file <_io.BytesIO object at 0x0000022030E646D0>\n",
      "Error al descargar https://assets-cdn.123rf.com/ui-components/assets/svg/plus.svg: cannot identify image file <_io.BytesIO object at 0x00000220320E0BD0>\n",
      "Error al descargar https://assets-cdn.123rf.com/ui-components/assets/svg/search.svg: cannot identify image file <_io.BytesIO object at 0x00000220320E1990>\n",
      "Error al descargar https://assets-cdn.123rf.com/ui-components/assets/svg/free.svg: cannot identify image file <_io.BytesIO object at 0x00000220320E0B80>\n",
      "Error al descargar https://assets-cdn.123rf.com/ui-components/assets/svg/gradient/premium-crown-gradient2.svg: cannot identify image file <_io.BytesIO object at 0x0000022030DA2F20>\n"
     ]
    },
    {
     "name": "stderr",
     "output_type": "stream",
     "text": [
      "Procesando imágenes de https://es.123rf.com/imagenes-de-archivo/eucalipto_planta.html:  22%|██▏       | 70/317 [00:01<00:05, 48.82it/s]"
     ]
    },
    {
     "name": "stdout",
     "output_type": "stream",
     "text": [
      "Error al descargar https://assets-cdn.123rf.com/ui-components/assets/svg/collection.svg: cannot identify image file <_io.BytesIO object at 0x0000022030E2C1D0>\n",
      "Error al descargar https://assets-cdn.123rf.com/ui-components/assets/svg/collection.svg: cannot identify image file <_io.BytesIO object at 0x00000220316469D0>\n",
      "Error al descargar https://assets-cdn.123rf.com/ui-components/assets/svg/gradient/premium-crown-gradient2.svg: cannot identify image file <_io.BytesIO object at 0x000002203119F420>\n",
      "Error al descargar https://assets-cdn.123rf.com/ui-components/assets/svg/collection.svg: cannot identify image file <_io.BytesIO object at 0x00000220320E1260>\n",
      "Error al descargar https://assets-cdn.123rf.com/ui-components/assets/svg/gradient/premium-crown-gradient2.svg: cannot identify image file <_io.BytesIO object at 0x00000220320E18F0>\n",
      "Error al descargar https://assets-cdn.123rf.com/ui-components/assets/svg/gradient/premium-crown-gradient2.svg: cannot identify image file <_io.BytesIO object at 0x00000220320E0B80>\n",
      "Error al descargar https://assets-cdn.123rf.com/ui-components/assets/svg/collection.svg: cannot identify image file <_io.BytesIO object at 0x000002207EE92250>\n"
     ]
    },
    {
     "name": "stderr",
     "output_type": "stream",
     "text": [
      "Procesando imágenes de https://es.123rf.com/imagenes-de-archivo/eucalipto_planta.html:  26%|██▌       | 83/317 [00:01<00:04, 49.36it/s]"
     ]
    },
    {
     "name": "stdout",
     "output_type": "stream",
     "text": [
      "Error al descargar https://assets-cdn.123rf.com/ui-components/assets/svg/gradient/premium-crown-gradient2.svg: cannot identify image file <_io.BytesIO object at 0x0000022030E2DFD0>\n",
      "Error al descargar https://assets-cdn.123rf.com/ui-components/assets/svg/collection.svg: cannot identify image file <_io.BytesIO object at 0x0000022030E66930>\n",
      "Error al descargar https://assets-cdn.123rf.com/ui-components/assets/svg/gradient/premium-crown-gradient2.svg: cannot identify image file <_io.BytesIO object at 0x00000220320E0C70>\n",
      "Error al descargar https://assets-cdn.123rf.com/ui-components/assets/svg/collection.svg: cannot identify image file <_io.BytesIO object at 0x0000022030E2DD50>\n",
      "Error al descargar https://assets-cdn.123rf.com/ui-components/assets/svg/collection.svg: cannot identify image file <_io.BytesIO object at 0x00000220320E0E50>\n",
      "Error al descargar https://assets-cdn.123rf.com/ui-components/assets/svg/gradient/premium-crown-gradient2.svg: cannot identify image file <_io.BytesIO object at 0x0000022030E67BA0>\n",
      "Error al descargar https://assets-cdn.123rf.com/ui-components/assets/svg/collection.svg: cannot identify image file <_io.BytesIO object at 0x0000022030DA2F20>\n"
     ]
    },
    {
     "name": "stderr",
     "output_type": "stream",
     "text": [
      "Procesando imágenes de https://es.123rf.com/imagenes-de-archivo/eucalipto_planta.html:  28%|██▊       | 89/317 [00:02<00:04, 45.82it/s]"
     ]
    },
    {
     "name": "stdout",
     "output_type": "stream",
     "text": [
      "Error al descargar https://assets-cdn.123rf.com/ui-components/assets/svg/collection.svg: cannot identify image file <_io.BytesIO object at 0x0000022030E64860>\n",
      "Error al descargar https://assets-cdn.123rf.com/ui-components/assets/svg/gradient/premium-crown-gradient2.svg: cannot identify image file <_io.BytesIO object at 0x00000220320E18F0>\n",
      "Error al descargar https://assets-cdn.123rf.com/ui-components/assets/svg/collection.svg: cannot identify image file <_io.BytesIO object at 0x00000220320E12B0>\n",
      "Error al descargar https://assets-cdn.123rf.com/ui-components/assets/svg/collection.svg: cannot identify image file <_io.BytesIO object at 0x000002207EE92250>\n",
      "Error al descargar https://assets-cdn.123rf.com/ui-components/assets/svg/gradient/premium-crown-gradient2.svg: cannot identify image file <_io.BytesIO object at 0x000002203119F420>\n",
      "Error al descargar https://assets-cdn.123rf.com/ui-components/assets/svg/collection.svg: cannot identify image file <_io.BytesIO object at 0x0000022030EEC130>\n",
      "Error al descargar https://assets-cdn.123rf.com/ui-components/assets/svg/gradient/premium-crown-gradient2.svg: cannot identify image file <_io.BytesIO object at 0x0000022030E66930>\n"
     ]
    },
    {
     "name": "stderr",
     "output_type": "stream",
     "text": [
      "Procesando imágenes de https://es.123rf.com/imagenes-de-archivo/eucalipto_planta.html:  32%|███▏      | 100/317 [00:02<00:04, 47.71it/s]"
     ]
    },
    {
     "name": "stdout",
     "output_type": "stream",
     "text": [
      "Error al descargar https://assets-cdn.123rf.com/ui-components/assets/svg/collection.svg: cannot identify image file <_io.BytesIO object at 0x00000220320E0400>\n",
      "Error al descargar https://assets-cdn.123rf.com/ui-components/assets/svg/gradient/premium-crown-gradient2.svg: cannot identify image file <_io.BytesIO object at 0x00000220320E1AD0>\n",
      "Error al descargar https://assets-cdn.123rf.com/ui-components/assets/svg/collection.svg: cannot identify image file <_io.BytesIO object at 0x00000220320E12B0>\n",
      "Error al descargar https://assets-cdn.123rf.com/ui-components/assets/svg/collection.svg: cannot identify image file <_io.BytesIO object at 0x0000022030E2DD50>\n",
      "Error al descargar https://assets-cdn.123rf.com/ui-components/assets/svg/collection.svg: cannot identify image file <_io.BytesIO object at 0x0000022030E64C20>\n",
      "Error al descargar https://assets-cdn.123rf.com/ui-components/assets/svg/collection.svg: cannot identify image file <_io.BytesIO object at 0x00000220320E07C0>\n"
     ]
    },
    {
     "name": "stderr",
     "output_type": "stream",
     "text": [
      "Procesando imágenes de https://es.123rf.com/imagenes-de-archivo/eucalipto_planta.html:  35%|███▌      | 111/317 [00:02<00:04, 46.66it/s]"
     ]
    },
    {
     "name": "stdout",
     "output_type": "stream",
     "text": [
      "Error al descargar https://assets-cdn.123rf.com/ui-components/assets/svg/gradient/premium-crown-gradient2.svg: cannot identify image file <_io.BytesIO object at 0x00000220320E0400>\n",
      "Error al descargar https://assets-cdn.123rf.com/ui-components/assets/svg/collection.svg: cannot identify image file <_io.BytesIO object at 0x000002207EE92250>\n",
      "Error al descargar https://assets-cdn.123rf.com/ui-components/assets/svg/gradient/premium-crown-gradient2.svg: cannot identify image file <_io.BytesIO object at 0x00000220320E1760>\n",
      "Error al descargar https://assets-cdn.123rf.com/ui-components/assets/svg/collection.svg: cannot identify image file <_io.BytesIO object at 0x0000022030E2DFD0>\n",
      "Error al descargar https://assets-cdn.123rf.com/ui-components/assets/svg/collection.svg: cannot identify image file <_io.BytesIO object at 0x0000022030E2DFD0>\n",
      "Error al descargar https://assets-cdn.123rf.com/ui-components/assets/svg/gradient/premium-crown-gradient2.svg: cannot identify image file <_io.BytesIO object at 0x0000022030DA2F20>\n",
      "Error al descargar https://assets-cdn.123rf.com/ui-components/assets/svg/gradient/premium-crown-gradient2.svg: cannot identify image file <_io.BytesIO object at 0x00000220320E07C0>\n"
     ]
    },
    {
     "name": "stderr",
     "output_type": "stream",
     "text": [
      "Procesando imágenes de https://es.123rf.com/imagenes-de-archivo/eucalipto_planta.html:  38%|███▊      | 121/317 [00:02<00:04, 43.31it/s]"
     ]
    },
    {
     "name": "stdout",
     "output_type": "stream",
     "text": [
      "Error al descargar https://assets-cdn.123rf.com/ui-components/assets/svg/collection.svg: cannot identify image file <_io.BytesIO object at 0x00000220320E0630>\n",
      "Error al descargar https://assets-cdn.123rf.com/ui-components/assets/svg/collection.svg: cannot identify image file <_io.BytesIO object at 0x00000220320E1B20>\n",
      "Error al descargar https://assets-cdn.123rf.com/ui-components/assets/svg/gradient/premium-crown-gradient2.svg: cannot identify image file <_io.BytesIO object at 0x0000022030EEC450>\n",
      "Error al descargar https://assets-cdn.123rf.com/ui-components/assets/svg/collection.svg: cannot identify image file <_io.BytesIO object at 0x0000022030E2DFD0>\n",
      "Error al descargar https://assets-cdn.123rf.com/ui-components/assets/svg/collection.svg: cannot identify image file <_io.BytesIO object at 0x0000022030E2C1D0>\n",
      "Error al descargar https://assets-cdn.123rf.com/ui-components/assets/svg/collection.svg: cannot identify image file <_io.BytesIO object at 0x000002202F9622A0>\n"
     ]
    },
    {
     "name": "stderr",
     "output_type": "stream",
     "text": [
      "Procesando imágenes de https://es.123rf.com/imagenes-de-archivo/eucalipto_planta.html:  42%|████▏     | 134/317 [00:03<00:03, 47.16it/s]"
     ]
    },
    {
     "name": "stdout",
     "output_type": "stream",
     "text": [
      "Error al descargar https://assets-cdn.123rf.com/ui-components/assets/svg/collection.svg: cannot identify image file <_io.BytesIO object at 0x00000220320E0B80>\n",
      "Error al descargar https://assets-cdn.123rf.com/ui-components/assets/svg/collection.svg: cannot identify image file <_io.BytesIO object at 0x0000022030EECA40>\n",
      "Error al descargar https://assets-cdn.123rf.com/ui-components/assets/svg/gradient/premium-crown-gradient2.svg: cannot identify image file <_io.BytesIO object at 0x0000022030E2DD50>\n",
      "Error al descargar https://assets-cdn.123rf.com/ui-components/assets/svg/collection.svg: cannot identify image file <_io.BytesIO object at 0x0000022030DA2F20>\n",
      "Error al descargar https://assets-cdn.123rf.com/ui-components/assets/svg/collection.svg: cannot identify image file <_io.BytesIO object at 0x0000022030E66930>\n"
     ]
    },
    {
     "name": "stderr",
     "output_type": "stream",
     "text": [
      "Procesando imágenes de https://es.123rf.com/imagenes-de-archivo/eucalipto_planta.html:  46%|████▌     | 145/317 [00:03<00:05, 34.35it/s]"
     ]
    },
    {
     "name": "stdout",
     "output_type": "stream",
     "text": [
      "Error al descargar https://assets-cdn.123rf.com/ui-components/assets/svg/collection.svg: cannot identify image file <_io.BytesIO object at 0x00000220320E2520>\n",
      "Error al descargar https://assets-cdn.123rf.com/ui-components/assets/svg/collection.svg: cannot identify image file <_io.BytesIO object at 0x0000022030AA0720>\n",
      "Error al descargar https://assets-cdn.123rf.com/ui-components/assets/svg/gradient/premium-crown-gradient2.svg: cannot identify image file <_io.BytesIO object at 0x0000022030E2DFD0>\n",
      "Error al descargar https://assets-cdn.123rf.com/ui-components/assets/svg/collection.svg: cannot identify image file <_io.BytesIO object at 0x0000022030EEC540>\n",
      "Error al descargar https://assets-cdn.123rf.com/ui-components/assets/svg/collection.svg: cannot identify image file <_io.BytesIO object at 0x0000022030EEC450>\n",
      "Error al descargar https://assets-cdn.123rf.com/ui-components/assets/svg/gradient/premium-crown-gradient2.svg: cannot identify image file <_io.BytesIO object at 0x0000022030E2C1D0>\n"
     ]
    },
    {
     "name": "stderr",
     "output_type": "stream",
     "text": [
      "Procesando imágenes de https://es.123rf.com/imagenes-de-archivo/eucalipto_planta.html:  47%|████▋     | 150/317 [00:03<00:04, 33.88it/s]"
     ]
    },
    {
     "name": "stdout",
     "output_type": "stream",
     "text": [
      "Error al descargar https://assets-cdn.123rf.com/ui-components/assets/svg/collection.svg: cannot identify image file <_io.BytesIO object at 0x0000022030EEC130>\n",
      "Error al descargar https://assets-cdn.123rf.com/ui-components/assets/svg/gradient/premium-crown-gradient2.svg: cannot identify image file <_io.BytesIO object at 0x0000022030E66930>\n",
      "Error al descargar https://assets-cdn.123rf.com/ui-components/assets/svg/collection.svg: cannot identify image file <_io.BytesIO object at 0x0000022030EEC770>\n",
      "Error al descargar https://assets-cdn.123rf.com/ui-components/assets/svg/collection.svg: cannot identify image file <_io.BytesIO object at 0x00000220320E0400>\n",
      "Error al descargar https://assets-cdn.123rf.com/ui-components/assets/svg/collection.svg: cannot identify image file <_io.BytesIO object at 0x000002203119F420>\n",
      "Error al descargar https://assets-cdn.123rf.com/ui-components/assets/svg/gradient/premium-crown-gradient2.svg: cannot identify image file <_io.BytesIO object at 0x0000022030E2D620>\n",
      "Error al descargar https://assets-cdn.123rf.com/ui-components/assets/svg/collection.svg: cannot identify image file <_io.BytesIO object at 0x00000220320E33D0>\n",
      "Error al descargar https://assets-cdn.123rf.com/ui-components/assets/svg/collection.svg: cannot identify image file <_io.BytesIO object at 0x000002202F9622A0>\n",
      "Error al descargar https://assets-cdn.123rf.com/ui-components/assets/svg/gradient/premium-crown-gradient2.svg: cannot identify image file <_io.BytesIO object at 0x0000022030AA0720>\n",
      "Error al descargar https://assets-cdn.123rf.com/ui-components/assets/svg/collection.svg: cannot identify image file <_io.BytesIO object at 0x00000220320E08B0>\n",
      "Error al descargar https://assets-cdn.123rf.com/ui-components/assets/svg/collection.svg: cannot identify image file <_io.BytesIO object at 0x0000022030E2DD50>\n"
     ]
    },
    {
     "name": "stderr",
     "output_type": "stream",
     "text": [
      "Procesando imágenes de https://es.123rf.com/imagenes-de-archivo/eucalipto_planta.html:  53%|█████▎    | 168/317 [00:04<00:03, 41.79it/s]"
     ]
    },
    {
     "name": "stdout",
     "output_type": "stream",
     "text": [
      "Error al descargar https://assets-cdn.123rf.com/ui-components/assets/svg/collection.svg: cannot identify image file <_io.BytesIO object at 0x00000220317049F0>\n",
      "Error al descargar https://assets-cdn.123rf.com/ui-components/assets/svg/gradient/premium-crown-gradient2.svg: cannot identify image file <_io.BytesIO object at 0x0000022030EEC770>\n",
      "Error al descargar https://assets-cdn.123rf.com/ui-components/assets/svg/collection.svg: cannot identify image file <_io.BytesIO object at 0x0000022030E2DFD0>\n",
      "Error al descargar https://assets-cdn.123rf.com/ui-components/assets/svg/collection.svg: cannot identify image file <_io.BytesIO object at 0x0000022030E66930>\n",
      "Error al descargar https://assets-cdn.123rf.com/ui-components/assets/svg/gradient/premium-crown-gradient2.svg: cannot identify image file <_io.BytesIO object at 0x00000220320E15D0>\n",
      "Error al descargar https://assets-cdn.123rf.com/ui-components/assets/svg/collection.svg: cannot identify image file <_io.BytesIO object at 0x0000022030EEC450>\n"
     ]
    },
    {
     "name": "stderr",
     "output_type": "stream",
     "text": [
      "Procesando imágenes de https://es.123rf.com/imagenes-de-archivo/eucalipto_planta.html:  57%|█████▋    | 181/317 [00:04<00:03, 44.58it/s]"
     ]
    },
    {
     "name": "stdout",
     "output_type": "stream",
     "text": [
      "Error al descargar https://assets-cdn.123rf.com/ui-components/assets/svg/collection.svg: cannot identify image file <_io.BytesIO object at 0x00000220320E1DF0>\n",
      "Error al descargar https://assets-cdn.123rf.com/ui-components/assets/svg/collection.svg: cannot identify image file <_io.BytesIO object at 0x00000220320E1E40>\n",
      "Error al descargar https://assets-cdn.123rf.com/ui-components/assets/svg/gradient/premium-crown-gradient2.svg: cannot identify image file <_io.BytesIO object at 0x00000220320E08B0>\n",
      "Error al descargar https://assets-cdn.123rf.com/ui-components/assets/svg/collection.svg: cannot identify image file <_io.BytesIO object at 0x0000022030E67BA0>\n",
      "Error al descargar https://assets-cdn.123rf.com/ui-components/assets/svg/collection.svg: cannot identify image file <_io.BytesIO object at 0x0000022030AA0720>\n",
      "Error al descargar https://assets-cdn.123rf.com/ui-components/assets/svg/collection.svg: cannot identify image file <_io.BytesIO object at 0x00000220320E1120>\n"
     ]
    },
    {
     "name": "stderr",
     "output_type": "stream",
     "text": [
      "Procesando imágenes de https://es.123rf.com/imagenes-de-archivo/eucalipto_planta.html:  62%|██████▏   | 195/317 [00:04<00:02, 46.76it/s]"
     ]
    },
    {
     "name": "stdout",
     "output_type": "stream",
     "text": [
      "Error al descargar https://assets-cdn.123rf.com/ui-components/assets/svg/collection.svg: cannot identify image file <_io.BytesIO object at 0x00000220320E1F30>\n",
      "Error al descargar https://assets-cdn.123rf.com/ui-components/assets/svg/gradient/premium-crown-gradient2.svg: cannot identify image file <_io.BytesIO object at 0x00000220320E1E40>\n",
      "Error al descargar https://assets-cdn.123rf.com/ui-components/assets/svg/collection.svg: cannot identify image file <_io.BytesIO object at 0x00000220320E0EA0>\n",
      "Error al descargar https://assets-cdn.123rf.com/ui-components/assets/svg/collection.svg: cannot identify image file <_io.BytesIO object at 0x0000022030E2D620>\n",
      "Error al descargar https://assets-cdn.123rf.com/ui-components/assets/svg/collection.svg: cannot identify image file <_io.BytesIO object at 0x0000022030DA2F20>\n",
      "Error al descargar https://assets-cdn.123rf.com/ui-components/assets/svg/collection.svg: cannot identify image file <_io.BytesIO object at 0x00000220320E13F0>\n",
      "Error al descargar https://assets-cdn.123rf.com/ui-components/assets/svg/gradient/premium-crown-gradient2.svg: cannot identify image file <_io.BytesIO object at 0x0000022030EEC770>\n"
     ]
    },
    {
     "name": "stderr",
     "output_type": "stream",
     "text": [
      "Procesando imágenes de https://es.123rf.com/imagenes-de-archivo/eucalipto_planta.html:  63%|██████▎   | 201/317 [00:04<00:02, 43.79it/s]"
     ]
    },
    {
     "name": "stdout",
     "output_type": "stream",
     "text": [
      "Error al descargar https://assets-cdn.123rf.com/ui-components/assets/svg/collection.svg: cannot identify image file <_io.BytesIO object at 0x00000220320E0630>\n",
      "Error al descargar https://assets-cdn.123rf.com/ui-components/assets/svg/collection.svg: cannot identify image file <_io.BytesIO object at 0x00000220320E0EA0>\n",
      "Error al descargar https://assets-cdn.123rf.com/ui-components/assets/svg/gradient/premium-crown-gradient2.svg: cannot identify image file <_io.BytesIO object at 0x0000022030E67BA0>\n",
      "Error al descargar https://assets-cdn.123rf.com/ui-components/assets/svg/collection.svg: cannot identify image file <_io.BytesIO object at 0x0000022030EEC130>\n",
      "Error al descargar https://assets-cdn.123rf.com/ui-components/assets/svg/collection.svg: cannot identify image file <_io.BytesIO object at 0x00000220320E1F30>\n",
      "Error al descargar https://assets-cdn.123rf.com/ui-components/assets/svg/collection.svg: cannot identify image file <_io.BytesIO object at 0x000002207EE92250>\n"
     ]
    },
    {
     "name": "stderr",
     "output_type": "stream",
     "text": [
      "Procesando imágenes de https://es.123rf.com/imagenes-de-archivo/eucalipto_planta.html:  68%|██████▊   | 217/317 [00:05<00:02, 45.86it/s]"
     ]
    },
    {
     "name": "stdout",
     "output_type": "stream",
     "text": [
      "Error al descargar https://assets-cdn.123rf.com/ui-components/assets/svg/collection.svg: cannot identify image file <_io.BytesIO object at 0x00000220320E0E50>\n",
      "Error al descargar https://assets-cdn.123rf.com/ui-components/assets/svg/gradient/premium-crown-gradient2.svg: cannot identify image file <_io.BytesIO object at 0x0000022030EEC130>\n",
      "Error al descargar https://assets-cdn.123rf.com/ui-components/assets/svg/gradient/premium-crown-gradient2.svg: cannot identify image file <_io.BytesIO object at 0x0000022030E2DD50>\n",
      "Error al descargar https://assets-cdn.123rf.com/ui-components/assets/svg/collection.svg: cannot identify image file <_io.BytesIO object at 0x0000022030E67BA0>\n",
      "Error al descargar https://assets-cdn.123rf.com/ui-components/assets/svg/collection.svg: cannot identify image file <_io.BytesIO object at 0x0000022030EEC770>\n",
      "Error al descargar https://assets-cdn.123rf.com/ui-components/assets/svg/gradient/premium-crown-gradient2.svg: cannot identify image file <_io.BytesIO object at 0x000002207EE92250>\n",
      "Error al descargar https://assets-cdn.123rf.com/ui-components/assets/svg/collection.svg: cannot identify image file <_io.BytesIO object at 0x00000220320E1E40>\n"
     ]
    },
    {
     "name": "stderr",
     "output_type": "stream",
     "text": [
      "Procesando imágenes de https://es.123rf.com/imagenes-de-archivo/eucalipto_planta.html:  72%|███████▏  | 229/317 [00:05<00:01, 48.78it/s]"
     ]
    },
    {
     "name": "stdout",
     "output_type": "stream",
     "text": [
      "Error al descargar https://assets-cdn.123rf.com/ui-components/assets/svg/collection.svg: cannot identify image file <_io.BytesIO object at 0x00000220320E1A80>\n",
      "Error al descargar https://assets-cdn.123rf.com/ui-components/assets/svg/gradient/premium-crown-gradient2.svg: cannot identify image file <_io.BytesIO object at 0x0000022030DA2F20>\n",
      "Error al descargar https://assets-cdn.123rf.com/ui-components/assets/svg/collection.svg: cannot identify image file <_io.BytesIO object at 0x0000022030E2D620>\n",
      "Error al descargar https://assets-cdn.123rf.com/ui-components/assets/svg/collection.svg: cannot identify image file <_io.BytesIO object at 0x00000220320E1AD0>\n",
      "Error al descargar https://assets-cdn.123rf.com/ui-components/assets/svg/collection.svg: cannot identify image file <_io.BytesIO object at 0x0000022030E66930>\n",
      "Error al descargar https://assets-cdn.123rf.com/ui-components/assets/svg/gradient/premium-crown-gradient2.svg: cannot identify image file <_io.BytesIO object at 0x00000220320E0A90>\n",
      "Error al descargar https://assets-cdn.123rf.com/ui-components/assets/svg/collection.svg: cannot identify image file <_io.BytesIO object at 0x0000022031705BC0>\n"
     ]
    },
    {
     "name": "stderr",
     "output_type": "stream",
     "text": [
      "Procesando imágenes de https://es.123rf.com/imagenes-de-archivo/eucalipto_planta.html:  76%|███████▌  | 241/317 [00:05<00:01, 49.34it/s]"
     ]
    },
    {
     "name": "stdout",
     "output_type": "stream",
     "text": [
      "Error al descargar https://assets-cdn.123rf.com/ui-components/assets/svg/gradient/premium-crown-gradient2.svg: cannot identify image file <_io.BytesIO object at 0x00000220320E0270>\n",
      "Error al descargar https://assets-cdn.123rf.com/ui-components/assets/svg/collection.svg: cannot identify image file <_io.BytesIO object at 0x0000022030EEC770>\n",
      "Error al descargar https://assets-cdn.123rf.com/ui-components/assets/svg/gradient/premium-crown-gradient2.svg: cannot identify image file <_io.BytesIO object at 0x0000022030EEC130>\n",
      "Error al descargar https://assets-cdn.123rf.com/ui-components/assets/svg/gradient/premium-crown-gradient2.svg: cannot identify image file <_io.BytesIO object at 0x0000022030AA0720>\n",
      "Error al descargar https://assets-cdn.123rf.com/ui-components/assets/svg/collection.svg: cannot identify image file <_io.BytesIO object at 0x0000022030E67BA0>\n",
      "Error al descargar https://assets-cdn.123rf.com/ui-components/assets/svg/collection.svg: cannot identify image file <_io.BytesIO object at 0x0000022030EEC450>\n",
      "Error al descargar https://assets-cdn.123rf.com/ui-components/assets/svg/gradient/premium-crown-gradient2.svg: cannot identify image file <_io.BytesIO object at 0x00000220320E01D0>\n"
     ]
    },
    {
     "name": "stderr",
     "output_type": "stream",
     "text": [
      "Procesando imágenes de https://es.123rf.com/imagenes-de-archivo/eucalipto_planta.html:  78%|███████▊  | 247/317 [00:05<00:01, 44.71it/s]"
     ]
    },
    {
     "name": "stdout",
     "output_type": "stream",
     "text": [
      "Error al descargar https://assets-cdn.123rf.com/ui-components/assets/svg/collection.svg: cannot identify image file <_io.BytesIO object at 0x0000022030E64C20>\n",
      "Error al descargar https://assets-cdn.123rf.com/ui-components/assets/svg/collection.svg: cannot identify image file <_io.BytesIO object at 0x0000022030EEC770>\n",
      "Error al descargar https://assets-cdn.123rf.com/ui-components/assets/svg/gradient/premium-crown-gradient2.svg: cannot identify image file <_io.BytesIO object at 0x000002207EE92250>\n",
      "Error al descargar https://assets-cdn.123rf.com/ui-components/assets/svg/collection.svg: cannot identify image file <_io.BytesIO object at 0x00000220320E0A90>\n",
      "Error al descargar https://assets-cdn.123rf.com/ui-components/assets/svg/collection.svg: cannot identify image file <_io.BytesIO object at 0x0000022031705BC0>\n",
      "Error al descargar https://assets-cdn.123rf.com/ui-components/assets/svg/gradient/premium-crown-gradient2.svg: cannot identify image file <_io.BytesIO object at 0x00000220320E01D0>\n",
      "Error al descargar https://assets-cdn.123rf.com/ui-components/assets/svg/collection.svg: cannot identify image file <_io.BytesIO object at 0x000002203119F420>\n"
     ]
    },
    {
     "name": "stderr",
     "output_type": "stream",
     "text": [
      "Procesando imágenes de https://es.123rf.com/imagenes-de-archivo/eucalipto_planta.html:  82%|████████▏ | 259/317 [00:06<00:01, 47.31it/s]"
     ]
    },
    {
     "name": "stdout",
     "output_type": "stream",
     "text": [
      "Error al descargar https://assets-cdn.123rf.com/ui-components/assets/svg/gradient/premium-crown-gradient2.svg: cannot identify image file <_io.BytesIO object at 0x0000022030E64AE0>\n",
      "Error al descargar https://assets-cdn.123rf.com/ui-components/assets/svg/collection.svg: cannot identify image file <_io.BytesIO object at 0x00000220320E0B80>\n",
      "Error al descargar https://assets-cdn.123rf.com/ui-components/assets/svg/collection.svg: cannot identify image file <_io.BytesIO object at 0x0000022030E2C1D0>\n",
      "Error al descargar https://assets-cdn.123rf.com/ui-components/assets/svg/collection.svg: cannot identify image file <_io.BytesIO object at 0x00000220317049F0>\n",
      "Error al descargar https://assets-cdn.123rf.com/ui-components/assets/svg/gradient/premium-crown-gradient2.svg: cannot identify image file <_io.BytesIO object at 0x0000022030E646D0>\n",
      "Error al descargar https://assets-cdn.123rf.com/ui-components/assets/svg/collection.svg: cannot identify image file <_io.BytesIO object at 0x0000022030DA2F20>\n",
      "Error al descargar https://assets-cdn.123rf.com/ui-components/assets/svg/collection.svg: cannot identify image file <_io.BytesIO object at 0x0000022030E2D620>\n"
     ]
    },
    {
     "name": "stderr",
     "output_type": "stream",
     "text": [
      "Procesando imágenes de https://es.123rf.com/imagenes-de-archivo/eucalipto_planta.html:  85%|████████▌ | 271/317 [00:06<00:00, 46.47it/s]"
     ]
    },
    {
     "name": "stdout",
     "output_type": "stream",
     "text": [
      "Error al descargar https://assets-cdn.123rf.com/ui-components/assets/svg/collection.svg: cannot identify image file <_io.BytesIO object at 0x00000220320E0E50>\n",
      "Error al descargar https://assets-cdn.123rf.com/ui-components/assets/svg/gradient/premium-crown-gradient2.svg: cannot identify image file <_io.BytesIO object at 0x0000022030EEC450>\n",
      "Error al descargar https://assets-cdn.123rf.com/ui-components/assets/svg/collection.svg: cannot identify image file <_io.BytesIO object at 0x0000022031705BC0>\n",
      "Error al descargar https://assets-cdn.123rf.com/ui-components/assets/svg/collection.svg: cannot identify image file <_io.BytesIO object at 0x000002207EE92250>\n"
     ]
    },
    {
     "name": "stderr",
     "output_type": "stream",
     "text": [
      "Procesando imágenes de https://es.123rf.com/imagenes-de-archivo/eucalipto_planta.html:  89%|████████▉ | 283/317 [00:06<00:00, 47.43it/s]"
     ]
    },
    {
     "name": "stdout",
     "output_type": "stream",
     "text": [
      "Error al descargar https://assets-cdn.123rf.com/ui-components/assets/svg/collection.svg: cannot identify image file <_io.BytesIO object at 0x0000022030EEC540>\n",
      "Error al descargar https://assets-cdn.123rf.com/ui-components/assets/svg/collection.svg: cannot identify image file <_io.BytesIO object at 0x00000220320E04F0>\n",
      "Error al descargar https://assets-cdn.123rf.com/ui-components/assets/svg/gradient/premium-crown-gradient2.svg: cannot identify image file <_io.BytesIO object at 0x00000220320E0E50>\n",
      "Error al descargar https://assets-cdn.123rf.com/ui-components/assets/svg/collection.svg: cannot identify image file <_io.BytesIO object at 0x0000022030EEC450>\n",
      "Error al descargar https://assets-cdn.123rf.com/ui-components/assets/svg/collection.svg: cannot identify image file <_io.BytesIO object at 0x000002202F9622A0>\n",
      "Error al descargar https://assets-cdn.123rf.com/ui-components/assets/svg/gradient/premium-crown-gradient2.svg: cannot identify image file <_io.BytesIO object at 0x0000022030AA0720>\n",
      "Error al descargar https://assets-cdn.123rf.com/ui-components/assets/svg/collection.svg: cannot identify image file <_io.BytesIO object at 0x00000220320E18F0>\n"
     ]
    },
    {
     "name": "stderr",
     "output_type": "stream",
     "text": [
      "Procesando imágenes de https://es.123rf.com/imagenes-de-archivo/eucalipto_planta.html:  91%|█████████ | 288/317 [00:06<00:00, 46.90it/s]"
     ]
    },
    {
     "name": "stdout",
     "output_type": "stream",
     "text": [
      "Error al descargar https://assets-cdn.123rf.com/ui-components/assets/svg/gradient/premium-crown-gradient2.svg: cannot identify image file <_io.BytesIO object at 0x0000022030EEC130>\n",
      "Error al descargar https://assets-cdn.123rf.com/ui-components/assets/svg/collection.svg: cannot identify image file <_io.BytesIO object at 0x00000220320E0F90>\n",
      "Error al descargar https://assets-cdn.123rf.com/ui-components/assets/svg/gradient/premium-crown-gradient2.svg: cannot identify image file <_io.BytesIO object at 0x000002207EE92250>\n",
      "Error al descargar https://assets-cdn.123rf.com/ui-components/assets/svg/collection.svg: cannot identify image file <_io.BytesIO object at 0x0000022030EEC450>\n",
      "Error al descargar https://assets-cdn.123rf.com/ui-components/assets/svg/collection.svg: cannot identify image file <_io.BytesIO object at 0x0000022031705BC0>\n",
      "Error al descargar https://assets-cdn.123rf.com/ui-components/assets/svg/collection.svg: cannot identify image file <_io.BytesIO object at 0x0000022030E64860>\n"
     ]
    },
    {
     "name": "stderr",
     "output_type": "stream",
     "text": [
      "Procesando imágenes de https://es.123rf.com/imagenes-de-archivo/eucalipto_planta.html:  94%|█████████▍| 298/317 [00:07<00:00, 38.99it/s]"
     ]
    },
    {
     "name": "stdout",
     "output_type": "stream",
     "text": [
      "Error al descargar https://assets-cdn.123rf.com/ui-components/assets/svg/gradient/premium-crown-gradient2.svg: cannot identify image file <_io.BytesIO object at 0x00000220317049F0>\n",
      "Error al descargar https://assets-cdn.123rf.com/ui-components/assets/svg/collection.svg: cannot identify image file <_io.BytesIO object at 0x0000022030EEC540>\n",
      "Error al descargar https://assets-cdn.123rf.com/ui-components/assets/svg/collection.svg: cannot identify image file <_io.BytesIO object at 0x000002207EE92250>\n",
      "Error al descargar https://assets-cdn.123rf.com/ui-components/assets/svg/gradient/premium-crown-gradient2.svg: cannot identify image file <_io.BytesIO object at 0x0000022030EEC770>\n",
      "Error al descargar https://assets-cdn.123rf.com/ui-components/assets/svg/collection.svg: cannot identify image file <_io.BytesIO object at 0x0000022030EEC450>\n",
      "Error al descargar https://assets-cdn.123rf.com/ui-components/assets/svg/collection.svg: cannot identify image file <_io.BytesIO object at 0x0000022030E66930>\n",
      "Error al descargar https://assets-cdn.123rf.com/ui-components/assets/svg/collection.svg: cannot identify image file <_io.BytesIO object at 0x00000220320E02C0>\n"
     ]
    },
    {
     "name": "stderr",
     "output_type": "stream",
     "text": [
      "Procesando imágenes de https://es.123rf.com/imagenes-de-archivo/eucalipto_planta.html:  97%|█████████▋| 307/317 [00:07<00:00, 37.13it/s]"
     ]
    },
    {
     "name": "stdout",
     "output_type": "stream",
     "text": [
      "Error al descargar https://assets-cdn.123rf.com/ui-components/assets/svg/chevron-down.svg: cannot identify image file <_io.BytesIO object at 0x0000022030E64AE0>\n",
      "Error al descargar https://assets-cdn.123rf.com/ui-components/assets/svg/collection.svg: cannot identify image file <_io.BytesIO object at 0x0000022030EEC130>\n",
      "Error al descargar https://assets-cdn.123rf.com/ui-components/assets/svg/chevron-down.svg: cannot identify image file <_io.BytesIO object at 0x0000022030EEC770>\n",
      "Error al descargar https://assets-cdn.123rf.com/ui-components/assets/svg/facebook.svg: cannot identify image file <_io.BytesIO object at 0x0000022030E64860>\n",
      "Error al descargar https://assets-cdn.123rf.com/ui-components/assets/svg/chevron-down.svg: cannot identify image file <_io.BytesIO object at 0x0000022031705BC0>\n",
      "Error al descargar https://assets-cdn.123rf.com/ui-components/assets/svg/chevron-down.svg: cannot identify image file <_io.BytesIO object at 0x000002203119F420>\n",
      "Error al descargar https://assets-cdn.123rf.com/ui-components/assets/svg/chevron-down.svg: cannot identify image file <_io.BytesIO object at 0x000002207EE92250>\n",
      "Error al descargar https://assets-cdn.123rf.com/ui-components/assets/svg/twitter-v2.svg: cannot identify image file <_io.BytesIO object at 0x0000022030E66930>\n",
      "Error al descargar https://assets-cdn.123rf.com/ui-components/assets/svg/instagram-v2.svg: cannot identify image file <_io.BytesIO object at 0x00000220320E02C0>\n",
      "Error al descargar https://assets-cdn.123rf.com/ui-components/assets/svg/pinterest.svg: cannot identify image file <_io.BytesIO object at 0x00000220317049F0>\n"
     ]
    },
    {
     "name": "stderr",
     "output_type": "stream",
     "text": [
      "Procesando imágenes de https://es.123rf.com/imagenes-de-archivo/eucalipto_planta.html: 100%|██████████| 317/317 [00:07<00:00, 42.42it/s]"
     ]
    },
    {
     "name": "stdout",
     "output_type": "stream",
     "text": [
      "Error al descargar https://assets-cdn.123rf.com/ui-components/assets/svg/whatsapp-v3.svg: cannot identify image file <_io.BytesIO object at 0x0000022031C0E070>\n"
     ]
    },
    {
     "name": "stderr",
     "output_type": "stream",
     "text": [
      "\n"
     ]
    },
    {
     "name": "stdout",
     "output_type": "stream",
     "text": [
      "Error procesando https://depositphotos.com/es/photos/hojas-de-eucalipto.html: HTTPSConnectionPool(host='depositphotos.com', port=443): Max retries exceeded with url: /es/photos/hojas-de-eucalipto.html (Caused by ConnectTimeoutError(<urllib3.connection.HTTPSConnection object at 0x0000022031D02920>, 'Connection to depositphotos.com timed out. (connect timeout=10)'))\n",
      "Error al descargar data:image/png;base64,iVBORw0KGgoAAAANSUhEUgAAAAEAAAABCAQAAAC1HAwCAAAAC0lEQVQYV2NgYAAAAAMAAWgmWQ0AAAAASUVORK5CYII=: No connection adapters were found for 'data:image/png;base64,iVBORw0KGgoAAAANSUhEUgAAAAEAAAABCAQAAAC1HAwCAAAAC0lEQVQYV2NgYAAAAAMAAWgmWQ0AAAAASUVORK5CYII='\n"
     ]
    },
    {
     "name": "stderr",
     "output_type": "stream",
     "text": [
      "Procesando imágenes de https://www.pngwing.com/es/search?q=eucalipto:   0%|          | 0/61 [00:00<?, ?it/s]"
     ]
    },
    {
     "name": "stdout",
     "output_type": "stream",
     "text": [
      "Error al descargar data:image/png;base64,iVBORw0KGgoAAAANSUhEUgAAAAEAAAABCAQAAAC1HAwCAAAAC0lEQVQYV2NgYAAAAAMAAWgmWQ0AAAAASUVORK5CYII=: No connection adapters were found for 'data:image/png;base64,iVBORw0KGgoAAAANSUhEUgAAAAEAAAABCAQAAAC1HAwCAAAAC0lEQVQYV2NgYAAAAAMAAWgmWQ0AAAAASUVORK5CYII='\n",
      "Error al descargar data:image/png;base64,iVBORw0KGgoAAAANSUhEUgAAAAEAAAABCAQAAAC1HAwCAAAAC0lEQVQYV2NgYAAAAAMAAWgmWQ0AAAAASUVORK5CYII=: No connection adapters were found for 'data:image/png;base64,iVBORw0KGgoAAAANSUhEUgAAAAEAAAABCAQAAAC1HAwCAAAAC0lEQVQYV2NgYAAAAAMAAWgmWQ0AAAAASUVORK5CYII='\n",
      "Error al descargar data:image/png;base64,iVBORw0KGgoAAAANSUhEUgAAAAEAAAABCAQAAAC1HAwCAAAAC0lEQVQYV2NgYAAAAAMAAWgmWQ0AAAAASUVORK5CYII=: No connection adapters were found for 'data:image/png;base64,iVBORw0KGgoAAAANSUhEUgAAAAEAAAABCAQAAAC1HAwCAAAAC0lEQVQYV2NgYAAAAAMAAWgmWQ0AAAAASUVORK5CYII='\n",
      "Error al descargar data:image/png;base64,iVBORw0KGgoAAAANSUhEUgAAAAEAAAABCAQAAAC1HAwCAAAAC0lEQVQYV2NgYAAAAAMAAWgmWQ0AAAAASUVORK5CYII=: No connection adapters were found for 'data:image/png;base64,iVBORw0KGgoAAAANSUhEUgAAAAEAAAABCAQAAAC1HAwCAAAAC0lEQVQYV2NgYAAAAAMAAWgmWQ0AAAAASUVORK5CYII='\n",
      "Error al descargar data:image/png;base64,iVBORw0KGgoAAAANSUhEUgAAAAEAAAABCAQAAAC1HAwCAAAAC0lEQVQYV2NgYAAAAAMAAWgmWQ0AAAAASUVORK5CYII=: No connection adapters were found for 'data:image/png;base64,iVBORw0KGgoAAAANSUhEUgAAAAEAAAABCAQAAAC1HAwCAAAAC0lEQVQYV2NgYAAAAAMAAWgmWQ0AAAAASUVORK5CYII='\n",
      "Error al descargar data:image/png;base64,iVBORw0KGgoAAAANSUhEUgAAAAEAAAABCAQAAAC1HAwCAAAAC0lEQVQYV2NgYAAAAAMAAWgmWQ0AAAAASUVORK5CYII=: No connection adapters were found for 'data:image/png;base64,iVBORw0KGgoAAAANSUhEUgAAAAEAAAABCAQAAAC1HAwCAAAAC0lEQVQYV2NgYAAAAAMAAWgmWQ0AAAAASUVORK5CYII='\n",
      "Error al descargar data:image/png;base64,iVBORw0KGgoAAAANSUhEUgAAAAEAAAABCAQAAAC1HAwCAAAAC0lEQVQYV2NgYAAAAAMAAWgmWQ0AAAAASUVORK5CYII=: No connection adapters were found for 'data:image/png;base64,iVBORw0KGgoAAAANSUhEUgAAAAEAAAABCAQAAAC1HAwCAAAAC0lEQVQYV2NgYAAAAAMAAWgmWQ0AAAAASUVORK5CYII='\n",
      "Error al descargar data:image/png;base64,iVBORw0KGgoAAAANSUhEUgAAAAEAAAABCAQAAAC1HAwCAAAAC0lEQVQYV2NgYAAAAAMAAWgmWQ0AAAAASUVORK5CYII=: No connection adapters were found for 'data:image/png;base64,iVBORw0KGgoAAAANSUhEUgAAAAEAAAABCAQAAAC1HAwCAAAAC0lEQVQYV2NgYAAAAAMAAWgmWQ0AAAAASUVORK5CYII='\n",
      "Error al descargar data:image/png;base64,iVBORw0KGgoAAAANSUhEUgAAAAEAAAABCAQAAAC1HAwCAAAAC0lEQVQYV2NgYAAAAAMAAWgmWQ0AAAAASUVORK5CYII=: No connection adapters were found for 'data:image/png;base64,iVBORw0KGgoAAAANSUhEUgAAAAEAAAABCAQAAAC1HAwCAAAAC0lEQVQYV2NgYAAAAAMAAWgmWQ0AAAAASUVORK5CYII='\n",
      "Error al descargar data:image/png;base64,iVBORw0KGgoAAAANSUhEUgAAAAEAAAABCAQAAAC1HAwCAAAAC0lEQVQYV2NgYAAAAAMAAWgmWQ0AAAAASUVORK5CYII=: No connection adapters were found for 'data:image/png;base64,iVBORw0KGgoAAAANSUhEUgAAAAEAAAABCAQAAAC1HAwCAAAAC0lEQVQYV2NgYAAAAAMAAWgmWQ0AAAAASUVORK5CYII='\n",
      "Error al descargar data:image/png;base64,iVBORw0KGgoAAAANSUhEUgAAAAEAAAABCAQAAAC1HAwCAAAAC0lEQVQYV2NgYAAAAAMAAWgmWQ0AAAAASUVORK5CYII=: No connection adapters were found for 'data:image/png;base64,iVBORw0KGgoAAAANSUhEUgAAAAEAAAABCAQAAAC1HAwCAAAAC0lEQVQYV2NgYAAAAAMAAWgmWQ0AAAAASUVORK5CYII='\n",
      "Error al descargar data:image/png;base64,iVBORw0KGgoAAAANSUhEUgAAAAEAAAABCAQAAAC1HAwCAAAAC0lEQVQYV2NgYAAAAAMAAWgmWQ0AAAAASUVORK5CYII=: No connection adapters were found for 'data:image/png;base64,iVBORw0KGgoAAAANSUhEUgAAAAEAAAABCAQAAAC1HAwCAAAAC0lEQVQYV2NgYAAAAAMAAWgmWQ0AAAAASUVORK5CYII='\n",
      "Error al descargar data:image/png;base64,iVBORw0KGgoAAAANSUhEUgAAAAEAAAABCAQAAAC1HAwCAAAAC0lEQVQYV2NgYAAAAAMAAWgmWQ0AAAAASUVORK5CYII=: No connection adapters were found for 'data:image/png;base64,iVBORw0KGgoAAAANSUhEUgAAAAEAAAABCAQAAAC1HAwCAAAAC0lEQVQYV2NgYAAAAAMAAWgmWQ0AAAAASUVORK5CYII='\n",
      "Error al descargar data:image/png;base64,iVBORw0KGgoAAAANSUhEUgAAAAEAAAABCAQAAAC1HAwCAAAAC0lEQVQYV2NgYAAAAAMAAWgmWQ0AAAAASUVORK5CYII=: No connection adapters were found for 'data:image/png;base64,iVBORw0KGgoAAAANSUhEUgAAAAEAAAABCAQAAAC1HAwCAAAAC0lEQVQYV2NgYAAAAAMAAWgmWQ0AAAAASUVORK5CYII='\n",
      "Error al descargar data:image/png;base64,iVBORw0KGgoAAAANSUhEUgAAAAEAAAABCAQAAAC1HAwCAAAAC0lEQVQYV2NgYAAAAAMAAWgmWQ0AAAAASUVORK5CYII=: No connection adapters were found for 'data:image/png;base64,iVBORw0KGgoAAAANSUhEUgAAAAEAAAABCAQAAAC1HAwCAAAAC0lEQVQYV2NgYAAAAAMAAWgmWQ0AAAAASUVORK5CYII='\n",
      "Error al descargar data:image/png;base64,iVBORw0KGgoAAAANSUhEUgAAAAEAAAABCAQAAAC1HAwCAAAAC0lEQVQYV2NgYAAAAAMAAWgmWQ0AAAAASUVORK5CYII=: No connection adapters were found for 'data:image/png;base64,iVBORw0KGgoAAAANSUhEUgAAAAEAAAABCAQAAAC1HAwCAAAAC0lEQVQYV2NgYAAAAAMAAWgmWQ0AAAAASUVORK5CYII='\n",
      "Error al descargar data:image/png;base64,iVBORw0KGgoAAAANSUhEUgAAAAEAAAABCAQAAAC1HAwCAAAAC0lEQVQYV2NgYAAAAAMAAWgmWQ0AAAAASUVORK5CYII=: No connection adapters were found for 'data:image/png;base64,iVBORw0KGgoAAAANSUhEUgAAAAEAAAABCAQAAAC1HAwCAAAAC0lEQVQYV2NgYAAAAAMAAWgmWQ0AAAAASUVORK5CYII='\n",
      "Error al descargar data:image/png;base64,iVBORw0KGgoAAAANSUhEUgAAAAEAAAABCAQAAAC1HAwCAAAAC0lEQVQYV2NgYAAAAAMAAWgmWQ0AAAAASUVORK5CYII=: No connection adapters were found for 'data:image/png;base64,iVBORw0KGgoAAAANSUhEUgAAAAEAAAABCAQAAAC1HAwCAAAAC0lEQVQYV2NgYAAAAAMAAWgmWQ0AAAAASUVORK5CYII='\n",
      "Error al descargar data:image/png;base64,iVBORw0KGgoAAAANSUhEUgAAAAEAAAABCAQAAAC1HAwCAAAAC0lEQVQYV2NgYAAAAAMAAWgmWQ0AAAAASUVORK5CYII=: No connection adapters were found for 'data:image/png;base64,iVBORw0KGgoAAAANSUhEUgAAAAEAAAABCAQAAAC1HAwCAAAAC0lEQVQYV2NgYAAAAAMAAWgmWQ0AAAAASUVORK5CYII='\n",
      "Error al descargar data:image/png;base64,iVBORw0KGgoAAAANSUhEUgAAAAEAAAABCAQAAAC1HAwCAAAAC0lEQVQYV2NgYAAAAAMAAWgmWQ0AAAAASUVORK5CYII=: No connection adapters were found for 'data:image/png;base64,iVBORw0KGgoAAAANSUhEUgAAAAEAAAABCAQAAAC1HAwCAAAAC0lEQVQYV2NgYAAAAAMAAWgmWQ0AAAAASUVORK5CYII='\n",
      "Error al descargar data:image/png;base64,iVBORw0KGgoAAAANSUhEUgAAAAEAAAABCAQAAAC1HAwCAAAAC0lEQVQYV2NgYAAAAAMAAWgmWQ0AAAAASUVORK5CYII=: No connection adapters were found for 'data:image/png;base64,iVBORw0KGgoAAAANSUhEUgAAAAEAAAABCAQAAAC1HAwCAAAAC0lEQVQYV2NgYAAAAAMAAWgmWQ0AAAAASUVORK5CYII='\n",
      "Error al descargar data:image/png;base64,iVBORw0KGgoAAAANSUhEUgAAAAEAAAABCAQAAAC1HAwCAAAAC0lEQVQYV2NgYAAAAAMAAWgmWQ0AAAAASUVORK5CYII=: No connection adapters were found for 'data:image/png;base64,iVBORw0KGgoAAAANSUhEUgAAAAEAAAABCAQAAAC1HAwCAAAAC0lEQVQYV2NgYAAAAAMAAWgmWQ0AAAAASUVORK5CYII='\n",
      "Error al descargar data:image/png;base64,iVBORw0KGgoAAAANSUhEUgAAAAEAAAABCAQAAAC1HAwCAAAAC0lEQVQYV2NgYAAAAAMAAWgmWQ0AAAAASUVORK5CYII=: No connection adapters were found for 'data:image/png;base64,iVBORw0KGgoAAAANSUhEUgAAAAEAAAABCAQAAAC1HAwCAAAAC0lEQVQYV2NgYAAAAAMAAWgmWQ0AAAAASUVORK5CYII='\n",
      "Error al descargar data:image/png;base64,iVBORw0KGgoAAAANSUhEUgAAAAEAAAABCAQAAAC1HAwCAAAAC0lEQVQYV2NgYAAAAAMAAWgmWQ0AAAAASUVORK5CYII=: No connection adapters were found for 'data:image/png;base64,iVBORw0KGgoAAAANSUhEUgAAAAEAAAABCAQAAAC1HAwCAAAAC0lEQVQYV2NgYAAAAAMAAWgmWQ0AAAAASUVORK5CYII='\n",
      "Error al descargar data:image/png;base64,iVBORw0KGgoAAAANSUhEUgAAAAEAAAABCAQAAAC1HAwCAAAAC0lEQVQYV2NgYAAAAAMAAWgmWQ0AAAAASUVORK5CYII=: No connection adapters were found for 'data:image/png;base64,iVBORw0KGgoAAAANSUhEUgAAAAEAAAABCAQAAAC1HAwCAAAAC0lEQVQYV2NgYAAAAAMAAWgmWQ0AAAAASUVORK5CYII='\n",
      "Error al descargar data:image/png;base64,iVBORw0KGgoAAAANSUhEUgAAAAEAAAABCAQAAAC1HAwCAAAAC0lEQVQYV2NgYAAAAAMAAWgmWQ0AAAAASUVORK5CYII=: No connection adapters were found for 'data:image/png;base64,iVBORw0KGgoAAAANSUhEUgAAAAEAAAABCAQAAAC1HAwCAAAAC0lEQVQYV2NgYAAAAAMAAWgmWQ0AAAAASUVORK5CYII='\n",
      "Error al descargar data:image/png;base64,iVBORw0KGgoAAAANSUhEUgAAAAEAAAABCAQAAAC1HAwCAAAAC0lEQVQYV2NgYAAAAAMAAWgmWQ0AAAAASUVORK5CYII=: No connection adapters were found for 'data:image/png;base64,iVBORw0KGgoAAAANSUhEUgAAAAEAAAABCAQAAAC1HAwCAAAAC0lEQVQYV2NgYAAAAAMAAWgmWQ0AAAAASUVORK5CYII='\n",
      "Error al descargar data:image/png;base64,iVBORw0KGgoAAAANSUhEUgAAAAEAAAABCAQAAAC1HAwCAAAAC0lEQVQYV2NgYAAAAAMAAWgmWQ0AAAAASUVORK5CYII=: No connection adapters were found for 'data:image/png;base64,iVBORw0KGgoAAAANSUhEUgAAAAEAAAABCAQAAAC1HAwCAAAAC0lEQVQYV2NgYAAAAAMAAWgmWQ0AAAAASUVORK5CYII='\n",
      "Error al descargar data:image/png;base64,iVBORw0KGgoAAAANSUhEUgAAAAEAAAABCAQAAAC1HAwCAAAAC0lEQVQYV2NgYAAAAAMAAWgmWQ0AAAAASUVORK5CYII=: No connection adapters were found for 'data:image/png;base64,iVBORw0KGgoAAAANSUhEUgAAAAEAAAABCAQAAAC1HAwCAAAAC0lEQVQYV2NgYAAAAAMAAWgmWQ0AAAAASUVORK5CYII='\n",
      "Error al descargar data:image/png;base64,iVBORw0KGgoAAAANSUhEUgAAAAEAAAABCAQAAAC1HAwCAAAAC0lEQVQYV2NgYAAAAAMAAWgmWQ0AAAAASUVORK5CYII=: No connection adapters were found for 'data:image/png;base64,iVBORw0KGgoAAAANSUhEUgAAAAEAAAABCAQAAAC1HAwCAAAAC0lEQVQYV2NgYAAAAAMAAWgmWQ0AAAAASUVORK5CYII='\n",
      "Error al descargar data:image/png;base64,iVBORw0KGgoAAAANSUhEUgAAAAEAAAABCAQAAAC1HAwCAAAAC0lEQVQYV2NgYAAAAAMAAWgmWQ0AAAAASUVORK5CYII=: No connection adapters were found for 'data:image/png;base64,iVBORw0KGgoAAAANSUhEUgAAAAEAAAABCAQAAAC1HAwCAAAAC0lEQVQYV2NgYAAAAAMAAWgmWQ0AAAAASUVORK5CYII='\n",
      "Error al descargar data:image/png;base64,iVBORw0KGgoAAAANSUhEUgAAAAEAAAABCAQAAAC1HAwCAAAAC0lEQVQYV2NgYAAAAAMAAWgmWQ0AAAAASUVORK5CYII=: No connection adapters were found for 'data:image/png;base64,iVBORw0KGgoAAAANSUhEUgAAAAEAAAABCAQAAAC1HAwCAAAAC0lEQVQYV2NgYAAAAAMAAWgmWQ0AAAAASUVORK5CYII='\n",
      "Error al descargar data:image/png;base64,iVBORw0KGgoAAAANSUhEUgAAAAEAAAABCAQAAAC1HAwCAAAAC0lEQVQYV2NgYAAAAAMAAWgmWQ0AAAAASUVORK5CYII=: No connection adapters were found for 'data:image/png;base64,iVBORw0KGgoAAAANSUhEUgAAAAEAAAABCAQAAAC1HAwCAAAAC0lEQVQYV2NgYAAAAAMAAWgmWQ0AAAAASUVORK5CYII='\n",
      "Error al descargar data:image/png;base64,iVBORw0KGgoAAAANSUhEUgAAAAEAAAABCAQAAAC1HAwCAAAAC0lEQVQYV2NgYAAAAAMAAWgmWQ0AAAAASUVORK5CYII=: No connection adapters were found for 'data:image/png;base64,iVBORw0KGgoAAAANSUhEUgAAAAEAAAABCAQAAAC1HAwCAAAAC0lEQVQYV2NgYAAAAAMAAWgmWQ0AAAAASUVORK5CYII='\n",
      "Error al descargar data:image/png;base64,iVBORw0KGgoAAAANSUhEUgAAAAEAAAABCAQAAAC1HAwCAAAAC0lEQVQYV2NgYAAAAAMAAWgmWQ0AAAAASUVORK5CYII=: No connection adapters were found for 'data:image/png;base64,iVBORw0KGgoAAAANSUhEUgAAAAEAAAABCAQAAAC1HAwCAAAAC0lEQVQYV2NgYAAAAAMAAWgmWQ0AAAAASUVORK5CYII='\n",
      "Error al descargar data:image/png;base64,iVBORw0KGgoAAAANSUhEUgAAAAEAAAABCAQAAAC1HAwCAAAAC0lEQVQYV2NgYAAAAAMAAWgmWQ0AAAAASUVORK5CYII=: No connection adapters were found for 'data:image/png;base64,iVBORw0KGgoAAAANSUhEUgAAAAEAAAABCAQAAAC1HAwCAAAAC0lEQVQYV2NgYAAAAAMAAWgmWQ0AAAAASUVORK5CYII='\n",
      "Error al descargar data:image/png;base64,iVBORw0KGgoAAAANSUhEUgAAAAEAAAABCAQAAAC1HAwCAAAAC0lEQVQYV2NgYAAAAAMAAWgmWQ0AAAAASUVORK5CYII=: No connection adapters were found for 'data:image/png;base64,iVBORw0KGgoAAAANSUhEUgAAAAEAAAABCAQAAAC1HAwCAAAAC0lEQVQYV2NgYAAAAAMAAWgmWQ0AAAAASUVORK5CYII='\n",
      "Error al descargar data:image/png;base64,iVBORw0KGgoAAAANSUhEUgAAAAEAAAABCAQAAAC1HAwCAAAAC0lEQVQYV2NgYAAAAAMAAWgmWQ0AAAAASUVORK5CYII=: No connection adapters were found for 'data:image/png;base64,iVBORw0KGgoAAAANSUhEUgAAAAEAAAABCAQAAAC1HAwCAAAAC0lEQVQYV2NgYAAAAAMAAWgmWQ0AAAAASUVORK5CYII='\n",
      "Error al descargar data:image/png;base64,iVBORw0KGgoAAAANSUhEUgAAAAEAAAABCAQAAAC1HAwCAAAAC0lEQVQYV2NgYAAAAAMAAWgmWQ0AAAAASUVORK5CYII=: No connection adapters were found for 'data:image/png;base64,iVBORw0KGgoAAAANSUhEUgAAAAEAAAABCAQAAAC1HAwCAAAAC0lEQVQYV2NgYAAAAAMAAWgmWQ0AAAAASUVORK5CYII='\n",
      "Error al descargar data:image/png;base64,iVBORw0KGgoAAAANSUhEUgAAAAEAAAABCAQAAAC1HAwCAAAAC0lEQVQYV2NgYAAAAAMAAWgmWQ0AAAAASUVORK5CYII=: No connection adapters were found for 'data:image/png;base64,iVBORw0KGgoAAAANSUhEUgAAAAEAAAABCAQAAAC1HAwCAAAAC0lEQVQYV2NgYAAAAAMAAWgmWQ0AAAAASUVORK5CYII='\n",
      "Error al descargar data:image/png;base64,iVBORw0KGgoAAAANSUhEUgAAAAEAAAABCAQAAAC1HAwCAAAAC0lEQVQYV2NgYAAAAAMAAWgmWQ0AAAAASUVORK5CYII=: No connection adapters were found for 'data:image/png;base64,iVBORw0KGgoAAAANSUhEUgAAAAEAAAABCAQAAAC1HAwCAAAAC0lEQVQYV2NgYAAAAAMAAWgmWQ0AAAAASUVORK5CYII='\n",
      "Error al descargar data:image/png;base64,iVBORw0KGgoAAAANSUhEUgAAAAEAAAABCAQAAAC1HAwCAAAAC0lEQVQYV2NgYAAAAAMAAWgmWQ0AAAAASUVORK5CYII=: No connection adapters were found for 'data:image/png;base64,iVBORw0KGgoAAAANSUhEUgAAAAEAAAABCAQAAAC1HAwCAAAAC0lEQVQYV2NgYAAAAAMAAWgmWQ0AAAAASUVORK5CYII='\n",
      "Error al descargar data:image/png;base64,iVBORw0KGgoAAAANSUhEUgAAAAEAAAABCAQAAAC1HAwCAAAAC0lEQVQYV2NgYAAAAAMAAWgmWQ0AAAAASUVORK5CYII=: No connection adapters were found for 'data:image/png;base64,iVBORw0KGgoAAAANSUhEUgAAAAEAAAABCAQAAAC1HAwCAAAAC0lEQVQYV2NgYAAAAAMAAWgmWQ0AAAAASUVORK5CYII='\n",
      "Error al descargar data:image/png;base64,iVBORw0KGgoAAAANSUhEUgAAAAEAAAABCAQAAAC1HAwCAAAAC0lEQVQYV2NgYAAAAAMAAWgmWQ0AAAAASUVORK5CYII=: No connection adapters were found for 'data:image/png;base64,iVBORw0KGgoAAAANSUhEUgAAAAEAAAABCAQAAAC1HAwCAAAAC0lEQVQYV2NgYAAAAAMAAWgmWQ0AAAAASUVORK5CYII='\n",
      "Error al descargar data:image/png;base64,iVBORw0KGgoAAAANSUhEUgAAAAEAAAABCAQAAAC1HAwCAAAAC0lEQVQYV2NgYAAAAAMAAWgmWQ0AAAAASUVORK5CYII=: No connection adapters were found for 'data:image/png;base64,iVBORw0KGgoAAAANSUhEUgAAAAEAAAABCAQAAAC1HAwCAAAAC0lEQVQYV2NgYAAAAAMAAWgmWQ0AAAAASUVORK5CYII='\n",
      "Error al descargar data:image/png;base64,iVBORw0KGgoAAAANSUhEUgAAAAEAAAABCAQAAAC1HAwCAAAAC0lEQVQYV2NgYAAAAAMAAWgmWQ0AAAAASUVORK5CYII=: No connection adapters were found for 'data:image/png;base64,iVBORw0KGgoAAAANSUhEUgAAAAEAAAABCAQAAAC1HAwCAAAAC0lEQVQYV2NgYAAAAAMAAWgmWQ0AAAAASUVORK5CYII='\n",
      "Error al descargar data:image/png;base64,iVBORw0KGgoAAAANSUhEUgAAAAEAAAABCAQAAAC1HAwCAAAAC0lEQVQYV2NgYAAAAAMAAWgmWQ0AAAAASUVORK5CYII=: No connection adapters were found for 'data:image/png;base64,iVBORw0KGgoAAAANSUhEUgAAAAEAAAABCAQAAAC1HAwCAAAAC0lEQVQYV2NgYAAAAAMAAWgmWQ0AAAAASUVORK5CYII='\n",
      "Error al descargar data:image/png;base64,iVBORw0KGgoAAAANSUhEUgAAAAEAAAABCAQAAAC1HAwCAAAAC0lEQVQYV2NgYAAAAAMAAWgmWQ0AAAAASUVORK5CYII=: No connection adapters were found for 'data:image/png;base64,iVBORw0KGgoAAAANSUhEUgAAAAEAAAABCAQAAAC1HAwCAAAAC0lEQVQYV2NgYAAAAAMAAWgmWQ0AAAAASUVORK5CYII='\n",
      "Error al descargar data:image/png;base64,iVBORw0KGgoAAAANSUhEUgAAAAEAAAABCAQAAAC1HAwCAAAAC0lEQVQYV2NgYAAAAAMAAWgmWQ0AAAAASUVORK5CYII=: No connection adapters were found for 'data:image/png;base64,iVBORw0KGgoAAAANSUhEUgAAAAEAAAABCAQAAAC1HAwCAAAAC0lEQVQYV2NgYAAAAAMAAWgmWQ0AAAAASUVORK5CYII='\n",
      "Error al descargar data:image/png;base64,iVBORw0KGgoAAAANSUhEUgAAAAEAAAABCAQAAAC1HAwCAAAAC0lEQVQYV2NgYAAAAAMAAWgmWQ0AAAAASUVORK5CYII=: No connection adapters were found for 'data:image/png;base64,iVBORw0KGgoAAAANSUhEUgAAAAEAAAABCAQAAAC1HAwCAAAAC0lEQVQYV2NgYAAAAAMAAWgmWQ0AAAAASUVORK5CYII='\n",
      "Error al descargar data:image/png;base64,iVBORw0KGgoAAAANSUhEUgAAAAEAAAABCAQAAAC1HAwCAAAAC0lEQVQYV2NgYAAAAAMAAWgmWQ0AAAAASUVORK5CYII=: No connection adapters were found for 'data:image/png;base64,iVBORw0KGgoAAAANSUhEUgAAAAEAAAABCAQAAAC1HAwCAAAAC0lEQVQYV2NgYAAAAAMAAWgmWQ0AAAAASUVORK5CYII='\n",
      "Error al descargar data:image/png;base64,iVBORw0KGgoAAAANSUhEUgAAAAEAAAABCAQAAAC1HAwCAAAAC0lEQVQYV2NgYAAAAAMAAWgmWQ0AAAAASUVORK5CYII=: No connection adapters were found for 'data:image/png;base64,iVBORw0KGgoAAAANSUhEUgAAAAEAAAABCAQAAAC1HAwCAAAAC0lEQVQYV2NgYAAAAAMAAWgmWQ0AAAAASUVORK5CYII='\n",
      "Error al descargar data:image/png;base64,iVBORw0KGgoAAAANSUhEUgAAAAEAAAABCAQAAAC1HAwCAAAAC0lEQVQYV2NgYAAAAAMAAWgmWQ0AAAAASUVORK5CYII=: No connection adapters were found for 'data:image/png;base64,iVBORw0KGgoAAAANSUhEUgAAAAEAAAABCAQAAAC1HAwCAAAAC0lEQVQYV2NgYAAAAAMAAWgmWQ0AAAAASUVORK5CYII='\n",
      "Error al descargar data:image/png;base64,iVBORw0KGgoAAAANSUhEUgAAAAEAAAABCAQAAAC1HAwCAAAAC0lEQVQYV2NgYAAAAAMAAWgmWQ0AAAAASUVORK5CYII=: No connection adapters were found for 'data:image/png;base64,iVBORw0KGgoAAAANSUhEUgAAAAEAAAABCAQAAAC1HAwCAAAAC0lEQVQYV2NgYAAAAAMAAWgmWQ0AAAAASUVORK5CYII='\n",
      "Error al descargar data:image/png;base64,iVBORw0KGgoAAAANSUhEUgAAAAEAAAABCAQAAAC1HAwCAAAAC0lEQVQYV2NgYAAAAAMAAWgmWQ0AAAAASUVORK5CYII=: No connection adapters were found for 'data:image/png;base64,iVBORw0KGgoAAAANSUhEUgAAAAEAAAABCAQAAAC1HAwCAAAAC0lEQVQYV2NgYAAAAAMAAWgmWQ0AAAAASUVORK5CYII='\n",
      "Error al descargar data:image/png;base64,iVBORw0KGgoAAAANSUhEUgAAAAEAAAABCAQAAAC1HAwCAAAAC0lEQVQYV2NgYAAAAAMAAWgmWQ0AAAAASUVORK5CYII=: No connection adapters were found for 'data:image/png;base64,iVBORw0KGgoAAAANSUhEUgAAAAEAAAABCAQAAAC1HAwCAAAAC0lEQVQYV2NgYAAAAAMAAWgmWQ0AAAAASUVORK5CYII='\n",
      "Error al descargar data:image/png;base64,iVBORw0KGgoAAAANSUhEUgAAAAEAAAABCAQAAAC1HAwCAAAAC0lEQVQYV2NgYAAAAAMAAWgmWQ0AAAAASUVORK5CYII=: No connection adapters were found for 'data:image/png;base64,iVBORw0KGgoAAAANSUhEUgAAAAEAAAABCAQAAAC1HAwCAAAAC0lEQVQYV2NgYAAAAAMAAWgmWQ0AAAAASUVORK5CYII='\n",
      "Error al descargar data:image/png;base64,iVBORw0KGgoAAAANSUhEUgAAAAEAAAABCAQAAAC1HAwCAAAAC0lEQVQYV2NgYAAAAAMAAWgmWQ0AAAAASUVORK5CYII=: No connection adapters were found for 'data:image/png;base64,iVBORw0KGgoAAAANSUhEUgAAAAEAAAABCAQAAAC1HAwCAAAAC0lEQVQYV2NgYAAAAAMAAWgmWQ0AAAAASUVORK5CYII='\n",
      "Error al descargar data:image/png;base64,iVBORw0KGgoAAAANSUhEUgAAAAEAAAABCAQAAAC1HAwCAAAAC0lEQVQYV2NgYAAAAAMAAWgmWQ0AAAAASUVORK5CYII=: No connection adapters were found for 'data:image/png;base64,iVBORw0KGgoAAAANSUhEUgAAAAEAAAABCAQAAAC1HAwCAAAAC0lEQVQYV2NgYAAAAAMAAWgmWQ0AAAAASUVORK5CYII='\n"
     ]
    },
    {
     "name": "stderr",
     "output_type": "stream",
     "text": [
      "Procesando imágenes de https://www.pngwing.com/es/search?q=eucalipto: 100%|██████████| 61/61 [00:00<00:00, 242.94it/s]"
     ]
    },
    {
     "name": "stdout",
     "output_type": "stream",
     "text": [
      "Error al descargar https://www.pngwing.com/public/css/pngwing.svg: cannot identify image file <_io.BytesIO object at 0x0000022030EEC540>\n"
     ]
    },
    {
     "name": "stderr",
     "output_type": "stream",
     "text": [
      "\n",
      "Procesando imágenes de https://es.123rf.com/imagenes-de-archivo/eucalipto_planta.html:   3%|▎         | 11/317 [00:00<00:08, 36.69it/s]"
     ]
    },
    {
     "name": "stdout",
     "output_type": "stream",
     "text": [
      "Error al descargar https://assets-cdn.123rf.com/ui-components/assets/svg/gradient/123rf-logo-gradient.svg: cannot identify image file <_io.BytesIO object at 0x00000220323A6ED0>\n",
      "Error al descargar https://assets-cdn.123rf.com/ui-components/assets/svg/chevron-down.svg: cannot identify image file <_io.BytesIO object at 0x0000022030EEC770>\n",
      "Error al descargar https://assets-cdn.123rf.com/ui-components/assets/svg/ai-img-generator.svg: cannot identify image file <_io.BytesIO object at 0x0000022030EEC450>\n",
      "Error al descargar https://assets-cdn.123rf.com/ui-components/assets/svg/ai-img-upscaler.svg: cannot identify image file <_io.BytesIO object at 0x0000022030AA0720>\n",
      "Error al descargar https://assets-cdn.123rf.com/ui-components/assets/svg/ai-sketch.svg: cannot identify image file <_io.BytesIO object at 0x00000220323A7BA0>\n",
      "Error al descargar https://assets-cdn.123rf.com/ui-components/assets/svg/ai-face-swap.svg: cannot identify image file <_io.BytesIO object at 0x0000022031705BC0>\n",
      "Error al descargar https://assets-cdn.123rf.com/ui-components/assets/svg/ai-generative-fill.svg: cannot identify image file <_io.BytesIO object at 0x00000220323A4400>\n"
     ]
    },
    {
     "name": "stderr",
     "output_type": "stream",
     "text": [
      "Procesando imágenes de https://es.123rf.com/imagenes-de-archivo/eucalipto_planta.html:   7%|▋         | 22/317 [00:00<00:07, 39.48it/s]"
     ]
    },
    {
     "name": "stdout",
     "output_type": "stream",
     "text": [
      "Error al descargar https://assets-cdn.123rf.com/ui-components/assets/svg/ai-bg-blur.svg: cannot identify image file <_io.BytesIO object at 0x00000220323A6110>\n",
      "Error al descargar https://assets-cdn.123rf.com/ui-components/assets/svg/ai-bg-remix.svg: cannot identify image file <_io.BytesIO object at 0x0000022030EEC770>\n",
      "Error al descargar https://assets-cdn.123rf.com/ui-components/assets/svg/ai-img-extender.svg: cannot identify image file <_io.BytesIO object at 0x0000022030AA0720>\n",
      "Error al descargar https://assets-cdn.123rf.com/ui-components/assets/svg/ai-writer.svg: cannot identify image file <_io.BytesIO object at 0x0000022031705BC0>\n",
      "Error al descargar https://assets-cdn.123rf.com/ui-components/assets/svg/ai-bg-removal.svg: cannot identify image file <_io.BytesIO object at 0x000002202F9622A0>\n"
     ]
    },
    {
     "name": "stderr",
     "output_type": "stream",
     "text": [
      "Procesando imágenes de https://es.123rf.com/imagenes-de-archivo/eucalipto_planta.html:   9%|▉         | 30/317 [00:00<00:06, 46.56it/s]"
     ]
    },
    {
     "name": "stdout",
     "output_type": "stream",
     "text": [
      "Error al descargar https://assets-cdn.123rf.com/ui-components/assets/svg/chevron-down.svg: cannot identify image file <_io.BytesIO object at 0x0000022032430A90>\n",
      "Error al descargar https://assets-cdn.123rf.com/ui-components/assets/svg/chevron-down.svg: cannot identify image file <_io.BytesIO object at 0x000002207EE92250>\n",
      "Error al descargar https://assets-cdn.123rf.com/ui-components/assets/svg/tick.svg: cannot identify image file <_io.BytesIO object at 0x00000220323A7290>\n",
      "Error al descargar https://assets-cdn.123rf.com/ui-components/assets/svg/tick.svg: cannot identify image file <_io.BytesIO object at 0x0000022030E64860>\n",
      "Error al descargar https://assets-cdn.123rf.com/ui-components/assets/svg/tick.svg: cannot identify image file <_io.BytesIO object at 0x0000022030EEC770>\n",
      "Error al descargar https://assets-cdn.123rf.com/ui-components/assets/svg/tick.svg: cannot identify image file <_io.BytesIO object at 0x0000022030AA0720>\n",
      "Error al descargar https://assets-cdn.123rf.com/ui-components/assets/images/plus-upsell-ai-v3.png: cannot write mode P as JPEG\n",
      "Error al descargar https://assets-cdn.123rf.com/ui-components/assets/svg/tick.svg: cannot identify image file <_io.BytesIO object at 0x0000022031705BC0>\n",
      "Error al descargar https://assets-cdn.123rf.com/ui-components/assets/svg/tick.svg: cannot identify image file <_io.BytesIO object at 0x0000022030E2D620>\n",
      "Error al descargar https://assets-cdn.123rf.com/ui-components/assets/svg/tick.svg: cannot identify image file <_io.BytesIO object at 0x000002202F9622A0>\n"
     ]
    },
    {
     "name": "stderr",
     "output_type": "stream",
     "text": [
      "Procesando imágenes de https://es.123rf.com/imagenes-de-archivo/eucalipto_planta.html:  13%|█▎        | 41/317 [00:01<00:06, 44.91it/s]"
     ]
    },
    {
     "name": "stdout",
     "output_type": "stream",
     "text": [
      "Error al descargar https://assets-cdn.123rf.com/ui-components/assets/svg/tick.svg: cannot identify image file <_io.BytesIO object at 0x000002203119F420>\n",
      "Error al descargar https://assets-cdn.123rf.com/ui-components/assets/svg/tick.svg: cannot identify image file <_io.BytesIO object at 0x000002207EE92250>\n",
      "Error al descargar https://assets-cdn.123rf.com/ui-components/assets/svg/tick.svg: cannot identify image file <_io.BytesIO object at 0x00000220323A7BA0>\n",
      "Error al descargar https://assets-cdn.123rf.com/ui-components/assets/svg/tick.svg: cannot identify image file <_io.BytesIO object at 0x00000220323A50D0>\n",
      "Error al descargar https://assets-cdn.123rf.com/ui-components/assets/svg/tick.svg: cannot identify image file <_io.BytesIO object at 0x0000022031C0EB10>\n",
      "Error al descargar https://assets-cdn.123rf.com/ui-components/assets/svg/tick.svg: cannot identify image file <_io.BytesIO object at 0x00000220320E1120>\n",
      "Error al descargar https://assets-cdn.123rf.com/ui-components/assets/svg/tick.svg: cannot identify image file <_io.BytesIO object at 0x00000220320E1E40>\n",
      "Error al descargar https://assets-cdn.123rf.com/ui-components/assets/svg/tick.svg: cannot identify image file <_io.BytesIO object at 0x0000022031705BC0>\n",
      "Error al descargar https://assets-cdn.123rf.com/ui-components/assets/svg/menu.svg: cannot identify image file <_io.BytesIO object at 0x00000220320E04F0>\n",
      "Error al descargar https://assets-cdn.123rf.com/ui-components/assets/svg/camera.svg: cannot identify image file <_io.BytesIO object at 0x000002202F9622A0>\n"
     ]
    },
    {
     "name": "stderr",
     "output_type": "stream",
     "text": [
      "Procesando imágenes de https://es.123rf.com/imagenes-de-archivo/eucalipto_planta.html:  16%|█▋        | 52/317 [00:01<00:06, 42.97it/s]"
     ]
    },
    {
     "name": "stdout",
     "output_type": "stream",
     "text": [
      "Error al descargar https://assets-cdn.123rf.com/ui-components/assets/svg/upload.svg: cannot identify image file <_io.BytesIO object at 0x00000220323A69D0>\n",
      "Error al descargar https://assets-cdn.123rf.com/ui-components/assets/svg/close.svg: cannot identify image file <_io.BytesIO object at 0x00000220323A4C70>\n",
      "Error al descargar https://assets-cdn.123rf.com/ui-components/assets/svg/all-images.svg: cannot identify image file <_io.BytesIO object at 0x00000220323A7BA0>\n",
      "Error al descargar https://assets-cdn.123rf.com/ui-components/assets/svg/close.svg: cannot identify image file <_io.BytesIO object at 0x0000022031C0EBB0>\n",
      "Error al descargar https://assets-cdn.123rf.com/ui-components/assets/svg/chevron-down.svg: cannot identify image file <_io.BytesIO object at 0x00000220323A7C40>\n",
      "Error al descargar https://assets-cdn.123rf.com/ui-components/assets/svg/premium.svg: cannot identify image file <_io.BytesIO object at 0x00000220320E0450>\n",
      "Error al descargar https://assets-cdn.123rf.com/ui-components/assets/svg/camera.svg: cannot identify image file <_io.BytesIO object at 0x0000022030E64860>\n",
      "Error al descargar https://assets-cdn.123rf.com/ui-components/assets/svg/all-images.svg: cannot identify image file <_io.BytesIO object at 0x0000022031705BC0>\n",
      "Error al descargar https://assets-cdn.123rf.com/ui-components/assets/svg/photos.svg: cannot identify image file <_io.BytesIO object at 0x000002203114D300>\n",
      "Error al descargar https://assets-cdn.123rf.com/ui-components/assets/svg/vector.svg: cannot identify image file <_io.BytesIO object at 0x00000220320E1030>\n"
     ]
    },
    {
     "name": "stderr",
     "output_type": "stream",
     "text": [
      "Procesando imágenes de https://es.123rf.com/imagenes-de-archivo/eucalipto_planta.html:  20%|█▉        | 62/317 [00:01<00:06, 42.29it/s]"
     ]
    },
    {
     "name": "stdout",
     "output_type": "stream",
     "text": [
      "Error al descargar https://assets-cdn.123rf.com/ui-components/assets/svg/font-v2.svg: cannot identify image file <_io.BytesIO object at 0x0000022030DA2F20>\n",
      "Error al descargar https://assets-cdn.123rf.com/ui-components/assets/svg/audio.svg: cannot identify image file <_io.BytesIO object at 0x000002203119F420>\n",
      "Error al descargar https://assets-cdn.123rf.com/ui-components/assets/svg/footage.svg: cannot identify image file <_io.BytesIO object at 0x00000220323A58F0>\n",
      "Error al descargar https://assets-cdn.123rf.com/ui-components/assets/svg/plus.svg: cannot identify image file <_io.BytesIO object at 0x00000220323A6070>\n",
      "Error al descargar https://assets-cdn.123rf.com/ui-components/assets/svg/ai-img-generator.svg: cannot identify image file <_io.BytesIO object at 0x00000220323A5710>\n",
      "Error al descargar https://assets-cdn.123rf.com/ui-components/assets/svg/free.svg: cannot identify image file <_io.BytesIO object at 0x00000220320E1E40>\n",
      "Error al descargar https://assets-cdn.123rf.com/ui-components/assets/svg/search.svg: cannot identify image file <_io.BytesIO object at 0x00000220320E1120>\n",
      "Error al descargar https://assets-cdn.123rf.com/ui-components/assets/svg/gradient/premium-crown-gradient2.svg: cannot identify image file <_io.BytesIO object at 0x0000022031C0D490>\n",
      "Error al descargar https://assets-cdn.123rf.com/ui-components/assets/svg/collection.svg: cannot identify image file <_io.BytesIO object at 0x000002202F9622A0>\n"
     ]
    },
    {
     "name": "stderr",
     "output_type": "stream",
     "text": [
      "Procesando imágenes de https://es.123rf.com/imagenes-de-archivo/eucalipto_planta.html:  23%|██▎       | 72/317 [00:01<00:05, 42.49it/s]"
     ]
    },
    {
     "name": "stdout",
     "output_type": "stream",
     "text": [
      "Error al descargar https://assets-cdn.123rf.com/ui-components/assets/svg/collection.svg: cannot identify image file <_io.BytesIO object at 0x00000220323A79C0>\n",
      "Error al descargar https://assets-cdn.123rf.com/ui-components/assets/svg/gradient/premium-crown-gradient2.svg: cannot identify image file <_io.BytesIO object at 0x000002202F16D800>\n",
      "Error al descargar https://assets-cdn.123rf.com/ui-components/assets/svg/collection.svg: cannot identify image file <_io.BytesIO object at 0x00000220323A5EE0>\n",
      "Error al descargar https://assets-cdn.123rf.com/ui-components/assets/svg/gradient/premium-crown-gradient2.svg: cannot identify image file <_io.BytesIO object at 0x00000220323A7380>\n",
      "Error al descargar https://assets-cdn.123rf.com/ui-components/assets/svg/gradient/premium-crown-gradient2.svg: cannot identify image file <_io.BytesIO object at 0x000002203114D300>\n",
      "Error al descargar https://assets-cdn.123rf.com/ui-components/assets/svg/collection.svg: cannot identify image file <_io.BytesIO object at 0x0000022031705BC0>\n",
      "Error al descargar https://assets-cdn.123rf.com/ui-components/assets/svg/collection.svg: cannot identify image file <_io.BytesIO object at 0x0000022030AA0720>\n"
     ]
    },
    {
     "name": "stderr",
     "output_type": "stream",
     "text": [
      "Procesando imágenes de https://es.123rf.com/imagenes-de-archivo/eucalipto_planta.html:  24%|██▍       | 77/317 [00:01<00:06, 37.43it/s]"
     ]
    },
    {
     "name": "stdout",
     "output_type": "stream",
     "text": [
      "Error al descargar https://assets-cdn.123rf.com/ui-components/assets/svg/gradient/premium-crown-gradient2.svg: cannot identify image file <_io.BytesIO object at 0x0000022030EEC450>\n",
      "Error al descargar https://assets-cdn.123rf.com/ui-components/assets/svg/collection.svg: cannot identify image file <_io.BytesIO object at 0x0000022030E64860>\n",
      "Error al descargar https://assets-cdn.123rf.com/ui-components/assets/svg/collection.svg: cannot identify image file <_io.BytesIO object at 0x0000022031C0EBB0>\n",
      "Error al descargar https://assets-cdn.123rf.com/ui-components/assets/svg/gradient/premium-crown-gradient2.svg: cannot identify image file <_io.BytesIO object at 0x00000220320E0180>\n",
      "Error al descargar https://assets-cdn.123rf.com/ui-components/assets/svg/gradient/premium-crown-gradient2.svg: cannot identify image file <_io.BytesIO object at 0x000002203114D300>\n",
      "Error al descargar https://assets-cdn.123rf.com/ui-components/assets/svg/collection.svg: cannot identify image file <_io.BytesIO object at 0x00000220324235B0>\n",
      "Error al descargar https://assets-cdn.123rf.com/ui-components/assets/svg/collection.svg: cannot identify image file <_io.BytesIO object at 0x0000022032423F10>\n"
     ]
    },
    {
     "name": "stderr",
     "output_type": "stream",
     "text": [
      "Procesando imágenes de https://es.123rf.com/imagenes-de-archivo/eucalipto_planta.html:  27%|██▋       | 86/317 [00:02<00:05, 42.17it/s]"
     ]
    },
    {
     "name": "stdout",
     "output_type": "stream",
     "text": [
      "Error al descargar https://assets-cdn.123rf.com/ui-components/assets/svg/collection.svg: cannot identify image file <_io.BytesIO object at 0x000002202F16D800>\n",
      "Error al descargar https://assets-cdn.123rf.com/ui-components/assets/svg/gradient/premium-crown-gradient2.svg: cannot identify image file <_io.BytesIO object at 0x00000220323A6660>\n",
      "Error al descargar https://assets-cdn.123rf.com/ui-components/assets/svg/gradient/premium-crown-gradient2.svg: cannot identify image file <_io.BytesIO object at 0x0000022032422D40>\n",
      "Error al descargar https://assets-cdn.123rf.com/ui-components/assets/svg/collection.svg: cannot identify image file <_io.BytesIO object at 0x000002203119F420>\n"
     ]
    },
    {
     "name": "stderr",
     "output_type": "stream",
     "text": [
      "Procesando imágenes de https://es.123rf.com/imagenes-de-archivo/eucalipto_planta.html:  32%|███▏      | 100/317 [00:02<00:04, 43.62it/s]"
     ]
    },
    {
     "name": "stdout",
     "output_type": "stream",
     "text": [
      "Error al descargar https://assets-cdn.123rf.com/ui-components/assets/svg/collection.svg: cannot identify image file <_io.BytesIO object at 0x000002207EE92250>\n",
      "Error al descargar https://assets-cdn.123rf.com/ui-components/assets/svg/gradient/premium-crown-gradient2.svg: cannot identify image file <_io.BytesIO object at 0x0000022031705BC0>\n",
      "Error al descargar https://assets-cdn.123rf.com/ui-components/assets/svg/gradient/premium-crown-gradient2.svg: cannot identify image file <_io.BytesIO object at 0x0000022030E64860>\n",
      "Error al descargar https://assets-cdn.123rf.com/ui-components/assets/svg/collection.svg: cannot identify image file <_io.BytesIO object at 0x0000022030EEC450>\n",
      "Error al descargar https://assets-cdn.123rf.com/ui-components/assets/svg/collection.svg: cannot identify image file <_io.BytesIO object at 0x0000022030AA0720>\n",
      "Error al descargar https://assets-cdn.123rf.com/ui-components/assets/svg/collection.svg: cannot identify image file <_io.BytesIO object at 0x00000220320E0450>\n",
      "Error al descargar https://assets-cdn.123rf.com/ui-components/assets/svg/collection.svg: cannot identify image file <_io.BytesIO object at 0x00000220323A4A40>\n"
     ]
    },
    {
     "name": "stderr",
     "output_type": "stream",
     "text": [
      "Procesando imágenes de https://es.123rf.com/imagenes-de-archivo/eucalipto_planta.html:  35%|███▌      | 112/317 [00:02<00:04, 42.47it/s]"
     ]
    },
    {
     "name": "stdout",
     "output_type": "stream",
     "text": [
      "Error al descargar https://assets-cdn.123rf.com/ui-components/assets/svg/gradient/premium-crown-gradient2.svg: cannot identify image file <_io.BytesIO object at 0x0000022030EEC130>\n",
      "Error al descargar https://assets-cdn.123rf.com/ui-components/assets/svg/collection.svg: cannot identify image file <_io.BytesIO object at 0x0000022030EEC770>\n",
      "Error al descargar https://assets-cdn.123rf.com/ui-components/assets/svg/collection.svg: cannot identify image file <_io.BytesIO object at 0x0000022031C0DB20>\n",
      "Error al descargar https://assets-cdn.123rf.com/ui-components/assets/svg/gradient/premium-crown-gradient2.svg: cannot identify image file <_io.BytesIO object at 0x00000220320E1E40>\n",
      "Error al descargar https://assets-cdn.123rf.com/ui-components/assets/svg/collection.svg: cannot identify image file <_io.BytesIO object at 0x0000022032423B00>\n",
      "Error al descargar https://assets-cdn.123rf.com/ui-components/assets/svg/collection.svg: cannot identify image file <_io.BytesIO object at 0x00000220323A71F0>\n",
      "Error al descargar https://assets-cdn.123rf.com/ui-components/assets/svg/gradient/premium-crown-gradient2.svg: cannot identify image file <_io.BytesIO object at 0x0000022031C0D490>\n"
     ]
    },
    {
     "name": "stderr",
     "output_type": "stream",
     "text": [
      "Procesando imágenes de https://es.123rf.com/imagenes-de-archivo/eucalipto_planta.html:  39%|███▉      | 125/317 [00:03<00:04, 46.53it/s]"
     ]
    },
    {
     "name": "stdout",
     "output_type": "stream",
     "text": [
      "Error al descargar https://assets-cdn.123rf.com/ui-components/assets/svg/gradient/premium-crown-gradient2.svg: cannot identify image file <_io.BytesIO object at 0x00000220323A5300>\n",
      "Error al descargar https://assets-cdn.123rf.com/ui-components/assets/svg/collection.svg: cannot identify image file <_io.BytesIO object at 0x000002202F9622A0>\n",
      "Error al descargar https://assets-cdn.123rf.com/ui-components/assets/svg/gradient/premium-crown-gradient2.svg: cannot identify image file <_io.BytesIO object at 0x0000022030E2D620>\n",
      "Error al descargar https://assets-cdn.123rf.com/ui-components/assets/svg/collection.svg: cannot identify image file <_io.BytesIO object at 0x0000022032423380>\n",
      "Error al descargar https://assets-cdn.123rf.com/ui-components/assets/svg/collection.svg: cannot identify image file <_io.BytesIO object at 0x0000022030AA0720>\n",
      "Error al descargar https://assets-cdn.123rf.com/ui-components/assets/svg/collection.svg: cannot identify image file <_io.BytesIO object at 0x00000220323A6B60>\n",
      "Error al descargar https://assets-cdn.123rf.com/ui-components/assets/svg/collection.svg: cannot identify image file <_io.BytesIO object at 0x0000022031705BC0>\n"
     ]
    },
    {
     "name": "stderr",
     "output_type": "stream",
     "text": [
      "Procesando imágenes de https://es.123rf.com/imagenes-de-archivo/eucalipto_planta.html:  43%|████▎     | 137/317 [00:03<00:03, 47.04it/s]"
     ]
    },
    {
     "name": "stdout",
     "output_type": "stream",
     "text": [
      "Error al descargar https://assets-cdn.123rf.com/ui-components/assets/svg/collection.svg: cannot identify image file <_io.BytesIO object at 0x000002203114D300>\n",
      "Error al descargar https://assets-cdn.123rf.com/ui-components/assets/svg/gradient/premium-crown-gradient2.svg: cannot identify image file <_io.BytesIO object at 0x0000022031C0EBB0>\n",
      "Error al descargar https://assets-cdn.123rf.com/ui-components/assets/svg/collection.svg: cannot identify image file <_io.BytesIO object at 0x0000022030DA2F20>\n",
      "Error al descargar https://assets-cdn.123rf.com/ui-components/assets/svg/collection.svg: cannot identify image file <_io.BytesIO object at 0x0000022030EEC450>\n",
      "Error al descargar https://assets-cdn.123rf.com/ui-components/assets/svg/collection.svg: cannot identify image file <_io.BytesIO object at 0x00000220323A7AB0>\n",
      "Error al descargar https://assets-cdn.123rf.com/ui-components/assets/svg/collection.svg: cannot identify image file <_io.BytesIO object at 0x0000022030E64860>\n"
     ]
    },
    {
     "name": "stderr",
     "output_type": "stream",
     "text": [
      "Procesando imágenes de https://es.123rf.com/imagenes-de-archivo/eucalipto_planta.html:  45%|████▌     | 143/317 [00:03<00:03, 47.45it/s]"
     ]
    },
    {
     "name": "stdout",
     "output_type": "stream",
     "text": [
      "Error al descargar https://assets-cdn.123rf.com/ui-components/assets/svg/collection.svg: cannot identify image file <_io.BytesIO object at 0x0000022030AA0720>\n",
      "Error al descargar https://assets-cdn.123rf.com/ui-components/assets/svg/collection.svg: cannot identify image file <_io.BytesIO object at 0x0000022032422F20>\n",
      "Error al descargar https://assets-cdn.123rf.com/ui-components/assets/svg/gradient/premium-crown-gradient2.svg: cannot identify image file <_io.BytesIO object at 0x000002207EE92250>\n",
      "Error al descargar https://assets-cdn.123rf.com/ui-components/assets/svg/collection.svg: cannot identify image file <_io.BytesIO object at 0x0000022031C0EB10>\n",
      "Error al descargar https://assets-cdn.123rf.com/ui-components/assets/svg/gradient/premium-crown-gradient2.svg: cannot identify image file <_io.BytesIO object at 0x00000220323A6930>\n",
      "Error al descargar https://assets-cdn.123rf.com/ui-components/assets/svg/collection.svg: cannot identify image file <_io.BytesIO object at 0x00000220320E0180>\n"
     ]
    },
    {
     "name": "stderr",
     "output_type": "stream",
     "text": [
      "Procesando imágenes de https://es.123rf.com/imagenes-de-archivo/eucalipto_planta.html:  49%|████▊     | 154/317 [00:03<00:03, 46.65it/s]"
     ]
    },
    {
     "name": "stdout",
     "output_type": "stream",
     "text": [
      "Error al descargar https://assets-cdn.123rf.com/ui-components/assets/svg/collection.svg: cannot identify image file <_io.BytesIO object at 0x0000022032422CF0>\n",
      "Error al descargar https://assets-cdn.123rf.com/ui-components/assets/svg/gradient/premium-crown-gradient2.svg: cannot identify image file <_io.BytesIO object at 0x000002203114D300>\n",
      "Error al descargar https://assets-cdn.123rf.com/ui-components/assets/svg/collection.svg: cannot identify image file <_io.BytesIO object at 0x0000022031C0EBB0>\n",
      "Error al descargar https://assets-cdn.123rf.com/ui-components/assets/svg/gradient/premium-crown-gradient2.svg: cannot identify image file <_io.BytesIO object at 0x00000220323A7BF0>\n",
      "Error al descargar https://assets-cdn.123rf.com/ui-components/assets/svg/collection.svg: cannot identify image file <_io.BytesIO object at 0x0000022030EEC450>\n",
      "Error al descargar https://assets-cdn.123rf.com/ui-components/assets/svg/collection.svg: cannot identify image file <_io.BytesIO object at 0x00000220320E1120>\n",
      "Error al descargar https://assets-cdn.123rf.com/ui-components/assets/svg/collection.svg: cannot identify image file <_io.BytesIO object at 0x0000022030E2D620>\n"
     ]
    },
    {
     "name": "stderr",
     "output_type": "stream",
     "text": [
      "Procesando imágenes de https://es.123rf.com/imagenes-de-archivo/eucalipto_planta.html:  52%|█████▏    | 165/317 [00:03<00:03, 45.63it/s]"
     ]
    },
    {
     "name": "stdout",
     "output_type": "stream",
     "text": [
      "Error al descargar https://assets-cdn.123rf.com/ui-components/assets/svg/gradient/premium-crown-gradient2.svg: cannot identify image file <_io.BytesIO object at 0x000002207EE92250>\n",
      "Error al descargar https://assets-cdn.123rf.com/ui-components/assets/svg/collection.svg: cannot identify image file <_io.BytesIO object at 0x000002203114D300>\n",
      "Error al descargar https://assets-cdn.123rf.com/ui-components/assets/svg/collection.svg: cannot identify image file <_io.BytesIO object at 0x0000022030EEC770>\n",
      "Error al descargar https://assets-cdn.123rf.com/ui-components/assets/svg/collection.svg: cannot identify image file <_io.BytesIO object at 0x000002203119F420>\n",
      "Error al descargar https://assets-cdn.123rf.com/ui-components/assets/svg/gradient/premium-crown-gradient2.svg: cannot identify image file <_io.BytesIO object at 0x00000220323A5AD0>\n",
      "Error al descargar https://assets-cdn.123rf.com/ui-components/assets/svg/collection.svg: cannot identify image file <_io.BytesIO object at 0x000002202F16D800>\n"
     ]
    },
    {
     "name": "stderr",
     "output_type": "stream",
     "text": [
      "Procesando imágenes de https://es.123rf.com/imagenes-de-archivo/eucalipto_planta.html:  56%|█████▌    | 177/317 [00:04<00:02, 46.92it/s]"
     ]
    },
    {
     "name": "stdout",
     "output_type": "stream",
     "text": [
      "Error al descargar https://assets-cdn.123rf.com/ui-components/assets/svg/collection.svg: cannot identify image file <_io.BytesIO object at 0x00000220323A5CB0>\n",
      "Error al descargar https://assets-cdn.123rf.com/ui-components/assets/svg/gradient/premium-crown-gradient2.svg: cannot identify image file <_io.BytesIO object at 0x0000022032423B50>\n",
      "Error al descargar https://assets-cdn.123rf.com/ui-components/assets/svg/collection.svg: cannot identify image file <_io.BytesIO object at 0x000002202F9622A0>\n",
      "Error al descargar https://assets-cdn.123rf.com/ui-components/assets/svg/collection.svg: cannot identify image file <_io.BytesIO object at 0x0000022030EEC130>\n",
      "Error al descargar https://assets-cdn.123rf.com/ui-components/assets/svg/collection.svg: cannot identify image file <_io.BytesIO object at 0x0000022031C0DB20>\n",
      "Error al descargar https://assets-cdn.123rf.com/ui-components/assets/svg/collection.svg: cannot identify image file <_io.BytesIO object at 0x0000022031C0D490>\n",
      "Error al descargar https://assets-cdn.123rf.com/ui-components/assets/svg/gradient/premium-crown-gradient2.svg: cannot identify image file <_io.BytesIO object at 0x0000022031705BC0>\n"
     ]
    },
    {
     "name": "stderr",
     "output_type": "stream",
     "text": [
      "Procesando imágenes de https://es.123rf.com/imagenes-de-archivo/eucalipto_planta.html:  59%|█████▉    | 188/317 [00:04<00:02, 48.31it/s]"
     ]
    },
    {
     "name": "stdout",
     "output_type": "stream",
     "text": [
      "Error al descargar https://assets-cdn.123rf.com/ui-components/assets/svg/collection.svg: cannot identify image file <_io.BytesIO object at 0x0000022032422BB0>\n",
      "Error al descargar https://assets-cdn.123rf.com/ui-components/assets/svg/collection.svg: cannot identify image file <_io.BytesIO object at 0x00000220320E0180>\n",
      "Error al descargar https://assets-cdn.123rf.com/ui-components/assets/svg/collection.svg: cannot identify image file <_io.BytesIO object at 0x00000220323A4A40>\n",
      "Error al descargar https://assets-cdn.123rf.com/ui-components/assets/svg/gradient/premium-crown-gradient2.svg: cannot identify image file <_io.BytesIO object at 0x00000220323A6ED0>\n",
      "Error al descargar https://assets-cdn.123rf.com/ui-components/assets/svg/collection.svg: cannot identify image file <_io.BytesIO object at 0x0000022030EEC770>\n",
      "Error al descargar https://assets-cdn.123rf.com/ui-components/assets/svg/collection.svg: cannot identify image file <_io.BytesIO object at 0x0000022030E2D620>\n"
     ]
    },
    {
     "name": "stderr",
     "output_type": "stream",
     "text": [
      "Procesando imágenes de https://es.123rf.com/imagenes-de-archivo/eucalipto_planta.html:  62%|██████▏   | 198/317 [00:04<00:02, 45.96it/s]"
     ]
    },
    {
     "name": "stdout",
     "output_type": "stream",
     "text": [
      "Error al descargar https://assets-cdn.123rf.com/ui-components/assets/svg/collection.svg: cannot identify image file <_io.BytesIO object at 0x0000022032422BB0>\n",
      "Error al descargar https://assets-cdn.123rf.com/ui-components/assets/svg/gradient/premium-crown-gradient2.svg: cannot identify image file <_io.BytesIO object at 0x00000220323A5300>\n",
      "Error al descargar https://assets-cdn.123rf.com/ui-components/assets/svg/collection.svg: cannot identify image file <_io.BytesIO object at 0x000002203114D300>\n",
      "Error al descargar https://assets-cdn.123rf.com/ui-components/assets/svg/collection.svg: cannot identify image file <_io.BytesIO object at 0x0000022031C0D490>\n",
      "Error al descargar https://assets-cdn.123rf.com/ui-components/assets/svg/gradient/premium-crown-gradient2.svg: cannot identify image file <_io.BytesIO object at 0x00000220320E0180>\n",
      "Error al descargar https://assets-cdn.123rf.com/ui-components/assets/svg/collection.svg: cannot identify image file <_io.BytesIO object at 0x0000022032423420>\n",
      "Error al descargar https://assets-cdn.123rf.com/ui-components/assets/svg/collection.svg: cannot identify image file <_io.BytesIO object at 0x000002202F9622A0>\n"
     ]
    },
    {
     "name": "stderr",
     "output_type": "stream",
     "text": [
      "Procesando imágenes de https://es.123rf.com/imagenes-de-archivo/eucalipto_planta.html:  66%|██████▌   | 210/317 [00:04<00:02, 46.19it/s]"
     ]
    },
    {
     "name": "stdout",
     "output_type": "stream",
     "text": [
      "Error al descargar https://assets-cdn.123rf.com/ui-components/assets/svg/collection.svg: cannot identify image file <_io.BytesIO object at 0x00000220323A5300>\n",
      "Error al descargar https://assets-cdn.123rf.com/ui-components/assets/svg/collection.svg: cannot identify image file <_io.BytesIO object at 0x0000022030DA2F20>\n",
      "Error al descargar https://assets-cdn.123rf.com/ui-components/assets/svg/gradient/premium-crown-gradient2.svg: cannot identify image file <_io.BytesIO object at 0x00000220323A4040>\n",
      "Error al descargar https://assets-cdn.123rf.com/ui-components/assets/svg/collection.svg: cannot identify image file <_io.BytesIO object at 0x00000220320E1030>\n",
      "Error al descargar https://assets-cdn.123rf.com/ui-components/assets/svg/collection.svg: cannot identify image file <_io.BytesIO object at 0x00000220323A7740>\n",
      "Error al descargar https://assets-cdn.123rf.com/ui-components/assets/svg/collection.svg: cannot identify image file <_io.BytesIO object at 0x000002203119F420>\n",
      "Error al descargar https://assets-cdn.123rf.com/ui-components/assets/svg/gradient/premium-crown-gradient2.svg: cannot identify image file <_io.BytesIO object at 0x0000022030EEC450>\n"
     ]
    },
    {
     "name": "stderr",
     "output_type": "stream",
     "text": [
      "Procesando imágenes de https://es.123rf.com/imagenes-de-archivo/eucalipto_planta.html:  71%|███████   | 224/317 [00:05<00:02, 44.61it/s]"
     ]
    },
    {
     "name": "stdout",
     "output_type": "stream",
     "text": [
      "Error al descargar https://assets-cdn.123rf.com/ui-components/assets/svg/gradient/premium-crown-gradient2.svg: cannot identify image file <_io.BytesIO object at 0x0000022031C0EBB0>\n",
      "Error al descargar https://assets-cdn.123rf.com/ui-components/assets/svg/collection.svg: cannot identify image file <_io.BytesIO object at 0x0000022031C0D490>\n",
      "Error al descargar https://assets-cdn.123rf.com/ui-components/assets/svg/collection.svg: cannot identify image file <_io.BytesIO object at 0x0000022032423790>\n",
      "Error al descargar https://assets-cdn.123rf.com/ui-components/assets/svg/collection.svg: cannot identify image file <_io.BytesIO object at 0x00000220320E0180>\n",
      "Error al descargar https://assets-cdn.123rf.com/ui-components/assets/svg/collection.svg: cannot identify image file <_io.BytesIO object at 0x0000022030EEC130>\n",
      "Error al descargar https://assets-cdn.123rf.com/ui-components/assets/svg/gradient/premium-crown-gradient2.svg: cannot identify image file <_io.BytesIO object at 0x000002207EE92250>\n"
     ]
    },
    {
     "name": "stderr",
     "output_type": "stream",
     "text": [
      "Procesando imágenes de https://es.123rf.com/imagenes-de-archivo/eucalipto_planta.html:  73%|███████▎  | 230/317 [00:05<00:01, 46.96it/s]"
     ]
    },
    {
     "name": "stdout",
     "output_type": "stream",
     "text": [
      "Error al descargar https://assets-cdn.123rf.com/ui-components/assets/svg/collection.svg: cannot identify image file <_io.BytesIO object at 0x0000022030E64860>\n",
      "Error al descargar https://assets-cdn.123rf.com/ui-components/assets/svg/gradient/premium-crown-gradient2.svg: cannot identify image file <_io.BytesIO object at 0x0000022030DA2F20>\n",
      "Error al descargar https://assets-cdn.123rf.com/ui-components/assets/svg/collection.svg: cannot identify image file <_io.BytesIO object at 0x00000220323A6A20>\n",
      "Error al descargar https://assets-cdn.123rf.com/ui-components/assets/svg/gradient/premium-crown-gradient2.svg: cannot identify image file <_io.BytesIO object at 0x0000022030EEC450>\n",
      "Error al descargar https://assets-cdn.123rf.com/ui-components/assets/svg/collection.svg: cannot identify image file <_io.BytesIO object at 0x00000220320E1120>\n"
     ]
    },
    {
     "name": "stderr",
     "output_type": "stream",
     "text": [
      "Procesando imágenes de https://es.123rf.com/imagenes-de-archivo/eucalipto_planta.html:  76%|███████▋  | 242/317 [00:05<00:01, 38.86it/s]"
     ]
    },
    {
     "name": "stdout",
     "output_type": "stream",
     "text": [
      "Error al descargar https://assets-cdn.123rf.com/ui-components/assets/svg/collection.svg: cannot identify image file <_io.BytesIO object at 0x000002203119F420>\n",
      "Error al descargar https://assets-cdn.123rf.com/ui-components/assets/svg/gradient/premium-crown-gradient2.svg: cannot identify image file <_io.BytesIO object at 0x00000220320E1E40>\n",
      "Error al descargar https://assets-cdn.123rf.com/ui-components/assets/svg/collection.svg: cannot identify image file <_io.BytesIO object at 0x00000220320E1E40>\n",
      "Error al descargar https://assets-cdn.123rf.com/ui-components/assets/svg/gradient/premium-crown-gradient2.svg: cannot identify image file <_io.BytesIO object at 0x000002202F9622A0>\n",
      "Error al descargar https://assets-cdn.123rf.com/ui-components/assets/svg/gradient/premium-crown-gradient2.svg: cannot identify image file <_io.BytesIO object at 0x00000220323A7AB0>\n",
      "Error al descargar https://assets-cdn.123rf.com/ui-components/assets/svg/gradient/premium-crown-gradient2.svg: cannot identify image file <_io.BytesIO object at 0x00000220320E04F0>\n",
      "Error al descargar https://assets-cdn.123rf.com/ui-components/assets/svg/collection.svg: cannot identify image file <_io.BytesIO object at 0x000002203114D300>\n",
      "Error al descargar https://assets-cdn.123rf.com/ui-components/assets/svg/collection.svg: cannot identify image file <_io.BytesIO object at 0x0000022030EEC450>\n"
     ]
    },
    {
     "name": "stderr",
     "output_type": "stream",
     "text": [
      "Procesando imágenes de https://es.123rf.com/imagenes-de-archivo/eucalipto_planta.html:  79%|███████▉  | 252/317 [00:05<00:01, 51.78it/s]"
     ]
    },
    {
     "name": "stdout",
     "output_type": "stream",
     "text": [
      "Error al descargar https://assets-cdn.123rf.com/ui-components/assets/svg/collection.svg: cannot identify image file <_io.BytesIO object at 0x0000022031C0D490>\n",
      "Error al descargar https://assets-cdn.123rf.com/ui-components/assets/svg/collection.svg: cannot identify image file <_io.BytesIO object at 0x00000220323A5EE0>\n",
      "Error al descargar https://assets-cdn.123rf.com/ui-components/assets/svg/gradient/premium-crown-gradient2.svg: cannot identify image file <_io.BytesIO object at 0x000002202F9622A0>\n",
      "Error al descargar https://assets-cdn.123rf.com/ui-components/assets/svg/collection.svg: cannot identify image file <_io.BytesIO object at 0x0000022030EEC770>\n",
      "Error al descargar https://assets-cdn.123rf.com/ui-components/assets/svg/collection.svg: cannot identify image file <_io.BytesIO object at 0x000002202F16D800>\n",
      "Error al descargar https://assets-cdn.123rf.com/ui-components/assets/svg/gradient/premium-crown-gradient2.svg: cannot identify image file <_io.BytesIO object at 0x00000220323A62F0>\n",
      "Error al descargar https://assets-cdn.123rf.com/ui-components/assets/svg/collection.svg: cannot identify image file <_io.BytesIO object at 0x00000220323A5CB0>\n"
     ]
    },
    {
     "name": "stderr",
     "output_type": "stream",
     "text": [
      "Procesando imágenes de https://es.123rf.com/imagenes-de-archivo/eucalipto_planta.html:  83%|████████▎ | 263/317 [00:06<00:01, 42.54it/s]"
     ]
    },
    {
     "name": "stdout",
     "output_type": "stream",
     "text": [
      "Error al descargar https://assets-cdn.123rf.com/ui-components/assets/svg/collection.svg: cannot identify image file <_io.BytesIO object at 0x0000022031C0D490>\n",
      "Error al descargar https://assets-cdn.123rf.com/ui-components/assets/svg/gradient/premium-crown-gradient2.svg: cannot identify image file <_io.BytesIO object at 0x0000022030EEC130>\n",
      "Error al descargar https://assets-cdn.123rf.com/ui-components/assets/svg/collection.svg: cannot identify image file <_io.BytesIO object at 0x00000220320E1030>\n",
      "Error al descargar https://assets-cdn.123rf.com/ui-components/assets/svg/collection.svg: cannot identify image file <_io.BytesIO object at 0x0000022031705BC0>\n"
     ]
    },
    {
     "name": "stderr",
     "output_type": "stream",
     "text": [
      "Procesando imágenes de https://es.123rf.com/imagenes-de-archivo/eucalipto_planta.html:  86%|████████▋ | 274/317 [00:06<00:00, 43.06it/s]"
     ]
    },
    {
     "name": "stdout",
     "output_type": "stream",
     "text": [
      "Error al descargar https://assets-cdn.123rf.com/ui-components/assets/svg/gradient/premium-crown-gradient2.svg: cannot identify image file <_io.BytesIO object at 0x00000220323A7380>\n",
      "Error al descargar https://assets-cdn.123rf.com/ui-components/assets/svg/collection.svg: cannot identify image file <_io.BytesIO object at 0x0000022031C0EBB0>\n",
      "Error al descargar https://assets-cdn.123rf.com/ui-components/assets/svg/collection.svg: cannot identify image file <_io.BytesIO object at 0x000002202F9622A0>\n",
      "Error al descargar https://assets-cdn.123rf.com/ui-components/assets/svg/collection.svg: cannot identify image file <_io.BytesIO object at 0x00000220320E1E40>\n",
      "Error al descargar https://assets-cdn.123rf.com/ui-components/assets/svg/collection.svg: cannot identify image file <_io.BytesIO object at 0x0000022030EEC770>\n"
     ]
    },
    {
     "name": "stderr",
     "output_type": "stream",
     "text": [
      "Procesando imágenes de https://es.123rf.com/imagenes-de-archivo/eucalipto_planta.html:  88%|████████▊ | 280/317 [00:06<00:00, 46.26it/s]"
     ]
    },
    {
     "name": "stdout",
     "output_type": "stream",
     "text": [
      "Error al descargar https://assets-cdn.123rf.com/ui-components/assets/svg/collection.svg: cannot identify image file <_io.BytesIO object at 0x0000022031705BC0>\n",
      "Error al descargar https://assets-cdn.123rf.com/ui-components/assets/svg/gradient/premium-crown-gradient2.svg: cannot identify image file <_io.BytesIO object at 0x00000220320E0180>\n",
      "Error al descargar https://assets-cdn.123rf.com/ui-components/assets/svg/collection.svg: cannot identify image file <_io.BytesIO object at 0x0000022032422FC0>\n",
      "Error al descargar https://assets-cdn.123rf.com/ui-components/assets/svg/collection.svg: cannot identify image file <_io.BytesIO object at 0x00000220323A74C0>\n",
      "Error al descargar https://assets-cdn.123rf.com/ui-components/assets/svg/gradient/premium-crown-gradient2.svg: cannot identify image file <_io.BytesIO object at 0x0000022032423DD0>\n",
      "Error al descargar https://assets-cdn.123rf.com/ui-components/assets/svg/collection.svg: cannot identify image file <_io.BytesIO object at 0x0000022031C0DB20>\n"
     ]
    },
    {
     "name": "stderr",
     "output_type": "stream",
     "text": [
      "Procesando imágenes de https://es.123rf.com/imagenes-de-archivo/eucalipto_planta.html:  92%|█████████▏| 291/317 [00:06<00:00, 46.64it/s]"
     ]
    },
    {
     "name": "stdout",
     "output_type": "stream",
     "text": [
      "Error al descargar https://assets-cdn.123rf.com/ui-components/assets/svg/gradient/premium-crown-gradient2.svg: cannot identify image file <_io.BytesIO object at 0x0000022030EEC450>\n",
      "Error al descargar https://assets-cdn.123rf.com/ui-components/assets/svg/collection.svg: cannot identify image file <_io.BytesIO object at 0x0000022032423C40>\n",
      "Error al descargar https://assets-cdn.123rf.com/ui-components/assets/svg/gradient/premium-crown-gradient2.svg: cannot identify image file <_io.BytesIO object at 0x000002202F9622A0>\n",
      "Error al descargar https://assets-cdn.123rf.com/ui-components/assets/svg/collection.svg: cannot identify image file <_io.BytesIO object at 0x0000022031C0EB10>\n",
      "Error al descargar https://assets-cdn.123rf.com/ui-components/assets/svg/collection.svg: cannot identify image file <_io.BytesIO object at 0x00000220323A74C0>\n"
     ]
    },
    {
     "name": "stderr",
     "output_type": "stream",
     "text": [
      "Procesando imágenes de https://es.123rf.com/imagenes-de-archivo/eucalipto_planta.html:  96%|█████████▌| 303/317 [00:07<00:00, 42.09it/s]"
     ]
    },
    {
     "name": "stdout",
     "output_type": "stream",
     "text": [
      "Error al descargar https://assets-cdn.123rf.com/ui-components/assets/svg/collection.svg: cannot identify image file <_io.BytesIO object at 0x000002203114D300>\n",
      "Error al descargar https://assets-cdn.123rf.com/ui-components/assets/svg/gradient/premium-crown-gradient2.svg: cannot identify image file <_io.BytesIO object at 0x0000022030E64860>\n",
      "Error al descargar https://assets-cdn.123rf.com/ui-components/assets/svg/collection.svg: cannot identify image file <_io.BytesIO object at 0x00000220320E0180>\n",
      "Error al descargar https://assets-cdn.123rf.com/ui-components/assets/svg/collection.svg: cannot identify image file <_io.BytesIO object at 0x00000220320E1030>\n",
      "Error al descargar https://assets-cdn.123rf.com/ui-components/assets/svg/collection.svg: cannot identify image file <_io.BytesIO object at 0x0000022032423920>\n",
      "Error al descargar https://assets-cdn.123rf.com/ui-components/assets/svg/gradient/premium-crown-gradient2.svg: cannot identify image file <_io.BytesIO object at 0x0000022032423790>\n",
      "Error al descargar https://assets-cdn.123rf.com/ui-components/assets/svg/collection.svg: cannot identify image file <_io.BytesIO object at 0x0000022032422E30>\n"
     ]
    },
    {
     "name": "stderr",
     "output_type": "stream",
     "text": [
      "Procesando imágenes de https://es.123rf.com/imagenes-de-archivo/eucalipto_planta.html:  99%|█████████▉| 315/317 [00:07<00:00, 45.72it/s]"
     ]
    },
    {
     "name": "stdout",
     "output_type": "stream",
     "text": [
      "Error al descargar https://assets-cdn.123rf.com/ui-components/assets/svg/collection.svg: cannot identify image file <_io.BytesIO object at 0x0000022030AA0720>\n",
      "Error al descargar https://assets-cdn.123rf.com/ui-components/assets/svg/chevron-down.svg: cannot identify image file <_io.BytesIO object at 0x000002202F9622A0>\n",
      "Error al descargar https://assets-cdn.123rf.com/ui-components/assets/svg/collection.svg: cannot identify image file <_io.BytesIO object at 0x00000220320E0180>\n",
      "Error al descargar https://assets-cdn.123rf.com/ui-components/assets/svg/chevron-down.svg: cannot identify image file <_io.BytesIO object at 0x000002203119F420>\n",
      "Error al descargar https://assets-cdn.123rf.com/ui-components/assets/svg/chevron-down.svg: cannot identify image file <_io.BytesIO object at 0x00000220320E1E40>\n",
      "Error al descargar https://assets-cdn.123rf.com/ui-components/assets/svg/chevron-down.svg: cannot identify image file <_io.BytesIO object at 0x0000022031705BC0>\n",
      "Error al descargar https://assets-cdn.123rf.com/ui-components/assets/svg/chevron-down.svg: cannot identify image file <_io.BytesIO object at 0x0000022032423920>\n",
      "Error al descargar https://assets-cdn.123rf.com/ui-components/assets/svg/facebook.svg: cannot identify image file <_io.BytesIO object at 0x00000220320E04F0>\n",
      "Error al descargar https://assets-cdn.123rf.com/ui-components/assets/svg/instagram-v2.svg: cannot identify image file <_io.BytesIO object at 0x0000022031C0D490>\n",
      "Error al descargar https://assets-cdn.123rf.com/ui-components/assets/svg/twitter-v2.svg: cannot identify image file <_io.BytesIO object at 0x000002202F16D800>\n"
     ]
    },
    {
     "name": "stderr",
     "output_type": "stream",
     "text": [
      "Procesando imágenes de https://es.123rf.com/imagenes-de-archivo/eucalipto_planta.html: 100%|██████████| 317/317 [00:07<00:00, 43.41it/s]\n"
     ]
    },
    {
     "name": "stdout",
     "output_type": "stream",
     "text": [
      "Error al descargar https://assets-cdn.123rf.com/ui-components/assets/svg/pinterest.svg: cannot identify image file <_io.BytesIO object at 0x000002203119F420>\n",
      "Error al descargar https://assets-cdn.123rf.com/ui-components/assets/svg/whatsapp-v3.svg: cannot identify image file <_io.BytesIO object at 0x0000022031705BC0>\n",
      "Advertencia: No se encontraron imágenes para la clase 'eucalipto'.\n",
      "Buscando imágenes para la clase: girasol\n",
      "Error procesando https://depositphotos.com/es/photos/girasol.html: HTTPSConnectionPool(host='depositphotos.com', port=443): Max retries exceeded with url: /es/photos/girasol.html (Caused by ConnectTimeoutError(<urllib3.connection.HTTPSConnection object at 0x0000022031825390>, 'Connection to depositphotos.com timed out. (connect timeout=10)'))\n",
      "Error al descargar /components/global-nav/static/static/GettyHeaderLogo-4c344fa4f9e47c257bea.svg: Invalid URL '/components/global-nav/static/static/GettyHeaderLogo-4c344fa4f9e47c257bea.svg': No scheme supplied. Perhaps you meant https:///components/global-nav/static/static/GettyHeaderLogo-4c344fa4f9e47c257bea.svg?\n",
      "Error al descargar /components/global-nav/static/static/UnsplashForBrands-00c7af5aed68b4b7f3f3.svg: Invalid URL '/components/global-nav/static/static/UnsplashForBrands-00c7af5aed68b4b7f3f3.svg': No scheme supplied. Perhaps you meant https:///components/global-nav/static/static/UnsplashForBrands-00c7af5aed68b4b7f3f3.svg?\n"
     ]
    },
    {
     "name": "stderr",
     "output_type": "stream",
     "text": [
      "Procesando imágenes de https://www.gettyimages.es/fotos/girasol:  82%|████████▏ | 51/62 [00:02<00:00, 23.14it/s]\n"
     ]
    },
    {
     "name": "stdout",
     "output_type": "stream",
     "text": [
      "Clase 'girasol' completada: 40 para entrenamiento, 10 para validación.\n",
      "Buscando imágenes para la clase: hierbabuena\n",
      "Error procesando https://depositphotos.com/es/photos/hoja-hierbabuena.html: HTTPSConnectionPool(host='depositphotos.com', port=443): Max retries exceeded with url: /es/photos/hoja-hierbabuena.html (Caused by ConnectTimeoutError(<urllib3.connection.HTTPSConnection object at 0x000002203180EB30>, 'Connection to depositphotos.com timed out. (connect timeout=10)'))\n"
     ]
    },
    {
     "name": "stderr",
     "output_type": "stream",
     "text": [
      "Procesando imágenes de https://es.123rf.com/imagenes-de-archivo/hierbabuena.html:   0%|          | 1/302 [00:00<01:46,  2.83it/s]"
     ]
    },
    {
     "name": "stdout",
     "output_type": "stream",
     "text": [
      "Error al descargar https://assets-cdn.123rf.com/ui-components/assets/svg/chevron-down.svg: cannot identify image file <_io.BytesIO object at 0x0000022031B9FF10>\n",
      "Error al descargar https://assets-cdn.123rf.com/ui-components/assets/svg/ai-face-swap.svg: cannot identify image file <_io.BytesIO object at 0x0000022031B834C0>\n",
      "Error al descargar https://assets-cdn.123rf.com/ui-components/assets/svg/ai-sketch.svg: cannot identify image file <_io.BytesIO object at 0x0000022031B823E0>\n",
      "Error al descargar https://assets-cdn.123rf.com/ui-components/assets/svg/ai-img-upscaler.svg: cannot identify image file <_io.BytesIO object at 0x00000220320E2160>\n",
      "Error al descargar https://assets-cdn.123rf.com/ui-components/assets/svg/gradient/123rf-logo-gradient.svg: cannot identify image file <_io.BytesIO object at 0x0000022031B9F830>\n",
      "Error al descargar https://assets-cdn.123rf.com/ui-components/assets/svg/ai-img-generator.svg: cannot identify image file <_io.BytesIO object at 0x0000022031B80F90>\n"
     ]
    },
    {
     "name": "stderr",
     "output_type": "stream",
     "text": [
      "Procesando imágenes de https://es.123rf.com/imagenes-de-archivo/hierbabuena.html:   7%|▋         | 22/302 [00:00<00:07, 39.51it/s]"
     ]
    },
    {
     "name": "stdout",
     "output_type": "stream",
     "text": [
      "Error al descargar https://assets-cdn.123rf.com/ui-components/assets/svg/ai-bg-blur.svg: cannot identify image file <_io.BytesIO object at 0x0000022031AF7EC0>\n",
      "Error al descargar https://assets-cdn.123rf.com/ui-components/assets/svg/ai-generative-fill.svg: cannot identify image file <_io.BytesIO object at 0x0000022031AF7F60>\n",
      "Error al descargar https://assets-cdn.123rf.com/ui-components/assets/svg/ai-img-extender.svg: cannot identify image file <_io.BytesIO object at 0x0000022031AF7D30>\n",
      "Error al descargar https://assets-cdn.123rf.com/ui-components/assets/svg/ai-bg-remix.svg: cannot identify image file <_io.BytesIO object at 0x0000022031B60130>\n",
      "Error al descargar https://assets-cdn.123rf.com/ui-components/assets/svg/ai-writer.svg: cannot identify image file <_io.BytesIO object at 0x0000022030F15AD0>\n",
      "Error al descargar https://assets-cdn.123rf.com/ui-components/assets/svg/ai-bg-removal.svg: cannot identify image file <_io.BytesIO object at 0x0000022031AF7AB0>\n",
      "Error al descargar https://assets-cdn.123rf.com/ui-components/assets/svg/chevron-down.svg: cannot identify image file <_io.BytesIO object at 0x0000022031B9F790>\n",
      "Error al descargar https://assets-cdn.123rf.com/ui-components/assets/svg/tick.svg: cannot identify image file <_io.BytesIO object at 0x0000022031AF7C90>\n",
      "Error al descargar https://assets-cdn.123rf.com/ui-components/assets/svg/tick.svg: cannot identify image file <_io.BytesIO object at 0x0000022031B83E20>\n",
      "Error al descargar https://assets-cdn.123rf.com/ui-components/assets/images/plus-upsell-ai-v3.png: cannot write mode P as JPEG\n",
      "Error al descargar https://assets-cdn.123rf.com/ui-components/assets/svg/tick.svg: cannot identify image file <_io.BytesIO object at 0x0000022031AF7A10>\n",
      "Error al descargar https://assets-cdn.123rf.com/ui-components/assets/svg/tick.svg: cannot identify image file <_io.BytesIO object at 0x0000022031840040>\n",
      "Error al descargar https://assets-cdn.123rf.com/ui-components/assets/svg/tick.svg: cannot identify image file <_io.BytesIO object at 0x00000220320E14E0>\n"
     ]
    },
    {
     "name": "stderr",
     "output_type": "stream",
     "text": [
      "Procesando imágenes de https://es.123rf.com/imagenes-de-archivo/hierbabuena.html:   9%|▉         | 28/302 [00:01<00:10, 26.50it/s]"
     ]
    },
    {
     "name": "stdout",
     "output_type": "stream",
     "text": [
      "Error al descargar https://assets-cdn.123rf.com/ui-components/assets/svg/tick.svg: cannot identify image file <_io.BytesIO object at 0x0000022031AF7E70>\n",
      "Error al descargar https://assets-cdn.123rf.com/ui-components/assets/svg/tick.svg: cannot identify image file <_io.BytesIO object at 0x0000022030F15D50>\n",
      "Error al descargar https://assets-cdn.123rf.com/ui-components/assets/svg/tick.svg: cannot identify image file <_io.BytesIO object at 0x0000022031B9F7E0>\n",
      "Error al descargar https://assets-cdn.123rf.com/ui-components/assets/svg/chevron-down.svg: cannot identify image file <_io.BytesIO object at 0x0000022031AF7920>\n",
      "Error al descargar https://assets-cdn.123rf.com/ui-components/assets/svg/tick.svg: cannot identify image file <_io.BytesIO object at 0x0000022031B836A0>\n",
      "Error al descargar https://assets-cdn.123rf.com/ui-components/assets/svg/tick.svg: cannot identify image file <_io.BytesIO object at 0x000002207F3E6430>\n",
      "Error al descargar https://assets-cdn.123rf.com/ui-components/assets/svg/tick.svg: cannot identify image file <_io.BytesIO object at 0x0000022030F17060>\n",
      "Error al descargar https://assets-cdn.123rf.com/ui-components/assets/svg/tick.svg: cannot identify image file <_io.BytesIO object at 0x0000022031B603B0>\n",
      "Error al descargar https://assets-cdn.123rf.com/ui-components/assets/svg/tick.svg: cannot identify image file <_io.BytesIO object at 0x0000022030F15AD0>\n"
     ]
    },
    {
     "name": "stderr",
     "output_type": "stream",
     "text": [
      "Procesando imágenes de https://es.123rf.com/imagenes-de-archivo/hierbabuena.html:  11%|█         | 32/302 [00:01<00:11, 23.96it/s]"
     ]
    },
    {
     "name": "stdout",
     "output_type": "stream",
     "text": [
      "Error al descargar https://assets-cdn.123rf.com/ui-components/assets/svg/tick.svg: cannot identify image file <_io.BytesIO object at 0x0000022031B61120>\n",
      "Error al descargar https://assets-cdn.123rf.com/ui-components/assets/svg/menu.svg: cannot identify image file <_io.BytesIO object at 0x0000022031B60FE0>\n",
      "Error al descargar https://assets-cdn.123rf.com/ui-components/assets/svg/camera.svg: cannot identify image file <_io.BytesIO object at 0x000002203171EF20>\n",
      "Error al descargar https://assets-cdn.123rf.com/ui-components/assets/svg/tick.svg: cannot identify image file <_io.BytesIO object at 0x0000022031AF7D80>\n",
      "Error al descargar https://assets-cdn.123rf.com/ui-components/assets/svg/chevron-down.svg: cannot identify image file <_io.BytesIO object at 0x0000022031B9FF60>\n",
      "Error al descargar https://assets-cdn.123rf.com/ui-components/assets/svg/close.svg: cannot identify image file <_io.BytesIO object at 0x0000022031B60D60>\n",
      "Error al descargar https://assets-cdn.123rf.com/ui-components/assets/svg/upload.svg: cannot identify image file <_io.BytesIO object at 0x0000022031707100>\n",
      "Error al descargar https://assets-cdn.123rf.com/ui-components/assets/svg/camera.svg: cannot identify image file <_io.BytesIO object at 0x0000022031840040>\n",
      "Error al descargar https://assets-cdn.123rf.com/ui-components/assets/svg/close.svg: cannot identify image file <_io.BytesIO object at 0x0000022030F15AD0>\n",
      "Error al descargar https://assets-cdn.123rf.com/ui-components/assets/svg/premium.svg: cannot identify image file <_io.BytesIO object at 0x0000022030F16390>\n",
      "Error al descargar https://assets-cdn.123rf.com/ui-components/assets/svg/all-images.svg: cannot identify image file <_io.BytesIO object at 0x0000022031AF7E70>\n",
      "Error al descargar https://assets-cdn.123rf.com/ui-components/assets/svg/photos.svg: cannot identify image file <_io.BytesIO object at 0x0000022031AF7F10>\n",
      "Error al descargar https://assets-cdn.123rf.com/ui-components/assets/svg/vector.svg: cannot identify image file <_io.BytesIO object at 0x0000022031AF7DD0>\n",
      "Error al descargar https://assets-cdn.123rf.com/ui-components/assets/svg/font-v2.svg: cannot identify image file <_io.BytesIO object at 0x00000220320E2200>\n",
      "Error al descargar https://assets-cdn.123rf.com/ui-components/assets/svg/audio.svg: cannot identify image file <_io.BytesIO object at 0x0000022031AF7920>\n",
      "Error al descargar https://assets-cdn.123rf.com/ui-components/assets/svg/footage.svg: cannot identify image file <_io.BytesIO object at 0x0000022031B9FFB0>\n",
      "Error al descargar https://assets-cdn.123rf.com/ui-components/assets/svg/ai-img-generator.svg: cannot identify image file <_io.BytesIO object at 0x00000220320E14E0>\n",
      "Error al descargar https://assets-cdn.123rf.com/ui-components/assets/svg/plus.svg: cannot identify image file <_io.BytesIO object at 0x0000022030F14090>\n",
      "Error al descargar https://assets-cdn.123rf.com/ui-components/assets/svg/free.svg: cannot identify image file <_io.BytesIO object at 0x0000022031AF7B00>\n",
      "Error al descargar https://assets-cdn.123rf.com/ui-components/assets/svg/search.svg: cannot identify image file <_io.BytesIO object at 0x0000022031B9F740>\n",
      "Error al descargar https://assets-cdn.123rf.com/ui-components/assets/svg/collection.svg: cannot identify image file <_io.BytesIO object at 0x0000022031B60310>\n",
      "Error al descargar https://assets-cdn.123rf.com/ui-components/assets/svg/collection.svg: cannot identify image file <_io.BytesIO object at 0x0000022031706DE0>\n",
      "Error al descargar https://assets-cdn.123rf.com/ui-components/assets/svg/collection.svg: cannot identify image file <_io.BytesIO object at 0x0000022031840040>\n",
      "Error al descargar https://assets-cdn.123rf.com/ui-components/assets/svg/gradient/premium-crown-gradient2.svg: cannot identify image file <_io.BytesIO object at 0x0000022031AF7BA0>\n",
      "Error al descargar https://assets-cdn.123rf.com/ui-components/assets/svg/collection.svg: cannot identify image file <_io.BytesIO object at 0x0000022030F15D50>\n",
      "Error al descargar https://assets-cdn.123rf.com/ui-components/assets/svg/collection.svg: cannot identify image file <_io.BytesIO object at 0x00000220320E2200>\n",
      "Error al descargar https://assets-cdn.123rf.com/ui-components/assets/svg/collection.svg: cannot identify image file <_io.BytesIO object at 0x0000022031B606D0>\n",
      "Error al descargar https://assets-cdn.123rf.com/ui-components/assets/svg/collection.svg: cannot identify image file <_io.BytesIO object at 0x0000022031B60C20>\n",
      "Error al descargar https://assets-cdn.123rf.com/ui-components/assets/svg/collection.svg: cannot identify image file <_io.BytesIO object at 0x0000022031B60D10>\n",
      "Error al descargar https://assets-cdn.123rf.com/ui-components/assets/svg/collection.svg: cannot identify image file <_io.BytesIO object at 0x000002203171E480>\n",
      "Error al descargar https://assets-cdn.123rf.com/ui-components/assets/svg/gradient/premium-crown-gradient2.svg: cannot identify image file <_io.BytesIO object at 0x0000022031706DE0>\n",
      "Error al descargar https://assets-cdn.123rf.com/ui-components/assets/svg/collection.svg: cannot identify image file <_io.BytesIO object at 0x0000022031B9FF10>\n",
      "Error al descargar https://assets-cdn.123rf.com/ui-components/assets/svg/collection.svg: cannot identify image file <_io.BytesIO object at 0x0000022031B61030>\n",
      "Error al descargar https://assets-cdn.123rf.com/ui-components/assets/svg/gradient/premium-crown-gradient2.svg: cannot identify image file <_io.BytesIO object at 0x0000022031B9FD30>\n",
      "Error al descargar https://assets-cdn.123rf.com/ui-components/assets/svg/collection.svg: cannot identify image file <_io.BytesIO object at 0x0000022031AF7B00>\n",
      "Error al descargar https://assets-cdn.123rf.com/ui-components/assets/svg/collection.svg: cannot identify image file <_io.BytesIO object at 0x0000022031B9FE70>\n",
      "Error al descargar https://assets-cdn.123rf.com/ui-components/assets/svg/gradient/premium-crown-gradient2.svg: cannot identify image file <_io.BytesIO object at 0x0000022031B82340>\n",
      "Error al descargar https://assets-cdn.123rf.com/ui-components/assets/svg/collection.svg: cannot identify image file <_io.BytesIO object at 0x0000022031B9FF10>\n",
      "Error al descargar https://assets-cdn.123rf.com/ui-components/assets/svg/gradient/premium-crown-gradient2.svg: cannot identify image file <_io.BytesIO object at 0x000002203171EF20>\n",
      "Error al descargar https://assets-cdn.123rf.com/ui-components/assets/svg/collection.svg: cannot identify image file <_io.BytesIO object at 0x0000022031B9FD30>\n",
      "Error al descargar https://assets-cdn.123rf.com/ui-components/assets/svg/collection.svg: cannot identify image file <_io.BytesIO object at 0x0000022031B9FE20>\n",
      "Error al descargar https://assets-cdn.123rf.com/ui-components/assets/svg/collection.svg: cannot identify image file <_io.BytesIO object at 0x0000022031AF7AB0>\n",
      "Error al descargar https://assets-cdn.123rf.com/ui-components/assets/svg/collection.svg: cannot identify image file <_io.BytesIO object at 0x0000022031B606D0>\n",
      "Error al descargar https://assets-cdn.123rf.com/ui-components/assets/svg/gradient/premium-crown-gradient2.svg: cannot identify image file <_io.BytesIO object at 0x0000022031AF7FB0>\n",
      "Error al descargar https://assets-cdn.123rf.com/ui-components/assets/svg/collection.svg: cannot identify image file <_io.BytesIO object at 0x0000022031707100>\n",
      "Error al descargar https://assets-cdn.123rf.com/ui-components/assets/svg/gradient/premium-crown-gradient2.svg: cannot identify image file <_io.BytesIO object at 0x0000022030F15D50>\n",
      "Error al descargar https://assets-cdn.123rf.com/ui-components/assets/svg/collection.svg: cannot identify image file <_io.BytesIO object at 0x0000022030F16390>\n",
      "Error al descargar https://assets-cdn.123rf.com/ui-components/assets/svg/gradient/premium-crown-gradient2.svg: cannot identify image file <_io.BytesIO object at 0x000002203171E480>\n",
      "Error al descargar https://assets-cdn.123rf.com/ui-components/assets/svg/collection.svg: cannot identify image file <_io.BytesIO object at 0x0000022031B604A0>\n",
      "Error al descargar https://assets-cdn.123rf.com/ui-components/assets/svg/collection.svg: cannot identify image file <_io.BytesIO object at 0x0000022031AF7F10>\n",
      "Error al descargar https://assets-cdn.123rf.com/ui-components/assets/svg/gradient/premium-crown-gradient2.svg: cannot identify image file <_io.BytesIO object at 0x000002203171EF20>\n",
      "Error al descargar https://assets-cdn.123rf.com/ui-components/assets/svg/collection.svg: cannot identify image file <_io.BytesIO object at 0x0000022031B60720>\n",
      "Error al descargar https://assets-cdn.123rf.com/ui-components/assets/svg/gradient/premium-crown-gradient2.svg: cannot identify image file <_io.BytesIO object at 0x0000022031B9FFB0>\n",
      "Error al descargar https://assets-cdn.123rf.com/ui-components/assets/svg/collection.svg: cannot identify image file <_io.BytesIO object at 0x0000022031B60D60>\n",
      "Error al descargar https://assets-cdn.123rf.com/ui-components/assets/svg/collection.svg: cannot identify image file <_io.BytesIO object at 0x00000220320E2200>\n",
      "Error al descargar https://assets-cdn.123rf.com/ui-components/assets/svg/gradient/premium-crown-gradient2.svg: cannot identify image file <_io.BytesIO object at 0x0000022030F15D50>\n",
      "Error al descargar https://assets-cdn.123rf.com/ui-components/assets/svg/collection.svg: cannot identify image file <_io.BytesIO object at 0x0000022031AF7F10>\n",
      "Error al descargar https://assets-cdn.123rf.com/ui-components/assets/svg/collection.svg: cannot identify image file <_io.BytesIO object at 0x00000220320E2160>\n",
      "Error al descargar https://assets-cdn.123rf.com/ui-components/assets/svg/collection.svg: cannot identify image file <_io.BytesIO object at 0x0000022031C0DB20>\n",
      "Error al descargar https://assets-cdn.123rf.com/ui-components/assets/svg/collection.svg: cannot identify image file <_io.BytesIO object at 0x0000022031B60D60>\n",
      "Error al descargar https://assets-cdn.123rf.com/ui-components/assets/svg/collection.svg: cannot identify image file <_io.BytesIO object at 0x0000022031AF7FB0>\n",
      "Error al descargar https://assets-cdn.123rf.com/ui-components/assets/svg/collection.svg: cannot identify image file <_io.BytesIO object at 0x0000022031AF7BA0>\n",
      "Error al descargar https://assets-cdn.123rf.com/ui-components/assets/svg/collection.svg: cannot identify image file <_io.BytesIO object at 0x0000022031AF7D80>\n",
      "Error al descargar https://assets-cdn.123rf.com/ui-components/assets/svg/collection.svg: cannot identify image file <_io.BytesIO object at 0x00000220320E14E0>\n",
      "Error al descargar https://assets-cdn.123rf.com/ui-components/assets/svg/collection.svg: cannot identify image file <_io.BytesIO object at 0x0000022031706AC0>\n",
      "Error al descargar https://assets-cdn.123rf.com/ui-components/assets/svg/collection.svg: cannot identify image file <_io.BytesIO object at 0x00000220320E2200>\n",
      "Error al descargar https://assets-cdn.123rf.com/ui-components/assets/svg/collection.svg: cannot identify image file <_io.BytesIO object at 0x0000022031AF7D30>\n",
      "Error al descargar https://assets-cdn.123rf.com/ui-components/assets/svg/gradient/premium-crown-gradient2.svg: cannot identify image file <_io.BytesIO object at 0x00000220320E2160>\n",
      "Error al descargar https://assets-cdn.123rf.com/ui-components/assets/svg/gradient/premium-crown-gradient2.svg: cannot identify image file <_io.BytesIO object at 0x0000022031B61080>\n",
      "Error al descargar https://assets-cdn.123rf.com/ui-components/assets/svg/gradient/premium-crown-gradient2.svg: cannot identify image file <_io.BytesIO object at 0x0000022031706DE0>\n",
      "Error al descargar https://assets-cdn.123rf.com/ui-components/assets/svg/collection.svg: cannot identify image file <_io.BytesIO object at 0x0000022031AF7AB0>\n",
      "Error al descargar https://assets-cdn.123rf.com/ui-components/assets/svg/collection.svg: cannot identify image file <_io.BytesIO object at 0x0000022031B9F790>\n",
      "Error al descargar https://assets-cdn.123rf.com/ui-components/assets/svg/collection.svg: cannot identify image file <_io.BytesIO object at 0x0000022031B9FF60>\n",
      "Error al descargar https://assets-cdn.123rf.com/ui-components/assets/svg/gradient/premium-crown-gradient2.svg: cannot identify image file <_io.BytesIO object at 0x0000022031AF7D30>\n",
      "Error al descargar https://assets-cdn.123rf.com/ui-components/assets/svg/gradient/premium-crown-gradient2.svg: cannot identify image file <_io.BytesIO object at 0x0000022031AF7D80>\n",
      "Error al descargar https://assets-cdn.123rf.com/ui-components/assets/svg/collection.svg: cannot identify image file <_io.BytesIO object at 0x0000022030F15AD0>\n",
      "Error al descargar https://assets-cdn.123rf.com/ui-components/assets/svg/collection.svg: cannot identify image file <_io.BytesIO object at 0x0000022031AF7AB0>\n",
      "Error al descargar https://assets-cdn.123rf.com/ui-components/assets/svg/collection.svg: cannot identify image file <_io.BytesIO object at 0x0000022031C0E2A0>\n",
      "Error al descargar https://assets-cdn.123rf.com/ui-components/assets/svg/gradient/premium-crown-gradient2.svg: cannot identify image file <_io.BytesIO object at 0x0000022031B61030>\n",
      "Error al descargar https://assets-cdn.123rf.com/ui-components/assets/svg/collection.svg: cannot identify image file <_io.BytesIO object at 0x00000220320E2160>\n",
      "Error al descargar https://assets-cdn.123rf.com/ui-components/assets/svg/collection.svg: cannot identify image file <_io.BytesIO object at 0x0000022031706DE0>\n",
      "Error al descargar https://assets-cdn.123rf.com/ui-components/assets/svg/gradient/premium-crown-gradient2.svg: cannot identify image file <_io.BytesIO object at 0x0000022031AF7970>\n",
      "Error al descargar https://assets-cdn.123rf.com/ui-components/assets/svg/collection.svg: cannot identify image file <_io.BytesIO object at 0x000002203171E480>\n",
      "Error al descargar https://assets-cdn.123rf.com/ui-components/assets/svg/gradient/premium-crown-gradient2.svg: cannot identify image file <_io.BytesIO object at 0x0000022031C0E2A0>\n",
      "Error al descargar https://assets-cdn.123rf.com/ui-components/assets/svg/collection.svg: cannot identify image file <_io.BytesIO object at 0x0000022031AF7830>\n",
      "Error al descargar https://assets-cdn.123rf.com/ui-components/assets/svg/collection.svg: cannot identify image file <_io.BytesIO object at 0x0000022030F15D50>\n",
      "Error al descargar https://assets-cdn.123rf.com/ui-components/assets/svg/gradient/premium-crown-gradient2.svg: cannot identify image file <_io.BytesIO object at 0x0000022031B9FE70>\n",
      "Error al descargar https://assets-cdn.123rf.com/ui-components/assets/svg/collection.svg: cannot identify image file <_io.BytesIO object at 0x0000022031AF7BF0>\n"
     ]
    },
    {
     "name": "stderr",
     "output_type": "stream",
     "text": [
      "Procesando imágenes de https://es.123rf.com/imagenes-de-archivo/hierbabuena.html:  61%|██████    | 183/302 [00:04<00:02, 53.15it/s]"
     ]
    },
    {
     "name": "stdout",
     "output_type": "stream",
     "text": [
      "Error al descargar https://assets-cdn.123rf.com/ui-components/assets/svg/collection.svg: cannot identify image file <_io.BytesIO object at 0x0000022031AF7AB0>\n",
      "Error al descargar https://assets-cdn.123rf.com/ui-components/assets/svg/all-images.svg: cannot identify image file <_io.BytesIO object at 0x0000022031AF7A10>\n",
      "Error al descargar https://assets-cdn.123rf.com/ui-components/assets/svg/collection.svg: cannot identify image file <_io.BytesIO object at 0x0000022031AF7BA0>\n",
      "Error al descargar https://assets-cdn.123rf.com/ui-components/assets/svg/collection.svg: cannot identify image file <_io.BytesIO object at 0x0000022031B82AC0>\n",
      "Error al descargar https://assets-cdn.123rf.com/ui-components/assets/svg/collection.svg: cannot identify image file <_io.BytesIO object at 0x00000220320E2200>\n",
      "Error al descargar https://assets-cdn.123rf.com/ui-components/assets/svg/gradient/premium-crown-gradient2.svg: cannot identify image file <_io.BytesIO object at 0x0000022031AF7BF0>\n",
      "Error al descargar https://assets-cdn.123rf.com/ui-components/assets/svg/collection.svg: cannot identify image file <_io.BytesIO object at 0x000002203171EF20>\n",
      "Error al descargar https://assets-cdn.123rf.com/ui-components/assets/svg/gradient/premium-crown-gradient2.svg: cannot identify image file <_io.BytesIO object at 0x0000022031706AC0>\n",
      "Error al descargar https://assets-cdn.123rf.com/ui-components/assets/svg/collection.svg: cannot identify image file <_io.BytesIO object at 0x00000220320F3970>\n",
      "Error al descargar https://assets-cdn.123rf.com/ui-components/assets/svg/collection.svg: cannot identify image file <_io.BytesIO object at 0x0000022031AF7920>\n",
      "Error al descargar https://assets-cdn.123rf.com/ui-components/assets/svg/collection.svg: cannot identify image file <_io.BytesIO object at 0x0000022030F16390>\n",
      "Error al descargar https://assets-cdn.123rf.com/ui-components/assets/svg/gradient/premium-crown-gradient2.svg: cannot identify image file <_io.BytesIO object at 0x0000022031AF7AB0>\n",
      "Error al descargar https://assets-cdn.123rf.com/ui-components/assets/svg/collection.svg: cannot identify image file <_io.BytesIO object at 0x00000220320E36A0>\n",
      "Error al descargar https://assets-cdn.123rf.com/ui-components/assets/svg/gradient/premium-crown-gradient2.svg: cannot identify image file <_io.BytesIO object at 0x0000022031AF7A10>\n",
      "Error al descargar https://assets-cdn.123rf.com/ui-components/assets/svg/collection.svg: cannot identify image file <_io.BytesIO object at 0x0000022031706AC0>\n",
      "Error al descargar https://assets-cdn.123rf.com/ui-components/assets/svg/collection.svg: cannot identify image file <_io.BytesIO object at 0x0000022031B9FFB0>\n",
      "Error al descargar https://assets-cdn.123rf.com/ui-components/assets/svg/collection.svg: cannot identify image file <_io.BytesIO object at 0x0000022031B9F790>\n",
      "Error al descargar https://assets-cdn.123rf.com/ui-components/assets/svg/collection.svg: cannot identify image file <_io.BytesIO object at 0x0000022031C0E2A0>\n",
      "Error al descargar https://assets-cdn.123rf.com/ui-components/assets/svg/gradient/premium-crown-gradient2.svg: cannot identify image file <_io.BytesIO object at 0x000002203171E480>\n"
     ]
    },
    {
     "name": "stderr",
     "output_type": "stream",
     "text": [
      "Procesando imágenes de https://es.123rf.com/imagenes-de-archivo/hierbabuena.html:  72%|███████▏  | 218/302 [00:05<00:01, 52.01it/s]"
     ]
    },
    {
     "name": "stdout",
     "output_type": "stream",
     "text": [
      "Error al descargar https://assets-cdn.123rf.com/ui-components/assets/svg/collection.svg: cannot identify image file <_io.BytesIO object at 0x0000022031B9FF60>\n",
      "Error al descargar https://assets-cdn.123rf.com/ui-components/assets/svg/collection.svg: cannot identify image file <_io.BytesIO object at 0x0000022030F15AD0>\n",
      "Error al descargar https://assets-cdn.123rf.com/ui-components/assets/svg/collection.svg: cannot identify image file <_io.BytesIO object at 0x0000022031B9FD30>\n",
      "Error al descargar https://assets-cdn.123rf.com/ui-components/assets/svg/collection.svg: cannot identify image file <_io.BytesIO object at 0x0000022031B9F790>\n",
      "Error al descargar https://assets-cdn.123rf.com/ui-components/assets/svg/collection.svg: cannot identify image file <_io.BytesIO object at 0x0000022031B9F880>\n",
      "Error al descargar https://assets-cdn.123rf.com/ui-components/assets/svg/gradient/premium-crown-gradient2.svg: cannot identify image file <_io.BytesIO object at 0x000002207F3E6430>\n",
      "Error al descargar https://assets-cdn.123rf.com/ui-components/assets/svg/gradient/premium-crown-gradient2.svg: cannot identify image file <_io.BytesIO object at 0x0000022031B9FE20>\n",
      "Error al descargar https://assets-cdn.123rf.com/ui-components/assets/svg/collection.svg: cannot identify image file <_io.BytesIO object at 0x00000220320E36A0>\n",
      "Error al descargar https://assets-cdn.123rf.com/ui-components/assets/svg/gradient/premium-crown-gradient2.svg: cannot identify image file <_io.BytesIO object at 0x0000022031AF7B00>\n",
      "Error al descargar https://assets-cdn.123rf.com/ui-components/assets/svg/collection.svg: cannot identify image file <_io.BytesIO object at 0x0000022031B9FD30>\n",
      "Error al descargar https://assets-cdn.123rf.com/ui-components/assets/svg/collection.svg: cannot identify image file <_io.BytesIO object at 0x0000022030F14090>\n",
      "Error al descargar https://assets-cdn.123rf.com/ui-components/assets/svg/collection.svg: cannot identify image file <_io.BytesIO object at 0x0000022031706DE0>\n",
      "Error al descargar https://assets-cdn.123rf.com/ui-components/assets/svg/gradient/premium-crown-gradient2.svg: cannot identify image file <_io.BytesIO object at 0x0000022031B9F7E0>\n",
      "Error al descargar https://assets-cdn.123rf.com/ui-components/assets/svg/collection.svg: cannot identify image file <_io.BytesIO object at 0x0000022031B9FE20>\n",
      "Error al descargar https://assets-cdn.123rf.com/ui-components/assets/svg/collection.svg: cannot identify image file <_io.BytesIO object at 0x0000022031B9F740>\n",
      "Error al descargar https://assets-cdn.123rf.com/ui-components/assets/svg/collection.svg: cannot identify image file <_io.BytesIO object at 0x0000022031B9F790>\n",
      "Error al descargar https://assets-cdn.123rf.com/ui-components/assets/svg/gradient/premium-crown-gradient2.svg: cannot identify image file <_io.BytesIO object at 0x0000022031B9FF60>\n",
      "Error al descargar https://assets-cdn.123rf.com/ui-components/assets/svg/collection.svg: cannot identify image file <_io.BytesIO object at 0x0000022031B9F6A0>\n"
     ]
    },
    {
     "name": "stderr",
     "output_type": "stream",
     "text": [
      "Procesando imágenes de https://es.123rf.com/imagenes-de-archivo/hierbabuena.html:  81%|████████  | 244/302 [00:06<00:01, 49.90it/s]"
     ]
    },
    {
     "name": "stdout",
     "output_type": "stream",
     "text": [
      "Error al descargar https://assets-cdn.123rf.com/ui-components/assets/svg/collection.svg: cannot identify image file <_io.BytesIO object at 0x00000220320E2160>\n",
      "Error al descargar https://assets-cdn.123rf.com/ui-components/assets/svg/collection.svg: cannot identify image file <_io.BytesIO object at 0x000002203171EF20>\n",
      "Error al descargar https://assets-cdn.123rf.com/ui-components/assets/svg/collection.svg: cannot identify image file <_io.BytesIO object at 0x00000220320E36A0>\n",
      "Error al descargar https://assets-cdn.123rf.com/ui-components/assets/svg/collection.svg: cannot identify image file <_io.BytesIO object at 0x0000022031B9F830>\n",
      "Error al descargar https://assets-cdn.123rf.com/ui-components/assets/svg/collection.svg: cannot identify image file <_io.BytesIO object at 0x0000022031706AC0>\n",
      "Error al descargar https://assets-cdn.123rf.com/ui-components/assets/svg/collection.svg: cannot identify image file <_io.BytesIO object at 0x0000022031B60FE0>\n",
      "Error al descargar https://assets-cdn.123rf.com/ui-components/assets/svg/collection.svg: cannot identify image file <_io.BytesIO object at 0x0000022030F16390>\n",
      "Error al descargar https://assets-cdn.123rf.com/ui-components/assets/svg/collection.svg: cannot identify image file <_io.BytesIO object at 0x0000022031AF7D30>\n",
      "Error al descargar https://assets-cdn.123rf.com/ui-components/assets/svg/collection.svg: cannot identify image file <_io.BytesIO object at 0x000002203114DCB0>\n",
      "Error al descargar https://assets-cdn.123rf.com/ui-components/assets/svg/collection.svg: cannot identify image file <_io.BytesIO object at 0x0000022031706750>\n",
      "Error al descargar https://assets-cdn.123rf.com/ui-components/assets/svg/gradient/premium-crown-gradient2.svg: cannot identify image file <_io.BytesIO object at 0x000002207F3E6430>\n"
     ]
    },
    {
     "name": "stderr",
     "output_type": "stream",
     "text": [
      "Procesando imágenes de https://es.123rf.com/imagenes-de-archivo/hierbabuena.html:  87%|████████▋ | 263/302 [00:06<00:00, 49.32it/s]"
     ]
    },
    {
     "name": "stdout",
     "output_type": "stream",
     "text": [
      "Error al descargar https://assets-cdn.123rf.com/ui-components/assets/svg/collection.svg: cannot identify image file <_io.BytesIO object at 0x0000022031AF7FB0>\n",
      "Error al descargar https://assets-cdn.123rf.com/ui-components/assets/svg/collection.svg: cannot identify image file <_io.BytesIO object at 0x0000022031AF7F60>\n",
      "Error al descargar https://assets-cdn.123rf.com/ui-components/assets/svg/collection.svg: cannot identify image file <_io.BytesIO object at 0x00000220320F3A10>\n",
      "Error al descargar https://assets-cdn.123rf.com/ui-components/assets/svg/collection.svg: cannot identify image file <_io.BytesIO object at 0x0000022031B9FF10>\n",
      "Error al descargar https://assets-cdn.123rf.com/ui-components/assets/svg/collection.svg: cannot identify image file <_io.BytesIO object at 0x0000022031C0DB20>\n",
      "Error al descargar https://assets-cdn.123rf.com/ui-components/assets/svg/collection.svg: cannot identify image file <_io.BytesIO object at 0x0000022031B9F6A0>\n"
     ]
    },
    {
     "name": "stderr",
     "output_type": "stream",
     "text": [
      "Procesando imágenes de https://es.123rf.com/imagenes-de-archivo/hierbabuena.html:  92%|█████████▏| 278/302 [00:06<00:00, 49.43it/s]"
     ]
    },
    {
     "name": "stdout",
     "output_type": "stream",
     "text": [
      "Error al descargar https://assets-cdn.123rf.com/ui-components/assets/svg/collection.svg: cannot identify image file <_io.BytesIO object at 0x00000220320E36A0>\n",
      "Error al descargar https://assets-cdn.123rf.com/ui-components/assets/svg/collection.svg: cannot identify image file <_io.BytesIO object at 0x0000022031B9FD30>\n",
      "Error al descargar https://assets-cdn.123rf.com/ui-components/assets/svg/gradient/premium-crown-gradient2.svg: cannot identify image file <_io.BytesIO object at 0x0000022031AF7F60>\n",
      "Error al descargar https://assets-cdn.123rf.com/ui-components/assets/svg/collection.svg: cannot identify image file <_io.BytesIO object at 0x00000220320F3A60>\n",
      "Error al descargar https://assets-cdn.123rf.com/ui-components/assets/svg/collection.svg: cannot identify image file <_io.BytesIO object at 0x0000022031AF7FB0>\n",
      "Error al descargar https://assets-cdn.123rf.com/ui-components/assets/svg/collection.svg: cannot identify image file <_io.BytesIO object at 0x0000022031AF7D80>\n"
     ]
    },
    {
     "name": "stderr",
     "output_type": "stream",
     "text": [
      "Procesando imágenes de https://es.123rf.com/imagenes-de-archivo/hierbabuena.html:  96%|█████████▌| 290/302 [00:07<00:00, 48.34it/s]"
     ]
    },
    {
     "name": "stdout",
     "output_type": "stream",
     "text": [
      "Error al descargar https://assets-cdn.123rf.com/ui-components/assets/svg/collection.svg: cannot identify image file <_io.BytesIO object at 0x000002203171E480>\n",
      "Error al descargar https://assets-cdn.123rf.com/ui-components/assets/svg/collection.svg: cannot identify image file <_io.BytesIO object at 0x000002203171EF20>\n",
      "Error al descargar https://assets-cdn.123rf.com/ui-components/assets/svg/collection.svg: cannot identify image file <_io.BytesIO object at 0x00000220320E2200>\n",
      "Error al descargar https://assets-cdn.123rf.com/ui-components/assets/svg/gradient/premium-crown-gradient2.svg: cannot identify image file <_io.BytesIO object at 0x0000022031AF7F10>\n",
      "Error al descargar https://assets-cdn.123rf.com/ui-components/assets/svg/collection.svg: cannot identify image file <_io.BytesIO object at 0x0000022031C0DB20>\n",
      "Error al descargar https://assets-cdn.123rf.com/ui-components/assets/svg/collection.svg: cannot identify image file <_io.BytesIO object at 0x0000022031B60FE0>\n",
      "Error al descargar https://assets-cdn.123rf.com/ui-components/assets/svg/chevron-down.svg: cannot identify image file <_io.BytesIO object at 0x0000022031AF7830>\n",
      "Error al descargar https://assets-cdn.123rf.com/ui-components/assets/svg/chevron-down.svg: cannot identify image file <_io.BytesIO object at 0x00000220320E2160>\n"
     ]
    },
    {
     "name": "stderr",
     "output_type": "stream",
     "text": [
      "Procesando imágenes de https://es.123rf.com/imagenes-de-archivo/hierbabuena.html:  99%|█████████▉| 300/302 [00:07<00:00, 47.72it/s]"
     ]
    },
    {
     "name": "stdout",
     "output_type": "stream",
     "text": [
      "Error al descargar https://assets-cdn.123rf.com/ui-components/assets/svg/chevron-down.svg: cannot identify image file <_io.BytesIO object at 0x0000022030F14090>\n",
      "Error al descargar https://assets-cdn.123rf.com/ui-components/assets/svg/chevron-down.svg: cannot identify image file <_io.BytesIO object at 0x000002207F3E6430>\n",
      "Error al descargar https://assets-cdn.123rf.com/ui-components/assets/svg/chevron-down.svg: cannot identify image file <_io.BytesIO object at 0x00000220320F3A10>\n",
      "Error al descargar https://assets-cdn.123rf.com/ui-components/assets/svg/facebook.svg: cannot identify image file <_io.BytesIO object at 0x0000022031B9FF10>\n",
      "Error al descargar https://assets-cdn.123rf.com/ui-components/assets/svg/twitter-v2.svg: cannot identify image file <_io.BytesIO object at 0x0000022031C0E2A0>\n",
      "Error al descargar https://assets-cdn.123rf.com/ui-components/assets/svg/instagram-v2.svg: cannot identify image file <_io.BytesIO object at 0x0000022030AC5850>\n",
      "Error al descargar https://assets-cdn.123rf.com/ui-components/assets/svg/pinterest.svg: cannot identify image file <_io.BytesIO object at 0x0000022030AC5850>\n"
     ]
    },
    {
     "name": "stderr",
     "output_type": "stream",
     "text": [
      "Procesando imágenes de https://es.123rf.com/imagenes-de-archivo/hierbabuena.html: 100%|██████████| 302/302 [00:07<00:00, 40.18it/s]\n"
     ]
    },
    {
     "name": "stdout",
     "output_type": "stream",
     "text": [
      "Error al descargar https://assets-cdn.123rf.com/ui-components/assets/svg/whatsapp-v3.svg: cannot identify image file <_io.BytesIO object at 0x0000022031840040>\n",
      "Error procesando https://depositphotos.com/es/photos/hierbabuena.html: HTTPSConnectionPool(host='depositphotos.com', port=443): Max retries exceeded with url: /es/photos/hierbabuena.html (Caused by ConnectTimeoutError(<urllib3.connection.HTTPSConnection object at 0x0000022031A97D60>, 'Connection to depositphotos.com timed out. (connect timeout=10)'))\n"
     ]
    },
    {
     "name": "stderr",
     "output_type": "stream",
     "text": [
      "Procesando imágenes de https://www.tuasaude.com/es/hierbabuena/: 100%|██████████| 44/44 [00:01<00:00, 39.11it/s]\n",
      "Procesando imágenes de https://pixabay.com/es/images/search/hierbabuena/: 0it [00:00, ?it/s]\n",
      "Procesando imágenes de https://es.pngtree.com/so/hierbabuena: 0it [00:00, ?it/s]\n",
      "Some characters could not be decoded, and were replaced with REPLACEMENT CHARACTER.\n",
      "Procesando imágenes de https://www.gob.mx/cms/uploads/attachment/file/96245/Hierbabuena_monografias.pdf: 0it [00:00, ?it/s]\n"
     ]
    },
    {
     "name": "stdout",
     "output_type": "stream",
     "text": [
      "Error procesando https://depositphotos.com/es/photos/hoja-hierbabuena.html: HTTPSConnectionPool(host='depositphotos.com', port=443): Max retries exceeded with url: /es/photos/hoja-hierbabuena.html (Caused by ConnectTimeoutError(<urllib3.connection.HTTPSConnection object at 0x00000220312B4790>, 'Connection to depositphotos.com timed out. (connect timeout=10)'))\n"
     ]
    },
    {
     "name": "stderr",
     "output_type": "stream",
     "text": [
      "Procesando imágenes de https://es.123rf.com/imagenes-de-archivo/hierbabuena.html:   4%|▎         | 11/302 [00:00<00:08, 32.91it/s]"
     ]
    },
    {
     "name": "stdout",
     "output_type": "stream",
     "text": [
      "Error al descargar https://assets-cdn.123rf.com/ui-components/assets/svg/ai-face-swap.svg: cannot identify image file <_io.BytesIO object at 0x000002203171EF20>\n",
      "Error al descargar https://assets-cdn.123rf.com/ui-components/assets/svg/ai-sketch.svg: cannot identify image file <_io.BytesIO object at 0x0000022031B9F4C0>\n",
      "Error al descargar https://assets-cdn.123rf.com/ui-components/assets/svg/chevron-down.svg: cannot identify image file <_io.BytesIO object at 0x0000022031B9EE80>\n",
      "Error al descargar https://assets-cdn.123rf.com/ui-components/assets/svg/ai-img-generator.svg: cannot identify image file <_io.BytesIO object at 0x0000022031B9FA60>\n",
      "Error al descargar https://assets-cdn.123rf.com/ui-components/assets/svg/gradient/123rf-logo-gradient.svg: cannot identify image file <_io.BytesIO object at 0x00000220323C7A60>\n",
      "Error al descargar https://assets-cdn.123rf.com/ui-components/assets/svg/ai-img-upscaler.svg: cannot identify image file <_io.BytesIO object at 0x0000022030F15D50>\n"
     ]
    },
    {
     "name": "stderr",
     "output_type": "stream",
     "text": [
      "Procesando imágenes de https://es.123rf.com/imagenes-de-archivo/hierbabuena.html:   5%|▌         | 16/302 [00:00<00:08, 34.24it/s]"
     ]
    },
    {
     "name": "stdout",
     "output_type": "stream",
     "text": [
      "Error al descargar https://assets-cdn.123rf.com/ui-components/assets/svg/ai-bg-blur.svg: cannot identify image file <_io.BytesIO object at 0x000002202FA39210>\n",
      "Error al descargar https://assets-cdn.123rf.com/ui-components/assets/svg/ai-generative-fill.svg: cannot identify image file <_io.BytesIO object at 0x0000022031B9FA10>\n",
      "Error al descargar https://assets-cdn.123rf.com/ui-components/assets/svg/ai-writer.svg: cannot identify image file <_io.BytesIO object at 0x0000022032111CB0>\n",
      "Error al descargar https://assets-cdn.123rf.com/ui-components/assets/svg/ai-img-extender.svg: cannot identify image file <_io.BytesIO object at 0x00000220323C6480>\n",
      "Error al descargar https://assets-cdn.123rf.com/ui-components/assets/svg/ai-bg-remix.svg: cannot identify image file <_io.BytesIO object at 0x0000022032111D00>\n",
      "Error al descargar https://assets-cdn.123rf.com/ui-components/assets/svg/ai-bg-removal.svg: cannot identify image file <_io.BytesIO object at 0x0000022031B61CB0>\n"
     ]
    },
    {
     "name": "stderr",
     "output_type": "stream",
     "text": [
      "Procesando imágenes de https://es.123rf.com/imagenes-de-archivo/hierbabuena.html:  11%|█         | 32/302 [00:00<00:06, 44.15it/s]"
     ]
    },
    {
     "name": "stdout",
     "output_type": "stream",
     "text": [
      "Error al descargar https://assets-cdn.123rf.com/ui-components/assets/svg/tick.svg: cannot identify image file <_io.BytesIO object at 0x00000220311C5FD0>Error al descargar https://assets-cdn.123rf.com/ui-components/assets/svg/chevron-down.svg: cannot identify image file <_io.BytesIO object at 0x0000022031B9EE80>\n",
      "\n",
      "Error al descargar https://assets-cdn.123rf.com/ui-components/assets/svg/chevron-down.svg: cannot identify image file <_io.BytesIO object at 0x000002203171EF20>\n",
      "Error al descargar https://assets-cdn.123rf.com/ui-components/assets/svg/tick.svg: cannot identify image file <_io.BytesIO object at 0x0000022031B63010>\n",
      "Error al descargar https://assets-cdn.123rf.com/ui-components/assets/svg/tick.svg: cannot identify image file <_io.BytesIO object at 0x0000022032111D50>\n",
      "Error al descargar https://assets-cdn.123rf.com/ui-components/assets/images/plus-upsell-ai-v3.png: cannot write mode P as JPEG\n",
      "Error al descargar https://assets-cdn.123rf.com/ui-components/assets/svg/tick.svg: cannot identify image file <_io.BytesIO object at 0x00000220323C6B10>\n",
      "Error al descargar https://assets-cdn.123rf.com/ui-components/assets/svg/tick.svg: cannot identify image file <_io.BytesIO object at 0x00000220321118A0>\n",
      "Error al descargar https://assets-cdn.123rf.com/ui-components/assets/svg/tick.svg: cannot identify image file <_io.BytesIO object at 0x00000220311C60C0>\n",
      "Error al descargar https://assets-cdn.123rf.com/ui-components/assets/svg/tick.svg: cannot identify image file <_io.BytesIO object at 0x0000022031B61CB0>\n"
     ]
    },
    {
     "name": "stderr",
     "output_type": "stream",
     "text": [
      "Procesando imágenes de https://es.123rf.com/imagenes-de-archivo/hierbabuena.html:  12%|█▏        | 37/302 [00:00<00:06, 43.63it/s]"
     ]
    },
    {
     "name": "stdout",
     "output_type": "stream",
     "text": [
      "Error al descargar https://assets-cdn.123rf.com/ui-components/assets/svg/tick.svg: cannot identify image file <_io.BytesIO object at 0x00000220311C6B60>\n",
      "Error al descargar https://assets-cdn.123rf.com/ui-components/assets/svg/tick.svg: cannot identify image file <_io.BytesIO object at 0x0000022031B9FA10>\n",
      "Error al descargar https://assets-cdn.123rf.com/ui-components/assets/svg/tick.svg: cannot identify image file <_io.BytesIO object at 0x000002203171EF20>\n",
      "Error al descargar https://assets-cdn.123rf.com/ui-components/assets/svg/tick.svg: cannot identify image file <_io.BytesIO object at 0x0000022030F15D50>\n",
      "Error al descargar https://assets-cdn.123rf.com/ui-components/assets/svg/tick.svg: cannot identify image file <_io.BytesIO object at 0x0000022032111D50>\n",
      "Error al descargar https://assets-cdn.123rf.com/ui-components/assets/svg/tick.svg: cannot identify image file <_io.BytesIO object at 0x00000220323C65C0>\n",
      "Error al descargar https://assets-cdn.123rf.com/ui-components/assets/svg/tick.svg: cannot identify image file <_io.BytesIO object at 0x0000022032111CB0>\n",
      "Error al descargar https://assets-cdn.123rf.com/ui-components/assets/svg/tick.svg: cannot identify image file <_io.BytesIO object at 0x0000022032111D00>\n",
      "Error al descargar https://assets-cdn.123rf.com/ui-components/assets/svg/menu.svg: cannot identify image file <_io.BytesIO object at 0x0000022031B9F380>\n",
      "Error al descargar https://assets-cdn.123rf.com/ui-components/assets/svg/camera.svg: cannot identify image file <_io.BytesIO object at 0x00000220321253F0>\n"
     ]
    },
    {
     "name": "stderr",
     "output_type": "stream",
     "text": [
      "Procesando imágenes de https://es.123rf.com/imagenes-de-archivo/hierbabuena.html:  17%|█▋        | 52/302 [00:01<00:05, 46.86it/s]"
     ]
    },
    {
     "name": "stdout",
     "output_type": "stream",
     "text": [
      "Error al descargar https://assets-cdn.123rf.com/ui-components/assets/svg/upload.svg: cannot identify image file <_io.BytesIO object at 0x00000220311C5FD0>\n",
      "Error al descargar https://assets-cdn.123rf.com/ui-components/assets/svg/close.svg: cannot identify image file <_io.BytesIO object at 0x0000022031B63010>\n",
      "Error al descargar https://assets-cdn.123rf.com/ui-components/assets/svg/all-images.svg: cannot identify image file <_io.BytesIO object at 0x00000220323C5530>\n",
      "Error al descargar https://assets-cdn.123rf.com/ui-components/assets/svg/chevron-down.svg: cannot identify image file <_io.BytesIO object at 0x0000022031B9FA60>\n",
      "Error al descargar https://assets-cdn.123rf.com/ui-components/assets/svg/close.svg: cannot identify image file <_io.BytesIO object at 0x00000220311CBF60>\n",
      "Error al descargar https://assets-cdn.123rf.com/ui-components/assets/svg/camera.svg: cannot identify image file <_io.BytesIO object at 0x00000220323C7A60>\n",
      "Error al descargar https://assets-cdn.123rf.com/ui-components/assets/svg/premium.svg: cannot identify image file <_io.BytesIO object at 0x0000022032111CB0>\n",
      "Error al descargar https://assets-cdn.123rf.com/ui-components/assets/svg/all-images.svg: cannot identify image file <_io.BytesIO object at 0x000002202FA39210>\n",
      "Error al descargar https://assets-cdn.123rf.com/ui-components/assets/svg/photos.svg: cannot identify image file <_io.BytesIO object at 0x00000220311C60C0>\n",
      "Error al descargar https://assets-cdn.123rf.com/ui-components/assets/svg/vector.svg: cannot identify image file <_io.BytesIO object at 0x0000022031B9EE80>\n"
     ]
    },
    {
     "name": "stderr",
     "output_type": "stream",
     "text": [
      "Procesando imágenes de https://es.123rf.com/imagenes-de-archivo/hierbabuena.html:  19%|█▉        | 58/302 [00:01<00:05, 46.66it/s]"
     ]
    },
    {
     "name": "stdout",
     "output_type": "stream",
     "text": [
      "Error al descargar https://assets-cdn.123rf.com/ui-components/assets/svg/footage.svg: cannot identify image file <_io.BytesIO object at 0x0000022030F15D50>\n",
      "Error al descargar https://assets-cdn.123rf.com/ui-components/assets/svg/font-v2.svg: cannot identify image file <_io.BytesIO object at 0x0000022031B63010>\n",
      "Error al descargar https://assets-cdn.123rf.com/ui-components/assets/svg/ai-img-generator.svg: cannot identify image file <_io.BytesIO object at 0x00000220323C44F0>\n",
      "Error al descargar https://assets-cdn.123rf.com/ui-components/assets/svg/audio.svg: cannot identify image file <_io.BytesIO object at 0x00000220311C6B60>\n",
      "Error al descargar https://assets-cdn.123rf.com/ui-components/assets/svg/search.svg: cannot identify image file <_io.BytesIO object at 0x00000220323C6F20>\n",
      "Error al descargar https://assets-cdn.123rf.com/ui-components/assets/svg/plus.svg: cannot identify image file <_io.BytesIO object at 0x0000022032111DA0>\n",
      "Error al descargar https://assets-cdn.123rf.com/ui-components/assets/svg/free.svg: cannot identify image file <_io.BytesIO object at 0x00000220323C68E0>\n",
      "Error al descargar https://assets-cdn.123rf.com/ui-components/assets/svg/collection.svg: cannot identify image file <_io.BytesIO object at 0x0000022031B9F4C0>\n"
     ]
    },
    {
     "name": "stderr",
     "output_type": "stream",
     "text": [
      "Procesando imágenes de https://es.123rf.com/imagenes-de-archivo/hierbabuena.html:  24%|██▍       | 72/302 [00:01<00:04, 48.02it/s]"
     ]
    },
    {
     "name": "stdout",
     "output_type": "stream",
     "text": [
      "Error al descargar https://assets-cdn.123rf.com/ui-components/assets/svg/collection.svg: cannot identify image file <_io.BytesIO object at 0x0000022030F15D50>\n",
      "Error al descargar https://assets-cdn.123rf.com/ui-components/assets/svg/collection.svg: cannot identify image file <_io.BytesIO object at 0x000002202FA39210>\n",
      "Error al descargar https://assets-cdn.123rf.com/ui-components/assets/svg/collection.svg: cannot identify image file <_io.BytesIO object at 0x0000022032111CB0>\n",
      "Error al descargar https://assets-cdn.123rf.com/ui-components/assets/svg/gradient/premium-crown-gradient2.svg: cannot identify image file <_io.BytesIO object at 0x00000220311C6B60>\n",
      "Error al descargar https://assets-cdn.123rf.com/ui-components/assets/svg/collection.svg: cannot identify image file <_io.BytesIO object at 0x00000220323C71F0>\n",
      "Error al descargar https://assets-cdn.123rf.com/ui-components/assets/svg/collection.svg: cannot identify image file <_io.BytesIO object at 0x00000220311C60C0>\n",
      "Error al descargar https://assets-cdn.123rf.com/ui-components/assets/svg/collection.svg: cannot identify image file <_io.BytesIO object at 0x00000220323C53F0>\n"
     ]
    },
    {
     "name": "stderr",
     "output_type": "stream",
     "text": [
      "Procesando imágenes de https://es.123rf.com/imagenes-de-archivo/hierbabuena.html:  27%|██▋       | 83/302 [00:02<00:04, 45.57it/s]"
     ]
    },
    {
     "name": "stdout",
     "output_type": "stream",
     "text": [
      "Error al descargar https://assets-cdn.123rf.com/ui-components/assets/svg/collection.svg: cannot identify image file <_io.BytesIO object at 0x0000022032111DF0>\n",
      "Error al descargar https://assets-cdn.123rf.com/ui-components/assets/svg/collection.svg: cannot identify image file <_io.BytesIO object at 0x00000220321253F0>\n",
      "Error al descargar https://assets-cdn.123rf.com/ui-components/assets/svg/collection.svg: cannot identify image file <_io.BytesIO object at 0x00000220311C6B60>\n",
      "Error al descargar https://assets-cdn.123rf.com/ui-components/assets/svg/gradient/premium-crown-gradient2.svg: cannot identify image file <_io.BytesIO object at 0x00000220321118A0>\n",
      "Error al descargar https://assets-cdn.123rf.com/ui-components/assets/svg/gradient/premium-crown-gradient2.svg: cannot identify image file <_io.BytesIO object at 0x00000220311CB0B0>\n",
      "Error al descargar https://assets-cdn.123rf.com/ui-components/assets/svg/collection.svg: cannot identify image file <_io.BytesIO object at 0x00000220311A30B0>\n",
      "Error al descargar https://assets-cdn.123rf.com/ui-components/assets/svg/collection.svg: cannot identify image file <_io.BytesIO object at 0x000002202FA39210>\n"
     ]
    },
    {
     "name": "stderr",
     "output_type": "stream",
     "text": [
      "Procesando imágenes de https://es.123rf.com/imagenes-de-archivo/hierbabuena.html:  29%|██▉       | 88/302 [00:02<00:04, 45.89it/s]"
     ]
    },
    {
     "name": "stdout",
     "output_type": "stream",
     "text": [
      "Error al descargar https://assets-cdn.123rf.com/ui-components/assets/svg/collection.svg: cannot identify image file <_io.BytesIO object at 0x0000022032111CB0>\n",
      "Error al descargar https://assets-cdn.123rf.com/ui-components/assets/svg/collection.svg: cannot identify image file <_io.BytesIO object at 0x00000220311C6B60>\n",
      "Error al descargar https://assets-cdn.123rf.com/ui-components/assets/svg/gradient/premium-crown-gradient2.svg: cannot identify image file <_io.BytesIO object at 0x0000022032111D00>\n",
      "Error al descargar https://assets-cdn.123rf.com/ui-components/assets/svg/collection.svg: cannot identify image file <_io.BytesIO object at 0x0000022031B9FA60>\n",
      "Error al descargar https://assets-cdn.123rf.com/ui-components/assets/svg/collection.svg: cannot identify image file <_io.BytesIO object at 0x0000022032111D50>\n",
      "Error al descargar https://assets-cdn.123rf.com/ui-components/assets/svg/collection.svg: cannot identify image file <_io.BytesIO object at 0x00000220321253F0>\n",
      "Error al descargar https://assets-cdn.123rf.com/ui-components/assets/svg/collection.svg: cannot identify image file <_io.BytesIO object at 0x00000220321118A0>\n",
      "Error al descargar https://assets-cdn.123rf.com/ui-components/assets/svg/gradient/premium-crown-gradient2.svg: cannot identify image file <_io.BytesIO object at 0x000002202FA39210>\n",
      "Error al descargar https://assets-cdn.123rf.com/ui-components/assets/svg/collection.svg: cannot identify image file <_io.BytesIO object at 0x0000022032111D00>\n",
      "Error al descargar https://assets-cdn.123rf.com/ui-components/assets/svg/collection.svg: cannot identify image file <_io.BytesIO object at 0x00000220323C4630>\n",
      "Error al descargar https://assets-cdn.123rf.com/ui-components/assets/svg/gradient/premium-crown-gradient2.svg: cannot identify image file <_io.BytesIO object at 0x0000022032111DA0>\n",
      "Error al descargar https://assets-cdn.123rf.com/ui-components/assets/svg/gradient/premium-crown-gradient2.svg: cannot identify image file <_io.BytesIO object at 0x0000022031B63A60>\n",
      "Error al descargar https://assets-cdn.123rf.com/ui-components/assets/svg/collection.svg: cannot identify image file <_io.BytesIO object at 0x00000220311C6B60>\n",
      "Error al descargar https://assets-cdn.123rf.com/ui-components/assets/svg/collection.svg: cannot identify image file <_io.BytesIO object at 0x00000220311C5FD0>\n",
      "Error al descargar https://assets-cdn.123rf.com/ui-components/assets/svg/collection.svg: cannot identify image file <_io.BytesIO object at 0x0000022030F15D50>\n",
      "Error al descargar https://assets-cdn.123rf.com/ui-components/assets/svg/gradient/premium-crown-gradient2.svg: cannot identify image file <_io.BytesIO object at 0x0000022031B9FA60>\n",
      "Error al descargar https://assets-cdn.123rf.com/ui-components/assets/svg/collection.svg: cannot identify image file <_io.BytesIO object at 0x00000220321118A0>\n",
      "Error al descargar https://assets-cdn.123rf.com/ui-components/assets/svg/gradient/premium-crown-gradient2.svg: cannot identify image file <_io.BytesIO object at 0x00000220311CB0B0>\n",
      "Error al descargar https://assets-cdn.123rf.com/ui-components/assets/svg/collection.svg: cannot identify image file <_io.BytesIO object at 0x00000220311C6B60>\n",
      "Error al descargar https://assets-cdn.123rf.com/ui-components/assets/svg/gradient/premium-crown-gradient2.svg: cannot identify image file <_io.BytesIO object at 0x000002202FA39210>\n",
      "Error al descargar https://assets-cdn.123rf.com/ui-components/assets/svg/collection.svg: cannot identify image file <_io.BytesIO object at 0x000002203171EF20>\n",
      "Error al descargar https://assets-cdn.123rf.com/ui-components/assets/svg/collection.svg: cannot identify image file <_io.BytesIO object at 0x0000022031B9FA60>\n",
      "Error al descargar https://assets-cdn.123rf.com/ui-components/assets/svg/collection.svg: cannot identify image file <_io.BytesIO object at 0x0000022031B618F0>\n",
      "Error al descargar https://assets-cdn.123rf.com/ui-components/assets/svg/collection.svg: cannot identify image file <_io.BytesIO object at 0x0000022032111D50>\n",
      "Error al descargar https://assets-cdn.123rf.com/ui-components/assets/svg/collection.svg: cannot identify image file <_io.BytesIO object at 0x00000220311CBF60>\n",
      "Error al descargar https://assets-cdn.123rf.com/ui-components/assets/svg/collection.svg: cannot identify image file <_io.BytesIO object at 0x00000220321253F0>\n",
      "Error al descargar https://assets-cdn.123rf.com/ui-components/assets/svg/collection.svg: cannot identify image file <_io.BytesIO object at 0x00000220311C6B60>\n",
      "Error al descargar https://assets-cdn.123rf.com/ui-components/assets/svg/collection.svg: cannot identify image file <_io.BytesIO object at 0x00000220311CB0B0>\n",
      "Error al descargar https://assets-cdn.123rf.com/ui-components/assets/svg/collection.svg: cannot identify image file <_io.BytesIO object at 0x000002203171EF20>\n",
      "Error al descargar https://assets-cdn.123rf.com/ui-components/assets/svg/gradient/premium-crown-gradient2.svg: cannot identify image file <_io.BytesIO object at 0x0000022031B63A60>\n",
      "Error al descargar https://assets-cdn.123rf.com/ui-components/assets/svg/collection.svg: cannot identify image file <_io.BytesIO object at 0x00000220311A30B0>\n",
      "Error al descargar https://assets-cdn.123rf.com/ui-components/assets/svg/gradient/premium-crown-gradient2.svg: cannot identify image file <_io.BytesIO object at 0x0000022031B618F0>\n",
      "Error al descargar https://assets-cdn.123rf.com/ui-components/assets/svg/collection.svg: cannot identify image file <_io.BytesIO object at 0x00000220323C54E0>\n",
      "Error al descargar https://assets-cdn.123rf.com/ui-components/assets/svg/collection.svg: cannot identify image file <_io.BytesIO object at 0x0000022031B9FA60>\n",
      "Error al descargar https://assets-cdn.123rf.com/ui-components/assets/svg/gradient/premium-crown-gradient2.svg: cannot identify image file <_io.BytesIO object at 0x000002203171EF20>\n",
      "Error al descargar https://assets-cdn.123rf.com/ui-components/assets/svg/collection.svg: cannot identify image file <_io.BytesIO object at 0x00000220311C5FD0>\n",
      "Error al descargar https://assets-cdn.123rf.com/ui-components/assets/svg/gradient/premium-crown-gradient2.svg: cannot identify image file <_io.BytesIO object at 0x00000220311C6B60>\n",
      "Error al descargar https://assets-cdn.123rf.com/ui-components/assets/svg/collection.svg: cannot identify image file <_io.BytesIO object at 0x0000022032111DA0>\n",
      "Error al descargar https://assets-cdn.123rf.com/ui-components/assets/svg/gradient/premium-crown-gradient2.svg: cannot identify image file <_io.BytesIO object at 0x0000022032111D50>\n",
      "Error al descargar https://assets-cdn.123rf.com/ui-components/assets/svg/collection.svg: cannot identify image file <_io.BytesIO object at 0x0000022031B9FA60>\n",
      "Error al descargar https://assets-cdn.123rf.com/ui-components/assets/svg/collection.svg: cannot identify image file <_io.BytesIO object at 0x0000022032111CB0>\n",
      "Error al descargar https://assets-cdn.123rf.com/ui-components/assets/svg/collection.svg: cannot identify image file <_io.BytesIO object at 0x0000022030F15D50>\n",
      "Error al descargar https://assets-cdn.123rf.com/ui-components/assets/svg/collection.svg: cannot identify image file <_io.BytesIO object at 0x00000220311CB0B0>\n",
      "Error al descargar https://assets-cdn.123rf.com/ui-components/assets/svg/gradient/premium-crown-gradient2.svg: cannot identify image file <_io.BytesIO object at 0x00000220311A30B0>\n",
      "Error al descargar https://assets-cdn.123rf.com/ui-components/assets/svg/collection.svg: cannot identify image file <_io.BytesIO object at 0x00000220321253F0>\n",
      "Error al descargar https://assets-cdn.123rf.com/ui-components/assets/svg/gradient/premium-crown-gradient2.svg: cannot identify image file <_io.BytesIO object at 0x0000022031B9FA60>\n",
      "Error al descargar https://assets-cdn.123rf.com/ui-components/assets/svg/collection.svg: cannot identify image file <_io.BytesIO object at 0x0000022032111D00>\n",
      "Error al descargar https://assets-cdn.123rf.com/ui-components/assets/svg/gradient/premium-crown-gradient2.svg: cannot identify image file <_io.BytesIO object at 0x000002202FA39210>\n",
      "Error al descargar https://assets-cdn.123rf.com/ui-components/assets/svg/collection.svg: cannot identify image file <_io.BytesIO object at 0x000002203171EF20>\n",
      "Error al descargar https://assets-cdn.123rf.com/ui-components/assets/svg/collection.svg: cannot identify image file <_io.BytesIO object at 0x0000022030F15300>\n",
      "Error al descargar https://assets-cdn.123rf.com/ui-components/assets/svg/gradient/premium-crown-gradient2.svg: cannot identify image file <_io.BytesIO object at 0x0000022031B63A60>\n",
      "Error al descargar https://assets-cdn.123rf.com/ui-components/assets/svg/collection.svg: cannot identify image file <_io.BytesIO object at 0x0000022031B618F0>\n",
      "Error al descargar https://assets-cdn.123rf.com/ui-components/assets/svg/collection.svg: cannot identify image file <_io.BytesIO object at 0x0000022032111CB0>\n",
      "Error al descargar https://assets-cdn.123rf.com/ui-components/assets/svg/collection.svg: cannot identify image file <_io.BytesIO object at 0x00000220311CB0B0>\n",
      "Error al descargar https://assets-cdn.123rf.com/ui-components/assets/svg/collection.svg: cannot identify image file <_io.BytesIO object at 0x000002203171EF20>\n",
      "Error al descargar https://assets-cdn.123rf.com/ui-components/assets/svg/collection.svg: cannot identify image file <_io.BytesIO object at 0x00000220323C5940>\n",
      "Error al descargar https://assets-cdn.123rf.com/ui-components/assets/svg/gradient/premium-crown-gradient2.svg: cannot identify image file <_io.BytesIO object at 0x0000022030F15D50>\n",
      "Error al descargar https://assets-cdn.123rf.com/ui-components/assets/svg/collection.svg: cannot identify image file <_io.BytesIO object at 0x00000220321118A0>\n",
      "Error al descargar https://assets-cdn.123rf.com/ui-components/assets/svg/collection.svg: cannot identify image file <_io.BytesIO object at 0x00000220311C6B60>\n",
      "Error al descargar https://assets-cdn.123rf.com/ui-components/assets/svg/gradient/premium-crown-gradient2.svg: cannot identify image file <_io.BytesIO object at 0x000002203171EF20>\n",
      "Error al descargar https://assets-cdn.123rf.com/ui-components/assets/svg/collection.svg: cannot identify image file <_io.BytesIO object at 0x0000022030F15300>\n",
      "Error al descargar https://assets-cdn.123rf.com/ui-components/assets/svg/collection.svg: cannot identify image file <_io.BytesIO object at 0x0000022031B9FA60>\n",
      "Error al descargar https://assets-cdn.123rf.com/ui-components/assets/svg/collection.svg: cannot identify image file <_io.BytesIO object at 0x0000022031B9FA10>\n",
      "Error al descargar https://assets-cdn.123rf.com/ui-components/assets/svg/gradient/premium-crown-gradient2.svg: cannot identify image file <_io.BytesIO object at 0x00000220311C6DE0>\n",
      "Error al descargar https://assets-cdn.123rf.com/ui-components/assets/svg/gradient/premium-crown-gradient2.svg: cannot identify image file <_io.BytesIO object at 0x00000220311CBF60>\n",
      "Error al descargar https://assets-cdn.123rf.com/ui-components/assets/svg/collection.svg: cannot identify image file <_io.BytesIO object at 0x00000220311A30B0>\n",
      "Error al descargar https://assets-cdn.123rf.com/ui-components/assets/svg/collection.svg: cannot identify image file <_io.BytesIO object at 0x0000022032111D50>\n",
      "Error al descargar https://assets-cdn.123rf.com/ui-components/assets/svg/collection.svg: cannot identify image file <_io.BytesIO object at 0x00000220311C5FD0>\n",
      "Error al descargar https://assets-cdn.123rf.com/ui-components/assets/svg/gradient/premium-crown-gradient2.svg: cannot identify image file <_io.BytesIO object at 0x0000022031B618F0>\n",
      "Error al descargar https://assets-cdn.123rf.com/ui-components/assets/svg/collection.svg: cannot identify image file <_io.BytesIO object at 0x0000022031B63010>\n",
      "Error al descargar https://assets-cdn.123rf.com/ui-components/assets/svg/collection.svg: cannot identify image file <_io.BytesIO object at 0x000002203171EF20>\n",
      "Error al descargar https://assets-cdn.123rf.com/ui-components/assets/svg/collection.svg: cannot identify image file <_io.BytesIO object at 0x0000022031B63A60>\n",
      "Error al descargar https://assets-cdn.123rf.com/ui-components/assets/svg/collection.svg: cannot identify image file <_io.BytesIO object at 0x00000220311C6CA0>\n",
      "Error al descargar https://assets-cdn.123rf.com/ui-components/assets/svg/collection.svg: cannot identify image file <_io.BytesIO object at 0x00000220321253F0>\n",
      "Error al descargar https://assets-cdn.123rf.com/ui-components/assets/svg/gradient/premium-crown-gradient2.svg: cannot identify image file <_io.BytesIO object at 0x0000022031B9FA10>\n",
      "Error al descargar https://assets-cdn.123rf.com/ui-components/assets/svg/collection.svg: cannot identify image file <_io.BytesIO object at 0x00000220311C6DE0>\n",
      "Error al descargar https://assets-cdn.123rf.com/ui-components/assets/svg/gradient/premium-crown-gradient2.svg: cannot identify image file <_io.BytesIO object at 0x0000022032111D50>\n",
      "Error al descargar https://assets-cdn.123rf.com/ui-components/assets/svg/collection.svg: cannot identify image file <_io.BytesIO object at 0x0000022031B63E20>\n",
      "Error al descargar https://assets-cdn.123rf.com/ui-components/assets/svg/gradient/premium-crown-gradient2.svg: cannot identify image file <_io.BytesIO object at 0x00000220311C6CA0>\n",
      "Error al descargar https://assets-cdn.123rf.com/ui-components/assets/svg/collection.svg: cannot identify image file <_io.BytesIO object at 0x00000220323C5990>\n",
      "Error al descargar https://assets-cdn.123rf.com/ui-components/assets/svg/collection.svg: cannot identify image file <_io.BytesIO object at 0x00000220311A30B0>\n",
      "Error al descargar https://assets-cdn.123rf.com/ui-components/assets/svg/collection.svg: cannot identify image file <_io.BytesIO object at 0x0000022031B63010>\n",
      "Error al descargar https://assets-cdn.123rf.com/ui-components/assets/svg/gradient/premium-crown-gradient2.svg: cannot identify image file <_io.BytesIO object at 0x0000022032111D50>\n",
      "Error al descargar https://assets-cdn.123rf.com/ui-components/assets/svg/collection.svg: cannot identify image file <_io.BytesIO object at 0x0000022031B63A60>\n",
      "Error al descargar https://assets-cdn.123rf.com/ui-components/assets/svg/collection.svg: cannot identify image file <_io.BytesIO object at 0x0000022032111D00>\n",
      "Error al descargar https://assets-cdn.123rf.com/ui-components/assets/svg/collection.svg: cannot identify image file <_io.BytesIO object at 0x0000022032111DA0>\n"
     ]
    },
    {
     "name": "stderr",
     "output_type": "stream",
     "text": [
      "Procesando imágenes de https://es.123rf.com/imagenes-de-archivo/hierbabuena.html:  80%|███████▉  | 241/302 [00:05<00:01, 57.67it/s]"
     ]
    },
    {
     "name": "stdout",
     "output_type": "stream",
     "text": [
      "Error al descargar https://assets-cdn.123rf.com/ui-components/assets/svg/gradient/premium-crown-gradient2.svg: cannot identify image file <_io.BytesIO object at 0x00000220311C60C0>\n",
      "Error al descargar https://assets-cdn.123rf.com/ui-components/assets/svg/gradient/premium-crown-gradient2.svg: cannot identify image file <_io.BytesIO object at 0x00000220323C4AE0>\n",
      "Error al descargar https://assets-cdn.123rf.com/ui-components/assets/svg/collection.svg: cannot identify image file <_io.BytesIO object at 0x000002202FA39210>\n",
      "Error al descargar https://assets-cdn.123rf.com/ui-components/assets/svg/collection.svg: cannot identify image file <_io.BytesIO object at 0x0000022032111CB0>\n",
      "Error al descargar https://assets-cdn.123rf.com/ui-components/assets/svg/collection.svg: cannot identify image file <_io.BytesIO object at 0x00000220323C5990>\n",
      "Error al descargar https://assets-cdn.123rf.com/ui-components/assets/svg/collection.svg: cannot identify image file <_io.BytesIO object at 0x0000022031B9FA10>\n",
      "Error al descargar https://assets-cdn.123rf.com/ui-components/assets/svg/collection.svg: cannot identify image file <_io.BytesIO object at 0x00000220311C60C0>\n",
      "Error al descargar https://assets-cdn.123rf.com/ui-components/assets/svg/collection.svg: cannot identify image file <_io.BytesIO object at 0x0000022032111D50>\n",
      "Error al descargar https://assets-cdn.123rf.com/ui-components/assets/svg/collection.svg: cannot identify image file <_io.BytesIO object at 0x0000022031B63010>\n",
      "Error al descargar https://assets-cdn.123rf.com/ui-components/assets/svg/collection.svg: cannot identify image file <_io.BytesIO object at 0x0000022032111D00>\n",
      "Error al descargar https://assets-cdn.123rf.com/ui-components/assets/svg/collection.svg: cannot identify image file <_io.BytesIO object at 0x00000220321253F0>\n",
      "Error al descargar https://assets-cdn.123rf.com/ui-components/assets/svg/collection.svg: cannot identify image file <_io.BytesIO object at 0x00000220311C6CA0>\n",
      "Error al descargar https://assets-cdn.123rf.com/ui-components/assets/svg/gradient/premium-crown-gradient2.svg: cannot identify image file <_io.BytesIO object at 0x0000022031B9FB00>\n",
      "Error al descargar https://assets-cdn.123rf.com/ui-components/assets/svg/collection.svg: cannot identify image file <_io.BytesIO object at 0x0000022032111CB0>\n",
      "Error al descargar https://assets-cdn.123rf.com/ui-components/assets/svg/collection.svg: cannot identify image file <_io.BytesIO object at 0x0000022031B63010>\n",
      "Error al descargar https://assets-cdn.123rf.com/ui-components/assets/svg/collection.svg: cannot identify image file <_io.BytesIO object at 0x00000220311A30B0>\n",
      "Error al descargar https://assets-cdn.123rf.com/ui-components/assets/svg/collection.svg: cannot identify image file <_io.BytesIO object at 0x0000022032111D00>\n",
      "Error al descargar https://assets-cdn.123rf.com/ui-components/assets/svg/collection.svg: cannot identify image file <_io.BytesIO object at 0x00000220311C6DE0>\n",
      "Error al descargar https://assets-cdn.123rf.com/ui-components/assets/svg/collection.svg: cannot identify image file <_io.BytesIO object at 0x0000022031B9FA60>\n",
      "Error al descargar https://assets-cdn.123rf.com/ui-components/assets/svg/collection.svg: cannot identify image file <_io.BytesIO object at 0x00000220323C5490>\n",
      "Error al descargar https://assets-cdn.123rf.com/ui-components/assets/svg/collection.svg: cannot identify image file <_io.BytesIO object at 0x0000022031B618F0>\n"
     ]
    },
    {
     "name": "stderr",
     "output_type": "stream",
     "text": [
      "Procesando imágenes de https://es.123rf.com/imagenes-de-archivo/hierbabuena.html:  92%|█████████▏| 278/302 [00:06<00:00, 53.45it/s]"
     ]
    },
    {
     "name": "stdout",
     "output_type": "stream",
     "text": [
      "Error al descargar https://assets-cdn.123rf.com/ui-components/assets/svg/collection.svg: cannot identify image file <_io.BytesIO object at 0x00000220321253F0>\n",
      "Error al descargar https://assets-cdn.123rf.com/ui-components/assets/svg/collection.svg: cannot identify image file <_io.BytesIO object at 0x0000022031B62570>\n",
      "Error al descargar https://assets-cdn.123rf.com/ui-components/assets/svg/collection.svg: cannot identify image file <_io.BytesIO object at 0x0000022032111CB0>\n",
      "Error al descargar https://assets-cdn.123rf.com/ui-components/assets/svg/collection.svg: cannot identify image file <_io.BytesIO object at 0x0000022031B63010>\n",
      "Error al descargar https://assets-cdn.123rf.com/ui-components/assets/svg/gradient/premium-crown-gradient2.svg: cannot identify image file <_io.BytesIO object at 0x00000220311C6CA0>\n",
      "Error al descargar https://assets-cdn.123rf.com/ui-components/assets/svg/collection.svg: cannot identify image file <_io.BytesIO object at 0x0000022031B9FA10>\n",
      "Error al descargar https://assets-cdn.123rf.com/ui-components/assets/svg/collection.svg: cannot identify image file <_io.BytesIO object at 0x00000220311C6DE0>\n",
      "Error al descargar https://assets-cdn.123rf.com/ui-components/assets/svg/collection.svg: cannot identify image file <_io.BytesIO object at 0x00000220323C6F70>\n",
      "Error al descargar https://assets-cdn.123rf.com/ui-components/assets/svg/gradient/premium-crown-gradient2.svg: cannot identify image file <_io.BytesIO object at 0x0000022031B9FA60>\n",
      "Error al descargar https://assets-cdn.123rf.com/ui-components/assets/svg/collection.svg: cannot identify image file <_io.BytesIO object at 0x0000022030F15300>\n",
      "Error al descargar https://assets-cdn.123rf.com/ui-components/assets/svg/collection.svg: cannot identify image file <_io.BytesIO object at 0x00000220311C5FD0>\n",
      "Error al descargar https://assets-cdn.123rf.com/ui-components/assets/svg/chevron-down.svg: cannot identify image file <_io.BytesIO object at 0x0000022032111D50>\n",
      "Error al descargar https://assets-cdn.123rf.com/ui-components/assets/svg/chevron-down.svg: cannot identify image file <_io.BytesIO object at 0x00000220321118A0>\n",
      "Error al descargar https://assets-cdn.123rf.com/ui-components/assets/svg/chevron-down.svg: cannot identify image file <_io.BytesIO object at 0x00000220311A30B0>\n",
      "Error al descargar https://assets-cdn.123rf.com/ui-components/assets/svg/chevron-down.svg: cannot identify image file <_io.BytesIO object at 0x00000220321253F0>\n"
     ]
    },
    {
     "name": "stderr",
     "output_type": "stream",
     "text": [
      "Procesando imágenes de https://es.123rf.com/imagenes-de-archivo/hierbabuena.html: 100%|██████████| 302/302 [00:07<00:00, 42.64it/s]"
     ]
    },
    {
     "name": "stdout",
     "output_type": "stream",
     "text": [
      "Error al descargar https://assets-cdn.123rf.com/ui-components/assets/svg/chevron-down.svg: cannot identify image file <_io.BytesIO object at 0x000002203171EF20>\n",
      "Error al descargar https://assets-cdn.123rf.com/ui-components/assets/svg/facebook.svg: cannot identify image file <_io.BytesIO object at 0x0000022031B63A60>\n",
      "Error al descargar https://assets-cdn.123rf.com/ui-components/assets/svg/twitter-v2.svg: cannot identify image file <_io.BytesIO object at 0x00000220311C6CA0>\n",
      "Error al descargar https://assets-cdn.123rf.com/ui-components/assets/svg/pinterest.svg: cannot identify image file <_io.BytesIO object at 0x0000022030F15D50>\n",
      "Error al descargar https://assets-cdn.123rf.com/ui-components/assets/svg/whatsapp-v3.svg: cannot identify image file <_io.BytesIO object at 0x00000220311CB0B0>\n",
      "Error al descargar https://assets-cdn.123rf.com/ui-components/assets/svg/instagram-v2.svg: cannot identify image file <_io.BytesIO object at 0x00000220311C60C0>\n"
     ]
    },
    {
     "name": "stderr",
     "output_type": "stream",
     "text": [
      "\n"
     ]
    },
    {
     "name": "stdout",
     "output_type": "stream",
     "text": [
      "Error procesando https://depositphotos.com/es/photos/hierbabuena.html: HTTPSConnectionPool(host='depositphotos.com', port=443): Max retries exceeded with url: /es/photos/hierbabuena.html (Caused by ConnectTimeoutError(<urllib3.connection.HTTPSConnection object at 0x00000220313C5DE0>, 'Connection to depositphotos.com timed out. (connect timeout=10)'))\n"
     ]
    },
    {
     "name": "stderr",
     "output_type": "stream",
     "text": [
      "Procesando imágenes de https://www.tuasaude.com/es/hierbabuena/: 100%|██████████| 44/44 [00:00<00:00, 51.36it/s]\n",
      "Procesando imágenes de https://pixabay.com/es/images/search/hierbabuena/: 0it [00:00, ?it/s]\n",
      "Procesando imágenes de https://es.pngtree.com/so/hierbabuena: 0it [00:00, ?it/s]\n",
      "Some characters could not be decoded, and were replaced with REPLACEMENT CHARACTER.\n",
      "Procesando imágenes de https://www.gob.mx/cms/uploads/attachment/file/96245/Hierbabuena_monografias.pdf: 0it [00:00, ?it/s]\n",
      "Procesando imágenes de https://pixabay.com/es/images/search/hierbabuena/: 0it [00:00, ?it/s]\n",
      "Procesando imágenes de https://es.pngtree.com/so/hierbabuena: 0it [00:00, ?it/s]\n",
      "Some characters could not be decoded, and were replaced with REPLACEMENT CHARACTER.\n",
      "Procesando imágenes de https://www.gob.mx/cms/uploads/attachment/file/96245/Hierbabuena_monografias.pdf: 0it [00:00, ?it/s]\n",
      "Procesando imágenes de https://es.pngtree.com/so/hierbabuena: 0it [00:00, ?it/s]\n",
      "Some characters could not be decoded, and were replaced with REPLACEMENT CHARACTER.\n",
      "Procesando imágenes de https://www.gob.mx/cms/uploads/attachment/file/96245/Hierbabuena_monografias.pdf: 0it [00:00, ?it/s]\n"
     ]
    },
    {
     "name": "stdout",
     "output_type": "stream",
     "text": [
      "Clase 'hierbabuena' completada: 14 para entrenamiento, 4 para validación.\n",
      "Buscando imágenes para la clase: manzanilla\n",
      "Error procesando https://depositphotos.com/es/photos/planta-de-manzanilla.html: HTTPSConnectionPool(host='depositphotos.com', port=443): Max retries exceeded with url: /es/photos/planta-de-manzanilla.html (Caused by ConnectTimeoutError(<urllib3.connection.HTTPSConnection object at 0x000002203139B760>, 'Connection to depositphotos.com timed out. (connect timeout=10)'))\n",
      "Error procesando https://depositphotos.com/es/photos/hojas-de-manzanilla.html: HTTPSConnectionPool(host='depositphotos.com', port=443): Max retries exceeded with url: /es/photos/hojas-de-manzanilla.html (Caused by ConnectTimeoutError(<urllib3.connection.HTTPSConnection object at 0x000002203214BA30>, 'Connection to depositphotos.com timed out. (connect timeout=10)'))\n"
     ]
    },
    {
     "name": "stderr",
     "output_type": "stream",
     "text": [
      "Procesando imágenes de https://es.123rf.com/imagenes-de-archivo/manzanilla.html:   4%|▎         | 11/300 [00:00<00:07, 36.95it/s]"
     ]
    },
    {
     "name": "stdout",
     "output_type": "stream",
     "text": [
      "Error al descargar https://assets-cdn.123rf.com/ui-components/assets/svg/chevron-down.svg: cannot identify image file <_io.BytesIO object at 0x0000022031D32840>\n",
      "Error al descargar https://assets-cdn.123rf.com/ui-components/assets/svg/ai-sketch.svg: cannot identify image file <_io.BytesIO object at 0x0000022031838E50>\n",
      "Error al descargar https://assets-cdn.123rf.com/ui-components/assets/svg/gradient/123rf-logo-gradient.svg: cannot identify image file <_io.BytesIO object at 0x0000022031C0E700>\n",
      "Error al descargar https://assets-cdn.123rf.com/ui-components/assets/svg/ai-face-swap.svg: cannot identify image file <_io.BytesIO object at 0x000002203183A660>\n",
      "Error al descargar https://assets-cdn.123rf.com/ui-components/assets/svg/ai-img-generator.svg: cannot identify image file <_io.BytesIO object at 0x0000022031D33CE0>\n",
      "Error al descargar https://assets-cdn.123rf.com/ui-components/assets/svg/ai-img-upscaler.svg: cannot identify image file <_io.BytesIO object at 0x000002203183BB00>\n",
      "Error al descargar https://assets-cdn.123rf.com/ui-components/assets/svg/ai-generative-fill.svg: cannot identify image file <_io.BytesIO object at 0x0000022031839F30>\n"
     ]
    },
    {
     "name": "stderr",
     "output_type": "stream",
     "text": [
      "Procesando imágenes de https://es.123rf.com/imagenes-de-archivo/manzanilla.html:   6%|▌         | 17/300 [00:00<00:06, 40.45it/s]"
     ]
    },
    {
     "name": "stdout",
     "output_type": "stream",
     "text": [
      "Error al descargar https://assets-cdn.123rf.com/ui-components/assets/svg/ai-bg-blur.svg: cannot identify image file <_io.BytesIO object at 0x0000022031839490>\n",
      "Error al descargar https://assets-cdn.123rf.com/ui-components/assets/svg/ai-bg-remix.svg: cannot identify image file <_io.BytesIO object at 0x0000022031D33740>\n",
      "Error al descargar https://assets-cdn.123rf.com/ui-components/assets/svg/ai-img-extender.svg: cannot identify image file <_io.BytesIO object at 0x000002203183AB60>\n",
      "Error al descargar https://assets-cdn.123rf.com/ui-components/assets/svg/ai-writer.svg: cannot identify image file <_io.BytesIO object at 0x00000220317071A0>\n",
      "Error al descargar https://assets-cdn.123rf.com/ui-components/assets/svg/ai-bg-removal.svg: cannot identify image file <_io.BytesIO object at 0x000002203183B920>\n"
     ]
    },
    {
     "name": "stderr",
     "output_type": "stream",
     "text": [
      "Procesando imágenes de https://es.123rf.com/imagenes-de-archivo/manzanilla.html:   8%|▊         | 23/300 [00:00<00:08, 30.94it/s]"
     ]
    },
    {
     "name": "stdout",
     "output_type": "stream",
     "text": [
      "Error al descargar https://assets-cdn.123rf.com/ui-components/assets/svg/chevron-down.svg: cannot identify image file <_io.BytesIO object at 0x0000022031C0E700>\n",
      "Error al descargar https://assets-cdn.123rf.com/ui-components/assets/svg/tick.svg: cannot identify image file <_io.BytesIO object at 0x0000022031D33C90>\n",
      "Error al descargar https://assets-cdn.123rf.com/ui-components/assets/svg/tick.svg: cannot identify image file <_io.BytesIO object at 0x0000022031D33D30>\n",
      "Error al descargar https://assets-cdn.123rf.com/ui-components/assets/svg/chevron-down.svg: cannot identify image file <_io.BytesIO object at 0x0000022031D33B00>\n",
      "Error al descargar https://assets-cdn.123rf.com/ui-components/assets/svg/tick.svg: cannot identify image file <_io.BytesIO object at 0x0000022031D33790>\n",
      "Error al descargar https://assets-cdn.123rf.com/ui-components/assets/svg/tick.svg: cannot identify image file <_io.BytesIO object at 0x0000022031D33AB0>\n",
      "Error al descargar https://assets-cdn.123rf.com/ui-components/assets/svg/tick.svg: cannot identify image file <_io.BytesIO object at 0x0000022031647FB0>\n",
      "Error al descargar https://assets-cdn.123rf.com/ui-components/assets/images/plus-upsell-ai-v3.png: cannot write mode P as JPEG\n",
      "Error al descargar https://assets-cdn.123rf.com/ui-components/assets/svg/tick.svg: cannot identify image file <_io.BytesIO object at 0x0000022031647830>\n",
      "Error al descargar https://assets-cdn.123rf.com/ui-components/assets/svg/tick.svg: cannot identify image file <_io.BytesIO object at 0x0000022031D32700>\n"
     ]
    },
    {
     "name": "stderr",
     "output_type": "stream",
     "text": [
      "Procesando imágenes de https://es.123rf.com/imagenes-de-archivo/manzanilla.html:  14%|█▎        | 41/300 [00:01<00:05, 46.90it/s]"
     ]
    },
    {
     "name": "stdout",
     "output_type": "stream",
     "text": [
      "Error al descargar https://assets-cdn.123rf.com/ui-components/assets/svg/tick.svg: cannot identify image file <_io.BytesIO object at 0x0000022031D33740>\n",
      "Error al descargar https://assets-cdn.123rf.com/ui-components/assets/svg/tick.svg: cannot identify image file <_io.BytesIO object at 0x000002202F99A520>\n",
      "Error al descargar https://assets-cdn.123rf.com/ui-components/assets/svg/tick.svg: cannot identify image file <_io.BytesIO object at 0x0000022031C0E700>\n",
      "Error al descargar https://assets-cdn.123rf.com/ui-components/assets/svg/tick.svg: cannot identify image file <_io.BytesIO object at 0x0000022031D32480>\n",
      "Error al descargar https://assets-cdn.123rf.com/ui-components/assets/svg/tick.svg: cannot identify image file <_io.BytesIO object at 0x0000022031D33AB0>\n",
      "Error al descargar https://assets-cdn.123rf.com/ui-components/assets/svg/tick.svg: cannot identify image file <_io.BytesIO object at 0x0000022031D33B00>\n",
      "Error al descargar https://assets-cdn.123rf.com/ui-components/assets/svg/tick.svg: cannot identify image file <_io.BytesIO object at 0x0000022031647FB0>\n",
      "Error al descargar https://assets-cdn.123rf.com/ui-components/assets/svg/tick.svg: cannot identify image file <_io.BytesIO object at 0x0000022030C643B0>\n",
      "Error al descargar https://assets-cdn.123rf.com/ui-components/assets/svg/menu.svg: cannot identify image file <_io.BytesIO object at 0x000002203114F2E0>\n",
      "Error al descargar https://assets-cdn.123rf.com/ui-components/assets/svg/camera.svg: cannot identify image file <_io.BytesIO object at 0x0000022031D33AB0>\n"
     ]
    },
    {
     "name": "stderr",
     "output_type": "stream",
     "text": [
      "Procesando imágenes de https://es.123rf.com/imagenes-de-archivo/manzanilla.html:  16%|█▌        | 47/300 [00:01<00:05, 44.51it/s]"
     ]
    },
    {
     "name": "stdout",
     "output_type": "stream",
     "text": [
      "Error al descargar https://assets-cdn.123rf.com/ui-components/assets/svg/close.svg: cannot identify image file <_io.BytesIO object at 0x0000022031D33740>\n",
      "Error al descargar https://assets-cdn.123rf.com/ui-components/assets/svg/upload.svg: cannot identify image file <_io.BytesIO object at 0x00000220317071A0>\n",
      "Error al descargar https://assets-cdn.123rf.com/ui-components/assets/svg/chevron-down.svg: cannot identify image file <_io.BytesIO object at 0x0000022031D33CE0>\n",
      "Error al descargar https://assets-cdn.123rf.com/ui-components/assets/svg/premium.svg: cannot identify image file <_io.BytesIO object at 0x0000022031B61120>\n",
      "Error al descargar https://assets-cdn.123rf.com/ui-components/assets/svg/all-images.svg: cannot identify image file <_io.BytesIO object at 0x0000022031C0E700>\n",
      "Error al descargar https://assets-cdn.123rf.com/ui-components/assets/svg/close.svg: cannot identify image file <_io.BytesIO object at 0x0000022031839530>\n",
      "Error al descargar https://assets-cdn.123rf.com/ui-components/assets/svg/camera.svg: cannot identify image file <_io.BytesIO object at 0x0000022031D33C90>\n",
      "Error al descargar https://assets-cdn.123rf.com/ui-components/assets/svg/photos.svg: cannot identify image file <_io.BytesIO object at 0x0000022031647830>\n",
      "Error al descargar https://assets-cdn.123rf.com/ui-components/assets/svg/all-images.svg: cannot identify image file <_io.BytesIO object at 0x00000220317078D0>\n",
      "Error al descargar https://assets-cdn.123rf.com/ui-components/assets/svg/vector.svg: cannot identify image file <_io.BytesIO object at 0x0000022030F158A0>\n"
     ]
    },
    {
     "name": "stderr",
     "output_type": "stream",
     "text": [
      "Procesando imágenes de https://es.123rf.com/imagenes-de-archivo/manzanilla.html:  20%|██        | 60/300 [00:01<00:05, 42.44it/s]"
     ]
    },
    {
     "name": "stdout",
     "output_type": "stream",
     "text": [
      "Error al descargar https://assets-cdn.123rf.com/ui-components/assets/svg/footage.svg: cannot identify image file <_io.BytesIO object at 0x0000022031D33790>\n",
      "Error al descargar https://assets-cdn.123rf.com/ui-components/assets/svg/audio.svg: cannot identify image file <_io.BytesIO object at 0x000002202F99A520>\n",
      "Error al descargar https://assets-cdn.123rf.com/ui-components/assets/svg/font-v2.svg: cannot identify image file <_io.BytesIO object at 0x0000022031D32430>\n",
      "Error al descargar https://assets-cdn.123rf.com/ui-components/assets/svg/search.svg: cannot identify image file <_io.BytesIO object at 0x0000022031D33C90>\n",
      "Error al descargar https://assets-cdn.123rf.com/ui-components/assets/svg/ai-img-generator.svg: cannot identify image file <_io.BytesIO object at 0x0000022031647FB0>\n",
      "Error al descargar https://assets-cdn.123rf.com/ui-components/assets/svg/plus.svg: cannot identify image file <_io.BytesIO object at 0x0000022030C643B0>\n",
      "Error al descargar https://assets-cdn.123rf.com/ui-components/assets/svg/free.svg: cannot identify image file <_io.BytesIO object at 0x0000022031D32390>\n",
      "Error al descargar https://assets-cdn.123rf.com/ui-components/assets/svg/gradient/premium-crown-gradient2.svg: cannot identify image file <_io.BytesIO object at 0x00000220317078D0>\n",
      "Error al descargar https://assets-cdn.123rf.com/ui-components/assets/svg/collection.svg: cannot identify image file <_io.BytesIO object at 0x0000022030F158A0>\n"
     ]
    },
    {
     "name": "stderr",
     "output_type": "stream",
     "text": [
      "Procesando imágenes de https://es.123rf.com/imagenes-de-archivo/manzanilla.html:  23%|██▎       | 70/300 [00:01<00:05, 43.40it/s]"
     ]
    },
    {
     "name": "stdout",
     "output_type": "stream",
     "text": [
      "Error al descargar https://assets-cdn.123rf.com/ui-components/assets/svg/collection.svg: cannot identify image file <_io.BytesIO object at 0x0000022031D326B0>\n",
      "Error al descargar https://assets-cdn.123rf.com/ui-components/assets/svg/gradient/premium-crown-gradient2.svg: cannot identify image file <_io.BytesIO object at 0x00000220317071A0>\n",
      "Error al descargar https://assets-cdn.123rf.com/ui-components/assets/svg/gradient/premium-crown-gradient2.svg: cannot identify image file <_io.BytesIO object at 0x0000022030DA2ED0>\n",
      "Error al descargar https://assets-cdn.123rf.com/ui-components/assets/svg/collection.svg: cannot identify image file <_io.BytesIO object at 0x0000022031C0E700>\n",
      "Error al descargar https://assets-cdn.123rf.com/ui-components/assets/svg/collection.svg: cannot identify image file <_io.BytesIO object at 0x0000022031647830>\n",
      "Error al descargar https://assets-cdn.123rf.com/ui-components/assets/svg/gradient/premium-crown-gradient2.svg: cannot identify image file <_io.BytesIO object at 0x0000022031839760>\n",
      "Error al descargar https://assets-cdn.123rf.com/ui-components/assets/svg/collection.svg: cannot identify image file <_io.BytesIO object at 0x0000022030F158A0>\n"
     ]
    },
    {
     "name": "stderr",
     "output_type": "stream",
     "text": [
      "Procesando imágenes de https://es.123rf.com/imagenes-de-archivo/manzanilla.html:  26%|██▌       | 77/300 [00:01<00:05, 44.18it/s]"
     ]
    },
    {
     "name": "stdout",
     "output_type": "stream",
     "text": [
      "Error al descargar https://assets-cdn.123rf.com/ui-components/assets/svg/collection.svg: cannot identify image file <_io.BytesIO object at 0x0000022031D32390>\n",
      "Error al descargar https://assets-cdn.123rf.com/ui-components/assets/svg/collection.svg: cannot identify image file <_io.BytesIO object at 0x0000022031647FB0>\n",
      "Error al descargar https://assets-cdn.123rf.com/ui-components/assets/svg/gradient/premium-crown-gradient2.svg: cannot identify image file <_io.BytesIO object at 0x000002202F99A520>\n",
      "Error al descargar https://assets-cdn.123rf.com/ui-components/assets/svg/gradient/premium-crown-gradient2.svg: cannot identify image file <_io.BytesIO object at 0x0000022031D32660>\n",
      "Error al descargar https://assets-cdn.123rf.com/ui-components/assets/svg/collection.svg: cannot identify image file <_io.BytesIO object at 0x0000022031647830>\n",
      "Error al descargar https://assets-cdn.123rf.com/ui-components/assets/svg/gradient/premium-crown-gradient2.svg: cannot identify image file <_io.BytesIO object at 0x000002203183AA70>\n",
      "Error al descargar https://assets-cdn.123rf.com/ui-components/assets/svg/collection.svg: cannot identify image file <_io.BytesIO object at 0x0000022030F14540>\n"
     ]
    },
    {
     "name": "stderr",
     "output_type": "stream",
     "text": [
      "Procesando imágenes de https://es.123rf.com/imagenes-de-archivo/manzanilla.html:  31%|███       | 93/300 [00:02<00:04, 46.24it/s]"
     ]
    },
    {
     "name": "stdout",
     "output_type": "stream",
     "text": [
      "Error al descargar https://assets-cdn.123rf.com/ui-components/assets/svg/collection.svg: cannot identify image file <_io.BytesIO object at 0x0000022031D32390>\n",
      "Error al descargar https://assets-cdn.123rf.com/ui-components/assets/svg/gradient/premium-crown-gradient2.svg: cannot identify image file <_io.BytesIO object at 0x0000022030DA2ED0>\n",
      "Error al descargar https://assets-cdn.123rf.com/ui-components/assets/svg/collection.svg: cannot identify image file <_io.BytesIO object at 0x00000220317071A0>\n",
      "Error al descargar https://assets-cdn.123rf.com/ui-components/assets/svg/collection.svg: cannot identify image file <_io.BytesIO object at 0x0000022031D33AB0>\n",
      "Error al descargar https://assets-cdn.123rf.com/ui-components/assets/svg/collection.svg: cannot identify image file <_io.BytesIO object at 0x0000022031647830>\n",
      "Error al descargar https://assets-cdn.123rf.com/ui-components/assets/svg/collection.svg: cannot identify image file <_io.BytesIO object at 0x0000022030F158A0>\n"
     ]
    },
    {
     "name": "stderr",
     "output_type": "stream",
     "text": [
      "Procesando imágenes de https://es.123rf.com/imagenes-de-archivo/manzanilla.html:  35%|███▌      | 105/300 [00:02<00:03, 49.07it/s]"
     ]
    },
    {
     "name": "stdout",
     "output_type": "stream",
     "text": [
      "Error al descargar https://assets-cdn.123rf.com/ui-components/assets/svg/collection.svg: cannot identify image file <_io.BytesIO object at 0x0000022031D32390>\n",
      "Error al descargar https://assets-cdn.123rf.com/ui-components/assets/svg/gradient/premium-crown-gradient2.svg: cannot identify image file <_io.BytesIO object at 0x0000022031D33DD0>\n",
      "Error al descargar https://assets-cdn.123rf.com/ui-components/assets/svg/collection.svg: cannot identify image file <_io.BytesIO object at 0x000002202F99A520>\n",
      "Error al descargar https://assets-cdn.123rf.com/ui-components/assets/svg/gradient/premium-crown-gradient2.svg: cannot identify image file <_io.BytesIO object at 0x0000022031D339C0>\n",
      "Error al descargar https://assets-cdn.123rf.com/ui-components/assets/svg/collection.svg: cannot identify image file <_io.BytesIO object at 0x0000022031D33600>\n",
      "Error al descargar https://assets-cdn.123rf.com/ui-components/assets/svg/collection.svg: cannot identify image file <_io.BytesIO object at 0x00000220317078D0>\n",
      "Error al descargar https://assets-cdn.123rf.com/ui-components/assets/svg/gradient/premium-crown-gradient2.svg: cannot identify image file <_io.BytesIO object at 0x000002202F16D800>\n"
     ]
    },
    {
     "name": "stderr",
     "output_type": "stream",
     "text": [
      "Procesando imágenes de https://es.123rf.com/imagenes-de-archivo/manzanilla.html:  37%|███▋      | 111/300 [00:02<00:03, 48.47it/s]"
     ]
    },
    {
     "name": "stdout",
     "output_type": "stream",
     "text": [
      "Error al descargar https://assets-cdn.123rf.com/ui-components/assets/svg/collection.svg: cannot identify image file <_io.BytesIO object at 0x00000220317071A0>\n",
      "Error al descargar https://assets-cdn.123rf.com/ui-components/assets/svg/collection.svg: cannot identify image file <_io.BytesIO object at 0x0000022031839800>\n",
      "Error al descargar https://assets-cdn.123rf.com/ui-components/assets/svg/collection.svg: cannot identify image file <_io.BytesIO object at 0x0000022031C0E700>\n",
      "Error al descargar https://assets-cdn.123rf.com/ui-components/assets/svg/collection.svg: cannot identify image file <_io.BytesIO object at 0x0000022031D324D0>\n",
      "Error al descargar https://assets-cdn.123rf.com/ui-components/assets/svg/collection.svg: cannot identify image file <_io.BytesIO object at 0x0000022030C643B0>\n"
     ]
    },
    {
     "name": "stderr",
     "output_type": "stream",
     "text": [
      "Procesando imágenes de https://es.123rf.com/imagenes-de-archivo/manzanilla.html:  42%|████▏     | 125/300 [00:02<00:03, 48.14it/s]"
     ]
    },
    {
     "name": "stdout",
     "output_type": "stream",
     "text": [
      "Error al descargar https://assets-cdn.123rf.com/ui-components/assets/svg/collection.svg: cannot identify image file <_io.BytesIO object at 0x00000220317078D0>\n",
      "Error al descargar https://assets-cdn.123rf.com/ui-components/assets/svg/gradient/premium-crown-gradient2.svg: cannot identify image file <_io.BytesIO object at 0x000002202F99A520>\n",
      "Error al descargar https://assets-cdn.123rf.com/ui-components/assets/svg/collection.svg: cannot identify image file <_io.BytesIO object at 0x0000022031D325C0>\n",
      "Error al descargar https://assets-cdn.123rf.com/ui-components/assets/svg/collection.svg: cannot identify image file <_io.BytesIO object at 0x000002203183A160>\n",
      "Error al descargar https://assets-cdn.123rf.com/ui-components/assets/svg/gradient/premium-crown-gradient2.svg: cannot identify image file <_io.BytesIO object at 0x0000022031D339C0>\n",
      "Error al descargar https://assets-cdn.123rf.com/ui-components/assets/svg/collection.svg: cannot identify image file <_io.BytesIO object at 0x0000022030DA2ED0>\n",
      "Error al descargar https://assets-cdn.123rf.com/ui-components/assets/svg/collection.svg: cannot identify image file <_io.BytesIO object at 0x00000220317071A0>\n"
     ]
    },
    {
     "name": "stderr",
     "output_type": "stream",
     "text": [
      "Procesando imágenes de https://es.123rf.com/imagenes-de-archivo/manzanilla.html:  45%|████▌     | 136/300 [00:03<00:03, 45.83it/s]"
     ]
    },
    {
     "name": "stdout",
     "output_type": "stream",
     "text": [
      "Error al descargar https://assets-cdn.123rf.com/ui-components/assets/svg/collection.svg: cannot identify image file <_io.BytesIO object at 0x0000022031D32F70>\n",
      "Error al descargar https://assets-cdn.123rf.com/ui-components/assets/svg/collection.svg: cannot identify image file <_io.BytesIO object at 0x000002203183BA10>\n",
      "Error al descargar https://assets-cdn.123rf.com/ui-components/assets/svg/collection.svg: cannot identify image file <_io.BytesIO object at 0x000002203183A570>\n",
      "Error al descargar https://assets-cdn.123rf.com/ui-components/assets/svg/collection.svg: cannot identify image file <_io.BytesIO object at 0x000002202F99A520>\n",
      "Error al descargar https://assets-cdn.123rf.com/ui-components/assets/svg/collection.svg: cannot identify image file <_io.BytesIO object at 0x000002202F16D800>\n",
      "Error al descargar https://assets-cdn.123rf.com/ui-components/assets/svg/gradient/premium-crown-gradient2.svg: cannot identify image file <_io.BytesIO object at 0x0000022031D33A10>\n"
     ]
    },
    {
     "name": "stderr",
     "output_type": "stream",
     "text": [
      "Procesando imágenes de https://es.123rf.com/imagenes-de-archivo/manzanilla.html:  50%|████▉     | 149/300 [00:03<00:03, 48.18it/s]"
     ]
    },
    {
     "name": "stdout",
     "output_type": "stream",
     "text": [
      "Error al descargar https://assets-cdn.123rf.com/ui-components/assets/svg/collection.svg: cannot identify image file <_io.BytesIO object at 0x0000022031C0E700>\n",
      "Error al descargar https://assets-cdn.123rf.com/ui-components/assets/svg/gradient/premium-crown-gradient2.svg: cannot identify image file <_io.BytesIO object at 0x000002203114FBF0>\n",
      "Error al descargar https://assets-cdn.123rf.com/ui-components/assets/svg/collection.svg: cannot identify image file <_io.BytesIO object at 0x0000022031839BC0>\n",
      "Error al descargar https://assets-cdn.123rf.com/ui-components/assets/svg/gradient/premium-crown-gradient2.svg: cannot identify image file <_io.BytesIO object at 0x0000022031D325C0>\n",
      "Error al descargar https://assets-cdn.123rf.com/ui-components/assets/svg/collection.svg: cannot identify image file <_io.BytesIO object at 0x00000220317071A0>\n",
      "Error al descargar https://assets-cdn.123rf.com/ui-components/assets/svg/collection.svg: cannot identify image file <_io.BytesIO object at 0x0000022031B61120>\n"
     ]
    },
    {
     "name": "stderr",
     "output_type": "stream",
     "text": [
      "Procesando imágenes de https://es.123rf.com/imagenes-de-archivo/manzanilla.html:  51%|█████▏    | 154/300 [00:03<00:03, 44.61it/s]"
     ]
    },
    {
     "name": "stdout",
     "output_type": "stream",
     "text": [
      "Error al descargar https://assets-cdn.123rf.com/ui-components/assets/svg/collection.svg: cannot identify image file <_io.BytesIO object at 0x0000022031D32CF0>\n",
      "Error al descargar https://assets-cdn.123rf.com/ui-components/assets/svg/gradient/premium-crown-gradient2.svg: cannot identify image file <_io.BytesIO object at 0x0000022031D31EE0>\n",
      "Error al descargar https://assets-cdn.123rf.com/ui-components/assets/svg/collection.svg: cannot identify image file <_io.BytesIO object at 0x0000022030C643B0>\n",
      "Error al descargar https://assets-cdn.123rf.com/ui-components/assets/svg/gradient/premium-crown-gradient2.svg: cannot identify image file <_io.BytesIO object at 0x0000022031D339C0>\n",
      "Error al descargar https://assets-cdn.123rf.com/ui-components/assets/svg/collection.svg: cannot identify image file <_io.BytesIO object at 0x0000022031D325C0>\n",
      "Error al descargar https://assets-cdn.123rf.com/ui-components/assets/svg/gradient/premium-crown-gradient2.svg: cannot identify image file <_io.BytesIO object at 0x00000220317071A0>\n",
      "Error al descargar https://assets-cdn.123rf.com/ui-components/assets/svg/collection.svg: cannot identify image file <_io.BytesIO object at 0x0000022031C0E700>\n"
     ]
    },
    {
     "name": "stderr",
     "output_type": "stream",
     "text": [
      "Procesando imágenes de https://es.123rf.com/imagenes-de-archivo/manzanilla.html:  56%|█████▌    | 167/300 [00:03<00:02, 48.10it/s]"
     ]
    },
    {
     "name": "stdout",
     "output_type": "stream",
     "text": [
      "Error al descargar https://assets-cdn.123rf.com/ui-components/assets/svg/collection.svg: cannot identify image file <_io.BytesIO object at 0x0000022031D33B00>\n",
      "Error al descargar https://assets-cdn.123rf.com/ui-components/assets/svg/collection.svg: cannot identify image file <_io.BytesIO object at 0x00000220318394E0>\n",
      "Error al descargar https://assets-cdn.123rf.com/ui-components/assets/svg/collection.svg: cannot identify image file <_io.BytesIO object at 0x000002203114FBF0>\n",
      "Error al descargar https://assets-cdn.123rf.com/ui-components/assets/svg/collection.svg: cannot identify image file <_io.BytesIO object at 0x000002202F16D800>\n",
      "Error al descargar https://assets-cdn.123rf.com/ui-components/assets/svg/collection.svg: cannot identify image file <_io.BytesIO object at 0x00000220317071A0>\n",
      "Error al descargar https://assets-cdn.123rf.com/ui-components/assets/svg/gradient/premium-crown-gradient2.svg: cannot identify image file <_io.BytesIO object at 0x0000022031D31EE0>\n"
     ]
    },
    {
     "name": "stderr",
     "output_type": "stream",
     "text": [
      "Procesando imágenes de https://es.123rf.com/imagenes-de-archivo/manzanilla.html:  59%|█████▉    | 178/300 [00:04<00:02, 47.03it/s]"
     ]
    },
    {
     "name": "stdout",
     "output_type": "stream",
     "text": [
      "Error al descargar https://assets-cdn.123rf.com/ui-components/assets/svg/collection.svg: cannot identify image file <_io.BytesIO object at 0x0000022031D33380>\n",
      "Error al descargar https://assets-cdn.123rf.com/ui-components/assets/svg/gradient/premium-crown-gradient2.svg: cannot identify image file <_io.BytesIO object at 0x0000022031647830>\n",
      "Error al descargar https://assets-cdn.123rf.com/ui-components/assets/svg/collection.svg: cannot identify image file <_io.BytesIO object at 0x0000022031839DA0>\n",
      "Error al descargar https://assets-cdn.123rf.com/ui-components/assets/svg/collection.svg: cannot identify image file <_io.BytesIO object at 0x0000022031B61120>\n",
      "Error al descargar https://assets-cdn.123rf.com/ui-components/assets/svg/collection.svg: cannot identify image file <_io.BytesIO object at 0x0000022031C0E700>\n",
      "Error al descargar https://assets-cdn.123rf.com/ui-components/assets/svg/gradient/premium-crown-gradient2.svg: cannot identify image file <_io.BytesIO object at 0x0000022031D335B0>\n"
     ]
    },
    {
     "name": "stderr",
     "output_type": "stream",
     "text": [
      "Procesando imágenes de https://es.123rf.com/imagenes-de-archivo/manzanilla.html:  61%|██████▏   | 184/300 [00:04<00:02, 39.97it/s]"
     ]
    },
    {
     "name": "stdout",
     "output_type": "stream",
     "text": [
      "Error al descargar https://assets-cdn.123rf.com/ui-components/assets/svg/collection.svg: cannot identify image file <_io.BytesIO object at 0x000002202F99A520>\n",
      "Error al descargar https://assets-cdn.123rf.com/ui-components/assets/svg/collection.svg: cannot identify image file <_io.BytesIO object at 0x00000220317078D0>\n",
      "Error al descargar https://assets-cdn.123rf.com/ui-components/assets/svg/collection.svg: cannot identify image file <_io.BytesIO object at 0x000002203114FBF0>\n"
     ]
    },
    {
     "name": "stderr",
     "output_type": "stream",
     "text": [
      "Procesando imágenes de https://es.123rf.com/imagenes-de-archivo/manzanilla.html:  65%|██████▍   | 194/300 [00:04<00:02, 40.16it/s]"
     ]
    },
    {
     "name": "stdout",
     "output_type": "stream",
     "text": [
      "Error al descargar https://assets-cdn.123rf.com/ui-components/assets/svg/gradient/premium-crown-gradient2.svg: cannot identify image file <_io.BytesIO object at 0x0000022030DA2ED0>\n",
      "Error al descargar https://assets-cdn.123rf.com/ui-components/assets/svg/collection.svg: cannot identify image file <_io.BytesIO object at 0x0000022031D32750>\n",
      "Error al descargar https://assets-cdn.123rf.com/ui-components/assets/svg/collection.svg: cannot identify image file <_io.BytesIO object at 0x00000220317071A0>\n",
      "Error al descargar https://assets-cdn.123rf.com/ui-components/assets/svg/collection.svg: cannot identify image file <_io.BytesIO object at 0x000002203183A1B0>\n",
      "Error al descargar https://assets-cdn.123rf.com/ui-components/assets/svg/collection.svg: cannot identify image file <_io.BytesIO object at 0x000002203183A6B0>\n",
      "Error al descargar https://assets-cdn.123rf.com/ui-components/assets/svg/collection.svg: cannot identify image file <_io.BytesIO object at 0x0000022030C643B0>\n",
      "Error al descargar https://assets-cdn.123rf.com/ui-components/assets/svg/collection.svg: cannot identify image file <_io.BytesIO object at 0x000002202F99A520>\n"
     ]
    },
    {
     "name": "stderr",
     "output_type": "stream",
     "text": [
      "Procesando imágenes de https://es.123rf.com/imagenes-de-archivo/manzanilla.html:  69%|██████▉   | 208/300 [00:04<00:01, 47.81it/s]"
     ]
    },
    {
     "name": "stdout",
     "output_type": "stream",
     "text": [
      "Error al descargar https://assets-cdn.123rf.com/ui-components/assets/svg/gradient/premium-crown-gradient2.svg: cannot identify image file <_io.BytesIO object at 0x000002203114FFB0>\n",
      "Error al descargar https://assets-cdn.123rf.com/ui-components/assets/svg/collection.svg: cannot identify image file <_io.BytesIO object at 0x00000220317071A0>\n",
      "Error al descargar https://assets-cdn.123rf.com/ui-components/assets/svg/collection.svg: cannot identify image file <_io.BytesIO object at 0x0000022031D32840>\n",
      "Error al descargar https://assets-cdn.123rf.com/ui-components/assets/svg/gradient/premium-crown-gradient2.svg: cannot identify image file <_io.BytesIO object at 0x000002203183A980>\n",
      "Error al descargar https://assets-cdn.123rf.com/ui-components/assets/svg/collection.svg: cannot identify image file <_io.BytesIO object at 0x000002203183A160>\n",
      "Error al descargar https://assets-cdn.123rf.com/ui-components/assets/svg/gradient/premium-crown-gradient2.svg: cannot identify image file <_io.BytesIO object at 0x000002202F99A520>\n",
      "Error al descargar https://assets-cdn.123rf.com/ui-components/assets/svg/collection.svg: cannot identify image file <_io.BytesIO object at 0x0000022030DA2ED0>\n"
     ]
    },
    {
     "name": "stderr",
     "output_type": "stream",
     "text": [
      "Procesando imágenes de https://es.123rf.com/imagenes-de-archivo/manzanilla.html:  73%|███████▎  | 220/300 [00:05<00:01, 47.10it/s]"
     ]
    },
    {
     "name": "stdout",
     "output_type": "stream",
     "text": [
      "Error al descargar https://assets-cdn.123rf.com/ui-components/assets/svg/collection.svg: cannot identify image file <_io.BytesIO object at 0x000002203114FFB0>\n",
      "Error al descargar https://assets-cdn.123rf.com/ui-components/assets/svg/collection.svg: cannot identify image file <_io.BytesIO object at 0x0000022031647830>\n",
      "Error al descargar https://assets-cdn.123rf.com/ui-components/assets/svg/collection.svg: cannot identify image file <_io.BytesIO object at 0x0000022031D32750>\n",
      "Error al descargar https://assets-cdn.123rf.com/ui-components/assets/svg/gradient/premium-crown-gradient2.svg: cannot identify image file <_io.BytesIO object at 0x000002203183B6F0>\n",
      "Error al descargar https://assets-cdn.123rf.com/ui-components/assets/svg/collection.svg: cannot identify image file <_io.BytesIO object at 0x000002202F99A520>\n",
      "Error al descargar https://assets-cdn.123rf.com/ui-components/assets/svg/collection.svg: cannot identify image file <_io.BytesIO object at 0x0000022030DA2ED0>\n"
     ]
    },
    {
     "name": "stderr",
     "output_type": "stream",
     "text": [
      "Procesando imágenes de https://es.123rf.com/imagenes-de-archivo/manzanilla.html:  78%|███████▊  | 234/300 [00:05<00:01, 51.01it/s]"
     ]
    },
    {
     "name": "stdout",
     "output_type": "stream",
     "text": [
      "Error al descargar https://assets-cdn.123rf.com/ui-components/assets/svg/collection.svg: cannot identify image file <_io.BytesIO object at 0x00000220317054E0>\n",
      "Error al descargar https://assets-cdn.123rf.com/ui-components/assets/svg/collection.svg: cannot identify image file <_io.BytesIO object at 0x000002203114FBF0>\n",
      "Error al descargar https://assets-cdn.123rf.com/ui-components/assets/svg/collection.svg: cannot identify image file <_io.BytesIO object at 0x00000220318392B0>\n",
      "Error al descargar https://assets-cdn.123rf.com/ui-components/assets/svg/collection.svg: cannot identify image file <_io.BytesIO object at 0x0000022031D33B50>\n",
      "Error al descargar https://assets-cdn.123rf.com/ui-components/assets/svg/collection.svg: cannot identify image file <_io.BytesIO object at 0x000002202F99A520>\n",
      "Error al descargar https://assets-cdn.123rf.com/ui-components/assets/svg/collection.svg: cannot identify image file <_io.BytesIO object at 0x00000220317078D0>\n"
     ]
    },
    {
     "name": "stderr",
     "output_type": "stream",
     "text": [
      "Procesando imágenes de https://es.123rf.com/imagenes-de-archivo/manzanilla.html:  82%|████████▏ | 245/300 [00:05<00:01, 47.89it/s]"
     ]
    },
    {
     "name": "stdout",
     "output_type": "stream",
     "text": [
      "Error al descargar https://assets-cdn.123rf.com/ui-components/assets/svg/collection.svg: cannot identify image file <_io.BytesIO object at 0x00000220320E2430>\n",
      "Error al descargar https://assets-cdn.123rf.com/ui-components/assets/svg/collection.svg: cannot identify image file <_io.BytesIO object at 0x0000022030C643B0>\n",
      "Error al descargar https://assets-cdn.123rf.com/ui-components/assets/svg/collection.svg: cannot identify image file <_io.BytesIO object at 0x0000022031D32700>\n",
      "Error al descargar https://assets-cdn.123rf.com/ui-components/assets/svg/collection.svg: cannot identify image file <_io.BytesIO object at 0x0000022031D32890>\n",
      "Error al descargar https://assets-cdn.123rf.com/ui-components/assets/svg/gradient/premium-crown-gradient2.svg: cannot identify image file <_io.BytesIO object at 0x0000022031D31E40>\n",
      "Error al descargar https://assets-cdn.123rf.com/ui-components/assets/svg/collection.svg: cannot identify image file <_io.BytesIO object at 0x0000022031D339C0>\n"
     ]
    },
    {
     "name": "stderr",
     "output_type": "stream",
     "text": [
      "Procesando imágenes de https://es.123rf.com/imagenes-de-archivo/manzanilla.html:  84%|████████▎ | 251/300 [00:05<00:01, 48.19it/s]"
     ]
    },
    {
     "name": "stdout",
     "output_type": "stream",
     "text": [
      "Error al descargar https://assets-cdn.123rf.com/ui-components/assets/svg/collection.svg: cannot identify image file <_io.BytesIO object at 0x0000022030F158A0>\n",
      "Error al descargar https://assets-cdn.123rf.com/ui-components/assets/svg/collection.svg: cannot identify image file <_io.BytesIO object at 0x0000022030DA2ED0>\n",
      "Error al descargar https://assets-cdn.123rf.com/ui-components/assets/svg/gradient/premium-crown-gradient2.svg: cannot identify image file <_io.BytesIO object at 0x000002202F99A520>\n",
      "Error al descargar https://assets-cdn.123rf.com/ui-components/assets/svg/collection.svg: cannot identify image file <_io.BytesIO object at 0x0000022031D33BF0>\n",
      "Error al descargar https://assets-cdn.123rf.com/ui-components/assets/svg/collection.svg: cannot identify image file <_io.BytesIO object at 0x00000220317078D0>\n",
      "Error al descargar https://assets-cdn.123rf.com/ui-components/assets/svg/collection.svg: cannot identify image file <_io.BytesIO object at 0x0000022030F14540>\n"
     ]
    },
    {
     "name": "stderr",
     "output_type": "stream",
     "text": [
      "Procesando imágenes de https://es.123rf.com/imagenes-de-archivo/manzanilla.html:  88%|████████▊ | 264/300 [00:05<00:00, 49.51it/s]"
     ]
    },
    {
     "name": "stdout",
     "output_type": "stream",
     "text": [
      "Error al descargar https://assets-cdn.123rf.com/ui-components/assets/svg/gradient/premium-crown-gradient2.svg: cannot identify image file <_io.BytesIO object at 0x0000022031D32750>\n",
      "Error al descargar https://assets-cdn.123rf.com/ui-components/assets/svg/collection.svg: cannot identify image file <_io.BytesIO object at 0x00000220317054E0>\n",
      "Error al descargar https://assets-cdn.123rf.com/ui-components/assets/svg/gradient/premium-crown-gradient2.svg: cannot identify image file <_io.BytesIO object at 0x0000022031D33380>\n",
      "Error al descargar https://assets-cdn.123rf.com/ui-components/assets/svg/collection.svg: cannot identify image file <_io.BytesIO object at 0x0000022031D32890>\n",
      "Error al descargar https://assets-cdn.123rf.com/ui-components/assets/svg/collection.svg: cannot identify image file <_io.BytesIO object at 0x0000022031839350>\n",
      "Error al descargar https://assets-cdn.123rf.com/ui-components/assets/svg/collection.svg: cannot identify image file <_io.BytesIO object at 0x000002203114FBF0>\n"
     ]
    },
    {
     "name": "stderr",
     "output_type": "stream",
     "text": [
      "Procesando imágenes de https://es.123rf.com/imagenes-de-archivo/manzanilla.html:  92%|█████████▏| 276/300 [00:06<00:00, 45.80it/s]"
     ]
    },
    {
     "name": "stdout",
     "output_type": "stream",
     "text": [
      "Error al descargar https://assets-cdn.123rf.com/ui-components/assets/svg/gradient/premium-crown-gradient2.svg: cannot identify image file <_io.BytesIO object at 0x0000022030DA2ED0>\n",
      "Error al descargar https://assets-cdn.123rf.com/ui-components/assets/svg/collection.svg: cannot identify image file <_io.BytesIO object at 0x0000022031D33880>\n",
      "Error al descargar https://assets-cdn.123rf.com/ui-components/assets/svg/collection.svg: cannot identify image file <_io.BytesIO object at 0x0000022030F158A0>\n",
      "Error al descargar https://assets-cdn.123rf.com/ui-components/assets/svg/collection.svg: cannot identify image file <_io.BytesIO object at 0x0000022031D32E80>\n",
      "Error al descargar https://assets-cdn.123rf.com/ui-components/assets/svg/gradient/premium-crown-gradient2.svg: cannot identify image file <_io.BytesIO object at 0x0000022031D32E30>\n",
      "Error al descargar https://assets-cdn.123rf.com/ui-components/assets/svg/collection.svg: cannot identify image file <_io.BytesIO object at 0x0000022030F14540>\n"
     ]
    },
    {
     "name": "stderr",
     "output_type": "stream",
     "text": [
      "Procesando imágenes de https://es.123rf.com/imagenes-de-archivo/manzanilla.html:  94%|█████████▎| 281/300 [00:06<00:00, 39.22it/s]"
     ]
    },
    {
     "name": "stdout",
     "output_type": "stream",
     "text": [
      "Error al descargar https://assets-cdn.123rf.com/ui-components/assets/svg/collection.svg: cannot identify image file <_io.BytesIO object at 0x000002202F99A520>\n",
      "Error al descargar https://assets-cdn.123rf.com/ui-components/assets/svg/gradient/premium-crown-gradient2.svg: cannot identify image file <_io.BytesIO object at 0x0000022031B816C0>\n",
      "Error al descargar https://assets-cdn.123rf.com/ui-components/assets/svg/collection.svg: cannot identify image file <_io.BytesIO object at 0x0000022031C0E700>\n",
      "Error al descargar https://assets-cdn.123rf.com/ui-components/assets/svg/collection.svg: cannot identify image file <_io.BytesIO object at 0x00000220317078D0>\n"
     ]
    },
    {
     "name": "stderr",
     "output_type": "stream",
     "text": [
      "Procesando imágenes de https://es.123rf.com/imagenes-de-archivo/manzanilla.html:  97%|█████████▋| 290/300 [00:06<00:00, 44.38it/s]"
     ]
    },
    {
     "name": "stdout",
     "output_type": "stream",
     "text": [
      "Error al descargar https://assets-cdn.123rf.com/ui-components/assets/svg/gradient/premium-crown-gradient2.svg: cannot identify image file <_io.BytesIO object at 0x0000022031D325C0>\n",
      "Error al descargar https://assets-cdn.123rf.com/ui-components/assets/svg/collection.svg: cannot identify image file <_io.BytesIO object at 0x000002203114FBF0>\n",
      "Error al descargar https://assets-cdn.123rf.com/ui-components/assets/svg/collection.svg: cannot identify image file <_io.BytesIO object at 0x0000022031D33A10>\n",
      "Error al descargar https://assets-cdn.123rf.com/ui-components/assets/svg/collection.svg: cannot identify image file <_io.BytesIO object at 0x0000022031D32700>\n",
      "Error al descargar https://assets-cdn.123rf.com/ui-components/assets/svg/chevron-down.svg: cannot identify image file <_io.BytesIO object at 0x0000022031D33880>\n",
      "Error al descargar https://assets-cdn.123rf.com/ui-components/assets/svg/chevron-down.svg: cannot identify image file <_io.BytesIO object at 0x0000022031C0E700>\n",
      "Error al descargar https://assets-cdn.123rf.com/ui-components/assets/svg/chevron-down.svg: cannot identify image file <_io.BytesIO object at 0x000002203114FFB0>\n",
      "Error al descargar https://assets-cdn.123rf.com/ui-components/assets/svg/chevron-down.svg: cannot identify image file <_io.BytesIO object at 0x00000220317071A0>\n"
     ]
    },
    {
     "name": "stderr",
     "output_type": "stream",
     "text": [
      "Procesando imágenes de https://es.123rf.com/imagenes-de-archivo/manzanilla.html: 100%|██████████| 300/300 [00:06<00:00, 44.23it/s]"
     ]
    },
    {
     "name": "stdout",
     "output_type": "stream",
     "text": [
      "Error al descargar https://assets-cdn.123rf.com/ui-components/assets/svg/chevron-down.svg: cannot identify image file <_io.BytesIO object at 0x0000022031647830>\n",
      "Error al descargar https://assets-cdn.123rf.com/ui-components/assets/svg/facebook.svg: cannot identify image file <_io.BytesIO object at 0x000002202F99A520>\n",
      "Error al descargar https://assets-cdn.123rf.com/ui-components/assets/svg/twitter-v2.svg: cannot identify image file <_io.BytesIO object at 0x0000022031D325C0>\n",
      "Error al descargar https://assets-cdn.123rf.com/ui-components/assets/svg/instagram-v2.svg: cannot identify image file <_io.BytesIO object at 0x0000022030C643B0>\n",
      "Error al descargar https://assets-cdn.123rf.com/ui-components/assets/svg/pinterest.svg: cannot identify image file <_io.BytesIO object at 0x0000022031C0E700>\n",
      "Error al descargar https://assets-cdn.123rf.com/ui-components/assets/svg/whatsapp-v3.svg: cannot identify image file <_io.BytesIO object at 0x00000220317040E0>\n"
     ]
    },
    {
     "name": "stderr",
     "output_type": "stream",
     "text": [
      "\n",
      "Procesando imágenes de https://www.gob.mx/siap/articulos/las-bondades-de-la-manzanilla?idiom=es:   0%|          | 0/15 [00:00<?, ?it/s]"
     ]
    },
    {
     "name": "stdout",
     "output_type": "stream",
     "text": [
      "Error al descargar /cms/uploads/image/file/650092/Manzanilla-2.jpeg: Invalid URL '/cms/uploads/image/file/650092/Manzanilla-2.jpeg': No scheme supplied. Perhaps you meant https:///cms/uploads/image/file/650092/Manzanilla-2.jpeg?\n"
     ]
    },
    {
     "name": "stderr",
     "output_type": "stream",
     "text": [
      "Procesando imágenes de https://www.gob.mx/siap/articulos/las-bondades-de-la-manzanilla?idiom=es:   7%|▋         | 1/15 [00:00<00:03,  4.02it/s]"
     ]
    },
    {
     "name": "stdout",
     "output_type": "stream",
     "text": [
      "Error al descargar https://framework-gb.cdn.gob.mx/assets/images/oval-white.svg: cannot identify image file <_io.BytesIO object at 0x000002203183AAC0>\n",
      "Error al descargar https://framework-gb.cdn.gob.mx/assets/images/icons/survey/ico-survey-neutral.svg: cannot identify image file <_io.BytesIO object at 0x00000220318388B0>\n",
      "Error al descargar /cms/assets/instagram.png: Invalid URL '/cms/assets/instagram.png': No scheme supplied. Perhaps you meant https:///cms/assets/instagram.png?\n",
      "Error al descargar https://framework-gb.cdn.gob.mx/assets/images/oval-white.svg: cannot identify image file <_io.BytesIO object at 0x000002203183BC40>\n",
      "Error al descargar https://framework-gb.cdn.gob.mx/assets/images/icons/survey/ico-survey-good.svg: cannot identify image file <_io.BytesIO object at 0x0000022031838F90>\n",
      "Error al descargar /cms/assets/youtube.png: Invalid URL '/cms/assets/youtube.png': No scheme supplied. Perhaps you meant https:///cms/assets/youtube.png?\n",
      "Error al descargar https://framework-gb.cdn.gob.mx/assets/images/icons/survey/ico-survey-bad.svg: cannot identify image file <_io.BytesIO object at 0x000002203183B600>\n",
      "Error al descargar https://framework-gb.cdn.gob.mx/gobmx/img/logo_blanco.svg: cannot identify image file <_io.BytesIO object at 0x0000022031D315D0>\n"
     ]
    },
    {
     "name": "stderr",
     "output_type": "stream",
     "text": [
      "Procesando imágenes de https://www.gob.mx/siap/articulos/las-bondades-de-la-manzanilla?idiom=es: 100%|██████████| 15/15 [00:00<00:00, 19.64it/s]\n",
      "Procesando imágenes de https://es.123rf.com/imagenes-de-archivo/planta_de_manzanilla.html:   4%|▎         | 11/298 [00:00<00:07, 38.30it/s]"
     ]
    },
    {
     "name": "stdout",
     "output_type": "stream",
     "text": [
      "Error al descargar https://assets-cdn.123rf.com/ui-components/assets/svg/gradient/123rf-logo-gradient.svg: cannot identify image file <_io.BytesIO object at 0x0000022031839620>\n",
      "Error al descargar https://assets-cdn.123rf.com/ui-components/assets/svg/chevron-down.svg: cannot identify image file <_io.BytesIO object at 0x000002203183BE20>\n",
      "Error al descargar https://assets-cdn.123rf.com/ui-components/assets/svg/ai-img-upscaler.svg: cannot identify image file <_io.BytesIO object at 0x00000220318394E0>\n",
      "Error al descargar https://assets-cdn.123rf.com/ui-components/assets/svg/ai-sketch.svg: cannot identify image file <_io.BytesIO object at 0x0000022031839710>\n",
      "Error al descargar https://assets-cdn.123rf.com/ui-components/assets/svg/ai-face-swap.svg: cannot identify image file <_io.BytesIO object at 0x000002203183A930>\n",
      "Error al descargar https://assets-cdn.123rf.com/ui-components/assets/svg/ai-img-generator.svg: cannot identify image file <_io.BytesIO object at 0x0000022031838400>\n",
      "Error al descargar https://assets-cdn.123rf.com/ui-components/assets/svg/ai-generative-fill.svg: cannot identify image file <_io.BytesIO object at 0x000002207F0FDBC0>\n"
     ]
    },
    {
     "name": "stderr",
     "output_type": "stream",
     "text": [
      "Procesando imágenes de https://es.123rf.com/imagenes-de-archivo/planta_de_manzanilla.html:   7%|▋         | 22/298 [00:00<00:06, 41.60it/s]"
     ]
    },
    {
     "name": "stdout",
     "output_type": "stream",
     "text": [
      "Error al descargar https://assets-cdn.123rf.com/ui-components/assets/svg/ai-bg-blur.svg: cannot identify image file <_io.BytesIO object at 0x000002203183A0C0>\n",
      "Error al descargar https://assets-cdn.123rf.com/ui-components/assets/svg/ai-img-extender.svg: cannot identify image file <_io.BytesIO object at 0x0000022031D32A70>\n",
      "Error al descargar https://assets-cdn.123rf.com/ui-components/assets/svg/ai-bg-remix.svg: cannot identify image file <_io.BytesIO object at 0x000002203183B790>\n",
      "Error al descargar https://assets-cdn.123rf.com/ui-components/assets/svg/ai-writer.svg: cannot identify image file <_io.BytesIO object at 0x0000022031D31300>\n",
      "Error al descargar https://assets-cdn.123rf.com/ui-components/assets/svg/ai-bg-removal.svg: cannot identify image file <_io.BytesIO object at 0x0000022030C641D0>\n"
     ]
    },
    {
     "name": "stderr",
     "output_type": "stream",
     "text": [
      "Procesando imágenes de https://es.123rf.com/imagenes-de-archivo/planta_de_manzanilla.html:  10%|█         | 30/298 [00:00<00:05, 50.38it/s]"
     ]
    },
    {
     "name": "stdout",
     "output_type": "stream",
     "text": [
      "Error al descargar https://assets-cdn.123rf.com/ui-components/assets/svg/chevron-down.svg: cannot identify image file <_io.BytesIO object at 0x000002207F0FDBC0>\n",
      "Error al descargar https://assets-cdn.123rf.com/ui-components/assets/svg/tick.svg: cannot identify image file <_io.BytesIO object at 0x0000022031838220>\n",
      "Error al descargar https://assets-cdn.123rf.com/ui-components/assets/svg/tick.svg: cannot identify image file <_io.BytesIO object at 0x0000022031838D60>\n",
      "Error al descargar https://assets-cdn.123rf.com/ui-components/assets/svg/chevron-down.svg: cannot identify image file <_io.BytesIO object at 0x00000220318387C0>\n",
      "Error al descargar https://assets-cdn.123rf.com/ui-components/assets/svg/tick.svg: cannot identify image file <_io.BytesIO object at 0x000002203119CA40>\n",
      "Error al descargar https://assets-cdn.123rf.com/ui-components/assets/svg/tick.svg: cannot identify image file <_io.BytesIO object at 0x0000022031D32A70>\n",
      "Error al descargar https://assets-cdn.123rf.com/ui-components/assets/images/plus-upsell-ai-v3.png: cannot write mode P as JPEG\n",
      "Error al descargar https://assets-cdn.123rf.com/ui-components/assets/svg/tick.svg: cannot identify image file <_io.BytesIO object at 0x0000022031D31300>\n",
      "Error al descargar https://assets-cdn.123rf.com/ui-components/assets/svg/tick.svg: cannot identify image file <_io.BytesIO object at 0x0000022031D30BD0>\n",
      "Error al descargar https://assets-cdn.123rf.com/ui-components/assets/svg/tick.svg: cannot identify image file <_io.BytesIO object at 0x0000022031D30C70>\n"
     ]
    },
    {
     "name": "stderr",
     "output_type": "stream",
     "text": [
      "Procesando imágenes de https://es.123rf.com/imagenes-de-archivo/planta_de_manzanilla.html:  14%|█▍        | 41/298 [00:01<00:05, 43.26it/s]"
     ]
    },
    {
     "name": "stdout",
     "output_type": "stream",
     "text": [
      "Error al descargar https://assets-cdn.123rf.com/ui-components/assets/svg/tick.svg: cannot identify image file <_io.BytesIO object at 0x000002203119C1D0>\n",
      "Error al descargar https://assets-cdn.123rf.com/ui-components/assets/svg/tick.svg: cannot identify image file <_io.BytesIO object at 0x000002203183B600>\n",
      "Error al descargar https://assets-cdn.123rf.com/ui-components/assets/svg/tick.svg: cannot identify image file <_io.BytesIO object at 0x0000022031838360>\n",
      "Error al descargar https://assets-cdn.123rf.com/ui-components/assets/svg/tick.svg: cannot identify image file <_io.BytesIO object at 0x000002203183B010>\n",
      "Error al descargar https://assets-cdn.123rf.com/ui-components/assets/svg/tick.svg: cannot identify image file <_io.BytesIO object at 0x000002203119C4A0>\n",
      "Error al descargar https://assets-cdn.123rf.com/ui-components/assets/svg/tick.svg: cannot identify image file <_io.BytesIO object at 0x0000022031D32A70>\n",
      "Error al descargar https://assets-cdn.123rf.com/ui-components/assets/svg/tick.svg: cannot identify image file <_io.BytesIO object at 0x000002203119C8B0>\n",
      "Error al descargar https://assets-cdn.123rf.com/ui-components/assets/svg/tick.svg: cannot identify image file <_io.BytesIO object at 0x0000022031D31300>\n",
      "Error al descargar https://assets-cdn.123rf.com/ui-components/assets/svg/menu.svg: cannot identify image file <_io.BytesIO object at 0x000002203119D300>\n",
      "Error al descargar https://assets-cdn.123rf.com/ui-components/assets/svg/camera.svg: cannot identify image file <_io.BytesIO object at 0x0000022030C641D0>\n"
     ]
    },
    {
     "name": "stderr",
     "output_type": "stream",
     "text": [
      "Procesando imágenes de https://es.123rf.com/imagenes-de-archivo/planta_de_manzanilla.html:  17%|█▋        | 52/298 [00:01<00:05, 41.98it/s]"
     ]
    },
    {
     "name": "stdout",
     "output_type": "stream",
     "text": [
      "Error al descargar https://assets-cdn.123rf.com/ui-components/assets/svg/upload.svg: cannot identify image file <_io.BytesIO object at 0x0000022031838CC0>Error al descargar https://assets-cdn.123rf.com/ui-components/assets/svg/close.svg: cannot identify image file <_io.BytesIO object at 0x0000022031D30BD0>\n",
      "\n",
      "Error al descargar https://assets-cdn.123rf.com/ui-components/assets/svg/close.svg: cannot identify image file <_io.BytesIO object at 0x000002203119CA40>\n",
      "Error al descargar https://assets-cdn.123rf.com/ui-components/assets/svg/premium.svg: cannot identify image file <_io.BytesIO object at 0x000002203119C8B0>\n",
      "Error al descargar https://assets-cdn.123rf.com/ui-components/assets/svg/camera.svg: cannot identify image file <_io.BytesIO object at 0x0000022031D32A70>\n",
      "Error al descargar https://assets-cdn.123rf.com/ui-components/assets/svg/all-images.svg: cannot identify image file <_io.BytesIO object at 0x0000022031D32A70>\n",
      "Error al descargar https://assets-cdn.123rf.com/ui-components/assets/svg/chevron-down.svg: cannot identify image file <_io.BytesIO object at 0x0000022031D31350>\n",
      "Error al descargar https://assets-cdn.123rf.com/ui-components/assets/svg/all-images.svg: cannot identify image file <_io.BytesIO object at 0x0000022031D31300>\n",
      "Error al descargar https://assets-cdn.123rf.com/ui-components/assets/svg/photos.svg: cannot identify image file <_io.BytesIO object at 0x0000022031839850>\n",
      "Error al descargar https://assets-cdn.123rf.com/ui-components/assets/svg/vector.svg: cannot identify image file <_io.BytesIO object at 0x0000022030C641D0>\n"
     ]
    },
    {
     "name": "stderr",
     "output_type": "stream",
     "text": [
      "Procesando imágenes de https://es.123rf.com/imagenes-de-archivo/planta_de_manzanilla.html:  21%|██        | 62/298 [00:01<00:05, 41.60it/s]"
     ]
    },
    {
     "name": "stdout",
     "output_type": "stream",
     "text": [
      "Error al descargar https://assets-cdn.123rf.com/ui-components/assets/svg/audio.svg: cannot identify image file <_io.BytesIO object at 0x000002203119C950>\n",
      "Error al descargar https://assets-cdn.123rf.com/ui-components/assets/svg/footage.svg: cannot identify image file <_io.BytesIO object at 0x0000022031D30BD0>\n",
      "Error al descargar https://assets-cdn.123rf.com/ui-components/assets/svg/search.svg: cannot identify image file <_io.BytesIO object at 0x000002203183A8E0>\n",
      "Error al descargar https://assets-cdn.123rf.com/ui-components/assets/svg/ai-img-generator.svg: cannot identify image file <_io.BytesIO object at 0x0000022031D31350>\n",
      "Error al descargar https://assets-cdn.123rf.com/ui-components/assets/svg/plus.svg: cannot identify image file <_io.BytesIO object at 0x000002203119D080>\n",
      "Error al descargar https://assets-cdn.123rf.com/ui-components/assets/svg/font-v2.svg: cannot identify image file <_io.BytesIO object at 0x000002203119C4A0>\n",
      "Error al descargar https://assets-cdn.123rf.com/ui-components/assets/svg/free.svg: cannot identify image file <_io.BytesIO object at 0x000002203119CBD0>\n",
      "Error al descargar https://assets-cdn.123rf.com/ui-components/assets/svg/gradient/premium-crown-gradient2.svg: cannot identify image file <_io.BytesIO object at 0x0000022031D31300>\n",
      "Error al descargar https://assets-cdn.123rf.com/ui-components/assets/svg/collection.svg: cannot identify image file <_io.BytesIO object at 0x000002203119C0E0>\n"
     ]
    },
    {
     "name": "stderr",
     "output_type": "stream",
     "text": [
      "Procesando imágenes de https://es.123rf.com/imagenes-de-archivo/planta_de_manzanilla.html:  24%|██▍       | 72/298 [00:01<00:05, 41.66it/s]"
     ]
    },
    {
     "name": "stdout",
     "output_type": "stream",
     "text": [
      "Error al descargar https://assets-cdn.123rf.com/ui-components/assets/svg/gradient/premium-crown-gradient2.svg: cannot identify image file <_io.BytesIO object at 0x0000022031D30BD0>\n",
      "Error al descargar https://assets-cdn.123rf.com/ui-components/assets/svg/collection.svg: cannot identify image file <_io.BytesIO object at 0x000002203183BB50>\n",
      "Error al descargar https://assets-cdn.123rf.com/ui-components/assets/svg/collection.svg: cannot identify image file <_io.BytesIO object at 0x0000022031D32A70>\n",
      "Error al descargar https://assets-cdn.123rf.com/ui-components/assets/svg/gradient/premium-crown-gradient2.svg: cannot identify image file <_io.BytesIO object at 0x000002203119C4A0>\n",
      "Error al descargar https://assets-cdn.123rf.com/ui-components/assets/svg/collection.svg: cannot identify image file <_io.BytesIO object at 0x000002203119D170>\n",
      "Error al descargar https://assets-cdn.123rf.com/ui-components/assets/svg/gradient/premium-crown-gradient2.svg: cannot identify image file <_io.BytesIO object at 0x0000022030C641D0>\n",
      "Error al descargar https://assets-cdn.123rf.com/ui-components/assets/svg/collection.svg: cannot identify image file <_io.BytesIO object at 0x000002203119C950>\n"
     ]
    },
    {
     "name": "stderr",
     "output_type": "stream",
     "text": [
      "Procesando imágenes de https://es.123rf.com/imagenes-de-archivo/planta_de_manzanilla.html:  26%|██▌       | 77/298 [00:01<00:05, 38.89it/s]"
     ]
    },
    {
     "name": "stdout",
     "output_type": "stream",
     "text": [
      "Error al descargar https://assets-cdn.123rf.com/ui-components/assets/svg/gradient/premium-crown-gradient2.svg: cannot identify image file <_io.BytesIO object at 0x000002207F0FDBC0>\n",
      "Error al descargar https://assets-cdn.123rf.com/ui-components/assets/svg/collection.svg: cannot identify image file <_io.BytesIO object at 0x000002203183B1A0>\n",
      "Error al descargar https://assets-cdn.123rf.com/ui-components/assets/svg/gradient/premium-crown-gradient2.svg: cannot identify image file <_io.BytesIO object at 0x0000022031D31300>\n",
      "Error al descargar https://assets-cdn.123rf.com/ui-components/assets/svg/collection.svg: cannot identify image file <_io.BytesIO object at 0x000002203119C8B0>\n",
      "Error al descargar https://assets-cdn.123rf.com/ui-components/assets/svg/gradient/premium-crown-gradient2.svg: cannot identify image file <_io.BytesIO object at 0x0000022030C641D0>\n",
      "Error al descargar https://assets-cdn.123rf.com/ui-components/assets/svg/collection.svg: cannot identify image file <_io.BytesIO object at 0x000002203119C950>\n"
     ]
    },
    {
     "name": "stderr",
     "output_type": "stream",
     "text": [
      "Procesando imágenes de https://es.123rf.com/imagenes-de-archivo/planta_de_manzanilla.html:  30%|███       | 90/298 [00:02<00:05, 40.96it/s]"
     ]
    },
    {
     "name": "stdout",
     "output_type": "stream",
     "text": [
      "Error al descargar https://assets-cdn.123rf.com/ui-components/assets/svg/collection.svg: cannot identify image file <_io.BytesIO object at 0x0000022031D31850>\n",
      "Error al descargar https://assets-cdn.123rf.com/ui-components/assets/svg/collection.svg: cannot identify image file <_io.BytesIO object at 0x0000022031D31350>\n",
      "Error al descargar https://assets-cdn.123rf.com/ui-components/assets/svg/collection.svg: cannot identify image file <_io.BytesIO object at 0x000002203119D300>\n",
      "Error al descargar https://assets-cdn.123rf.com/ui-components/assets/svg/collection.svg: cannot identify image file <_io.BytesIO object at 0x0000022031D30BD0>\n",
      "Error al descargar https://assets-cdn.123rf.com/ui-components/assets/svg/gradient/premium-crown-gradient2.svg: cannot identify image file <_io.BytesIO object at 0x000002203119D170>\n",
      "Error al descargar https://assets-cdn.123rf.com/ui-components/assets/svg/gradient/premium-crown-gradient2.svg: cannot identify image file <_io.BytesIO object at 0x000002203119CE50>\n",
      "Error al descargar https://assets-cdn.123rf.com/ui-components/assets/svg/collection.svg: cannot identify image file <_io.BytesIO object at 0x000002203119D030>\n"
     ]
    },
    {
     "name": "stderr",
     "output_type": "stream",
     "text": [
      "Procesando imágenes de https://es.123rf.com/imagenes-de-archivo/planta_de_manzanilla.html:  33%|███▎      | 99/298 [00:02<00:04, 43.92it/s]"
     ]
    },
    {
     "name": "stdout",
     "output_type": "stream",
     "text": [
      "Error al descargar https://assets-cdn.123rf.com/ui-components/assets/svg/gradient/premium-crown-gradient2.svg: cannot identify image file <_io.BytesIO object at 0x000002203119D6C0>\n",
      "Error al descargar https://assets-cdn.123rf.com/ui-components/assets/svg/collection.svg: cannot identify image file <_io.BytesIO object at 0x000002207F0FDBC0>\n",
      "Error al descargar https://assets-cdn.123rf.com/ui-components/assets/svg/collection.svg: cannot identify image file <_io.BytesIO object at 0x000002203119D300>\n",
      "Error al descargar https://assets-cdn.123rf.com/ui-components/assets/svg/gradient/premium-crown-gradient2.svg: cannot identify image file <_io.BytesIO object at 0x0000022030C641D0>\n",
      "Error al descargar https://assets-cdn.123rf.com/ui-components/assets/svg/gradient/premium-crown-gradient2.svg: cannot identify image file <_io.BytesIO object at 0x000002203119C8B0>\n",
      "Error al descargar https://assets-cdn.123rf.com/ui-components/assets/svg/collection.svg: cannot identify image file <_io.BytesIO object at 0x000002203119C950>\n",
      "Error al descargar https://assets-cdn.123rf.com/ui-components/assets/svg/gradient/premium-crown-gradient2.svg: cannot identify image file <_io.BytesIO object at 0x0000022031D31300>\n"
     ]
    },
    {
     "name": "stderr",
     "output_type": "stream",
     "text": [
      "Procesando imágenes de https://es.123rf.com/imagenes-de-archivo/planta_de_manzanilla.html:  36%|███▌      | 106/298 [00:02<00:04, 47.72it/s]"
     ]
    },
    {
     "name": "stdout",
     "output_type": "stream",
     "text": [
      "Error al descargar https://assets-cdn.123rf.com/ui-components/assets/svg/collection.svg: cannot identify image file <_io.BytesIO object at 0x000002203183A200>\n",
      "Error al descargar https://assets-cdn.123rf.com/ui-components/assets/svg/collection.svg: cannot identify image file <_io.BytesIO object at 0x0000022031D31850>\n",
      "Error al descargar https://assets-cdn.123rf.com/ui-components/assets/svg/collection.svg: cannot identify image file <_io.BytesIO object at 0x000002203119CE00>\n",
      "Error al descargar https://assets-cdn.123rf.com/ui-components/assets/svg/gradient/premium-crown-gradient2.svg: cannot identify image file <_io.BytesIO object at 0x000002203119CE50>\n",
      "Error al descargar https://assets-cdn.123rf.com/ui-components/assets/svg/collection.svg: cannot identify image file <_io.BytesIO object at 0x000002203119CC70>\n"
     ]
    },
    {
     "name": "stderr",
     "output_type": "stream",
     "text": [
      "Procesando imágenes de https://es.123rf.com/imagenes-de-archivo/planta_de_manzanilla.html:  41%|████      | 122/298 [00:02<00:03, 48.05it/s]"
     ]
    },
    {
     "name": "stdout",
     "output_type": "stream",
     "text": [
      "Error al descargar https://assets-cdn.123rf.com/ui-components/assets/svg/collection.svg: cannot identify image file <_io.BytesIO object at 0x0000022031840090>\n",
      "Error al descargar https://assets-cdn.123rf.com/ui-components/assets/svg/gradient/premium-crown-gradient2.svg: cannot identify image file <_io.BytesIO object at 0x0000022031D32A70>\n",
      "Error al descargar https://assets-cdn.123rf.com/ui-components/assets/svg/collection.svg: cannot identify image file <_io.BytesIO object at 0x000002203183AC00>\n",
      "Error al descargar https://assets-cdn.123rf.com/ui-components/assets/svg/collection.svg: cannot identify image file <_io.BytesIO object at 0x0000022030C641D0>\n",
      "Error al descargar https://assets-cdn.123rf.com/ui-components/assets/svg/collection.svg: cannot identify image file <_io.BytesIO object at 0x000002203119CEA0>\n",
      "Error al descargar https://assets-cdn.123rf.com/ui-components/assets/svg/gradient/premium-crown-gradient2.svg: cannot identify image file <_io.BytesIO object at 0x000002203183A2A0>\n",
      "Error al descargar https://assets-cdn.123rf.com/ui-components/assets/svg/collection.svg: cannot identify image file <_io.BytesIO object at 0x0000022031838C20>\n"
     ]
    },
    {
     "name": "stderr",
     "output_type": "stream",
     "text": [
      "Procesando imágenes de https://es.123rf.com/imagenes-de-archivo/planta_de_manzanilla.html:  45%|████▍     | 134/298 [00:03<00:03, 45.06it/s]"
     ]
    },
    {
     "name": "stdout",
     "output_type": "stream",
     "text": [
      "Error al descargar https://assets-cdn.123rf.com/ui-components/assets/svg/collection.svg: cannot identify image file <_io.BytesIO object at 0x000002203119D080>\n",
      "Error al descargar https://assets-cdn.123rf.com/ui-components/assets/svg/collection.svg: cannot identify image file <_io.BytesIO object at 0x0000022031D31850>\n",
      "Error al descargar https://assets-cdn.123rf.com/ui-components/assets/svg/gradient/premium-crown-gradient2.svg: cannot identify image file <_io.BytesIO object at 0x000002203119C8B0>\n",
      "Error al descargar https://assets-cdn.123rf.com/ui-components/assets/svg/collection.svg: cannot identify image file <_io.BytesIO object at 0x0000022031D31300>\n",
      "Error al descargar https://assets-cdn.123rf.com/ui-components/assets/svg/collection.svg: cannot identify image file <_io.BytesIO object at 0x0000022031D31850>\n",
      "Error al descargar https://assets-cdn.123rf.com/ui-components/assets/svg/collection.svg: cannot identify image file <_io.BytesIO object at 0x0000022031D32A70>\n"
     ]
    },
    {
     "name": "stderr",
     "output_type": "stream",
     "text": [
      "Procesando imágenes de https://es.123rf.com/imagenes-de-archivo/planta_de_manzanilla.html:  49%|████▉     | 147/298 [00:03<00:03, 48.36it/s]"
     ]
    },
    {
     "name": "stdout",
     "output_type": "stream",
     "text": [
      "Error al descargar https://assets-cdn.123rf.com/ui-components/assets/svg/collection.svg: cannot identify image file <_io.BytesIO object at 0x0000022030C641D0>\n",
      "Error al descargar https://assets-cdn.123rf.com/ui-components/assets/svg/gradient/premium-crown-gradient2.svg: cannot identify image file <_io.BytesIO object at 0x0000022031840090>\n",
      "Error al descargar https://assets-cdn.123rf.com/ui-components/assets/svg/gradient/premium-crown-gradient2.svg: cannot identify image file <_io.BytesIO object at 0x000002203119C3B0>\n",
      "Error al descargar https://assets-cdn.123rf.com/ui-components/assets/svg/collection.svg: cannot identify image file <_io.BytesIO object at 0x000002203119C270>\n",
      "Error al descargar https://assets-cdn.123rf.com/ui-components/assets/svg/gradient/premium-crown-gradient2.svg: cannot identify image file <_io.BytesIO object at 0x000002203119C2C0>\n",
      "Error al descargar https://assets-cdn.123rf.com/ui-components/assets/svg/collection.svg: cannot identify image file <_io.BytesIO object at 0x000002203119CD60>\n",
      "Error al descargar https://assets-cdn.123rf.com/ui-components/assets/svg/collection.svg: cannot identify image file <_io.BytesIO object at 0x0000022031D32A70>\n"
     ]
    },
    {
     "name": "stderr",
     "output_type": "stream",
     "text": [
      "Procesando imágenes de https://es.123rf.com/imagenes-de-archivo/planta_de_manzanilla.html:  51%|█████▏    | 153/298 [00:03<00:03, 47.02it/s]"
     ]
    },
    {
     "name": "stdout",
     "output_type": "stream",
     "text": [
      "Error al descargar https://assets-cdn.123rf.com/ui-components/assets/svg/collection.svg: cannot identify image file <_io.BytesIO object at 0x000002203119CB80>\n",
      "Error al descargar https://assets-cdn.123rf.com/ui-components/assets/svg/gradient/premium-crown-gradient2.svg: cannot identify image file <_io.BytesIO object at 0x000002207F0FDBC0>\n",
      "Error al descargar https://assets-cdn.123rf.com/ui-components/assets/svg/collection.svg: cannot identify image file <_io.BytesIO object at 0x000002203119D030>\n",
      "Error al descargar https://assets-cdn.123rf.com/ui-components/assets/svg/collection.svg: cannot identify image file <_io.BytesIO object at 0x0000022031D31850>\n",
      "Error al descargar https://assets-cdn.123rf.com/ui-components/assets/svg/collection.svg: cannot identify image file <_io.BytesIO object at 0x0000022031D30A90>\n",
      "Error al descargar https://assets-cdn.123rf.com/ui-components/assets/svg/collection.svg: cannot identify image file <_io.BytesIO object at 0x0000022031840090>\n"
     ]
    },
    {
     "name": "stderr",
     "output_type": "stream",
     "text": [
      "Procesando imágenes de https://es.123rf.com/imagenes-de-archivo/planta_de_manzanilla.html:  55%|█████▌    | 165/298 [00:03<00:02, 46.01it/s]"
     ]
    },
    {
     "name": "stdout",
     "output_type": "stream",
     "text": [
      "Error al descargar https://assets-cdn.123rf.com/ui-components/assets/svg/collection.svg: cannot identify image file <_io.BytesIO object at 0x0000022030C641D0>\n",
      "Error al descargar https://assets-cdn.123rf.com/ui-components/assets/svg/collection.svg: cannot identify image file <_io.BytesIO object at 0x00000220318394E0>\n",
      "Error al descargar https://assets-cdn.123rf.com/ui-components/assets/svg/collection.svg: cannot identify image file <_io.BytesIO object at 0x0000022031D30C70>\n",
      "Error al descargar https://assets-cdn.123rf.com/ui-components/assets/svg/collection.svg: cannot identify image file <_io.BytesIO object at 0x000002203119C3B0>\n",
      "Error al descargar https://assets-cdn.123rf.com/ui-components/assets/svg/collection.svg: cannot identify image file <_io.BytesIO object at 0x000002203119C900>\n"
     ]
    },
    {
     "name": "stderr",
     "output_type": "stream",
     "text": [
      "Procesando imágenes de https://es.123rf.com/imagenes-de-archivo/planta_de_manzanilla.html:  58%|█████▊    | 172/298 [00:03<00:02, 47.86it/s]"
     ]
    },
    {
     "name": "stdout",
     "output_type": "stream",
     "text": [
      "Error al descargar https://assets-cdn.123rf.com/ui-components/assets/svg/collection.svg: cannot identify image file <_io.BytesIO object at 0x000002207F0FDBC0>\n",
      "Error al descargar https://assets-cdn.123rf.com/ui-components/assets/svg/collection.svg: cannot identify image file <_io.BytesIO object at 0x000002203119CB80>\n",
      "Error al descargar https://assets-cdn.123rf.com/ui-components/assets/svg/collection.svg: cannot identify image file <_io.BytesIO object at 0x000002203183B600>\n",
      "Error al descargar https://assets-cdn.123rf.com/ui-components/assets/svg/gradient/premium-crown-gradient2.svg: cannot identify image file <_io.BytesIO object at 0x000002203119C0E0>\n",
      "Error al descargar https://assets-cdn.123rf.com/ui-components/assets/svg/collection.svg: cannot identify image file <_io.BytesIO object at 0x000002203119D030>\n"
     ]
    },
    {
     "name": "stderr",
     "output_type": "stream",
     "text": [
      "Procesando imágenes de https://es.123rf.com/imagenes-de-archivo/planta_de_manzanilla.html:  62%|██████▏   | 185/298 [00:04<00:02, 45.87it/s]"
     ]
    },
    {
     "name": "stdout",
     "output_type": "stream",
     "text": [
      "Error al descargar https://assets-cdn.123rf.com/ui-components/assets/svg/collection.svg: cannot identify image file <_io.BytesIO object at 0x0000022031D31300>\n",
      "Error al descargar https://assets-cdn.123rf.com/ui-components/assets/svg/collection.svg: cannot identify image file <_io.BytesIO object at 0x000002207F0FDBC0>\n",
      "Error al descargar https://assets-cdn.123rf.com/ui-components/assets/svg/collection.svg: cannot identify image file <_io.BytesIO object at 0x000002203119CB80>\n",
      "Error al descargar https://assets-cdn.123rf.com/ui-components/assets/svg/collection.svg: cannot identify image file <_io.BytesIO object at 0x0000022031840090>\n",
      "Error al descargar https://assets-cdn.123rf.com/ui-components/assets/svg/collection.svg: cannot identify image file <_io.BytesIO object at 0x0000022031D31850>\n",
      "Error al descargar https://assets-cdn.123rf.com/ui-components/assets/svg/collection.svg: cannot identify image file <_io.BytesIO object at 0x000002203119C360>\n"
     ]
    },
    {
     "name": "stderr",
     "output_type": "stream",
     "text": [
      "Procesando imágenes de https://es.123rf.com/imagenes-de-archivo/planta_de_manzanilla.html:  66%|██████▋   | 198/298 [00:04<00:02, 47.46it/s]"
     ]
    },
    {
     "name": "stdout",
     "output_type": "stream",
     "text": [
      "Error al descargar https://assets-cdn.123rf.com/ui-components/assets/svg/collection.svg: cannot identify image file <_io.BytesIO object at 0x0000022031D32A70>\n",
      "Error al descargar https://assets-cdn.123rf.com/ui-components/assets/svg/gradient/premium-crown-gradient2.svg: cannot identify image file <_io.BytesIO object at 0x0000022031D30BD0>\n",
      "Error al descargar https://assets-cdn.123rf.com/ui-components/assets/svg/collection.svg: cannot identify image file <_io.BytesIO object at 0x0000022030C641D0>\n",
      "Error al descargar https://assets-cdn.123rf.com/ui-components/assets/svg/collection.svg: cannot identify image file <_io.BytesIO object at 0x000002203119C3B0>\n",
      "Error al descargar https://assets-cdn.123rf.com/ui-components/assets/svg/collection.svg: cannot identify image file <_io.BytesIO object at 0x0000022031D30A90>\n",
      "Error al descargar https://assets-cdn.123rf.com/ui-components/assets/svg/collection.svg: cannot identify image file <_io.BytesIO object at 0x0000022031D30C70>\n"
     ]
    },
    {
     "name": "stderr",
     "output_type": "stream",
     "text": [
      "Procesando imágenes de https://es.123rf.com/imagenes-de-archivo/planta_de_manzanilla.html:  71%|███████   | 211/298 [00:04<00:01, 52.08it/s]"
     ]
    },
    {
     "name": "stdout",
     "output_type": "stream",
     "text": [
      "Error al descargar https://assets-cdn.123rf.com/ui-components/assets/svg/gradient/premium-crown-gradient2.svg: cannot identify image file <_io.BytesIO object at 0x000002203119CF90>\n",
      "Error al descargar https://assets-cdn.123rf.com/ui-components/assets/svg/collection.svg: cannot identify image file <_io.BytesIO object at 0x000002203119CBD0>\n",
      "Error al descargar https://assets-cdn.123rf.com/ui-components/assets/svg/collection.svg: cannot identify image file <_io.BytesIO object at 0x000002203119C770>\n",
      "Error al descargar https://assets-cdn.123rf.com/ui-components/assets/svg/collection.svg: cannot identify image file <_io.BytesIO object at 0x000002203119C180>\n",
      "Error al descargar https://assets-cdn.123rf.com/ui-components/assets/svg/collection.svg: cannot identify image file <_io.BytesIO object at 0x0000022031838540>\n",
      "Error al descargar https://assets-cdn.123rf.com/ui-components/assets/svg/gradient/premium-crown-gradient2.svg: cannot identify image file <_io.BytesIO object at 0x0000022031D30C70>\n",
      "Error al descargar https://assets-cdn.123rf.com/ui-components/assets/svg/collection.svg: cannot identify image file <_io.BytesIO object at 0x0000022031D30BD0>\n"
     ]
    },
    {
     "name": "stderr",
     "output_type": "stream",
     "text": [
      "Procesando imágenes de https://es.123rf.com/imagenes-de-archivo/planta_de_manzanilla.html:  75%|███████▍  | 223/298 [00:05<00:01, 50.77it/s]"
     ]
    },
    {
     "name": "stdout",
     "output_type": "stream",
     "text": [
      "Error al descargar https://assets-cdn.123rf.com/ui-components/assets/svg/collection.svg: cannot identify image file <_io.BytesIO object at 0x0000022031D31300>\n",
      "Error al descargar https://assets-cdn.123rf.com/ui-components/assets/svg/collection.svg: cannot identify image file <_io.BytesIO object at 0x0000022031840090>\n",
      "Error al descargar https://assets-cdn.123rf.com/ui-components/assets/svg/collection.svg: cannot identify image file <_io.BytesIO object at 0x0000022031839710>\n",
      "Error al descargar https://assets-cdn.123rf.com/ui-components/assets/svg/collection.svg: cannot identify image file <_io.BytesIO object at 0x000002203119CB30>\n",
      "Error al descargar https://assets-cdn.123rf.com/ui-components/assets/svg/collection.svg: cannot identify image file <_io.BytesIO object at 0x000002203119CD10>\n",
      "Error al descargar https://assets-cdn.123rf.com/ui-components/assets/svg/collection.svg: cannot identify image file <_io.BytesIO object at 0x0000022030C641D0>\n"
     ]
    },
    {
     "name": "stderr",
     "output_type": "stream",
     "text": [
      "Procesando imágenes de https://es.123rf.com/imagenes-de-archivo/planta_de_manzanilla.html:  79%|███████▉  | 235/298 [00:05<00:01, 50.81it/s]"
     ]
    },
    {
     "name": "stdout",
     "output_type": "stream",
     "text": [
      "Error al descargar https://assets-cdn.123rf.com/ui-components/assets/svg/collection.svg: cannot identify image file <_io.BytesIO object at 0x000002203119C900>\n",
      "Error al descargar https://assets-cdn.123rf.com/ui-components/assets/svg/collection.svg: cannot identify image file <_io.BytesIO object at 0x000002203119C8B0>\n",
      "Error al descargar https://assets-cdn.123rf.com/ui-components/assets/svg/gradient/premium-crown-gradient2.svg: cannot identify image file <_io.BytesIO object at 0x000002203183AA70>\n",
      "Error al descargar https://assets-cdn.123rf.com/ui-components/assets/svg/collection.svg: cannot identify image file <_io.BytesIO object at 0x000002207F0FDBC0>\n",
      "Error al descargar https://assets-cdn.123rf.com/ui-components/assets/svg/gradient/premium-crown-gradient2.svg: cannot identify image file <_io.BytesIO object at 0x000002203119C180>\n",
      "Error al descargar https://assets-cdn.123rf.com/ui-components/assets/svg/collection.svg: cannot identify image file <_io.BytesIO object at 0x000002203119CF90>\n",
      "Error al descargar https://assets-cdn.123rf.com/ui-components/assets/svg/collection.svg: cannot identify image file <_io.BytesIO object at 0x000002203119C6D0>\n"
     ]
    },
    {
     "name": "stderr",
     "output_type": "stream",
     "text": [
      "Procesando imágenes de https://es.123rf.com/imagenes-de-archivo/planta_de_manzanilla.html:  83%|████████▎ | 246/298 [00:05<00:01, 49.00it/s]"
     ]
    },
    {
     "name": "stdout",
     "output_type": "stream",
     "text": [
      "Error al descargar https://assets-cdn.123rf.com/ui-components/assets/svg/collection.svg: cannot identify image file <_io.BytesIO object at 0x0000022031D30C70>\n",
      "Error al descargar https://assets-cdn.123rf.com/ui-components/assets/svg/collection.svg: cannot identify image file <_io.BytesIO object at 0x0000022031193DD0>\n",
      "Error al descargar https://assets-cdn.123rf.com/ui-components/assets/svg/gradient/premium-crown-gradient2.svg: cannot identify image file <_io.BytesIO object at 0x000002203119CE50>\n",
      "Error al descargar https://assets-cdn.123rf.com/ui-components/assets/svg/collection.svg: cannot identify image file <_io.BytesIO object at 0x000002203119D620>\n",
      "Error al descargar https://assets-cdn.123rf.com/ui-components/assets/svg/collection.svg: cannot identify image file <_io.BytesIO object at 0x0000022031706D40>\n",
      "Error al descargar https://assets-cdn.123rf.com/ui-components/assets/svg/collection.svg: cannot identify image file <_io.BytesIO object at 0x000002203119CD60>\n"
     ]
    },
    {
     "name": "stderr",
     "output_type": "stream",
     "text": [
      "Procesando imágenes de https://es.123rf.com/imagenes-de-archivo/planta_de_manzanilla.html:  86%|████████▌ | 257/298 [00:05<00:00, 42.09it/s]"
     ]
    },
    {
     "name": "stdout",
     "output_type": "stream",
     "text": [
      "Error al descargar https://assets-cdn.123rf.com/ui-components/assets/svg/collection.svg: cannot identify image file <_io.BytesIO object at 0x000002203119D080>\n",
      "Error al descargar https://assets-cdn.123rf.com/ui-components/assets/svg/collection.svg: cannot identify image file <_io.BytesIO object at 0x0000022031D30A90>\n",
      "Error al descargar https://assets-cdn.123rf.com/ui-components/assets/svg/collection.svg: cannot identify image file <_io.BytesIO object at 0x000002203119C4A0>\n",
      "Error al descargar https://assets-cdn.123rf.com/ui-components/assets/svg/collection.svg: cannot identify image file <_io.BytesIO object at 0x0000022031D30BD0>\n",
      "Error al descargar https://assets-cdn.123rf.com/ui-components/assets/svg/collection.svg: cannot identify image file <_io.BytesIO object at 0x0000022031706D40>\n"
     ]
    },
    {
     "name": "stderr",
     "output_type": "stream",
     "text": [
      "Procesando imágenes de https://es.123rf.com/imagenes-de-archivo/planta_de_manzanilla.html:  90%|████████▉ | 268/298 [00:06<00:00, 44.15it/s]"
     ]
    },
    {
     "name": "stdout",
     "output_type": "stream",
     "text": [
      "Error al descargar https://assets-cdn.123rf.com/ui-components/assets/svg/gradient/premium-crown-gradient2.svg: cannot identify image file <_io.BytesIO object at 0x0000022031193DD0>\n",
      "Error al descargar https://assets-cdn.123rf.com/ui-components/assets/svg/collection.svg: cannot identify image file <_io.BytesIO object at 0x000002203183AC00>\n",
      "Error al descargar https://assets-cdn.123rf.com/ui-components/assets/svg/collection.svg: cannot identify image file <_io.BytesIO object at 0x000002203119D120>\n",
      "Error al descargar https://assets-cdn.123rf.com/ui-components/assets/svg/collection.svg: cannot identify image file <_io.BytesIO object at 0x000002203183A2F0>\n",
      "Error al descargar https://assets-cdn.123rf.com/ui-components/assets/svg/collection.svg: cannot identify image file <_io.BytesIO object at 0x0000022031D31350>\n",
      "Error al descargar https://assets-cdn.123rf.com/ui-components/assets/svg/gradient/premium-crown-gradient2.svg: cannot identify image file <_io.BytesIO object at 0x0000022031706D40>\n"
     ]
    },
    {
     "name": "stderr",
     "output_type": "stream",
     "text": [
      "Procesando imágenes de https://es.123rf.com/imagenes-de-archivo/planta_de_manzanilla.html:  92%|█████████▏| 273/298 [00:06<00:00, 42.02it/s]"
     ]
    },
    {
     "name": "stdout",
     "output_type": "stream",
     "text": [
      "Error al descargar https://assets-cdn.123rf.com/ui-components/assets/svg/collection.svg: cannot identify image file <_io.BytesIO object at 0x0000022030C641D0>\n",
      "Error al descargar https://assets-cdn.123rf.com/ui-components/assets/svg/collection.svg: cannot identify image file <_io.BytesIO object at 0x0000022031D31850>\n",
      "Error al descargar https://assets-cdn.123rf.com/ui-components/assets/svg/collection.svg: cannot identify image file <_io.BytesIO object at 0x0000022031D33A10>\n",
      "Error al descargar https://assets-cdn.123rf.com/ui-components/assets/svg/gradient/premium-crown-gradient2.svg: cannot identify image file <_io.BytesIO object at 0x000002203119C950>\n",
      "Error al descargar https://assets-cdn.123rf.com/ui-components/assets/svg/collection.svg: cannot identify image file <_io.BytesIO object at 0x000002203119CB30>\n",
      "Error al descargar https://assets-cdn.123rf.com/ui-components/assets/svg/gradient/premium-crown-gradient2.svg: cannot identify image file <_io.BytesIO object at 0x0000022031706D40>\n",
      "Error al descargar https://assets-cdn.123rf.com/ui-components/assets/svg/collection.svg: cannot identify image file <_io.BytesIO object at 0x0000022031D32A70>\n"
     ]
    },
    {
     "name": "stderr",
     "output_type": "stream",
     "text": [
      "Procesando imágenes de https://es.123rf.com/imagenes-de-archivo/planta_de_manzanilla.html:  97%|█████████▋| 289/298 [00:06<00:00, 49.66it/s]"
     ]
    },
    {
     "name": "stdout",
     "output_type": "stream",
     "text": [
      "Error al descargar https://assets-cdn.123rf.com/ui-components/assets/svg/collection.svg: cannot identify image file <_io.BytesIO object at 0x0000022030C641D0>Error al descargar https://assets-cdn.123rf.com/ui-components/assets/svg/collection.svg: cannot identify image file <_io.BytesIO object at 0x0000022031839710>\n",
      "\n",
      "Error al descargar https://assets-cdn.123rf.com/ui-components/assets/svg/collection.svg: cannot identify image file <_io.BytesIO object at 0x0000022031D33A10>\n",
      "Error al descargar https://assets-cdn.123rf.com/ui-components/assets/svg/gradient/premium-crown-gradient2.svg: cannot identify image file <_io.BytesIO object at 0x000002203119C720>\n",
      "Error al descargar https://assets-cdn.123rf.com/ui-components/assets/svg/collection.svg: cannot identify image file <_io.BytesIO object at 0x0000022031D30A90>\n",
      "Error al descargar https://assets-cdn.123rf.com/ui-components/assets/svg/chevron-down.svg: cannot identify image file <_io.BytesIO object at 0x0000022031706D40>\n",
      "Error al descargar https://assets-cdn.123rf.com/ui-components/assets/svg/chevron-down.svg: cannot identify image file <_io.BytesIO object at 0x0000022031840090>\n",
      "Error al descargar https://assets-cdn.123rf.com/ui-components/assets/svg/chevron-down.svg: cannot identify image file <_io.BytesIO object at 0x0000022031D30BD0>\n"
     ]
    },
    {
     "name": "stderr",
     "output_type": "stream",
     "text": [
      "Procesando imágenes de https://es.123rf.com/imagenes-de-archivo/planta_de_manzanilla.html: 100%|██████████| 298/298 [00:06<00:00, 44.30it/s]"
     ]
    },
    {
     "name": "stdout",
     "output_type": "stream",
     "text": [
      "Error al descargar https://assets-cdn.123rf.com/ui-components/assets/svg/chevron-down.svg: cannot identify image file <_io.BytesIO object at 0x0000022031D31850>\n",
      "Error al descargar https://assets-cdn.123rf.com/ui-components/assets/svg/facebook.svg: cannot identify image file <_io.BytesIO object at 0x000002203119C680>\n",
      "Error al descargar https://assets-cdn.123rf.com/ui-components/assets/svg/chevron-down.svg: cannot identify image file <_io.BytesIO object at 0x0000022031D30C70>\n",
      "Error al descargar https://assets-cdn.123rf.com/ui-components/assets/svg/twitter-v2.svg: cannot identify image file <_io.BytesIO object at 0x000002203119D120>\n",
      "Error al descargar https://assets-cdn.123rf.com/ui-components/assets/svg/instagram-v2.svg: cannot identify image file <_io.BytesIO object at 0x0000022031D33A10>\n",
      "Error al descargar https://assets-cdn.123rf.com/ui-components/assets/svg/pinterest.svg: cannot identify image file <_io.BytesIO object at 0x000002203119CB30>\n",
      "Error al descargar https://assets-cdn.123rf.com/ui-components/assets/svg/whatsapp-v3.svg: cannot identify image file <_io.BytesIO object at 0x000002207F0FDBC0>\n"
     ]
    },
    {
     "name": "stderr",
     "output_type": "stream",
     "text": [
      "\n"
     ]
    },
    {
     "name": "stdout",
     "output_type": "stream",
     "text": [
      "Error al descargar data:image/png;base64,iVBORw0KGgoAAAANSUhEUgAAAAEAAAABCAQAAAC1HAwCAAAAC0lEQVQYV2NgYAAAAAMAAWgmWQ0AAAAASUVORK5CYII=: No connection adapters were found for 'data:image/png;base64,iVBORw0KGgoAAAANSUhEUgAAAAEAAAABCAQAAAC1HAwCAAAAC0lEQVQYV2NgYAAAAAMAAWgmWQ0AAAAASUVORK5CYII='\n",
      "Error al descargar data:image/png;base64,iVBORw0KGgoAAAANSUhEUgAAAAEAAAABCAQAAAC1HAwCAAAAC0lEQVQYV2NgYAAAAAMAAWgmWQ0AAAAASUVORK5CYII=: No connection adapters were found for 'data:image/png;base64,iVBORw0KGgoAAAANSUhEUgAAAAEAAAABCAQAAAC1HAwCAAAAC0lEQVQYV2NgYAAAAAMAAWgmWQ0AAAAASUVORK5CYII='\n",
      "Error al descargar data:image/png;base64,iVBORw0KGgoAAAANSUhEUgAAAAEAAAABCAQAAAC1HAwCAAAAC0lEQVQYV2NgYAAAAAMAAWgmWQ0AAAAASUVORK5CYII=: No connection adapters were found for 'data:image/png;base64,iVBORw0KGgoAAAANSUhEUgAAAAEAAAABCAQAAAC1HAwCAAAAC0lEQVQYV2NgYAAAAAMAAWgmWQ0AAAAASUVORK5CYII='\n",
      "Error al descargar data:image/png;base64,iVBORw0KGgoAAAANSUhEUgAAAAEAAAABCAQAAAC1HAwCAAAAC0lEQVQYV2NgYAAAAAMAAWgmWQ0AAAAASUVORK5CYII=: No connection adapters were found for 'data:image/png;base64,iVBORw0KGgoAAAANSUhEUgAAAAEAAAABCAQAAAC1HAwCAAAAC0lEQVQYV2NgYAAAAAMAAWgmWQ0AAAAASUVORK5CYII='\n"
     ]
    },
    {
     "name": "stderr",
     "output_type": "stream",
     "text": [
      "Procesando imágenes de https://www.pngwing.com/es/search?q=manzanilla:   0%|          | 0/61 [00:00<?, ?it/s]"
     ]
    },
    {
     "name": "stdout",
     "output_type": "stream",
     "text": [
      "Error al descargar data:image/png;base64,iVBORw0KGgoAAAANSUhEUgAAAAEAAAABCAQAAAC1HAwCAAAAC0lEQVQYV2NgYAAAAAMAAWgmWQ0AAAAASUVORK5CYII=: No connection adapters were found for 'data:image/png;base64,iVBORw0KGgoAAAANSUhEUgAAAAEAAAABCAQAAAC1HAwCAAAAC0lEQVQYV2NgYAAAAAMAAWgmWQ0AAAAASUVORK5CYII='\n",
      "Error al descargar data:image/png;base64,iVBORw0KGgoAAAANSUhEUgAAAAEAAAABCAQAAAC1HAwCAAAAC0lEQVQYV2NgYAAAAAMAAWgmWQ0AAAAASUVORK5CYII=: No connection adapters were found for 'data:image/png;base64,iVBORw0KGgoAAAANSUhEUgAAAAEAAAABCAQAAAC1HAwCAAAAC0lEQVQYV2NgYAAAAAMAAWgmWQ0AAAAASUVORK5CYII='\n",
      "Error al descargar data:image/png;base64,iVBORw0KGgoAAAANSUhEUgAAAAEAAAABCAQAAAC1HAwCAAAAC0lEQVQYV2NgYAAAAAMAAWgmWQ0AAAAASUVORK5CYII=: No connection adapters were found for 'data:image/png;base64,iVBORw0KGgoAAAANSUhEUgAAAAEAAAABCAQAAAC1HAwCAAAAC0lEQVQYV2NgYAAAAAMAAWgmWQ0AAAAASUVORK5CYII='\n",
      "Error al descargar data:image/png;base64,iVBORw0KGgoAAAANSUhEUgAAAAEAAAABCAQAAAC1HAwCAAAAC0lEQVQYV2NgYAAAAAMAAWgmWQ0AAAAASUVORK5CYII=: No connection adapters were found for 'data:image/png;base64,iVBORw0KGgoAAAANSUhEUgAAAAEAAAABCAQAAAC1HAwCAAAAC0lEQVQYV2NgYAAAAAMAAWgmWQ0AAAAASUVORK5CYII='\n",
      "Error al descargar data:image/png;base64,iVBORw0KGgoAAAANSUhEUgAAAAEAAAABCAQAAAC1HAwCAAAAC0lEQVQYV2NgYAAAAAMAAWgmWQ0AAAAASUVORK5CYII=: No connection adapters were found for 'data:image/png;base64,iVBORw0KGgoAAAANSUhEUgAAAAEAAAABCAQAAAC1HAwCAAAAC0lEQVQYV2NgYAAAAAMAAWgmWQ0AAAAASUVORK5CYII='\n",
      "Error al descargar data:image/png;base64,iVBORw0KGgoAAAANSUhEUgAAAAEAAAABCAQAAAC1HAwCAAAAC0lEQVQYV2NgYAAAAAMAAWgmWQ0AAAAASUVORK5CYII=: No connection adapters were found for 'data:image/png;base64,iVBORw0KGgoAAAANSUhEUgAAAAEAAAABCAQAAAC1HAwCAAAAC0lEQVQYV2NgYAAAAAMAAWgmWQ0AAAAASUVORK5CYII='\n",
      "Error al descargar data:image/png;base64,iVBORw0KGgoAAAANSUhEUgAAAAEAAAABCAQAAAC1HAwCAAAAC0lEQVQYV2NgYAAAAAMAAWgmWQ0AAAAASUVORK5CYII=: No connection adapters were found for 'data:image/png;base64,iVBORw0KGgoAAAANSUhEUgAAAAEAAAABCAQAAAC1HAwCAAAAC0lEQVQYV2NgYAAAAAMAAWgmWQ0AAAAASUVORK5CYII='\n",
      "Error al descargar data:image/png;base64,iVBORw0KGgoAAAANSUhEUgAAAAEAAAABCAQAAAC1HAwCAAAAC0lEQVQYV2NgYAAAAAMAAWgmWQ0AAAAASUVORK5CYII=: No connection adapters were found for 'data:image/png;base64,iVBORw0KGgoAAAANSUhEUgAAAAEAAAABCAQAAAC1HAwCAAAAC0lEQVQYV2NgYAAAAAMAAWgmWQ0AAAAASUVORK5CYII='\n",
      "Error al descargar data:image/png;base64,iVBORw0KGgoAAAANSUhEUgAAAAEAAAABCAQAAAC1HAwCAAAAC0lEQVQYV2NgYAAAAAMAAWgmWQ0AAAAASUVORK5CYII=: No connection adapters were found for 'data:image/png;base64,iVBORw0KGgoAAAANSUhEUgAAAAEAAAABCAQAAAC1HAwCAAAAC0lEQVQYV2NgYAAAAAMAAWgmWQ0AAAAASUVORK5CYII='\n",
      "Error al descargar data:image/png;base64,iVBORw0KGgoAAAANSUhEUgAAAAEAAAABCAQAAAC1HAwCAAAAC0lEQVQYV2NgYAAAAAMAAWgmWQ0AAAAASUVORK5CYII=: No connection adapters were found for 'data:image/png;base64,iVBORw0KGgoAAAANSUhEUgAAAAEAAAABCAQAAAC1HAwCAAAAC0lEQVQYV2NgYAAAAAMAAWgmWQ0AAAAASUVORK5CYII='\n",
      "Error al descargar data:image/png;base64,iVBORw0KGgoAAAANSUhEUgAAAAEAAAABCAQAAAC1HAwCAAAAC0lEQVQYV2NgYAAAAAMAAWgmWQ0AAAAASUVORK5CYII=: No connection adapters were found for 'data:image/png;base64,iVBORw0KGgoAAAANSUhEUgAAAAEAAAABCAQAAAC1HAwCAAAAC0lEQVQYV2NgYAAAAAMAAWgmWQ0AAAAASUVORK5CYII='\n",
      "Error al descargar data:image/png;base64,iVBORw0KGgoAAAANSUhEUgAAAAEAAAABCAQAAAC1HAwCAAAAC0lEQVQYV2NgYAAAAAMAAWgmWQ0AAAAASUVORK5CYII=: No connection adapters were found for 'data:image/png;base64,iVBORw0KGgoAAAANSUhEUgAAAAEAAAABCAQAAAC1HAwCAAAAC0lEQVQYV2NgYAAAAAMAAWgmWQ0AAAAASUVORK5CYII='\n",
      "Error al descargar data:image/png;base64,iVBORw0KGgoAAAANSUhEUgAAAAEAAAABCAQAAAC1HAwCAAAAC0lEQVQYV2NgYAAAAAMAAWgmWQ0AAAAASUVORK5CYII=: No connection adapters were found for 'data:image/png;base64,iVBORw0KGgoAAAANSUhEUgAAAAEAAAABCAQAAAC1HAwCAAAAC0lEQVQYV2NgYAAAAAMAAWgmWQ0AAAAASUVORK5CYII='\n",
      "Error al descargar data:image/png;base64,iVBORw0KGgoAAAANSUhEUgAAAAEAAAABCAQAAAC1HAwCAAAAC0lEQVQYV2NgYAAAAAMAAWgmWQ0AAAAASUVORK5CYII=: No connection adapters were found for 'data:image/png;base64,iVBORw0KGgoAAAANSUhEUgAAAAEAAAABCAQAAAC1HAwCAAAAC0lEQVQYV2NgYAAAAAMAAWgmWQ0AAAAASUVORK5CYII='\n",
      "Error al descargar data:image/png;base64,iVBORw0KGgoAAAANSUhEUgAAAAEAAAABCAQAAAC1HAwCAAAAC0lEQVQYV2NgYAAAAAMAAWgmWQ0AAAAASUVORK5CYII=: No connection adapters were found for 'data:image/png;base64,iVBORw0KGgoAAAANSUhEUgAAAAEAAAABCAQAAAC1HAwCAAAAC0lEQVQYV2NgYAAAAAMAAWgmWQ0AAAAASUVORK5CYII='\n",
      "Error al descargar data:image/png;base64,iVBORw0KGgoAAAANSUhEUgAAAAEAAAABCAQAAAC1HAwCAAAAC0lEQVQYV2NgYAAAAAMAAWgmWQ0AAAAASUVORK5CYII=: No connection adapters were found for 'data:image/png;base64,iVBORw0KGgoAAAANSUhEUgAAAAEAAAABCAQAAAC1HAwCAAAAC0lEQVQYV2NgYAAAAAMAAWgmWQ0AAAAASUVORK5CYII='\n",
      "Error al descargar data:image/png;base64,iVBORw0KGgoAAAANSUhEUgAAAAEAAAABCAQAAAC1HAwCAAAAC0lEQVQYV2NgYAAAAAMAAWgmWQ0AAAAASUVORK5CYII=: No connection adapters were found for 'data:image/png;base64,iVBORw0KGgoAAAANSUhEUgAAAAEAAAABCAQAAAC1HAwCAAAAC0lEQVQYV2NgYAAAAAMAAWgmWQ0AAAAASUVORK5CYII='\n",
      "Error al descargar data:image/png;base64,iVBORw0KGgoAAAANSUhEUgAAAAEAAAABCAQAAAC1HAwCAAAAC0lEQVQYV2NgYAAAAAMAAWgmWQ0AAAAASUVORK5CYII=: No connection adapters were found for 'data:image/png;base64,iVBORw0KGgoAAAANSUhEUgAAAAEAAAABCAQAAAC1HAwCAAAAC0lEQVQYV2NgYAAAAAMAAWgmWQ0AAAAASUVORK5CYII='\n",
      "Error al descargar data:image/png;base64,iVBORw0KGgoAAAANSUhEUgAAAAEAAAABCAQAAAC1HAwCAAAAC0lEQVQYV2NgYAAAAAMAAWgmWQ0AAAAASUVORK5CYII=: No connection adapters were found for 'data:image/png;base64,iVBORw0KGgoAAAANSUhEUgAAAAEAAAABCAQAAAC1HAwCAAAAC0lEQVQYV2NgYAAAAAMAAWgmWQ0AAAAASUVORK5CYII='\n",
      "Error al descargar data:image/png;base64,iVBORw0KGgoAAAANSUhEUgAAAAEAAAABCAQAAAC1HAwCAAAAC0lEQVQYV2NgYAAAAAMAAWgmWQ0AAAAASUVORK5CYII=: No connection adapters were found for 'data:image/png;base64,iVBORw0KGgoAAAANSUhEUgAAAAEAAAABCAQAAAC1HAwCAAAAC0lEQVQYV2NgYAAAAAMAAWgmWQ0AAAAASUVORK5CYII='\n",
      "Error al descargar data:image/png;base64,iVBORw0KGgoAAAANSUhEUgAAAAEAAAABCAQAAAC1HAwCAAAAC0lEQVQYV2NgYAAAAAMAAWgmWQ0AAAAASUVORK5CYII=: No connection adapters were found for 'data:image/png;base64,iVBORw0KGgoAAAANSUhEUgAAAAEAAAABCAQAAAC1HAwCAAAAC0lEQVQYV2NgYAAAAAMAAWgmWQ0AAAAASUVORK5CYII='\n",
      "Error al descargar data:image/png;base64,iVBORw0KGgoAAAANSUhEUgAAAAEAAAABCAQAAAC1HAwCAAAAC0lEQVQYV2NgYAAAAAMAAWgmWQ0AAAAASUVORK5CYII=: No connection adapters were found for 'data:image/png;base64,iVBORw0KGgoAAAANSUhEUgAAAAEAAAABCAQAAAC1HAwCAAAAC0lEQVQYV2NgYAAAAAMAAWgmWQ0AAAAASUVORK5CYII='\n",
      "Error al descargar data:image/png;base64,iVBORw0KGgoAAAANSUhEUgAAAAEAAAABCAQAAAC1HAwCAAAAC0lEQVQYV2NgYAAAAAMAAWgmWQ0AAAAASUVORK5CYII=: No connection adapters were found for 'data:image/png;base64,iVBORw0KGgoAAAANSUhEUgAAAAEAAAABCAQAAAC1HAwCAAAAC0lEQVQYV2NgYAAAAAMAAWgmWQ0AAAAASUVORK5CYII='\n",
      "Error al descargar data:image/png;base64,iVBORw0KGgoAAAANSUhEUgAAAAEAAAABCAQAAAC1HAwCAAAAC0lEQVQYV2NgYAAAAAMAAWgmWQ0AAAAASUVORK5CYII=: No connection adapters were found for 'data:image/png;base64,iVBORw0KGgoAAAANSUhEUgAAAAEAAAABCAQAAAC1HAwCAAAAC0lEQVQYV2NgYAAAAAMAAWgmWQ0AAAAASUVORK5CYII='\n",
      "Error al descargar data:image/png;base64,iVBORw0KGgoAAAANSUhEUgAAAAEAAAABCAQAAAC1HAwCAAAAC0lEQVQYV2NgYAAAAAMAAWgmWQ0AAAAASUVORK5CYII=: No connection adapters were found for 'data:image/png;base64,iVBORw0KGgoAAAANSUhEUgAAAAEAAAABCAQAAAC1HAwCAAAAC0lEQVQYV2NgYAAAAAMAAWgmWQ0AAAAASUVORK5CYII='\n",
      "Error al descargar data:image/png;base64,iVBORw0KGgoAAAANSUhEUgAAAAEAAAABCAQAAAC1HAwCAAAAC0lEQVQYV2NgYAAAAAMAAWgmWQ0AAAAASUVORK5CYII=: No connection adapters were found for 'data:image/png;base64,iVBORw0KGgoAAAANSUhEUgAAAAEAAAABCAQAAAC1HAwCAAAAC0lEQVQYV2NgYAAAAAMAAWgmWQ0AAAAASUVORK5CYII='\n",
      "Error al descargar data:image/png;base64,iVBORw0KGgoAAAANSUhEUgAAAAEAAAABCAQAAAC1HAwCAAAAC0lEQVQYV2NgYAAAAAMAAWgmWQ0AAAAASUVORK5CYII=: No connection adapters were found for 'data:image/png;base64,iVBORw0KGgoAAAANSUhEUgAAAAEAAAABCAQAAAC1HAwCAAAAC0lEQVQYV2NgYAAAAAMAAWgmWQ0AAAAASUVORK5CYII='\n",
      "Error al descargar data:image/png;base64,iVBORw0KGgoAAAANSUhEUgAAAAEAAAABCAQAAAC1HAwCAAAAC0lEQVQYV2NgYAAAAAMAAWgmWQ0AAAAASUVORK5CYII=: No connection adapters were found for 'data:image/png;base64,iVBORw0KGgoAAAANSUhEUgAAAAEAAAABCAQAAAC1HAwCAAAAC0lEQVQYV2NgYAAAAAMAAWgmWQ0AAAAASUVORK5CYII='\n",
      "Error al descargar data:image/png;base64,iVBORw0KGgoAAAANSUhEUgAAAAEAAAABCAQAAAC1HAwCAAAAC0lEQVQYV2NgYAAAAAMAAWgmWQ0AAAAASUVORK5CYII=: No connection adapters were found for 'data:image/png;base64,iVBORw0KGgoAAAANSUhEUgAAAAEAAAABCAQAAAC1HAwCAAAAC0lEQVQYV2NgYAAAAAMAAWgmWQ0AAAAASUVORK5CYII='\n",
      "Error al descargar data:image/png;base64,iVBORw0KGgoAAAANSUhEUgAAAAEAAAABCAQAAAC1HAwCAAAAC0lEQVQYV2NgYAAAAAMAAWgmWQ0AAAAASUVORK5CYII=: No connection adapters were found for 'data:image/png;base64,iVBORw0KGgoAAAANSUhEUgAAAAEAAAABCAQAAAC1HAwCAAAAC0lEQVQYV2NgYAAAAAMAAWgmWQ0AAAAASUVORK5CYII='\n",
      "Error al descargar data:image/png;base64,iVBORw0KGgoAAAANSUhEUgAAAAEAAAABCAQAAAC1HAwCAAAAC0lEQVQYV2NgYAAAAAMAAWgmWQ0AAAAASUVORK5CYII=: No connection adapters were found for 'data:image/png;base64,iVBORw0KGgoAAAANSUhEUgAAAAEAAAABCAQAAAC1HAwCAAAAC0lEQVQYV2NgYAAAAAMAAWgmWQ0AAAAASUVORK5CYII='\n",
      "Error al descargar data:image/png;base64,iVBORw0KGgoAAAANSUhEUgAAAAEAAAABCAQAAAC1HAwCAAAAC0lEQVQYV2NgYAAAAAMAAWgmWQ0AAAAASUVORK5CYII=: No connection adapters were found for 'data:image/png;base64,iVBORw0KGgoAAAANSUhEUgAAAAEAAAABCAQAAAC1HAwCAAAAC0lEQVQYV2NgYAAAAAMAAWgmWQ0AAAAASUVORK5CYII='\n",
      "Error al descargar data:image/png;base64,iVBORw0KGgoAAAANSUhEUgAAAAEAAAABCAQAAAC1HAwCAAAAC0lEQVQYV2NgYAAAAAMAAWgmWQ0AAAAASUVORK5CYII=: No connection adapters were found for 'data:image/png;base64,iVBORw0KGgoAAAANSUhEUgAAAAEAAAABCAQAAAC1HAwCAAAAC0lEQVQYV2NgYAAAAAMAAWgmWQ0AAAAASUVORK5CYII='\n",
      "Error al descargar data:image/png;base64,iVBORw0KGgoAAAANSUhEUgAAAAEAAAABCAQAAAC1HAwCAAAAC0lEQVQYV2NgYAAAAAMAAWgmWQ0AAAAASUVORK5CYII=: No connection adapters were found for 'data:image/png;base64,iVBORw0KGgoAAAANSUhEUgAAAAEAAAABCAQAAAC1HAwCAAAAC0lEQVQYV2NgYAAAAAMAAWgmWQ0AAAAASUVORK5CYII='\n",
      "Error al descargar data:image/png;base64,iVBORw0KGgoAAAANSUhEUgAAAAEAAAABCAQAAAC1HAwCAAAAC0lEQVQYV2NgYAAAAAMAAWgmWQ0AAAAASUVORK5CYII=: No connection adapters were found for 'data:image/png;base64,iVBORw0KGgoAAAANSUhEUgAAAAEAAAABCAQAAAC1HAwCAAAAC0lEQVQYV2NgYAAAAAMAAWgmWQ0AAAAASUVORK5CYII='\n",
      "Error al descargar data:image/png;base64,iVBORw0KGgoAAAANSUhEUgAAAAEAAAABCAQAAAC1HAwCAAAAC0lEQVQYV2NgYAAAAAMAAWgmWQ0AAAAASUVORK5CYII=: No connection adapters were found for 'data:image/png;base64,iVBORw0KGgoAAAANSUhEUgAAAAEAAAABCAQAAAC1HAwCAAAAC0lEQVQYV2NgYAAAAAMAAWgmWQ0AAAAASUVORK5CYII='\n",
      "Error al descargar data:image/png;base64,iVBORw0KGgoAAAANSUhEUgAAAAEAAAABCAQAAAC1HAwCAAAAC0lEQVQYV2NgYAAAAAMAAWgmWQ0AAAAASUVORK5CYII=: No connection adapters were found for 'data:image/png;base64,iVBORw0KGgoAAAANSUhEUgAAAAEAAAABCAQAAAC1HAwCAAAAC0lEQVQYV2NgYAAAAAMAAWgmWQ0AAAAASUVORK5CYII='\n",
      "Error al descargar data:image/png;base64,iVBORw0KGgoAAAANSUhEUgAAAAEAAAABCAQAAAC1HAwCAAAAC0lEQVQYV2NgYAAAAAMAAWgmWQ0AAAAASUVORK5CYII=: No connection adapters were found for 'data:image/png;base64,iVBORw0KGgoAAAANSUhEUgAAAAEAAAABCAQAAAC1HAwCAAAAC0lEQVQYV2NgYAAAAAMAAWgmWQ0AAAAASUVORK5CYII='\n",
      "Error al descargar data:image/png;base64,iVBORw0KGgoAAAANSUhEUgAAAAEAAAABCAQAAAC1HAwCAAAAC0lEQVQYV2NgYAAAAAMAAWgmWQ0AAAAASUVORK5CYII=: No connection adapters were found for 'data:image/png;base64,iVBORw0KGgoAAAANSUhEUgAAAAEAAAABCAQAAAC1HAwCAAAAC0lEQVQYV2NgYAAAAAMAAWgmWQ0AAAAASUVORK5CYII='\n",
      "Error al descargar data:image/png;base64,iVBORw0KGgoAAAANSUhEUgAAAAEAAAABCAQAAAC1HAwCAAAAC0lEQVQYV2NgYAAAAAMAAWgmWQ0AAAAASUVORK5CYII=: No connection adapters were found for 'data:image/png;base64,iVBORw0KGgoAAAANSUhEUgAAAAEAAAABCAQAAAC1HAwCAAAAC0lEQVQYV2NgYAAAAAMAAWgmWQ0AAAAASUVORK5CYII='\n",
      "Error al descargar data:image/png;base64,iVBORw0KGgoAAAANSUhEUgAAAAEAAAABCAQAAAC1HAwCAAAAC0lEQVQYV2NgYAAAAAMAAWgmWQ0AAAAASUVORK5CYII=: No connection adapters were found for 'data:image/png;base64,iVBORw0KGgoAAAANSUhEUgAAAAEAAAABCAQAAAC1HAwCAAAAC0lEQVQYV2NgYAAAAAMAAWgmWQ0AAAAASUVORK5CYII='\n",
      "Error al descargar data:image/png;base64,iVBORw0KGgoAAAANSUhEUgAAAAEAAAABCAQAAAC1HAwCAAAAC0lEQVQYV2NgYAAAAAMAAWgmWQ0AAAAASUVORK5CYII=: No connection adapters were found for 'data:image/png;base64,iVBORw0KGgoAAAANSUhEUgAAAAEAAAABCAQAAAC1HAwCAAAAC0lEQVQYV2NgYAAAAAMAAWgmWQ0AAAAASUVORK5CYII='\n",
      "Error al descargar data:image/png;base64,iVBORw0KGgoAAAANSUhEUgAAAAEAAAABCAQAAAC1HAwCAAAAC0lEQVQYV2NgYAAAAAMAAWgmWQ0AAAAASUVORK5CYII=: No connection adapters were found for 'data:image/png;base64,iVBORw0KGgoAAAANSUhEUgAAAAEAAAABCAQAAAC1HAwCAAAAC0lEQVQYV2NgYAAAAAMAAWgmWQ0AAAAASUVORK5CYII='\n",
      "Error al descargar data:image/png;base64,iVBORw0KGgoAAAANSUhEUgAAAAEAAAABCAQAAAC1HAwCAAAAC0lEQVQYV2NgYAAAAAMAAWgmWQ0AAAAASUVORK5CYII=: No connection adapters were found for 'data:image/png;base64,iVBORw0KGgoAAAANSUhEUgAAAAEAAAABCAQAAAC1HAwCAAAAC0lEQVQYV2NgYAAAAAMAAWgmWQ0AAAAASUVORK5CYII='\n",
      "Error al descargar data:image/png;base64,iVBORw0KGgoAAAANSUhEUgAAAAEAAAABCAQAAAC1HAwCAAAAC0lEQVQYV2NgYAAAAAMAAWgmWQ0AAAAASUVORK5CYII=: No connection adapters were found for 'data:image/png;base64,iVBORw0KGgoAAAANSUhEUgAAAAEAAAABCAQAAAC1HAwCAAAAC0lEQVQYV2NgYAAAAAMAAWgmWQ0AAAAASUVORK5CYII='\n",
      "Error al descargar data:image/png;base64,iVBORw0KGgoAAAANSUhEUgAAAAEAAAABCAQAAAC1HAwCAAAAC0lEQVQYV2NgYAAAAAMAAWgmWQ0AAAAASUVORK5CYII=: No connection adapters were found for 'data:image/png;base64,iVBORw0KGgoAAAANSUhEUgAAAAEAAAABCAQAAAC1HAwCAAAAC0lEQVQYV2NgYAAAAAMAAWgmWQ0AAAAASUVORK5CYII='\n",
      "Error al descargar data:image/png;base64,iVBORw0KGgoAAAANSUhEUgAAAAEAAAABCAQAAAC1HAwCAAAAC0lEQVQYV2NgYAAAAAMAAWgmWQ0AAAAASUVORK5CYII=: No connection adapters were found for 'data:image/png;base64,iVBORw0KGgoAAAANSUhEUgAAAAEAAAABCAQAAAC1HAwCAAAAC0lEQVQYV2NgYAAAAAMAAWgmWQ0AAAAASUVORK5CYII='\n",
      "Error al descargar data:image/png;base64,iVBORw0KGgoAAAANSUhEUgAAAAEAAAABCAQAAAC1HAwCAAAAC0lEQVQYV2NgYAAAAAMAAWgmWQ0AAAAASUVORK5CYII=: No connection adapters were found for 'data:image/png;base64,iVBORw0KGgoAAAANSUhEUgAAAAEAAAABCAQAAAC1HAwCAAAAC0lEQVQYV2NgYAAAAAMAAWgmWQ0AAAAASUVORK5CYII='\n",
      "Error al descargar data:image/png;base64,iVBORw0KGgoAAAANSUhEUgAAAAEAAAABCAQAAAC1HAwCAAAAC0lEQVQYV2NgYAAAAAMAAWgmWQ0AAAAASUVORK5CYII=: No connection adapters were found for 'data:image/png;base64,iVBORw0KGgoAAAANSUhEUgAAAAEAAAABCAQAAAC1HAwCAAAAC0lEQVQYV2NgYAAAAAMAAWgmWQ0AAAAASUVORK5CYII='\n",
      "Error al descargar data:image/png;base64,iVBORw0KGgoAAAANSUhEUgAAAAEAAAABCAQAAAC1HAwCAAAAC0lEQVQYV2NgYAAAAAMAAWgmWQ0AAAAASUVORK5CYII=: No connection adapters were found for 'data:image/png;base64,iVBORw0KGgoAAAANSUhEUgAAAAEAAAABCAQAAAC1HAwCAAAAC0lEQVQYV2NgYAAAAAMAAWgmWQ0AAAAASUVORK5CYII='\n",
      "Error al descargar data:image/png;base64,iVBORw0KGgoAAAANSUhEUgAAAAEAAAABCAQAAAC1HAwCAAAAC0lEQVQYV2NgYAAAAAMAAWgmWQ0AAAAASUVORK5CYII=: No connection adapters were found for 'data:image/png;base64,iVBORw0KGgoAAAANSUhEUgAAAAEAAAABCAQAAAC1HAwCAAAAC0lEQVQYV2NgYAAAAAMAAWgmWQ0AAAAASUVORK5CYII='\n",
      "Error al descargar data:image/png;base64,iVBORw0KGgoAAAANSUhEUgAAAAEAAAABCAQAAAC1HAwCAAAAC0lEQVQYV2NgYAAAAAMAAWgmWQ0AAAAASUVORK5CYII=: No connection adapters were found for 'data:image/png;base64,iVBORw0KGgoAAAANSUhEUgAAAAEAAAABCAQAAAC1HAwCAAAAC0lEQVQYV2NgYAAAAAMAAWgmWQ0AAAAASUVORK5CYII='\n",
      "Error al descargar data:image/png;base64,iVBORw0KGgoAAAANSUhEUgAAAAEAAAABCAQAAAC1HAwCAAAAC0lEQVQYV2NgYAAAAAMAAWgmWQ0AAAAASUVORK5CYII=: No connection adapters were found for 'data:image/png;base64,iVBORw0KGgoAAAANSUhEUgAAAAEAAAABCAQAAAC1HAwCAAAAC0lEQVQYV2NgYAAAAAMAAWgmWQ0AAAAASUVORK5CYII='\n",
      "Error al descargar data:image/png;base64,iVBORw0KGgoAAAANSUhEUgAAAAEAAAABCAQAAAC1HAwCAAAAC0lEQVQYV2NgYAAAAAMAAWgmWQ0AAAAASUVORK5CYII=: No connection adapters were found for 'data:image/png;base64,iVBORw0KGgoAAAANSUhEUgAAAAEAAAABCAQAAAC1HAwCAAAAC0lEQVQYV2NgYAAAAAMAAWgmWQ0AAAAASUVORK5CYII='\n",
      "Error al descargar data:image/png;base64,iVBORw0KGgoAAAANSUhEUgAAAAEAAAABCAQAAAC1HAwCAAAAC0lEQVQYV2NgYAAAAAMAAWgmWQ0AAAAASUVORK5CYII=: No connection adapters were found for 'data:image/png;base64,iVBORw0KGgoAAAANSUhEUgAAAAEAAAABCAQAAAC1HAwCAAAAC0lEQVQYV2NgYAAAAAMAAWgmWQ0AAAAASUVORK5CYII='\n",
      "Error al descargar data:image/png;base64,iVBORw0KGgoAAAANSUhEUgAAAAEAAAABCAQAAAC1HAwCAAAAC0lEQVQYV2NgYAAAAAMAAWgmWQ0AAAAASUVORK5CYII=: No connection adapters were found for 'data:image/png;base64,iVBORw0KGgoAAAANSUhEUgAAAAEAAAABCAQAAAC1HAwCAAAAC0lEQVQYV2NgYAAAAAMAAWgmWQ0AAAAASUVORK5CYII='\n"
     ]
    },
    {
     "name": "stderr",
     "output_type": "stream",
     "text": [
      "Procesando imágenes de https://www.pngwing.com/es/search?q=manzanilla: 100%|██████████| 61/61 [00:00<00:00, 256.21it/s]\n"
     ]
    },
    {
     "name": "stdout",
     "output_type": "stream",
     "text": [
      "Error al descargar https://www.pngwing.com/public/css/pngwing.svg: cannot identify image file <_io.BytesIO object at 0x0000022031706D40>\n"
     ]
    },
    {
     "name": "stderr",
     "output_type": "stream",
     "text": [
      "Procesando imágenes de https://es.pngtree.com/free-backgrounds-photos/la-manzanilla: 0it [00:00, ?it/s]\n"
     ]
    },
    {
     "name": "stdout",
     "output_type": "stream",
     "text": [
      "Error procesando https://depositphotos.com/es/photos/planta-de-manzanilla.html: HTTPSConnectionPool(host='depositphotos.com', port=443): Max retries exceeded with url: /es/photos/planta-de-manzanilla.html (Caused by ConnectTimeoutError(<urllib3.connection.HTTPSConnection object at 0x0000022030FCF070>, 'Connection to depositphotos.com timed out. (connect timeout=10)'))\n",
      "Error procesando https://depositphotos.com/es/photos/hojas-de-manzanilla.html: HTTPSConnectionPool(host='depositphotos.com', port=443): Max retries exceeded with url: /es/photos/hojas-de-manzanilla.html (Caused by ConnectTimeoutError(<urllib3.connection.HTTPSConnection object at 0x0000022030FCFB50>, 'Connection to depositphotos.com timed out. (connect timeout=10)'))\n"
     ]
    },
    {
     "name": "stderr",
     "output_type": "stream",
     "text": [
      "Procesando imágenes de http://especiesbolivianas.info/especie_ver.aspx?esp=321: 0it [00:00, ?it/s]\n",
      "Procesando imágenes de https://es.123rf.com/imagenes-de-archivo/manzanilla.html:   4%|▎         | 11/300 [00:00<00:08, 33.68it/s]"
     ]
    },
    {
     "name": "stdout",
     "output_type": "stream",
     "text": [
      "Error al descargar https://assets-cdn.123rf.com/ui-components/assets/svg/ai-img-generator.svg: cannot identify image file <_io.BytesIO object at 0x0000022031D33A10>\n",
      "Error al descargar https://assets-cdn.123rf.com/ui-components/assets/svg/gradient/123rf-logo-gradient.svg: cannot identify image file <_io.BytesIO object at 0x0000022030C641D0>\n",
      "Error al descargar https://assets-cdn.123rf.com/ui-components/assets/svg/chevron-down.svg: cannot identify image file <_io.BytesIO object at 0x0000022031D31300>\n",
      "Error al descargar https://assets-cdn.123rf.com/ui-components/assets/svg/ai-sketch.svg: cannot identify image file <_io.BytesIO object at 0x0000022031D30A90>\n",
      "Error al descargar https://assets-cdn.123rf.com/ui-components/assets/svg/ai-img-upscaler.svg: cannot identify image file <_io.BytesIO object at 0x00000220318389F0>\n",
      "Error al descargar https://assets-cdn.123rf.com/ui-components/assets/svg/ai-face-swap.svg: cannot identify image file <_io.BytesIO object at 0x0000022031D30C70>\n",
      "Error al descargar https://assets-cdn.123rf.com/ui-components/assets/svg/ai-generative-fill.svg: cannot identify image file <_io.BytesIO object at 0x0000022031840090>\n"
     ]
    },
    {
     "name": "stderr",
     "output_type": "stream",
     "text": [
      "Procesando imágenes de https://es.123rf.com/imagenes-de-archivo/manzanilla.html:   7%|▋         | 22/300 [00:00<00:06, 40.24it/s]"
     ]
    },
    {
     "name": "stdout",
     "output_type": "stream",
     "text": [
      "Error al descargar https://assets-cdn.123rf.com/ui-components/assets/svg/ai-bg-blur.svg: cannot identify image file <_io.BytesIO object at 0x0000022031193DD0>\n",
      "Error al descargar https://assets-cdn.123rf.com/ui-components/assets/svg/ai-img-extender.svg: cannot identify image file <_io.BytesIO object at 0x0000022030DB6E80>\n",
      "Error al descargar https://assets-cdn.123rf.com/ui-components/assets/svg/ai-writer.svg: cannot identify image file <_io.BytesIO object at 0x0000022031D30C70>\n",
      "Error al descargar https://assets-cdn.123rf.com/ui-components/assets/svg/ai-bg-remix.svg: cannot identify image file <_io.BytesIO object at 0x0000022030D99800>\n",
      "Error al descargar https://assets-cdn.123rf.com/ui-components/assets/svg/ai-bg-removal.svg: cannot identify image file <_io.BytesIO object at 0x0000022031D31850>\n",
      "Error al descargar https://assets-cdn.123rf.com/ui-components/assets/svg/chevron-down.svg: cannot identify image file <_io.BytesIO object at 0x0000022031D31300>\n",
      "Error al descargar https://assets-cdn.123rf.com/ui-components/assets/svg/chevron-down.svg: cannot identify image file <_io.BytesIO object at 0x0000022031740D10>\n"
     ]
    },
    {
     "name": "stderr",
     "output_type": "stream",
     "text": [
      "Procesando imágenes de https://es.123rf.com/imagenes-de-archivo/manzanilla.html:  11%|█         | 32/300 [00:00<00:06, 42.99it/s]"
     ]
    },
    {
     "name": "stdout",
     "output_type": "stream",
     "text": [
      "Error al descargar https://assets-cdn.123rf.com/ui-components/assets/svg/tick.svg: cannot identify image file <_io.BytesIO object at 0x00000220318389F0>\n",
      "Error al descargar https://assets-cdn.123rf.com/ui-components/assets/svg/tick.svg: cannot identify image file <_io.BytesIO object at 0x0000022031839DF0>\n",
      "Error al descargar https://assets-cdn.123rf.com/ui-components/assets/svg/tick.svg: cannot identify image file <_io.BytesIO object at 0x0000022030DB6340>\n",
      "Error al descargar https://assets-cdn.123rf.com/ui-components/assets/images/plus-upsell-ai-v3.png: cannot write mode P as JPEG\n",
      "Error al descargar https://assets-cdn.123rf.com/ui-components/assets/svg/tick.svg: cannot identify image file <_io.BytesIO object at 0x000002203183A5C0>\n",
      "Error al descargar https://assets-cdn.123rf.com/ui-components/assets/svg/tick.svg: cannot identify image file <_io.BytesIO object at 0x0000022030C641D0>\n",
      "Error al descargar https://assets-cdn.123rf.com/ui-components/assets/svg/tick.svg: cannot identify image file <_io.BytesIO object at 0x0000022031D30B80>\n",
      "Error al descargar https://assets-cdn.123rf.com/ui-components/assets/svg/tick.svg: cannot identify image file <_io.BytesIO object at 0x0000022030D99BC0>\n"
     ]
    },
    {
     "name": "stderr",
     "output_type": "stream",
     "text": [
      "Procesando imágenes de https://es.123rf.com/imagenes-de-archivo/manzanilla.html:  12%|█▏        | 37/300 [00:00<00:06, 41.40it/s]"
     ]
    },
    {
     "name": "stdout",
     "output_type": "stream",
     "text": [
      "Error al descargar https://assets-cdn.123rf.com/ui-components/assets/svg/tick.svg: cannot identify image file <_io.BytesIO object at 0x0000022031D30A90>\n",
      "Error al descargar https://assets-cdn.123rf.com/ui-components/assets/svg/tick.svg: cannot identify image file <_io.BytesIO object at 0x0000022031840090>\n",
      "Error al descargar https://assets-cdn.123rf.com/ui-components/assets/svg/tick.svg: cannot identify image file <_io.BytesIO object at 0x00000220318389F0>\n",
      "Error al descargar https://assets-cdn.123rf.com/ui-components/assets/svg/tick.svg: cannot identify image file <_io.BytesIO object at 0x0000022031193DD0>\n",
      "Error al descargar https://assets-cdn.123rf.com/ui-components/assets/svg/tick.svg: cannot identify image file <_io.BytesIO object at 0x0000022030D99800>\n",
      "Error al descargar https://assets-cdn.123rf.com/ui-components/assets/svg/tick.svg: cannot identify image file <_io.BytesIO object at 0x0000022031D30C70>\n",
      "Error al descargar https://assets-cdn.123rf.com/ui-components/assets/svg/tick.svg: cannot identify image file <_io.BytesIO object at 0x0000022030DB6C50>\n",
      "Error al descargar https://assets-cdn.123rf.com/ui-components/assets/svg/tick.svg: cannot identify image file <_io.BytesIO object at 0x0000022031D33A10>\n",
      "Error al descargar https://assets-cdn.123rf.com/ui-components/assets/svg/menu.svg: cannot identify image file <_io.BytesIO object at 0x0000022030E553F0>\n",
      "Error al descargar https://assets-cdn.123rf.com/ui-components/assets/svg/camera.svg: cannot identify image file <_io.BytesIO object at 0x0000022031D31850>\n"
     ]
    },
    {
     "name": "stderr",
     "output_type": "stream",
     "text": [
      "Procesando imágenes de https://es.123rf.com/imagenes-de-archivo/manzanilla.html:  16%|█▌        | 47/300 [00:01<00:06, 41.09it/s]"
     ]
    },
    {
     "name": "stdout",
     "output_type": "stream",
     "text": [
      "Error al descargar https://assets-cdn.123rf.com/ui-components/assets/svg/close.svg: cannot identify image file <_io.BytesIO object at 0x0000022031D31300>\n",
      "Error al descargar https://assets-cdn.123rf.com/ui-components/assets/svg/upload.svg: cannot identify image file <_io.BytesIO object at 0x0000022031740D10>\n",
      "Error al descargar https://assets-cdn.123rf.com/ui-components/assets/svg/chevron-down.svg: cannot identify image file <_io.BytesIO object at 0x0000022030DB6570>\n",
      "Error al descargar https://assets-cdn.123rf.com/ui-components/assets/svg/all-images.svg: cannot identify image file <_io.BytesIO object at 0x0000022031839DF0>\n",
      "Error al descargar https://assets-cdn.123rf.com/ui-components/assets/svg/camera.svg: cannot identify image file <_io.BytesIO object at 0x000002203183A5C0>\n",
      "Error al descargar https://assets-cdn.123rf.com/ui-components/assets/svg/close.svg: cannot identify image file <_io.BytesIO object at 0x0000022030C641D0>\n",
      "Error al descargar https://assets-cdn.123rf.com/ui-components/assets/svg/premium.svg: cannot identify image file <_io.BytesIO object at 0x0000022030DB6CF0>\n",
      "Error al descargar https://assets-cdn.123rf.com/ui-components/assets/svg/all-images.svg: cannot identify image file <_io.BytesIO object at 0x0000022030DB6B60>\n",
      "Error al descargar https://assets-cdn.123rf.com/ui-components/assets/svg/photos.svg: cannot identify image file <_io.BytesIO object at 0x0000022031D30B80>\n",
      "Error al descargar https://assets-cdn.123rf.com/ui-components/assets/svg/vector.svg: cannot identify image file <_io.BytesIO object at 0x0000022030D99BC0>\n"
     ]
    },
    {
     "name": "stderr",
     "output_type": "stream",
     "text": [
      "Procesando imágenes de https://es.123rf.com/imagenes-de-archivo/manzanilla.html:  21%|██        | 62/300 [00:01<00:05, 46.63it/s]"
     ]
    },
    {
     "name": "stdout",
     "output_type": "stream",
     "text": [
      "Error al descargar https://assets-cdn.123rf.com/ui-components/assets/svg/footage.svg: cannot identify image file <_io.BytesIO object at 0x0000022031D30A90>\n",
      "Error al descargar https://assets-cdn.123rf.com/ui-components/assets/svg/audio.svg: cannot identify image file <_io.BytesIO object at 0x0000022031740D10>\n",
      "Error al descargar https://assets-cdn.123rf.com/ui-components/assets/svg/free.svg: cannot identify image file <_io.BytesIO object at 0x0000022030D99800>\n",
      "Error al descargar https://assets-cdn.123rf.com/ui-components/assets/svg/ai-img-generator.svg: cannot identify image file <_io.BytesIO object at 0x0000022031193DD0>\n",
      "Error al descargar https://assets-cdn.123rf.com/ui-components/assets/svg/font-v2.svg: cannot identify image file <_io.BytesIO object at 0x0000022030DB62F0>\n",
      "Error al descargar https://assets-cdn.123rf.com/ui-components/assets/svg/gradient/premium-crown-gradient2.svg: cannot identify image file <_io.BytesIO object at 0x0000022030E553F0>\n",
      "Error al descargar https://assets-cdn.123rf.com/ui-components/assets/svg/plus.svg: cannot identify image file <_io.BytesIO object at 0x0000022031D30C70>\n",
      "Error al descargar https://assets-cdn.123rf.com/ui-components/assets/svg/search.svg: cannot identify image file <_io.BytesIO object at 0x0000022030DB6250>\n",
      "Error al descargar https://assets-cdn.123rf.com/ui-components/assets/svg/collection.svg: cannot identify image file <_io.BytesIO object at 0x0000022031D31850>\n"
     ]
    },
    {
     "name": "stderr",
     "output_type": "stream",
     "text": [
      "Procesando imágenes de https://es.123rf.com/imagenes-de-archivo/manzanilla.html:  22%|██▏       | 67/300 [00:01<00:05, 43.47it/s]"
     ]
    },
    {
     "name": "stdout",
     "output_type": "stream",
     "text": [
      "Error al descargar https://assets-cdn.123rf.com/ui-components/assets/svg/gradient/premium-crown-gradient2.svg: cannot identify image file <_io.BytesIO object at 0x0000022031838FE0>\n",
      "Error al descargar https://assets-cdn.123rf.com/ui-components/assets/svg/collection.svg: cannot identify image file <_io.BytesIO object at 0x0000022031D33A10>\n",
      "Error al descargar https://assets-cdn.123rf.com/ui-components/assets/svg/gradient/premium-crown-gradient2.svg: cannot identify image file <_io.BytesIO object at 0x0000022031839DF0>\n",
      "Error al descargar https://assets-cdn.123rf.com/ui-components/assets/svg/collection.svg: cannot identify image file <_io.BytesIO object at 0x0000022030DB7150>\n",
      "Error al descargar https://assets-cdn.123rf.com/ui-components/assets/svg/collection.svg: cannot identify image file <_io.BytesIO object at 0x000002203183A5C0>\n",
      "Error al descargar https://assets-cdn.123rf.com/ui-components/assets/svg/gradient/premium-crown-gradient2.svg: cannot identify image file <_io.BytesIO object at 0x0000022030D99BC0>\n",
      "Error al descargar https://assets-cdn.123rf.com/ui-components/assets/svg/collection.svg: cannot identify image file <_io.BytesIO object at 0x0000022031D30A90>\n"
     ]
    },
    {
     "name": "stderr",
     "output_type": "stream",
     "text": [
      "Procesando imágenes de https://es.123rf.com/imagenes-de-archivo/manzanilla.html:  27%|██▋       | 82/300 [00:02<00:04, 46.41it/s]"
     ]
    },
    {
     "name": "stdout",
     "output_type": "stream",
     "text": [
      "Error al descargar https://assets-cdn.123rf.com/ui-components/assets/svg/collection.svg: cannot identify image file <_io.BytesIO object at 0x0000022031D30950>\n",
      "Error al descargar https://assets-cdn.123rf.com/ui-components/assets/svg/gradient/premium-crown-gradient2.svg: cannot identify image file <_io.BytesIO object at 0x0000022031D33A10>\n",
      "Error al descargar https://assets-cdn.123rf.com/ui-components/assets/svg/collection.svg: cannot identify image file <_io.BytesIO object at 0x0000022030DB61B0>\n",
      "Error al descargar https://assets-cdn.123rf.com/ui-components/assets/svg/gradient/premium-crown-gradient2.svg: cannot identify image file <_io.BytesIO object at 0x0000022030DB7650>\n",
      "Error al descargar https://assets-cdn.123rf.com/ui-components/assets/svg/collection.svg: cannot identify image file <_io.BytesIO object at 0x0000022031D30C70>\n",
      "Error al descargar https://assets-cdn.123rf.com/ui-components/assets/svg/gradient/premium-crown-gradient2.svg: cannot identify image file <_io.BytesIO object at 0x0000022030C641D0>\n",
      "Error al descargar https://assets-cdn.123rf.com/ui-components/assets/svg/collection.svg: cannot identify image file <_io.BytesIO object at 0x0000022031D31300>\n"
     ]
    },
    {
     "name": "stderr",
     "output_type": "stream",
     "text": [
      "Procesando imágenes de https://es.123rf.com/imagenes-de-archivo/manzanilla.html:  32%|███▏      | 95/300 [00:02<00:04, 46.57it/s]"
     ]
    },
    {
     "name": "stdout",
     "output_type": "stream",
     "text": [
      "Error al descargar https://assets-cdn.123rf.com/ui-components/assets/svg/collection.svg: cannot identify image file <_io.BytesIO object at 0x0000022031740D10>\n",
      "Error al descargar https://assets-cdn.123rf.com/ui-components/assets/svg/collection.svg: cannot identify image file <_io.BytesIO object at 0x000002203183A5C0>\n",
      "Error al descargar https://assets-cdn.123rf.com/ui-components/assets/svg/collection.svg: cannot identify image file <_io.BytesIO object at 0x00000220320E0860>\n",
      "Error al descargar https://assets-cdn.123rf.com/ui-components/assets/svg/collection.svg: cannot identify image file <_io.BytesIO object at 0x0000022030D99BC0>\n",
      "Error al descargar https://assets-cdn.123rf.com/ui-components/assets/svg/gradient/premium-crown-gradient2.svg: cannot identify image file <_io.BytesIO object at 0x0000022031D308B0>\n",
      "Error al descargar https://assets-cdn.123rf.com/ui-components/assets/svg/collection.svg: cannot identify image file <_io.BytesIO object at 0x0000022031838220>\n"
     ]
    },
    {
     "name": "stderr",
     "output_type": "stream",
     "text": [
      "Procesando imágenes de https://es.123rf.com/imagenes-de-archivo/manzanilla.html:  33%|███▎      | 100/300 [00:02<00:04, 41.82it/s]"
     ]
    },
    {
     "name": "stdout",
     "output_type": "stream",
     "text": [
      "Error al descargar https://assets-cdn.123rf.com/ui-components/assets/svg/collection.svg: cannot identify image file <_io.BytesIO object at 0x0000022031838FE0>\n",
      "Error al descargar https://assets-cdn.123rf.com/ui-components/assets/svg/gradient/premium-crown-gradient2.svg: cannot identify image file <_io.BytesIO object at 0x0000022030DB62A0>\n",
      "Error al descargar https://assets-cdn.123rf.com/ui-components/assets/svg/collection.svg: cannot identify image file <_io.BytesIO object at 0x0000022030C641D0>\n",
      "Error al descargar https://assets-cdn.123rf.com/ui-components/assets/svg/collection.svg: cannot identify image file <_io.BytesIO object at 0x0000022031D33A10>\n",
      "Error al descargar https://assets-cdn.123rf.com/ui-components/assets/svg/gradient/premium-crown-gradient2.svg: cannot identify image file <_io.BytesIO object at 0x00000220320E0860>\n",
      "Error al descargar https://assets-cdn.123rf.com/ui-components/assets/svg/gradient/premium-crown-gradient2.svg: cannot identify image file <_io.BytesIO object at 0x0000022030E553F0>\n",
      "Error al descargar https://assets-cdn.123rf.com/ui-components/assets/svg/collection.svg: cannot identify image file <_io.BytesIO object at 0x0000022030DB4F40>\n",
      "Error al descargar https://assets-cdn.123rf.com/ui-components/assets/svg/collection.svg: cannot identify image file <_io.BytesIO object at 0x0000022031838FE0>\n",
      "Error al descargar https://assets-cdn.123rf.com/ui-components/assets/svg/collection.svg: cannot identify image file <_io.BytesIO object at 0x0000022031D33A10>\n",
      "Error al descargar https://assets-cdn.123rf.com/ui-components/assets/svg/collection.svg: cannot identify image file <_io.BytesIO object at 0x0000022030E553F0>\n",
      "Error al descargar https://assets-cdn.123rf.com/ui-components/assets/svg/collection.svg: cannot identify image file <_io.BytesIO object at 0x0000022030C641D0>\n"
     ]
    },
    {
     "name": "stderr",
     "output_type": "stream",
     "text": [
      "Procesando imágenes de https://es.123rf.com/imagenes-de-archivo/manzanilla.html:  35%|███▌      | 105/300 [00:02<00:08, 22.36it/s]"
     ]
    },
    {
     "name": "stdout",
     "output_type": "stream",
     "text": [
      "Error al descargar https://assets-cdn.123rf.com/ui-components/assets/svg/collection.svg: cannot identify image file <_io.BytesIO object at 0x0000022031740D10>\n",
      "Error al descargar https://assets-cdn.123rf.com/ui-components/assets/svg/gradient/premium-crown-gradient2.svg: cannot identify image file <_io.BytesIO object at 0x0000022030DB79C0>\n",
      "Error al descargar https://assets-cdn.123rf.com/ui-components/assets/svg/collection.svg: cannot identify image file <_io.BytesIO object at 0x0000022031D31850>\n",
      "Error al descargar https://assets-cdn.123rf.com/ui-components/assets/svg/collection.svg: cannot identify image file <_io.BytesIO object at 0x0000022030DB5DF0>\n",
      "Error al descargar https://assets-cdn.123rf.com/ui-components/assets/svg/gradient/premium-crown-gradient2.svg: cannot identify image file <_io.BytesIO object at 0x0000022031838220>\n",
      "Error al descargar https://assets-cdn.123rf.com/ui-components/assets/svg/collection.svg: cannot identify image file <_io.BytesIO object at 0x0000022030D99800>\n"
     ]
    },
    {
     "name": "stderr",
     "output_type": "stream",
     "text": [
      "Procesando imágenes de https://es.123rf.com/imagenes-de-archivo/manzanilla.html:  45%|████▌     | 135/300 [00:03<00:02, 56.92it/s]"
     ]
    },
    {
     "name": "stdout",
     "output_type": "stream",
     "text": [
      "Error al descargar https://assets-cdn.123rf.com/ui-components/assets/svg/collection.svg: cannot identify image file <_io.BytesIO object at 0x0000022031D30C70>\n",
      "Error al descargar https://assets-cdn.123rf.com/ui-components/assets/svg/collection.svg: cannot identify image file <_io.BytesIO object at 0x0000022030DB7D80>\n",
      "Error al descargar https://assets-cdn.123rf.com/ui-components/assets/svg/collection.svg: cannot identify image file <_io.BytesIO object at 0x0000022031D31300>\n",
      "Error al descargar https://assets-cdn.123rf.com/ui-components/assets/svg/collection.svg: cannot identify image file <_io.BytesIO object at 0x0000022031D30950>\n",
      "Error al descargar https://assets-cdn.123rf.com/ui-components/assets/svg/collection.svg: cannot identify image file <_io.BytesIO object at 0x0000022030E55EE0>\n",
      "Error al descargar https://assets-cdn.123rf.com/ui-components/assets/svg/collection.svg: cannot identify image file <_io.BytesIO object at 0x0000022031D30A90>\n"
     ]
    },
    {
     "name": "stderr",
     "output_type": "stream",
     "text": [
      "Procesando imágenes de https://es.123rf.com/imagenes-de-archivo/manzanilla.html:  48%|████▊     | 145/300 [00:03<00:03, 51.61it/s]"
     ]
    },
    {
     "name": "stdout",
     "output_type": "stream",
     "text": [
      "Error al descargar https://assets-cdn.123rf.com/ui-components/assets/svg/collection.svg: cannot identify image file <_io.BytesIO object at 0x00000220318389F0>\n",
      "Error al descargar https://assets-cdn.123rf.com/ui-components/assets/svg/collection.svg: cannot identify image file <_io.BytesIO object at 0x0000022031740D10>\n",
      "Error al descargar https://assets-cdn.123rf.com/ui-components/assets/svg/gradient/premium-crown-gradient2.svg: cannot identify image file <_io.BytesIO object at 0x0000022031D31850>\n",
      "Error al descargar https://assets-cdn.123rf.com/ui-components/assets/svg/gradient/premium-crown-gradient2.svg: cannot identify image file <_io.BytesIO object at 0x0000022030E553F0>\n",
      "Error al descargar https://assets-cdn.123rf.com/ui-components/assets/svg/collection.svg: cannot identify image file <_io.BytesIO object at 0x0000022030E54360>\n",
      "Error al descargar https://assets-cdn.123rf.com/ui-components/assets/svg/gradient/premium-crown-gradient2.svg: cannot identify image file <_io.BytesIO object at 0x00000220320E0860>\n",
      "Error al descargar https://assets-cdn.123rf.com/ui-components/assets/svg/collection.svg: cannot identify image file <_io.BytesIO object at 0x0000022031838FE0>\n"
     ]
    },
    {
     "name": "stderr",
     "output_type": "stream",
     "text": [
      "Procesando imágenes de https://es.123rf.com/imagenes-de-archivo/manzanilla.html:  51%|█████     | 153/300 [00:03<00:02, 51.27it/s]"
     ]
    },
    {
     "name": "stdout",
     "output_type": "stream",
     "text": [
      "Error al descargar https://assets-cdn.123rf.com/ui-components/assets/svg/collection.svg: cannot identify image file <_io.BytesIO object at 0x0000022031193DD0>\n",
      "Error al descargar https://assets-cdn.123rf.com/ui-components/assets/svg/collection.svg: cannot identify image file <_io.BytesIO object at 0x0000022031D30C70>\n",
      "Error al descargar https://assets-cdn.123rf.com/ui-components/assets/svg/gradient/premium-crown-gradient2.svg: cannot identify image file <_io.BytesIO object at 0x0000022030C641D0>\n",
      "Error al descargar https://assets-cdn.123rf.com/ui-components/assets/svg/collection.svg: cannot identify image file <_io.BytesIO object at 0x0000022031C0E750>\n",
      "Error al descargar https://assets-cdn.123rf.com/ui-components/assets/svg/gradient/premium-crown-gradient2.svg: cannot identify image file <_io.BytesIO object at 0x0000022031D33A10>\n",
      "Error al descargar https://assets-cdn.123rf.com/ui-components/assets/svg/collection.svg: cannot identify image file <_io.BytesIO object at 0x0000022030DB6C00>\n",
      "Error al descargar https://assets-cdn.123rf.com/ui-components/assets/svg/collection.svg: cannot identify image file <_io.BytesIO object at 0x0000022031D31850>\n"
     ]
    },
    {
     "name": "stderr",
     "output_type": "stream",
     "text": [
      "Procesando imágenes de https://es.123rf.com/imagenes-de-archivo/manzanilla.html:  56%|█████▌    | 167/300 [00:03<00:02, 49.80it/s]"
     ]
    },
    {
     "name": "stdout",
     "output_type": "stream",
     "text": [
      "Error al descargar https://assets-cdn.123rf.com/ui-components/assets/svg/gradient/premium-crown-gradient2.svg: cannot identify image file <_io.BytesIO object at 0x0000022031D31300>\n",
      "Error al descargar https://assets-cdn.123rf.com/ui-components/assets/svg/collection.svg: cannot identify image file <_io.BytesIO object at 0x0000022031740D10>\n",
      "Error al descargar https://assets-cdn.123rf.com/ui-components/assets/svg/collection.svg: cannot identify image file <_io.BytesIO object at 0x0000022030E55EE0>\n",
      "Error al descargar https://assets-cdn.123rf.com/ui-components/assets/svg/collection.svg: cannot identify image file <_io.BytesIO object at 0x0000022031838FE0>\n",
      "Error al descargar https://assets-cdn.123rf.com/ui-components/assets/svg/collection.svg: cannot identify image file <_io.BytesIO object at 0x0000022030DB7380>\n"
     ]
    },
    {
     "name": "stderr",
     "output_type": "stream",
     "text": [
      "Procesando imágenes de https://es.123rf.com/imagenes-de-archivo/manzanilla.html:  60%|█████▉    | 179/300 [00:04<00:02, 51.20it/s]"
     ]
    },
    {
     "name": "stdout",
     "output_type": "stream",
     "text": [
      "Error al descargar https://assets-cdn.123rf.com/ui-components/assets/svg/collection.svg: cannot identify image file <_io.BytesIO object at 0x0000022030D99BC0>\n",
      "Error al descargar https://assets-cdn.123rf.com/ui-components/assets/svg/gradient/premium-crown-gradient2.svg: cannot identify image file <_io.BytesIO object at 0x0000022030C641D0>\n",
      "Error al descargar https://assets-cdn.123rf.com/ui-components/assets/svg/collection.svg: cannot identify image file <_io.BytesIO object at 0x0000022031D30C70>\n",
      "Error al descargar https://assets-cdn.123rf.com/ui-components/assets/svg/gradient/premium-crown-gradient2.svg: cannot identify image file <_io.BytesIO object at 0x0000022030E54360>\n",
      "Error al descargar https://assets-cdn.123rf.com/ui-components/assets/svg/collection.svg: cannot identify image file <_io.BytesIO object at 0x0000022031D33A10>\n",
      "Error al descargar https://assets-cdn.123rf.com/ui-components/assets/svg/collection.svg: cannot identify image file <_io.BytesIO object at 0x0000022030DB7150>\n",
      "Error al descargar https://assets-cdn.123rf.com/ui-components/assets/svg/collection.svg: cannot identify image file <_io.BytesIO object at 0x0000022030DB4BD0>\n"
     ]
    },
    {
     "name": "stderr",
     "output_type": "stream",
     "text": [
      "Procesando imágenes de https://es.123rf.com/imagenes-de-archivo/manzanilla.html:  62%|██████▏   | 185/300 [00:04<00:02, 41.52it/s]"
     ]
    },
    {
     "name": "stdout",
     "output_type": "stream",
     "text": [
      "Error al descargar https://assets-cdn.123rf.com/ui-components/assets/svg/gradient/premium-crown-gradient2.svg: cannot identify image file <_io.BytesIO object at 0x0000022031D30950>\n",
      "Error al descargar https://assets-cdn.123rf.com/ui-components/assets/svg/collection.svg: cannot identify image file <_io.BytesIO object at 0x0000022030D99800>\n",
      "Error al descargar https://assets-cdn.123rf.com/ui-components/assets/svg/collection.svg: cannot identify image file <_io.BytesIO object at 0x0000022031D30A90>\n",
      "Error al descargar https://assets-cdn.123rf.com/ui-components/assets/svg/collection.svg: cannot identify image file <_io.BytesIO object at 0x0000022031D31300>\n",
      "Error al descargar https://assets-cdn.123rf.com/ui-components/assets/svg/gradient/premium-crown-gradient2.svg: cannot identify image file <_io.BytesIO object at 0x0000022030DB7BF0>\n",
      "Error al descargar https://assets-cdn.123rf.com/ui-components/assets/svg/collection.svg: cannot identify image file <_io.BytesIO object at 0x0000022030D99BC0>\n"
     ]
    },
    {
     "name": "stderr",
     "output_type": "stream",
     "text": [
      "Procesando imágenes de https://es.123rf.com/imagenes-de-archivo/manzanilla.html:  66%|██████▌   | 198/300 [00:04<00:02, 44.89it/s]"
     ]
    },
    {
     "name": "stdout",
     "output_type": "stream",
     "text": [
      "Error al descargar https://assets-cdn.123rf.com/ui-components/assets/svg/collection.svg: cannot identify image file <_io.BytesIO object at 0x0000022031838220>\n",
      "Error al descargar https://assets-cdn.123rf.com/ui-components/assets/svg/collection.svg: cannot identify image file <_io.BytesIO object at 0x0000022031D33A10>\n",
      "Error al descargar https://assets-cdn.123rf.com/ui-components/assets/svg/collection.svg: cannot identify image file <_io.BytesIO object at 0x0000022030C641D0>\n",
      "Error al descargar https://assets-cdn.123rf.com/ui-components/assets/svg/collection.svg: cannot identify image file <_io.BytesIO object at 0x0000022031193DD0>\n",
      "Error al descargar https://assets-cdn.123rf.com/ui-components/assets/svg/collection.svg: cannot identify image file <_io.BytesIO object at 0x0000022031740D10>\n",
      "Error al descargar https://assets-cdn.123rf.com/ui-components/assets/svg/gradient/premium-crown-gradient2.svg: cannot identify image file <_io.BytesIO object at 0x0000022031D31850>\n",
      "Error al descargar https://assets-cdn.123rf.com/ui-components/assets/svg/collection.svg: cannot identify image file <_io.BytesIO object at 0x0000022031840090>\n",
      "Error al descargar https://assets-cdn.123rf.com/ui-components/assets/svg/gradient/premium-crown-gradient2.svg: cannot identify image file <_io.BytesIO object at 0x0000022030DB4D60>\n",
      "Error al descargar https://assets-cdn.123rf.com/ui-components/assets/svg/collection.svg: cannot identify image file <_io.BytesIO object at 0x0000022030D99800>\n",
      "Error al descargar https://assets-cdn.123rf.com/ui-components/assets/svg/gradient/premium-crown-gradient2.svg: cannot identify image file <_io.BytesIO object at 0x00000220318389F0>\n",
      "Error al descargar https://assets-cdn.123rf.com/ui-components/assets/svg/collection.svg: cannot identify image file <_io.BytesIO object at 0x0000022031D30950>\n"
     ]
    },
    {
     "name": "stderr",
     "output_type": "stream",
     "text": [
      "Procesando imágenes de https://es.123rf.com/imagenes-de-archivo/manzanilla.html:  74%|███████▍  | 222/300 [00:05<00:01, 53.17it/s]"
     ]
    },
    {
     "name": "stdout",
     "output_type": "stream",
     "text": [
      "Error al descargar https://assets-cdn.123rf.com/ui-components/assets/svg/collection.svg: cannot identify image file <_io.BytesIO object at 0x0000022031D309A0>\n",
      "Error al descargar https://assets-cdn.123rf.com/ui-components/assets/svg/collection.svg: cannot identify image file <_io.BytesIO object at 0x0000022031838FE0>\n",
      "Error al descargar https://assets-cdn.123rf.com/ui-components/assets/svg/collection.svg: cannot identify image file <_io.BytesIO object at 0x000002203183A5C0>\n",
      "Error al descargar https://assets-cdn.123rf.com/ui-components/assets/svg/collection.svg: cannot identify image file <_io.BytesIO object at 0x0000022031193DD0>\n",
      "Error al descargar https://assets-cdn.123rf.com/ui-components/assets/svg/gradient/premium-crown-gradient2.svg: cannot identify image file <_io.BytesIO object at 0x0000022031740D10>\n",
      "Error al descargar https://assets-cdn.123rf.com/ui-components/assets/svg/collection.svg: cannot identify image file <_io.BytesIO object at 0x000002203183A1B0>\n",
      "Error al descargar https://assets-cdn.123rf.com/ui-components/assets/svg/collection.svg: cannot identify image file <_io.BytesIO object at 0x0000022031D30B80>\n"
     ]
    },
    {
     "name": "stderr",
     "output_type": "stream",
     "text": [
      "Procesando imágenes de https://es.123rf.com/imagenes-de-archivo/manzanilla.html:  77%|███████▋  | 230/300 [00:05<00:01, 50.46it/s]"
     ]
    },
    {
     "name": "stdout",
     "output_type": "stream",
     "text": [
      "Error al descargar https://assets-cdn.123rf.com/ui-components/assets/svg/collection.svg: cannot identify image file <_io.BytesIO object at 0x0000022030DB6BB0>\n",
      "Error al descargar https://assets-cdn.123rf.com/ui-components/assets/svg/collection.svg: cannot identify image file <_io.BytesIO object at 0x0000022030D99800>\n",
      "Error al descargar https://assets-cdn.123rf.com/ui-components/assets/svg/collection.svg: cannot identify image file <_io.BytesIO object at 0x0000022031D31300>\n",
      "Error al descargar https://assets-cdn.123rf.com/ui-components/assets/svg/collection.svg: cannot identify image file <_io.BytesIO object at 0x0000022031D30C70>\n"
     ]
    },
    {
     "name": "stderr",
     "output_type": "stream",
     "text": [
      "Procesando imágenes de https://es.123rf.com/imagenes-de-archivo/manzanilla.html:  79%|███████▉  | 237/300 [00:05<00:01, 49.95it/s]"
     ]
    },
    {
     "name": "stdout",
     "output_type": "stream",
     "text": [
      "Error al descargar https://assets-cdn.123rf.com/ui-components/assets/svg/collection.svg: cannot identify image file <_io.BytesIO object at 0x0000022030DB6250>\n",
      "Error al descargar https://assets-cdn.123rf.com/ui-components/assets/svg/collection.svg: cannot identify image file <_io.BytesIO object at 0x000002203183A5C0>\n",
      "Error al descargar https://assets-cdn.123rf.com/ui-components/assets/svg/collection.svg: cannot identify image file <_io.BytesIO object at 0x0000022031D309A0>\n",
      "Error al descargar https://assets-cdn.123rf.com/ui-components/assets/svg/collection.svg: cannot identify image file <_io.BytesIO object at 0x0000022030D99BC0>\n",
      "Error al descargar https://assets-cdn.123rf.com/ui-components/assets/svg/collection.svg: cannot identify image file <_io.BytesIO object at 0x0000022031C0E750>\n",
      "Error al descargar https://assets-cdn.123rf.com/ui-components/assets/svg/collection.svg: cannot identify image file <_io.BytesIO object at 0x0000022031D30C70>\n"
     ]
    },
    {
     "name": "stderr",
     "output_type": "stream",
     "text": [
      "Procesando imágenes de https://es.123rf.com/imagenes-de-archivo/manzanilla.html:  81%|████████▏ | 244/300 [00:05<00:01, 46.59it/s]"
     ]
    },
    {
     "name": "stdout",
     "output_type": "stream",
     "text": [
      "Error al descargar https://assets-cdn.123rf.com/ui-components/assets/svg/gradient/premium-crown-gradient2.svg: cannot identify image file <_io.BytesIO object at 0x0000022031D315D0>\n",
      "Error al descargar https://assets-cdn.123rf.com/ui-components/assets/svg/collection.svg: cannot identify image file <_io.BytesIO object at 0x0000022031D33A10>\n",
      "Error al descargar https://assets-cdn.123rf.com/ui-components/assets/svg/collection.svg: cannot identify image file <_io.BytesIO object at 0x0000022031D31850>\n",
      "Error al descargar https://assets-cdn.123rf.com/ui-components/assets/svg/collection.svg: cannot identify image file <_io.BytesIO object at 0x0000022031838220>\n"
     ]
    },
    {
     "name": "stderr",
     "output_type": "stream",
     "text": [
      "Procesando imágenes de https://es.123rf.com/imagenes-de-archivo/manzanilla.html:  85%|████████▌ | 255/300 [00:06<00:01, 39.33it/s]"
     ]
    },
    {
     "name": "stdout",
     "output_type": "stream",
     "text": [
      "Error al descargar https://assets-cdn.123rf.com/ui-components/assets/svg/gradient/premium-crown-gradient2.svg: cannot identify image file <_io.BytesIO object at 0x0000022030D99800>\n",
      "Error al descargar https://assets-cdn.123rf.com/ui-components/assets/svg/collection.svg: cannot identify image file <_io.BytesIO object at 0x0000022031740D10>\n",
      "Error al descargar https://assets-cdn.123rf.com/ui-components/assets/svg/gradient/premium-crown-gradient2.svg: cannot identify image file <_io.BytesIO object at 0x0000022030E55EE0>\n",
      "Error al descargar https://assets-cdn.123rf.com/ui-components/assets/svg/collection.svg: cannot identify image file <_io.BytesIO object at 0x0000022031D309A0>\n",
      "Error al descargar https://assets-cdn.123rf.com/ui-components/assets/svg/collection.svg: cannot identify image file <_io.BytesIO object at 0x0000022031D315D0>\n",
      "Error al descargar https://assets-cdn.123rf.com/ui-components/assets/svg/collection.svg: cannot identify image file <_io.BytesIO object at 0x0000022031D30B80>\n"
     ]
    },
    {
     "name": "stderr",
     "output_type": "stream",
     "text": [
      "Procesando imágenes de https://es.123rf.com/imagenes-de-archivo/manzanilla.html:  87%|████████▋ | 261/300 [00:06<00:01, 38.42it/s]"
     ]
    },
    {
     "name": "stdout",
     "output_type": "stream",
     "text": [
      "Error al descargar https://assets-cdn.123rf.com/ui-components/assets/svg/collection.svg: cannot identify image file <_io.BytesIO object at 0x00000220318389F0>\n",
      "Error al descargar https://assets-cdn.123rf.com/ui-components/assets/svg/collection.svg: cannot identify image file <_io.BytesIO object at 0x0000022031C0E750>\n",
      "Error al descargar https://assets-cdn.123rf.com/ui-components/assets/svg/gradient/premium-crown-gradient2.svg: cannot identify image file <_io.BytesIO object at 0x0000022030D98310>\n",
      "Error al descargar https://assets-cdn.123rf.com/ui-components/assets/svg/collection.svg: cannot identify image file <_io.BytesIO object at 0x0000022030E56BB0>\n",
      "Error al descargar https://assets-cdn.123rf.com/ui-components/assets/svg/gradient/premium-crown-gradient2.svg: cannot identify image file <_io.BytesIO object at 0x0000022031D315D0>\n",
      "Error al descargar https://assets-cdn.123rf.com/ui-components/assets/svg/collection.svg: cannot identify image file <_io.BytesIO object at 0x0000022031838220>\n"
     ]
    },
    {
     "name": "stderr",
     "output_type": "stream",
     "text": [
      "Procesando imágenes de https://es.123rf.com/imagenes-de-archivo/manzanilla.html:  93%|█████████▎| 278/300 [00:06<00:00, 45.51it/s]"
     ]
    },
    {
     "name": "stdout",
     "output_type": "stream",
     "text": [
      "Error al descargar https://assets-cdn.123rf.com/ui-components/assets/svg/collection.svg: cannot identify image file <_io.BytesIO object at 0x0000022031D33A10>\n",
      "Error al descargar https://assets-cdn.123rf.com/ui-components/assets/svg/collection.svg: cannot identify image file <_io.BytesIO object at 0x000002203183A1B0>\n",
      "Error al descargar https://assets-cdn.123rf.com/ui-components/assets/svg/gradient/premium-crown-gradient2.svg: cannot identify image file <_io.BytesIO object at 0x0000022031D309A0>\n",
      "Error al descargar https://assets-cdn.123rf.com/ui-components/assets/svg/collection.svg: cannot identify image file <_io.BytesIO object at 0x0000022031D30C70>\n",
      "Error al descargar https://assets-cdn.123rf.com/ui-components/assets/svg/gradient/premium-crown-gradient2.svg: cannot identify image file <_io.BytesIO object at 0x0000022031D30B80>\n",
      "Error al descargar https://assets-cdn.123rf.com/ui-components/assets/svg/collection.svg: cannot identify image file <_io.BytesIO object at 0x000002203183A5C0>\n",
      "Error al descargar https://assets-cdn.123rf.com/ui-components/assets/svg/collection.svg: cannot identify image file <_io.BytesIO object at 0x0000022031840090>\n"
     ]
    },
    {
     "name": "stderr",
     "output_type": "stream",
     "text": [
      "Procesando imágenes de https://es.123rf.com/imagenes-de-archivo/manzanilla.html:  97%|█████████▋| 290/300 [00:06<00:00, 47.09it/s]"
     ]
    },
    {
     "name": "stdout",
     "output_type": "stream",
     "text": [
      "Error al descargar https://assets-cdn.123rf.com/ui-components/assets/svg/collection.svg: cannot identify image file <_io.BytesIO object at 0x00000220320E0860>\n",
      "Error al descargar https://assets-cdn.123rf.com/ui-components/assets/svg/gradient/premium-crown-gradient2.svg: cannot identify image file <_io.BytesIO object at 0x0000022031D30A90>\n",
      "Error al descargar https://assets-cdn.123rf.com/ui-components/assets/svg/collection.svg: cannot identify image file <_io.BytesIO object at 0x0000022031D315D0>\n",
      "Error al descargar https://assets-cdn.123rf.com/ui-components/assets/svg/collection.svg: cannot identify image file <_io.BytesIO object at 0x0000022031740D10>\n",
      "Error al descargar https://assets-cdn.123rf.com/ui-components/assets/svg/chevron-down.svg: cannot identify image file <_io.BytesIO object at 0x0000022030D99800>\n",
      "Error al descargar https://assets-cdn.123rf.com/ui-components/assets/svg/collection.svg: cannot identify image file <_io.BytesIO object at 0x0000022030E54360>\n",
      "Error al descargar https://assets-cdn.123rf.com/ui-components/assets/svg/chevron-down.svg: cannot identify image file <_io.BytesIO object at 0x0000022031D308B0>\n",
      "Error al descargar https://assets-cdn.123rf.com/ui-components/assets/svg/chevron-down.svg: cannot identify image file <_io.BytesIO object at 0x000002203183A1B0>\n"
     ]
    },
    {
     "name": "stderr",
     "output_type": "stream",
     "text": [
      "Procesando imágenes de https://es.123rf.com/imagenes-de-archivo/manzanilla.html: 100%|██████████| 300/300 [00:06<00:00, 42.89it/s]"
     ]
    },
    {
     "name": "stdout",
     "output_type": "stream",
     "text": [
      "Error al descargar https://assets-cdn.123rf.com/ui-components/assets/svg/chevron-down.svg: cannot identify image file <_io.BytesIO object at 0x0000022031839DF0>\n",
      "Error al descargar https://assets-cdn.123rf.com/ui-components/assets/svg/chevron-down.svg: cannot identify image file <_io.BytesIO object at 0x0000022031D33A10>\n",
      "Error al descargar https://assets-cdn.123rf.com/ui-components/assets/svg/twitter-v2.svg: cannot identify image file <_io.BytesIO object at 0x0000022030E56BB0>\n",
      "Error al descargar https://assets-cdn.123rf.com/ui-components/assets/svg/facebook.svg: cannot identify image file <_io.BytesIO object at 0x0000022031D30A90>\n",
      "Error al descargar https://assets-cdn.123rf.com/ui-components/assets/svg/pinterest.svg: cannot identify image file <_io.BytesIO object at 0x0000022030D98310>\n",
      "Error al descargar https://assets-cdn.123rf.com/ui-components/assets/svg/instagram-v2.svg: cannot identify image file <_io.BytesIO object at 0x0000022030E553F0>\n",
      "Error al descargar https://assets-cdn.123rf.com/ui-components/assets/svg/whatsapp-v3.svg: cannot identify image file <_io.BytesIO object at 0x0000022031C0E750>\n"
     ]
    },
    {
     "name": "stderr",
     "output_type": "stream",
     "text": [
      "\n",
      "Procesando imágenes de https://www.gob.mx/siap/articulos/las-bondades-de-la-manzanilla?idiom=es:   0%|          | 0/15 [00:00<?, ?it/s]"
     ]
    },
    {
     "name": "stdout",
     "output_type": "stream",
     "text": [
      "Error al descargar /cms/uploads/image/file/650092/Manzanilla-2.jpeg: Invalid URL '/cms/uploads/image/file/650092/Manzanilla-2.jpeg': No scheme supplied. Perhaps you meant https:///cms/uploads/image/file/650092/Manzanilla-2.jpeg?\n"
     ]
    },
    {
     "name": "stderr",
     "output_type": "stream",
     "text": [
      "Procesando imágenes de https://www.gob.mx/siap/articulos/las-bondades-de-la-manzanilla?idiom=es:  13%|█▎        | 2/15 [00:00<00:02,  5.09it/s]"
     ]
    },
    {
     "name": "stdout",
     "output_type": "stream",
     "text": [
      "Error al descargar https://framework-gb.cdn.gob.mx/assets/images/icons/survey/ico-survey-neutral.svg: cannot identify image file <_io.BytesIO object at 0x00000220320E0860>\n",
      "Error al descargar /cms/assets/instagram.png: Invalid URL '/cms/assets/instagram.png': No scheme supplied. Perhaps you meant https:///cms/assets/instagram.png?\n",
      "Error al descargar /cms/assets/youtube.png: Invalid URL '/cms/assets/youtube.png': No scheme supplied. Perhaps you meant https:///cms/assets/youtube.png?\n",
      "Error al descargar https://framework-gb.cdn.gob.mx/assets/images/icons/survey/ico-survey-good.svg: cannot identify image file <_io.BytesIO object at 0x0000022031193DD0>\n",
      "Error al descargar https://framework-gb.cdn.gob.mx/assets/images/oval-white.svg: cannot identify image file <_io.BytesIO object at 0x0000022030C641D0>\n",
      "Error al descargar https://framework-gb.cdn.gob.mx/assets/images/oval-white.svg: cannot identify image file <_io.BytesIO object at 0x0000022031838FE0>\n",
      "Error al descargar https://framework-gb.cdn.gob.mx/assets/images/icons/survey/ico-survey-bad.svg: cannot identify image file <_io.BytesIO object at 0x0000022031D308B0>\n",
      "Error al descargar https://framework-gb.cdn.gob.mx/gobmx/img/logo_blanco.svg: cannot identify image file <_io.BytesIO object at 0x0000022031839DF0>\n"
     ]
    },
    {
     "name": "stderr",
     "output_type": "stream",
     "text": [
      "Procesando imágenes de https://www.gob.mx/siap/articulos/las-bondades-de-la-manzanilla?idiom=es: 100%|██████████| 15/15 [00:00<00:00, 20.43it/s]\n",
      "Procesando imágenes de https://es.123rf.com/imagenes-de-archivo/planta_de_manzanilla.html:   4%|▎         | 11/298 [00:00<00:08, 35.31it/s]"
     ]
    },
    {
     "name": "stdout",
     "output_type": "stream",
     "text": [
      "Error al descargar https://assets-cdn.123rf.com/ui-components/assets/svg/ai-img-generator.svg: cannot identify image file <_io.BytesIO object at 0x0000022030D98360>\n",
      "Error al descargar https://assets-cdn.123rf.com/ui-components/assets/svg/chevron-down.svg: cannot identify image file <_io.BytesIO object at 0x0000022030C641D0>\n",
      "Error al descargar https://assets-cdn.123rf.com/ui-components/assets/svg/ai-face-swap.svg: cannot identify image file <_io.BytesIO object at 0x0000022031193DD0>\n",
      "Error al descargar https://assets-cdn.123rf.com/ui-components/assets/svg/gradient/123rf-logo-gradient.svg: cannot identify image file <_io.BytesIO object at 0x0000022031B60590>\n",
      "Error al descargar https://assets-cdn.123rf.com/ui-components/assets/svg/ai-img-upscaler.svg: cannot identify image file <_io.BytesIO object at 0x0000022030E55EE0>\n",
      "Error al descargar https://assets-cdn.123rf.com/ui-components/assets/svg/ai-sketch.svg: cannot identify image file <_io.BytesIO object at 0x0000022031838FE0>\n"
     ]
    },
    {
     "name": "stderr",
     "output_type": "stream",
     "text": [
      "Procesando imágenes de https://es.123rf.com/imagenes-de-archivo/planta_de_manzanilla.html:   7%|▋         | 22/298 [00:00<00:07, 39.31it/s]"
     ]
    },
    {
     "name": "stdout",
     "output_type": "stream",
     "text": [
      "Error al descargar https://assets-cdn.123rf.com/ui-components/assets/svg/ai-generative-fill.svg: cannot identify image file <_io.BytesIO object at 0x0000022031D308B0>\n",
      "Error al descargar https://assets-cdn.123rf.com/ui-components/assets/svg/ai-bg-blur.svg: cannot identify image file <_io.BytesIO object at 0x0000022030D99BC0>\n",
      "Error al descargar https://assets-cdn.123rf.com/ui-components/assets/svg/ai-bg-remix.svg: cannot identify image file <_io.BytesIO object at 0x0000022030C641D0>\n",
      "Error al descargar https://assets-cdn.123rf.com/ui-components/assets/svg/ai-img-extender.svg: cannot identify image file <_io.BytesIO object at 0x0000022030D9A200>\n",
      "Error al descargar https://assets-cdn.123rf.com/ui-components/assets/svg/ai-writer.svg: cannot identify image file <_io.BytesIO object at 0x0000022031838FE0>\n",
      "Error al descargar https://assets-cdn.123rf.com/ui-components/assets/svg/ai-bg-removal.svg: cannot identify image file <_io.BytesIO object at 0x0000022031838220>\n",
      "Error al descargar https://assets-cdn.123rf.com/ui-components/assets/svg/chevron-down.svg: cannot identify image file <_io.BytesIO object at 0x0000022030D98360>\n"
     ]
    },
    {
     "name": "stderr",
     "output_type": "stream",
     "text": [
      "Procesando imágenes de https://es.123rf.com/imagenes-de-archivo/planta_de_manzanilla.html:  10%|█         | 30/298 [00:00<00:05, 47.99it/s]"
     ]
    },
    {
     "name": "stdout",
     "output_type": "stream",
     "text": [
      "Error al descargar https://assets-cdn.123rf.com/ui-components/assets/svg/tick.svg: cannot identify image file <_io.BytesIO object at 0x0000022031B63E20>\n",
      "Error al descargar https://assets-cdn.123rf.com/ui-components/assets/svg/chevron-down.svg: cannot identify image file <_io.BytesIO object at 0x0000022031D308B0>\n",
      "Error al descargar https://assets-cdn.123rf.com/ui-components/assets/svg/tick.svg: cannot identify image file <_io.BytesIO object at 0x00000220320E0860>\n",
      "Error al descargar https://assets-cdn.123rf.com/ui-components/assets/svg/tick.svg: cannot identify image file <_io.BytesIO object at 0x0000022030AC68E0>\n",
      "Error al descargar https://assets-cdn.123rf.com/ui-components/assets/images/plus-upsell-ai-v3.png: cannot write mode P as JPEG\n",
      "Error al descargar https://assets-cdn.123rf.com/ui-components/assets/svg/tick.svg: cannot identify image file <_io.BytesIO object at 0x0000022030C641D0>\n",
      "Error al descargar https://assets-cdn.123rf.com/ui-components/assets/svg/tick.svg: cannot identify image file <_io.BytesIO object at 0x0000022031838FE0>\n",
      "Error al descargar https://assets-cdn.123rf.com/ui-components/assets/svg/tick.svg: cannot identify image file <_io.BytesIO object at 0x0000022030D99800>\n",
      "Error al descargar https://assets-cdn.123rf.com/ui-components/assets/svg/tick.svg: cannot identify image file <_io.BytesIO object at 0x0000022031D31300>\n",
      "Error al descargar https://assets-cdn.123rf.com/ui-components/assets/svg/tick.svg: cannot identify image file <_io.BytesIO object at 0x0000022030DB7F10>\n"
     ]
    },
    {
     "name": "stderr",
     "output_type": "stream",
     "text": [
      "Procesando imágenes de https://es.123rf.com/imagenes-de-archivo/planta_de_manzanilla.html:  14%|█▍        | 42/298 [00:01<00:06, 40.33it/s]"
     ]
    },
    {
     "name": "stdout",
     "output_type": "stream",
     "text": [
      "Error al descargar https://assets-cdn.123rf.com/ui-components/assets/svg/tick.svg: cannot identify image file <_io.BytesIO object at 0x0000022030E55EE0>\n",
      "Error al descargar https://assets-cdn.123rf.com/ui-components/assets/svg/tick.svg: cannot identify image file <_io.BytesIO object at 0x0000022030D99BC0>\n",
      "Error al descargar https://assets-cdn.123rf.com/ui-components/assets/svg/tick.svg: cannot identify image file <_io.BytesIO object at 0x0000022031D308B0>\n",
      "Error al descargar https://assets-cdn.123rf.com/ui-components/assets/svg/tick.svg: cannot identify image file <_io.BytesIO object at 0x0000022030C641D0>\n",
      "Error al descargar https://assets-cdn.123rf.com/ui-components/assets/svg/tick.svg: cannot identify image file <_io.BytesIO object at 0x0000022031B60590>\n",
      "Error al descargar https://assets-cdn.123rf.com/ui-components/assets/svg/tick.svg: cannot identify image file <_io.BytesIO object at 0x0000022031193DD0>\n",
      "Error al descargar https://assets-cdn.123rf.com/ui-components/assets/svg/tick.svg: cannot identify image file <_io.BytesIO object at 0x0000022030DB5B70>\n",
      "Error al descargar https://assets-cdn.123rf.com/ui-components/assets/svg/menu.svg: cannot identify image file <_io.BytesIO object at 0x0000022031B60630>\n",
      "Error al descargar https://assets-cdn.123rf.com/ui-components/assets/svg/camera.svg: cannot identify image file <_io.BytesIO object at 0x0000022031D31300>\n"
     ]
    },
    {
     "name": "stderr",
     "output_type": "stream",
     "text": [
      "Procesando imágenes de https://es.123rf.com/imagenes-de-archivo/planta_de_manzanilla.html:  17%|█▋        | 50/298 [00:01<00:05, 44.62it/s]"
     ]
    },
    {
     "name": "stdout",
     "output_type": "stream",
     "text": [
      "Error al descargar https://assets-cdn.123rf.com/ui-components/assets/svg/close.svg: cannot identify image file <_io.BytesIO object at 0x0000022030B46A70>\n",
      "Error al descargar https://assets-cdn.123rf.com/ui-components/assets/svg/upload.svg: cannot identify image file <_io.BytesIO object at 0x0000022031B63E20>\n",
      "Error al descargar https://assets-cdn.123rf.com/ui-components/assets/svg/close.svg: cannot identify image file <_io.BytesIO object at 0x0000022030DB4EF0>\n",
      "Error al descargar https://assets-cdn.123rf.com/ui-components/assets/svg/all-images.svg: cannot identify image file <_io.BytesIO object at 0x0000022031B60D10>\n",
      "Error al descargar https://assets-cdn.123rf.com/ui-components/assets/svg/premium.svg: cannot identify image file <_io.BytesIO object at 0x0000022031193DD0>\n",
      "Error al descargar https://assets-cdn.123rf.com/ui-components/assets/svg/chevron-down.svg: cannot identify image file <_io.BytesIO object at 0x0000022030D98360>\n",
      "Error al descargar https://assets-cdn.123rf.com/ui-components/assets/svg/camera.svg: cannot identify image file <_io.BytesIO object at 0x0000022030D9A200>\n",
      "Error al descargar https://assets-cdn.123rf.com/ui-components/assets/svg/all-images.svg: cannot identify image file <_io.BytesIO object at 0x0000022030DB6570>\n",
      "Error al descargar https://assets-cdn.123rf.com/ui-components/assets/svg/photos.svg: cannot identify image file <_io.BytesIO object at 0x0000022030D99800>\n",
      "Error al descargar https://assets-cdn.123rf.com/ui-components/assets/svg/vector.svg: cannot identify image file <_io.BytesIO object at 0x0000022031838220>\n"
     ]
    },
    {
     "name": "stderr",
     "output_type": "stream",
     "text": [
      "Procesando imágenes de https://es.123rf.com/imagenes-de-archivo/planta_de_manzanilla.html:  18%|█▊        | 55/298 [00:01<00:06, 40.09it/s]"
     ]
    },
    {
     "name": "stdout",
     "output_type": "stream",
     "text": [
      "Error al descargar https://assets-cdn.123rf.com/ui-components/assets/svg/footage.svg: cannot identify image file <_io.BytesIO object at 0x0000022030B45850>\n",
      "Error al descargar https://assets-cdn.123rf.com/ui-components/assets/svg/ai-img-generator.svg: cannot identify image file <_io.BytesIO object at 0x0000022030D99BC0>\n",
      "Error al descargar https://assets-cdn.123rf.com/ui-components/assets/svg/audio.svg: cannot identify image file <_io.BytesIO object at 0x0000022030F14DB0>\n",
      "Error al descargar https://assets-cdn.123rf.com/ui-components/assets/svg/font-v2.svg: cannot identify image file <_io.BytesIO object at 0x0000022030B47510>\n",
      "Error al descargar https://assets-cdn.123rf.com/ui-components/assets/svg/plus.svg: cannot identify image file <_io.BytesIO object at 0x0000022031D308B0>\n",
      "Error al descargar https://assets-cdn.123rf.com/ui-components/assets/svg/free.svg: cannot identify image file <_io.BytesIO object at 0x0000022031D308B0>\n",
      "Error al descargar https://assets-cdn.123rf.com/ui-components/assets/svg/search.svg: cannot identify image file <_io.BytesIO object at 0x0000022031B63A60>\n",
      "Error al descargar https://assets-cdn.123rf.com/ui-components/assets/svg/gradient/premium-crown-gradient2.svg: cannot identify image file <_io.BytesIO object at 0x0000022031B60630>\n"
     ]
    },
    {
     "name": "stderr",
     "output_type": "stream",
     "text": [
      "Procesando imágenes de https://es.123rf.com/imagenes-de-archivo/planta_de_manzanilla.html:  22%|██▏       | 67/298 [00:01<00:05, 41.66it/s]"
     ]
    },
    {
     "name": "stdout",
     "output_type": "stream",
     "text": [
      "Error al descargar https://assets-cdn.123rf.com/ui-components/assets/svg/collection.svg: cannot identify image file <_io.BytesIO object at 0x00000220320E0860>\n",
      "Error al descargar https://assets-cdn.123rf.com/ui-components/assets/svg/collection.svg: cannot identify image file <_io.BytesIO object at 0x0000022031B63E20>\n",
      "Error al descargar https://assets-cdn.123rf.com/ui-components/assets/svg/gradient/premium-crown-gradient2.svg: cannot identify image file <_io.BytesIO object at 0x0000022031B60D10>\n",
      "Error al descargar https://assets-cdn.123rf.com/ui-components/assets/svg/gradient/premium-crown-gradient2.svg: cannot identify image file <_io.BytesIO object at 0x0000022031AF7E20>\n",
      "Error al descargar https://assets-cdn.123rf.com/ui-components/assets/svg/collection.svg: cannot identify image file <_io.BytesIO object at 0x0000022031D31760>\n",
      "Error al descargar https://assets-cdn.123rf.com/ui-components/assets/svg/collection.svg: cannot identify image file <_io.BytesIO object at 0x0000022030D98360>\n",
      "Error al descargar https://assets-cdn.123rf.com/ui-components/assets/svg/gradient/premium-crown-gradient2.svg: cannot identify image file <_io.BytesIO object at 0x0000022031B9D800>\n"
     ]
    },
    {
     "name": "stderr",
     "output_type": "stream",
     "text": [
      "Procesando imágenes de https://es.123rf.com/imagenes-de-archivo/planta_de_manzanilla.html:  27%|██▋       | 80/298 [00:01<00:04, 48.79it/s]"
     ]
    },
    {
     "name": "stdout",
     "output_type": "stream",
     "text": [
      "Error al descargar https://assets-cdn.123rf.com/ui-components/assets/svg/collection.svg: cannot identify image file <_io.BytesIO object at 0x0000022031B61170>\n",
      "Error al descargar https://assets-cdn.123rf.com/ui-components/assets/svg/gradient/premium-crown-gradient2.svg: cannot identify image file <_io.BytesIO object at 0x0000022030DB7790>\n",
      "Error al descargar https://assets-cdn.123rf.com/ui-components/assets/svg/collection.svg: cannot identify image file <_io.BytesIO object at 0x0000022030F14DB0>\n",
      "Error al descargar https://assets-cdn.123rf.com/ui-components/assets/svg/collection.svg: cannot identify image file <_io.BytesIO object at 0x0000022031B60630>\n",
      "Error al descargar https://assets-cdn.123rf.com/ui-components/assets/svg/collection.svg: cannot identify image file <_io.BytesIO object at 0x0000022031D308B0>\n",
      "Error al descargar https://assets-cdn.123rf.com/ui-components/assets/svg/gradient/premium-crown-gradient2.svg: cannot identify image file <_io.BytesIO object at 0x0000022031D31760>\n"
     ]
    },
    {
     "name": "stderr",
     "output_type": "stream",
     "text": [
      "Procesando imágenes de https://es.123rf.com/imagenes-de-archivo/planta_de_manzanilla.html:  29%|██▉       | 86/298 [00:02<00:04, 43.49it/s]"
     ]
    },
    {
     "name": "stdout",
     "output_type": "stream",
     "text": [
      "Error al descargar https://assets-cdn.123rf.com/ui-components/assets/svg/gradient/premium-crown-gradient2.svg: cannot identify image file <_io.BytesIO object at 0x0000022030DB5EE0>\n",
      "Error al descargar https://assets-cdn.123rf.com/ui-components/assets/svg/collection.svg: cannot identify image file <_io.BytesIO object at 0x0000022031838FE0>\n",
      "Error al descargar https://assets-cdn.123rf.com/ui-components/assets/svg/collection.svg: cannot identify image file <_io.BytesIO object at 0x0000022030DB79C0>\n",
      "Error al descargar https://assets-cdn.123rf.com/ui-components/assets/svg/collection.svg: cannot identify image file <_io.BytesIO object at 0x0000022031D33B50>\n",
      "Error al descargar https://assets-cdn.123rf.com/ui-components/assets/svg/gradient/premium-crown-gradient2.svg: cannot identify image file <_io.BytesIO object at 0x0000022031D31300>\n"
     ]
    },
    {
     "name": "stderr",
     "output_type": "stream",
     "text": [
      "Procesando imágenes de https://es.123rf.com/imagenes-de-archivo/planta_de_manzanilla.html:  33%|███▎      | 97/298 [00:02<00:04, 46.60it/s]"
     ]
    },
    {
     "name": "stdout",
     "output_type": "stream",
     "text": [
      "Error al descargar https://assets-cdn.123rf.com/ui-components/assets/svg/collection.svg: cannot identify image file <_io.BytesIO object at 0x0000022030D98360>\n",
      "Error al descargar https://assets-cdn.123rf.com/ui-components/assets/svg/gradient/premium-crown-gradient2.svg: cannot identify image file <_io.BytesIO object at 0x0000022031B61170>\n",
      "Error al descargar https://assets-cdn.123rf.com/ui-components/assets/svg/gradient/premium-crown-gradient2.svg: cannot identify image file <_io.BytesIO object at 0x0000022030D99BC0>\n",
      "Error al descargar https://assets-cdn.123rf.com/ui-components/assets/svg/collection.svg: cannot identify image file <_io.BytesIO object at 0x0000022031838220>\n",
      "Error al descargar https://assets-cdn.123rf.com/ui-components/assets/svg/collection.svg: cannot identify image file <_io.BytesIO object at 0x0000022031B60630>\n",
      "Error al descargar https://assets-cdn.123rf.com/ui-components/assets/svg/gradient/premium-crown-gradient2.svg: cannot identify image file <_io.BytesIO object at 0x0000022030F14DB0>\n",
      "Error al descargar https://assets-cdn.123rf.com/ui-components/assets/svg/collection.svg: cannot identify image file <_io.BytesIO object at 0x0000022031D31760>\n"
     ]
    },
    {
     "name": "stderr",
     "output_type": "stream",
     "text": [
      "Procesando imágenes de https://es.123rf.com/imagenes-de-archivo/planta_de_manzanilla.html:  34%|███▍      | 102/298 [00:02<00:04, 44.34it/s]"
     ]
    },
    {
     "name": "stdout",
     "output_type": "stream",
     "text": [
      "Error al descargar https://assets-cdn.123rf.com/ui-components/assets/svg/gradient/premium-crown-gradient2.svg: cannot identify image file <_io.BytesIO object at 0x0000022031D308B0>\n",
      "Error al descargar https://assets-cdn.123rf.com/ui-components/assets/svg/collection.svg: cannot identify image file <_io.BytesIO object at 0x0000022030DB7790>\n",
      "Error al descargar https://assets-cdn.123rf.com/ui-components/assets/svg/gradient/premium-crown-gradient2.svg: cannot identify image file <_io.BytesIO object at 0x0000022031838FE0>\n",
      "Error al descargar https://assets-cdn.123rf.com/ui-components/assets/svg/collection.svg: cannot identify image file <_io.BytesIO object at 0x0000022030D99BC0>\n",
      "Error al descargar https://assets-cdn.123rf.com/ui-components/assets/svg/collection.svg: cannot identify image file <_io.BytesIO object at 0x0000022031B9D800>\n"
     ]
    },
    {
     "name": "stderr",
     "output_type": "stream",
     "text": [
      "Procesando imágenes de https://es.123rf.com/imagenes-de-archivo/planta_de_manzanilla.html:  36%|███▌      | 108/298 [00:02<00:05, 36.25it/s]"
     ]
    },
    {
     "name": "stdout",
     "output_type": "stream",
     "text": [
      "Error al descargar https://assets-cdn.123rf.com/ui-components/assets/svg/collection.svg: cannot identify image file <_io.BytesIO object at 0x0000022030D99800>\n",
      "Error al descargar https://assets-cdn.123rf.com/ui-components/assets/svg/collection.svg: cannot identify image file <_io.BytesIO object at 0x0000022030E55EE0>\n",
      "Error al descargar https://assets-cdn.123rf.com/ui-components/assets/svg/gradient/premium-crown-gradient2.svg: cannot identify image file <_io.BytesIO object at 0x0000022030B47970>\n",
      "Error al descargar https://assets-cdn.123rf.com/ui-components/assets/svg/collection.svg: cannot identify image file <_io.BytesIO object at 0x0000022030B46480>\n",
      "Error al descargar https://assets-cdn.123rf.com/ui-components/assets/svg/gradient/premium-crown-gradient2.svg: cannot identify image file <_io.BytesIO object at 0x0000022030F14DB0>\n",
      "Error al descargar https://assets-cdn.123rf.com/ui-components/assets/svg/collection.svg: cannot identify image file <_io.BytesIO object at 0x0000022031D31760>\n"
     ]
    },
    {
     "name": "stderr",
     "output_type": "stream",
     "text": [
      "Procesando imágenes de https://es.123rf.com/imagenes-de-archivo/planta_de_manzanilla.html:  43%|████▎     | 127/298 [00:03<00:03, 45.09it/s]"
     ]
    },
    {
     "name": "stdout",
     "output_type": "stream",
     "text": [
      "Error al descargar https://assets-cdn.123rf.com/ui-components/assets/svg/collection.svg: cannot identify image file <_io.BytesIO object at 0x0000022030C641D0>\n",
      "Error al descargar https://assets-cdn.123rf.com/ui-components/assets/svg/collection.svg: cannot identify image file <_io.BytesIO object at 0x0000022031B60630>\n",
      "Error al descargar https://assets-cdn.123rf.com/ui-components/assets/svg/gradient/premium-crown-gradient2.svg: cannot identify image file <_io.BytesIO object at 0x0000022030B45BC0>\n",
      "Error al descargar https://assets-cdn.123rf.com/ui-components/assets/svg/collection.svg: cannot identify image file <_io.BytesIO object at 0x0000022030D99BC0>\n",
      "Error al descargar https://assets-cdn.123rf.com/ui-components/assets/svg/gradient/premium-crown-gradient2.svg: cannot identify image file <_io.BytesIO object at 0x00000220320E0860>\n",
      "Error al descargar https://assets-cdn.123rf.com/ui-components/assets/svg/collection.svg: cannot identify image file <_io.BytesIO object at 0x0000022031AF7E20>\n",
      "Error al descargar https://assets-cdn.123rf.com/ui-components/assets/svg/collection.svg: cannot identify image file <_io.BytesIO object at 0x0000022031193DD0>\n"
     ]
    },
    {
     "name": "stderr",
     "output_type": "stream",
     "text": [
      "Procesando imágenes de https://es.123rf.com/imagenes-de-archivo/planta_de_manzanilla.html:  47%|████▋     | 139/298 [00:03<00:03, 46.02it/s]"
     ]
    },
    {
     "name": "stdout",
     "output_type": "stream",
     "text": [
      "Error al descargar https://assets-cdn.123rf.com/ui-components/assets/svg/collection.svg: cannot identify image file <_io.BytesIO object at 0x0000022031D308B0>\n",
      "Error al descargar https://assets-cdn.123rf.com/ui-components/assets/svg/collection.svg: cannot identify image file <_io.BytesIO object at 0x0000022030D99800>\n",
      "Error al descargar https://assets-cdn.123rf.com/ui-components/assets/svg/collection.svg: cannot identify image file <_io.BytesIO object at 0x0000022031838220>\n",
      "Error al descargar https://assets-cdn.123rf.com/ui-components/assets/svg/gradient/premium-crown-gradient2.svg: cannot identify image file <_io.BytesIO object at 0x0000022031D31760>\n",
      "Error al descargar https://assets-cdn.123rf.com/ui-components/assets/svg/collection.svg: cannot identify image file <_io.BytesIO object at 0x0000022030AC68E0>\n",
      "Error al descargar https://assets-cdn.123rf.com/ui-components/assets/svg/gradient/premium-crown-gradient2.svg: cannot identify image file <_io.BytesIO object at 0x0000022031B62A20>\n"
     ]
    },
    {
     "name": "stderr",
     "output_type": "stream",
     "text": [
      "Procesando imágenes de https://es.123rf.com/imagenes-de-archivo/planta_de_manzanilla.html:  50%|█████     | 149/298 [00:03<00:03, 44.50it/s]"
     ]
    },
    {
     "name": "stdout",
     "output_type": "stream",
     "text": [
      "Error al descargar https://assets-cdn.123rf.com/ui-components/assets/svg/collection.svg: cannot identify image file <_io.BytesIO object at 0x0000022031838FE0>\n",
      "Error al descargar https://assets-cdn.123rf.com/ui-components/assets/svg/gradient/premium-crown-gradient2.svg: cannot identify image file <_io.BytesIO object at 0x0000022031D33B50>\n",
      "Error al descargar https://assets-cdn.123rf.com/ui-components/assets/svg/collection.svg: cannot identify image file <_io.BytesIO object at 0x0000022030D99BC0>\n",
      "Error al descargar https://assets-cdn.123rf.com/ui-components/assets/svg/collection.svg: cannot identify image file <_io.BytesIO object at 0x0000022031193DD0>\n",
      "Error al descargar https://assets-cdn.123rf.com/ui-components/assets/svg/collection.svg: cannot identify image file <_io.BytesIO object at 0x00000220320E0860>\n",
      "Error al descargar https://assets-cdn.123rf.com/ui-components/assets/svg/collection.svg: cannot identify image file <_io.BytesIO object at 0x0000022031B62A20>\n",
      "Error al descargar https://assets-cdn.123rf.com/ui-components/assets/svg/gradient/premium-crown-gradient2.svg: cannot identify image file <_io.BytesIO object at 0x0000022030AC6980>\n"
     ]
    },
    {
     "name": "stderr",
     "output_type": "stream",
     "text": [
      "Procesando imágenes de https://es.123rf.com/imagenes-de-archivo/planta_de_manzanilla.html:  54%|█████▎    | 160/298 [00:03<00:02, 46.21it/s]"
     ]
    },
    {
     "name": "stdout",
     "output_type": "stream",
     "text": [
      "Error al descargar https://assets-cdn.123rf.com/ui-components/assets/svg/collection.svg: cannot identify image file <_io.BytesIO object at 0x0000022031838FE0>\n",
      "Error al descargar https://assets-cdn.123rf.com/ui-components/assets/svg/collection.svg: cannot identify image file <_io.BytesIO object at 0x0000022031B60D10>\n",
      "Error al descargar https://assets-cdn.123rf.com/ui-components/assets/svg/collection.svg: cannot identify image file <_io.BytesIO object at 0x0000022031193DD0>\n",
      "Error al descargar https://assets-cdn.123rf.com/ui-components/assets/svg/collection.svg: cannot identify image file <_io.BytesIO object at 0x0000022031D31760>\n",
      "Error al descargar https://assets-cdn.123rf.com/ui-components/assets/svg/collection.svg: cannot identify image file <_io.BytesIO object at 0x0000022031B9D800>\n",
      "Error al descargar https://assets-cdn.123rf.com/ui-components/assets/svg/collection.svg: cannot identify image file <_io.BytesIO object at 0x0000022031D33B50>\n"
     ]
    },
    {
     "name": "stderr",
     "output_type": "stream",
     "text": [
      "Procesando imágenes de https://es.123rf.com/imagenes-de-archivo/planta_de_manzanilla.html:  56%|█████▌    | 166/298 [00:03<00:02, 47.25it/s]"
     ]
    },
    {
     "name": "stdout",
     "output_type": "stream",
     "text": [
      "Error al descargar https://assets-cdn.123rf.com/ui-components/assets/svg/collection.svg: cannot identify image file <_io.BytesIO object at 0x0000022031AF7E20>\n",
      "Error al descargar https://assets-cdn.123rf.com/ui-components/assets/svg/collection.svg: cannot identify image file <_io.BytesIO object at 0x0000022031B61170>\n",
      "Error al descargar https://assets-cdn.123rf.com/ui-components/assets/svg/collection.svg: cannot identify image file <_io.BytesIO object at 0x0000022031B60630>\n"
     ]
    },
    {
     "name": "stderr",
     "output_type": "stream",
     "text": [
      "Procesando imágenes de https://es.123rf.com/imagenes-de-archivo/planta_de_manzanilla.html:  59%|█████▉    | 177/298 [00:04<00:03, 39.28it/s]"
     ]
    },
    {
     "name": "stdout",
     "output_type": "stream",
     "text": [
      "Error al descargar https://assets-cdn.123rf.com/ui-components/assets/svg/collection.svg: cannot identify image file <_io.BytesIO object at 0x00000220320E0860>\n",
      "Error al descargar https://assets-cdn.123rf.com/ui-components/assets/svg/collection.svg: cannot identify image file <_io.BytesIO object at 0x0000022031D33B50>\n",
      "Error al descargar https://assets-cdn.123rf.com/ui-components/assets/svg/gradient/premium-crown-gradient2.svg: cannot identify image file <_io.BytesIO object at 0x0000022030D99BC0>\n",
      "Error al descargar https://assets-cdn.123rf.com/ui-components/assets/svg/collection.svg: cannot identify image file <_io.BytesIO object at 0x0000022031B60D10>\n",
      "Error al descargar https://assets-cdn.123rf.com/ui-components/assets/svg/collection.svg: cannot identify image file <_io.BytesIO object at 0x0000022031B63A60>\n",
      "Error al descargar https://assets-cdn.123rf.com/ui-components/assets/svg/collection.svg: cannot identify image file <_io.BytesIO object at 0x0000022030E55EE0>\n"
     ]
    },
    {
     "name": "stderr",
     "output_type": "stream",
     "text": [
      "Procesando imágenes de https://es.123rf.com/imagenes-de-archivo/planta_de_manzanilla.html:  63%|██████▎   | 189/298 [00:04<00:02, 44.71it/s]"
     ]
    },
    {
     "name": "stdout",
     "output_type": "stream",
     "text": [
      "Error al descargar https://assets-cdn.123rf.com/ui-components/assets/svg/collection.svg: cannot identify image file <_io.BytesIO object at 0x0000022031838FE0>\n",
      "Error al descargar https://assets-cdn.123rf.com/ui-components/assets/svg/collection.svg: cannot identify image file <_io.BytesIO object at 0x0000022030D99BC0>\n",
      "Error al descargar https://assets-cdn.123rf.com/ui-components/assets/svg/collection.svg: cannot identify image file <_io.BytesIO object at 0x0000022030AC6980>\n",
      "Error al descargar https://assets-cdn.123rf.com/ui-components/assets/svg/collection.svg: cannot identify image file <_io.BytesIO object at 0x0000022031B61170>\n",
      "Error al descargar https://assets-cdn.123rf.com/ui-components/assets/svg/collection.svg: cannot identify image file <_io.BytesIO object at 0x0000022031D31300>\n",
      "Error al descargar https://assets-cdn.123rf.com/ui-components/assets/svg/gradient/premium-crown-gradient2.svg: cannot identify image file <_io.BytesIO object at 0x00000220320E0860>\n"
     ]
    },
    {
     "name": "stderr",
     "output_type": "stream",
     "text": [
      "Procesando imágenes de https://es.123rf.com/imagenes-de-archivo/planta_de_manzanilla.html:  68%|██████▊   | 202/298 [00:04<00:01, 48.67it/s]"
     ]
    },
    {
     "name": "stdout",
     "output_type": "stream",
     "text": [
      "Error al descargar https://assets-cdn.123rf.com/ui-components/assets/svg/collection.svg: cannot identify image file <_io.BytesIO object at 0x0000022031B60590>\n",
      "Error al descargar https://assets-cdn.123rf.com/ui-components/assets/svg/collection.svg: cannot identify image file <_io.BytesIO object at 0x0000022031838FE0>\n",
      "Error al descargar https://assets-cdn.123rf.com/ui-components/assets/svg/collection.svg: cannot identify image file <_io.BytesIO object at 0x0000022031B63A60>\n",
      "Error al descargar https://assets-cdn.123rf.com/ui-components/assets/svg/collection.svg: cannot identify image file <_io.BytesIO object at 0x0000022031D308B0>\n",
      "Error al descargar https://assets-cdn.123rf.com/ui-components/assets/svg/gradient/premium-crown-gradient2.svg: cannot identify image file <_io.BytesIO object at 0x0000022031B9D800>\n",
      "Error al descargar https://assets-cdn.123rf.com/ui-components/assets/svg/collection.svg: cannot identify image file <_io.BytesIO object at 0x00000220320E0860>\n"
     ]
    },
    {
     "name": "stderr",
     "output_type": "stream",
     "text": [
      "Procesando imágenes de https://es.123rf.com/imagenes-de-archivo/planta_de_manzanilla.html:  72%|███████▏  | 214/298 [00:04<00:01, 48.97it/s]"
     ]
    },
    {
     "name": "stdout",
     "output_type": "stream",
     "text": [
      "Error al descargar https://assets-cdn.123rf.com/ui-components/assets/svg/collection.svg: cannot identify image file <_io.BytesIO object at 0x0000022030F14DB0>\n",
      "Error al descargar https://assets-cdn.123rf.com/ui-components/assets/svg/collection.svg: cannot identify image file <_io.BytesIO object at 0x00000220320E1D50>\n",
      "Error al descargar https://assets-cdn.123rf.com/ui-components/assets/svg/collection.svg: cannot identify image file <_io.BytesIO object at 0x0000022031193DD0>\n",
      "Error al descargar https://assets-cdn.123rf.com/ui-components/assets/svg/gradient/premium-crown-gradient2.svg: cannot identify image file <_io.BytesIO object at 0x0000022030D9A200>\n",
      "Error al descargar https://assets-cdn.123rf.com/ui-components/assets/svg/collection.svg: cannot identify image file <_io.BytesIO object at 0x00000220320E1A30>\n",
      "Error al descargar https://assets-cdn.123rf.com/ui-components/assets/svg/collection.svg: cannot identify image file <_io.BytesIO object at 0x0000022031B60590>\n"
     ]
    },
    {
     "name": "stderr",
     "output_type": "stream",
     "text": [
      "Procesando imágenes de https://es.123rf.com/imagenes-de-archivo/planta_de_manzanilla.html:  74%|███████▍  | 220/298 [00:05<00:01, 46.63it/s]"
     ]
    },
    {
     "name": "stdout",
     "output_type": "stream",
     "text": [
      "Error al descargar https://assets-cdn.123rf.com/ui-components/assets/svg/collection.svg: cannot identify image file <_io.BytesIO object at 0x0000022030D99800>\n",
      "Error al descargar https://assets-cdn.123rf.com/ui-components/assets/svg/collection.svg: cannot identify image file <_io.BytesIO object at 0x0000022031B60D10>\n",
      "Error al descargar https://assets-cdn.123rf.com/ui-components/assets/svg/collection.svg: cannot identify image file <_io.BytesIO object at 0x0000022031B63A60>\n",
      "Error al descargar https://assets-cdn.123rf.com/ui-components/assets/svg/collection.svg: cannot identify image file <_io.BytesIO object at 0x00000220320E0860>\n",
      "Error al descargar https://assets-cdn.123rf.com/ui-components/assets/svg/collection.svg: cannot identify image file <_io.BytesIO object at 0x0000022031D31760>\n"
     ]
    },
    {
     "name": "stderr",
     "output_type": "stream",
     "text": [
      "Procesando imágenes de https://es.123rf.com/imagenes-de-archivo/planta_de_manzanilla.html:  78%|███████▊  | 233/298 [00:05<00:01, 46.60it/s]"
     ]
    },
    {
     "name": "stdout",
     "output_type": "stream",
     "text": [
      "Error al descargar https://assets-cdn.123rf.com/ui-components/assets/svg/collection.svg: cannot identify image file <_io.BytesIO object at 0x00000220320E1C10>\n",
      "Error al descargar https://assets-cdn.123rf.com/ui-components/assets/svg/collection.svg: cannot identify image file <_io.BytesIO object at 0x00000220320E1D50>\n",
      "Error al descargar https://assets-cdn.123rf.com/ui-components/assets/svg/gradient/premium-crown-gradient2.svg: cannot identify image file <_io.BytesIO object at 0x0000022031B60D10>\n",
      "Error al descargar https://assets-cdn.123rf.com/ui-components/assets/svg/collection.svg: cannot identify image file <_io.BytesIO object at 0x0000022031D31300>\n",
      "Error al descargar https://assets-cdn.123rf.com/ui-components/assets/svg/collection.svg: cannot identify image file <_io.BytesIO object at 0x00000220320E0860>\n",
      "Error al descargar https://assets-cdn.123rf.com/ui-components/assets/svg/gradient/premium-crown-gradient2.svg: cannot identify image file <_io.BytesIO object at 0x0000022031B60590>\n",
      "Error al descargar https://assets-cdn.123rf.com/ui-components/assets/svg/collection.svg: cannot identify image file <_io.BytesIO object at 0x00000220320E1A30>\n"
     ]
    },
    {
     "name": "stderr",
     "output_type": "stream",
     "text": [
      "Procesando imágenes de https://es.123rf.com/imagenes-de-archivo/planta_de_manzanilla.html:  83%|████████▎ | 246/298 [00:05<00:01, 49.16it/s]"
     ]
    },
    {
     "name": "stdout",
     "output_type": "stream",
     "text": [
      "Error al descargar https://assets-cdn.123rf.com/ui-components/assets/svg/collection.svg: cannot identify image file <_io.BytesIO object at 0x0000022030AC6980>\n",
      "Error al descargar https://assets-cdn.123rf.com/ui-components/assets/svg/collection.svg: cannot identify image file <_io.BytesIO object at 0x0000022031B63A60>\n",
      "Error al descargar https://assets-cdn.123rf.com/ui-components/assets/svg/gradient/premium-crown-gradient2.svg: cannot identify image file <_io.BytesIO object at 0x0000022031B9D800>\n",
      "Error al descargar https://assets-cdn.123rf.com/ui-components/assets/svg/collection.svg: cannot identify image file <_io.BytesIO object at 0x0000022030E55EE0>\n",
      "Error al descargar https://assets-cdn.123rf.com/ui-components/assets/svg/collection.svg: cannot identify image file <_io.BytesIO object at 0x0000022030AC68E0>\n",
      "Error al descargar https://assets-cdn.123rf.com/ui-components/assets/svg/collection.svg: cannot identify image file <_io.BytesIO object at 0x0000022030F14DB0>\n"
     ]
    },
    {
     "name": "stderr",
     "output_type": "stream",
     "text": [
      "Procesando imágenes de https://es.123rf.com/imagenes-de-archivo/planta_de_manzanilla.html:  84%|████████▍ | 251/298 [00:05<00:01, 46.83it/s]"
     ]
    },
    {
     "name": "stdout",
     "output_type": "stream",
     "text": [
      "Error al descargar https://assets-cdn.123rf.com/ui-components/assets/svg/collection.svg: cannot identify image file <_io.BytesIO object at 0x0000022030C641D0>\n",
      "Error al descargar https://assets-cdn.123rf.com/ui-components/assets/svg/collection.svg: cannot identify image file <_io.BytesIO object at 0x0000022031193DD0>\n",
      "Error al descargar https://assets-cdn.123rf.com/ui-components/assets/svg/collection.svg: cannot identify image file <_io.BytesIO object at 0x0000022030D99800>\n",
      "Error al descargar https://assets-cdn.123rf.com/ui-components/assets/svg/collection.svg: cannot identify image file <_io.BytesIO object at 0x0000022031D31300>\n",
      "Error al descargar https://assets-cdn.123rf.com/ui-components/assets/svg/collection.svg: cannot identify image file <_io.BytesIO object at 0x0000022031B60590>\n"
     ]
    },
    {
     "name": "stderr",
     "output_type": "stream",
     "text": [
      "Procesando imágenes de https://es.123rf.com/imagenes-de-archivo/planta_de_manzanilla.html:  88%|████████▊ | 261/298 [00:06<00:00, 39.80it/s]"
     ]
    },
    {
     "name": "stdout",
     "output_type": "stream",
     "text": [
      "Error al descargar https://assets-cdn.123rf.com/ui-components/assets/svg/gradient/premium-crown-gradient2.svg: cannot identify image file <_io.BytesIO object at 0x0000022031B60D10>\n",
      "Error al descargar https://assets-cdn.123rf.com/ui-components/assets/svg/collection.svg: cannot identify image file <_io.BytesIO object at 0x0000022031D31760>\n",
      "Error al descargar https://assets-cdn.123rf.com/ui-components/assets/svg/collection.svg: cannot identify image file <_io.BytesIO object at 0x0000022030D98360>\n",
      "Error al descargar https://assets-cdn.123rf.com/ui-components/assets/svg/collection.svg: cannot identify image file <_io.BytesIO object at 0x0000022030E55EE0>\n"
     ]
    },
    {
     "name": "stderr",
     "output_type": "stream",
     "text": [
      "Procesando imágenes de https://es.123rf.com/imagenes-de-archivo/planta_de_manzanilla.html:  91%|█████████ | 271/298 [00:06<00:00, 51.77it/s]"
     ]
    },
    {
     "name": "stdout",
     "output_type": "stream",
     "text": [
      "Error al descargar https://assets-cdn.123rf.com/ui-components/assets/svg/collection.svg: cannot identify image file <_io.BytesIO object at 0x0000022030B46340>\n",
      "Error al descargar https://assets-cdn.123rf.com/ui-components/assets/svg/collection.svg: cannot identify image file <_io.BytesIO object at 0x0000022030D9A200>\n",
      "Error al descargar https://assets-cdn.123rf.com/ui-components/assets/svg/gradient/premium-crown-gradient2.svg: cannot identify image file <_io.BytesIO object at 0x00000220320E1D50>\n",
      "Error al descargar https://assets-cdn.123rf.com/ui-components/assets/svg/collection.svg: cannot identify image file <_io.BytesIO object at 0x0000022031B63A60>\n",
      "Error al descargar https://assets-cdn.123rf.com/ui-components/assets/svg/collection.svg: cannot identify image file <_io.BytesIO object at 0x0000022031B62A20>\n"
     ]
    },
    {
     "name": "stderr",
     "output_type": "stream",
     "text": [
      "Procesando imágenes de https://es.123rf.com/imagenes-de-archivo/planta_de_manzanilla.html:  95%|█████████▍| 283/298 [00:06<00:00, 40.37it/s]"
     ]
    },
    {
     "name": "stdout",
     "output_type": "stream",
     "text": [
      "Error al descargar https://assets-cdn.123rf.com/ui-components/assets/svg/gradient/premium-crown-gradient2.svg: cannot identify image file <_io.BytesIO object at 0x0000022030D99800>\n",
      "Error al descargar https://assets-cdn.123rf.com/ui-components/assets/svg/collection.svg: cannot identify image file <_io.BytesIO object at 0x0000022030D99BC0>\n",
      "Error al descargar https://assets-cdn.123rf.com/ui-components/assets/svg/collection.svg: cannot identify image file <_io.BytesIO object at 0x0000022030AC68E0>\n",
      "Error al descargar https://assets-cdn.123rf.com/ui-components/assets/svg/gradient/premium-crown-gradient2.svg: cannot identify image file <_io.BytesIO object at 0x0000022030B46160>\n",
      "Error al descargar https://assets-cdn.123rf.com/ui-components/assets/svg/collection.svg: cannot identify image file <_io.BytesIO object at 0x0000022031B63A60>\n",
      "Error al descargar https://assets-cdn.123rf.com/ui-components/assets/svg/collection.svg: cannot identify image file <_io.BytesIO object at 0x0000022031B9D800>\n",
      "Error al descargar https://assets-cdn.123rf.com/ui-components/assets/svg/collection.svg: cannot identify image file <_io.BytesIO object at 0x00000220320E1D50>\n"
     ]
    },
    {
     "name": "stderr",
     "output_type": "stream",
     "text": [
      "Procesando imágenes de https://es.123rf.com/imagenes-de-archivo/planta_de_manzanilla.html:  98%|█████████▊| 293/298 [00:06<00:00, 44.67it/s]"
     ]
    },
    {
     "name": "stdout",
     "output_type": "stream",
     "text": [
      "Error al descargar https://assets-cdn.123rf.com/ui-components/assets/svg/gradient/premium-crown-gradient2.svg: cannot identify image file <_io.BytesIO object at 0x0000022030E55EE0>\n",
      "Error al descargar https://assets-cdn.123rf.com/ui-components/assets/svg/collection.svg: cannot identify image file <_io.BytesIO object at 0x0000022031B63E20>\n",
      "Error al descargar https://assets-cdn.123rf.com/ui-components/assets/svg/chevron-down.svg: cannot identify image file <_io.BytesIO object at 0x0000022031B60590>\n",
      "Error al descargar https://assets-cdn.123rf.com/ui-components/assets/svg/chevron-down.svg: cannot identify image file <_io.BytesIO object at 0x0000022031838220>\n",
      "Error al descargar https://assets-cdn.123rf.com/ui-components/assets/svg/chevron-down.svg: cannot identify image file <_io.BytesIO object at 0x0000022030B45DA0>\n",
      "Error al descargar https://assets-cdn.123rf.com/ui-components/assets/svg/chevron-down.svg: cannot identify image file <_io.BytesIO object at 0x0000022031B63A60>\n",
      "Error al descargar https://assets-cdn.123rf.com/ui-components/assets/svg/facebook.svg: cannot identify image file <_io.BytesIO object at 0x0000022030D98360>\n",
      "Error al descargar https://assets-cdn.123rf.com/ui-components/assets/svg/chevron-down.svg: cannot identify image file <_io.BytesIO object at 0x0000022031D308B0>\n",
      "Error al descargar https://assets-cdn.123rf.com/ui-components/assets/svg/twitter-v2.svg: cannot identify image file <_io.BytesIO object at 0x0000022031B604A0>\n",
      "Error al descargar https://assets-cdn.123rf.com/ui-components/assets/svg/instagram-v2.svg: cannot identify image file <_io.BytesIO object at 0x0000022031AF7E20>\n"
     ]
    },
    {
     "name": "stderr",
     "output_type": "stream",
     "text": [
      "Procesando imágenes de https://es.123rf.com/imagenes-de-archivo/planta_de_manzanilla.html: 100%|██████████| 298/298 [00:06<00:00, 43.34it/s]\n"
     ]
    },
    {
     "name": "stdout",
     "output_type": "stream",
     "text": [
      "Error al descargar https://assets-cdn.123rf.com/ui-components/assets/svg/pinterest.svg: cannot identify image file <_io.BytesIO object at 0x0000022030E55EE0>\n",
      "Error al descargar https://assets-cdn.123rf.com/ui-components/assets/svg/whatsapp-v3.svg: cannot identify image file <_io.BytesIO object at 0x0000022031D31760>\n"
     ]
    },
    {
     "name": "stderr",
     "output_type": "stream",
     "text": [
      "Procesando imágenes de https://www.amazon.com/-/es/Manzanilla-romana-planta-viva-maceta/dp/B0BWLT8KYK: 100%|██████████| 2/2 [00:00<00:00,  3.57it/s]\n",
      "Some characters could not be decoded, and were replaced with REPLACEMENT CHARACTER.\n",
      "Procesando imágenes de https://www.gob.mx/cms/uploads/attachment/file/96281/Manzanilla_monografias.pdf: 0it [00:00, ?it/s]\n",
      "Procesando imágenes de https://www.infobae.com/noticias/2023/02/22/falsa-manzanilla-planta-medicinal-que-ayuda-con-resfriados-dolor-de-estomago-y-migrana/:   0%|          | 0/19 [00:00<?, ?it/s]"
     ]
    },
    {
     "name": "stdout",
     "output_type": "stream",
     "text": [
      "Error al descargar /pf/resources/images/logo_infobae_naranja.svg?d=2791: Invalid URL '/pf/resources/images/logo_infobae_naranja.svg?d=2791': No scheme supplied. Perhaps you meant https:///pf/resources/images/logo_infobae_naranja.svg?d=2791?\n",
      "Error al descargar /pf/resources/images/logo_infobae_naranja.svg?d=2791: Invalid URL '/pf/resources/images/logo_infobae_naranja.svg?d=2791': No scheme supplied. Perhaps you meant https:///pf/resources/images/logo_infobae_naranja.svg?d=2791?\n",
      "Error al descargar https://www.facebook.com/tr?id=336383993555320&ev=PageView&noscript=1: cannot identify image file <_io.BytesIO object at 0x00000220320E0860>\n"
     ]
    },
    {
     "name": "stderr",
     "output_type": "stream",
     "text": [
      "Procesando imágenes de https://www.infobae.com/noticias/2023/02/22/falsa-manzanilla-planta-medicinal-que-ayuda-con-resfriados-dolor-de-estomago-y-migrana/: 100%|██████████| 19/19 [00:00<00:00, 34.22it/s]"
     ]
    },
    {
     "name": "stdout",
     "output_type": "stream",
     "text": [
      "Error al descargar /pf/resources/images/d23_logo_infobae_white.svg?d=2791: Invalid URL '/pf/resources/images/d23_logo_infobae_white.svg?d=2791': No scheme supplied. Perhaps you meant https:///pf/resources/images/d23_logo_infobae_white.svg?d=2791?\n"
     ]
    },
    {
     "name": "stderr",
     "output_type": "stream",
     "text": [
      "\n"
     ]
    },
    {
     "name": "stdout",
     "output_type": "stream",
     "text": [
      "Error al descargar /static/images/icons/wikipedia.png: Invalid URL '/static/images/icons/wikipedia.png': No scheme supplied. Perhaps you meant https:///static/images/icons/wikipedia.png?\n",
      "Error al descargar /static/images/mobile/copyright/wikipedia-wordmark-en.svg: Invalid URL '/static/images/mobile/copyright/wikipedia-wordmark-en.svg': No scheme supplied. Perhaps you meant https:///static/images/mobile/copyright/wikipedia-wordmark-en.svg?\n",
      "Error al descargar //upload.wikimedia.org/wikipedia/commons/thumb/5/59/Chamaemelum_nobile_-_K%C3%B6hler%E2%80%93s_Medizinal-Pflanzen-012.jpg/250px-Chamaemelum_nobile_-_K%C3%B6hler%E2%80%93s_Medizinal-Pflanzen-012.jpg: Invalid URL '//upload.wikimedia.org/wikipedia/commons/thumb/5/59/Chamaemelum_nobile_-_K%C3%B6hler%E2%80%93s_Medizinal-Pflanzen-012.jpg/250px-Chamaemelum_nobile_-_K%C3%B6hler%E2%80%93s_Medizinal-Pflanzen-012.jpg': No scheme supplied. Perhaps you meant https:////upload.wikimedia.org/wikipedia/commons/thumb/5/59/Chamaemelum_nobile_-_K%C3%B6hler%E2%80%93s_Medizinal-Pflanzen-012.jpg/250px-Chamaemelum_nobile_-_K%C3%B6hler%E2%80%93s_Medizinal-Pflanzen-012.jpg?\n",
      "Error al descargar /static/images/mobile/copyright/wikipedia-tagline-es.svg: Invalid URL '/static/images/mobile/copyright/wikipedia-tagline-es.svg': No scheme supplied. Perhaps you meant https:///static/images/mobile/copyright/wikipedia-tagline-es.svg?\n",
      "Error al descargar //upload.wikimedia.org/wikipedia/commons/thumb/6/6b/Anthemis_nobilis_prg_1.jpg/220px-Anthemis_nobilis_prg_1.jpg: Invalid URL '//upload.wikimedia.org/wikipedia/commons/thumb/6/6b/Anthemis_nobilis_prg_1.jpg/220px-Anthemis_nobilis_prg_1.jpg': No scheme supplied. Perhaps you meant https:////upload.wikimedia.org/wikipedia/commons/thumb/6/6b/Anthemis_nobilis_prg_1.jpg/220px-Anthemis_nobilis_prg_1.jpg?\n"
     ]
    },
    {
     "name": "stderr",
     "output_type": "stream",
     "text": [
      "Procesando imágenes de https://es.wikipedia.org/wiki/Chamaemelum_nobile:   0%|          | 0/17 [00:00<?, ?it/s]"
     ]
    },
    {
     "name": "stdout",
     "output_type": "stream",
     "text": [
      "Error al descargar //upload.wikimedia.org/wikipedia/commons/thumb/5/54/Flor_de_manzanilla_en_M%C3%A9xico.jpg/220px-Flor_de_manzanilla_en_M%C3%A9xico.jpg: Invalid URL '//upload.wikimedia.org/wikipedia/commons/thumb/5/54/Flor_de_manzanilla_en_M%C3%A9xico.jpg/220px-Flor_de_manzanilla_en_M%C3%A9xico.jpg': No scheme supplied. Perhaps you meant https:////upload.wikimedia.org/wikipedia/commons/thumb/5/54/Flor_de_manzanilla_en_M%C3%A9xico.jpg/220px-Flor_de_manzanilla_en_M%C3%A9xico.jpg?\n",
      "Error al descargar //upload.wikimedia.org/wikipedia/commons/thumb/2/2c/Chamaemelum_nobile_002.JPG/220px-Chamaemelum_nobile_002.JPG: Invalid URL '//upload.wikimedia.org/wikipedia/commons/thumb/2/2c/Chamaemelum_nobile_002.JPG/220px-Chamaemelum_nobile_002.JPG': No scheme supplied. Perhaps you meant https:////upload.wikimedia.org/wikipedia/commons/thumb/2/2c/Chamaemelum_nobile_002.JPG/220px-Chamaemelum_nobile_002.JPG?\n",
      "Error al descargar //upload.wikimedia.org/wikipedia/commons/thumb/f/ff/Wikidata-logo.svg/20px-Wikidata-logo.svg.png: Invalid URL '//upload.wikimedia.org/wikipedia/commons/thumb/f/ff/Wikidata-logo.svg/20px-Wikidata-logo.svg.png': No scheme supplied. Perhaps you meant https:////upload.wikimedia.org/wikipedia/commons/thumb/f/ff/Wikidata-logo.svg/20px-Wikidata-logo.svg.png?\n",
      "Error al descargar //upload.wikimedia.org/wikipedia/commons/thumb/f/ff/Wikidata-logo.svg/20px-Wikidata-logo.svg.png: Invalid URL '//upload.wikimedia.org/wikipedia/commons/thumb/f/ff/Wikidata-logo.svg/20px-Wikidata-logo.svg.png': No scheme supplied. Perhaps you meant https:////upload.wikimedia.org/wikipedia/commons/thumb/f/ff/Wikidata-logo.svg/20px-Wikidata-logo.svg.png?\n",
      "Error al descargar //upload.wikimedia.org/wikipedia/commons/thumb/9/95/Chamomillae_romanae_flos_dried.jpg/251px-Chamomillae_romanae_flos_dried.jpg: Invalid URL '//upload.wikimedia.org/wikipedia/commons/thumb/9/95/Chamomillae_romanae_flos_dried.jpg/251px-Chamomillae_romanae_flos_dried.jpg': No scheme supplied. Perhaps you meant https:////upload.wikimedia.org/wikipedia/commons/thumb/9/95/Chamomillae_romanae_flos_dried.jpg/251px-Chamomillae_romanae_flos_dried.jpg?\n",
      "Error al descargar //upload.wikimedia.org/wikipedia/commons/thumb/d/df/Wikispecies-logo.svg/15px-Wikispecies-logo.svg.png: Invalid URL '//upload.wikimedia.org/wikipedia/commons/thumb/d/df/Wikispecies-logo.svg/15px-Wikispecies-logo.svg.png': No scheme supplied. Perhaps you meant https:////upload.wikimedia.org/wikipedia/commons/thumb/d/df/Wikispecies-logo.svg/15px-Wikispecies-logo.svg.png?\n",
      "Error al descargar //upload.wikimedia.org/wikipedia/commons/thumb/4/4a/Commons-logo.svg/15px-Commons-logo.svg.png: Invalid URL '//upload.wikimedia.org/wikipedia/commons/thumb/4/4a/Commons-logo.svg/15px-Commons-logo.svg.png': No scheme supplied. Perhaps you meant https:////upload.wikimedia.org/wikipedia/commons/thumb/4/4a/Commons-logo.svg/15px-Commons-logo.svg.png?\n",
      "Error al descargar //upload.wikimedia.org/wikipedia/commons/thumb/d/df/Wikispecies-logo.svg/15px-Wikispecies-logo.svg.png: Invalid URL '//upload.wikimedia.org/wikipedia/commons/thumb/d/df/Wikispecies-logo.svg/15px-Wikispecies-logo.svg.png': No scheme supplied. Perhaps you meant https:////upload.wikimedia.org/wikipedia/commons/thumb/d/df/Wikispecies-logo.svg/15px-Wikispecies-logo.svg.png?\n",
      "Error al descargar /w/resources/assets/poweredby_mediawiki.svg: Invalid URL '/w/resources/assets/poweredby_mediawiki.svg': No scheme supplied. Perhaps you meant https:///w/resources/assets/poweredby_mediawiki.svg?\n",
      "Error al descargar //upload.wikimedia.org/wikipedia/commons/thumb/4/4a/Commons-logo.svg/15px-Commons-logo.svg.png: Invalid URL '//upload.wikimedia.org/wikipedia/commons/thumb/4/4a/Commons-logo.svg/15px-Commons-logo.svg.png': No scheme supplied. Perhaps you meant https:////upload.wikimedia.org/wikipedia/commons/thumb/4/4a/Commons-logo.svg/15px-Commons-logo.svg.png?\n",
      "Error al descargar /static/images/footer/wikimedia-button.svg: Invalid URL '/static/images/footer/wikimedia-button.svg': No scheme supplied. Perhaps you meant https:///static/images/footer/wikimedia-button.svg?\n"
     ]
    },
    {
     "name": "stderr",
     "output_type": "stream",
     "text": [
      "Procesando imágenes de https://es.wikipedia.org/wiki/Chamaemelum_nobile: 100%|██████████| 17/17 [00:00<00:00, 52.61it/s]\n"
     ]
    },
    {
     "name": "stdout",
     "output_type": "stream",
     "text": [
      "Error al descargar /pf/resources/images/logo_infobae_naranja.svg?d=2791: Invalid URL '/pf/resources/images/logo_infobae_naranja.svg?d=2791': No scheme supplied. Perhaps you meant https:///pf/resources/images/logo_infobae_naranja.svg?d=2791?\n"
     ]
    },
    {
     "name": "stderr",
     "output_type": "stream",
     "text": [
      "Procesando imágenes de https://www.infobae.com/noticias/2024/08/27/usos-medicinales-de-la-manzanilla-desde-un-remedio-para-la-tos-hasta-sus-posibles-efectos-anticancerigenos/:   0%|          | 0/19 [00:00<?, ?it/s]"
     ]
    },
    {
     "name": "stdout",
     "output_type": "stream",
     "text": [
      "Error al descargar /pf/resources/images/logo_infobae_naranja.svg?d=2791: Invalid URL '/pf/resources/images/logo_infobae_naranja.svg?d=2791': No scheme supplied. Perhaps you meant https:///pf/resources/images/logo_infobae_naranja.svg?d=2791?\n",
      "Error al descargar https://www.facebook.com/tr?id=336383993555320&ev=PageView&noscript=1: cannot identify image file <_io.BytesIO object at 0x0000022031C80090>\n",
      "Error al descargar /pf/resources/images/d23_logo_infobae_white.svg?d=2791: Invalid URL '/pf/resources/images/d23_logo_infobae_white.svg?d=2791': No scheme supplied. Perhaps you meant https:///pf/resources/images/d23_logo_infobae_white.svg?d=2791?\n"
     ]
    },
    {
     "name": "stderr",
     "output_type": "stream",
     "text": [
      "Procesando imágenes de https://www.infobae.com/noticias/2024/08/27/usos-medicinales-de-la-manzanilla-desde-un-remedio-para-la-tos-hasta-sus-posibles-efectos-anticancerigenos/: 100%|██████████| 19/19 [00:00<00:00, 41.48it/s]\n",
      "Procesando imágenes de https://www.ecologiaverde.com/planta-de-manzanilla-cuidados-y-para-que-sirve-2203.html: 100%|██████████| 18/18 [00:01<00:00, 11.74it/s]\n"
     ]
    },
    {
     "name": "stdout",
     "output_type": "stream",
     "text": [
      "Error al descargar data:image/png;base64,iVBORw0KGgoAAAANSUhEUgAAAAEAAAABCAQAAAC1HAwCAAAAC0lEQVQYV2NgYAAAAAMAAWgmWQ0AAAAASUVORK5CYII=: No connection adapters were found for 'data:image/png;base64,iVBORw0KGgoAAAANSUhEUgAAAAEAAAABCAQAAAC1HAwCAAAAC0lEQVQYV2NgYAAAAAMAAWgmWQ0AAAAASUVORK5CYII='\n",
      "Error al descargar data:image/png;base64,iVBORw0KGgoAAAANSUhEUgAAAAEAAAABCAQAAAC1HAwCAAAAC0lEQVQYV2NgYAAAAAMAAWgmWQ0AAAAASUVORK5CYII=: No connection adapters were found for 'data:image/png;base64,iVBORw0KGgoAAAANSUhEUgAAAAEAAAABCAQAAAC1HAwCAAAAC0lEQVQYV2NgYAAAAAMAAWgmWQ0AAAAASUVORK5CYII='\n",
      "Error al descargar data:image/png;base64,iVBORw0KGgoAAAANSUhEUgAAAAEAAAABCAQAAAC1HAwCAAAAC0lEQVQYV2NgYAAAAAMAAWgmWQ0AAAAASUVORK5CYII=: No connection adapters were found for 'data:image/png;base64,iVBORw0KGgoAAAANSUhEUgAAAAEAAAABCAQAAAC1HAwCAAAAC0lEQVQYV2NgYAAAAAMAAWgmWQ0AAAAASUVORK5CYII='\n",
      "Error al descargar data:image/png;base64,iVBORw0KGgoAAAANSUhEUgAAAAEAAAABCAQAAAC1HAwCAAAAC0lEQVQYV2NgYAAAAAMAAWgmWQ0AAAAASUVORK5CYII=: No connection adapters were found for 'data:image/png;base64,iVBORw0KGgoAAAANSUhEUgAAAAEAAAABCAQAAAC1HAwCAAAAC0lEQVQYV2NgYAAAAAMAAWgmWQ0AAAAASUVORK5CYII='\n",
      "Error al descargar data:image/png;base64,iVBORw0KGgoAAAANSUhEUgAAAAEAAAABCAQAAAC1HAwCAAAAC0lEQVQYV2NgYAAAAAMAAWgmWQ0AAAAASUVORK5CYII=: No connection adapters were found for 'data:image/png;base64,iVBORw0KGgoAAAANSUhEUgAAAAEAAAABCAQAAAC1HAwCAAAAC0lEQVQYV2NgYAAAAAMAAWgmWQ0AAAAASUVORK5CYII='\n",
      "Error al descargar data:image/png;base64,iVBORw0KGgoAAAANSUhEUgAAAAEAAAABCAQAAAC1HAwCAAAAC0lEQVQYV2NgYAAAAAMAAWgmWQ0AAAAASUVORK5CYII=: No connection adapters were found for 'data:image/png;base64,iVBORw0KGgoAAAANSUhEUgAAAAEAAAABCAQAAAC1HAwCAAAAC0lEQVQYV2NgYAAAAAMAAWgmWQ0AAAAASUVORK5CYII='\n",
      "Error al descargar data:image/png;base64,iVBORw0KGgoAAAANSUhEUgAAAAEAAAABCAQAAAC1HAwCAAAAC0lEQVQYV2NgYAAAAAMAAWgmWQ0AAAAASUVORK5CYII=: No connection adapters were found for 'data:image/png;base64,iVBORw0KGgoAAAANSUhEUgAAAAEAAAABCAQAAAC1HAwCAAAAC0lEQVQYV2NgYAAAAAMAAWgmWQ0AAAAASUVORK5CYII='\n"
     ]
    },
    {
     "name": "stderr",
     "output_type": "stream",
     "text": [
      "Procesando imágenes de https://www.pngwing.com/es/search?q=manzanilla:   0%|          | 0/61 [00:00<?, ?it/s]"
     ]
    },
    {
     "name": "stdout",
     "output_type": "stream",
     "text": [
      "Error al descargar data:image/png;base64,iVBORw0KGgoAAAANSUhEUgAAAAEAAAABCAQAAAC1HAwCAAAAC0lEQVQYV2NgYAAAAAMAAWgmWQ0AAAAASUVORK5CYII=: No connection adapters were found for 'data:image/png;base64,iVBORw0KGgoAAAANSUhEUgAAAAEAAAABCAQAAAC1HAwCAAAAC0lEQVQYV2NgYAAAAAMAAWgmWQ0AAAAASUVORK5CYII='\n",
      "Error al descargar data:image/png;base64,iVBORw0KGgoAAAANSUhEUgAAAAEAAAABCAQAAAC1HAwCAAAAC0lEQVQYV2NgYAAAAAMAAWgmWQ0AAAAASUVORK5CYII=: No connection adapters were found for 'data:image/png;base64,iVBORw0KGgoAAAANSUhEUgAAAAEAAAABCAQAAAC1HAwCAAAAC0lEQVQYV2NgYAAAAAMAAWgmWQ0AAAAASUVORK5CYII='\n",
      "Error al descargar data:image/png;base64,iVBORw0KGgoAAAANSUhEUgAAAAEAAAABCAQAAAC1HAwCAAAAC0lEQVQYV2NgYAAAAAMAAWgmWQ0AAAAASUVORK5CYII=: No connection adapters were found for 'data:image/png;base64,iVBORw0KGgoAAAANSUhEUgAAAAEAAAABCAQAAAC1HAwCAAAAC0lEQVQYV2NgYAAAAAMAAWgmWQ0AAAAASUVORK5CYII='\n",
      "Error al descargar data:image/png;base64,iVBORw0KGgoAAAANSUhEUgAAAAEAAAABCAQAAAC1HAwCAAAAC0lEQVQYV2NgYAAAAAMAAWgmWQ0AAAAASUVORK5CYII=: No connection adapters were found for 'data:image/png;base64,iVBORw0KGgoAAAANSUhEUgAAAAEAAAABCAQAAAC1HAwCAAAAC0lEQVQYV2NgYAAAAAMAAWgmWQ0AAAAASUVORK5CYII='\n",
      "Error al descargar data:image/png;base64,iVBORw0KGgoAAAANSUhEUgAAAAEAAAABCAQAAAC1HAwCAAAAC0lEQVQYV2NgYAAAAAMAAWgmWQ0AAAAASUVORK5CYII=: No connection adapters were found for 'data:image/png;base64,iVBORw0KGgoAAAANSUhEUgAAAAEAAAABCAQAAAC1HAwCAAAAC0lEQVQYV2NgYAAAAAMAAWgmWQ0AAAAASUVORK5CYII='\n",
      "Error al descargar data:image/png;base64,iVBORw0KGgoAAAANSUhEUgAAAAEAAAABCAQAAAC1HAwCAAAAC0lEQVQYV2NgYAAAAAMAAWgmWQ0AAAAASUVORK5CYII=: No connection adapters were found for 'data:image/png;base64,iVBORw0KGgoAAAANSUhEUgAAAAEAAAABCAQAAAC1HAwCAAAAC0lEQVQYV2NgYAAAAAMAAWgmWQ0AAAAASUVORK5CYII='\n",
      "Error al descargar data:image/png;base64,iVBORw0KGgoAAAANSUhEUgAAAAEAAAABCAQAAAC1HAwCAAAAC0lEQVQYV2NgYAAAAAMAAWgmWQ0AAAAASUVORK5CYII=: No connection adapters were found for 'data:image/png;base64,iVBORw0KGgoAAAANSUhEUgAAAAEAAAABCAQAAAC1HAwCAAAAC0lEQVQYV2NgYAAAAAMAAWgmWQ0AAAAASUVORK5CYII='\n",
      "Error al descargar data:image/png;base64,iVBORw0KGgoAAAANSUhEUgAAAAEAAAABCAQAAAC1HAwCAAAAC0lEQVQYV2NgYAAAAAMAAWgmWQ0AAAAASUVORK5CYII=: No connection adapters were found for 'data:image/png;base64,iVBORw0KGgoAAAANSUhEUgAAAAEAAAABCAQAAAC1HAwCAAAAC0lEQVQYV2NgYAAAAAMAAWgmWQ0AAAAASUVORK5CYII='\n",
      "Error al descargar data:image/png;base64,iVBORw0KGgoAAAANSUhEUgAAAAEAAAABCAQAAAC1HAwCAAAAC0lEQVQYV2NgYAAAAAMAAWgmWQ0AAAAASUVORK5CYII=: No connection adapters were found for 'data:image/png;base64,iVBORw0KGgoAAAANSUhEUgAAAAEAAAABCAQAAAC1HAwCAAAAC0lEQVQYV2NgYAAAAAMAAWgmWQ0AAAAASUVORK5CYII='\n",
      "Error al descargar data:image/png;base64,iVBORw0KGgoAAAANSUhEUgAAAAEAAAABCAQAAAC1HAwCAAAAC0lEQVQYV2NgYAAAAAMAAWgmWQ0AAAAASUVORK5CYII=: No connection adapters were found for 'data:image/png;base64,iVBORw0KGgoAAAANSUhEUgAAAAEAAAABCAQAAAC1HAwCAAAAC0lEQVQYV2NgYAAAAAMAAWgmWQ0AAAAASUVORK5CYII='\n",
      "Error al descargar data:image/png;base64,iVBORw0KGgoAAAANSUhEUgAAAAEAAAABCAQAAAC1HAwCAAAAC0lEQVQYV2NgYAAAAAMAAWgmWQ0AAAAASUVORK5CYII=: No connection adapters were found for 'data:image/png;base64,iVBORw0KGgoAAAANSUhEUgAAAAEAAAABCAQAAAC1HAwCAAAAC0lEQVQYV2NgYAAAAAMAAWgmWQ0AAAAASUVORK5CYII='\n",
      "Error al descargar data:image/png;base64,iVBORw0KGgoAAAANSUhEUgAAAAEAAAABCAQAAAC1HAwCAAAAC0lEQVQYV2NgYAAAAAMAAWgmWQ0AAAAASUVORK5CYII=: No connection adapters were found for 'data:image/png;base64,iVBORw0KGgoAAAANSUhEUgAAAAEAAAABCAQAAAC1HAwCAAAAC0lEQVQYV2NgYAAAAAMAAWgmWQ0AAAAASUVORK5CYII='\n",
      "Error al descargar data:image/png;base64,iVBORw0KGgoAAAANSUhEUgAAAAEAAAABCAQAAAC1HAwCAAAAC0lEQVQYV2NgYAAAAAMAAWgmWQ0AAAAASUVORK5CYII=: No connection adapters were found for 'data:image/png;base64,iVBORw0KGgoAAAANSUhEUgAAAAEAAAABCAQAAAC1HAwCAAAAC0lEQVQYV2NgYAAAAAMAAWgmWQ0AAAAASUVORK5CYII='\n",
      "Error al descargar data:image/png;base64,iVBORw0KGgoAAAANSUhEUgAAAAEAAAABCAQAAAC1HAwCAAAAC0lEQVQYV2NgYAAAAAMAAWgmWQ0AAAAASUVORK5CYII=: No connection adapters were found for 'data:image/png;base64,iVBORw0KGgoAAAANSUhEUgAAAAEAAAABCAQAAAC1HAwCAAAAC0lEQVQYV2NgYAAAAAMAAWgmWQ0AAAAASUVORK5CYII='\n",
      "Error al descargar data:image/png;base64,iVBORw0KGgoAAAANSUhEUgAAAAEAAAABCAQAAAC1HAwCAAAAC0lEQVQYV2NgYAAAAAMAAWgmWQ0AAAAASUVORK5CYII=: No connection adapters were found for 'data:image/png;base64,iVBORw0KGgoAAAANSUhEUgAAAAEAAAABCAQAAAC1HAwCAAAAC0lEQVQYV2NgYAAAAAMAAWgmWQ0AAAAASUVORK5CYII='\n",
      "Error al descargar data:image/png;base64,iVBORw0KGgoAAAANSUhEUgAAAAEAAAABCAQAAAC1HAwCAAAAC0lEQVQYV2NgYAAAAAMAAWgmWQ0AAAAASUVORK5CYII=: No connection adapters were found for 'data:image/png;base64,iVBORw0KGgoAAAANSUhEUgAAAAEAAAABCAQAAAC1HAwCAAAAC0lEQVQYV2NgYAAAAAMAAWgmWQ0AAAAASUVORK5CYII='\n",
      "Error al descargar data:image/png;base64,iVBORw0KGgoAAAANSUhEUgAAAAEAAAABCAQAAAC1HAwCAAAAC0lEQVQYV2NgYAAAAAMAAWgmWQ0AAAAASUVORK5CYII=: No connection adapters were found for 'data:image/png;base64,iVBORw0KGgoAAAANSUhEUgAAAAEAAAABCAQAAAC1HAwCAAAAC0lEQVQYV2NgYAAAAAMAAWgmWQ0AAAAASUVORK5CYII='\n",
      "Error al descargar data:image/png;base64,iVBORw0KGgoAAAANSUhEUgAAAAEAAAABCAQAAAC1HAwCAAAAC0lEQVQYV2NgYAAAAAMAAWgmWQ0AAAAASUVORK5CYII=: No connection adapters were found for 'data:image/png;base64,iVBORw0KGgoAAAANSUhEUgAAAAEAAAABCAQAAAC1HAwCAAAAC0lEQVQYV2NgYAAAAAMAAWgmWQ0AAAAASUVORK5CYII='\n",
      "Error al descargar data:image/png;base64,iVBORw0KGgoAAAANSUhEUgAAAAEAAAABCAQAAAC1HAwCAAAAC0lEQVQYV2NgYAAAAAMAAWgmWQ0AAAAASUVORK5CYII=: No connection adapters were found for 'data:image/png;base64,iVBORw0KGgoAAAANSUhEUgAAAAEAAAABCAQAAAC1HAwCAAAAC0lEQVQYV2NgYAAAAAMAAWgmWQ0AAAAASUVORK5CYII='\n",
      "Error al descargar data:image/png;base64,iVBORw0KGgoAAAANSUhEUgAAAAEAAAABCAQAAAC1HAwCAAAAC0lEQVQYV2NgYAAAAAMAAWgmWQ0AAAAASUVORK5CYII=: No connection adapters were found for 'data:image/png;base64,iVBORw0KGgoAAAANSUhEUgAAAAEAAAABCAQAAAC1HAwCAAAAC0lEQVQYV2NgYAAAAAMAAWgmWQ0AAAAASUVORK5CYII='\n",
      "Error al descargar data:image/png;base64,iVBORw0KGgoAAAANSUhEUgAAAAEAAAABCAQAAAC1HAwCAAAAC0lEQVQYV2NgYAAAAAMAAWgmWQ0AAAAASUVORK5CYII=: No connection adapters were found for 'data:image/png;base64,iVBORw0KGgoAAAANSUhEUgAAAAEAAAABCAQAAAC1HAwCAAAAC0lEQVQYV2NgYAAAAAMAAWgmWQ0AAAAASUVORK5CYII='\n",
      "Error al descargar data:image/png;base64,iVBORw0KGgoAAAANSUhEUgAAAAEAAAABCAQAAAC1HAwCAAAAC0lEQVQYV2NgYAAAAAMAAWgmWQ0AAAAASUVORK5CYII=: No connection adapters were found for 'data:image/png;base64,iVBORw0KGgoAAAANSUhEUgAAAAEAAAABCAQAAAC1HAwCAAAAC0lEQVQYV2NgYAAAAAMAAWgmWQ0AAAAASUVORK5CYII='\n",
      "Error al descargar data:image/png;base64,iVBORw0KGgoAAAANSUhEUgAAAAEAAAABCAQAAAC1HAwCAAAAC0lEQVQYV2NgYAAAAAMAAWgmWQ0AAAAASUVORK5CYII=: No connection adapters were found for 'data:image/png;base64,iVBORw0KGgoAAAANSUhEUgAAAAEAAAABCAQAAAC1HAwCAAAAC0lEQVQYV2NgYAAAAAMAAWgmWQ0AAAAASUVORK5CYII='\n",
      "Error al descargar data:image/png;base64,iVBORw0KGgoAAAANSUhEUgAAAAEAAAABCAQAAAC1HAwCAAAAC0lEQVQYV2NgYAAAAAMAAWgmWQ0AAAAASUVORK5CYII=: No connection adapters were found for 'data:image/png;base64,iVBORw0KGgoAAAANSUhEUgAAAAEAAAABCAQAAAC1HAwCAAAAC0lEQVQYV2NgYAAAAAMAAWgmWQ0AAAAASUVORK5CYII='\n",
      "Error al descargar data:image/png;base64,iVBORw0KGgoAAAANSUhEUgAAAAEAAAABCAQAAAC1HAwCAAAAC0lEQVQYV2NgYAAAAAMAAWgmWQ0AAAAASUVORK5CYII=: No connection adapters were found for 'data:image/png;base64,iVBORw0KGgoAAAANSUhEUgAAAAEAAAABCAQAAAC1HAwCAAAAC0lEQVQYV2NgYAAAAAMAAWgmWQ0AAAAASUVORK5CYII='\n",
      "Error al descargar data:image/png;base64,iVBORw0KGgoAAAANSUhEUgAAAAEAAAABCAQAAAC1HAwCAAAAC0lEQVQYV2NgYAAAAAMAAWgmWQ0AAAAASUVORK5CYII=: No connection adapters were found for 'data:image/png;base64,iVBORw0KGgoAAAANSUhEUgAAAAEAAAABCAQAAAC1HAwCAAAAC0lEQVQYV2NgYAAAAAMAAWgmWQ0AAAAASUVORK5CYII='\n",
      "Error al descargar data:image/png;base64,iVBORw0KGgoAAAANSUhEUgAAAAEAAAABCAQAAAC1HAwCAAAAC0lEQVQYV2NgYAAAAAMAAWgmWQ0AAAAASUVORK5CYII=: No connection adapters were found for 'data:image/png;base64,iVBORw0KGgoAAAANSUhEUgAAAAEAAAABCAQAAAC1HAwCAAAAC0lEQVQYV2NgYAAAAAMAAWgmWQ0AAAAASUVORK5CYII='\n",
      "Error al descargar data:image/png;base64,iVBORw0KGgoAAAANSUhEUgAAAAEAAAABCAQAAAC1HAwCAAAAC0lEQVQYV2NgYAAAAAMAAWgmWQ0AAAAASUVORK5CYII=: No connection adapters were found for 'data:image/png;base64,iVBORw0KGgoAAAANSUhEUgAAAAEAAAABCAQAAAC1HAwCAAAAC0lEQVQYV2NgYAAAAAMAAWgmWQ0AAAAASUVORK5CYII='\n",
      "Error al descargar data:image/png;base64,iVBORw0KGgoAAAANSUhEUgAAAAEAAAABCAQAAAC1HAwCAAAAC0lEQVQYV2NgYAAAAAMAAWgmWQ0AAAAASUVORK5CYII=: No connection adapters were found for 'data:image/png;base64,iVBORw0KGgoAAAANSUhEUgAAAAEAAAABCAQAAAC1HAwCAAAAC0lEQVQYV2NgYAAAAAMAAWgmWQ0AAAAASUVORK5CYII='\n",
      "Error al descargar data:image/png;base64,iVBORw0KGgoAAAANSUhEUgAAAAEAAAABCAQAAAC1HAwCAAAAC0lEQVQYV2NgYAAAAAMAAWgmWQ0AAAAASUVORK5CYII=: No connection adapters were found for 'data:image/png;base64,iVBORw0KGgoAAAANSUhEUgAAAAEAAAABCAQAAAC1HAwCAAAAC0lEQVQYV2NgYAAAAAMAAWgmWQ0AAAAASUVORK5CYII='\n",
      "Error al descargar data:image/png;base64,iVBORw0KGgoAAAANSUhEUgAAAAEAAAABCAQAAAC1HAwCAAAAC0lEQVQYV2NgYAAAAAMAAWgmWQ0AAAAASUVORK5CYII=: No connection adapters were found for 'data:image/png;base64,iVBORw0KGgoAAAANSUhEUgAAAAEAAAABCAQAAAC1HAwCAAAAC0lEQVQYV2NgYAAAAAMAAWgmWQ0AAAAASUVORK5CYII='\n",
      "Error al descargar data:image/png;base64,iVBORw0KGgoAAAANSUhEUgAAAAEAAAABCAQAAAC1HAwCAAAAC0lEQVQYV2NgYAAAAAMAAWgmWQ0AAAAASUVORK5CYII=: No connection adapters were found for 'data:image/png;base64,iVBORw0KGgoAAAANSUhEUgAAAAEAAAABCAQAAAC1HAwCAAAAC0lEQVQYV2NgYAAAAAMAAWgmWQ0AAAAASUVORK5CYII='\n",
      "Error al descargar data:image/png;base64,iVBORw0KGgoAAAANSUhEUgAAAAEAAAABCAQAAAC1HAwCAAAAC0lEQVQYV2NgYAAAAAMAAWgmWQ0AAAAASUVORK5CYII=: No connection adapters were found for 'data:image/png;base64,iVBORw0KGgoAAAANSUhEUgAAAAEAAAABCAQAAAC1HAwCAAAAC0lEQVQYV2NgYAAAAAMAAWgmWQ0AAAAASUVORK5CYII='\n",
      "Error al descargar data:image/png;base64,iVBORw0KGgoAAAANSUhEUgAAAAEAAAABCAQAAAC1HAwCAAAAC0lEQVQYV2NgYAAAAAMAAWgmWQ0AAAAASUVORK5CYII=: No connection adapters were found for 'data:image/png;base64,iVBORw0KGgoAAAANSUhEUgAAAAEAAAABCAQAAAC1HAwCAAAAC0lEQVQYV2NgYAAAAAMAAWgmWQ0AAAAASUVORK5CYII='\n",
      "Error al descargar data:image/png;base64,iVBORw0KGgoAAAANSUhEUgAAAAEAAAABCAQAAAC1HAwCAAAAC0lEQVQYV2NgYAAAAAMAAWgmWQ0AAAAASUVORK5CYII=: No connection adapters were found for 'data:image/png;base64,iVBORw0KGgoAAAANSUhEUgAAAAEAAAABCAQAAAC1HAwCAAAAC0lEQVQYV2NgYAAAAAMAAWgmWQ0AAAAASUVORK5CYII='\n",
      "Error al descargar data:image/png;base64,iVBORw0KGgoAAAANSUhEUgAAAAEAAAABCAQAAAC1HAwCAAAAC0lEQVQYV2NgYAAAAAMAAWgmWQ0AAAAASUVORK5CYII=: No connection adapters were found for 'data:image/png;base64,iVBORw0KGgoAAAANSUhEUgAAAAEAAAABCAQAAAC1HAwCAAAAC0lEQVQYV2NgYAAAAAMAAWgmWQ0AAAAASUVORK5CYII='\n",
      "Error al descargar data:image/png;base64,iVBORw0KGgoAAAANSUhEUgAAAAEAAAABCAQAAAC1HAwCAAAAC0lEQVQYV2NgYAAAAAMAAWgmWQ0AAAAASUVORK5CYII=: No connection adapters were found for 'data:image/png;base64,iVBORw0KGgoAAAANSUhEUgAAAAEAAAABCAQAAAC1HAwCAAAAC0lEQVQYV2NgYAAAAAMAAWgmWQ0AAAAASUVORK5CYII='\n",
      "Error al descargar data:image/png;base64,iVBORw0KGgoAAAANSUhEUgAAAAEAAAABCAQAAAC1HAwCAAAAC0lEQVQYV2NgYAAAAAMAAWgmWQ0AAAAASUVORK5CYII=: No connection adapters were found for 'data:image/png;base64,iVBORw0KGgoAAAANSUhEUgAAAAEAAAABCAQAAAC1HAwCAAAAC0lEQVQYV2NgYAAAAAMAAWgmWQ0AAAAASUVORK5CYII='\n",
      "Error al descargar data:image/png;base64,iVBORw0KGgoAAAANSUhEUgAAAAEAAAABCAQAAAC1HAwCAAAAC0lEQVQYV2NgYAAAAAMAAWgmWQ0AAAAASUVORK5CYII=: No connection adapters were found for 'data:image/png;base64,iVBORw0KGgoAAAANSUhEUgAAAAEAAAABCAQAAAC1HAwCAAAAC0lEQVQYV2NgYAAAAAMAAWgmWQ0AAAAASUVORK5CYII='\n",
      "Error al descargar data:image/png;base64,iVBORw0KGgoAAAANSUhEUgAAAAEAAAABCAQAAAC1HAwCAAAAC0lEQVQYV2NgYAAAAAMAAWgmWQ0AAAAASUVORK5CYII=: No connection adapters were found for 'data:image/png;base64,iVBORw0KGgoAAAANSUhEUgAAAAEAAAABCAQAAAC1HAwCAAAAC0lEQVQYV2NgYAAAAAMAAWgmWQ0AAAAASUVORK5CYII='\n",
      "Error al descargar data:image/png;base64,iVBORw0KGgoAAAANSUhEUgAAAAEAAAABCAQAAAC1HAwCAAAAC0lEQVQYV2NgYAAAAAMAAWgmWQ0AAAAASUVORK5CYII=: No connection adapters were found for 'data:image/png;base64,iVBORw0KGgoAAAANSUhEUgAAAAEAAAABCAQAAAC1HAwCAAAAC0lEQVQYV2NgYAAAAAMAAWgmWQ0AAAAASUVORK5CYII='\n",
      "Error al descargar data:image/png;base64,iVBORw0KGgoAAAANSUhEUgAAAAEAAAABCAQAAAC1HAwCAAAAC0lEQVQYV2NgYAAAAAMAAWgmWQ0AAAAASUVORK5CYII=: No connection adapters were found for 'data:image/png;base64,iVBORw0KGgoAAAANSUhEUgAAAAEAAAABCAQAAAC1HAwCAAAAC0lEQVQYV2NgYAAAAAMAAWgmWQ0AAAAASUVORK5CYII='\n",
      "Error al descargar data:image/png;base64,iVBORw0KGgoAAAANSUhEUgAAAAEAAAABCAQAAAC1HAwCAAAAC0lEQVQYV2NgYAAAAAMAAWgmWQ0AAAAASUVORK5CYII=: No connection adapters were found for 'data:image/png;base64,iVBORw0KGgoAAAANSUhEUgAAAAEAAAABCAQAAAC1HAwCAAAAC0lEQVQYV2NgYAAAAAMAAWgmWQ0AAAAASUVORK5CYII='\n",
      "Error al descargar data:image/png;base64,iVBORw0KGgoAAAANSUhEUgAAAAEAAAABCAQAAAC1HAwCAAAAC0lEQVQYV2NgYAAAAAMAAWgmWQ0AAAAASUVORK5CYII=: No connection adapters were found for 'data:image/png;base64,iVBORw0KGgoAAAANSUhEUgAAAAEAAAABCAQAAAC1HAwCAAAAC0lEQVQYV2NgYAAAAAMAAWgmWQ0AAAAASUVORK5CYII='\n",
      "Error al descargar data:image/png;base64,iVBORw0KGgoAAAANSUhEUgAAAAEAAAABCAQAAAC1HAwCAAAAC0lEQVQYV2NgYAAAAAMAAWgmWQ0AAAAASUVORK5CYII=: No connection adapters were found for 'data:image/png;base64,iVBORw0KGgoAAAANSUhEUgAAAAEAAAABCAQAAAC1HAwCAAAAC0lEQVQYV2NgYAAAAAMAAWgmWQ0AAAAASUVORK5CYII='\n",
      "Error al descargar data:image/png;base64,iVBORw0KGgoAAAANSUhEUgAAAAEAAAABCAQAAAC1HAwCAAAAC0lEQVQYV2NgYAAAAAMAAWgmWQ0AAAAASUVORK5CYII=: No connection adapters were found for 'data:image/png;base64,iVBORw0KGgoAAAANSUhEUgAAAAEAAAABCAQAAAC1HAwCAAAAC0lEQVQYV2NgYAAAAAMAAWgmWQ0AAAAASUVORK5CYII='\n",
      "Error al descargar data:image/png;base64,iVBORw0KGgoAAAANSUhEUgAAAAEAAAABCAQAAAC1HAwCAAAAC0lEQVQYV2NgYAAAAAMAAWgmWQ0AAAAASUVORK5CYII=: No connection adapters were found for 'data:image/png;base64,iVBORw0KGgoAAAANSUhEUgAAAAEAAAABCAQAAAC1HAwCAAAAC0lEQVQYV2NgYAAAAAMAAWgmWQ0AAAAASUVORK5CYII='\n",
      "Error al descargar data:image/png;base64,iVBORw0KGgoAAAANSUhEUgAAAAEAAAABCAQAAAC1HAwCAAAAC0lEQVQYV2NgYAAAAAMAAWgmWQ0AAAAASUVORK5CYII=: No connection adapters were found for 'data:image/png;base64,iVBORw0KGgoAAAANSUhEUgAAAAEAAAABCAQAAAC1HAwCAAAAC0lEQVQYV2NgYAAAAAMAAWgmWQ0AAAAASUVORK5CYII='\n",
      "Error al descargar data:image/png;base64,iVBORw0KGgoAAAANSUhEUgAAAAEAAAABCAQAAAC1HAwCAAAAC0lEQVQYV2NgYAAAAAMAAWgmWQ0AAAAASUVORK5CYII=: No connection adapters were found for 'data:image/png;base64,iVBORw0KGgoAAAANSUhEUgAAAAEAAAABCAQAAAC1HAwCAAAAC0lEQVQYV2NgYAAAAAMAAWgmWQ0AAAAASUVORK5CYII='\n",
      "Error al descargar data:image/png;base64,iVBORw0KGgoAAAANSUhEUgAAAAEAAAABCAQAAAC1HAwCAAAAC0lEQVQYV2NgYAAAAAMAAWgmWQ0AAAAASUVORK5CYII=: No connection adapters were found for 'data:image/png;base64,iVBORw0KGgoAAAANSUhEUgAAAAEAAAABCAQAAAC1HAwCAAAAC0lEQVQYV2NgYAAAAAMAAWgmWQ0AAAAASUVORK5CYII='\n",
      "Error al descargar data:image/png;base64,iVBORw0KGgoAAAANSUhEUgAAAAEAAAABCAQAAAC1HAwCAAAAC0lEQVQYV2NgYAAAAAMAAWgmWQ0AAAAASUVORK5CYII=: No connection adapters were found for 'data:image/png;base64,iVBORw0KGgoAAAANSUhEUgAAAAEAAAABCAQAAAC1HAwCAAAAC0lEQVQYV2NgYAAAAAMAAWgmWQ0AAAAASUVORK5CYII='\n",
      "Error al descargar data:image/png;base64,iVBORw0KGgoAAAANSUhEUgAAAAEAAAABCAQAAAC1HAwCAAAAC0lEQVQYV2NgYAAAAAMAAWgmWQ0AAAAASUVORK5CYII=: No connection adapters were found for 'data:image/png;base64,iVBORw0KGgoAAAANSUhEUgAAAAEAAAABCAQAAAC1HAwCAAAAC0lEQVQYV2NgYAAAAAMAAWgmWQ0AAAAASUVORK5CYII='\n",
      "Error al descargar data:image/png;base64,iVBORw0KGgoAAAANSUhEUgAAAAEAAAABCAQAAAC1HAwCAAAAC0lEQVQYV2NgYAAAAAMAAWgmWQ0AAAAASUVORK5CYII=: No connection adapters were found for 'data:image/png;base64,iVBORw0KGgoAAAANSUhEUgAAAAEAAAABCAQAAAC1HAwCAAAAC0lEQVQYV2NgYAAAAAMAAWgmWQ0AAAAASUVORK5CYII='\n"
     ]
    },
    {
     "name": "stderr",
     "output_type": "stream",
     "text": [
      "Procesando imágenes de https://www.pngwing.com/es/search?q=manzanilla: 100%|██████████| 61/61 [00:00<00:00, 234.16it/s]\n"
     ]
    },
    {
     "name": "stdout",
     "output_type": "stream",
     "text": [
      "Error al descargar https://www.pngwing.com/public/css/pngwing.svg: cannot identify image file <_io.BytesIO object at 0x00000220321204A0>\n"
     ]
    },
    {
     "name": "stderr",
     "output_type": "stream",
     "text": [
      "Procesando imágenes de https://es.pngtree.com/free-backgrounds-photos/la-manzanilla: 0it [00:00, ?it/s]\n"
     ]
    },
    {
     "name": "stdout",
     "output_type": "stream",
     "text": [
      "Error al descargar /archivos/201611/registrarse.png?1: Invalid URL '/archivos/201611/registrarse.png?1': No scheme supplied. Perhaps you meant https:///archivos/201611/registrarse.png?1?\n",
      "Error al descargar /archivos/201509/banner-amoros.gif?2: Invalid URL '/archivos/201509/banner-amoros.gif?2': No scheme supplied. Perhaps you meant https:///archivos/201509/banner-amoros.gif?2?\n",
      "Error al descargar /archivos/202403/tutoriales-fitoterapia.png?1: Invalid URL '/archivos/202403/tutoriales-fitoterapia.png?1': No scheme supplied. Perhaps you meant https:///archivos/202403/tutoriales-fitoterapia.png?1?\n",
      "Error al descargar /archivos/201911/chamomilla.recutita-750x858x80xX-1.jpg?1: Invalid URL '/archivos/201911/chamomilla.recutita-750x858x80xX-1.jpg?1': No scheme supplied. Perhaps you meant https:///archivos/201911/chamomilla.recutita-750x858x80xX-1.jpg?1?\n",
      "Error al descargar /archivos/201912/matricaria-chamomillascf00545-750x858x80xX.jpg?1: Invalid URL '/archivos/201912/matricaria-chamomillascf00545-750x858x80xX.jpg?1': No scheme supplied. Perhaps you meant https:///archivos/201912/matricaria-chamomillascf00545-750x858x80xX.jpg?1?\n",
      "Error al descargar /archivos/202001/matricaria_chamomilla_keilas-750x858x80xX.jpg?1: Invalid URL '/archivos/202001/matricaria_chamomilla_keilas-750x858x80xX.jpg?1': No scheme supplied. Perhaps you meant https:///archivos/202001/matricaria_chamomilla_keilas-750x858x80xX.jpg?1?\n",
      "Error al descargar /archivos/202001/matricaria_chamomilla_sl5-750x858x80xX.jpg?1: Invalid URL '/archivos/202001/matricaria_chamomilla_sl5-750x858x80xX.jpg?1': No scheme supplied. Perhaps you meant https:///archivos/202001/matricaria_chamomilla_sl5-750x858x80xX.jpg?1?\n",
      "Error al descargar /rediseno/assets/img/logo.png: Invalid URL '/rediseno/assets/img/logo.png': No scheme supplied. Perhaps you meant https:///rediseno/assets/img/logo.png?\n",
      "Error al descargar /archivos/202001/matricaria_chamomilla_sl10-750x858x80xX.jpg?1: Invalid URL '/archivos/202001/matricaria_chamomilla_sl10-750x858x80xX.jpg?1': No scheme supplied. Perhaps you meant https:///archivos/202001/matricaria_chamomilla_sl10-750x858x80xX.jpg?1?\n",
      "Error al descargar /archivos/202001/matricaria_chamomilla_sl9-750x858x80xX.jpg?1: Invalid URL '/archivos/202001/matricaria_chamomilla_sl9-750x858x80xX.jpg?1': No scheme supplied. Perhaps you meant https:///archivos/202001/matricaria_chamomilla_sl9-750x858x80xX.jpg?1?\n",
      "Error al descargar /archivos/201911/chamomilla.recutita-1920xXx80xX-1.jpg?1: Invalid URL '/archivos/201911/chamomilla.recutita-1920xXx80xX-1.jpg?1': No scheme supplied. Perhaps you meant https:///archivos/201911/chamomilla.recutita-1920xXx80xX-1.jpg?1?\n",
      "Error al descargar /archivos/202001/matricaria_recutita_koehler-750x858x80xX.jpg?1: Invalid URL '/archivos/202001/matricaria_recutita_koehler-750x858x80xX.jpg?1': No scheme supplied. Perhaps you meant https:///archivos/202001/matricaria_recutita_koehler-750x858x80xX.jpg?1?\n",
      "Error al descargar /archivos/202001/matricaria_chamomilla_keilas-1920xXx80xX.jpg?1: Invalid URL '/archivos/202001/matricaria_chamomilla_keilas-1920xXx80xX.jpg?1': No scheme supplied. Perhaps you meant https:///archivos/202001/matricaria_chamomilla_keilas-1920xXx80xX.jpg?1?\n",
      "Error al descargar /archivos/202001/matricaria_chamomilla_sl5-1920xXx80xX.jpg?1: Invalid URL '/archivos/202001/matricaria_chamomilla_sl5-1920xXx80xX.jpg?1': No scheme supplied. Perhaps you meant https:///archivos/202001/matricaria_chamomilla_sl5-1920xXx80xX.jpg?1?\n",
      "Error al descargar /archivos/202001/matricaria_chamomilla_sl9-1920xXx80xX.jpg?1: Invalid URL '/archivos/202001/matricaria_chamomilla_sl9-1920xXx80xX.jpg?1': No scheme supplied. Perhaps you meant https:///archivos/202001/matricaria_chamomilla_sl9-1920xXx80xX.jpg?1?\n",
      "Error al descargar /archivos/202001/matricaria_chamomilla_sl10-1920xXx80xX.jpg?1: Invalid URL '/archivos/202001/matricaria_chamomilla_sl10-1920xXx80xX.jpg?1': No scheme supplied. Perhaps you meant https:///archivos/202001/matricaria_chamomilla_sl10-1920xXx80xX.jpg?1?\n",
      "Error al descargar /archivos/202001/matricaria_recutita_koehler-1920xXx80xX.jpg?1: Invalid URL '/archivos/202001/matricaria_recutita_koehler-1920xXx80xX.jpg?1': No scheme supplied. Perhaps you meant https:///archivos/202001/matricaria_recutita_koehler-1920xXx80xX.jpg?1?\n",
      "Error al descargar /img/ico-usuario-no-registrado.gif: Invalid URL '/img/ico-usuario-no-registrado.gif': No scheme supplied. Perhaps you meant https:///img/ico-usuario-no-registrado.gif?\n",
      "Error al descargar /img/ico-usuario-no-registrado.gif: Invalid URL '/img/ico-usuario-no-registrado.gif': No scheme supplied. Perhaps you meant https:///img/ico-usuario-no-registrado.gif?\n",
      "Error al descargar /img/ico-usuario-no-registrado.gif: Invalid URL '/img/ico-usuario-no-registrado.gif': No scheme supplied. Perhaps you meant https:///img/ico-usuario-no-registrado.gif?\n",
      "Error al descargar /img/ico-usuario-no-registrado.gif: Invalid URL '/img/ico-usuario-no-registrado.gif': No scheme supplied. Perhaps you meant https:///img/ico-usuario-no-registrado.gif?\n",
      "Error al descargar /archivos/201912/matricaria-chamomillascf00545-1920xXx80xX.jpg?1: Invalid URL '/archivos/201912/matricaria-chamomillascf00545-1920xXx80xX.jpg?1': No scheme supplied. Perhaps you meant https:///archivos/201912/matricaria-chamomillascf00545-1920xXx80xX.jpg?1?\n",
      "Error al descargar /img/ico-usuario-no-registrado.gif: Invalid URL '/img/ico-usuario-no-registrado.gif': No scheme supplied. Perhaps you meant https:///img/ico-usuario-no-registrado.gif?\n",
      "Error al descargar /img/ico-usuario-no-registrado.gif: Invalid URL '/img/ico-usuario-no-registrado.gif': No scheme supplied. Perhaps you meant https:///img/ico-usuario-no-registrado.gif?\n",
      "Error al descargar /img/ico-usuario-no-registrado.gif: Invalid URL '/img/ico-usuario-no-registrado.gif': No scheme supplied. Perhaps you meant https:///img/ico-usuario-no-registrado.gif?\n",
      "Error al descargar /img/ico-usuario-no-registrado.gif: Invalid URL '/img/ico-usuario-no-registrado.gif': No scheme supplied. Perhaps you meant https:///img/ico-usuario-no-registrado.gif?\n",
      "Error al descargar /img/ico-usuario-no-registrado.gif: Invalid URL '/img/ico-usuario-no-registrado.gif': No scheme supplied. Perhaps you meant https:///img/ico-usuario-no-registrado.gif?\n"
     ]
    },
    {
     "name": "stderr",
     "output_type": "stream",
     "text": [
      "Procesando imágenes de https://www.fitoterapia.net/vademecum/plantas/manzanilla.html: 100%|██████████| 28/28 [00:00<00:00, 42.37it/s]\n",
      "Procesando imágenes de https://es.123rf.com/imagenes-de-archivo/planta_de_manzanilla.html:   4%|▎         | 11/298 [00:00<00:07, 36.12it/s]"
     ]
    },
    {
     "name": "stdout",
     "output_type": "stream",
     "text": [
      "Error al descargar https://assets-cdn.123rf.com/ui-components/assets/svg/chevron-down.svg: cannot identify image file <_io.BytesIO object at 0x0000022032120630>\n",
      "Error al descargar https://assets-cdn.123rf.com/ui-components/assets/svg/ai-img-generator.svg: cannot identify image file <_io.BytesIO object at 0x0000022032124090>\n",
      "Error al descargar https://assets-cdn.123rf.com/ui-components/assets/svg/ai-sketch.svg: cannot identify image file <_io.BytesIO object at 0x0000022032120220>\n",
      "Error al descargar https://assets-cdn.123rf.com/ui-components/assets/svg/ai-face-swap.svg: cannot identify image file <_io.BytesIO object at 0x0000022032120130>\n",
      "Error al descargar https://assets-cdn.123rf.com/ui-components/assets/svg/gradient/123rf-logo-gradient.svg: cannot identify image file <_io.BytesIO object at 0x0000022032120EA0>\n",
      "Error al descargar https://assets-cdn.123rf.com/ui-components/assets/svg/ai-img-upscaler.svg: cannot identify image file <_io.BytesIO object at 0x00000220321201D0>\n"
     ]
    },
    {
     "name": "stderr",
     "output_type": "stream",
     "text": [
      "Procesando imágenes de https://es.123rf.com/imagenes-de-archivo/planta_de_manzanilla.html:   6%|▌         | 17/298 [00:00<00:07, 39.78it/s]"
     ]
    },
    {
     "name": "stdout",
     "output_type": "stream",
     "text": [
      "Error al descargar https://assets-cdn.123rf.com/ui-components/assets/svg/ai-generative-fill.svg: cannot identify image file <_io.BytesIO object at 0x0000022032120540>Error al descargar https://assets-cdn.123rf.com/ui-components/assets/svg/ai-bg-blur.svg: cannot identify image file <_io.BytesIO object at 0x00000220321204F0>\n",
      "\n",
      "Error al descargar https://assets-cdn.123rf.com/ui-components/assets/svg/ai-bg-remix.svg: cannot identify image file <_io.BytesIO object at 0x0000022032124B80>\n",
      "Error al descargar https://assets-cdn.123rf.com/ui-components/assets/svg/ai-img-extender.svg: cannot identify image file <_io.BytesIO object at 0x00000220311CBF10>\n",
      "Error al descargar https://assets-cdn.123rf.com/ui-components/assets/svg/ai-writer.svg: cannot identify image file <_io.BytesIO object at 0x00000220321248B0>\n",
      "Error al descargar https://assets-cdn.123rf.com/ui-components/assets/svg/ai-bg-removal.svg: cannot identify image file <_io.BytesIO object at 0x00000220321247C0>\n"
     ]
    },
    {
     "name": "stderr",
     "output_type": "stream",
     "text": [
      "Procesando imágenes de https://es.123rf.com/imagenes-de-archivo/planta_de_manzanilla.html:  11%|█         | 32/298 [00:00<00:06, 43.56it/s]"
     ]
    },
    {
     "name": "stdout",
     "output_type": "stream",
     "text": [
      "Error al descargar https://assets-cdn.123rf.com/ui-components/assets/svg/tick.svg: cannot identify image file <_io.BytesIO object at 0x0000022032120220>\n",
      "Error al descargar https://assets-cdn.123rf.com/ui-components/assets/svg/tick.svg: cannot identify image file <_io.BytesIO object at 0x0000022030D7FA60>\n",
      "Error al descargar https://assets-cdn.123rf.com/ui-components/assets/svg/chevron-down.svg: cannot identify image file <_io.BytesIO object at 0x00000220321204F0>\n",
      "Error al descargar https://assets-cdn.123rf.com/ui-components/assets/svg/chevron-down.svg: cannot identify image file <_io.BytesIO object at 0x0000022030D7E660>\n",
      "Error al descargar https://assets-cdn.123rf.com/ui-components/assets/images/plus-upsell-ai-v3.png: cannot write mode P as JPEG\n",
      "Error al descargar https://assets-cdn.123rf.com/ui-components/assets/svg/tick.svg: cannot identify image file <_io.BytesIO object at 0x0000022032124B80>\n",
      "Error al descargar https://assets-cdn.123rf.com/ui-components/assets/svg/tick.svg: cannot identify image file <_io.BytesIO object at 0x00000220311CBE70>\n",
      "Error al descargar https://assets-cdn.123rf.com/ui-components/assets/svg/tick.svg: cannot identify image file <_io.BytesIO object at 0x0000022032124900>\n",
      "Error al descargar https://assets-cdn.123rf.com/ui-components/assets/svg/tick.svg: cannot identify image file <_io.BytesIO object at 0x0000022031208090>\n",
      "Error al descargar https://assets-cdn.123rf.com/ui-components/assets/svg/tick.svg: cannot identify image file <_io.BytesIO object at 0x0000022031C80CC0>\n"
     ]
    },
    {
     "name": "stderr",
     "output_type": "stream",
     "text": [
      "Procesando imágenes de https://es.123rf.com/imagenes-de-archivo/planta_de_manzanilla.html:  13%|█▎        | 38/298 [00:00<00:05, 44.59it/s]"
     ]
    },
    {
     "name": "stdout",
     "output_type": "stream",
     "text": [
      "Error al descargar https://assets-cdn.123rf.com/ui-components/assets/svg/tick.svg: cannot identify image file <_io.BytesIO object at 0x00000220311A33D0>\n",
      "Error al descargar https://assets-cdn.123rf.com/ui-components/assets/svg/tick.svg: cannot identify image file <_io.BytesIO object at 0x00000220311CBFB0>\n",
      "Error al descargar https://assets-cdn.123rf.com/ui-components/assets/svg/tick.svg: cannot identify image file <_io.BytesIO object at 0x0000022032120540>\n",
      "Error al descargar https://assets-cdn.123rf.com/ui-components/assets/svg/tick.svg: cannot identify image file <_io.BytesIO object at 0x0000022032120130>\n",
      "Error al descargar https://assets-cdn.123rf.com/ui-components/assets/svg/tick.svg: cannot identify image file <_io.BytesIO object at 0x0000022032120630>\n",
      "Error al descargar https://assets-cdn.123rf.com/ui-components/assets/svg/tick.svg: cannot identify image file <_io.BytesIO object at 0x00000220318C1B20>\n",
      "Error al descargar https://assets-cdn.123rf.com/ui-components/assets/svg/tick.svg: cannot identify image file <_io.BytesIO object at 0x00000220311CBF10>\n",
      "Error al descargar https://assets-cdn.123rf.com/ui-components/assets/svg/tick.svg: cannot identify image file <_io.BytesIO object at 0x00000220311CBE70>\n",
      "Error al descargar https://assets-cdn.123rf.com/ui-components/assets/svg/menu.svg: cannot identify image file <_io.BytesIO object at 0x0000022032124590>\n",
      "Error al descargar https://assets-cdn.123rf.com/ui-components/assets/svg/camera.svg: cannot identify image file <_io.BytesIO object at 0x0000022031C80CC0>\n"
     ]
    },
    {
     "name": "stderr",
     "output_type": "stream",
     "text": [
      "Procesando imágenes de https://es.123rf.com/imagenes-de-archivo/planta_de_manzanilla.html:  17%|█▋        | 51/298 [00:01<00:05, 47.07it/s]"
     ]
    },
    {
     "name": "stdout",
     "output_type": "stream",
     "text": [
      "Error al descargar https://assets-cdn.123rf.com/ui-components/assets/svg/upload.svg: cannot identify image file <_io.BytesIO object at 0x00000220311A3C40>\n",
      "Error al descargar https://assets-cdn.123rf.com/ui-components/assets/svg/close.svg: cannot identify image file <_io.BytesIO object at 0x0000022032124310>\n",
      "Error al descargar https://assets-cdn.123rf.com/ui-components/assets/svg/chevron-down.svg: cannot identify image file <_io.BytesIO object at 0x00000220311A3E70>\n",
      "Error al descargar https://assets-cdn.123rf.com/ui-components/assets/svg/close.svg: cannot identify image file <_io.BytesIO object at 0x0000022032120630>\n",
      "Error al descargar https://assets-cdn.123rf.com/ui-components/assets/svg/all-images.svg: cannot identify image file <_io.BytesIO object at 0x00000220321204F0>\n",
      "Error al descargar https://assets-cdn.123rf.com/ui-components/assets/svg/camera.svg: cannot identify image file <_io.BytesIO object at 0x00000220311C5DA0>\n",
      "Error al descargar https://assets-cdn.123rf.com/ui-components/assets/svg/all-images.svg: cannot identify image file <_io.BytesIO object at 0x00000220311A3740>\n",
      "Error al descargar https://assets-cdn.123rf.com/ui-components/assets/svg/premium.svg: cannot identify image file <_io.BytesIO object at 0x00000220311C49F0>\n",
      "Error al descargar https://assets-cdn.123rf.com/ui-components/assets/svg/photos.svg: cannot identify image file <_io.BytesIO object at 0x0000022031B9E110>\n",
      "Error al descargar https://assets-cdn.123rf.com/ui-components/assets/svg/vector.svg: cannot identify image file <_io.BytesIO object at 0x0000022031C80CC0>\n"
     ]
    },
    {
     "name": "stderr",
     "output_type": "stream",
     "text": [
      "Procesando imágenes de https://es.123rf.com/imagenes-de-archivo/planta_de_manzanilla.html:  21%|██        | 63/298 [00:01<00:05, 43.25it/s]"
     ]
    },
    {
     "name": "stdout",
     "output_type": "stream",
     "text": [
      "Error al descargar https://assets-cdn.123rf.com/ui-components/assets/svg/footage.svg: cannot identify image file <_io.BytesIO object at 0x00000220321244A0>\n",
      "Error al descargar https://assets-cdn.123rf.com/ui-components/assets/svg/audio.svg: cannot identify image file <_io.BytesIO object at 0x00000220311C9940>\n",
      "Error al descargar https://assets-cdn.123rf.com/ui-components/assets/svg/ai-img-generator.svg: cannot identify image file <_io.BytesIO object at 0x0000022032120540>\n",
      "Error al descargar https://assets-cdn.123rf.com/ui-components/assets/svg/font-v2.svg: cannot identify image file <_io.BytesIO object at 0x0000022031208090>\n",
      "Error al descargar https://assets-cdn.123rf.com/ui-components/assets/svg/plus.svg: cannot identify image file <_io.BytesIO object at 0x0000022032120130>\n",
      "Error al descargar https://assets-cdn.123rf.com/ui-components/assets/svg/free.svg: cannot identify image file <_io.BytesIO object at 0x00000220311C5DA0>\n",
      "Error al descargar https://assets-cdn.123rf.com/ui-components/assets/svg/search.svg: cannot identify image file <_io.BytesIO object at 0x00000220311C4950>\n",
      "Error al descargar https://assets-cdn.123rf.com/ui-components/assets/svg/gradient/premium-crown-gradient2.svg: cannot identify image file <_io.BytesIO object at 0x0000022032120EA0>\n",
      "Error al descargar https://assets-cdn.123rf.com/ui-components/assets/svg/collection.svg: cannot identify image file <_io.BytesIO object at 0x0000022032124630>\n"
     ]
    },
    {
     "name": "stderr",
     "output_type": "stream",
     "text": [
      "Procesando imágenes de https://es.123rf.com/imagenes-de-archivo/planta_de_manzanilla.html:  23%|██▎       | 68/298 [00:01<00:06, 35.48it/s]"
     ]
    },
    {
     "name": "stdout",
     "output_type": "stream",
     "text": [
      "Error al descargar https://assets-cdn.123rf.com/ui-components/assets/svg/gradient/premium-crown-gradient2.svg: cannot identify image file <_io.BytesIO object at 0x0000022032120220>\n",
      "Error al descargar https://assets-cdn.123rf.com/ui-components/assets/svg/collection.svg: cannot identify image file <_io.BytesIO object at 0x00000220311C5AD0>\n",
      "Error al descargar https://assets-cdn.123rf.com/ui-components/assets/svg/gradient/premium-crown-gradient2.svg: cannot identify image file <_io.BytesIO object at 0x00000220311C4B80>\n",
      "Error al descargar https://assets-cdn.123rf.com/ui-components/assets/svg/collection.svg: cannot identify image file <_io.BytesIO object at 0x00000220311CBF10>\n",
      "Error al descargar https://assets-cdn.123rf.com/ui-components/assets/svg/collection.svg: cannot identify image file <_io.BytesIO object at 0x0000022031193DD0>\n",
      "Error al descargar https://assets-cdn.123rf.com/ui-components/assets/svg/gradient/premium-crown-gradient2.svg: cannot identify image file <_io.BytesIO object at 0x0000022031C80CC0>\n",
      "Error al descargar https://assets-cdn.123rf.com/ui-components/assets/svg/collection.svg: cannot identify image file <_io.BytesIO object at 0x00000220318C3510>\n"
     ]
    },
    {
     "name": "stderr",
     "output_type": "stream",
     "text": [
      "Procesando imágenes de https://es.123rf.com/imagenes-de-archivo/planta_de_manzanilla.html:  27%|██▋       | 81/298 [00:02<00:04, 43.48it/s]"
     ]
    },
    {
     "name": "stdout",
     "output_type": "stream",
     "text": [
      "Error al descargar https://assets-cdn.123rf.com/ui-components/assets/svg/collection.svg: cannot identify image file <_io.BytesIO object at 0x00000220311C9940>\n",
      "Error al descargar https://assets-cdn.123rf.com/ui-components/assets/svg/gradient/premium-crown-gradient2.svg: cannot identify image file <_io.BytesIO object at 0x0000022030D7E660>\n",
      "Error al descargar https://assets-cdn.123rf.com/ui-components/assets/svg/collection.svg: cannot identify image file <_io.BytesIO object at 0x00000220311A31F0>\n",
      "Error al descargar https://assets-cdn.123rf.com/ui-components/assets/svg/gradient/premium-crown-gradient2.svg: cannot identify image file <_io.BytesIO object at 0x0000022032124720>\n",
      "Error al descargar https://assets-cdn.123rf.com/ui-components/assets/svg/collection.svg: cannot identify image file <_io.BytesIO object at 0x0000022030D7FA60>\n",
      "Error al descargar https://assets-cdn.123rf.com/ui-components/assets/svg/collection.svg: cannot identify image file <_io.BytesIO object at 0x00000220311C4E50>\n",
      "Error al descargar https://assets-cdn.123rf.com/ui-components/assets/svg/gradient/premium-crown-gradient2.svg: cannot identify image file <_io.BytesIO object at 0x00000220321247C0>\n"
     ]
    },
    {
     "name": "stderr",
     "output_type": "stream",
     "text": [
      "Procesando imágenes de https://es.123rf.com/imagenes-de-archivo/planta_de_manzanilla.html:  31%|███       | 93/298 [00:02<00:04, 43.12it/s]"
     ]
    },
    {
     "name": "stdout",
     "output_type": "stream",
     "text": [
      "Error al descargar https://assets-cdn.123rf.com/ui-components/assets/svg/collection.svg: cannot identify image file <_io.BytesIO object at 0x0000022032120220>\n",
      "Error al descargar https://assets-cdn.123rf.com/ui-components/assets/svg/collection.svg: cannot identify image file <_io.BytesIO object at 0x00000220318C1B20>\n",
      "Error al descargar https://assets-cdn.123rf.com/ui-components/assets/svg/gradient/premium-crown-gradient2.svg: cannot identify image file <_io.BytesIO object at 0x00000220311C4220>\n",
      "Error al descargar https://assets-cdn.123rf.com/ui-components/assets/svg/collection.svg: cannot identify image file <_io.BytesIO object at 0x00000220311CAFC0>\n",
      "Error al descargar https://assets-cdn.123rf.com/ui-components/assets/svg/gradient/premium-crown-gradient2.svg: cannot identify image file <_io.BytesIO object at 0x0000022031B9E110>\n"
     ]
    },
    {
     "name": "stderr",
     "output_type": "stream",
     "text": [
      "Procesando imágenes de https://es.123rf.com/imagenes-de-archivo/planta_de_manzanilla.html:  33%|███▎      | 99/298 [00:02<00:04, 45.85it/s]"
     ]
    },
    {
     "name": "stdout",
     "output_type": "stream",
     "text": [
      "Error al descargar https://assets-cdn.123rf.com/ui-components/assets/svg/collection.svg: cannot identify image file <_io.BytesIO object at 0x00000220318C3510>\n",
      "Error al descargar https://assets-cdn.123rf.com/ui-components/assets/svg/gradient/premium-crown-gradient2.svg: cannot identify image file <_io.BytesIO object at 0x00000220311A34C0>\n",
      "Error al descargar https://assets-cdn.123rf.com/ui-components/assets/svg/collection.svg: cannot identify image file <_io.BytesIO object at 0x0000022032125530>\n",
      "Error al descargar https://assets-cdn.123rf.com/ui-components/assets/svg/gradient/premium-crown-gradient2.svg: cannot identify image file <_io.BytesIO object at 0x0000022030B45DA0>\n",
      "Error al descargar https://assets-cdn.123rf.com/ui-components/assets/svg/collection.svg: cannot identify image file <_io.BytesIO object at 0x00000220321204F0>\n",
      "Error al descargar https://assets-cdn.123rf.com/ui-components/assets/svg/gradient/premium-crown-gradient2.svg: cannot identify image file <_io.BytesIO object at 0x00000220311A3240>\n",
      "Error al descargar https://assets-cdn.123rf.com/ui-components/assets/svg/collection.svg: cannot identify image file <_io.BytesIO object at 0x0000022032120540>\n"
     ]
    },
    {
     "name": "stderr",
     "output_type": "stream",
     "text": [
      "Procesando imágenes de https://es.123rf.com/imagenes-de-archivo/planta_de_manzanilla.html:  35%|███▌      | 105/298 [00:02<00:04, 46.49it/s]"
     ]
    },
    {
     "name": "stdout",
     "output_type": "stream",
     "text": [
      "Error al descargar https://assets-cdn.123rf.com/ui-components/assets/svg/gradient/premium-crown-gradient2.svg: cannot identify image file <_io.BytesIO object at 0x0000022032120EA0>\n",
      "Error al descargar https://assets-cdn.123rf.com/ui-components/assets/svg/collection.svg: cannot identify image file <_io.BytesIO object at 0x00000220311A3D30>\n",
      "Error al descargar https://assets-cdn.123rf.com/ui-components/assets/svg/collection.svg: cannot identify image file <_io.BytesIO object at 0x00000220318C1B20>\n",
      "Error al descargar https://assets-cdn.123rf.com/ui-components/assets/svg/collection.svg: cannot identify image file <_io.BytesIO object at 0x0000022030B76390>\n",
      "Error al descargar https://assets-cdn.123rf.com/ui-components/assets/svg/gradient/premium-crown-gradient2.svg: cannot identify image file <_io.BytesIO object at 0x00000220318C3510>\n"
     ]
    },
    {
     "name": "stderr",
     "output_type": "stream",
     "text": [
      "Procesando imágenes de https://es.123rf.com/imagenes-de-archivo/planta_de_manzanilla.html:  41%|████      | 122/298 [00:02<00:03, 48.33it/s]"
     ]
    },
    {
     "name": "stdout",
     "output_type": "stream",
     "text": [
      "Error al descargar https://assets-cdn.123rf.com/ui-components/assets/svg/collection.svg: cannot identify image file <_io.BytesIO object at 0x0000022031B60E00>\n",
      "Error al descargar https://assets-cdn.123rf.com/ui-components/assets/svg/collection.svg: cannot identify image file <_io.BytesIO object at 0x00000220311CBE70>\n",
      "Error al descargar https://assets-cdn.123rf.com/ui-components/assets/svg/gradient/premium-crown-gradient2.svg: cannot identify image file <_io.BytesIO object at 0x0000022031AF7BA0>\n",
      "Error al descargar https://assets-cdn.123rf.com/ui-components/assets/svg/collection.svg: cannot identify image file <_io.BytesIO object at 0x0000022030B45DA0>\n",
      "Error al descargar https://assets-cdn.123rf.com/ui-components/assets/svg/collection.svg: cannot identify image file <_io.BytesIO object at 0x0000022031208090>\n",
      "Error al descargar https://assets-cdn.123rf.com/ui-components/assets/svg/collection.svg: cannot identify image file <_io.BytesIO object at 0x00000220321201D0>\n"
     ]
    },
    {
     "name": "stderr",
     "output_type": "stream",
     "text": [
      "Procesando imágenes de https://es.123rf.com/imagenes-de-archivo/planta_de_manzanilla.html:  43%|████▎     | 129/298 [00:03<00:03, 47.86it/s]"
     ]
    },
    {
     "name": "stdout",
     "output_type": "stream",
     "text": [
      "Error al descargar https://assets-cdn.123rf.com/ui-components/assets/svg/gradient/premium-crown-gradient2.svg: cannot identify image file <_io.BytesIO object at 0x0000022032120540>\n",
      "Error al descargar https://assets-cdn.123rf.com/ui-components/assets/svg/collection.svg: cannot identify image file <_io.BytesIO object at 0x00000220311CBF60>\n",
      "Error al descargar https://assets-cdn.123rf.com/ui-components/assets/svg/collection.svg: cannot identify image file <_io.BytesIO object at 0x0000022032120220>\n",
      "Error al descargar https://assets-cdn.123rf.com/ui-components/assets/svg/gradient/premium-crown-gradient2.svg: cannot identify image file <_io.BytesIO object at 0x0000022031B9E110>\n",
      "Error al descargar https://assets-cdn.123rf.com/ui-components/assets/svg/collection.svg: cannot identify image file <_io.BytesIO object at 0x0000022030B45DA0>\n",
      "Error al descargar https://assets-cdn.123rf.com/ui-components/assets/svg/collection.svg: cannot identify image file <_io.BytesIO object at 0x00000220311A3F60>\n"
     ]
    },
    {
     "name": "stderr",
     "output_type": "stream",
     "text": [
      "Procesando imágenes de https://es.123rf.com/imagenes-de-archivo/planta_de_manzanilla.html:  47%|████▋     | 141/298 [00:03<00:03, 48.41it/s]"
     ]
    },
    {
     "name": "stdout",
     "output_type": "stream",
     "text": [
      "Error al descargar https://assets-cdn.123rf.com/ui-components/assets/svg/collection.svg: cannot identify image file <_io.BytesIO object at 0x0000022031C81F30>\n",
      "Error al descargar https://assets-cdn.123rf.com/ui-components/assets/svg/collection.svg: cannot identify image file <_io.BytesIO object at 0x0000022031B60E00>\n",
      "Error al descargar https://assets-cdn.123rf.com/ui-components/assets/svg/gradient/premium-crown-gradient2.svg: cannot identify image file <_io.BytesIO object at 0x00000220311A38D0>\n",
      "Error al descargar https://assets-cdn.123rf.com/ui-components/assets/svg/collection.svg: cannot identify image file <_io.BytesIO object at 0x0000022030D7E660>\n",
      "Error al descargar https://assets-cdn.123rf.com/ui-components/assets/svg/gradient/premium-crown-gradient2.svg: cannot identify image file <_io.BytesIO object at 0x0000022032124040>\n",
      "Error al descargar https://assets-cdn.123rf.com/ui-components/assets/svg/collection.svg: cannot identify image file <_io.BytesIO object at 0x00000220311A3880>\n",
      "Error al descargar https://assets-cdn.123rf.com/ui-components/assets/svg/gradient/premium-crown-gradient2.svg: cannot identify image file <_io.BytesIO object at 0x0000022032120130>\n",
      "Error al descargar https://assets-cdn.123rf.com/ui-components/assets/svg/collection.svg: cannot identify image file <_io.BytesIO object at 0x00000220311C4090>\n"
     ]
    },
    {
     "name": "stderr",
     "output_type": "stream",
     "text": [
      "Procesando imágenes de https://es.123rf.com/imagenes-de-archivo/planta_de_manzanilla.html:  52%|█████▏    | 154/298 [00:03<00:02, 48.76it/s]"
     ]
    },
    {
     "name": "stdout",
     "output_type": "stream",
     "text": [
      "Error al descargar https://assets-cdn.123rf.com/ui-components/assets/svg/collection.svg: cannot identify image file <_io.BytesIO object at 0x00000220311CBF60>\n",
      "Error al descargar https://assets-cdn.123rf.com/ui-components/assets/svg/collection.svg: cannot identify image file <_io.BytesIO object at 0x00000220311C4040>\n",
      "Error al descargar https://assets-cdn.123rf.com/ui-components/assets/svg/gradient/premium-crown-gradient2.svg: cannot identify image file <_io.BytesIO object at 0x00000220311C5440>\n",
      "Error al descargar https://assets-cdn.123rf.com/ui-components/assets/svg/collection.svg: cannot identify image file <_io.BytesIO object at 0x0000022031C827A0>\n",
      "Error al descargar https://assets-cdn.123rf.com/ui-components/assets/svg/collection.svg: cannot identify image file <_io.BytesIO object at 0x0000022032120540>\n",
      "Error al descargar https://assets-cdn.123rf.com/ui-components/assets/svg/collection.svg: cannot identify image file <_io.BytesIO object at 0x00000220321244A0>\n"
     ]
    },
    {
     "name": "stderr",
     "output_type": "stream",
     "text": [
      "Procesando imágenes de https://es.123rf.com/imagenes-de-archivo/planta_de_manzanilla.html:  56%|█████▌    | 166/298 [00:03<00:02, 45.25it/s]"
     ]
    },
    {
     "name": "stdout",
     "output_type": "stream",
     "text": [
      "Error al descargar https://assets-cdn.123rf.com/ui-components/assets/svg/collection.svg: cannot identify image file <_io.BytesIO object at 0x0000022032124400>\n",
      "Error al descargar https://assets-cdn.123rf.com/ui-components/assets/svg/collection.svg: cannot identify image file <_io.BytesIO object at 0x0000022031B9E110>\n",
      "Error al descargar https://assets-cdn.123rf.com/ui-components/assets/svg/collection.svg: cannot identify image file <_io.BytesIO object at 0x00000220311CBE70>\n",
      "Error al descargar https://assets-cdn.123rf.com/ui-components/assets/svg/collection.svg: cannot identify image file <_io.BytesIO object at 0x0000022030B76390>\n",
      "Error al descargar https://assets-cdn.123rf.com/ui-components/assets/svg/collection.svg: cannot identify image file <_io.BytesIO object at 0x00000220311C4540>\n"
     ]
    },
    {
     "name": "stderr",
     "output_type": "stream",
     "text": [
      "Procesando imágenes de https://es.123rf.com/imagenes-de-archivo/planta_de_manzanilla.html:  58%|█████▊    | 174/298 [00:04<00:02, 46.33it/s]"
     ]
    },
    {
     "name": "stdout",
     "output_type": "stream",
     "text": [
      "Error al descargar https://assets-cdn.123rf.com/ui-components/assets/svg/collection.svg: cannot identify image file <_io.BytesIO object at 0x0000022031B60E00>\n",
      "Error al descargar https://assets-cdn.123rf.com/ui-components/assets/svg/collection.svg: cannot identify image file <_io.BytesIO object at 0x0000022032124900>\n",
      "Error al descargar https://assets-cdn.123rf.com/ui-components/assets/svg/collection.svg: cannot identify image file <_io.BytesIO object at 0x00000220311CBF10>\n",
      "Error al descargar https://assets-cdn.123rf.com/ui-components/assets/svg/collection.svg: cannot identify image file <_io.BytesIO object at 0x00000220318C3510>\n",
      "Error al descargar https://assets-cdn.123rf.com/ui-components/assets/svg/gradient/premium-crown-gradient2.svg: cannot identify image file <_io.BytesIO object at 0x00000220311CBFB0>\n"
     ]
    },
    {
     "name": "stderr",
     "output_type": "stream",
     "text": [
      "Procesando imágenes de https://es.123rf.com/imagenes-de-archivo/planta_de_manzanilla.html:  60%|██████    | 179/298 [00:04<00:03, 37.84it/s]"
     ]
    },
    {
     "name": "stdout",
     "output_type": "stream",
     "text": [
      "Error al descargar https://assets-cdn.123rf.com/ui-components/assets/svg/collection.svg: cannot identify image file <_io.BytesIO object at 0x00000220311C49F0>\n",
      "Error al descargar https://assets-cdn.123rf.com/ui-components/assets/svg/collection.svg: cannot identify image file <_io.BytesIO object at 0x0000022032125AD0>\n",
      "Error al descargar https://assets-cdn.123rf.com/ui-components/assets/svg/collection.svg: cannot identify image file <_io.BytesIO object at 0x00000220318C1B20>\n",
      "Error al descargar https://assets-cdn.123rf.com/ui-components/assets/svg/collection.svg: cannot identify image file <_io.BytesIO object at 0x00000220311C4720>\n",
      "Error al descargar https://assets-cdn.123rf.com/ui-components/assets/svg/collection.svg: cannot identify image file <_io.BytesIO object at 0x00000220311A3B50>\n",
      "Error al descargar https://assets-cdn.123rf.com/ui-components/assets/svg/collection.svg: cannot identify image file <_io.BytesIO object at 0x0000022032125C10>\n"
     ]
    },
    {
     "name": "stderr",
     "output_type": "stream",
     "text": [
      "Procesando imágenes de https://es.123rf.com/imagenes-de-archivo/planta_de_manzanilla.html:  66%|██████▌   | 196/298 [00:04<00:02, 47.20it/s]"
     ]
    },
    {
     "name": "stdout",
     "output_type": "stream",
     "text": [
      "Error al descargar https://assets-cdn.123rf.com/ui-components/assets/svg/collection.svg: cannot identify image file <_io.BytesIO object at 0x0000022031208090>\n",
      "Error al descargar https://assets-cdn.123rf.com/ui-components/assets/svg/gradient/premium-crown-gradient2.svg: cannot identify image file <_io.BytesIO object at 0x00000220318C1B20>\n",
      "Error al descargar https://assets-cdn.123rf.com/ui-components/assets/svg/collection.svg: cannot identify image file <_io.BytesIO object at 0x00000220311CAFC0>\n",
      "Error al descargar https://assets-cdn.123rf.com/ui-components/assets/svg/collection.svg: cannot identify image file <_io.BytesIO object at 0x00000220311CBE70>\n",
      "Error al descargar https://assets-cdn.123rf.com/ui-components/assets/svg/collection.svg: cannot identify image file <_io.BytesIO object at 0x00000220311CBF10>\n",
      "Error al descargar https://assets-cdn.123rf.com/ui-components/assets/svg/collection.svg: cannot identify image file <_io.BytesIO object at 0x0000022031C80B80>\n",
      "Error al descargar https://assets-cdn.123rf.com/ui-components/assets/svg/collection.svg: cannot identify image file <_io.BytesIO object at 0x00000220311A3380>\n"
     ]
    },
    {
     "name": "stderr",
     "output_type": "stream",
     "text": [
      "Procesando imágenes de https://es.123rf.com/imagenes-de-archivo/planta_de_manzanilla.html:  70%|███████   | 209/298 [00:04<00:01, 47.12it/s]"
     ]
    },
    {
     "name": "stdout",
     "output_type": "stream",
     "text": [
      "Error al descargar https://assets-cdn.123rf.com/ui-components/assets/svg/collection.svg: cannot identify image file <_io.BytesIO object at 0x0000022030B76390>\n",
      "Error al descargar https://assets-cdn.123rf.com/ui-components/assets/svg/gradient/premium-crown-gradient2.svg: cannot identify image file <_io.BytesIO object at 0x0000022031193DD0>\n",
      "Error al descargar https://assets-cdn.123rf.com/ui-components/assets/svg/collection.svg: cannot identify image file <_io.BytesIO object at 0x00000220311A1DF0>\n",
      "Error al descargar https://assets-cdn.123rf.com/ui-components/assets/svg/collection.svg: cannot identify image file <_io.BytesIO object at 0x0000022032124A90>\n",
      "Error al descargar https://assets-cdn.123rf.com/ui-components/assets/svg/collection.svg: cannot identify image file <_io.BytesIO object at 0x0000022032124720>\n",
      "Error al descargar https://assets-cdn.123rf.com/ui-components/assets/svg/gradient/premium-crown-gradient2.svg: cannot identify image file <_io.BytesIO object at 0x00000220321201D0>\n",
      "Error al descargar https://assets-cdn.123rf.com/ui-components/assets/svg/collection.svg: cannot identify image file <_io.BytesIO object at 0x0000022030B45DA0>\n"
     ]
    },
    {
     "name": "stderr",
     "output_type": "stream",
     "text": [
      "Procesando imágenes de https://es.123rf.com/imagenes-de-archivo/planta_de_manzanilla.html:  73%|███████▎  | 219/298 [00:05<00:01, 47.81it/s]"
     ]
    },
    {
     "name": "stdout",
     "output_type": "stream",
     "text": [
      "Error al descargar https://assets-cdn.123rf.com/ui-components/assets/svg/collection.svg: cannot identify image file <_io.BytesIO object at 0x00000220311CAFC0>\n",
      "Error al descargar https://assets-cdn.123rf.com/ui-components/assets/svg/collection.svg: cannot identify image file <_io.BytesIO object at 0x0000022031AF7D30>\n",
      "Error al descargar https://assets-cdn.123rf.com/ui-components/assets/svg/collection.svg: cannot identify image file <_io.BytesIO object at 0x0000022032124B80>\n",
      "Error al descargar https://assets-cdn.123rf.com/ui-components/assets/svg/collection.svg: cannot identify image file <_io.BytesIO object at 0x00000220311C5620>\n",
      "Error al descargar https://assets-cdn.123rf.com/ui-components/assets/svg/collection.svg: cannot identify image file <_io.BytesIO object at 0x0000022031B9E110>\n",
      "Error al descargar https://assets-cdn.123rf.com/ui-components/assets/svg/collection.svg: cannot identify image file <_io.BytesIO object at 0x0000022031C81F30>\n"
     ]
    },
    {
     "name": "stderr",
     "output_type": "stream",
     "text": [
      "Procesando imágenes de https://es.123rf.com/imagenes-de-archivo/planta_de_manzanilla.html:  78%|███████▊  | 233/298 [00:05<00:01, 49.83it/s]"
     ]
    },
    {
     "name": "stdout",
     "output_type": "stream",
     "text": [
      "Error al descargar https://assets-cdn.123rf.com/ui-components/assets/svg/collection.svg: cannot identify image file <_io.BytesIO object at 0x00000220311A3970>\n",
      "Error al descargar https://assets-cdn.123rf.com/ui-components/assets/svg/collection.svg: cannot identify image file <_io.BytesIO object at 0x00000220311C9940>\n",
      "Error al descargar https://assets-cdn.123rf.com/ui-components/assets/svg/gradient/premium-crown-gradient2.svg: cannot identify image file <_io.BytesIO object at 0x0000022031B60AE0>\n",
      "Error al descargar https://assets-cdn.123rf.com/ui-components/assets/svg/collection.svg: cannot identify image file <_io.BytesIO object at 0x00000220318C1B20>\n",
      "Error al descargar https://assets-cdn.123rf.com/ui-components/assets/svg/collection.svg: cannot identify image file <_io.BytesIO object at 0x0000022032120130>\n",
      "Error al descargar https://assets-cdn.123rf.com/ui-components/assets/svg/gradient/premium-crown-gradient2.svg: cannot identify image file <_io.BytesIO object at 0x0000022031C80D10>\n",
      "Error al descargar https://assets-cdn.123rf.com/ui-components/assets/svg/collection.svg: cannot identify image file <_io.BytesIO object at 0x00000220318C3510>\n"
     ]
    },
    {
     "name": "stderr",
     "output_type": "stream",
     "text": [
      "Procesando imágenes de https://es.123rf.com/imagenes-de-archivo/planta_de_manzanilla.html:  83%|████████▎ | 247/298 [00:05<00:00, 54.51it/s]"
     ]
    },
    {
     "name": "stdout",
     "output_type": "stream",
     "text": [
      "Error al descargar https://assets-cdn.123rf.com/ui-components/assets/svg/collection.svg: cannot identify image file <_io.BytesIO object at 0x0000022030B76390>\n",
      "Error al descargar https://assets-cdn.123rf.com/ui-components/assets/svg/collection.svg: cannot identify image file <_io.BytesIO object at 0x00000220311A31F0>\n",
      "Error al descargar https://assets-cdn.123rf.com/ui-components/assets/svg/gradient/premium-crown-gradient2.svg: cannot identify image file <_io.BytesIO object at 0x0000022031C81F30>\n",
      "Error al descargar https://assets-cdn.123rf.com/ui-components/assets/svg/collection.svg: cannot identify image file <_io.BytesIO object at 0x0000022031193DD0>\n",
      "Error al descargar https://assets-cdn.123rf.com/ui-components/assets/svg/collection.svg: cannot identify image file <_io.BytesIO object at 0x00000220312080E0>\n",
      "Error al descargar https://assets-cdn.123rf.com/ui-components/assets/svg/collection.svg: cannot identify image file <_io.BytesIO object at 0x0000022031AF7D30>\n"
     ]
    },
    {
     "name": "stderr",
     "output_type": "stream",
     "text": [
      "Procesando imágenes de https://es.123rf.com/imagenes-de-archivo/planta_de_manzanilla.html:  87%|████████▋ | 260/298 [00:05<00:00, 48.90it/s]"
     ]
    },
    {
     "name": "stdout",
     "output_type": "stream",
     "text": [
      "Error al descargar https://assets-cdn.123rf.com/ui-components/assets/svg/collection.svg: cannot identify image file <_io.BytesIO object at 0x00000220311A3F60>\n",
      "Error al descargar https://assets-cdn.123rf.com/ui-components/assets/svg/collection.svg: cannot identify image file <_io.BytesIO object at 0x0000022032125AD0>\n",
      "Error al descargar https://assets-cdn.123rf.com/ui-components/assets/svg/collection.svg: cannot identify image file <_io.BytesIO object at 0x0000022031B60E00>\n",
      "Error al descargar https://assets-cdn.123rf.com/ui-components/assets/svg/collection.svg: cannot identify image file <_io.BytesIO object at 0x0000022032120220>\n",
      "Error al descargar https://assets-cdn.123rf.com/ui-components/assets/svg/collection.svg: cannot identify image file <_io.BytesIO object at 0x00000220311A3B00>\n",
      "Error al descargar https://assets-cdn.123rf.com/ui-components/assets/svg/gradient/premium-crown-gradient2.svg: cannot identify image file <_io.BytesIO object at 0x00000220311A3880>\n",
      "Error al descargar https://assets-cdn.123rf.com/ui-components/assets/svg/collection.svg: cannot identify image file <_io.BytesIO object at 0x0000022030B76390>\n"
     ]
    },
    {
     "name": "stderr",
     "output_type": "stream",
     "text": [
      "Procesando imágenes de https://es.123rf.com/imagenes-de-archivo/planta_de_manzanilla.html:  89%|████████▉ | 266/298 [00:05<00:00, 48.48it/s]"
     ]
    },
    {
     "name": "stdout",
     "output_type": "stream",
     "text": [
      "Error al descargar https://assets-cdn.123rf.com/ui-components/assets/svg/collection.svg: cannot identify image file <_io.BytesIO object at 0x00000220311A3330>\n",
      "Error al descargar https://assets-cdn.123rf.com/ui-components/assets/svg/collection.svg: cannot identify image file <_io.BytesIO object at 0x00000220311A3740>\n",
      "Error al descargar https://assets-cdn.123rf.com/ui-components/assets/svg/collection.svg: cannot identify image file <_io.BytesIO object at 0x0000022031C80D10>\n",
      "Error al descargar https://assets-cdn.123rf.com/ui-components/assets/svg/gradient/premium-crown-gradient2.svg: cannot identify image file <_io.BytesIO object at 0x00000220312080E0>\n",
      "Error al descargar https://assets-cdn.123rf.com/ui-components/assets/svg/collection.svg: cannot identify image file <_io.BytesIO object at 0x00000220321249F0>\n",
      "Error al descargar https://assets-cdn.123rf.com/ui-components/assets/svg/collection.svg: cannot identify image file <_io.BytesIO object at 0x0000022032120540>\n"
     ]
    },
    {
     "name": "stderr",
     "output_type": "stream",
     "text": [
      "Procesando imágenes de https://es.123rf.com/imagenes-de-archivo/planta_de_manzanilla.html:  94%|█████████▎| 279/298 [00:06<00:00, 48.83it/s]"
     ]
    },
    {
     "name": "stdout",
     "output_type": "stream",
     "text": [
      "Error al descargar https://assets-cdn.123rf.com/ui-components/assets/svg/collection.svg: cannot identify image file <_io.BytesIO object at 0x0000022031B60E00>\n",
      "Error al descargar https://assets-cdn.123rf.com/ui-components/assets/svg/gradient/premium-crown-gradient2.svg: cannot identify image file <_io.BytesIO object at 0x0000022032124310>\n",
      "Error al descargar https://assets-cdn.123rf.com/ui-components/assets/svg/collection.svg: cannot identify image file <_io.BytesIO object at 0x0000022031C80B80>\n",
      "Error al descargar https://assets-cdn.123rf.com/ui-components/assets/svg/gradient/premium-crown-gradient2.svg: cannot identify image file <_io.BytesIO object at 0x00000220311CAFC0>\n",
      "Error al descargar https://assets-cdn.123rf.com/ui-components/assets/svg/collection.svg: cannot identify image file <_io.BytesIO object at 0x0000022031AF7BA0>\n",
      "Error al descargar https://assets-cdn.123rf.com/ui-components/assets/svg/collection.svg: cannot identify image file <_io.BytesIO object at 0x00000220321201D0>\n",
      "Error al descargar https://assets-cdn.123rf.com/ui-components/assets/svg/collection.svg: cannot identify image file <_io.BytesIO object at 0x00000220311C9940>\n"
     ]
    },
    {
     "name": "stderr",
     "output_type": "stream",
     "text": [
      "Procesando imágenes de https://es.123rf.com/imagenes-de-archivo/planta_de_manzanilla.html:  98%|█████████▊| 292/298 [00:06<00:00, 47.58it/s]"
     ]
    },
    {
     "name": "stdout",
     "output_type": "stream",
     "text": [
      "Error al descargar https://assets-cdn.123rf.com/ui-components/assets/svg/collection.svg: cannot identify image file <_io.BytesIO object at 0x0000022032120EA0>\n",
      "Error al descargar https://assets-cdn.123rf.com/ui-components/assets/svg/gradient/premium-crown-gradient2.svg: cannot identify image file <_io.BytesIO object at 0x00000220311CBF10>\n",
      "Error al descargar https://assets-cdn.123rf.com/ui-components/assets/svg/collection.svg: cannot identify image file <_io.BytesIO object at 0x0000022030B45DA0>\n",
      "Error al descargar https://assets-cdn.123rf.com/ui-components/assets/svg/chevron-down.svg: cannot identify image file <_io.BytesIO object at 0x00000220312080E0>\n",
      "Error al descargar https://assets-cdn.123rf.com/ui-components/assets/svg/chevron-down.svg: cannot identify image file <_io.BytesIO object at 0x0000022030B76390>\n",
      "Error al descargar https://assets-cdn.123rf.com/ui-components/assets/svg/chevron-down.svg: cannot identify image file <_io.BytesIO object at 0x0000022031B60AE0>\n",
      "Error al descargar https://assets-cdn.123rf.com/ui-components/assets/svg/chevron-down.svg: cannot identify image file <_io.BytesIO object at 0x00000220318C1B20>\n",
      "Error al descargar https://assets-cdn.123rf.com/ui-components/assets/svg/chevron-down.svg: cannot identify image file <_io.BytesIO object at 0x00000220311CBF60>\n",
      "Error al descargar https://assets-cdn.123rf.com/ui-components/assets/svg/twitter-v2.svg: cannot identify image file <_io.BytesIO object at 0x0000022031B9E110>\n",
      "Error al descargar https://assets-cdn.123rf.com/ui-components/assets/svg/facebook.svg: cannot identify image file <_io.BytesIO object at 0x0000022031B60E00>\n"
     ]
    },
    {
     "name": "stderr",
     "output_type": "stream",
     "text": [
      "Procesando imágenes de https://es.123rf.com/imagenes-de-archivo/planta_de_manzanilla.html: 100%|██████████| 298/298 [00:06<00:00, 44.67it/s]\n"
     ]
    },
    {
     "name": "stdout",
     "output_type": "stream",
     "text": [
      "Error al descargar https://assets-cdn.123rf.com/ui-components/assets/svg/instagram-v2.svg: cannot identify image file <_io.BytesIO object at 0x0000022031B60AE0>\n",
      "Error al descargar https://assets-cdn.123rf.com/ui-components/assets/svg/pinterest.svg: cannot identify image file <_io.BytesIO object at 0x0000022030D7E660>\n",
      "Error al descargar https://assets-cdn.123rf.com/ui-components/assets/svg/whatsapp-v3.svg: cannot identify image file <_io.BytesIO object at 0x0000022031B9F150>\n"
     ]
    },
    {
     "name": "stderr",
     "output_type": "stream",
     "text": [
      "Procesando imágenes de https://www.pngwing.com/es/search?q=manzanilla:   0%|          | 0/61 [00:00<?, ?it/s]"
     ]
    },
    {
     "name": "stdout",
     "output_type": "stream",
     "text": [
      "Error al descargar data:image/png;base64,iVBORw0KGgoAAAANSUhEUgAAAAEAAAABCAQAAAC1HAwCAAAAC0lEQVQYV2NgYAAAAAMAAWgmWQ0AAAAASUVORK5CYII=: No connection adapters were found for 'data:image/png;base64,iVBORw0KGgoAAAANSUhEUgAAAAEAAAABCAQAAAC1HAwCAAAAC0lEQVQYV2NgYAAAAAMAAWgmWQ0AAAAASUVORK5CYII='\n",
      "Error al descargar data:image/png;base64,iVBORw0KGgoAAAANSUhEUgAAAAEAAAABCAQAAAC1HAwCAAAAC0lEQVQYV2NgYAAAAAMAAWgmWQ0AAAAASUVORK5CYII=: No connection adapters were found for 'data:image/png;base64,iVBORw0KGgoAAAANSUhEUgAAAAEAAAABCAQAAAC1HAwCAAAAC0lEQVQYV2NgYAAAAAMAAWgmWQ0AAAAASUVORK5CYII='\n",
      "Error al descargar data:image/png;base64,iVBORw0KGgoAAAANSUhEUgAAAAEAAAABCAQAAAC1HAwCAAAAC0lEQVQYV2NgYAAAAAMAAWgmWQ0AAAAASUVORK5CYII=: No connection adapters were found for 'data:image/png;base64,iVBORw0KGgoAAAANSUhEUgAAAAEAAAABCAQAAAC1HAwCAAAAC0lEQVQYV2NgYAAAAAMAAWgmWQ0AAAAASUVORK5CYII='\n",
      "Error al descargar data:image/png;base64,iVBORw0KGgoAAAANSUhEUgAAAAEAAAABCAQAAAC1HAwCAAAAC0lEQVQYV2NgYAAAAAMAAWgmWQ0AAAAASUVORK5CYII=: No connection adapters were found for 'data:image/png;base64,iVBORw0KGgoAAAANSUhEUgAAAAEAAAABCAQAAAC1HAwCAAAAC0lEQVQYV2NgYAAAAAMAAWgmWQ0AAAAASUVORK5CYII='\n",
      "Error al descargar data:image/png;base64,iVBORw0KGgoAAAANSUhEUgAAAAEAAAABCAQAAAC1HAwCAAAAC0lEQVQYV2NgYAAAAAMAAWgmWQ0AAAAASUVORK5CYII=: No connection adapters were found for 'data:image/png;base64,iVBORw0KGgoAAAANSUhEUgAAAAEAAAABCAQAAAC1HAwCAAAAC0lEQVQYV2NgYAAAAAMAAWgmWQ0AAAAASUVORK5CYII='\n",
      "Error al descargar data:image/png;base64,iVBORw0KGgoAAAANSUhEUgAAAAEAAAABCAQAAAC1HAwCAAAAC0lEQVQYV2NgYAAAAAMAAWgmWQ0AAAAASUVORK5CYII=: No connection adapters were found for 'data:image/png;base64,iVBORw0KGgoAAAANSUhEUgAAAAEAAAABCAQAAAC1HAwCAAAAC0lEQVQYV2NgYAAAAAMAAWgmWQ0AAAAASUVORK5CYII='\n",
      "Error al descargar data:image/png;base64,iVBORw0KGgoAAAANSUhEUgAAAAEAAAABCAQAAAC1HAwCAAAAC0lEQVQYV2NgYAAAAAMAAWgmWQ0AAAAASUVORK5CYII=: No connection adapters were found for 'data:image/png;base64,iVBORw0KGgoAAAANSUhEUgAAAAEAAAABCAQAAAC1HAwCAAAAC0lEQVQYV2NgYAAAAAMAAWgmWQ0AAAAASUVORK5CYII='\n",
      "Error al descargar data:image/png;base64,iVBORw0KGgoAAAANSUhEUgAAAAEAAAABCAQAAAC1HAwCAAAAC0lEQVQYV2NgYAAAAAMAAWgmWQ0AAAAASUVORK5CYII=: No connection adapters were found for 'data:image/png;base64,iVBORw0KGgoAAAANSUhEUgAAAAEAAAABCAQAAAC1HAwCAAAAC0lEQVQYV2NgYAAAAAMAAWgmWQ0AAAAASUVORK5CYII='\n",
      "Error al descargar data:image/png;base64,iVBORw0KGgoAAAANSUhEUgAAAAEAAAABCAQAAAC1HAwCAAAAC0lEQVQYV2NgYAAAAAMAAWgmWQ0AAAAASUVORK5CYII=: No connection adapters were found for 'data:image/png;base64,iVBORw0KGgoAAAANSUhEUgAAAAEAAAABCAQAAAC1HAwCAAAAC0lEQVQYV2NgYAAAAAMAAWgmWQ0AAAAASUVORK5CYII='\n",
      "Error al descargar data:image/png;base64,iVBORw0KGgoAAAANSUhEUgAAAAEAAAABCAQAAAC1HAwCAAAAC0lEQVQYV2NgYAAAAAMAAWgmWQ0AAAAASUVORK5CYII=: No connection adapters were found for 'data:image/png;base64,iVBORw0KGgoAAAANSUhEUgAAAAEAAAABCAQAAAC1HAwCAAAAC0lEQVQYV2NgYAAAAAMAAWgmWQ0AAAAASUVORK5CYII='\n",
      "Error al descargar data:image/png;base64,iVBORw0KGgoAAAANSUhEUgAAAAEAAAABCAQAAAC1HAwCAAAAC0lEQVQYV2NgYAAAAAMAAWgmWQ0AAAAASUVORK5CYII=: No connection adapters were found for 'data:image/png;base64,iVBORw0KGgoAAAANSUhEUgAAAAEAAAABCAQAAAC1HAwCAAAAC0lEQVQYV2NgYAAAAAMAAWgmWQ0AAAAASUVORK5CYII='\n",
      "Error al descargar data:image/png;base64,iVBORw0KGgoAAAANSUhEUgAAAAEAAAABCAQAAAC1HAwCAAAAC0lEQVQYV2NgYAAAAAMAAWgmWQ0AAAAASUVORK5CYII=: No connection adapters were found for 'data:image/png;base64,iVBORw0KGgoAAAANSUhEUgAAAAEAAAABCAQAAAC1HAwCAAAAC0lEQVQYV2NgYAAAAAMAAWgmWQ0AAAAASUVORK5CYII='\n",
      "Error al descargar data:image/png;base64,iVBORw0KGgoAAAANSUhEUgAAAAEAAAABCAQAAAC1HAwCAAAAC0lEQVQYV2NgYAAAAAMAAWgmWQ0AAAAASUVORK5CYII=: No connection adapters were found for 'data:image/png;base64,iVBORw0KGgoAAAANSUhEUgAAAAEAAAABCAQAAAC1HAwCAAAAC0lEQVQYV2NgYAAAAAMAAWgmWQ0AAAAASUVORK5CYII='\n",
      "Error al descargar data:image/png;base64,iVBORw0KGgoAAAANSUhEUgAAAAEAAAABCAQAAAC1HAwCAAAAC0lEQVQYV2NgYAAAAAMAAWgmWQ0AAAAASUVORK5CYII=: No connection adapters were found for 'data:image/png;base64,iVBORw0KGgoAAAANSUhEUgAAAAEAAAABCAQAAAC1HAwCAAAAC0lEQVQYV2NgYAAAAAMAAWgmWQ0AAAAASUVORK5CYII='\n",
      "Error al descargar data:image/png;base64,iVBORw0KGgoAAAANSUhEUgAAAAEAAAABCAQAAAC1HAwCAAAAC0lEQVQYV2NgYAAAAAMAAWgmWQ0AAAAASUVORK5CYII=: No connection adapters were found for 'data:image/png;base64,iVBORw0KGgoAAAANSUhEUgAAAAEAAAABCAQAAAC1HAwCAAAAC0lEQVQYV2NgYAAAAAMAAWgmWQ0AAAAASUVORK5CYII='\n",
      "Error al descargar data:image/png;base64,iVBORw0KGgoAAAANSUhEUgAAAAEAAAABCAQAAAC1HAwCAAAAC0lEQVQYV2NgYAAAAAMAAWgmWQ0AAAAASUVORK5CYII=: No connection adapters were found for 'data:image/png;base64,iVBORw0KGgoAAAANSUhEUgAAAAEAAAABCAQAAAC1HAwCAAAAC0lEQVQYV2NgYAAAAAMAAWgmWQ0AAAAASUVORK5CYII='\n",
      "Error al descargar data:image/png;base64,iVBORw0KGgoAAAANSUhEUgAAAAEAAAABCAQAAAC1HAwCAAAAC0lEQVQYV2NgYAAAAAMAAWgmWQ0AAAAASUVORK5CYII=: No connection adapters were found for 'data:image/png;base64,iVBORw0KGgoAAAANSUhEUgAAAAEAAAABCAQAAAC1HAwCAAAAC0lEQVQYV2NgYAAAAAMAAWgmWQ0AAAAASUVORK5CYII='\n",
      "Error al descargar data:image/png;base64,iVBORw0KGgoAAAANSUhEUgAAAAEAAAABCAQAAAC1HAwCAAAAC0lEQVQYV2NgYAAAAAMAAWgmWQ0AAAAASUVORK5CYII=: No connection adapters were found for 'data:image/png;base64,iVBORw0KGgoAAAANSUhEUgAAAAEAAAABCAQAAAC1HAwCAAAAC0lEQVQYV2NgYAAAAAMAAWgmWQ0AAAAASUVORK5CYII='\n",
      "Error al descargar data:image/png;base64,iVBORw0KGgoAAAANSUhEUgAAAAEAAAABCAQAAAC1HAwCAAAAC0lEQVQYV2NgYAAAAAMAAWgmWQ0AAAAASUVORK5CYII=: No connection adapters were found for 'data:image/png;base64,iVBORw0KGgoAAAANSUhEUgAAAAEAAAABCAQAAAC1HAwCAAAAC0lEQVQYV2NgYAAAAAMAAWgmWQ0AAAAASUVORK5CYII='\n",
      "Error al descargar data:image/png;base64,iVBORw0KGgoAAAANSUhEUgAAAAEAAAABCAQAAAC1HAwCAAAAC0lEQVQYV2NgYAAAAAMAAWgmWQ0AAAAASUVORK5CYII=: No connection adapters were found for 'data:image/png;base64,iVBORw0KGgoAAAANSUhEUgAAAAEAAAABCAQAAAC1HAwCAAAAC0lEQVQYV2NgYAAAAAMAAWgmWQ0AAAAASUVORK5CYII='\n",
      "Error al descargar data:image/png;base64,iVBORw0KGgoAAAANSUhEUgAAAAEAAAABCAQAAAC1HAwCAAAAC0lEQVQYV2NgYAAAAAMAAWgmWQ0AAAAASUVORK5CYII=: No connection adapters were found for 'data:image/png;base64,iVBORw0KGgoAAAANSUhEUgAAAAEAAAABCAQAAAC1HAwCAAAAC0lEQVQYV2NgYAAAAAMAAWgmWQ0AAAAASUVORK5CYII='\n",
      "Error al descargar data:image/png;base64,iVBORw0KGgoAAAANSUhEUgAAAAEAAAABCAQAAAC1HAwCAAAAC0lEQVQYV2NgYAAAAAMAAWgmWQ0AAAAASUVORK5CYII=: No connection adapters were found for 'data:image/png;base64,iVBORw0KGgoAAAANSUhEUgAAAAEAAAABCAQAAAC1HAwCAAAAC0lEQVQYV2NgYAAAAAMAAWgmWQ0AAAAASUVORK5CYII='\n",
      "Error al descargar data:image/png;base64,iVBORw0KGgoAAAANSUhEUgAAAAEAAAABCAQAAAC1HAwCAAAAC0lEQVQYV2NgYAAAAAMAAWgmWQ0AAAAASUVORK5CYII=: No connection adapters were found for 'data:image/png;base64,iVBORw0KGgoAAAANSUhEUgAAAAEAAAABCAQAAAC1HAwCAAAAC0lEQVQYV2NgYAAAAAMAAWgmWQ0AAAAASUVORK5CYII='\n",
      "Error al descargar data:image/png;base64,iVBORw0KGgoAAAANSUhEUgAAAAEAAAABCAQAAAC1HAwCAAAAC0lEQVQYV2NgYAAAAAMAAWgmWQ0AAAAASUVORK5CYII=: No connection adapters were found for 'data:image/png;base64,iVBORw0KGgoAAAANSUhEUgAAAAEAAAABCAQAAAC1HAwCAAAAC0lEQVQYV2NgYAAAAAMAAWgmWQ0AAAAASUVORK5CYII='\n",
      "Error al descargar data:image/png;base64,iVBORw0KGgoAAAANSUhEUgAAAAEAAAABCAQAAAC1HAwCAAAAC0lEQVQYV2NgYAAAAAMAAWgmWQ0AAAAASUVORK5CYII=: No connection adapters were found for 'data:image/png;base64,iVBORw0KGgoAAAANSUhEUgAAAAEAAAABCAQAAAC1HAwCAAAAC0lEQVQYV2NgYAAAAAMAAWgmWQ0AAAAASUVORK5CYII='\n",
      "Error al descargar data:image/png;base64,iVBORw0KGgoAAAANSUhEUgAAAAEAAAABCAQAAAC1HAwCAAAAC0lEQVQYV2NgYAAAAAMAAWgmWQ0AAAAASUVORK5CYII=: No connection adapters were found for 'data:image/png;base64,iVBORw0KGgoAAAANSUhEUgAAAAEAAAABCAQAAAC1HAwCAAAAC0lEQVQYV2NgYAAAAAMAAWgmWQ0AAAAASUVORK5CYII='\n",
      "Error al descargar data:image/png;base64,iVBORw0KGgoAAAANSUhEUgAAAAEAAAABCAQAAAC1HAwCAAAAC0lEQVQYV2NgYAAAAAMAAWgmWQ0AAAAASUVORK5CYII=: No connection adapters were found for 'data:image/png;base64,iVBORw0KGgoAAAANSUhEUgAAAAEAAAABCAQAAAC1HAwCAAAAC0lEQVQYV2NgYAAAAAMAAWgmWQ0AAAAASUVORK5CYII='\n",
      "Error al descargar data:image/png;base64,iVBORw0KGgoAAAANSUhEUgAAAAEAAAABCAQAAAC1HAwCAAAAC0lEQVQYV2NgYAAAAAMAAWgmWQ0AAAAASUVORK5CYII=: No connection adapters were found for 'data:image/png;base64,iVBORw0KGgoAAAANSUhEUgAAAAEAAAABCAQAAAC1HAwCAAAAC0lEQVQYV2NgYAAAAAMAAWgmWQ0AAAAASUVORK5CYII='\n",
      "Error al descargar data:image/png;base64,iVBORw0KGgoAAAANSUhEUgAAAAEAAAABCAQAAAC1HAwCAAAAC0lEQVQYV2NgYAAAAAMAAWgmWQ0AAAAASUVORK5CYII=: No connection adapters were found for 'data:image/png;base64,iVBORw0KGgoAAAANSUhEUgAAAAEAAAABCAQAAAC1HAwCAAAAC0lEQVQYV2NgYAAAAAMAAWgmWQ0AAAAASUVORK5CYII='\n",
      "Error al descargar data:image/png;base64,iVBORw0KGgoAAAANSUhEUgAAAAEAAAABCAQAAAC1HAwCAAAAC0lEQVQYV2NgYAAAAAMAAWgmWQ0AAAAASUVORK5CYII=: No connection adapters were found for 'data:image/png;base64,iVBORw0KGgoAAAANSUhEUgAAAAEAAAABCAQAAAC1HAwCAAAAC0lEQVQYV2NgYAAAAAMAAWgmWQ0AAAAASUVORK5CYII='\n",
      "Error al descargar data:image/png;base64,iVBORw0KGgoAAAANSUhEUgAAAAEAAAABCAQAAAC1HAwCAAAAC0lEQVQYV2NgYAAAAAMAAWgmWQ0AAAAASUVORK5CYII=: No connection adapters were found for 'data:image/png;base64,iVBORw0KGgoAAAANSUhEUgAAAAEAAAABCAQAAAC1HAwCAAAAC0lEQVQYV2NgYAAAAAMAAWgmWQ0AAAAASUVORK5CYII='\n",
      "Error al descargar data:image/png;base64,iVBORw0KGgoAAAANSUhEUgAAAAEAAAABCAQAAAC1HAwCAAAAC0lEQVQYV2NgYAAAAAMAAWgmWQ0AAAAASUVORK5CYII=: No connection adapters were found for 'data:image/png;base64,iVBORw0KGgoAAAANSUhEUgAAAAEAAAABCAQAAAC1HAwCAAAAC0lEQVQYV2NgYAAAAAMAAWgmWQ0AAAAASUVORK5CYII='\n",
      "Error al descargar data:image/png;base64,iVBORw0KGgoAAAANSUhEUgAAAAEAAAABCAQAAAC1HAwCAAAAC0lEQVQYV2NgYAAAAAMAAWgmWQ0AAAAASUVORK5CYII=: No connection adapters were found for 'data:image/png;base64,iVBORw0KGgoAAAANSUhEUgAAAAEAAAABCAQAAAC1HAwCAAAAC0lEQVQYV2NgYAAAAAMAAWgmWQ0AAAAASUVORK5CYII='\n",
      "Error al descargar data:image/png;base64,iVBORw0KGgoAAAANSUhEUgAAAAEAAAABCAQAAAC1HAwCAAAAC0lEQVQYV2NgYAAAAAMAAWgmWQ0AAAAASUVORK5CYII=: No connection adapters were found for 'data:image/png;base64,iVBORw0KGgoAAAANSUhEUgAAAAEAAAABCAQAAAC1HAwCAAAAC0lEQVQYV2NgYAAAAAMAAWgmWQ0AAAAASUVORK5CYII='\n",
      "Error al descargar data:image/png;base64,iVBORw0KGgoAAAANSUhEUgAAAAEAAAABCAQAAAC1HAwCAAAAC0lEQVQYV2NgYAAAAAMAAWgmWQ0AAAAASUVORK5CYII=: No connection adapters were found for 'data:image/png;base64,iVBORw0KGgoAAAANSUhEUgAAAAEAAAABCAQAAAC1HAwCAAAAC0lEQVQYV2NgYAAAAAMAAWgmWQ0AAAAASUVORK5CYII='\n",
      "Error al descargar data:image/png;base64,iVBORw0KGgoAAAANSUhEUgAAAAEAAAABCAQAAAC1HAwCAAAAC0lEQVQYV2NgYAAAAAMAAWgmWQ0AAAAASUVORK5CYII=: No connection adapters were found for 'data:image/png;base64,iVBORw0KGgoAAAANSUhEUgAAAAEAAAABCAQAAAC1HAwCAAAAC0lEQVQYV2NgYAAAAAMAAWgmWQ0AAAAASUVORK5CYII='\n",
      "Error al descargar data:image/png;base64,iVBORw0KGgoAAAANSUhEUgAAAAEAAAABCAQAAAC1HAwCAAAAC0lEQVQYV2NgYAAAAAMAAWgmWQ0AAAAASUVORK5CYII=: No connection adapters were found for 'data:image/png;base64,iVBORw0KGgoAAAANSUhEUgAAAAEAAAABCAQAAAC1HAwCAAAAC0lEQVQYV2NgYAAAAAMAAWgmWQ0AAAAASUVORK5CYII='\n",
      "Error al descargar data:image/png;base64,iVBORw0KGgoAAAANSUhEUgAAAAEAAAABCAQAAAC1HAwCAAAAC0lEQVQYV2NgYAAAAAMAAWgmWQ0AAAAASUVORK5CYII=: No connection adapters were found for 'data:image/png;base64,iVBORw0KGgoAAAANSUhEUgAAAAEAAAABCAQAAAC1HAwCAAAAC0lEQVQYV2NgYAAAAAMAAWgmWQ0AAAAASUVORK5CYII='\n",
      "Error al descargar data:image/png;base64,iVBORw0KGgoAAAANSUhEUgAAAAEAAAABCAQAAAC1HAwCAAAAC0lEQVQYV2NgYAAAAAMAAWgmWQ0AAAAASUVORK5CYII=: No connection adapters were found for 'data:image/png;base64,iVBORw0KGgoAAAANSUhEUgAAAAEAAAABCAQAAAC1HAwCAAAAC0lEQVQYV2NgYAAAAAMAAWgmWQ0AAAAASUVORK5CYII='\n",
      "Error al descargar data:image/png;base64,iVBORw0KGgoAAAANSUhEUgAAAAEAAAABCAQAAAC1HAwCAAAAC0lEQVQYV2NgYAAAAAMAAWgmWQ0AAAAASUVORK5CYII=: No connection adapters were found for 'data:image/png;base64,iVBORw0KGgoAAAANSUhEUgAAAAEAAAABCAQAAAC1HAwCAAAAC0lEQVQYV2NgYAAAAAMAAWgmWQ0AAAAASUVORK5CYII='\n",
      "Error al descargar data:image/png;base64,iVBORw0KGgoAAAANSUhEUgAAAAEAAAABCAQAAAC1HAwCAAAAC0lEQVQYV2NgYAAAAAMAAWgmWQ0AAAAASUVORK5CYII=: No connection adapters were found for 'data:image/png;base64,iVBORw0KGgoAAAANSUhEUgAAAAEAAAABCAQAAAC1HAwCAAAAC0lEQVQYV2NgYAAAAAMAAWgmWQ0AAAAASUVORK5CYII='\n",
      "Error al descargar data:image/png;base64,iVBORw0KGgoAAAANSUhEUgAAAAEAAAABCAQAAAC1HAwCAAAAC0lEQVQYV2NgYAAAAAMAAWgmWQ0AAAAASUVORK5CYII=: No connection adapters were found for 'data:image/png;base64,iVBORw0KGgoAAAANSUhEUgAAAAEAAAABCAQAAAC1HAwCAAAAC0lEQVQYV2NgYAAAAAMAAWgmWQ0AAAAASUVORK5CYII='\n",
      "Error al descargar data:image/png;base64,iVBORw0KGgoAAAANSUhEUgAAAAEAAAABCAQAAAC1HAwCAAAAC0lEQVQYV2NgYAAAAAMAAWgmWQ0AAAAASUVORK5CYII=: No connection adapters were found for 'data:image/png;base64,iVBORw0KGgoAAAANSUhEUgAAAAEAAAABCAQAAAC1HAwCAAAAC0lEQVQYV2NgYAAAAAMAAWgmWQ0AAAAASUVORK5CYII='\n",
      "Error al descargar data:image/png;base64,iVBORw0KGgoAAAANSUhEUgAAAAEAAAABCAQAAAC1HAwCAAAAC0lEQVQYV2NgYAAAAAMAAWgmWQ0AAAAASUVORK5CYII=: No connection adapters were found for 'data:image/png;base64,iVBORw0KGgoAAAANSUhEUgAAAAEAAAABCAQAAAC1HAwCAAAAC0lEQVQYV2NgYAAAAAMAAWgmWQ0AAAAASUVORK5CYII='\n",
      "Error al descargar data:image/png;base64,iVBORw0KGgoAAAANSUhEUgAAAAEAAAABCAQAAAC1HAwCAAAAC0lEQVQYV2NgYAAAAAMAAWgmWQ0AAAAASUVORK5CYII=: No connection adapters were found for 'data:image/png;base64,iVBORw0KGgoAAAANSUhEUgAAAAEAAAABCAQAAAC1HAwCAAAAC0lEQVQYV2NgYAAAAAMAAWgmWQ0AAAAASUVORK5CYII='\n",
      "Error al descargar data:image/png;base64,iVBORw0KGgoAAAANSUhEUgAAAAEAAAABCAQAAAC1HAwCAAAAC0lEQVQYV2NgYAAAAAMAAWgmWQ0AAAAASUVORK5CYII=: No connection adapters were found for 'data:image/png;base64,iVBORw0KGgoAAAANSUhEUgAAAAEAAAABCAQAAAC1HAwCAAAAC0lEQVQYV2NgYAAAAAMAAWgmWQ0AAAAASUVORK5CYII='\n",
      "Error al descargar data:image/png;base64,iVBORw0KGgoAAAANSUhEUgAAAAEAAAABCAQAAAC1HAwCAAAAC0lEQVQYV2NgYAAAAAMAAWgmWQ0AAAAASUVORK5CYII=: No connection adapters were found for 'data:image/png;base64,iVBORw0KGgoAAAANSUhEUgAAAAEAAAABCAQAAAC1HAwCAAAAC0lEQVQYV2NgYAAAAAMAAWgmWQ0AAAAASUVORK5CYII='\n",
      "Error al descargar data:image/png;base64,iVBORw0KGgoAAAANSUhEUgAAAAEAAAABCAQAAAC1HAwCAAAAC0lEQVQYV2NgYAAAAAMAAWgmWQ0AAAAASUVORK5CYII=: No connection adapters were found for 'data:image/png;base64,iVBORw0KGgoAAAANSUhEUgAAAAEAAAABCAQAAAC1HAwCAAAAC0lEQVQYV2NgYAAAAAMAAWgmWQ0AAAAASUVORK5CYII='\n",
      "Error al descargar data:image/png;base64,iVBORw0KGgoAAAANSUhEUgAAAAEAAAABCAQAAAC1HAwCAAAAC0lEQVQYV2NgYAAAAAMAAWgmWQ0AAAAASUVORK5CYII=: No connection adapters were found for 'data:image/png;base64,iVBORw0KGgoAAAANSUhEUgAAAAEAAAABCAQAAAC1HAwCAAAAC0lEQVQYV2NgYAAAAAMAAWgmWQ0AAAAASUVORK5CYII='\n",
      "Error al descargar data:image/png;base64,iVBORw0KGgoAAAANSUhEUgAAAAEAAAABCAQAAAC1HAwCAAAAC0lEQVQYV2NgYAAAAAMAAWgmWQ0AAAAASUVORK5CYII=: No connection adapters were found for 'data:image/png;base64,iVBORw0KGgoAAAANSUhEUgAAAAEAAAABCAQAAAC1HAwCAAAAC0lEQVQYV2NgYAAAAAMAAWgmWQ0AAAAASUVORK5CYII='\n",
      "Error al descargar data:image/png;base64,iVBORw0KGgoAAAANSUhEUgAAAAEAAAABCAQAAAC1HAwCAAAAC0lEQVQYV2NgYAAAAAMAAWgmWQ0AAAAASUVORK5CYII=: No connection adapters were found for 'data:image/png;base64,iVBORw0KGgoAAAANSUhEUgAAAAEAAAABCAQAAAC1HAwCAAAAC0lEQVQYV2NgYAAAAAMAAWgmWQ0AAAAASUVORK5CYII='\n",
      "Error al descargar data:image/png;base64,iVBORw0KGgoAAAANSUhEUgAAAAEAAAABCAQAAAC1HAwCAAAAC0lEQVQYV2NgYAAAAAMAAWgmWQ0AAAAASUVORK5CYII=: No connection adapters were found for 'data:image/png;base64,iVBORw0KGgoAAAANSUhEUgAAAAEAAAABCAQAAAC1HAwCAAAAC0lEQVQYV2NgYAAAAAMAAWgmWQ0AAAAASUVORK5CYII='\n",
      "Error al descargar data:image/png;base64,iVBORw0KGgoAAAANSUhEUgAAAAEAAAABCAQAAAC1HAwCAAAAC0lEQVQYV2NgYAAAAAMAAWgmWQ0AAAAASUVORK5CYII=: No connection adapters were found for 'data:image/png;base64,iVBORw0KGgoAAAANSUhEUgAAAAEAAAABCAQAAAC1HAwCAAAAC0lEQVQYV2NgYAAAAAMAAWgmWQ0AAAAASUVORK5CYII='\n",
      "Error al descargar data:image/png;base64,iVBORw0KGgoAAAANSUhEUgAAAAEAAAABCAQAAAC1HAwCAAAAC0lEQVQYV2NgYAAAAAMAAWgmWQ0AAAAASUVORK5CYII=: No connection adapters were found for 'data:image/png;base64,iVBORw0KGgoAAAANSUhEUgAAAAEAAAABCAQAAAC1HAwCAAAAC0lEQVQYV2NgYAAAAAMAAWgmWQ0AAAAASUVORK5CYII='\n",
      "Error al descargar data:image/png;base64,iVBORw0KGgoAAAANSUhEUgAAAAEAAAABCAQAAAC1HAwCAAAAC0lEQVQYV2NgYAAAAAMAAWgmWQ0AAAAASUVORK5CYII=: No connection adapters were found for 'data:image/png;base64,iVBORw0KGgoAAAANSUhEUgAAAAEAAAABCAQAAAC1HAwCAAAAC0lEQVQYV2NgYAAAAAMAAWgmWQ0AAAAASUVORK5CYII='\n",
      "Error al descargar data:image/png;base64,iVBORw0KGgoAAAANSUhEUgAAAAEAAAABCAQAAAC1HAwCAAAAC0lEQVQYV2NgYAAAAAMAAWgmWQ0AAAAASUVORK5CYII=: No connection adapters were found for 'data:image/png;base64,iVBORw0KGgoAAAANSUhEUgAAAAEAAAABCAQAAAC1HAwCAAAAC0lEQVQYV2NgYAAAAAMAAWgmWQ0AAAAASUVORK5CYII='\n",
      "Error al descargar data:image/png;base64,iVBORw0KGgoAAAANSUhEUgAAAAEAAAABCAQAAAC1HAwCAAAAC0lEQVQYV2NgYAAAAAMAAWgmWQ0AAAAASUVORK5CYII=: No connection adapters were found for 'data:image/png;base64,iVBORw0KGgoAAAANSUhEUgAAAAEAAAABCAQAAAC1HAwCAAAAC0lEQVQYV2NgYAAAAAMAAWgmWQ0AAAAASUVORK5CYII='\n",
      "Error al descargar data:image/png;base64,iVBORw0KGgoAAAANSUhEUgAAAAEAAAABCAQAAAC1HAwCAAAAC0lEQVQYV2NgYAAAAAMAAWgmWQ0AAAAASUVORK5CYII=: No connection adapters were found for 'data:image/png;base64,iVBORw0KGgoAAAANSUhEUgAAAAEAAAABCAQAAAC1HAwCAAAAC0lEQVQYV2NgYAAAAAMAAWgmWQ0AAAAASUVORK5CYII='\n",
      "Error al descargar data:image/png;base64,iVBORw0KGgoAAAANSUhEUgAAAAEAAAABCAQAAAC1HAwCAAAAC0lEQVQYV2NgYAAAAAMAAWgmWQ0AAAAASUVORK5CYII=: No connection adapters were found for 'data:image/png;base64,iVBORw0KGgoAAAANSUhEUgAAAAEAAAABCAQAAAC1HAwCAAAAC0lEQVQYV2NgYAAAAAMAAWgmWQ0AAAAASUVORK5CYII='\n",
      "Error al descargar data:image/png;base64,iVBORw0KGgoAAAANSUhEUgAAAAEAAAABCAQAAAC1HAwCAAAAC0lEQVQYV2NgYAAAAAMAAWgmWQ0AAAAASUVORK5CYII=: No connection adapters were found for 'data:image/png;base64,iVBORw0KGgoAAAANSUhEUgAAAAEAAAABCAQAAAC1HAwCAAAAC0lEQVQYV2NgYAAAAAMAAWgmWQ0AAAAASUVORK5CYII='\n"
     ]
    },
    {
     "name": "stderr",
     "output_type": "stream",
     "text": [
      "Procesando imágenes de https://www.pngwing.com/es/search?q=manzanilla: 100%|██████████| 61/61 [00:00<00:00, 241.38it/s]\n"
     ]
    },
    {
     "name": "stdout",
     "output_type": "stream",
     "text": [
      "Error al descargar https://www.pngwing.com/public/css/pngwing.svg: cannot identify image file <_io.BytesIO object at 0x0000022030D7FA60>\n"
     ]
    },
    {
     "name": "stderr",
     "output_type": "stream",
     "text": [
      "Procesando imágenes de https://es.pngtree.com/free-backgrounds-photos/la-manzanilla: 0it [00:00, ?it/s]\n",
      "Procesando imágenes de https://es.pngtree.com/free-backgrounds-photos/la-manzanilla: 0it [00:00, ?it/s]\n"
     ]
    },
    {
     "name": "stdout",
     "output_type": "stream",
     "text": [
      "Clase 'manzanilla' completada: 5 para entrenamiento, 2 para validación.\n",
      "Buscando imágenes para la clase: rosa\n",
      "Error procesando https://depositphotos.com/es/photos/rosa-planta.html: HTTPSConnectionPool(host='depositphotos.com', port=443): Max retries exceeded with url: /es/photos/rosa-planta.html (Caused by ConnectTimeoutError(<urllib3.connection.HTTPSConnection object at 0x0000022031347E80>, 'Connection to depositphotos.com timed out. (connect timeout=10)'))\n",
      "Error al descargar data:image/png;base64,iVBORw0KGgoAAAANSUhEUgAAAAEAAAABCAQAAAC1HAwCAAAAC0lEQVQYV2NgYAAAAAMAAWgmWQ0AAAAASUVORK5CYII=: No connection adapters were found for 'data:image/png;base64,iVBORw0KGgoAAAANSUhEUgAAAAEAAAABCAQAAAC1HAwCAAAAC0lEQVQYV2NgYAAAAAMAAWgmWQ0AAAAASUVORK5CYII='\n",
      "Error al descargar data:image/png;base64,iVBORw0KGgoAAAANSUhEUgAAAAEAAAABCAQAAAC1HAwCAAAAC0lEQVQYV2NgYAAAAAMAAWgmWQ0AAAAASUVORK5CYII=: No connection adapters were found for 'data:image/png;base64,iVBORw0KGgoAAAANSUhEUgAAAAEAAAABCAQAAAC1HAwCAAAAC0lEQVQYV2NgYAAAAAMAAWgmWQ0AAAAASUVORK5CYII='\n",
      "Error al descargar data:image/png;base64,iVBORw0KGgoAAAANSUhEUgAAAAEAAAABCAQAAAC1HAwCAAAAC0lEQVQYV2NgYAAAAAMAAWgmWQ0AAAAASUVORK5CYII=: No connection adapters were found for 'data:image/png;base64,iVBORw0KGgoAAAANSUhEUgAAAAEAAAABCAQAAAC1HAwCAAAAC0lEQVQYV2NgYAAAAAMAAWgmWQ0AAAAASUVORK5CYII='\n",
      "Error al descargar data:image/png;base64,iVBORw0KGgoAAAANSUhEUgAAAAEAAAABCAQAAAC1HAwCAAAAC0lEQVQYV2NgYAAAAAMAAWgmWQ0AAAAASUVORK5CYII=: No connection adapters were found for 'data:image/png;base64,iVBORw0KGgoAAAANSUhEUgAAAAEAAAABCAQAAAC1HAwCAAAAC0lEQVQYV2NgYAAAAAMAAWgmWQ0AAAAASUVORK5CYII='\n",
      "Error al descargar data:image/png;base64,iVBORw0KGgoAAAANSUhEUgAAAAEAAAABCAQAAAC1HAwCAAAAC0lEQVQYV2NgYAAAAAMAAWgmWQ0AAAAASUVORK5CYII=: No connection adapters were found for 'data:image/png;base64,iVBORw0KGgoAAAANSUhEUgAAAAEAAAABCAQAAAC1HAwCAAAAC0lEQVQYV2NgYAAAAAMAAWgmWQ0AAAAASUVORK5CYII='\n",
      "Error al descargar data:image/png;base64,iVBORw0KGgoAAAANSUhEUgAAAAEAAAABCAQAAAC1HAwCAAAAC0lEQVQYV2NgYAAAAAMAAWgmWQ0AAAAASUVORK5CYII=: No connection adapters were found for 'data:image/png;base64,iVBORw0KGgoAAAANSUhEUgAAAAEAAAABCAQAAAC1HAwCAAAAC0lEQVQYV2NgYAAAAAMAAWgmWQ0AAAAASUVORK5CYII='\n",
      "Error al descargar data:image/png;base64,iVBORw0KGgoAAAANSUhEUgAAAAEAAAABCAQAAAC1HAwCAAAAC0lEQVQYV2NgYAAAAAMAAWgmWQ0AAAAASUVORK5CYII=: No connection adapters were found for 'data:image/png;base64,iVBORw0KGgoAAAANSUhEUgAAAAEAAAABCAQAAAC1HAwCAAAAC0lEQVQYV2NgYAAAAAMAAWgmWQ0AAAAASUVORK5CYII='\n",
      "Error al descargar data:image/png;base64,iVBORw0KGgoAAAANSUhEUgAAAAEAAAABCAQAAAC1HAwCAAAAC0lEQVQYV2NgYAAAAAMAAWgmWQ0AAAAASUVORK5CYII=: No connection adapters were found for 'data:image/png;base64,iVBORw0KGgoAAAANSUhEUgAAAAEAAAABCAQAAAC1HAwCAAAAC0lEQVQYV2NgYAAAAAMAAWgmWQ0AAAAASUVORK5CYII='\n",
      "Error al descargar data:image/png;base64,iVBORw0KGgoAAAANSUhEUgAAAAEAAAABCAQAAAC1HAwCAAAAC0lEQVQYV2NgYAAAAAMAAWgmWQ0AAAAASUVORK5CYII=: No connection adapters were found for 'data:image/png;base64,iVBORw0KGgoAAAANSUhEUgAAAAEAAAABCAQAAAC1HAwCAAAAC0lEQVQYV2NgYAAAAAMAAWgmWQ0AAAAASUVORK5CYII='\n",
      "Error al descargar data:image/png;base64,iVBORw0KGgoAAAANSUhEUgAAAAEAAAABCAQAAAC1HAwCAAAAC0lEQVQYV2NgYAAAAAMAAWgmWQ0AAAAASUVORK5CYII=: No connection adapters were found for 'data:image/png;base64,iVBORw0KGgoAAAANSUhEUgAAAAEAAAABCAQAAAC1HAwCAAAAC0lEQVQYV2NgYAAAAAMAAWgmWQ0AAAAASUVORK5CYII='\n",
      "Error al descargar data:image/png;base64,iVBORw0KGgoAAAANSUhEUgAAAAEAAAABCAQAAAC1HAwCAAAAC0lEQVQYV2NgYAAAAAMAAWgmWQ0AAAAASUVORK5CYII=: No connection adapters were found for 'data:image/png;base64,iVBORw0KGgoAAAANSUhEUgAAAAEAAAABCAQAAAC1HAwCAAAAC0lEQVQYV2NgYAAAAAMAAWgmWQ0AAAAASUVORK5CYII='\n",
      "Error al descargar data:image/png;base64,iVBORw0KGgoAAAANSUhEUgAAAAEAAAABCAQAAAC1HAwCAAAAC0lEQVQYV2NgYAAAAAMAAWgmWQ0AAAAASUVORK5CYII=: No connection adapters were found for 'data:image/png;base64,iVBORw0KGgoAAAANSUhEUgAAAAEAAAABCAQAAAC1HAwCAAAAC0lEQVQYV2NgYAAAAAMAAWgmWQ0AAAAASUVORK5CYII='\n",
      "Error al descargar data:image/png;base64,iVBORw0KGgoAAAANSUhEUgAAAAEAAAABCAQAAAC1HAwCAAAAC0lEQVQYV2NgYAAAAAMAAWgmWQ0AAAAASUVORK5CYII=: No connection adapters were found for 'data:image/png;base64,iVBORw0KGgoAAAANSUhEUgAAAAEAAAABCAQAAAC1HAwCAAAAC0lEQVQYV2NgYAAAAAMAAWgmWQ0AAAAASUVORK5CYII='\n",
      "Error al descargar data:image/png;base64,iVBORw0KGgoAAAANSUhEUgAAAAEAAAABCAQAAAC1HAwCAAAAC0lEQVQYV2NgYAAAAAMAAWgmWQ0AAAAASUVORK5CYII=: No connection adapters were found for 'data:image/png;base64,iVBORw0KGgoAAAANSUhEUgAAAAEAAAABCAQAAAC1HAwCAAAAC0lEQVQYV2NgYAAAAAMAAWgmWQ0AAAAASUVORK5CYII='\n",
      "Error al descargar data:image/png;base64,iVBORw0KGgoAAAANSUhEUgAAAAEAAAABCAQAAAC1HAwCAAAAC0lEQVQYV2NgYAAAAAMAAWgmWQ0AAAAASUVORK5CYII=: No connection adapters were found for 'data:image/png;base64,iVBORw0KGgoAAAANSUhEUgAAAAEAAAABCAQAAAC1HAwCAAAAC0lEQVQYV2NgYAAAAAMAAWgmWQ0AAAAASUVORK5CYII='\n",
      "Error al descargar data:image/png;base64,iVBORw0KGgoAAAANSUhEUgAAAAEAAAABCAQAAAC1HAwCAAAAC0lEQVQYV2NgYAAAAAMAAWgmWQ0AAAAASUVORK5CYII=: No connection adapters were found for 'data:image/png;base64,iVBORw0KGgoAAAANSUhEUgAAAAEAAAABCAQAAAC1HAwCAAAAC0lEQVQYV2NgYAAAAAMAAWgmWQ0AAAAASUVORK5CYII='\n",
      "Error al descargar data:image/png;base64,iVBORw0KGgoAAAANSUhEUgAAAAEAAAABCAQAAAC1HAwCAAAAC0lEQVQYV2NgYAAAAAMAAWgmWQ0AAAAASUVORK5CYII=: No connection adapters were found for 'data:image/png;base64,iVBORw0KGgoAAAANSUhEUgAAAAEAAAABCAQAAAC1HAwCAAAAC0lEQVQYV2NgYAAAAAMAAWgmWQ0AAAAASUVORK5CYII='\n",
      "Error al descargar data:image/png;base64,iVBORw0KGgoAAAANSUhEUgAAAAEAAAABCAQAAAC1HAwCAAAAC0lEQVQYV2NgYAAAAAMAAWgmWQ0AAAAASUVORK5CYII=: No connection adapters were found for 'data:image/png;base64,iVBORw0KGgoAAAANSUhEUgAAAAEAAAABCAQAAAC1HAwCAAAAC0lEQVQYV2NgYAAAAAMAAWgmWQ0AAAAASUVORK5CYII='\n",
      "Error al descargar data:image/png;base64,iVBORw0KGgoAAAANSUhEUgAAAAEAAAABCAQAAAC1HAwCAAAAC0lEQVQYV2NgYAAAAAMAAWgmWQ0AAAAASUVORK5CYII=: No connection adapters were found for 'data:image/png;base64,iVBORw0KGgoAAAANSUhEUgAAAAEAAAABCAQAAAC1HAwCAAAAC0lEQVQYV2NgYAAAAAMAAWgmWQ0AAAAASUVORK5CYII='\n",
      "Error al descargar data:image/png;base64,iVBORw0KGgoAAAANSUhEUgAAAAEAAAABCAQAAAC1HAwCAAAAC0lEQVQYV2NgYAAAAAMAAWgmWQ0AAAAASUVORK5CYII=: No connection adapters were found for 'data:image/png;base64,iVBORw0KGgoAAAANSUhEUgAAAAEAAAABCAQAAAC1HAwCAAAAC0lEQVQYV2NgYAAAAAMAAWgmWQ0AAAAASUVORK5CYII='\n",
      "Error al descargar data:image/png;base64,iVBORw0KGgoAAAANSUhEUgAAAAEAAAABCAQAAAC1HAwCAAAAC0lEQVQYV2NgYAAAAAMAAWgmWQ0AAAAASUVORK5CYII=: No connection adapters were found for 'data:image/png;base64,iVBORw0KGgoAAAANSUhEUgAAAAEAAAABCAQAAAC1HAwCAAAAC0lEQVQYV2NgYAAAAAMAAWgmWQ0AAAAASUVORK5CYII='\n",
      "Error al descargar data:image/png;base64,iVBORw0KGgoAAAANSUhEUgAAAAEAAAABCAQAAAC1HAwCAAAAC0lEQVQYV2NgYAAAAAMAAWgmWQ0AAAAASUVORK5CYII=: No connection adapters were found for 'data:image/png;base64,iVBORw0KGgoAAAANSUhEUgAAAAEAAAABCAQAAAC1HAwCAAAAC0lEQVQYV2NgYAAAAAMAAWgmWQ0AAAAASUVORK5CYII='\n",
      "Error al descargar data:image/png;base64,iVBORw0KGgoAAAANSUhEUgAAAAEAAAABCAQAAAC1HAwCAAAAC0lEQVQYV2NgYAAAAAMAAWgmWQ0AAAAASUVORK5CYII=: No connection adapters were found for 'data:image/png;base64,iVBORw0KGgoAAAANSUhEUgAAAAEAAAABCAQAAAC1HAwCAAAAC0lEQVQYV2NgYAAAAAMAAWgmWQ0AAAAASUVORK5CYII='\n",
      "Error al descargar data:image/png;base64,iVBORw0KGgoAAAANSUhEUgAAAAEAAAABCAQAAAC1HAwCAAAAC0lEQVQYV2NgYAAAAAMAAWgmWQ0AAAAASUVORK5CYII=: No connection adapters were found for 'data:image/png;base64,iVBORw0KGgoAAAANSUhEUgAAAAEAAAABCAQAAAC1HAwCAAAAC0lEQVQYV2NgYAAAAAMAAWgmWQ0AAAAASUVORK5CYII='\n",
      "Error al descargar data:image/png;base64,iVBORw0KGgoAAAANSUhEUgAAAAEAAAABCAQAAAC1HAwCAAAAC0lEQVQYV2NgYAAAAAMAAWgmWQ0AAAAASUVORK5CYII=: No connection adapters were found for 'data:image/png;base64,iVBORw0KGgoAAAANSUhEUgAAAAEAAAABCAQAAAC1HAwCAAAAC0lEQVQYV2NgYAAAAAMAAWgmWQ0AAAAASUVORK5CYII='\n",
      "Error al descargar data:image/png;base64,iVBORw0KGgoAAAANSUhEUgAAAAEAAAABCAQAAAC1HAwCAAAAC0lEQVQYV2NgYAAAAAMAAWgmWQ0AAAAASUVORK5CYII=: No connection adapters were found for 'data:image/png;base64,iVBORw0KGgoAAAANSUhEUgAAAAEAAAABCAQAAAC1HAwCAAAAC0lEQVQYV2NgYAAAAAMAAWgmWQ0AAAAASUVORK5CYII='\n",
      "Error al descargar data:image/png;base64,iVBORw0KGgoAAAANSUhEUgAAAAEAAAABCAQAAAC1HAwCAAAAC0lEQVQYV2NgYAAAAAMAAWgmWQ0AAAAASUVORK5CYII=: No connection adapters were found for 'data:image/png;base64,iVBORw0KGgoAAAANSUhEUgAAAAEAAAABCAQAAAC1HAwCAAAAC0lEQVQYV2NgYAAAAAMAAWgmWQ0AAAAASUVORK5CYII='\n",
      "Error al descargar data:image/png;base64,iVBORw0KGgoAAAANSUhEUgAAAAEAAAABCAQAAAC1HAwCAAAAC0lEQVQYV2NgYAAAAAMAAWgmWQ0AAAAASUVORK5CYII=: No connection adapters were found for 'data:image/png;base64,iVBORw0KGgoAAAANSUhEUgAAAAEAAAABCAQAAAC1HAwCAAAAC0lEQVQYV2NgYAAAAAMAAWgmWQ0AAAAASUVORK5CYII='\n",
      "Error al descargar data:image/png;base64,iVBORw0KGgoAAAANSUhEUgAAAAEAAAABCAQAAAC1HAwCAAAAC0lEQVQYV2NgYAAAAAMAAWgmWQ0AAAAASUVORK5CYII=: No connection adapters were found for 'data:image/png;base64,iVBORw0KGgoAAAANSUhEUgAAAAEAAAABCAQAAAC1HAwCAAAAC0lEQVQYV2NgYAAAAAMAAWgmWQ0AAAAASUVORK5CYII='\n",
      "Error al descargar data:image/png;base64,iVBORw0KGgoAAAANSUhEUgAAAAEAAAABCAQAAAC1HAwCAAAAC0lEQVQYV2NgYAAAAAMAAWgmWQ0AAAAASUVORK5CYII=: No connection adapters were found for 'data:image/png;base64,iVBORw0KGgoAAAANSUhEUgAAAAEAAAABCAQAAAC1HAwCAAAAC0lEQVQYV2NgYAAAAAMAAWgmWQ0AAAAASUVORK5CYII='\n",
      "Error al descargar data:image/png;base64,iVBORw0KGgoAAAANSUhEUgAAAAEAAAABCAQAAAC1HAwCAAAAC0lEQVQYV2NgYAAAAAMAAWgmWQ0AAAAASUVORK5CYII=: No connection adapters were found for 'data:image/png;base64,iVBORw0KGgoAAAANSUhEUgAAAAEAAAABCAQAAAC1HAwCAAAAC0lEQVQYV2NgYAAAAAMAAWgmWQ0AAAAASUVORK5CYII='\n",
      "Error al descargar data:image/png;base64,iVBORw0KGgoAAAANSUhEUgAAAAEAAAABCAQAAAC1HAwCAAAAC0lEQVQYV2NgYAAAAAMAAWgmWQ0AAAAASUVORK5CYII=: No connection adapters were found for 'data:image/png;base64,iVBORw0KGgoAAAANSUhEUgAAAAEAAAABCAQAAAC1HAwCAAAAC0lEQVQYV2NgYAAAAAMAAWgmWQ0AAAAASUVORK5CYII='\n",
      "Error al descargar data:image/png;base64,iVBORw0KGgoAAAANSUhEUgAAAAEAAAABCAQAAAC1HAwCAAAAC0lEQVQYV2NgYAAAAAMAAWgmWQ0AAAAASUVORK5CYII=: No connection adapters were found for 'data:image/png;base64,iVBORw0KGgoAAAANSUhEUgAAAAEAAAABCAQAAAC1HAwCAAAAC0lEQVQYV2NgYAAAAAMAAWgmWQ0AAAAASUVORK5CYII='\n",
      "Error al descargar data:image/png;base64,iVBORw0KGgoAAAANSUhEUgAAAAEAAAABCAQAAAC1HAwCAAAAC0lEQVQYV2NgYAAAAAMAAWgmWQ0AAAAASUVORK5CYII=: No connection adapters were found for 'data:image/png;base64,iVBORw0KGgoAAAANSUhEUgAAAAEAAAABCAQAAAC1HAwCAAAAC0lEQVQYV2NgYAAAAAMAAWgmWQ0AAAAASUVORK5CYII='\n",
      "Error al descargar data:image/png;base64,iVBORw0KGgoAAAANSUhEUgAAAAEAAAABCAQAAAC1HAwCAAAAC0lEQVQYV2NgYAAAAAMAAWgmWQ0AAAAASUVORK5CYII=: No connection adapters were found for 'data:image/png;base64,iVBORw0KGgoAAAANSUhEUgAAAAEAAAABCAQAAAC1HAwCAAAAC0lEQVQYV2NgYAAAAAMAAWgmWQ0AAAAASUVORK5CYII='\n",
      "Error al descargar data:image/png;base64,iVBORw0KGgoAAAANSUhEUgAAAAEAAAABCAQAAAC1HAwCAAAAC0lEQVQYV2NgYAAAAAMAAWgmWQ0AAAAASUVORK5CYII=: No connection adapters were found for 'data:image/png;base64,iVBORw0KGgoAAAANSUhEUgAAAAEAAAABCAQAAAC1HAwCAAAAC0lEQVQYV2NgYAAAAAMAAWgmWQ0AAAAASUVORK5CYII='\n",
      "Error al descargar data:image/png;base64,iVBORw0KGgoAAAANSUhEUgAAAAEAAAABCAQAAAC1HAwCAAAAC0lEQVQYV2NgYAAAAAMAAWgmWQ0AAAAASUVORK5CYII=: No connection adapters were found for 'data:image/png;base64,iVBORw0KGgoAAAANSUhEUgAAAAEAAAABCAQAAAC1HAwCAAAAC0lEQVQYV2NgYAAAAAMAAWgmWQ0AAAAASUVORK5CYII='\n",
      "Error al descargar data:image/png;base64,iVBORw0KGgoAAAANSUhEUgAAAAEAAAABCAQAAAC1HAwCAAAAC0lEQVQYV2NgYAAAAAMAAWgmWQ0AAAAASUVORK5CYII=: No connection adapters were found for 'data:image/png;base64,iVBORw0KGgoAAAANSUhEUgAAAAEAAAABCAQAAAC1HAwCAAAAC0lEQVQYV2NgYAAAAAMAAWgmWQ0AAAAASUVORK5CYII='\n",
      "Error al descargar data:image/png;base64,iVBORw0KGgoAAAANSUhEUgAAAAEAAAABCAQAAAC1HAwCAAAAC0lEQVQYV2NgYAAAAAMAAWgmWQ0AAAAASUVORK5CYII=: No connection adapters were found for 'data:image/png;base64,iVBORw0KGgoAAAANSUhEUgAAAAEAAAABCAQAAAC1HAwCAAAAC0lEQVQYV2NgYAAAAAMAAWgmWQ0AAAAASUVORK5CYII='\n",
      "Error al descargar data:image/png;base64,iVBORw0KGgoAAAANSUhEUgAAAAEAAAABCAQAAAC1HAwCAAAAC0lEQVQYV2NgYAAAAAMAAWgmWQ0AAAAASUVORK5CYII=: No connection adapters were found for 'data:image/png;base64,iVBORw0KGgoAAAANSUhEUgAAAAEAAAABCAQAAAC1HAwCAAAAC0lEQVQYV2NgYAAAAAMAAWgmWQ0AAAAASUVORK5CYII='\n",
      "Error al descargar data:image/png;base64,iVBORw0KGgoAAAANSUhEUgAAAAEAAAABCAQAAAC1HAwCAAAAC0lEQVQYV2NgYAAAAAMAAWgmWQ0AAAAASUVORK5CYII=: No connection adapters were found for 'data:image/png;base64,iVBORw0KGgoAAAANSUhEUgAAAAEAAAABCAQAAAC1HAwCAAAAC0lEQVQYV2NgYAAAAAMAAWgmWQ0AAAAASUVORK5CYII='\n",
      "Error al descargar data:image/png;base64,iVBORw0KGgoAAAANSUhEUgAAAAEAAAABCAQAAAC1HAwCAAAAC0lEQVQYV2NgYAAAAAMAAWgmWQ0AAAAASUVORK5CYII=: No connection adapters were found for 'data:image/png;base64,iVBORw0KGgoAAAANSUhEUgAAAAEAAAABCAQAAAC1HAwCAAAAC0lEQVQYV2NgYAAAAAMAAWgmWQ0AAAAASUVORK5CYII='\n",
      "Error al descargar data:image/png;base64,iVBORw0KGgoAAAANSUhEUgAAAAEAAAABCAQAAAC1HAwCAAAAC0lEQVQYV2NgYAAAAAMAAWgmWQ0AAAAASUVORK5CYII=: No connection adapters were found for 'data:image/png;base64,iVBORw0KGgoAAAANSUhEUgAAAAEAAAABCAQAAAC1HAwCAAAAC0lEQVQYV2NgYAAAAAMAAWgmWQ0AAAAASUVORK5CYII='\n",
      "Error al descargar data:image/png;base64,iVBORw0KGgoAAAANSUhEUgAAAAEAAAABCAQAAAC1HAwCAAAAC0lEQVQYV2NgYAAAAAMAAWgmWQ0AAAAASUVORK5CYII=: No connection adapters were found for 'data:image/png;base64,iVBORw0KGgoAAAANSUhEUgAAAAEAAAABCAQAAAC1HAwCAAAAC0lEQVQYV2NgYAAAAAMAAWgmWQ0AAAAASUVORK5CYII='\n",
      "Error al descargar data:image/png;base64,iVBORw0KGgoAAAANSUhEUgAAAAEAAAABCAQAAAC1HAwCAAAAC0lEQVQYV2NgYAAAAAMAAWgmWQ0AAAAASUVORK5CYII=: No connection adapters were found for 'data:image/png;base64,iVBORw0KGgoAAAANSUhEUgAAAAEAAAABCAQAAAC1HAwCAAAAC0lEQVQYV2NgYAAAAAMAAWgmWQ0AAAAASUVORK5CYII='\n",
      "Error al descargar data:image/png;base64,iVBORw0KGgoAAAANSUhEUgAAAAEAAAABCAQAAAC1HAwCAAAAC0lEQVQYV2NgYAAAAAMAAWgmWQ0AAAAASUVORK5CYII=: No connection adapters were found for 'data:image/png;base64,iVBORw0KGgoAAAANSUhEUgAAAAEAAAABCAQAAAC1HAwCAAAAC0lEQVQYV2NgYAAAAAMAAWgmWQ0AAAAASUVORK5CYII='\n",
      "Error al descargar data:image/png;base64,iVBORw0KGgoAAAANSUhEUgAAAAEAAAABCAQAAAC1HAwCAAAAC0lEQVQYV2NgYAAAAAMAAWgmWQ0AAAAASUVORK5CYII=: No connection adapters were found for 'data:image/png;base64,iVBORw0KGgoAAAANSUhEUgAAAAEAAAABCAQAAAC1HAwCAAAAC0lEQVQYV2NgYAAAAAMAAWgmWQ0AAAAASUVORK5CYII='\n",
      "Error al descargar data:image/png;base64,iVBORw0KGgoAAAANSUhEUgAAAAEAAAABCAQAAAC1HAwCAAAAC0lEQVQYV2NgYAAAAAMAAWgmWQ0AAAAASUVORK5CYII=: No connection adapters were found for 'data:image/png;base64,iVBORw0KGgoAAAANSUhEUgAAAAEAAAABCAQAAAC1HAwCAAAAC0lEQVQYV2NgYAAAAAMAAWgmWQ0AAAAASUVORK5CYII='\n",
      "Error al descargar data:image/png;base64,iVBORw0KGgoAAAANSUhEUgAAAAEAAAABCAQAAAC1HAwCAAAAC0lEQVQYV2NgYAAAAAMAAWgmWQ0AAAAASUVORK5CYII=: No connection adapters were found for 'data:image/png;base64,iVBORw0KGgoAAAANSUhEUgAAAAEAAAABCAQAAAC1HAwCAAAAC0lEQVQYV2NgYAAAAAMAAWgmWQ0AAAAASUVORK5CYII='\n"
     ]
    },
    {
     "name": "stderr",
     "output_type": "stream",
     "text": [
      "Procesando imágenes de https://www.pngwing.com/es/search?q=planta+rosa:   0%|          | 0/61 [00:00<?, ?it/s]"
     ]
    },
    {
     "name": "stdout",
     "output_type": "stream",
     "text": [
      "Error al descargar data:image/png;base64,iVBORw0KGgoAAAANSUhEUgAAAAEAAAABCAQAAAC1HAwCAAAAC0lEQVQYV2NgYAAAAAMAAWgmWQ0AAAAASUVORK5CYII=: No connection adapters were found for 'data:image/png;base64,iVBORw0KGgoAAAANSUhEUgAAAAEAAAABCAQAAAC1HAwCAAAAC0lEQVQYV2NgYAAAAAMAAWgmWQ0AAAAASUVORK5CYII='\n",
      "Error al descargar data:image/png;base64,iVBORw0KGgoAAAANSUhEUgAAAAEAAAABCAQAAAC1HAwCAAAAC0lEQVQYV2NgYAAAAAMAAWgmWQ0AAAAASUVORK5CYII=: No connection adapters were found for 'data:image/png;base64,iVBORw0KGgoAAAANSUhEUgAAAAEAAAABCAQAAAC1HAwCAAAAC0lEQVQYV2NgYAAAAAMAAWgmWQ0AAAAASUVORK5CYII='\n",
      "Error al descargar data:image/png;base64,iVBORw0KGgoAAAANSUhEUgAAAAEAAAABCAQAAAC1HAwCAAAAC0lEQVQYV2NgYAAAAAMAAWgmWQ0AAAAASUVORK5CYII=: No connection adapters were found for 'data:image/png;base64,iVBORw0KGgoAAAANSUhEUgAAAAEAAAABCAQAAAC1HAwCAAAAC0lEQVQYV2NgYAAAAAMAAWgmWQ0AAAAASUVORK5CYII='\n",
      "Error al descargar data:image/png;base64,iVBORw0KGgoAAAANSUhEUgAAAAEAAAABCAQAAAC1HAwCAAAAC0lEQVQYV2NgYAAAAAMAAWgmWQ0AAAAASUVORK5CYII=: No connection adapters were found for 'data:image/png;base64,iVBORw0KGgoAAAANSUhEUgAAAAEAAAABCAQAAAC1HAwCAAAAC0lEQVQYV2NgYAAAAAMAAWgmWQ0AAAAASUVORK5CYII='\n",
      "Error al descargar data:image/png;base64,iVBORw0KGgoAAAANSUhEUgAAAAEAAAABCAQAAAC1HAwCAAAAC0lEQVQYV2NgYAAAAAMAAWgmWQ0AAAAASUVORK5CYII=: No connection adapters were found for 'data:image/png;base64,iVBORw0KGgoAAAANSUhEUgAAAAEAAAABCAQAAAC1HAwCAAAAC0lEQVQYV2NgYAAAAAMAAWgmWQ0AAAAASUVORK5CYII='\n",
      "Error al descargar data:image/png;base64,iVBORw0KGgoAAAANSUhEUgAAAAEAAAABCAQAAAC1HAwCAAAAC0lEQVQYV2NgYAAAAAMAAWgmWQ0AAAAASUVORK5CYII=: No connection adapters were found for 'data:image/png;base64,iVBORw0KGgoAAAANSUhEUgAAAAEAAAABCAQAAAC1HAwCAAAAC0lEQVQYV2NgYAAAAAMAAWgmWQ0AAAAASUVORK5CYII='\n",
      "Error al descargar data:image/png;base64,iVBORw0KGgoAAAANSUhEUgAAAAEAAAABCAQAAAC1HAwCAAAAC0lEQVQYV2NgYAAAAAMAAWgmWQ0AAAAASUVORK5CYII=: No connection adapters were found for 'data:image/png;base64,iVBORw0KGgoAAAANSUhEUgAAAAEAAAABCAQAAAC1HAwCAAAAC0lEQVQYV2NgYAAAAAMAAWgmWQ0AAAAASUVORK5CYII='\n",
      "Error al descargar data:image/png;base64,iVBORw0KGgoAAAANSUhEUgAAAAEAAAABCAQAAAC1HAwCAAAAC0lEQVQYV2NgYAAAAAMAAWgmWQ0AAAAASUVORK5CYII=: No connection adapters were found for 'data:image/png;base64,iVBORw0KGgoAAAANSUhEUgAAAAEAAAABCAQAAAC1HAwCAAAAC0lEQVQYV2NgYAAAAAMAAWgmWQ0AAAAASUVORK5CYII='\n",
      "Error al descargar data:image/png;base64,iVBORw0KGgoAAAANSUhEUgAAAAEAAAABCAQAAAC1HAwCAAAAC0lEQVQYV2NgYAAAAAMAAWgmWQ0AAAAASUVORK5CYII=: No connection adapters were found for 'data:image/png;base64,iVBORw0KGgoAAAANSUhEUgAAAAEAAAABCAQAAAC1HAwCAAAAC0lEQVQYV2NgYAAAAAMAAWgmWQ0AAAAASUVORK5CYII='\n",
      "Error al descargar data:image/png;base64,iVBORw0KGgoAAAANSUhEUgAAAAEAAAABCAQAAAC1HAwCAAAAC0lEQVQYV2NgYAAAAAMAAWgmWQ0AAAAASUVORK5CYII=: No connection adapters were found for 'data:image/png;base64,iVBORw0KGgoAAAANSUhEUgAAAAEAAAABCAQAAAC1HAwCAAAAC0lEQVQYV2NgYAAAAAMAAWgmWQ0AAAAASUVORK5CYII='\n",
      "Error al descargar data:image/png;base64,iVBORw0KGgoAAAANSUhEUgAAAAEAAAABCAQAAAC1HAwCAAAAC0lEQVQYV2NgYAAAAAMAAWgmWQ0AAAAASUVORK5CYII=: No connection adapters were found for 'data:image/png;base64,iVBORw0KGgoAAAANSUhEUgAAAAEAAAABCAQAAAC1HAwCAAAAC0lEQVQYV2NgYAAAAAMAAWgmWQ0AAAAASUVORK5CYII='\n"
     ]
    },
    {
     "name": "stderr",
     "output_type": "stream",
     "text": [
      "Procesando imágenes de https://www.pngwing.com/es/search?q=planta+rosa: 100%|██████████| 61/61 [00:00<00:00, 272.34it/s]"
     ]
    },
    {
     "name": "stdout",
     "output_type": "stream",
     "text": [
      "Error al descargar https://www.pngwing.com/public/css/pngwing.svg: cannot identify image file <_io.BytesIO object at 0x000002203119C590>\n"
     ]
    },
    {
     "name": "stderr",
     "output_type": "stream",
     "text": [
      "\n"
     ]
    },
    {
     "name": "stdout",
     "output_type": "stream",
     "text": [
      "Error procesando https://depositphotos.com/es/photos/naturaleza-planta-rosa.html: HTTPSConnectionPool(host='depositphotos.com', port=443): Max retries exceeded with url: /es/photos/naturaleza-planta-rosa.html (Caused by ConnectTimeoutError(<urllib3.connection.HTTPSConnection object at 0x0000022031D772E0>, 'Connection to depositphotos.com timed out. (connect timeout=10)'))\n"
     ]
    },
    {
     "name": "stderr",
     "output_type": "stream",
     "text": [
      "Procesando imágenes de https://es.123rf.com/imagenes-de-archivo/flor_rosa_planta.html:   4%|▎         | 11/295 [00:00<00:09, 31.15it/s]"
     ]
    },
    {
     "name": "stdout",
     "output_type": "stream",
     "text": [
      "Error al descargar https://assets-cdn.123rf.com/ui-components/assets/svg/gradient/123rf-logo-gradient.svg: cannot identify image file <_io.BytesIO object at 0x0000022030AC5C10>\n",
      "Error al descargar https://assets-cdn.123rf.com/ui-components/assets/svg/chevron-down.svg: cannot identify image file <_io.BytesIO object at 0x0000022030AC5CB0>\n",
      "Error al descargar https://assets-cdn.123rf.com/ui-components/assets/svg/ai-face-swap.svg: cannot identify image file <_io.BytesIO object at 0x0000022030AA1C10>\n",
      "Error al descargar https://assets-cdn.123rf.com/ui-components/assets/svg/ai-sketch.svg: cannot identify image file <_io.BytesIO object at 0x00000220324301D0>\n",
      "Error al descargar https://assets-cdn.123rf.com/ui-components/assets/svg/ai-img-upscaler.svg: cannot identify image file <_io.BytesIO object at 0x0000022030AA0810>\n",
      "Error al descargar https://assets-cdn.123rf.com/ui-components/assets/svg/ai-img-generator.svg: cannot identify image file <_io.BytesIO object at 0x0000022030AC70B0>\n",
      "Error al descargar https://assets-cdn.123rf.com/ui-components/assets/svg/ai-generative-fill.svg: cannot identify image file <_io.BytesIO object at 0x0000022030D9BA60>\n",
      "Error al descargar https://assets-cdn.123rf.com/ui-components/assets/svg/ai-bg-blur.svg: cannot identify image file <_io.BytesIO object at 0x0000022030D9BA60>\n"
     ]
    },
    {
     "name": "stderr",
     "output_type": "stream",
     "text": [
      "Procesando imágenes de https://es.123rf.com/imagenes-de-archivo/flor_rosa_planta.html:   6%|▌         | 17/295 [00:00<00:08, 34.16it/s]"
     ]
    },
    {
     "name": "stdout",
     "output_type": "stream",
     "text": [
      "Error al descargar https://assets-cdn.123rf.com/ui-components/assets/svg/ai-img-extender.svg: cannot identify image file <_io.BytesIO object at 0x0000022030AA20C0>\n",
      "Error al descargar https://assets-cdn.123rf.com/ui-components/assets/svg/ai-bg-remix.svg: cannot identify image file <_io.BytesIO object at 0x000002202F16D800>\n",
      "Error al descargar https://assets-cdn.123rf.com/ui-components/assets/svg/ai-writer.svg: cannot identify image file <_io.BytesIO object at 0x0000022030AA2840>\n",
      "Error al descargar https://assets-cdn.123rf.com/ui-components/assets/svg/chevron-down.svg: cannot identify image file <_io.BytesIO object at 0x0000022030AC5300>\n"
     ]
    },
    {
     "name": "stderr",
     "output_type": "stream",
     "text": [
      "Procesando imágenes de https://es.123rf.com/imagenes-de-archivo/flor_rosa_planta.html:  10%|█         | 30/295 [00:00<00:07, 36.62it/s]"
     ]
    },
    {
     "name": "stdout",
     "output_type": "stream",
     "text": [
      "Error al descargar https://assets-cdn.123rf.com/ui-components/assets/svg/ai-bg-removal.svg: cannot identify image file <_io.BytesIO object at 0x0000022030AA04A0>\n",
      "Error al descargar https://assets-cdn.123rf.com/ui-components/assets/svg/chevron-down.svg: cannot identify image file <_io.BytesIO object at 0x00000220321241D0>\n",
      "Error al descargar https://assets-cdn.123rf.com/ui-components/assets/svg/tick.svg: cannot identify image file <_io.BytesIO object at 0x0000022032430A90>\n",
      "Error al descargar https://assets-cdn.123rf.com/ui-components/assets/svg/tick.svg: cannot identify image file <_io.BytesIO object at 0x0000022030AA0810>\n",
      "Error al descargar https://assets-cdn.123rf.com/ui-components/assets/svg/tick.svg: cannot identify image file <_io.BytesIO object at 0x0000022030AA20C0>\n",
      "Error al descargar https://assets-cdn.123rf.com/ui-components/assets/svg/tick.svg: cannot identify image file <_io.BytesIO object at 0x0000022031193DD0>\n",
      "Error al descargar https://assets-cdn.123rf.com/ui-components/assets/images/plus-upsell-ai-v3.png: cannot write mode P as JPEG\n",
      "Error al descargar https://assets-cdn.123rf.com/ui-components/assets/svg/tick.svg: cannot identify image file <_io.BytesIO object at 0x0000022030AC6E80>\n",
      "Error al descargar https://assets-cdn.123rf.com/ui-components/assets/svg/tick.svg: cannot identify image file <_io.BytesIO object at 0x0000022030D98770>\n"
     ]
    },
    {
     "name": "stderr",
     "output_type": "stream",
     "text": [
      "Procesando imágenes de https://es.123rf.com/imagenes-de-archivo/flor_rosa_planta.html:  12%|█▏        | 36/295 [00:01<00:06, 40.43it/s]"
     ]
    },
    {
     "name": "stdout",
     "output_type": "stream",
     "text": [
      "Error al descargar https://assets-cdn.123rf.com/ui-components/assets/svg/tick.svg: cannot identify image file <_io.BytesIO object at 0x00000220311C43B0>\n",
      "Error al descargar https://assets-cdn.123rf.com/ui-components/assets/svg/tick.svg: cannot identify image file <_io.BytesIO object at 0x0000022030AA2A70>\n",
      "Error al descargar https://assets-cdn.123rf.com/ui-components/assets/svg/tick.svg: cannot identify image file <_io.BytesIO object at 0x0000022032432DE0>\n",
      "Error al descargar https://assets-cdn.123rf.com/ui-components/assets/svg/tick.svg: cannot identify image file <_io.BytesIO object at 0x00000220324321B0>\n",
      "Error al descargar https://assets-cdn.123rf.com/ui-components/assets/svg/tick.svg: cannot identify image file <_io.BytesIO object at 0x0000022030AC54E0>\n",
      "Error al descargar https://assets-cdn.123rf.com/ui-components/assets/svg/tick.svg: cannot identify image file <_io.BytesIO object at 0x0000022030AA0810>\n",
      "Error al descargar https://assets-cdn.123rf.com/ui-components/assets/svg/tick.svg: cannot identify image file <_io.BytesIO object at 0x0000022030AC4E50>\n",
      "Error al descargar https://assets-cdn.123rf.com/ui-components/assets/svg/tick.svg: cannot identify image file <_io.BytesIO object at 0x0000022032120EA0>\n"
     ]
    },
    {
     "name": "stderr",
     "output_type": "stream",
     "text": [
      "Procesando imágenes de https://es.123rf.com/imagenes-de-archivo/flor_rosa_planta.html:  14%|█▍        | 41/295 [00:01<00:09, 26.63it/s]"
     ]
    },
    {
     "name": "stdout",
     "output_type": "stream",
     "text": [
      "Error al descargar https://assets-cdn.123rf.com/ui-components/assets/svg/tick.svg: cannot identify image file <_io.BytesIO object at 0x0000022030AA33D0>\n",
      "Error al descargar https://assets-cdn.123rf.com/ui-components/assets/svg/menu.svg: cannot identify image file <_io.BytesIO object at 0x0000022030AA1C10>\n",
      "Error al descargar https://assets-cdn.123rf.com/ui-components/assets/svg/close.svg: cannot identify image file <_io.BytesIO object at 0x00000220311C4360>\n",
      "Error al descargar https://assets-cdn.123rf.com/ui-components/assets/svg/camera.svg: cannot identify image file <_io.BytesIO object at 0x0000022030D99FD0>\n",
      "Error al descargar https://assets-cdn.123rf.com/ui-components/assets/svg/upload.svg: cannot identify image file <_io.BytesIO object at 0x00000220324318A0>\n",
      "Error al descargar https://assets-cdn.123rf.com/ui-components/assets/svg/close.svg: cannot identify image file <_io.BytesIO object at 0x0000022030AA20C0>\n",
      "Error al descargar https://assets-cdn.123rf.com/ui-components/assets/svg/camera.svg: cannot identify image file <_io.BytesIO object at 0x0000022031193DD0>\n",
      "Error al descargar https://assets-cdn.123rf.com/ui-components/assets/svg/chevron-down.svg: cannot identify image file <_io.BytesIO object at 0x000002202F16D800>\n",
      "Error al descargar https://assets-cdn.123rf.com/ui-components/assets/svg/all-images.svg: cannot identify image file <_io.BytesIO object at 0x0000022032430BD0>\n",
      "Error al descargar https://assets-cdn.123rf.com/ui-components/assets/svg/premium.svg: cannot identify image file <_io.BytesIO object at 0x0000022032120EA0>\n"
     ]
    },
    {
     "name": "stderr",
     "output_type": "stream",
     "text": [
      "Procesando imágenes de https://es.123rf.com/imagenes-de-archivo/flor_rosa_planta.html:  19%|█▊        | 55/295 [00:01<00:07, 33.64it/s]"
     ]
    },
    {
     "name": "stdout",
     "output_type": "stream",
     "text": [
      "Error al descargar https://assets-cdn.123rf.com/ui-components/assets/svg/all-images.svg: cannot identify image file <_io.BytesIO object at 0x0000022030AC6E80>\n",
      "Error al descargar https://assets-cdn.123rf.com/ui-components/assets/svg/photos.svg: cannot identify image file <_io.BytesIO object at 0x0000022032432340>\n",
      "Error al descargar https://assets-cdn.123rf.com/ui-components/assets/svg/footage.svg: cannot identify image file <_io.BytesIO object at 0x0000022030D99FD0>\n",
      "Error al descargar https://assets-cdn.123rf.com/ui-components/assets/svg/vector.svg: cannot identify image file <_io.BytesIO object at 0x0000022030AA2A70>\n",
      "Error al descargar https://assets-cdn.123rf.com/ui-components/assets/svg/font-v2.svg: cannot identify image file <_io.BytesIO object at 0x0000022030AA20C0>\n",
      "Error al descargar https://assets-cdn.123rf.com/ui-components/assets/svg/audio.svg: cannot identify image file <_io.BytesIO object at 0x0000022032430360>\n"
     ]
    },
    {
     "name": "stderr",
     "output_type": "stream",
     "text": [
      "Procesando imágenes de https://es.123rf.com/imagenes-de-archivo/flor_rosa_planta.html:  21%|██        | 61/295 [00:01<00:06, 36.22it/s]"
     ]
    },
    {
     "name": "stdout",
     "output_type": "stream",
     "text": [
      "Error al descargar https://assets-cdn.123rf.com/ui-components/assets/svg/search.svg: cannot identify image file <_io.BytesIO object at 0x0000022030AC5FD0>\n",
      "Error al descargar https://assets-cdn.123rf.com/ui-components/assets/svg/free.svg: cannot identify image file <_io.BytesIO object at 0x0000022030AC6430>\n",
      "Error al descargar https://assets-cdn.123rf.com/ui-components/assets/svg/plus.svg: cannot identify image file <_io.BytesIO object at 0x0000022030AC5760>\n",
      "Error al descargar https://assets-cdn.123rf.com/ui-components/assets/svg/ai-img-generator.svg: cannot identify image file <_io.BytesIO object at 0x0000022031193DD0>\n",
      "Error al descargar https://assets-cdn.123rf.com/ui-components/assets/svg/gradient/premium-crown-gradient2.svg: cannot identify image file <_io.BytesIO object at 0x0000022030AC60C0>\n",
      "Error al descargar https://assets-cdn.123rf.com/ui-components/assets/svg/collection.svg: cannot identify image file <_io.BytesIO object at 0x0000022030AA10D0>\n"
     ]
    },
    {
     "name": "stderr",
     "output_type": "stream",
     "text": [
      "Procesando imágenes de https://es.123rf.com/imagenes-de-archivo/flor_rosa_planta.html:  24%|██▍       | 71/295 [00:02<00:05, 39.34it/s]"
     ]
    },
    {
     "name": "stdout",
     "output_type": "stream",
     "text": [
      "Error al descargar https://assets-cdn.123rf.com/ui-components/assets/svg/collection.svg: cannot identify image file <_io.BytesIO object at 0x0000022030AA2840>\n",
      "Error al descargar https://assets-cdn.123rf.com/ui-components/assets/svg/collection.svg: cannot identify image file <_io.BytesIO object at 0x0000022030AC58A0>\n",
      "Error al descargar https://assets-cdn.123rf.com/ui-components/assets/svg/gradient/premium-crown-gradient2.svg: cannot identify image file <_io.BytesIO object at 0x0000022030AC6E80>\n",
      "Error al descargar https://assets-cdn.123rf.com/ui-components/assets/svg/collection.svg: cannot identify image file <_io.BytesIO object at 0x000002202F16D800>\n",
      "Error al descargar https://assets-cdn.123rf.com/ui-components/assets/svg/collection.svg: cannot identify image file <_io.BytesIO object at 0x0000022030AA2A70>\n"
     ]
    },
    {
     "name": "stderr",
     "output_type": "stream",
     "text": [
      "Procesando imágenes de https://es.123rf.com/imagenes-de-archivo/flor_rosa_planta.html:  27%|██▋       | 79/295 [00:02<00:04, 47.46it/s]"
     ]
    },
    {
     "name": "stdout",
     "output_type": "stream",
     "text": [
      "Error al descargar https://assets-cdn.123rf.com/ui-components/assets/svg/collection.svg: cannot identify image file <_io.BytesIO object at 0x0000022030AC5260>\n",
      "Error al descargar https://assets-cdn.123rf.com/ui-components/assets/svg/gradient/premium-crown-gradient2.svg: cannot identify image file <_io.BytesIO object at 0x00000220311C43B0>\n",
      "Error al descargar https://assets-cdn.123rf.com/ui-components/assets/svg/gradient/premium-crown-gradient2.svg: cannot identify image file <_io.BytesIO object at 0x0000022031193DD0>\n",
      "Error al descargar https://assets-cdn.123rf.com/ui-components/assets/svg/collection.svg: cannot identify image file <_io.BytesIO object at 0x0000022030AA0810>\n",
      "Error al descargar https://assets-cdn.123rf.com/ui-components/assets/svg/gradient/premium-crown-gradient2.svg: cannot identify image file <_io.BytesIO object at 0x0000022030AA28E0>\n",
      "Error al descargar https://assets-cdn.123rf.com/ui-components/assets/svg/collection.svg: cannot identify image file <_io.BytesIO object at 0x0000022030AC5760>\n",
      "Error al descargar https://assets-cdn.123rf.com/ui-components/assets/svg/collection.svg: cannot identify image file <_io.BytesIO object at 0x00000220321241D0>\n",
      "Error al descargar https://assets-cdn.123rf.com/ui-components/assets/svg/collection.svg: cannot identify image file <_io.BytesIO object at 0x0000022030AC5C10>\n",
      "Error al descargar https://assets-cdn.123rf.com/ui-components/assets/svg/gradient/premium-crown-gradient2.svg: cannot identify image file <_io.BytesIO object at 0x0000022030AC4F40>\n",
      "Error al descargar https://assets-cdn.123rf.com/ui-components/assets/svg/collection.svg: cannot identify image file <_io.BytesIO object at 0x0000022030AA1850>\n",
      "Error al descargar https://assets-cdn.123rf.com/ui-components/assets/svg/collection.svg: cannot identify image file <_io.BytesIO object at 0x0000022030AA33D0>\n",
      "Error al descargar https://assets-cdn.123rf.com/ui-components/assets/svg/gradient/premium-crown-gradient2.svg: cannot identify image file <_io.BytesIO object at 0x00000220311C4360>\n",
      "Error al descargar https://assets-cdn.123rf.com/ui-components/assets/svg/collection.svg: cannot identify image file <_io.BytesIO object at 0x000002202F16D800>\n",
      "Error al descargar https://assets-cdn.123rf.com/ui-components/assets/svg/collection.svg: cannot identify image file <_io.BytesIO object at 0x0000022030AA0810>\n"
     ]
    },
    {
     "name": "stderr",
     "output_type": "stream",
     "text": [
      "Procesando imágenes de https://es.123rf.com/imagenes-de-archivo/flor_rosa_planta.html:  34%|███▍      | 100/295 [00:02<00:04, 43.58it/s]"
     ]
    },
    {
     "name": "stdout",
     "output_type": "stream",
     "text": [
      "Error al descargar https://assets-cdn.123rf.com/ui-components/assets/svg/collection.svg: cannot identify image file <_io.BytesIO object at 0x0000022030AC5300>\n",
      "Error al descargar https://assets-cdn.123rf.com/ui-components/assets/svg/collection.svg: cannot identify image file <_io.BytesIO object at 0x0000022031193DD0>\n",
      "Error al descargar https://assets-cdn.123rf.com/ui-components/assets/svg/collection.svg: cannot identify image file <_io.BytesIO object at 0x0000022030AC4B30>\n",
      "Error al descargar https://assets-cdn.123rf.com/ui-components/assets/svg/gradient/premium-crown-gradient2.svg: cannot identify image file <_io.BytesIO object at 0x0000022030AC5170>\n",
      "Error al descargar https://assets-cdn.123rf.com/ui-components/assets/svg/gradient/premium-crown-gradient2.svg: cannot identify image file <_io.BytesIO object at 0x00000220321241D0>\n",
      "Error al descargar https://assets-cdn.123rf.com/ui-components/assets/svg/collection.svg: cannot identify image file <_io.BytesIO object at 0x0000022030AC53A0>\n",
      "Error al descargar https://assets-cdn.123rf.com/ui-components/assets/svg/gradient/premium-crown-gradient2.svg: cannot identify image file <_io.BytesIO object at 0x0000022030AA2840>\n"
     ]
    },
    {
     "name": "stderr",
     "output_type": "stream",
     "text": [
      "Procesando imágenes de https://es.123rf.com/imagenes-de-archivo/flor_rosa_planta.html:  36%|███▋      | 107/295 [00:02<00:04, 45.61it/s]"
     ]
    },
    {
     "name": "stdout",
     "output_type": "stream",
     "text": [
      "Error al descargar https://assets-cdn.123rf.com/ui-components/assets/svg/collection.svg: cannot identify image file <_io.BytesIO object at 0x00000220311C43B0>\n",
      "Error al descargar https://assets-cdn.123rf.com/ui-components/assets/svg/collection.svg: cannot identify image file <_io.BytesIO object at 0x0000022030AA1850>\n",
      "Error al descargar https://assets-cdn.123rf.com/ui-components/assets/svg/gradient/premium-crown-gradient2.svg: cannot identify image file <_io.BytesIO object at 0x0000022030AC70B0>\n",
      "Error al descargar https://assets-cdn.123rf.com/ui-components/assets/svg/collection.svg: cannot identify image file <_io.BytesIO object at 0x0000022030AA33D0>\n",
      "Error al descargar https://assets-cdn.123rf.com/ui-components/assets/svg/collection.svg: cannot identify image file <_io.BytesIO object at 0x0000022030AC6110>\n"
     ]
    },
    {
     "name": "stderr",
     "output_type": "stream",
     "text": [
      "Procesando imágenes de https://es.123rf.com/imagenes-de-archivo/flor_rosa_planta.html:  39%|███▊      | 114/295 [00:03<00:04, 36.86it/s]"
     ]
    },
    {
     "name": "stdout",
     "output_type": "stream",
     "text": [
      "Error al descargar https://assets-cdn.123rf.com/ui-components/assets/svg/collection.svg: cannot identify image file <_io.BytesIO object at 0x0000022030D9BA60>\n",
      "Error al descargar https://assets-cdn.123rf.com/ui-components/assets/svg/gradient/premium-crown-gradient2.svg: cannot identify image file <_io.BytesIO object at 0x0000022030AA1850>\n",
      "Error al descargar https://assets-cdn.123rf.com/ui-components/assets/svg/collection.svg: cannot identify image file <_io.BytesIO object at 0x0000022032120EA0>\n",
      "Error al descargar https://assets-cdn.123rf.com/ui-components/assets/svg/collection.svg: cannot identify image file <_io.BytesIO object at 0x0000022032124130>\n",
      "Error al descargar https://assets-cdn.123rf.com/ui-components/assets/svg/collection.svg: cannot identify image file <_io.BytesIO object at 0x0000022030AA33D0>\n",
      "Error al descargar https://assets-cdn.123rf.com/ui-components/assets/svg/collection.svg: cannot identify image file <_io.BytesIO object at 0x0000022030AA2840>\n"
     ]
    },
    {
     "name": "stderr",
     "output_type": "stream",
     "text": [
      "Procesando imágenes de https://es.123rf.com/imagenes-de-archivo/flor_rosa_planta.html:  45%|████▌     | 134/295 [00:03<00:03, 52.02it/s]"
     ]
    },
    {
     "name": "stdout",
     "output_type": "stream",
     "text": [
      "Error al descargar https://assets-cdn.123rf.com/ui-components/assets/svg/collection.svg: cannot identify image file <_io.BytesIO object at 0x0000022030AC5300>\n",
      "Error al descargar https://assets-cdn.123rf.com/ui-components/assets/svg/gradient/premium-crown-gradient2.svg: cannot identify image file <_io.BytesIO object at 0x0000022030AC4B30>\n",
      "Error al descargar https://assets-cdn.123rf.com/ui-components/assets/svg/gradient/premium-crown-gradient2.svg: cannot identify image file <_io.BytesIO object at 0x0000022030D98B30>\n",
      "Error al descargar https://assets-cdn.123rf.com/ui-components/assets/svg/collection.svg: cannot identify image file <_io.BytesIO object at 0x0000022031193DD0>\n",
      "Error al descargar https://assets-cdn.123rf.com/ui-components/assets/svg/collection.svg: cannot identify image file <_io.BytesIO object at 0x0000022030AC60C0>\n",
      "Error al descargar https://assets-cdn.123rf.com/ui-components/assets/svg/collection.svg: cannot identify image file <_io.BytesIO object at 0x0000022030AA10D0>\n",
      "Error al descargar https://assets-cdn.123rf.com/ui-components/assets/svg/collection.svg: cannot identify image file <_io.BytesIO object at 0x0000022030D9BA60>\n"
     ]
    },
    {
     "name": "stderr",
     "output_type": "stream",
     "text": [
      "Procesando imágenes de https://es.123rf.com/imagenes-de-archivo/flor_rosa_planta.html:  51%|█████     | 149/295 [00:03<00:03, 46.08it/s]"
     ]
    },
    {
     "name": "stdout",
     "output_type": "stream",
     "text": [
      "Error al descargar https://assets-cdn.123rf.com/ui-components/assets/svg/collection.svg: cannot identify image file <_io.BytesIO object at 0x0000022032120EA0>\n",
      "Error al descargar https://assets-cdn.123rf.com/ui-components/assets/svg/collection.svg: cannot identify image file <_io.BytesIO object at 0x0000022031B60400>\n",
      "Error al descargar https://assets-cdn.123rf.com/ui-components/assets/svg/collection.svg: cannot identify image file <_io.BytesIO object at 0x0000022030D98770>\n",
      "Error al descargar https://assets-cdn.123rf.com/ui-components/assets/svg/collection.svg: cannot identify image file <_io.BytesIO object at 0x0000022032124130>\n",
      "Error al descargar https://assets-cdn.123rf.com/ui-components/assets/svg/collection.svg: cannot identify image file <_io.BytesIO object at 0x0000022030AC6110>\n",
      "Error al descargar https://assets-cdn.123rf.com/ui-components/assets/svg/collection.svg: cannot identify image file <_io.BytesIO object at 0x000002202F16D800>\n",
      "Error al descargar https://assets-cdn.123rf.com/ui-components/assets/svg/gradient/premium-crown-gradient2.svg: cannot identify image file <_io.BytesIO object at 0x0000022030AA3240>\n"
     ]
    },
    {
     "name": "stderr",
     "output_type": "stream",
     "text": [
      "Procesando imágenes de https://es.123rf.com/imagenes-de-archivo/flor_rosa_planta.html:  55%|█████▍    | 162/295 [00:04<00:02, 47.99it/s]"
     ]
    },
    {
     "name": "stdout",
     "output_type": "stream",
     "text": [
      "Error al descargar https://assets-cdn.123rf.com/ui-components/assets/svg/collection.svg: cannot identify image file <_io.BytesIO object at 0x0000022030AC53A0>\n",
      "Error al descargar https://assets-cdn.123rf.com/ui-components/assets/svg/collection.svg: cannot identify image file <_io.BytesIO object at 0x00000220311C4360>\n",
      "Error al descargar https://assets-cdn.123rf.com/ui-components/assets/svg/gradient/premium-crown-gradient2.svg: cannot identify image file <_io.BytesIO object at 0x0000022030D9BA60>\n",
      "Error al descargar https://assets-cdn.123rf.com/ui-components/assets/svg/collection.svg: cannot identify image file <_io.BytesIO object at 0x0000022030D9B790>\n",
      "Error al descargar https://assets-cdn.123rf.com/ui-components/assets/svg/collection.svg: cannot identify image file <_io.BytesIO object at 0x0000022030AA2840>\n",
      "Error al descargar https://assets-cdn.123rf.com/ui-components/assets/svg/gradient/premium-crown-gradient2.svg: cannot identify image file <_io.BytesIO object at 0x0000022031193DD0>\n",
      "Error al descargar https://assets-cdn.123rf.com/ui-components/assets/svg/collection.svg: cannot identify image file <_io.BytesIO object at 0x00000220311C43B0>\n"
     ]
    },
    {
     "name": "stderr",
     "output_type": "stream",
     "text": [
      "Procesando imágenes de https://es.123rf.com/imagenes-de-archivo/flor_rosa_planta.html:  57%|█████▋    | 168/295 [00:04<00:02, 48.73it/s]"
     ]
    },
    {
     "name": "stdout",
     "output_type": "stream",
     "text": [
      "Error al descargar https://assets-cdn.123rf.com/ui-components/assets/svg/gradient/premium-crown-gradient2.svg: cannot identify image file <_io.BytesIO object at 0x0000022032120EA0>\n",
      "Error al descargar https://assets-cdn.123rf.com/ui-components/assets/svg/collection.svg: cannot identify image file <_io.BytesIO object at 0x0000022031B60400>\n",
      "Error al descargar https://assets-cdn.123rf.com/ui-components/assets/svg/collection.svg: cannot identify image file <_io.BytesIO object at 0x0000022030AA1C10>\n",
      "Error al descargar https://assets-cdn.123rf.com/ui-components/assets/svg/collection.svg: cannot identify image file <_io.BytesIO object at 0x000002202F16D800>\n",
      "Error al descargar https://assets-cdn.123rf.com/ui-components/assets/svg/gradient/premium-crown-gradient2.svg: cannot identify image file <_io.BytesIO object at 0x0000022030AA0810>\n",
      "Error al descargar https://assets-cdn.123rf.com/ui-components/assets/svg/collection.svg: cannot identify image file <_io.BytesIO object at 0x0000022030D9B790>\n"
     ]
    },
    {
     "name": "stderr",
     "output_type": "stream",
     "text": [
      "Procesando imágenes de https://es.123rf.com/imagenes-de-archivo/flor_rosa_planta.html:  59%|█████▉    | 174/295 [00:04<00:02, 48.91it/s]"
     ]
    },
    {
     "name": "stdout",
     "output_type": "stream",
     "text": [
      "Error al descargar https://assets-cdn.123rf.com/ui-components/assets/svg/collection.svg: cannot identify image file <_io.BytesIO object at 0x0000022030AA3240>\n",
      "Error al descargar https://assets-cdn.123rf.com/ui-components/assets/svg/collection.svg: cannot identify image file <_io.BytesIO object at 0x0000022031B60400>\n",
      "Error al descargar https://assets-cdn.123rf.com/ui-components/assets/svg/collection.svg: cannot identify image file <_io.BytesIO object at 0x0000022032124130>\n"
     ]
    },
    {
     "name": "stderr",
     "output_type": "stream",
     "text": [
      "Procesando imágenes de https://es.123rf.com/imagenes-de-archivo/flor_rosa_planta.html:  64%|██████▍   | 189/295 [00:04<00:02, 47.02it/s]"
     ]
    },
    {
     "name": "stdout",
     "output_type": "stream",
     "text": [
      "Error al descargar https://assets-cdn.123rf.com/ui-components/assets/svg/collection.svg: cannot identify image file <_io.BytesIO object at 0x00000220311C43B0>\n",
      "Error al descargar https://assets-cdn.123rf.com/ui-components/assets/svg/collection.svg: cannot identify image file <_io.BytesIO object at 0x0000022030AA2840>\n",
      "Error al descargar https://assets-cdn.123rf.com/ui-components/assets/svg/gradient/premium-crown-gradient2.svg: cannot identify image file <_io.BytesIO object at 0x0000022030AC4E50>\n",
      "Error al descargar https://assets-cdn.123rf.com/ui-components/assets/svg/collection.svg: cannot identify image file <_io.BytesIO object at 0x00000220311C4360>\n",
      "Error al descargar https://assets-cdn.123rf.com/ui-components/assets/svg/collection.svg: cannot identify image file <_io.BytesIO object at 0x0000022030D9B790>\n",
      "Error al descargar https://assets-cdn.123rf.com/ui-components/assets/svg/collection.svg: cannot identify image file <_io.BytesIO object at 0x00000220321241D0>\n",
      "Error al descargar https://assets-cdn.123rf.com/ui-components/assets/svg/collection.svg: cannot identify image file <_io.BytesIO object at 0x000002202F16D800>\n"
     ]
    },
    {
     "name": "stderr",
     "output_type": "stream",
     "text": [
      "Procesando imágenes de https://es.123rf.com/imagenes-de-archivo/flor_rosa_planta.html:  68%|██████▊   | 201/295 [00:05<00:02, 44.96it/s]"
     ]
    },
    {
     "name": "stdout",
     "output_type": "stream",
     "text": [
      "Error al descargar https://assets-cdn.123rf.com/ui-components/assets/svg/collection.svg: cannot identify image file <_io.BytesIO object at 0x00000220311C43B0>\n",
      "Error al descargar https://assets-cdn.123rf.com/ui-components/assets/svg/collection.svg: cannot identify image file <_io.BytesIO object at 0x0000022030AA2A70>\n",
      "Error al descargar https://assets-cdn.123rf.com/ui-components/assets/svg/collection.svg: cannot identify image file <_io.BytesIO object at 0x0000022031B60400>\n",
      "Error al descargar https://assets-cdn.123rf.com/ui-components/assets/svg/collection.svg: cannot identify image file <_io.BytesIO object at 0x0000022032120EA0>\n",
      "Error al descargar https://assets-cdn.123rf.com/ui-components/assets/svg/collection.svg: cannot identify image file <_io.BytesIO object at 0x0000022030AA2840>\n",
      "Error al descargar https://assets-cdn.123rf.com/ui-components/assets/svg/collection.svg: cannot identify image file <_io.BytesIO object at 0x0000022030AC5C60>\n"
     ]
    },
    {
     "name": "stderr",
     "output_type": "stream",
     "text": [
      "Procesando imágenes de https://es.123rf.com/imagenes-de-archivo/flor_rosa_planta.html:  72%|███████▏  | 212/295 [00:05<00:01, 43.22it/s]"
     ]
    },
    {
     "name": "stdout",
     "output_type": "stream",
     "text": [
      "Error al descargar https://assets-cdn.123rf.com/ui-components/assets/svg/collection.svg: cannot identify image file <_io.BytesIO object at 0x0000022030AA20C0>\n",
      "Error al descargar https://assets-cdn.123rf.com/ui-components/assets/svg/collection.svg: cannot identify image file <_io.BytesIO object at 0x0000022030AA1C10>\n",
      "Error al descargar https://assets-cdn.123rf.com/ui-components/assets/svg/collection.svg: cannot identify image file <_io.BytesIO object at 0x0000022030AA1850>\n",
      "Error al descargar https://assets-cdn.123rf.com/ui-components/assets/svg/collection.svg: cannot identify image file <_io.BytesIO object at 0x0000022030D9AC50>\n"
     ]
    },
    {
     "name": "stderr",
     "output_type": "stream",
     "text": [
      "Procesando imágenes de https://es.123rf.com/imagenes-de-archivo/flor_rosa_planta.html:  74%|███████▎  | 217/295 [00:05<00:01, 42.09it/s]"
     ]
    },
    {
     "name": "stdout",
     "output_type": "stream",
     "text": [
      "Error al descargar https://assets-cdn.123rf.com/ui-components/assets/svg/collection.svg: cannot identify image file <_io.BytesIO object at 0x0000022030AC4E00>\n",
      "Error al descargar https://assets-cdn.123rf.com/ui-components/assets/svg/collection.svg: cannot identify image file <_io.BytesIO object at 0x0000022030AC4C20>\n",
      "Error al descargar https://assets-cdn.123rf.com/ui-components/assets/svg/gradient/premium-crown-gradient2.svg: cannot identify image file <_io.BytesIO object at 0x0000022030AA20C0>\n",
      "Error al descargar https://assets-cdn.123rf.com/ui-components/assets/svg/collection.svg: cannot identify image file <_io.BytesIO object at 0x0000022032120EA0>\n",
      "Error al descargar https://assets-cdn.123rf.com/ui-components/assets/svg/collection.svg: cannot identify image file <_io.BytesIO object at 0x00000220311C4360>\n"
     ]
    },
    {
     "name": "stderr",
     "output_type": "stream",
     "text": [
      "Procesando imágenes de https://es.123rf.com/imagenes-de-archivo/flor_rosa_planta.html:  78%|███████▊  | 229/295 [00:05<00:01, 47.28it/s]"
     ]
    },
    {
     "name": "stdout",
     "output_type": "stream",
     "text": [
      "Error al descargar https://assets-cdn.123rf.com/ui-components/assets/svg/collection.svg: cannot identify image file <_io.BytesIO object at 0x0000022031B60400>\n",
      "Error al descargar https://assets-cdn.123rf.com/ui-components/assets/svg/collection.svg: cannot identify image file <_io.BytesIO object at 0x0000022030D9B790>\n",
      "Error al descargar https://assets-cdn.123rf.com/ui-components/assets/svg/gradient/premium-crown-gradient2.svg: cannot identify image file <_io.BytesIO object at 0x0000022030AA33D0>\n",
      "Error al descargar https://assets-cdn.123rf.com/ui-components/assets/svg/collection.svg: cannot identify image file <_io.BytesIO object at 0x0000022030AA2A70>\n",
      "Error al descargar https://assets-cdn.123rf.com/ui-components/assets/svg/gradient/premium-crown-gradient2.svg: cannot identify image file <_io.BytesIO object at 0x0000022030AC5990>\n",
      "Error al descargar https://assets-cdn.123rf.com/ui-components/assets/svg/collection.svg: cannot identify image file <_io.BytesIO object at 0x0000022030AA1850>\n",
      "Error al descargar https://assets-cdn.123rf.com/ui-components/assets/svg/collection.svg: cannot identify image file <_io.BytesIO object at 0x0000022030AC5C60>\n",
      "Error al descargar https://assets-cdn.123rf.com/ui-components/assets/svg/gradient/premium-crown-gradient2.svg: cannot identify image file <_io.BytesIO object at 0x0000022030AA3EC0>\n"
     ]
    },
    {
     "name": "stderr",
     "output_type": "stream",
     "text": [
      "Procesando imágenes de https://es.123rf.com/imagenes-de-archivo/flor_rosa_planta.html:  82%|████████▏ | 241/295 [00:05<00:01, 44.44it/s]"
     ]
    },
    {
     "name": "stdout",
     "output_type": "stream",
     "text": [
      "Error al descargar https://assets-cdn.123rf.com/ui-components/assets/svg/gradient/premium-crown-gradient2.svg: cannot identify image file <_io.BytesIO object at 0x0000022030AC7330>\n",
      "Error al descargar https://assets-cdn.123rf.com/ui-components/assets/svg/collection.svg: cannot identify image file <_io.BytesIO object at 0x00000220321241D0>\n",
      "Error al descargar https://assets-cdn.123rf.com/ui-components/assets/svg/collection.svg: cannot identify image file <_io.BytesIO object at 0x0000022031B9E930>\n",
      "Error al descargar https://assets-cdn.123rf.com/ui-components/assets/svg/gradient/premium-crown-gradient2.svg: cannot identify image file <_io.BytesIO object at 0x0000022030AC5990>\n",
      "Error al descargar https://assets-cdn.123rf.com/ui-components/assets/svg/collection.svg: cannot identify image file <_io.BytesIO object at 0x0000022031B60400>\n",
      "Error al descargar https://assets-cdn.123rf.com/ui-components/assets/svg/collection.svg: cannot identify image file <_io.BytesIO object at 0x0000022030AA1990>\n"
     ]
    },
    {
     "name": "stderr",
     "output_type": "stream",
     "text": [
      "Procesando imágenes de https://es.123rf.com/imagenes-de-archivo/flor_rosa_planta.html:  86%|████████▌ | 253/295 [00:06<00:00, 46.73it/s]"
     ]
    },
    {
     "name": "stdout",
     "output_type": "stream",
     "text": [
      "Error al descargar https://assets-cdn.123rf.com/ui-components/assets/svg/collection.svg: cannot identify image file <_io.BytesIO object at 0x0000022030AA0810>\n",
      "Error al descargar https://assets-cdn.123rf.com/ui-components/assets/svg/collection.svg: cannot identify image file <_io.BytesIO object at 0x0000022031B60090>\n",
      "Error al descargar https://assets-cdn.123rf.com/ui-components/assets/svg/collection.svg: cannot identify image file <_io.BytesIO object at 0x0000022031193DD0>\n",
      "Error al descargar https://assets-cdn.123rf.com/ui-components/assets/svg/collection.svg: cannot identify image file <_io.BytesIO object at 0x0000022030AA1850>\n",
      "Error al descargar https://assets-cdn.123rf.com/ui-components/assets/svg/collection.svg: cannot identify image file <_io.BytesIO object at 0x0000022030AA3240>\n",
      "Error al descargar https://assets-cdn.123rf.com/ui-components/assets/svg/collection.svg: cannot identify image file <_io.BytesIO object at 0x0000022030AC5C60>\n"
     ]
    },
    {
     "name": "stderr",
     "output_type": "stream",
     "text": [
      "Procesando imágenes de https://es.123rf.com/imagenes-de-archivo/flor_rosa_planta.html:  89%|████████▉ | 264/295 [00:06<00:00, 47.31it/s]"
     ]
    },
    {
     "name": "stdout",
     "output_type": "stream",
     "text": [
      "Error al descargar https://assets-cdn.123rf.com/ui-components/assets/svg/collection.svg: cannot identify image file <_io.BytesIO object at 0x0000022032120EA0>\n",
      "Error al descargar https://assets-cdn.123rf.com/ui-components/assets/svg/collection.svg: cannot identify image file <_io.BytesIO object at 0x0000022030D98770>\n",
      "Error al descargar https://assets-cdn.123rf.com/ui-components/assets/svg/collection.svg: cannot identify image file <_io.BytesIO object at 0x0000022030D9B790>\n",
      "Error al descargar https://assets-cdn.123rf.com/ui-components/assets/svg/gradient/premium-crown-gradient2.svg: cannot identify image file <_io.BytesIO object at 0x0000022030AC54E0>\n",
      "Error al descargar https://assets-cdn.123rf.com/ui-components/assets/svg/collection.svg: cannot identify image file <_io.BytesIO object at 0x00000220311C43B0>\n",
      "Error al descargar https://assets-cdn.123rf.com/ui-components/assets/svg/collection.svg: cannot identify image file <_io.BytesIO object at 0x0000022030AA1990>\n"
     ]
    },
    {
     "name": "stderr",
     "output_type": "stream",
     "text": [
      "Procesando imágenes de https://es.123rf.com/imagenes-de-archivo/flor_rosa_planta.html:  94%|█████████▎| 276/295 [00:06<00:00, 50.26it/s]"
     ]
    },
    {
     "name": "stdout",
     "output_type": "stream",
     "text": [
      "Error al descargar https://assets-cdn.123rf.com/ui-components/assets/svg/collection.svg: cannot identify image file <_io.BytesIO object at 0x0000022030AC53A0>\n",
      "Error al descargar https://assets-cdn.123rf.com/ui-components/assets/svg/collection.svg: cannot identify image file <_io.BytesIO object at 0x0000022030AC7330>\n",
      "Error al descargar https://assets-cdn.123rf.com/ui-components/assets/svg/collection.svg: cannot identify image file <_io.BytesIO object at 0x0000022030AA3EC0>\n",
      "Error al descargar https://assets-cdn.123rf.com/ui-components/assets/svg/collection.svg: cannot identify image file <_io.BytesIO object at 0x00000220311C5C60>\n",
      "Error al descargar https://assets-cdn.123rf.com/ui-components/assets/svg/collection.svg: cannot identify image file <_io.BytesIO object at 0x0000022031B60090>\n"
     ]
    },
    {
     "name": "stderr",
     "output_type": "stream",
     "text": [
      "Procesando imágenes de https://es.123rf.com/imagenes-de-archivo/flor_rosa_planta.html:  96%|█████████▌| 282/295 [00:06<00:00, 46.75it/s]"
     ]
    },
    {
     "name": "stdout",
     "output_type": "stream",
     "text": [
      "Error al descargar https://assets-cdn.123rf.com/ui-components/assets/svg/collection.svg: cannot identify image file <_io.BytesIO object at 0x0000022030AA1990>\n",
      "Error al descargar https://assets-cdn.123rf.com/ui-components/assets/svg/collection.svg: cannot identify image file <_io.BytesIO object at 0x0000022030AC5990>\n",
      "Error al descargar https://assets-cdn.123rf.com/ui-components/assets/svg/gradient/premium-crown-gradient2.svg: cannot identify image file <_io.BytesIO object at 0x0000022030AA3240>\n",
      "Error al descargar https://assets-cdn.123rf.com/ui-components/assets/svg/collection.svg: cannot identify image file <_io.BytesIO object at 0x000002202F16D800>\n",
      "Error al descargar https://assets-cdn.123rf.com/ui-components/assets/svg/collection.svg: cannot identify image file <_io.BytesIO object at 0x0000022031B9E930>\n",
      "Error al descargar https://assets-cdn.123rf.com/ui-components/assets/svg/chevron-down.svg: cannot identify image file <_io.BytesIO object at 0x0000022030AA33D0>\n",
      "Error al descargar https://assets-cdn.123rf.com/ui-components/assets/svg/chevron-down.svg: cannot identify image file <_io.BytesIO object at 0x00000220311C5C60>\n"
     ]
    },
    {
     "name": "stderr",
     "output_type": "stream",
     "text": [
      "Procesando imágenes de https://es.123rf.com/imagenes-de-archivo/flor_rosa_planta.html: 100%|██████████| 295/295 [00:07<00:00, 41.85it/s]"
     ]
    },
    {
     "name": "stdout",
     "output_type": "stream",
     "text": [
      "Error al descargar https://assets-cdn.123rf.com/ui-components/assets/svg/chevron-down.svg: cannot identify image file <_io.BytesIO object at 0x0000022030AA1990>\n",
      "Error al descargar https://assets-cdn.123rf.com/ui-components/assets/svg/chevron-down.svg: cannot identify image file <_io.BytesIO object at 0x0000022032120EA0>\n",
      "Error al descargar https://assets-cdn.123rf.com/ui-components/assets/svg/chevron-down.svg: cannot identify image file <_io.BytesIO object at 0x0000022030D98770>\n",
      "Error al descargar https://assets-cdn.123rf.com/ui-components/assets/svg/facebook.svg: cannot identify image file <_io.BytesIO object at 0x0000022030AA1850>\n",
      "Error al descargar https://assets-cdn.123rf.com/ui-components/assets/svg/twitter-v2.svg: cannot identify image file <_io.BytesIO object at 0x0000022030AA2840>\n",
      "Error al descargar https://assets-cdn.123rf.com/ui-components/assets/svg/pinterest.svg: cannot identify image file <_io.BytesIO object at 0x000002202F16D800>\n",
      "Error al descargar https://assets-cdn.123rf.com/ui-components/assets/svg/instagram-v2.svg: cannot identify image file <_io.BytesIO object at 0x0000022031B60400>\n",
      "Error al descargar https://assets-cdn.123rf.com/ui-components/assets/svg/whatsapp-v3.svg: cannot identify image file <_io.BytesIO object at 0x0000022030AA2A70>\n"
     ]
    },
    {
     "name": "stderr",
     "output_type": "stream",
     "text": [
      "\n",
      "Procesando imágenes de https://es.123rf.com/imagenes-de-archivo/planta_de_rosa.html:   4%|▍         | 11/292 [00:00<00:07, 36.80it/s]"
     ]
    },
    {
     "name": "stdout",
     "output_type": "stream",
     "text": [
      "Error al descargar https://assets-cdn.123rf.com/ui-components/assets/svg/gradient/123rf-logo-gradient.svg: cannot identify image file <_io.BytesIO object at 0x0000022031B60090>\n",
      "Error al descargar https://assets-cdn.123rf.com/ui-components/assets/svg/chevron-down.svg: cannot identify image file <_io.BytesIO object at 0x0000022031B818A0>\n",
      "Error al descargar https://assets-cdn.123rf.com/ui-components/assets/svg/ai-img-generator.svg: cannot identify image file <_io.BytesIO object at 0x0000022030AA2840>\n",
      "Error al descargar https://assets-cdn.123rf.com/ui-components/assets/svg/ai-sketch.svg: cannot identify image file <_io.BytesIO object at 0x0000022030AA0810>\n",
      "Error al descargar https://assets-cdn.123rf.com/ui-components/assets/svg/ai-face-swap.svg: cannot identify image file <_io.BytesIO object at 0x0000022030AA0810>\n",
      "Error al descargar https://assets-cdn.123rf.com/ui-components/assets/svg/ai-img-upscaler.svg: cannot identify image file <_io.BytesIO object at 0x00000220311C4270>\n",
      "Error al descargar https://assets-cdn.123rf.com/ui-components/assets/svg/ai-generative-fill.svg: cannot identify image file <_io.BytesIO object at 0x0000022030AA33D0>\n"
     ]
    },
    {
     "name": "stderr",
     "output_type": "stream",
     "text": [
      "Procesando imágenes de https://es.123rf.com/imagenes-de-archivo/planta_de_rosa.html:   8%|▊         | 22/292 [00:00<00:06, 43.34it/s]"
     ]
    },
    {
     "name": "stdout",
     "output_type": "stream",
     "text": [
      "Error al descargar https://assets-cdn.123rf.com/ui-components/assets/svg/ai-bg-blur.svg: cannot identify image file <_io.BytesIO object at 0x0000022030AA3240>\n",
      "Error al descargar https://assets-cdn.123rf.com/ui-components/assets/svg/ai-bg-remix.svg: cannot identify image file <_io.BytesIO object at 0x0000022032430B30>\n",
      "Error al descargar https://assets-cdn.123rf.com/ui-components/assets/svg/ai-img-extender.svg: cannot identify image file <_io.BytesIO object at 0x0000022031B82110>\n",
      "Error al descargar https://assets-cdn.123rf.com/ui-components/assets/svg/ai-writer.svg: cannot identify image file <_io.BytesIO object at 0x00000220311C6B10>\n",
      "Error al descargar https://assets-cdn.123rf.com/ui-components/assets/svg/ai-bg-removal.svg: cannot identify image file <_io.BytesIO object at 0x0000022030AC4B30>\n",
      "Error al descargar https://assets-cdn.123rf.com/ui-components/assets/svg/chevron-down.svg: cannot identify image file <_io.BytesIO object at 0x0000022030AA33D0>\n"
     ]
    },
    {
     "name": "stderr",
     "output_type": "stream",
     "text": [
      "Procesando imágenes de https://es.123rf.com/imagenes-de-archivo/planta_de_rosa.html:   9%|▉         | 27/292 [00:00<00:07, 36.65it/s]"
     ]
    },
    {
     "name": "stdout",
     "output_type": "stream",
     "text": [
      "Error al descargar https://assets-cdn.123rf.com/ui-components/assets/svg/chevron-down.svg: cannot identify image file <_io.BytesIO object at 0x0000022032430DB0>\n",
      "Error al descargar https://assets-cdn.123rf.com/ui-components/assets/svg/tick.svg: cannot identify image file <_io.BytesIO object at 0x0000022031B811C0>\n",
      "Error al descargar https://assets-cdn.123rf.com/ui-components/assets/svg/tick.svg: cannot identify image file <_io.BytesIO object at 0x0000022031B836A0>\n",
      "Error al descargar https://assets-cdn.123rf.com/ui-components/assets/svg/tick.svg: cannot identify image file <_io.BytesIO object at 0x0000022032430B30>\n",
      "Error al descargar https://assets-cdn.123rf.com/ui-components/assets/svg/tick.svg: cannot identify image file <_io.BytesIO object at 0x0000022030AA0810>\n",
      "Error al descargar https://assets-cdn.123rf.com/ui-components/assets/svg/tick.svg: cannot identify image file <_io.BytesIO object at 0x00000220311C7DD0>\n",
      "Error al descargar https://assets-cdn.123rf.com/ui-components/assets/images/plus-upsell-ai-v3.png: cannot write mode P as JPEG\n",
      "Error al descargar https://assets-cdn.123rf.com/ui-components/assets/svg/tick.svg: cannot identify image file <_io.BytesIO object at 0x0000022032433EC0>\n",
      "Error al descargar https://assets-cdn.123rf.com/ui-components/assets/svg/tick.svg: cannot identify image file <_io.BytesIO object at 0x0000022030AC4B30>\n"
     ]
    },
    {
     "name": "stderr",
     "output_type": "stream",
     "text": [
      "Procesando imágenes de https://es.123rf.com/imagenes-de-archivo/planta_de_rosa.html:  13%|█▎        | 38/292 [00:00<00:05, 42.35it/s]"
     ]
    },
    {
     "name": "stdout",
     "output_type": "stream",
     "text": [
      "Error al descargar https://assets-cdn.123rf.com/ui-components/assets/svg/tick.svg: cannot identify image file <_io.BytesIO object at 0x0000022030AA33D0>\n",
      "Error al descargar https://assets-cdn.123rf.com/ui-components/assets/svg/tick.svg: cannot identify image file <_io.BytesIO object at 0x0000022031B819E0>\n",
      "Error al descargar https://assets-cdn.123rf.com/ui-components/assets/svg/tick.svg: cannot identify image file <_io.BytesIO object at 0x0000022030AA3240>\n",
      "Error al descargar https://assets-cdn.123rf.com/ui-components/assets/svg/tick.svg: cannot identify image file <_io.BytesIO object at 0x0000022032430B30>\n",
      "Error al descargar https://assets-cdn.123rf.com/ui-components/assets/svg/tick.svg: cannot identify image file <_io.BytesIO object at 0x0000022030AA2840>\n",
      "Error al descargar https://assets-cdn.123rf.com/ui-components/assets/svg/tick.svg: cannot identify image file <_io.BytesIO object at 0x0000022031B82110>\n",
      "Error al descargar https://assets-cdn.123rf.com/ui-components/assets/svg/tick.svg: cannot identify image file <_io.BytesIO object at 0x0000022031B82D40>\n",
      "Error al descargar https://assets-cdn.123rf.com/ui-components/assets/svg/tick.svg: cannot identify image file <_io.BytesIO object at 0x0000022030AA04A0>\n",
      "Error al descargar https://assets-cdn.123rf.com/ui-components/assets/svg/menu.svg: cannot identify image file <_io.BytesIO object at 0x0000022030AC5CB0>\n"
     ]
    },
    {
     "name": "stderr",
     "output_type": "stream",
     "text": [
      "Procesando imágenes de https://es.123rf.com/imagenes-de-archivo/planta_de_rosa.html:  17%|█▋        | 49/292 [00:01<00:05, 43.10it/s]"
     ]
    },
    {
     "name": "stdout",
     "output_type": "stream",
     "text": [
      "Error al descargar https://assets-cdn.123rf.com/ui-components/assets/svg/camera.svg: cannot identify image file <_io.BytesIO object at 0x0000022030AA1850>\n",
      "Error al descargar https://assets-cdn.123rf.com/ui-components/assets/svg/close.svg: cannot identify image file <_io.BytesIO object at 0x0000022030AA33D0>\n",
      "Error al descargar https://assets-cdn.123rf.com/ui-components/assets/svg/chevron-down.svg: cannot identify image file <_io.BytesIO object at 0x00000220311CB0B0>\n",
      "Error al descargar https://assets-cdn.123rf.com/ui-components/assets/svg/all-images.svg: cannot identify image file <_io.BytesIO object at 0x00000220311CB0B0>\n",
      "Error al descargar https://assets-cdn.123rf.com/ui-components/assets/svg/close.svg: cannot identify image file <_io.BytesIO object at 0x000002203119F0B0>\n",
      "Error al descargar https://assets-cdn.123rf.com/ui-components/assets/svg/upload.svg: cannot identify image file <_io.BytesIO object at 0x0000022031B83880>\n",
      "Error al descargar https://assets-cdn.123rf.com/ui-components/assets/svg/camera.svg: cannot identify image file <_io.BytesIO object at 0x0000022030AA0810>\n",
      "Error al descargar https://assets-cdn.123rf.com/ui-components/assets/svg/premium.svg: cannot identify image file <_io.BytesIO object at 0x0000022031B82D40>\n",
      "Error al descargar https://assets-cdn.123rf.com/ui-components/assets/svg/all-images.svg: cannot identify image file <_io.BytesIO object at 0x0000022030AC7330>\n",
      "Error al descargar https://assets-cdn.123rf.com/ui-components/assets/svg/photos.svg: cannot identify image file <_io.BytesIO object at 0x0000022032433EC0>\n"
     ]
    },
    {
     "name": "stderr",
     "output_type": "stream",
     "text": [
      "Procesando imágenes de https://es.123rf.com/imagenes-de-archivo/planta_de_rosa.html:  20%|██        | 59/292 [00:01<00:05, 41.54it/s]"
     ]
    },
    {
     "name": "stdout",
     "output_type": "stream",
     "text": [
      "Error al descargar https://assets-cdn.123rf.com/ui-components/assets/svg/vector.svg: cannot identify image file <_io.BytesIO object at 0x0000022030AC4B30>\n",
      "Error al descargar https://assets-cdn.123rf.com/ui-components/assets/svg/footage.svg: cannot identify image file <_io.BytesIO object at 0x0000022030AA33D0>\n",
      "Error al descargar https://assets-cdn.123rf.com/ui-components/assets/svg/audio.svg: cannot identify image file <_io.BytesIO object at 0x0000022032430B30>\n",
      "Error al descargar https://assets-cdn.123rf.com/ui-components/assets/svg/font-v2.svg: cannot identify image file <_io.BytesIO object at 0x0000022030AA3240>\n",
      "Error al descargar https://assets-cdn.123rf.com/ui-components/assets/svg/plus.svg: cannot identify image file <_io.BytesIO object at 0x0000022031B83880>\n",
      "Error al descargar https://assets-cdn.123rf.com/ui-components/assets/svg/ai-img-generator.svg: cannot identify image file <_io.BytesIO object at 0x0000022032430DB0>\n",
      "Error al descargar https://assets-cdn.123rf.com/ui-components/assets/svg/free.svg: cannot identify image file <_io.BytesIO object at 0x0000022030AA0810>\n",
      "Error al descargar https://assets-cdn.123rf.com/ui-components/assets/svg/search.svg: cannot identify image file <_io.BytesIO object at 0x0000022031B82D40>\n",
      "Error al descargar https://assets-cdn.123rf.com/ui-components/assets/svg/collection.svg: cannot identify image file <_io.BytesIO object at 0x0000022030AC6A70>\n"
     ]
    },
    {
     "name": "stderr",
     "output_type": "stream",
     "text": [
      "Procesando imágenes de https://es.123rf.com/imagenes-de-archivo/planta_de_rosa.html:  25%|██▍       | 72/292 [00:01<00:04, 46.51it/s]"
     ]
    },
    {
     "name": "stdout",
     "output_type": "stream",
     "text": [
      "Error al descargar https://assets-cdn.123rf.com/ui-components/assets/svg/collection.svg: cannot identify image file <_io.BytesIO object at 0x0000022030AA33D0>\n",
      "Error al descargar https://assets-cdn.123rf.com/ui-components/assets/svg/gradient/premium-crown-gradient2.svg: cannot identify image file <_io.BytesIO object at 0x0000022030AA2840>\n",
      "Error al descargar https://assets-cdn.123rf.com/ui-components/assets/svg/collection.svg: cannot identify image file <_io.BytesIO object at 0x0000022030AA3240>\n",
      "Error al descargar https://assets-cdn.123rf.com/ui-components/assets/svg/collection.svg: cannot identify image file <_io.BytesIO object at 0x0000022030AC7330>\n",
      "Error al descargar https://assets-cdn.123rf.com/ui-components/assets/svg/collection.svg: cannot identify image file <_io.BytesIO object at 0x0000022031B82D40>\n",
      "Error al descargar https://assets-cdn.123rf.com/ui-components/assets/svg/collection.svg: cannot identify image file <_io.BytesIO object at 0x0000022030AC4B30>\n"
     ]
    },
    {
     "name": "stderr",
     "output_type": "stream",
     "text": [
      "Procesando imágenes de https://es.123rf.com/imagenes-de-archivo/planta_de_rosa.html:  28%|██▊       | 82/292 [00:02<00:04, 43.17it/s]"
     ]
    },
    {
     "name": "stdout",
     "output_type": "stream",
     "text": [
      "Error al descargar https://assets-cdn.123rf.com/ui-components/assets/svg/collection.svg: cannot identify image file <_io.BytesIO object at 0x0000022030AA33D0>\n",
      "Error al descargar https://assets-cdn.123rf.com/ui-components/assets/svg/gradient/premium-crown-gradient2.svg: cannot identify image file <_io.BytesIO object at 0x0000022030AA0810>\n",
      "Error al descargar https://assets-cdn.123rf.com/ui-components/assets/svg/collection.svg: cannot identify image file <_io.BytesIO object at 0x000002203119F0B0>\n",
      "Error al descargar https://assets-cdn.123rf.com/ui-components/assets/svg/collection.svg: cannot identify image file <_io.BytesIO object at 0x0000022030AA04A0>\n",
      "Error al descargar https://assets-cdn.123rf.com/ui-components/assets/svg/collection.svg: cannot identify image file <_io.BytesIO object at 0x0000022031B808B0>\n",
      "Error al descargar https://assets-cdn.123rf.com/ui-components/assets/svg/collection.svg: cannot identify image file <_io.BytesIO object at 0x0000022031B82D40>\n",
      "Error al descargar https://assets-cdn.123rf.com/ui-components/assets/svg/gradient/premium-crown-gradient2.svg: cannot identify image file <_io.BytesIO object at 0x0000022030AA1850>\n"
     ]
    },
    {
     "name": "stderr",
     "output_type": "stream",
     "text": [
      "Procesando imágenes de https://es.123rf.com/imagenes-de-archivo/planta_de_rosa.html:  33%|███▎      | 96/292 [00:02<00:04, 48.32it/s]"
     ]
    },
    {
     "name": "stdout",
     "output_type": "stream",
     "text": [
      "Error al descargar https://assets-cdn.123rf.com/ui-components/assets/svg/collection.svg: cannot identify image file <_io.BytesIO object at 0x0000022031B83E20>\n",
      "Error al descargar https://assets-cdn.123rf.com/ui-components/assets/svg/collection.svg: cannot identify image file <_io.BytesIO object at 0x0000022030AA0810>\n",
      "Error al descargar https://assets-cdn.123rf.com/ui-components/assets/svg/collection.svg: cannot identify image file <_io.BytesIO object at 0x0000022030AC7330>\n",
      "Error al descargar https://assets-cdn.123rf.com/ui-components/assets/svg/collection.svg: cannot identify image file <_io.BytesIO object at 0x0000022030AA3240>\n",
      "Error al descargar https://assets-cdn.123rf.com/ui-components/assets/svg/collection.svg: cannot identify image file <_io.BytesIO object at 0x0000022031B81850>\n",
      "Error al descargar https://assets-cdn.123rf.com/ui-components/assets/svg/collection.svg: cannot identify image file <_io.BytesIO object at 0x0000022030AC5CB0>\n"
     ]
    },
    {
     "name": "stderr",
     "output_type": "stream",
     "text": [
      "Procesando imágenes de https://es.123rf.com/imagenes-de-archivo/planta_de_rosa.html:  36%|███▋      | 106/292 [00:02<00:04, 46.49it/s]"
     ]
    },
    {
     "name": "stdout",
     "output_type": "stream",
     "text": [
      "Error al descargar https://assets-cdn.123rf.com/ui-components/assets/svg/gradient/premium-crown-gradient2.svg: cannot identify image file <_io.BytesIO object at 0x00000220311CB0B0>\n",
      "Error al descargar https://assets-cdn.123rf.com/ui-components/assets/svg/collection.svg: cannot identify image file <_io.BytesIO object at 0x0000022031B80A90>\n",
      "Error al descargar https://assets-cdn.123rf.com/ui-components/assets/svg/collection.svg: cannot identify image file <_io.BytesIO object at 0x0000022030AA04A0>\n",
      "Error al descargar https://assets-cdn.123rf.com/ui-components/assets/svg/collection.svg: cannot identify image file <_io.BytesIO object at 0x0000022030AC4B30>\n",
      "Error al descargar https://assets-cdn.123rf.com/ui-components/assets/svg/collection.svg: cannot identify image file <_io.BytesIO object at 0x000002203119F0B0>\n",
      "Error al descargar https://assets-cdn.123rf.com/ui-components/assets/svg/collection.svg: cannot identify image file <_io.BytesIO object at 0x0000022032433EC0>\n"
     ]
    },
    {
     "name": "stderr",
     "output_type": "stream",
     "text": [
      "Procesando imágenes de https://es.123rf.com/imagenes-de-archivo/planta_de_rosa.html:  40%|████      | 117/292 [00:02<00:03, 45.22it/s]"
     ]
    },
    {
     "name": "stdout",
     "output_type": "stream",
     "text": [
      "Error al descargar https://assets-cdn.123rf.com/ui-components/assets/svg/gradient/premium-crown-gradient2.svg: cannot identify image file <_io.BytesIO object at 0x0000022031B81440>\n",
      "Error al descargar https://assets-cdn.123rf.com/ui-components/assets/svg/collection.svg: cannot identify image file <_io.BytesIO object at 0x0000022031B834C0>\n",
      "Error al descargar https://assets-cdn.123rf.com/ui-components/assets/svg/collection.svg: cannot identify image file <_io.BytesIO object at 0x0000022030AC7330>\n",
      "Error al descargar https://assets-cdn.123rf.com/ui-components/assets/svg/gradient/premium-crown-gradient2.svg: cannot identify image file <_io.BytesIO object at 0x0000022030AA1850>\n",
      "Error al descargar https://assets-cdn.123rf.com/ui-components/assets/svg/collection.svg: cannot identify image file <_io.BytesIO object at 0x0000022031B81350>\n",
      "Error al descargar https://assets-cdn.123rf.com/ui-components/assets/svg/collection.svg: cannot identify image file <_io.BytesIO object at 0x00000220311CB0B0>\n",
      "Error al descargar https://assets-cdn.123rf.com/ui-components/assets/svg/gradient/premium-crown-gradient2.svg: cannot identify image file <_io.BytesIO object at 0x0000022032430DB0>\n"
     ]
    },
    {
     "name": "stderr",
     "output_type": "stream",
     "text": [
      "Procesando imágenes de https://es.123rf.com/imagenes-de-archivo/planta_de_rosa.html:  42%|████▏     | 122/292 [00:02<00:04, 36.74it/s]"
     ]
    },
    {
     "name": "stdout",
     "output_type": "stream",
     "text": [
      "Error al descargar https://assets-cdn.123rf.com/ui-components/assets/svg/collection.svg: cannot identify image file <_io.BytesIO object at 0x0000022031B83740>\n",
      "Error al descargar https://assets-cdn.123rf.com/ui-components/assets/svg/collection.svg: cannot identify image file <_io.BytesIO object at 0x0000022030AA0810>\n",
      "Error al descargar https://assets-cdn.123rf.com/ui-components/assets/svg/collection.svg: cannot identify image file <_io.BytesIO object at 0x0000022031B836F0>\n",
      "Error al descargar https://assets-cdn.123rf.com/ui-components/assets/svg/collection.svg: cannot identify image file <_io.BytesIO object at 0x0000022031B83830>\n",
      "Error al descargar https://assets-cdn.123rf.com/ui-components/assets/svg/collection.svg: cannot identify image file <_io.BytesIO object at 0x0000022030AA3240>\n",
      "Error al descargar https://assets-cdn.123rf.com/ui-components/assets/svg/collection.svg: cannot identify image file <_io.BytesIO object at 0x00000220324312B0>\n"
     ]
    },
    {
     "name": "stderr",
     "output_type": "stream",
     "text": [
      "Procesando imágenes de https://es.123rf.com/imagenes-de-archivo/planta_de_rosa.html:  47%|████▋     | 138/292 [00:03<00:03, 50.67it/s]"
     ]
    },
    {
     "name": "stdout",
     "output_type": "stream",
     "text": [
      "Error al descargar https://assets-cdn.123rf.com/ui-components/assets/svg/collection.svg: cannot identify image file <_io.BytesIO object at 0x0000022032430B30>\n",
      "Error al descargar https://assets-cdn.123rf.com/ui-components/assets/svg/collection.svg: cannot identify image file <_io.BytesIO object at 0x0000022030AA0810>\n",
      "Error al descargar https://assets-cdn.123rf.com/ui-components/assets/svg/collection.svg: cannot identify image file <_io.BytesIO object at 0x000002203119F0B0>\n",
      "Error al descargar https://assets-cdn.123rf.com/ui-components/assets/svg/collection.svg: cannot identify image file <_io.BytesIO object at 0x0000022030AC6C50>\n",
      "Error al descargar https://assets-cdn.123rf.com/ui-components/assets/svg/collection.svg: cannot identify image file <_io.BytesIO object at 0x0000022030AA33D0>\n",
      "Error al descargar https://assets-cdn.123rf.com/ui-components/assets/svg/collection.svg: cannot identify image file <_io.BytesIO object at 0x0000022030AA1850>\n"
     ]
    },
    {
     "name": "stderr",
     "output_type": "stream",
     "text": [
      "Procesando imágenes de https://es.123rf.com/imagenes-de-archivo/planta_de_rosa.html:  51%|█████▏    | 150/292 [00:03<00:02, 49.30it/s]"
     ]
    },
    {
     "name": "stdout",
     "output_type": "stream",
     "text": [
      "Error al descargar https://assets-cdn.123rf.com/ui-components/assets/svg/collection.svg: cannot identify image file <_io.BytesIO object at 0x0000022031B83E20>\n",
      "Error al descargar https://assets-cdn.123rf.com/ui-components/assets/svg/collection.svg: cannot identify image file <_io.BytesIO object at 0x0000022031B836A0>\n",
      "Error al descargar https://assets-cdn.123rf.com/ui-components/assets/svg/collection.svg: cannot identify image file <_io.BytesIO object at 0x0000022032430DB0>\n",
      "Error al descargar https://assets-cdn.123rf.com/ui-components/assets/svg/gradient/premium-crown-gradient2.svg: cannot identify image file <_io.BytesIO object at 0x0000022030DA08B0>\n",
      "Error al descargar https://assets-cdn.123rf.com/ui-components/assets/svg/collection.svg: cannot identify image file <_io.BytesIO object at 0x0000022031B82C50>\n",
      "Error al descargar https://assets-cdn.123rf.com/ui-components/assets/svg/collection.svg: cannot identify image file <_io.BytesIO object at 0x0000022030AA1850>\n"
     ]
    },
    {
     "name": "stderr",
     "output_type": "stream",
     "text": [
      "Procesando imágenes de https://es.123rf.com/imagenes-de-archivo/planta_de_rosa.html:  55%|█████▌    | 161/292 [00:03<00:02, 46.45it/s]"
     ]
    },
    {
     "name": "stdout",
     "output_type": "stream",
     "text": [
      "Error al descargar https://assets-cdn.123rf.com/ui-components/assets/svg/collection.svg: cannot identify image file <_io.BytesIO object at 0x0000022031B803B0>\n",
      "Error al descargar https://assets-cdn.123rf.com/ui-components/assets/svg/gradient/premium-crown-gradient2.svg: cannot identify image file <_io.BytesIO object at 0x00000220311CB0B0>\n",
      "Error al descargar https://assets-cdn.123rf.com/ui-components/assets/svg/collection.svg: cannot identify image file <_io.BytesIO object at 0x0000022031B82F20>\n",
      "Error al descargar https://assets-cdn.123rf.com/ui-components/assets/svg/gradient/premium-crown-gradient2.svg: cannot identify image file <_io.BytesIO object at 0x0000022030AC6C50>\n",
      "Error al descargar https://assets-cdn.123rf.com/ui-components/assets/svg/collection.svg: cannot identify image file <_io.BytesIO object at 0x0000022032430B30>\n",
      "Error al descargar https://assets-cdn.123rf.com/ui-components/assets/svg/collection.svg: cannot identify image file <_io.BytesIO object at 0x0000022031B83880>\n",
      "Error al descargar https://assets-cdn.123rf.com/ui-components/assets/svg/gradient/premium-crown-gradient2.svg: cannot identify image file <_io.BytesIO object at 0x0000022031B81350>\n"
     ]
    },
    {
     "name": "stderr",
     "output_type": "stream",
     "text": [
      "Procesando imágenes de https://es.123rf.com/imagenes-de-archivo/planta_de_rosa.html:  60%|█████▉    | 174/292 [00:03<00:02, 49.61it/s]"
     ]
    },
    {
     "name": "stdout",
     "output_type": "stream",
     "text": [
      "Error al descargar https://assets-cdn.123rf.com/ui-components/assets/svg/collection.svg: cannot identify image file <_io.BytesIO object at 0x0000022031B80770>\n",
      "Error al descargar https://assets-cdn.123rf.com/ui-components/assets/svg/gradient/premium-crown-gradient2.svg: cannot identify image file <_io.BytesIO object at 0x0000022031B60090>\n",
      "Error al descargar https://assets-cdn.123rf.com/ui-components/assets/svg/collection.svg: cannot identify image file <_io.BytesIO object at 0x000002203119F0B0>\n",
      "Error al descargar https://assets-cdn.123rf.com/ui-components/assets/svg/gradient/premium-crown-gradient2.svg: cannot identify image file <_io.BytesIO object at 0x0000022030DA08B0>\n",
      "Error al descargar https://assets-cdn.123rf.com/ui-components/assets/svg/collection.svg: cannot identify image file <_io.BytesIO object at 0x0000022030AA0810>\n",
      "Error al descargar https://assets-cdn.123rf.com/ui-components/assets/svg/collection.svg: cannot identify image file <_io.BytesIO object at 0x00000220311CB0B0>\n"
     ]
    },
    {
     "name": "stderr",
     "output_type": "stream",
     "text": [
      "Procesando imágenes de https://es.123rf.com/imagenes-de-archivo/planta_de_rosa.html:  62%|██████▏   | 180/292 [00:04<00:02, 47.88it/s]"
     ]
    },
    {
     "name": "stdout",
     "output_type": "stream",
     "text": [
      "Error al descargar https://assets-cdn.123rf.com/ui-components/assets/svg/gradient/premium-crown-gradient2.svg: cannot identify image file <_io.BytesIO object at 0x00000220324312B0>\n",
      "Error al descargar https://assets-cdn.123rf.com/ui-components/assets/svg/collection.svg: cannot identify image file <_io.BytesIO object at 0x0000022030AC4B30>\n",
      "Error al descargar https://assets-cdn.123rf.com/ui-components/assets/svg/collection.svg: cannot identify image file <_io.BytesIO object at 0x0000022031B60090>\n",
      "Error al descargar https://assets-cdn.123rf.com/ui-components/assets/svg/collection.svg: cannot identify image file <_io.BytesIO object at 0x0000022031B82570>\n",
      "Error al descargar https://assets-cdn.123rf.com/ui-components/assets/svg/gradient/premium-crown-gradient2.svg: cannot identify image file <_io.BytesIO object at 0x0000022032430B30>\n",
      "Error al descargar https://assets-cdn.123rf.com/ui-components/assets/svg/collection.svg: cannot identify image file <_io.BytesIO object at 0x0000022030AA1850>\n"
     ]
    },
    {
     "name": "stderr",
     "output_type": "stream",
     "text": [
      "Procesando imágenes de https://es.123rf.com/imagenes-de-archivo/planta_de_rosa.html:  66%|██████▌   | 192/292 [00:04<00:02, 42.33it/s]"
     ]
    },
    {
     "name": "stdout",
     "output_type": "stream",
     "text": [
      "Error al descargar https://assets-cdn.123rf.com/ui-components/assets/svg/collection.svg: cannot identify image file <_io.BytesIO object at 0x0000022031B80630>\n",
      "Error al descargar https://assets-cdn.123rf.com/ui-components/assets/svg/collection.svg: cannot identify image file <_io.BytesIO object at 0x0000022030AC5CB0>\n",
      "Error al descargar https://assets-cdn.123rf.com/ui-components/assets/svg/collection.svg: cannot identify image file <_io.BytesIO object at 0x0000022030AA2840>\n",
      "Error al descargar https://assets-cdn.123rf.com/ui-components/assets/svg/collection.svg: cannot identify image file <_io.BytesIO object at 0x00000220311CB0B0>\n",
      "Error al descargar https://assets-cdn.123rf.com/ui-components/assets/svg/collection.svg: cannot identify image file <_io.BytesIO object at 0x0000022030AA0810>\n",
      "Error al descargar https://assets-cdn.123rf.com/ui-components/assets/svg/gradient/premium-crown-gradient2.svg: cannot identify image file <_io.BytesIO object at 0x0000022030AA33D0>\n"
     ]
    },
    {
     "name": "stderr",
     "output_type": "stream",
     "text": [
      "Procesando imágenes de https://es.123rf.com/imagenes-de-archivo/planta_de_rosa.html:  71%|███████   | 207/292 [00:04<00:01, 47.97it/s]"
     ]
    },
    {
     "name": "stdout",
     "output_type": "stream",
     "text": [
      "Error al descargar https://assets-cdn.123rf.com/ui-components/assets/svg/collection.svg: cannot identify image file <_io.BytesIO object at 0x0000022030AC6C50>\n",
      "Error al descargar https://assets-cdn.123rf.com/ui-components/assets/svg/collection.svg: cannot identify image file <_io.BytesIO object at 0x0000022032433EC0>\n",
      "Error al descargar https://assets-cdn.123rf.com/ui-components/assets/svg/gradient/premium-crown-gradient2.svg: cannot identify image file <_io.BytesIO object at 0x0000022031B60090>\n",
      "Error al descargar https://assets-cdn.123rf.com/ui-components/assets/svg/collection.svg: cannot identify image file <_io.BytesIO object at 0x0000022030AC7330>\n",
      "Error al descargar https://assets-cdn.123rf.com/ui-components/assets/svg/collection.svg: cannot identify image file <_io.BytesIO object at 0x0000022031B836F0>\n",
      "Error al descargar https://assets-cdn.123rf.com/ui-components/assets/svg/collection.svg: cannot identify image file <_io.BytesIO object at 0x0000022031B9E930>\n"
     ]
    },
    {
     "name": "stderr",
     "output_type": "stream",
     "text": [
      "Procesando imágenes de https://es.123rf.com/imagenes-de-archivo/planta_de_rosa.html:  74%|███████▍  | 217/292 [00:04<00:01, 46.28it/s]"
     ]
    },
    {
     "name": "stdout",
     "output_type": "stream",
     "text": [
      "Error al descargar https://assets-cdn.123rf.com/ui-components/assets/svg/collection.svg: cannot identify image file <_io.BytesIO object at 0x0000022031B83880>\n",
      "Error al descargar https://assets-cdn.123rf.com/ui-components/assets/svg/collection.svg: cannot identify image file <_io.BytesIO object at 0x0000022030AC4B30>\n",
      "Error al descargar https://assets-cdn.123rf.com/ui-components/assets/svg/collection.svg: cannot identify image file <_io.BytesIO object at 0x0000022031B82160>\n",
      "Error al descargar https://assets-cdn.123rf.com/ui-components/assets/svg/collection.svg: cannot identify image file <_io.BytesIO object at 0x0000022030DA08B0>\n",
      "Error al descargar https://assets-cdn.123rf.com/ui-components/assets/svg/gradient/premium-crown-gradient2.svg: cannot identify image file <_io.BytesIO object at 0x0000022030AC6A70>\n",
      "Error al descargar https://assets-cdn.123rf.com/ui-components/assets/svg/collection.svg: cannot identify image file <_io.BytesIO object at 0x00000220324312B0>\n"
     ]
    },
    {
     "name": "stderr",
     "output_type": "stream",
     "text": [
      "Procesando imágenes de https://es.123rf.com/imagenes-de-archivo/planta_de_rosa.html:  78%|███████▊  | 228/292 [00:05<00:01, 46.30it/s]"
     ]
    },
    {
     "name": "stdout",
     "output_type": "stream",
     "text": [
      "Error al descargar https://assets-cdn.123rf.com/ui-components/assets/svg/collection.svg: cannot identify image file <_io.BytesIO object at 0x0000022031B80860>\n",
      "Error al descargar https://assets-cdn.123rf.com/ui-components/assets/svg/collection.svg: cannot identify image file <_io.BytesIO object at 0x0000022031B9E930>\n",
      "Error al descargar https://assets-cdn.123rf.com/ui-components/assets/svg/collection.svg: cannot identify image file <_io.BytesIO object at 0x0000022031B82D40>\n",
      "Error al descargar https://assets-cdn.123rf.com/ui-components/assets/svg/gradient/premium-crown-gradient2.svg: cannot identify image file <_io.BytesIO object at 0x0000022030DA08B0>\n",
      "Error al descargar https://assets-cdn.123rf.com/ui-components/assets/svg/collection.svg: cannot identify image file <_io.BytesIO object at 0x0000022031B81A30>\n",
      "Error al descargar https://assets-cdn.123rf.com/ui-components/assets/svg/collection.svg: cannot identify image file <_io.BytesIO object at 0x0000022032430DB0>\n",
      "Error al descargar https://assets-cdn.123rf.com/ui-components/assets/svg/collection.svg: cannot identify image file <_io.BytesIO object at 0x0000022030AC7330>\n"
     ]
    },
    {
     "name": "stderr",
     "output_type": "stream",
     "text": [
      "Procesando imágenes de https://es.123rf.com/imagenes-de-archivo/planta_de_rosa.html:  80%|████████  | 234/292 [00:05<00:01, 46.36it/s]"
     ]
    },
    {
     "name": "stdout",
     "output_type": "stream",
     "text": [
      "Error al descargar https://assets-cdn.123rf.com/ui-components/assets/svg/collection.svg: cannot identify image file <_io.BytesIO object at 0x0000022031B812B0>\n",
      "Error al descargar https://assets-cdn.123rf.com/ui-components/assets/svg/collection.svg: cannot identify image file <_io.BytesIO object at 0x0000022030AA33D0>\n",
      "Error al descargar https://assets-cdn.123rf.com/ui-components/assets/svg/collection.svg: cannot identify image file <_io.BytesIO object at 0x0000022031B60090>\n",
      "Error al descargar https://assets-cdn.123rf.com/ui-components/assets/svg/collection.svg: cannot identify image file <_io.BytesIO object at 0x000002203119F0B0>\n"
     ]
    },
    {
     "name": "stderr",
     "output_type": "stream",
     "text": [
      "Procesando imágenes de https://es.123rf.com/imagenes-de-archivo/planta_de_rosa.html:  82%|████████▏ | 240/292 [00:05<00:01, 37.75it/s]"
     ]
    },
    {
     "name": "stdout",
     "output_type": "stream",
     "text": [
      "Error al descargar https://assets-cdn.123rf.com/ui-components/assets/svg/gradient/premium-crown-gradient2.svg: cannot identify image file <_io.BytesIO object at 0x0000022030AA0810>\n",
      "Error al descargar https://assets-cdn.123rf.com/ui-components/assets/svg/collection.svg: cannot identify image file <_io.BytesIO object at 0x0000022031B803B0>\n",
      "Error al descargar https://assets-cdn.123rf.com/ui-components/assets/svg/collection.svg: cannot identify image file <_io.BytesIO object at 0x0000022031B811C0>\n",
      "Error al descargar https://assets-cdn.123rf.com/ui-components/assets/svg/collection.svg: cannot identify image file <_io.BytesIO object at 0x000002203119EBB0>\n",
      "Error al descargar https://assets-cdn.123rf.com/ui-components/assets/svg/collection.svg: cannot identify image file <_io.BytesIO object at 0x0000022032430DB0>\n"
     ]
    },
    {
     "name": "stderr",
     "output_type": "stream",
     "text": [
      "Procesando imágenes de https://es.123rf.com/imagenes-de-archivo/planta_de_rosa.html:  87%|████████▋ | 254/292 [00:05<00:00, 44.97it/s]"
     ]
    },
    {
     "name": "stdout",
     "output_type": "stream",
     "text": [
      "Error al descargar https://assets-cdn.123rf.com/ui-components/assets/svg/collection.svg: cannot identify image file <_io.BytesIO object at 0x0000022030AA33D0>\n",
      "Error al descargar https://assets-cdn.123rf.com/ui-components/assets/svg/gradient/premium-crown-gradient2.svg: cannot identify image file <_io.BytesIO object at 0x0000022030AC7330>\n",
      "Error al descargar https://assets-cdn.123rf.com/ui-components/assets/svg/collection.svg: cannot identify image file <_io.BytesIO object at 0x00000220311CB0B0>\n",
      "Error al descargar https://assets-cdn.123rf.com/ui-components/assets/svg/collection.svg: cannot identify image file <_io.BytesIO object at 0x0000022031B811C0>\n",
      "Error al descargar https://assets-cdn.123rf.com/ui-components/assets/svg/collection.svg: cannot identify image file <_io.BytesIO object at 0x0000022030AC6C50>\n",
      "Error al descargar https://assets-cdn.123rf.com/ui-components/assets/svg/collection.svg: cannot identify image file <_io.BytesIO object at 0x0000022031B60090>\n"
     ]
    },
    {
     "name": "stderr",
     "output_type": "stream",
     "text": [
      "Procesando imágenes de https://es.123rf.com/imagenes-de-archivo/planta_de_rosa.html:  91%|█████████ | 265/292 [00:06<00:00, 38.11it/s]"
     ]
    },
    {
     "name": "stdout",
     "output_type": "stream",
     "text": [
      "Error al descargar https://assets-cdn.123rf.com/ui-components/assets/svg/gradient/premium-crown-gradient2.svg: cannot identify image file <_io.BytesIO object at 0x0000022030AA33D0>\n",
      "Error al descargar https://assets-cdn.123rf.com/ui-components/assets/svg/collection.svg: cannot identify image file <_io.BytesIO object at 0x0000022031B822A0>\n",
      "Error al descargar https://assets-cdn.123rf.com/ui-components/assets/svg/collection.svg: cannot identify image file <_io.BytesIO object at 0x0000022030AA0810>\n",
      "Error al descargar https://assets-cdn.123rf.com/ui-components/assets/svg/collection.svg: cannot identify image file <_io.BytesIO object at 0x000002203119F0B0>\n"
     ]
    },
    {
     "name": "stderr",
     "output_type": "stream",
     "text": [
      "Procesando imágenes de https://es.123rf.com/imagenes-de-archivo/planta_de_rosa.html:  92%|█████████▏| 270/292 [00:06<00:00, 35.51it/s]"
     ]
    },
    {
     "name": "stdout",
     "output_type": "stream",
     "text": [
      "Error al descargar https://assets-cdn.123rf.com/ui-components/assets/svg/collection.svg: cannot identify image file <_io.BytesIO object at 0x0000022030AC4B30>\n",
      "Error al descargar https://assets-cdn.123rf.com/ui-components/assets/svg/gradient/premium-crown-gradient2.svg: cannot identify image file <_io.BytesIO object at 0x00000220311CB0B0>\n",
      "Error al descargar https://assets-cdn.123rf.com/ui-components/assets/svg/collection.svg: cannot identify image file <_io.BytesIO object at 0x0000022032430DB0>\n",
      "Error al descargar https://assets-cdn.123rf.com/ui-components/assets/svg/collection.svg: cannot identify image file <_io.BytesIO object at 0x0000022030AC6A70>\n"
     ]
    },
    {
     "name": "stderr",
     "output_type": "stream",
     "text": [
      "Procesando imágenes de https://es.123rf.com/imagenes-de-archivo/planta_de_rosa.html:  96%|█████████▌| 280/292 [00:06<00:00, 36.21it/s]"
     ]
    },
    {
     "name": "stdout",
     "output_type": "stream",
     "text": [
      "Error al descargar https://assets-cdn.123rf.com/ui-components/assets/svg/collection.svg: cannot identify image file <_io.BytesIO object at 0x0000022030AC7330>\n",
      "Error al descargar https://assets-cdn.123rf.com/ui-components/assets/svg/collection.svg: cannot identify image file <_io.BytesIO object at 0x0000022030DA08B0>\n",
      "Error al descargar https://assets-cdn.123rf.com/ui-components/assets/svg/collection.svg: cannot identify image file <_io.BytesIO object at 0x0000022031B60090>\n",
      "Error al descargar https://assets-cdn.123rf.com/ui-components/assets/svg/collection.svg: cannot identify image file <_io.BytesIO object at 0x0000022031B818A0>\n",
      "Error al descargar https://assets-cdn.123rf.com/ui-components/assets/svg/collection.svg: cannot identify image file <_io.BytesIO object at 0x0000022031B9E930>\n",
      "Error al descargar https://assets-cdn.123rf.com/ui-components/assets/svg/chevron-down.svg: cannot identify image file <_io.BytesIO object at 0x0000022031B80EF0>\n"
     ]
    },
    {
     "name": "stderr",
     "output_type": "stream",
     "text": [
      "Procesando imágenes de https://es.123rf.com/imagenes-de-archivo/planta_de_rosa.html: 100%|██████████| 292/292 [00:06<00:00, 43.05it/s]"
     ]
    },
    {
     "name": "stdout",
     "output_type": "stream",
     "text": [
      "Error al descargar https://assets-cdn.123rf.com/ui-components/assets/svg/chevron-down.svg: cannot identify image file <_io.BytesIO object at 0x0000022030AA0810>\n",
      "Error al descargar https://assets-cdn.123rf.com/ui-components/assets/svg/chevron-down.svg: cannot identify image file <_io.BytesIO object at 0x0000022030AC6C50>\n",
      "Error al descargar https://assets-cdn.123rf.com/ui-components/assets/svg/chevron-down.svg: cannot identify image file <_io.BytesIO object at 0x000002203119F0B0>\n",
      "Error al descargar https://assets-cdn.123rf.com/ui-components/assets/svg/chevron-down.svg: cannot identify image file <_io.BytesIO object at 0x0000022030AA33D0>\n",
      "Error al descargar https://assets-cdn.123rf.com/ui-components/assets/svg/twitter-v2.svg: cannot identify image file <_io.BytesIO object at 0x000002203119EBB0>\n",
      "Error al descargar https://assets-cdn.123rf.com/ui-components/assets/svg/facebook.svg: cannot identify image file <_io.BytesIO object at 0x0000022030AA2840>\n",
      "Error al descargar https://assets-cdn.123rf.com/ui-components/assets/svg/instagram-v2.svg: cannot identify image file <_io.BytesIO object at 0x0000022032430B30>\n",
      "Error al descargar https://assets-cdn.123rf.com/ui-components/assets/svg/pinterest.svg: cannot identify image file <_io.BytesIO object at 0x0000022030AC6C50>\n",
      "Error al descargar https://assets-cdn.123rf.com/ui-components/assets/svg/whatsapp-v3.svg: cannot identify image file <_io.BytesIO object at 0x0000022030AC6A70>\n"
     ]
    },
    {
     "name": "stderr",
     "output_type": "stream",
     "text": [
      "\n",
      "Procesando imágenes de https://es.dreamstime.com/foto-de-archivo-planta-de-la-flor-del-rosa-salvaje-image47965576: 100%|██████████| 32/32 [00:01<00:00, 21.98it/s]\n",
      "Procesando imágenes de https://www.ecologiaverde.com/flores-rosas-4138.html: 100%|██████████| 26/26 [00:01<00:00, 14.92it/s]\n",
      "Procesando imágenes de https://www.pexels.com/es-es/buscar/rosas%20rosadas/: 0it [00:00, ?it/s]\n",
      "Procesando imágenes de https://es.pngtree.com/so/rosa: 0it [00:00, ?it/s]\n",
      "Procesando imágenes de https://pxhere.com/es/photo/1606296:  56%|█████▌    | 10/18 [00:01<00:00,  9.97it/s]\n"
     ]
    },
    {
     "name": "stdout",
     "output_type": "stream",
     "text": [
      "Clase 'rosa' completada: 40 para entrenamiento, 10 para validación.\n"
     ]
    }
   ],
   "source": [
    "# Ejecutar el proceso\n",
    "dividir_y_organizar_datos(clases, max_imagenes=IMAGENES_POR_CLASE)"
   ]
  },
  {
   "cell_type": "code",
   "execution_count": null,
   "metadata": {},
   "outputs": [],
   "source": [
    "# Mostrar la estructura de directorios resultante"
   ]
  }
 ],
 "metadata": {
  "kernelspec": {
   "display_name": "entorno_Pytorch",
   "language": "python",
   "name": "python3"
  },
  "language_info": {
   "codemirror_mode": {
    "name": "ipython",
    "version": 3
   },
   "file_extension": ".py",
   "mimetype": "text/x-python",
   "name": "python",
   "nbconvert_exporter": "python",
   "pygments_lexer": "ipython3",
   "version": "3.10.11"
  }
 },
 "nbformat": 4,
 "nbformat_minor": 2
}
