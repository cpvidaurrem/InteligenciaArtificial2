{
 "cells": [
  {
   "cell_type": "code",
   "execution_count": 1,
   "metadata": {},
   "outputs": [],
   "source": [
    "import requests # libreria para hacer peticiones http\n",
    "from bs4 import BeautifulSoup # libreria para hacer web scraping"
   ]
  },
  {
   "cell_type": "code",
   "execution_count": null,
   "metadata": {},
   "outputs": [
    {
     "name": "stderr",
     "output_type": "stream",
     "text": [
      "c:\\NC\\Universidad\\6° Semestre\\SIS421 (INTELIGENCIA ARTIFICIAL II)\\Notebooks\\entorno_Pytorch\\lib\\site-packages\\urllib3\\connectionpool.py:1099: InsecureRequestWarning: Unverified HTTPS request is being made to host 'usfx.bo'. Adding certificate verification is strongly advised. See: https://urllib3.readthedocs.io/en/latest/advanced-usage.html#tls-warnings\n",
      "  warnings.warn(\n"
     ]
    }
   ],
   "source": [
    "# URL del sitio web\n",
    "url = \"https://usfx.bo/documentos-usfx/\" # URL de la página web que se analizara\n",
    "\n",
    "response = requests.get(url, verify= False) # Realizar la solicitud HTTP a la URL\n",
    "\n",
    "# Analizar el HTML de la página\n",
    "soup = BeautifulSoup(response.text, 'html.parser') "
   ]
  },
  {
   "cell_type": "code",
   "execution_count": null,
   "metadata": {},
   "outputs": [
    {
     "name": "stdout",
     "output_type": "stream",
     "text": [
      "Petición exitosa\n",
      "DOCUMENTOS USFX Nº 4\n",
      "En la presente oportunidad, la Revista presenta una distribución con campos temáticos y lecturas muy apropiadas que invitan a ser analizadas y debatidas por su alto grado de reflexión en torno a la situación jurídica en nuestro país.\n",
      "El lector podrá encontrar artículos actuales y muy interesantes: “ El sistema judicial en crisis terminal”, “Federalismo Judicial en Bolivia”, “La Formación Judicial: Dialogo necesario entre las facultades de Derecho, del Sistema Universitario”, “La Justicia Digital en el Estado Plurinacional de Bolivia: Una Herramienta para la transformación del Sistema Judicial”,\n",
      "“Derecho a la paz y democracia, Teoría del Conflicto” y “La Diplomacia en el siglo XXI”.\n",
      "Finalmente, es importante hacer hincapié que el propósito de este tipo de publicaciones es generar conocimiento y crear la costumbre en los docentes de las diferentes carreras, quienes puedan expresar sus conocimientos en las distintas áreas para ampliar y difundir\n",
      "sus conocimientos y criterios jurídicos.\n",
      "La presente publicación es en conmemoración y homenaje a los 343 años de vida de la Facultad de Derecho, Ciencias Políticas y Sociales y a todos sus docentes, quienes participaron en la elaboración de los diferentes artículos que componen este tercer número de la Revista “Documentos”.\n",
      "https://usfx.bo/Documentos/DOCUMENTOS_USFX_No4.pdf\n",
      "DOCUMENTOS USFX Nº 3\n",
      "Un estudio sea este de investigación, proyecto o cualquier otro documento debe estar direccionado a las políticas del Estado Plurinacional de Bolivia, según a la forma de organización que está rigiendo al país bajo un modelo de economía plural, es importante\n",
      "mencionar que la organización económica de Bolivia según la Constitución Política del Estado Plurinacional de Bolivia, plantea como forma de organización a la economía comunitaria, el cual, está reconocido por el ordenamiento jurídico y regulado por un conjunto de\n",
      "normas jurídicas en función de determinados fines comunes; la Organización Económica Estatal que comprende a las empresas y otras entidades económicas de propiedad estatal que administren: Los recursos naturales, su cadena productiva y los procesos de industrialización; Los servicios básicos de agua potable y alcantarillado; la Organización económica privada, donde el estado reconoce, respeta y protege la iniciativa privada, para\n",
      "que contribuya al desarrollo económico, social y fortalezca la independencia económica del país y la Organización económica cooperativa, donde se señala que la cooperativa es una sociedad constituida por personas que se asocian, en régimen de adhesión voluntaria, para la realización de actividades empresariales encaminadas a satisfacer sus necesidades y aspiraciones económicas, sociales con estructura y funcionamiento democrático.\n",
      "https://usfx.bo/Documentos/Documentos_USFX_N3.pdf\n",
      "DOCUMENTOS USFX Nº 2\n",
      "La UMRPSFXCH anualmente realiza la oferta, de plazas, para sus diferentes carreras (anualizadas y semestralizadas) y emite las convocatorias de acuerdo a lo establecido en sus diseños curriculares y/o resoluciones expresas para el efecto, posibilitando la postulación y admisión de estudiantes bachilleres a través de sus diferentes modalidades de admisión.\n",
      "Entre sus modalidades más importantes de ingreso están el Curso Preuniversitarios y el Examen de Admisión directo. Estas dos modalidades son las que tienen una mayor participación de postulación y admisión de nuevos estudiantes y se constituyen en los mecanismos más importantes de la matrícula para las diferentes carreras de la Universidad.\n",
      "Las asignaturas contempladas para las dos modalidades de admisión, en la gestión 2024, fueron Matemáticas, Lenguaje y Literatura, Ciencias Sociales, Filosofía, Biología, Física y Química, de acuerdo a lo establecido en cada una de las carreras, la Facultad y el Área de conocimiento de la Universidad. Para la presente gestión se elaboraron textos guía para cada una de las siete asignaturas, constituyéndose en material educativo fundamental para los postulantes y facilitadores del curso Preuniversitario.\n",
      "https://usfx.bo/Documentos/Documentos_USFX_Ranking_de_Estudiantes.pdf\n",
      "DOCUMENTOS USFX Nº 1\n",
      "La investigación científica forma parte de las acciones institucionales más importantes de la Universidad Mayor, Real y Pontificia de San Francisco Xavier de Chuquisaca; en ese orden, enfoca su atención en la formación científica y la difusión de artículos de investigación, como ejes transversales que acompañan el avance curricular y el desarrollo del departamento.\n",
      "En tal sentido, la actividad científica -al no ser un fin en sí mismo- debe responder a objetivos y planes estratégicos de desarrollo, ligados a los más importantes desafíos que demanda Chuquisaca y Bolivia.\n",
      "Los estudios que lleva adelante la comunidad universitaria requieren de canales de divulgación de alcance masivo que promuevan el debate, la reflexión y la toma de decisiones por parte de la Universidad y las instituciones locales; en ese sentido, se tomó la decisión de publicar la revista de divulgación científica, DOCUMENTOS USFX, que tiene como propósito fundamental socializar los artículos de docentes y estudiantes que planten propuestas concretas referidas a tópicos del desarrollo departamental.\n",
      "En este primer número, se publican artículos elaborados por destacados docentes de la Universidad de San Francisco Xavier, que refuerzan su dominio teórico sobre las áreas que les compete, con su experiencia laboral que, entre otras cosas, está caracterizada por\n",
      "su eficiencia y eficacia en el ejercicios profesional, lo que da pertinencia académica a sus artículos como valiosos aportes a la reconducción de las estrategias de desarrollo que requiere Chuquisaca.\n",
      "https://usfx.bo/Documentos/DOCUMENTOS_USFX_N1.pdf\n",
      "['https://usfx.bo/Documentos/DOCUMENTOS_USFX_No4.pdf', 'https://usfx.bo/Documentos/Documentos_USFX_N3.pdf', 'https://usfx.bo/Documentos/Documentos_USFX_Ranking_de_Estudiantes.pdf', 'https://usfx.bo/Documentos/DOCUMENTOS_USFX_N1.pdf']\n"
     ]
    },
    {
     "name": "stderr",
     "output_type": "stream",
     "text": [
      "c:\\NC\\Universidad\\6° Semestre\\SIS421 (INTELIGENCIA ARTIFICIAL II)\\Notebooks\\entorno_Pytorch\\lib\\site-packages\\urllib3\\connectionpool.py:1099: InsecureRequestWarning: Unverified HTTPS request is being made to host 'usfx.bo'. Adding certificate verification is strongly advised. See: https://urllib3.readthedocs.io/en/latest/advanced-usage.html#tls-warnings\n",
      "  warnings.warn(\n",
      "c:\\NC\\Universidad\\6° Semestre\\SIS421 (INTELIGENCIA ARTIFICIAL II)\\Notebooks\\entorno_Pytorch\\lib\\site-packages\\urllib3\\connectionpool.py:1099: InsecureRequestWarning: Unverified HTTPS request is being made to host 'usfx.bo'. Adding certificate verification is strongly advised. See: https://urllib3.readthedocs.io/en/latest/advanced-usage.html#tls-warnings\n",
      "  warnings.warn(\n",
      "c:\\NC\\Universidad\\6° Semestre\\SIS421 (INTELIGENCIA ARTIFICIAL II)\\Notebooks\\entorno_Pytorch\\lib\\site-packages\\urllib3\\connectionpool.py:1099: InsecureRequestWarning: Unverified HTTPS request is being made to host 'usfx.bo'. Adding certificate verification is strongly advised. See: https://urllib3.readthedocs.io/en/latest/advanced-usage.html#tls-warnings\n",
      "  warnings.warn(\n",
      "c:\\NC\\Universidad\\6° Semestre\\SIS421 (INTELIGENCIA ARTIFICIAL II)\\Notebooks\\entorno_Pytorch\\lib\\site-packages\\urllib3\\connectionpool.py:1099: InsecureRequestWarning: Unverified HTTPS request is being made to host 'usfx.bo'. Adding certificate verification is strongly advised. See: https://urllib3.readthedocs.io/en/latest/advanced-usage.html#tls-warnings\n",
      "  warnings.warn(\n"
     ]
    }
   ],
   "source": [
    "if response.status_code == 200: # Si la petición fue exitosa\n",
    "    print('Petición exitosa')\n",
    "    documentos = soup.find_all('div', class_= 'et_pb_text_inner') # Buscar todos los elementos div con la clase et_pb_text_inner\n",
    "    nombres_documentos = [] # Lista para guardar los nombres de los documentos\n",
    "    links_pdf = [] # Lista para guardar los links de los documentos en pdf\n",
    "\n",
    "    for documento in documentos: # Recorrer todos los documentos\n",
    "        nombre_documento = documento.find('h3') # Buscar el elemento h3 que contiene el nombre del documento\n",
    "        descripcion_documento = documento.find('p') # Buscar el elemento p que contiene la descripción del documento\n",
    "        \n",
    "        if nombre_documento: # Si se encontró el nombre del documento \n",
    "            nombres_documentos.append(nombre_documento.text.strip()) # Guardar el nombre del documento en la lista nombres_documentos\n",
    "            print(nombre_documento.text.strip()) # Imprimir el nombre del documento\n",
    "            print(descripcion_documento.text.strip()) # Imprimir la descripción del documento\n",
    "            \n",
    "        else:\n",
    "            pdf_documento = documento.find('a').get('href') # Buscar el link del documento en pdf y \n",
    "            links_pdf.append(pdf_documento) # Guardar el link del documento en pdf en la lista links_pdf\n",
    "            print(pdf_documento) # Imprimir el link del documento en pdf\n",
    "            \n",
    "    print(links_pdf) # Imprimir la lista de links de los documentos en pdf\n",
    "    \n",
    "    def guardar_pdf(url, i):\n",
    "        r = requests.get(url, verify= False)\n",
    "        with open('pdf_descarga/' + nombres_documentos[i]+'.pdf', 'wb') as f:\n",
    "            f.write(r.content)\n",
    "    \n",
    "\n",
    "    for i in range(len(links_pdf)):\n",
    "        guardar_pdf(links_pdf[i], i)\n",
    "\n",
    "    \n",
    "else:\n",
    "    print('Error al hacer la petición') # Si la petición no fue exitosa"
   ]
  }
 ],
 "metadata": {
  "kernelspec": {
   "display_name": "entorno_Pytorch",
   "language": "python",
   "name": "python3"
  },
  "language_info": {
   "codemirror_mode": {
    "name": "ipython",
    "version": 3
   },
   "file_extension": ".py",
   "mimetype": "text/x-python",
   "name": "python",
   "nbconvert_exporter": "python",
   "pygments_lexer": "ipython3",
   "version": "3.10.11"
  }
 },
 "nbformat": 4,
 "nbformat_minor": 2
}
